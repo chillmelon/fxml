{
 "cells": [
  {
   "cell_type": "code",
   "execution_count": 1,
   "id": "c95108f9-e2e1-4313-aff0-74d765c01c4b",
   "metadata": {},
   "outputs": [],
   "source": [
    "import pandas as pd\n",
    "import matplotlib.pyplot as plt\n",
    "from matplotlib.ticker import FormatStrFormatter\n",
    "\n",
    "import os"
   ]
  },
  {
   "cell_type": "code",
   "execution_count": 2,
   "id": "34e4b11f-537a-4f0e-a457-32559834c007",
   "metadata": {},
   "outputs": [],
   "source": [
    "from pathlib import Path\n",
    "\n",
    "# Configurable parts\n",
    "SOURCE = \"dukascopy\"\n",
    "SYMBOL = \"usdjpy\"\n",
    "MINUTES = 1\n",
    "START_DATE = \"2020-01-01\"\n",
    "END_DATE = \"2024-12-31\"\n",
    "\n",
    "# Build base name\n",
    "BASE_NAME = f\"{SOURCE}-{SYMBOL}-tick-{START_DATE}-{END_DATE}\"\n",
    "RESAMPLED_NAME = f\"{SOURCE}-{SYMBOL}-{MINUTES}m-{START_DATE}-{END_DATE}\"\n",
    "# Base directories\n",
    "BASE_DIR = Path(\"../data\")\n",
    "RESAMPLED_DIR = BASE_DIR / \"resampled\"\n",
    "PROCESSED_DIR = BASE_DIR / \"processed\"\n",
    "\n",
    "# Final paths\n",
    "RESAMPLED_FILE_PATH = RESAMPLED_DIR / f\"{RESAMPLED_NAME}.pkl\"\n",
    "PROCESSED_FILE_PATH = PROCESSED_DIR / f\"{RESAMPLED_NAME}_processed.pkl\""
   ]
  },
  {
   "cell_type": "code",
   "execution_count": 3,
   "id": "01d9111d-0636-4b9a-8944-07840ef6fc46",
   "metadata": {
    "scrolled": true
   },
   "outputs": [
    {
     "data": {
      "text/html": [
       "<div>\n",
       "<style scoped>\n",
       "    .dataframe tbody tr th:only-of-type {\n",
       "        vertical-align: middle;\n",
       "    }\n",
       "\n",
       "    .dataframe tbody tr th {\n",
       "        vertical-align: top;\n",
       "    }\n",
       "\n",
       "    .dataframe thead th {\n",
       "        text-align: right;\n",
       "    }\n",
       "</style>\n",
       "<table border=\"1\" class=\"dataframe\">\n",
       "  <thead>\n",
       "    <tr style=\"text-align: right;\">\n",
       "      <th></th>\n",
       "      <th>timestamp</th>\n",
       "      <th>open</th>\n",
       "      <th>high</th>\n",
       "      <th>low</th>\n",
       "      <th>close</th>\n",
       "      <th>volume</th>\n",
       "      <th>spread</th>\n",
       "    </tr>\n",
       "  </thead>\n",
       "  <tbody>\n",
       "    <tr>\n",
       "      <th>0</th>\n",
       "      <td>2020-01-01 22:00:00</td>\n",
       "      <td>108.7580</td>\n",
       "      <td>108.7600</td>\n",
       "      <td>108.7580</td>\n",
       "      <td>108.7590</td>\n",
       "      <td>9179.999948</td>\n",
       "      <td>0.060667</td>\n",
       "    </tr>\n",
       "    <tr>\n",
       "      <th>1</th>\n",
       "      <td>2020-01-01 22:01:00</td>\n",
       "      <td>108.7570</td>\n",
       "      <td>108.7590</td>\n",
       "      <td>108.7495</td>\n",
       "      <td>108.7495</td>\n",
       "      <td>13300.000012</td>\n",
       "      <td>0.060333</td>\n",
       "    </tr>\n",
       "    <tr>\n",
       "      <th>2</th>\n",
       "      <td>2020-01-01 22:02:00</td>\n",
       "      <td>108.7495</td>\n",
       "      <td>108.7535</td>\n",
       "      <td>108.7495</td>\n",
       "      <td>108.7535</td>\n",
       "      <td>4500.000000</td>\n",
       "      <td>0.058667</td>\n",
       "    </tr>\n",
       "    <tr>\n",
       "      <th>3</th>\n",
       "      <td>2020-01-01 22:03:00</td>\n",
       "      <td>108.7540</td>\n",
       "      <td>108.7555</td>\n",
       "      <td>108.7535</td>\n",
       "      <td>108.7555</td>\n",
       "      <td>10490.000010</td>\n",
       "      <td>0.059857</td>\n",
       "    </tr>\n",
       "    <tr>\n",
       "      <th>4</th>\n",
       "      <td>2020-01-01 22:04:00</td>\n",
       "      <td>108.7575</td>\n",
       "      <td>108.7650</td>\n",
       "      <td>108.7555</td>\n",
       "      <td>108.7650</td>\n",
       "      <td>11600.000024</td>\n",
       "      <td>0.055100</td>\n",
       "    </tr>\n",
       "  </tbody>\n",
       "</table>\n",
       "</div>"
      ],
      "text/plain": [
       "            timestamp      open      high       low     close        volume  \\\n",
       "0 2020-01-01 22:00:00  108.7580  108.7600  108.7580  108.7590   9179.999948   \n",
       "1 2020-01-01 22:01:00  108.7570  108.7590  108.7495  108.7495  13300.000012   \n",
       "2 2020-01-01 22:02:00  108.7495  108.7535  108.7495  108.7535   4500.000000   \n",
       "3 2020-01-01 22:03:00  108.7540  108.7555  108.7535  108.7555  10490.000010   \n",
       "4 2020-01-01 22:04:00  108.7575  108.7650  108.7555  108.7650  11600.000024   \n",
       "\n",
       "     spread  \n",
       "0  0.060667  \n",
       "1  0.060333  \n",
       "2  0.058667  \n",
       "3  0.059857  \n",
       "4  0.055100  "
      ]
     },
     "execution_count": 3,
     "metadata": {},
     "output_type": "execute_result"
    }
   ],
   "source": [
    "df = pd.read_pickle(RESAMPLED_FILE_PATH)\n",
    "df.head()"
   ]
  },
  {
   "cell_type": "code",
   "execution_count": 4,
   "id": "83b50527-d76a-4cb0-a170-c76f1e1a40e3",
   "metadata": {},
   "outputs": [
    {
     "data": {
      "text/html": [
       "<div>\n",
       "<style scoped>\n",
       "    .dataframe tbody tr th:only-of-type {\n",
       "        vertical-align: middle;\n",
       "    }\n",
       "\n",
       "    .dataframe tbody tr th {\n",
       "        vertical-align: top;\n",
       "    }\n",
       "\n",
       "    .dataframe thead th {\n",
       "        text-align: right;\n",
       "    }\n",
       "</style>\n",
       "<table border=\"1\" class=\"dataframe\">\n",
       "  <thead>\n",
       "    <tr style=\"text-align: right;\">\n",
       "      <th></th>\n",
       "      <th>open</th>\n",
       "      <th>high</th>\n",
       "      <th>low</th>\n",
       "      <th>close</th>\n",
       "      <th>volume</th>\n",
       "      <th>spread</th>\n",
       "    </tr>\n",
       "    <tr>\n",
       "      <th>timestamp</th>\n",
       "      <th></th>\n",
       "      <th></th>\n",
       "      <th></th>\n",
       "      <th></th>\n",
       "      <th></th>\n",
       "      <th></th>\n",
       "    </tr>\n",
       "  </thead>\n",
       "  <tbody>\n",
       "    <tr>\n",
       "      <th>2020-01-01 22:00:00</th>\n",
       "      <td>108.7580</td>\n",
       "      <td>108.7600</td>\n",
       "      <td>108.7580</td>\n",
       "      <td>108.7590</td>\n",
       "      <td>9179.999948</td>\n",
       "      <td>0.060667</td>\n",
       "    </tr>\n",
       "    <tr>\n",
       "      <th>2020-01-01 22:01:00</th>\n",
       "      <td>108.7570</td>\n",
       "      <td>108.7590</td>\n",
       "      <td>108.7495</td>\n",
       "      <td>108.7495</td>\n",
       "      <td>13300.000012</td>\n",
       "      <td>0.060333</td>\n",
       "    </tr>\n",
       "    <tr>\n",
       "      <th>2020-01-01 22:02:00</th>\n",
       "      <td>108.7495</td>\n",
       "      <td>108.7535</td>\n",
       "      <td>108.7495</td>\n",
       "      <td>108.7535</td>\n",
       "      <td>4500.000000</td>\n",
       "      <td>0.058667</td>\n",
       "    </tr>\n",
       "    <tr>\n",
       "      <th>2020-01-01 22:03:00</th>\n",
       "      <td>108.7540</td>\n",
       "      <td>108.7555</td>\n",
       "      <td>108.7535</td>\n",
       "      <td>108.7555</td>\n",
       "      <td>10490.000010</td>\n",
       "      <td>0.059857</td>\n",
       "    </tr>\n",
       "    <tr>\n",
       "      <th>2020-01-01 22:04:00</th>\n",
       "      <td>108.7575</td>\n",
       "      <td>108.7650</td>\n",
       "      <td>108.7555</td>\n",
       "      <td>108.7650</td>\n",
       "      <td>11600.000024</td>\n",
       "      <td>0.055100</td>\n",
       "    </tr>\n",
       "  </tbody>\n",
       "</table>\n",
       "</div>"
      ],
      "text/plain": [
       "                         open      high       low     close        volume  \\\n",
       "timestamp                                                                   \n",
       "2020-01-01 22:00:00  108.7580  108.7600  108.7580  108.7590   9179.999948   \n",
       "2020-01-01 22:01:00  108.7570  108.7590  108.7495  108.7495  13300.000012   \n",
       "2020-01-01 22:02:00  108.7495  108.7535  108.7495  108.7535   4500.000000   \n",
       "2020-01-01 22:03:00  108.7540  108.7555  108.7535  108.7555  10490.000010   \n",
       "2020-01-01 22:04:00  108.7575  108.7650  108.7555  108.7650  11600.000024   \n",
       "\n",
       "                       spread  \n",
       "timestamp                      \n",
       "2020-01-01 22:00:00  0.060667  \n",
       "2020-01-01 22:01:00  0.060333  \n",
       "2020-01-01 22:02:00  0.058667  \n",
       "2020-01-01 22:03:00  0.059857  \n",
       "2020-01-01 22:04:00  0.055100  "
      ]
     },
     "execution_count": 4,
     "metadata": {},
     "output_type": "execute_result"
    }
   ],
   "source": [
    "df['timestamp'] = pd.to_datetime(df['timestamp'], unit='ms')\n",
    "\n",
    "df = df.set_index('timestamp')\n",
    "\n",
    "df.head()"
   ]
  },
  {
   "cell_type": "markdown",
   "id": "eed5a60c-1aee-40fa-b591-833886d569c8",
   "metadata": {},
   "source": [
    "## Datetime conversion"
   ]
  },
  {
   "cell_type": "markdown",
   "id": "1582930c-fa55-4f18-9a4f-0f2c298b333f",
   "metadata": {},
   "source": [
    "Dukascopy use UTC timezone"
   ]
  },
  {
   "cell_type": "markdown",
   "id": "d180acbf-3848-4bad-b017-f36641fe5338",
   "metadata": {
    "scrolled": true
   },
   "source": [
    "df['timestamp'] = pd.to_datetime(df['timestamp'])\n",
    "df = df.sort_values('timestamp').reset_index(drop=True)\n",
    "\n",
    "df"
   ]
  },
  {
   "cell_type": "markdown",
   "id": "7ad29863-4786-4df4-910a-fa24412b6509",
   "metadata": {},
   "source": [
    "## Data Exloration"
   ]
  },
  {
   "cell_type": "code",
   "execution_count": 5,
   "id": "0167ef1d-ce7a-4235-8a9a-7307b9a370e9",
   "metadata": {
    "scrolled": true
   },
   "outputs": [
    {
     "data": {
      "image/png": "[encoded data removed]",
      "text/plain": [
       "<Figure size 1000x500 with 1 Axes>"
      ]
     },
     "metadata": {},
     "output_type": "display_data"
    }
   ],
   "source": [
    "import matplotlib.pyplot as plt\n",
    "\n",
    "# Assuming your DataFrame is named df and 'timestamp' is datetime type\n",
    "plt.figure(figsize=(10, 5))\n",
    "plt.plot(df.index, df['close'], label='Close Price')\n",
    "\n",
    "plt.title('Close Price Over Time')\n",
    "plt.xlabel('Time')\n",
    "plt.ylabel('Price')\n",
    "plt.grid(True)\n",
    "plt.legend()\n",
    "plt.tight_layout()\n",
    "plt.show()\n"
   ]
  },
  {
   "cell_type": "code",
   "execution_count": 6,
   "id": "6c823732-a2f4-40dd-9725-cf7abafb8fac",
   "metadata": {
    "scrolled": true
   },
   "outputs": [
    {
     "data": {
      "image/png": "[encoded data removed]",
      "text/plain": [
       "<Figure size 1000x500 with 1 Axes>"
      ]
     },
     "metadata": {},
     "output_type": "display_data"
    }
   ],
   "source": [
    "import matplotlib.pyplot as plt\n",
    "\n",
    "# Assuming your DataFrame is named df and 'timestamp' is datetime type\n",
    "plt.figure(figsize=(10, 5))\n",
    "plt.plot(df.index, df['volume'], label='Volume')\n",
    "\n",
    "plt.title('Volume Over Time')\n",
    "plt.xlabel('Time')\n",
    "plt.ylabel('Volume')\n",
    "plt.grid(True)\n",
    "plt.legend()\n",
    "plt.tight_layout()\n",
    "plt.show()\n"
   ]
  },
  {
   "cell_type": "code",
   "execution_count": 7,
   "id": "9836bf69-88cf-4728-8b25-3b5e05c89bc9",
   "metadata": {},
   "outputs": [
    {
     "data": {
      "text/plain": [
       "open      0.0\n",
       "high      0.0\n",
       "low       0.0\n",
       "close     0.0\n",
       "volume    0.0\n",
       "spread    0.0\n",
       "dtype: float64"
      ]
     },
     "execution_count": 7,
     "metadata": {},
     "output_type": "execute_result"
    }
   ],
   "source": [
    "df.isna().sum() / df.shape[0]"
   ]
  },
  {
   "cell_type": "markdown",
   "id": "eba95688-4eeb-45a5-9fb0-3fc72733258e",
   "metadata": {},
   "source": [
    "# Volume Feature Engineering"
   ]
  },
  {
   "cell_type": "code",
   "execution_count": 8,
   "id": "ead78aba-00f4-461d-a540-a4819c473b6d",
   "metadata": {
    "scrolled": true
   },
   "outputs": [
    {
     "data": {
      "image/png": "[encoded data removed]",
      "text/plain": [
       "<Figure size 1000x500 with 1 Axes>"
      ]
     },
     "metadata": {},
     "output_type": "display_data"
    }
   ],
   "source": [
    "import matplotlib.pyplot as plt\n",
    "\n",
    "plt.figure(figsize=(10, 5))\n",
    "plt.hist(df['volume'], bins=50, alpha=0.7, color='skyblue', edgecolor='black')\n",
    "\n",
    "plt.title('Distribution of Volume')\n",
    "plt.xlabel('Tick Volume')\n",
    "plt.ylabel('Frequency')\n",
    "plt.grid(True)\n",
    "plt.tight_layout()\n",
    "plt.show()\n"
   ]
  },
  {
   "cell_type": "code",
   "execution_count": 9,
   "id": "34716360-be49-4096-8862-7b79787c0c23",
   "metadata": {},
   "outputs": [],
   "source": [
    "import numpy as np\n",
    "df['log_volume'] = np.log1p(df['volume'])"
   ]
  },
  {
   "cell_type": "code",
   "execution_count": 10,
   "id": "79a252ef-f39e-4e55-acdf-0bddc729491c",
   "metadata": {
    "scrolled": true
   },
   "outputs": [
    {
     "data": {
      "image/png": "[encoded data removed]",
      "text/plain": [
       "<Figure size 1000x500 with 1 Axes>"
      ]
     },
     "metadata": {},
     "output_type": "display_data"
    }
   ],
   "source": [
    "import matplotlib.pyplot as plt\n",
    "\n",
    "plt.figure(figsize=(10, 5))\n",
    "plt.hist(df['log_volume'], bins=50, alpha=0.7, color='skyblue', edgecolor='black')\n",
    "\n",
    "plt.title('Distribution of Volume')\n",
    "plt.xlabel('Volume')\n",
    "plt.ylabel('Frequency')\n",
    "plt.grid(True)\n",
    "plt.tight_layout()\n",
    "plt.show()\n"
   ]
  },
  {
   "cell_type": "markdown",
   "id": "425a812f-4ece-4adf-9622-4ae75ec014a2",
   "metadata": {},
   "source": [
    "# Feature engineering"
   ]
  },
  {
   "cell_type": "markdown",
   "id": "65edf050-c6ba-41c3-acd9-46c050b1d629",
   "metadata": {},
   "source": [
    "## Add delta and return"
   ]
  },
  {
   "cell_type": "markdown",
   "id": "4da23689-53ad-4687-afcb-24ac64cd9a6c",
   "metadata": {},
   "source": [
    "The original price data is non-stationary, we can convert it into stationary data by calculating the difference between each timeframe as *delta* value.\n",
    "And we are also adding *return* values that indicates the percentage of grow/drop from the last timeframe.\n",
    "We will do the following process:\n",
    "1. calculate delta and returns within each timegroup, note that this will result in adding 1 NaN value for each time group and will be dropped later on.\n",
    "2. labeling the moving **direction** for each row based on the **return** and a given **threshold**\n",
    "    ```\n",
    "    'up' if x > threshold else ('down' if x < -threshold else 'flat')\n",
    "    ```\n",
    "3. use a global encoder to encode the **direction**, this column will later on be used as target to train our model."
   ]
  },
  {
   "cell_type": "code",
   "execution_count": 11,
   "id": "7c8921aa-3944-4d60-9eab-e54cd8a18054",
   "metadata": {},
   "outputs": [],
   "source": [
    "import pandas as pd\n",
    "import numpy as np\n",
    "\n",
    "def add_return_features(df: pd.DataFrame, price_col: str = 'close') -> pd.DataFrame:\n",
    "    \"\"\"\n",
    "    Adds delta, simple return, and log return columns based on a single price column.\n",
    "\n",
    "    Args:\n",
    "        df (pd.DataFrame): Input DataFrame with a price column.\n",
    "        price_col (str): Column name containing price values (default = 'close').\n",
    "\n",
    "    Returns:\n",
    "        pd.DataFrame: DataFrame with added columns:\n",
    "            - {price_col}_delta\n",
    "            - {price_col}_return\n",
    "            - {price_col}_log_return\n",
    "    \"\"\"\n",
    "    df = df.copy()\n",
    "    df[f\"{price_col}_delta\"] = df[price_col] - df[price_col].shift(1)\n",
    "    df[f\"{price_col}_return\"] = df[price_col] / df[price_col].shift(1) - 1\n",
    "    df[f\"{price_col}_log_return\"] = np.log(df[price_col] / df[price_col].shift(1))\n",
    "\n",
    "    df.replace([np.inf, -np.inf], np.nan, inplace=True)\n",
    "    return df\n"
   ]
  },
  {
   "cell_type": "code",
   "execution_count": 12,
   "id": "d7c4f53f-895b-4b50-8fd6-dffd0ad8ac05",
   "metadata": {},
   "outputs": [],
   "source": [
    "df = add_return_features(df)"
   ]
  },
  {
   "cell_type": "markdown",
   "id": "940bef2d-2bd9-43fe-b842-f26482540b47",
   "metadata": {},
   "source": [
    "## Plot histgram"
   ]
  },
  {
   "cell_type": "code",
   "execution_count": 13,
   "id": "56bd9399-ebda-475f-a585-0d004b221db0",
   "metadata": {},
   "outputs": [
    {
     "data": {
      "image/png": "[encoded data removed]",
      "text/plain": [
       "<Figure size 1000x500 with 1 Axes>"
      ]
     },
     "metadata": {},
     "output_type": "display_data"
    }
   ],
   "source": [
    "import seaborn as sns\n",
    "\n",
    "df_copy = df.copy()\n",
    "\n",
    "low, high = df_copy['close_delta'].quantile([0.025, 0.975])  # 95% range\n",
    "\n",
    "plt.figure(figsize=(10, 5))\n",
    "sns.histplot(df_copy['close_delta'])\n",
    "plt.title(\"Distribution of Close Price Delta(Zoomed)\")\n",
    "plt.xlabel(\"Close Price Delta\")\n",
    "plt.ylabel(\"Frequency\")\n",
    "plt.xlim(low, high)\n",
    "plt.tight_layout()\n",
    "plt.show()"
   ]
  },
  {
   "cell_type": "code",
   "execution_count": 14,
   "id": "97243611-39f8-4a4e-a2bf-2de5ec9449db",
   "metadata": {
    "scrolled": true
   },
   "outputs": [
    {
     "data": {
      "image/png": "[encoded data removed]",
      "text/plain": [
       "<Figure size 1000x500 with 1 Axes>"
      ]
     },
     "metadata": {},
     "output_type": "display_data"
    }
   ],
   "source": [
    "df_copy = df.copy()\n",
    "\n",
    "low, high = (df_copy['close_return']*1000).quantile([0.025, 0.975])  # 95% range\n",
    "\n",
    "plt.figure(figsize=(10, 5))\n",
    "sns.histplot(df_copy['close_return']*1000)\n",
    "plt.title(\"Distribution of Close Percentage Change (Zoomed)\")\n",
    "plt.xlabel(\"Close Price Percentage Change\")\n",
    "plt.ylabel(\"Frequency\")\n",
    "plt.xlim(low, high)\n",
    "plt.tight_layout()\n",
    "plt.show()"
   ]
  },
  {
   "cell_type": "code",
   "execution_count": 15,
   "id": "bd55f975-16c0-486e-bdd0-1c290efebdb3",
   "metadata": {
    "scrolled": true
   },
   "outputs": [
    {
     "data": {
      "image/png": "[encoded data removed]",
      "text/plain": [
       "<Figure size 1000x500 with 1 Axes>"
      ]
     },
     "metadata": {},
     "output_type": "display_data"
    }
   ],
   "source": [
    "df_copy = df.copy()\n",
    "\n",
    "low, high = (df_copy['close_log_return']).quantile([0.025, 0.975])  # 95% range\n",
    "\n",
    "plt.figure(figsize=(10, 5))\n",
    "sns.histplot(df_copy['close_log_return'])\n",
    "plt.title(\"Distribution of Close Log Percentage Change (Zoomed)\")\n",
    "plt.xlabel(\"Close Price Log Percentage Change\")\n",
    "plt.ylabel(\"Frequency\")\n",
    "plt.xlim(low, high)\n",
    "plt.tight_layout()\n",
    "plt.show()"
   ]
  },
  {
   "cell_type": "markdown",
   "id": "3728f626-930b-4ab0-9d4a-c1c785141293",
   "metadata": {},
   "source": [
    "## Calculate average values"
   ]
  },
  {
   "cell_type": "markdown",
   "id": "29dce09a-6433-43e1-900c-7695c29d4d55",
   "metadata": {},
   "source": [
    "df['ma_21'] = (\n",
    "    df['close']\n",
    "    .rolling(window=21, min_periods=1)\n",
    "    .mean()\n",
    ")\n",
    "df.head()"
   ]
  },
  {
   "cell_type": "code",
   "execution_count": 16,
   "id": "049bb2f0-e1a1-4138-85c0-32b24db8f24d",
   "metadata": {},
   "outputs": [
    {
     "data": {
      "text/html": [
       "<div>\n",
       "<style scoped>\n",
       "    .dataframe tbody tr th:only-of-type {\n",
       "        vertical-align: middle;\n",
       "    }\n",
       "\n",
       "    .dataframe tbody tr th {\n",
       "        vertical-align: top;\n",
       "    }\n",
       "\n",
       "    .dataframe thead th {\n",
       "        text-align: right;\n",
       "    }\n",
       "</style>\n",
       "<table border=\"1\" class=\"dataframe\">\n",
       "  <thead>\n",
       "    <tr style=\"text-align: right;\">\n",
       "      <th></th>\n",
       "      <th>open</th>\n",
       "      <th>high</th>\n",
       "      <th>low</th>\n",
       "      <th>close</th>\n",
       "      <th>volume</th>\n",
       "      <th>spread</th>\n",
       "      <th>log_volume</th>\n",
       "      <th>close_delta</th>\n",
       "      <th>close_return</th>\n",
       "      <th>close_log_return</th>\n",
       "      <th>ret_mean_5</th>\n",
       "    </tr>\n",
       "    <tr>\n",
       "      <th>timestamp</th>\n",
       "      <th></th>\n",
       "      <th></th>\n",
       "      <th></th>\n",
       "      <th></th>\n",
       "      <th></th>\n",
       "      <th></th>\n",
       "      <th></th>\n",
       "      <th></th>\n",
       "      <th></th>\n",
       "      <th></th>\n",
       "      <th></th>\n",
       "    </tr>\n",
       "  </thead>\n",
       "  <tbody>\n",
       "    <tr>\n",
       "      <th>2020-01-01 22:00:00</th>\n",
       "      <td>108.7580</td>\n",
       "      <td>108.7600</td>\n",
       "      <td>108.7580</td>\n",
       "      <td>108.7590</td>\n",
       "      <td>9179.999948</td>\n",
       "      <td>0.060667</td>\n",
       "      <td>9.124891</td>\n",
       "      <td>NaN</td>\n",
       "      <td>NaN</td>\n",
       "      <td>NaN</td>\n",
       "      <td>NaN</td>\n",
       "    </tr>\n",
       "    <tr>\n",
       "      <th>2020-01-01 22:01:00</th>\n",
       "      <td>108.7570</td>\n",
       "      <td>108.7590</td>\n",
       "      <td>108.7495</td>\n",
       "      <td>108.7495</td>\n",
       "      <td>13300.000012</td>\n",
       "      <td>0.060333</td>\n",
       "      <td>9.495595</td>\n",
       "      <td>-0.0095</td>\n",
       "      <td>-0.000087</td>\n",
       "      <td>-0.000087</td>\n",
       "      <td>NaN</td>\n",
       "    </tr>\n",
       "    <tr>\n",
       "      <th>2020-01-01 22:02:00</th>\n",
       "      <td>108.7495</td>\n",
       "      <td>108.7535</td>\n",
       "      <td>108.7495</td>\n",
       "      <td>108.7535</td>\n",
       "      <td>4500.000000</td>\n",
       "      <td>0.058667</td>\n",
       "      <td>8.412055</td>\n",
       "      <td>0.0040</td>\n",
       "      <td>0.000037</td>\n",
       "      <td>0.000037</td>\n",
       "      <td>NaN</td>\n",
       "    </tr>\n",
       "    <tr>\n",
       "      <th>2020-01-01 22:03:00</th>\n",
       "      <td>108.7540</td>\n",
       "      <td>108.7555</td>\n",
       "      <td>108.7535</td>\n",
       "      <td>108.7555</td>\n",
       "      <td>10490.000010</td>\n",
       "      <td>0.059857</td>\n",
       "      <td>9.258273</td>\n",
       "      <td>0.0020</td>\n",
       "      <td>0.000018</td>\n",
       "      <td>0.000018</td>\n",
       "      <td>NaN</td>\n",
       "    </tr>\n",
       "    <tr>\n",
       "      <th>2020-01-01 22:04:00</th>\n",
       "      <td>108.7575</td>\n",
       "      <td>108.7650</td>\n",
       "      <td>108.7555</td>\n",
       "      <td>108.7650</td>\n",
       "      <td>11600.000024</td>\n",
       "      <td>0.055100</td>\n",
       "      <td>9.358847</td>\n",
       "      <td>0.0095</td>\n",
       "      <td>0.000087</td>\n",
       "      <td>0.000087</td>\n",
       "      <td>NaN</td>\n",
       "    </tr>\n",
       "  </tbody>\n",
       "</table>\n",
       "</div>"
      ],
      "text/plain": [
       "                         open      high       low     close        volume  \\\n",
       "timestamp                                                                   \n",
       "2020-01-01 22:00:00  108.7580  108.7600  108.7580  108.7590   9179.999948   \n",
       "2020-01-01 22:01:00  108.7570  108.7590  108.7495  108.7495  13300.000012   \n",
       "2020-01-01 22:02:00  108.7495  108.7535  108.7495  108.7535   4500.000000   \n",
       "2020-01-01 22:03:00  108.7540  108.7555  108.7535  108.7555  10490.000010   \n",
       "2020-01-01 22:04:00  108.7575  108.7650  108.7555  108.7650  11600.000024   \n",
       "\n",
       "                       spread  log_volume  close_delta  close_return  \\\n",
       "timestamp                                                              \n",
       "2020-01-01 22:00:00  0.060667    9.124891          NaN           NaN   \n",
       "2020-01-01 22:01:00  0.060333    9.495595      -0.0095     -0.000087   \n",
       "2020-01-01 22:02:00  0.058667    8.412055       0.0040      0.000037   \n",
       "2020-01-01 22:03:00  0.059857    9.258273       0.0020      0.000018   \n",
       "2020-01-01 22:04:00  0.055100    9.358847       0.0095      0.000087   \n",
       "\n",
       "                     close_log_return  ret_mean_5  \n",
       "timestamp                                          \n",
       "2020-01-01 22:00:00               NaN         NaN  \n",
       "2020-01-01 22:01:00         -0.000087         NaN  \n",
       "2020-01-01 22:02:00          0.000037         NaN  \n",
       "2020-01-01 22:03:00          0.000018         NaN  \n",
       "2020-01-01 22:04:00          0.000087         NaN  "
      ]
     },
     "execution_count": 16,
     "metadata": {},
     "output_type": "execute_result"
    }
   ],
   "source": [
    "df['ret_mean_5'] = (\n",
    "    df['close_log_return']\n",
    "    .rolling(window=5, min_periods=5)\n",
    "    .mean()\n",
    ")\n",
    "df.head()"
   ]
  },
  {
   "cell_type": "code",
   "execution_count": 17,
   "id": "2a247728-25a9-4954-b5b4-2030787a9cda",
   "metadata": {
    "scrolled": true
   },
   "outputs": [
    {
     "data": {
      "text/html": [
       "<div>\n",
       "<style scoped>\n",
       "    .dataframe tbody tr th:only-of-type {\n",
       "        vertical-align: middle;\n",
       "    }\n",
       "\n",
       "    .dataframe tbody tr th {\n",
       "        vertical-align: top;\n",
       "    }\n",
       "\n",
       "    .dataframe thead th {\n",
       "        text-align: right;\n",
       "    }\n",
       "</style>\n",
       "<table border=\"1\" class=\"dataframe\">\n",
       "  <thead>\n",
       "    <tr style=\"text-align: right;\">\n",
       "      <th></th>\n",
       "      <th>open</th>\n",
       "      <th>high</th>\n",
       "      <th>low</th>\n",
       "      <th>close</th>\n",
       "      <th>volume</th>\n",
       "      <th>spread</th>\n",
       "      <th>log_volume</th>\n",
       "      <th>close_delta</th>\n",
       "      <th>close_return</th>\n",
       "      <th>close_log_return</th>\n",
       "      <th>ret_mean_5</th>\n",
       "      <th>ret_mean_10</th>\n",
       "    </tr>\n",
       "    <tr>\n",
       "      <th>timestamp</th>\n",
       "      <th></th>\n",
       "      <th></th>\n",
       "      <th></th>\n",
       "      <th></th>\n",
       "      <th></th>\n",
       "      <th></th>\n",
       "      <th></th>\n",
       "      <th></th>\n",
       "      <th></th>\n",
       "      <th></th>\n",
       "      <th></th>\n",
       "      <th></th>\n",
       "    </tr>\n",
       "  </thead>\n",
       "  <tbody>\n",
       "    <tr>\n",
       "      <th>2020-01-01 22:00:00</th>\n",
       "      <td>108.7580</td>\n",
       "      <td>108.7600</td>\n",
       "      <td>108.7580</td>\n",
       "      <td>108.7590</td>\n",
       "      <td>9179.999948</td>\n",
       "      <td>0.060667</td>\n",
       "      <td>9.124891</td>\n",
       "      <td>NaN</td>\n",
       "      <td>NaN</td>\n",
       "      <td>NaN</td>\n",
       "      <td>NaN</td>\n",
       "      <td>NaN</td>\n",
       "    </tr>\n",
       "    <tr>\n",
       "      <th>2020-01-01 22:01:00</th>\n",
       "      <td>108.7570</td>\n",
       "      <td>108.7590</td>\n",
       "      <td>108.7495</td>\n",
       "      <td>108.7495</td>\n",
       "      <td>13300.000012</td>\n",
       "      <td>0.060333</td>\n",
       "      <td>9.495595</td>\n",
       "      <td>-0.0095</td>\n",
       "      <td>-0.000087</td>\n",
       "      <td>-0.000087</td>\n",
       "      <td>NaN</td>\n",
       "      <td>NaN</td>\n",
       "    </tr>\n",
       "    <tr>\n",
       "      <th>2020-01-01 22:02:00</th>\n",
       "      <td>108.7495</td>\n",
       "      <td>108.7535</td>\n",
       "      <td>108.7495</td>\n",
       "      <td>108.7535</td>\n",
       "      <td>4500.000000</td>\n",
       "      <td>0.058667</td>\n",
       "      <td>8.412055</td>\n",
       "      <td>0.0040</td>\n",
       "      <td>0.000037</td>\n",
       "      <td>0.000037</td>\n",
       "      <td>NaN</td>\n",
       "      <td>NaN</td>\n",
       "    </tr>\n",
       "    <tr>\n",
       "      <th>2020-01-01 22:03:00</th>\n",
       "      <td>108.7540</td>\n",
       "      <td>108.7555</td>\n",
       "      <td>108.7535</td>\n",
       "      <td>108.7555</td>\n",
       "      <td>10490.000010</td>\n",
       "      <td>0.059857</td>\n",
       "      <td>9.258273</td>\n",
       "      <td>0.0020</td>\n",
       "      <td>0.000018</td>\n",
       "      <td>0.000018</td>\n",
       "      <td>NaN</td>\n",
       "      <td>NaN</td>\n",
       "    </tr>\n",
       "    <tr>\n",
       "      <th>2020-01-01 22:04:00</th>\n",
       "      <td>108.7575</td>\n",
       "      <td>108.7650</td>\n",
       "      <td>108.7555</td>\n",
       "      <td>108.7650</td>\n",
       "      <td>11600.000024</td>\n",
       "      <td>0.055100</td>\n",
       "      <td>9.358847</td>\n",
       "      <td>0.0095</td>\n",
       "      <td>0.000087</td>\n",
       "      <td>0.000087</td>\n",
       "      <td>NaN</td>\n",
       "      <td>NaN</td>\n",
       "    </tr>\n",
       "  </tbody>\n",
       "</table>\n",
       "</div>"
      ],
      "text/plain": [
       "                         open      high       low     close        volume  \\\n",
       "timestamp                                                                   \n",
       "2020-01-01 22:00:00  108.7580  108.7600  108.7580  108.7590   9179.999948   \n",
       "2020-01-01 22:01:00  108.7570  108.7590  108.7495  108.7495  13300.000012   \n",
       "2020-01-01 22:02:00  108.7495  108.7535  108.7495  108.7535   4500.000000   \n",
       "2020-01-01 22:03:00  108.7540  108.7555  108.7535  108.7555  10490.000010   \n",
       "2020-01-01 22:04:00  108.7575  108.7650  108.7555  108.7650  11600.000024   \n",
       "\n",
       "                       spread  log_volume  close_delta  close_return  \\\n",
       "timestamp                                                              \n",
       "2020-01-01 22:00:00  0.060667    9.124891          NaN           NaN   \n",
       "2020-01-01 22:01:00  0.060333    9.495595      -0.0095     -0.000087   \n",
       "2020-01-01 22:02:00  0.058667    8.412055       0.0040      0.000037   \n",
       "2020-01-01 22:03:00  0.059857    9.258273       0.0020      0.000018   \n",
       "2020-01-01 22:04:00  0.055100    9.358847       0.0095      0.000087   \n",
       "\n",
       "                     close_log_return  ret_mean_5  ret_mean_10  \n",
       "timestamp                                                       \n",
       "2020-01-01 22:00:00               NaN         NaN          NaN  \n",
       "2020-01-01 22:01:00         -0.000087         NaN          NaN  \n",
       "2020-01-01 22:02:00          0.000037         NaN          NaN  \n",
       "2020-01-01 22:03:00          0.000018         NaN          NaN  \n",
       "2020-01-01 22:04:00          0.000087         NaN          NaN  "
      ]
     },
     "execution_count": 17,
     "metadata": {},
     "output_type": "execute_result"
    }
   ],
   "source": [
    "df['ret_mean_10'] = (\n",
    "    df['close_log_return']\n",
    "    .rolling(window=10, min_periods=10)\n",
    "    .mean()\n",
    ")\n",
    "df.head()"
   ]
  },
  {
   "cell_type": "markdown",
   "id": "b2909266-b99a-4def-a483-83af71c0c47c",
   "metadata": {},
   "source": [
    "## Drop NaN"
   ]
  },
  {
   "cell_type": "code",
   "execution_count": 18,
   "id": "b089ffd6-f30c-4931-a0ef-0e3a2a64691a",
   "metadata": {
    "scrolled": true
   },
   "outputs": [
    {
     "data": {
      "text/plain": [
       "open                 0\n",
       "high                 0\n",
       "low                  0\n",
       "close                0\n",
       "volume               0\n",
       "spread               0\n",
       "log_volume           0\n",
       "close_delta          1\n",
       "close_return         1\n",
       "close_log_return     1\n",
       "ret_mean_5           5\n",
       "ret_mean_10         10\n",
       "dtype: int64"
      ]
     },
     "execution_count": 18,
     "metadata": {},
     "output_type": "execute_result"
    }
   ],
   "source": [
    "df.isna().sum()"
   ]
  },
  {
   "cell_type": "code",
   "execution_count": 19,
   "id": "705dfc74-822b-4148-b3dc-220e3f97cb1d",
   "metadata": {},
   "outputs": [],
   "source": [
    "df = df.dropna()"
   ]
  },
  {
   "cell_type": "code",
   "execution_count": 20,
   "id": "15d670d2-bb06-4e7c-9fd2-b847170dff88",
   "metadata": {},
   "outputs": [
    {
     "data": {
      "text/html": [
       "<div>\n",
       "<style scoped>\n",
       "    .dataframe tbody tr th:only-of-type {\n",
       "        vertical-align: middle;\n",
       "    }\n",
       "\n",
       "    .dataframe tbody tr th {\n",
       "        vertical-align: top;\n",
       "    }\n",
       "\n",
       "    .dataframe thead th {\n",
       "        text-align: right;\n",
       "    }\n",
       "</style>\n",
       "<table border=\"1\" class=\"dataframe\">\n",
       "  <thead>\n",
       "    <tr style=\"text-align: right;\">\n",
       "      <th></th>\n",
       "      <th>open</th>\n",
       "      <th>high</th>\n",
       "      <th>low</th>\n",
       "      <th>close</th>\n",
       "      <th>volume</th>\n",
       "      <th>spread</th>\n",
       "      <th>log_volume</th>\n",
       "      <th>close_delta</th>\n",
       "      <th>close_return</th>\n",
       "      <th>close_log_return</th>\n",
       "      <th>ret_mean_5</th>\n",
       "      <th>ret_mean_10</th>\n",
       "    </tr>\n",
       "    <tr>\n",
       "      <th>timestamp</th>\n",
       "      <th></th>\n",
       "      <th></th>\n",
       "      <th></th>\n",
       "      <th></th>\n",
       "      <th></th>\n",
       "      <th></th>\n",
       "      <th></th>\n",
       "      <th></th>\n",
       "      <th></th>\n",
       "      <th></th>\n",
       "      <th></th>\n",
       "      <th></th>\n",
       "    </tr>\n",
       "  </thead>\n",
       "  <tbody>\n",
       "    <tr>\n",
       "      <th>2020-01-01 22:10:00</th>\n",
       "      <td>108.7455</td>\n",
       "      <td>108.7480</td>\n",
       "      <td>108.7430</td>\n",
       "      <td>108.7450</td>\n",
       "      <td>145529.998422</td>\n",
       "      <td>0.018840</td>\n",
       "      <td>11.888144</td>\n",
       "      <td>-0.0010</td>\n",
       "      <td>-0.000009</td>\n",
       "      <td>-0.000009</td>\n",
       "      <td>-4.597384e-05</td>\n",
       "      <td>-0.000013</td>\n",
       "    </tr>\n",
       "    <tr>\n",
       "      <th>2020-01-01 22:11:00</th>\n",
       "      <td>108.7445</td>\n",
       "      <td>108.7470</td>\n",
       "      <td>108.7395</td>\n",
       "      <td>108.7400</td>\n",
       "      <td>56379.999280</td>\n",
       "      <td>0.022235</td>\n",
       "      <td>10.939887</td>\n",
       "      <td>-0.0050</td>\n",
       "      <td>-0.000046</td>\n",
       "      <td>-0.000046</td>\n",
       "      <td>-3.126480e-05</td>\n",
       "      <td>-0.000009</td>\n",
       "    </tr>\n",
       "    <tr>\n",
       "      <th>2020-01-01 22:12:00</th>\n",
       "      <td>108.7340</td>\n",
       "      <td>108.7600</td>\n",
       "      <td>108.7340</td>\n",
       "      <td>108.7575</td>\n",
       "      <td>95219.999909</td>\n",
       "      <td>0.020086</td>\n",
       "      <td>11.463956</td>\n",
       "      <td>0.0175</td>\n",
       "      <td>0.000161</td>\n",
       "      <td>0.000161</td>\n",
       "      <td>-1.320558e-17</td>\n",
       "      <td>0.000004</td>\n",
       "    </tr>\n",
       "    <tr>\n",
       "      <th>2020-01-01 22:13:00</th>\n",
       "      <td>108.7600</td>\n",
       "      <td>108.7600</td>\n",
       "      <td>108.6495</td>\n",
       "      <td>108.7475</td>\n",
       "      <td>233979.999036</td>\n",
       "      <td>0.030118</td>\n",
       "      <td>12.362995</td>\n",
       "      <td>-0.0100</td>\n",
       "      <td>-0.000092</td>\n",
       "      <td>-0.000092</td>\n",
       "      <td>-1.287344e-05</td>\n",
       "      <td>-0.000007</td>\n",
       "    </tr>\n",
       "    <tr>\n",
       "      <th>2020-01-01 22:14:00</th>\n",
       "      <td>108.7455</td>\n",
       "      <td>108.7475</td>\n",
       "      <td>108.7445</td>\n",
       "      <td>108.7450</td>\n",
       "      <td>139499.999642</td>\n",
       "      <td>0.034500</td>\n",
       "      <td>11.845827</td>\n",
       "      <td>-0.0025</td>\n",
       "      <td>-0.000023</td>\n",
       "      <td>-0.000023</td>\n",
       "      <td>-1.839157e-06</td>\n",
       "      <td>-0.000018</td>\n",
       "    </tr>\n",
       "    <tr>\n",
       "      <th>...</th>\n",
       "      <td>...</td>\n",
       "      <td>...</td>\n",
       "      <td>...</td>\n",
       "      <td>...</td>\n",
       "      <td>...</td>\n",
       "      <td>...</td>\n",
       "      <td>...</td>\n",
       "      <td>...</td>\n",
       "      <td>...</td>\n",
       "      <td>...</td>\n",
       "      <td>...</td>\n",
       "      <td>...</td>\n",
       "    </tr>\n",
       "    <tr>\n",
       "      <th>2024-12-30 23:55:00</th>\n",
       "      <td>157.0100</td>\n",
       "      <td>157.0110</td>\n",
       "      <td>157.0075</td>\n",
       "      <td>157.0080</td>\n",
       "      <td>206939.997196</td>\n",
       "      <td>0.011818</td>\n",
       "      <td>12.240189</td>\n",
       "      <td>-0.0045</td>\n",
       "      <td>-0.000029</td>\n",
       "      <td>-0.000029</td>\n",
       "      <td>1.656035e-05</td>\n",
       "      <td>-0.000016</td>\n",
       "    </tr>\n",
       "    <tr>\n",
       "      <th>2024-12-30 23:56:00</th>\n",
       "      <td>157.0075</td>\n",
       "      <td>157.0090</td>\n",
       "      <td>157.0075</td>\n",
       "      <td>157.0075</td>\n",
       "      <td>127200.000405</td>\n",
       "      <td>0.010920</td>\n",
       "      <td>11.753524</td>\n",
       "      <td>-0.0005</td>\n",
       "      <td>-0.000003</td>\n",
       "      <td>-0.000003</td>\n",
       "      <td>1.337560e-05</td>\n",
       "      <td>0.000008</td>\n",
       "    </tr>\n",
       "    <tr>\n",
       "      <th>2024-12-30 23:57:00</th>\n",
       "      <td>157.0035</td>\n",
       "      <td>157.0095</td>\n",
       "      <td>156.9900</td>\n",
       "      <td>157.0070</td>\n",
       "      <td>234090.000987</td>\n",
       "      <td>0.007978</td>\n",
       "      <td>12.363465</td>\n",
       "      <td>-0.0005</td>\n",
       "      <td>-0.000003</td>\n",
       "      <td>-0.000003</td>\n",
       "      <td>1.210174e-05</td>\n",
       "      <td>0.000014</td>\n",
       "    </tr>\n",
       "    <tr>\n",
       "      <th>2024-12-30 23:58:00</th>\n",
       "      <td>157.0080</td>\n",
       "      <td>157.0080</td>\n",
       "      <td>157.0000</td>\n",
       "      <td>157.0015</td>\n",
       "      <td>317940.000176</td>\n",
       "      <td>0.008533</td>\n",
       "      <td>12.669621</td>\n",
       "      <td>-0.0055</td>\n",
       "      <td>-0.000035</td>\n",
       "      <td>-0.000035</td>\n",
       "      <td>3.821656e-06</td>\n",
       "      <td>0.000004</td>\n",
       "    </tr>\n",
       "    <tr>\n",
       "      <th>2024-12-30 23:59:00</th>\n",
       "      <td>157.0010</td>\n",
       "      <td>157.0085</td>\n",
       "      <td>156.9980</td>\n",
       "      <td>157.0085</td>\n",
       "      <td>273299.999237</td>\n",
       "      <td>0.008357</td>\n",
       "      <td>12.518329</td>\n",
       "      <td>0.0070</td>\n",
       "      <td>0.000045</td>\n",
       "      <td>0.000045</td>\n",
       "      <td>-5.095201e-06</td>\n",
       "      <td>0.000008</td>\n",
       "    </tr>\n",
       "  </tbody>\n",
       "</table>\n",
       "<p>1851798 rows × 12 columns</p>\n",
       "</div>"
      ],
      "text/plain": [
       "                         open      high       low     close         volume  \\\n",
       "timestamp                                                                    \n",
       "2020-01-01 22:10:00  108.7455  108.7480  108.7430  108.7450  145529.998422   \n",
       "2020-01-01 22:11:00  108.7445  108.7470  108.7395  108.7400   56379.999280   \n",
       "2020-01-01 22:12:00  108.7340  108.7600  108.7340  108.7575   95219.999909   \n",
       "2020-01-01 22:13:00  108.7600  108.7600  108.6495  108.7475  233979.999036   \n",
       "2020-01-01 22:14:00  108.7455  108.7475  108.7445  108.7450  139499.999642   \n",
       "...                       ...       ...       ...       ...            ...   \n",
       "2024-12-30 23:55:00  157.0100  157.0110  157.0075  157.0080  206939.997196   \n",
       "2024-12-30 23:56:00  157.0075  157.0090  157.0075  157.0075  127200.000405   \n",
       "2024-12-30 23:57:00  157.0035  157.0095  156.9900  157.0070  234090.000987   \n",
       "2024-12-30 23:58:00  157.0080  157.0080  157.0000  157.0015  317940.000176   \n",
       "2024-12-30 23:59:00  157.0010  157.0085  156.9980  157.0085  273299.999237   \n",
       "\n",
       "                       spread  log_volume  close_delta  close_return  \\\n",
       "timestamp                                                              \n",
       "2020-01-01 22:10:00  0.018840   11.888144      -0.0010     -0.000009   \n",
       "2020-01-01 22:11:00  0.022235   10.939887      -0.0050     -0.000046   \n",
       "2020-01-01 22:12:00  0.020086   11.463956       0.0175      0.000161   \n",
       "2020-01-01 22:13:00  0.030118   12.362995      -0.0100     -0.000092   \n",
       "2020-01-01 22:14:00  0.034500   11.845827      -0.0025     -0.000023   \n",
       "...                       ...         ...          ...           ...   \n",
       "2024-12-30 23:55:00  0.011818   12.240189      -0.0045     -0.000029   \n",
       "2024-12-30 23:56:00  0.010920   11.753524      -0.0005     -0.000003   \n",
       "2024-12-30 23:57:00  0.007978   12.363465      -0.0005     -0.000003   \n",
       "2024-12-30 23:58:00  0.008533   12.669621      -0.0055     -0.000035   \n",
       "2024-12-30 23:59:00  0.008357   12.518329       0.0070      0.000045   \n",
       "\n",
       "                     close_log_return    ret_mean_5  ret_mean_10  \n",
       "timestamp                                                         \n",
       "2020-01-01 22:10:00         -0.000009 -4.597384e-05    -0.000013  \n",
       "2020-01-01 22:11:00         -0.000046 -3.126480e-05    -0.000009  \n",
       "2020-01-01 22:12:00          0.000161 -1.320558e-17     0.000004  \n",
       "2020-01-01 22:13:00         -0.000092 -1.287344e-05    -0.000007  \n",
       "2020-01-01 22:14:00         -0.000023 -1.839157e-06    -0.000018  \n",
       "...                               ...           ...          ...  \n",
       "2024-12-30 23:55:00         -0.000029  1.656035e-05    -0.000016  \n",
       "2024-12-30 23:56:00         -0.000003  1.337560e-05     0.000008  \n",
       "2024-12-30 23:57:00         -0.000003  1.210174e-05     0.000014  \n",
       "2024-12-30 23:58:00         -0.000035  3.821656e-06     0.000004  \n",
       "2024-12-30 23:59:00          0.000045 -5.095201e-06     0.000008  \n",
       "\n",
       "[1851798 rows x 12 columns]"
      ]
     },
     "execution_count": 20,
     "metadata": {},
     "output_type": "execute_result"
    }
   ],
   "source": [
    "df"
   ]
  },
  {
   "cell_type": "markdown",
   "id": "01b515dd-1971-435e-a5a6-9fa7ebe4d717",
   "metadata": {},
   "source": [
    "# Saving the file"
   ]
  },
  {
   "cell_type": "code",
   "execution_count": 21,
   "id": "c30eddbe-d6bf-4141-bc78-6246cb506b13",
   "metadata": {},
   "outputs": [],
   "source": [
    "df.to_pickle(PROCESSED_FILE_PATH)"
   ]
  }
 ],
 "metadata": {
  "kernelspec": {
   "display_name": "Python 3 (ipykernel)",
   "language": "python",
   "name": "python3"
  },
  "language_info": {
   "codemirror_mode": {
    "name": "ipython",
    "version": 3
   },
   "file_extension": ".py",
   "mimetype": "text/x-python",
   "name": "python",
   "nbconvert_exporter": "python",
   "pygments_lexer": "ipython3",
   "version": "3.11.13"
  },
  "widgets": {
   "application/vnd.jupyter.widget-state+json": {
    "state": {},
    "version_major": 2,
    "version_minor": 0
   }
  }
 },
 "nbformat": 4,
 "nbformat_minor": 5
}
