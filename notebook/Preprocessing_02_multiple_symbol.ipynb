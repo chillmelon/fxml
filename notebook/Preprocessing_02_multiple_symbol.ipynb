{
 "cells": [
  {
   "cell_type": "code",
   "execution_count": null,
   "id": "c17c28ff-5356-45d8-b79c-0a810d3e7aa8",
   "metadata": {},
   "outputs": [],
   "source": [
    "import pandas as pd\n",
    "import matplotlib.pyplot as plt\n",
    "import os\n",
    "import mplfinance as mpf"
   ]
  },
  {
   "cell_type": "code",
   "execution_count": null,
   "id": "0aacbc36-a8e8-4b6a-a612-b99da6f54791",
   "metadata": {},
   "outputs": [],
   "source": [
    "# Load Forex tick data\n",
    "data_dir = \"../data/raw/bars/m1_20200101_20241231/\"\n",
    "pkl_dir = \"../data/pkl\"\n",
    "os.makedirs(pkl_dir, exist_ok=True)\n",
    "pkl_file_path = os.path.join(pkl_dir, \"forex_main_m1_20200101_20241231.pkl\")\n"
   ]
  },
  {
   "cell_type": "code",
   "execution_count": null,
   "id": "bb7949ca-1ca2-4f89-9c18-ad028be45922",
   "metadata": {},
   "outputs": [],
   "source": [
    "merged_df = pd.DataFrame()\n",
    "\n",
    "# Iterate through all files in the directory\n",
    "for file_name in os.listdir(data_dir):\n",
    "    file_path = os.path.join(data_dir, file_name)\n",
    "    if os.path.isfile(file_path) and file_name.endswith(\".csv\"):\n",
    "        # Extract symbol name from file name (assuming file name format: symbol.csv)\n",
    "        symbol_name = os.path.splitext(file_name)[0]\n",
    "\n",
    "        # Read the CSV file\n",
    "        df = pd.read_csv(file_path)\n",
    "        df = df[[\"timestamp\", \"close\"]]\n",
    "        df[\"timestamp\"] = pd.to_datetime(df[\"timestamp\"], unit='ms')\n",
    "\n",
    "        # Set timestamp as index for merging\n",
    "        df.set_index(\"timestamp\", inplace=True)\n",
    "\n",
    "        # Rename the 'close' column to the symbol name\n",
    "        df.rename(columns={\"close\": symbol_name}, inplace=True)\n",
    "\n",
    "        # Merge the DataFrame with the main DataFrame on the timestamp index\n",
    "        if merged_df.empty:\n",
    "            merged_df = df\n",
    "        else:\n",
    "            merged_df = merged_df.join(df, how='outer')\n",
    "\n",
    "# Reset the index to have the timestamp as a column again\n",
    "merged_df.reset_index(inplace=True)\n"
   ]
  },
  {
   "cell_type": "code",
   "execution_count": null,
   "id": "cde50069-8e11-443d-b929-2de82e3fb1ab",
   "metadata": {
    "scrolled": true
   },
   "outputs": [],
   "source": [
    "# Check for missing values in the merged dataframe\n",
    "print(\"Missing values in the dataset:\")\n",
    "print(merged_df.isnull().sum())\n",
    "\n",
    "# Check for duplicates in the 'timestamp' column\n",
    "print(\"\\nDuplicate timestamps in the dataset:\")\n",
    "print(merged_df['timestamp'].duplicated().sum())\n",
    "\n",
    "# Check if all timestamps are unique\n",
    "print(\"\\nAre all timestamps unique?\")\n",
    "print(merged_df['timestamp'].is_unique)\n",
    "\n",
    "# Check if timestamps are sorted in ascending order\n",
    "print(\"\\nAre the timestamps sorted in ascending order?\")\n",
    "print(merged_df['timestamp'].is_monotonic_increasing)\n",
    "\n",
    "# Check for the range of dates in the dataset (start and end)\n",
    "print(\"\\nDate range in the dataset:\")\n",
    "print(merged_df['timestamp'].min(), \"to\", merged_df['timestamp'].max())\n",
    "\n",
    "# Check the basic statistics for the 'close' columns to identify any anomalies\n",
    "print(\"\\nBasic statistics for the 'close' columns:\")\n",
    "print(merged_df.describe())\n",
    "\n",
    "# Check the first few rows to verify the data\n",
    "print(\"\\nFirst few rows of the merged dataset:\")\n",
    "print(merged_df.head())\n"
   ]
  },
  {
   "cell_type": "code",
   "execution_count": null,
   "id": "7720e436-083d-468c-90eb-e9dcecc96e1d",
   "metadata": {
    "scrolled": true
   },
   "outputs": [],
   "source": [
    "# Drop rows with NaN values\n",
    "merged_df_clean = merged_df.dropna()\n",
    "\n",
    "# Check for continuity in timestamps (no gaps in time)\n",
    "time_diff = merged_df_clean['timestamp'].diff().dt.total_seconds()\n",
    "time_gaps = time_diff[time_diff > 60]  # Assuming the data is expected to have 1-minute intervals\n",
    "print(\"\\nTime gaps detected (greater than 1 minute):\")\n",
    "print(time_gaps)\n",
    "\n",
    "# Summarize data quality\n",
    "print(\"\\nSummary of data quality:\")\n",
    "print(f\"Number of rows before dropping NaN: {len(merged_df)}\")\n",
    "print(f\"Number of rows after dropping NaN: {len(merged_df_clean)}\")\n",
    "print(f\"Missing values after cleaning:\")\n",
    "print(merged_df_clean.isnull().sum())\n",
    "print(f\"First few rows of the cleaned dataset:\")\n",
    "print(merged_df_clean.head())\n",
    "\n",
    "# Check for the range of dates in the cleaned dataset\n",
    "print(\"\\nDate range in the cleaned dataset:\")\n",
    "print(merged_df_clean['timestamp'].min(), \"to\", merged_df_clean['timestamp'].max())\n",
    "\n",
    "# Check if timestamps are sorted after dropping NaN\n",
    "print(\"\\nAre the timestamps sorted in ascending order after cleaning?\")\n",
    "print(merged_df_clean['timestamp'].is_monotonic_increasing)\n",
    "\n",
    "# Basic statistics for the 'close' columns in the cleaned dataset\n",
    "print(\"\\nBasic statistics for the 'close' columns after cleaning:\")\n",
    "print(merged_df_clean.describe())\n"
   ]
  },
  {
   "cell_type": "code",
   "execution_count": null,
   "id": "7e935fea-da26-452f-af08-18e8695cf91f",
   "metadata": {},
   "outputs": [],
   "source": [
    "# Calculate the difference between consecutive timestamps\n",
    "time_diff = merged_df_clean['timestamp'].diff().dt.total_seconds()\n",
    "\n",
    "# Define a gap threshold (e.g., 60 seconds) to identify the breaks between continuous time\n",
    "gap_threshold = 60  # You can adjust this if your data uses a different time resolution\n",
    "\n",
    "# Create a timegroup label based on where gaps exceed the threshold\n",
    "merged_df_clean['timegroup'] = (time_diff > gap_threshold).cumsum()\n",
    "\n",
    "# Print the first few rows to verify the new column\n",
    "print(merged_df_clean[['timestamp', 'timegroup']].head())\n"
   ]
  },
  {
   "cell_type": "code",
   "execution_count": null,
   "id": "f763f96e-0f5c-464c-8219-206b5d333bf5",
   "metadata": {},
   "outputs": [],
   "source": [
    "merged_df_clean['timegroup'].unique()"
   ]
  },
  {
   "cell_type": "code",
   "execution_count": null,
   "id": "7663ae19-96f1-4c5b-a30f-37970336448c",
   "metadata": {},
   "outputs": [],
   "source": [
    "# Group by timegroup and count the number of entries in each group\n",
    "timegroup_lengths = merged_df_clean.groupby('timegroup').size()\n",
    "\n",
    "# Print the continuous length of each timegroup\n",
    "print(\"Continuous length of each timegroup:\")\n",
    "print(timegroup_lengths)\n"
   ]
  }
 ],
 "metadata": {
  "kernelspec": {
   "display_name": "Python 3 (ipykernel)",
   "language": "python",
   "name": "python3"
  },
  "language_info": {
   "codemirror_mode": {
    "name": "ipython",
    "version": 3
   },
   "file_extension": ".py",
   "mimetype": "text/x-python",
   "name": "python",
   "nbconvert_exporter": "python",
   "pygments_lexer": "ipython3",
   "version": "3.11.13"
  }
 },
 "nbformat": 4,
 "nbformat_minor": 5
}
