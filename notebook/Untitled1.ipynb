{
 "cells": [
  {
   "cell_type": "code",
   "execution_count": 1,
   "id": "c8acb3ea-8cc1-4cb2-b201-6d6903ed0af0",
   "metadata": {},
   "outputs": [],
   "source": [
    "from sklearn.preprocessing import StandardScaler\n",
    "import pandas as pd\n",
    "import numpy as np"
   ]
  },
  {
   "cell_type": "code",
   "execution_count": null,
   "id": "b85ea544-c810-4b3a-a405-8d450793e11c",
   "metadata": {},
   "outputs": [],
   "source": [
    "PROCESSED_DIR = \"../data/processed/\"\n",
    "PROCESSED_FILENAME = \"dukascopy-usdjpy-m5-bar-2020-01-01-2024-12-31_processed.pkl\"\n",
    "PROCESSED_FILE_PATH = os.path.join(PROCESSED_DIR, PROCESSED_FILENAME)\n",
    "\n",
    "PROCESSED_DIR = \"../data/normalized/\"\n",
    "PROCESSED_FILENAME = \"dukascopy-usdjpy-m5-bar-2020-01-01-2024-12-31_processed.pkl\"\n",
    "PROCESSED_FILE_PATH = os.path.join(PROCESSED_DIR, PROCESSED_FILENAME)"
   ]
  }
 ],
 "metadata": {
  "kernelspec": {
   "display_name": "Python 3 (ipykernel)",
   "language": "python",
   "name": "python3"
  },
  "language_info": {
   "codemirror_mode": {
    "name": "ipython",
    "version": 3
   },
   "file_extension": ".py",
   "mimetype": "text/x-python",
   "name": "python",
   "nbconvert_exporter": "python",
   "pygments_lexer": "ipython3",
   "version": "3.11.12"
  },
  "widgets": {
   "application/vnd.jupyter.widget-state+json": {
    "state": {},
    "version_major": 2,
    "version_minor": 0
   }
  }
 },
 "nbformat": 4,
 "nbformat_minor": 5
}
