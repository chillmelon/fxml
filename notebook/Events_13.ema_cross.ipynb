{
 "cells": [
  {
   "cell_type": "code",
   "execution_count": 21,
   "id": "8c6d6f1f-0017-4810-9328-099f68c7c6e2",
   "metadata": {},
   "outputs": [],
   "source": [
    "import pandas as pd\n",
    "import numpy as np\n",
    "import matplotlib.pyplot as plt\n",
    "from matplotlib.ticker import FormatStrFormatter\n",
    "\n",
    "import os"
   ]
  },
  {
   "cell_type": "code",
   "execution_count": 22,
   "id": "bf14af0e-a692-419c-a591-5feaf1601bf9",
   "metadata": {},
   "outputs": [],
   "source": [
    "from pathlib import Path\n",
    "\n",
    "# Configurable parts\n",
    "SYMBOL = \"USDJPY\"\n",
    "SAMPLE_TYPE = \"time\"\n",
    "MINUTES = 5\n",
    "\n",
    "START_DATE = \"20240101\"\n",
    "END_DATE = \"20241231\"\n",
    "\n",
    "# Build base name\n",
    "RESAMPLED_NAME = f\"{SYMBOL}-{MINUTES}m-{START_DATE}-{END_DATE}\"\n",
    "\n",
    "# Base directories\n",
    "BASE_DIR = Path(\"../data\")\n",
    "RESAMPLED_DIR = BASE_DIR / \"resampled\"\n",
    "PROCESSED_DIR = BASE_DIR / \"processed\"\n",
    "EVENTS_DIR = BASE_DIR / \"events\"\n",
    "\n",
    "# Final paths\n",
    "RESAMPLED_FILE_PATH = RESAMPLED_DIR / f\"{RESAMPLED_NAME}.pkl\"\n",
    "PROCESSED_FILE_PATH = PROCESSED_DIR / f\"{RESAMPLED_NAME}_processed.pkl\""
   ]
  },
  {
   "cell_type": "code",
   "execution_count": 23,
   "id": "79e659aa-5b8f-43d4-aa7f-3fe6cd7e5bd7",
   "metadata": {
    "scrolled": true
   },
   "outputs": [
    {
     "name": "stdout",
     "output_type": "stream",
     "text": [
      "CPU times: user 1.64 ms, sys: 13.9 ms, total: 15.5 ms\n",
      "Wall time: 52.1 ms\n"
     ]
    }
   ],
   "source": [
    "%%time\n",
    "df = pd.read_pickle(PROCESSED_FILE_PATH)"
   ]
  },
  {
   "cell_type": "code",
   "execution_count": 24,
   "id": "29b2da6f-1a60-4d08-9aee-a4c43083818c",
   "metadata": {},
   "outputs": [
    {
     "data": {
      "text/plain": [
       "(72013, 10)"
      ]
     },
     "execution_count": 24,
     "metadata": {},
     "output_type": "execute_result"
    }
   ],
   "source": [
    "df.shape"
   ]
  },
  {
   "cell_type": "code",
   "execution_count": 25,
   "id": "68bbc439-d03b-4275-af93-8b978a790a4b",
   "metadata": {
    "scrolled": true
   },
   "outputs": [
    {
     "data": {
      "text/html": [
       "<div>\n",
       "<style scoped>\n",
       "    .dataframe tbody tr th:only-of-type {\n",
       "        vertical-align: middle;\n",
       "    }\n",
       "\n",
       "    .dataframe tbody tr th {\n",
       "        vertical-align: top;\n",
       "    }\n",
       "\n",
       "    .dataframe thead th {\n",
       "        text-align: right;\n",
       "    }\n",
       "</style>\n",
       "<table border=\"1\" class=\"dataframe\">\n",
       "  <thead>\n",
       "    <tr style=\"text-align: right;\">\n",
       "      <th></th>\n",
       "      <th>open</th>\n",
       "      <th>high</th>\n",
       "      <th>low</th>\n",
       "      <th>close</th>\n",
       "      <th>volume</th>\n",
       "      <th>spread</th>\n",
       "      <th>return</th>\n",
       "      <th>log_return</th>\n",
       "      <th>fd_return</th>\n",
       "      <th>log_fd_return</th>\n",
       "    </tr>\n",
       "    <tr>\n",
       "      <th>timestamp</th>\n",
       "      <th></th>\n",
       "      <th></th>\n",
       "      <th></th>\n",
       "      <th></th>\n",
       "      <th></th>\n",
       "      <th></th>\n",
       "      <th></th>\n",
       "      <th></th>\n",
       "      <th></th>\n",
       "      <th></th>\n",
       "    </tr>\n",
       "  </thead>\n",
       "  <tbody>\n",
       "    <tr>\n",
       "      <th>2024-01-15 06:35:00</th>\n",
       "      <td>1.096440</td>\n",
       "      <td>1.096615</td>\n",
       "      <td>1.096425</td>\n",
       "      <td>1.096595</td>\n",
       "      <td>9.697500e+11</td>\n",
       "      <td>0.000027</td>\n",
       "      <td>0.000160</td>\n",
       "      <td>0.000146</td>\n",
       "      <td>0.113814</td>\n",
       "      <td>0.009814</td>\n",
       "    </tr>\n",
       "    <tr>\n",
       "      <th>2024-01-15 06:40:00</th>\n",
       "      <td>1.096600</td>\n",
       "      <td>1.096620</td>\n",
       "      <td>1.096510</td>\n",
       "      <td>1.096595</td>\n",
       "      <td>5.448600e+11</td>\n",
       "      <td>0.000025</td>\n",
       "      <td>0.000000</td>\n",
       "      <td>0.000000</td>\n",
       "      <td>0.113773</td>\n",
       "      <td>0.009777</td>\n",
       "    </tr>\n",
       "    <tr>\n",
       "      <th>2024-01-15 06:45:00</th>\n",
       "      <td>1.096600</td>\n",
       "      <td>1.096605</td>\n",
       "      <td>1.096445</td>\n",
       "      <td>1.096525</td>\n",
       "      <td>7.287000e+11</td>\n",
       "      <td>0.000025</td>\n",
       "      <td>-0.000070</td>\n",
       "      <td>-0.000064</td>\n",
       "      <td>0.113687</td>\n",
       "      <td>0.009698</td>\n",
       "    </tr>\n",
       "    <tr>\n",
       "      <th>2024-01-15 06:50:00</th>\n",
       "      <td>1.096530</td>\n",
       "      <td>1.096625</td>\n",
       "      <td>1.096485</td>\n",
       "      <td>1.096545</td>\n",
       "      <td>8.230700e+11</td>\n",
       "      <td>0.000027</td>\n",
       "      <td>0.000020</td>\n",
       "      <td>0.000018</td>\n",
       "      <td>0.113715</td>\n",
       "      <td>0.009724</td>\n",
       "    </tr>\n",
       "    <tr>\n",
       "      <th>2024-01-15 06:55:00</th>\n",
       "      <td>1.096535</td>\n",
       "      <td>1.096545</td>\n",
       "      <td>1.096340</td>\n",
       "      <td>1.096400</td>\n",
       "      <td>9.327600e+11</td>\n",
       "      <td>0.000026</td>\n",
       "      <td>-0.000145</td>\n",
       "      <td>-0.000132</td>\n",
       "      <td>0.113565</td>\n",
       "      <td>0.009587</td>\n",
       "    </tr>\n",
       "  </tbody>\n",
       "</table>\n",
       "</div>"
      ],
      "text/plain": [
       "                         open      high       low     close        volume  \\\n",
       "timestamp                                                                   \n",
       "2024-01-15 06:35:00  1.096440  1.096615  1.096425  1.096595  9.697500e+11   \n",
       "2024-01-15 06:40:00  1.096600  1.096620  1.096510  1.096595  5.448600e+11   \n",
       "2024-01-15 06:45:00  1.096600  1.096605  1.096445  1.096525  7.287000e+11   \n",
       "2024-01-15 06:50:00  1.096530  1.096625  1.096485  1.096545  8.230700e+11   \n",
       "2024-01-15 06:55:00  1.096535  1.096545  1.096340  1.096400  9.327600e+11   \n",
       "\n",
       "                       spread    return  log_return  fd_return  log_fd_return  \n",
       "timestamp                                                                      \n",
       "2024-01-15 06:35:00  0.000027  0.000160    0.000146   0.113814       0.009814  \n",
       "2024-01-15 06:40:00  0.000025  0.000000    0.000000   0.113773       0.009777  \n",
       "2024-01-15 06:45:00  0.000025 -0.000070   -0.000064   0.113687       0.009698  \n",
       "2024-01-15 06:50:00  0.000027  0.000020    0.000018   0.113715       0.009724  \n",
       "2024-01-15 06:55:00  0.000026 -0.000145   -0.000132   0.113565       0.009587  "
      ]
     },
     "execution_count": 25,
     "metadata": {},
     "output_type": "execute_result"
    }
   ],
   "source": [
    "df.head()"
   ]
  },
  {
   "cell_type": "code",
   "execution_count": 26,
   "id": "e8a1275b-c52e-4d8a-a2cb-7567f4f84b46",
   "metadata": {
    "scrolled": true
   },
   "outputs": [
    {
     "data": {
      "text/plain": [
       "Index(['open', 'high', 'low', 'close', 'volume', 'spread', 'return',\n",
       "       'log_return', 'fd_return', 'log_fd_return'],\n",
       "      dtype='object')"
      ]
     },
     "execution_count": 26,
     "metadata": {},
     "output_type": "execute_result"
    }
   ],
   "source": [
    "df.columns"
   ]
  },
  {
   "cell_type": "code",
   "execution_count": 27,
   "id": "02444e81-a9b6-43dd-969c-23afdb1fbe5c",
   "metadata": {},
   "outputs": [],
   "source": [
    "FAST = 9\n",
    "SLOW = 36\n",
    "EVENT_PATH = EVENTS_DIR / f\"{RESAMPLED_NAME}_EMA_CROSS_{FAST}_{SLOW}.pkl\""
   ]
  },
  {
   "cell_type": "markdown",
   "id": "817cf4ec-792d-425a-8445-c57b8d7301ef",
   "metadata": {},
   "source": [
    "## Calculating EMA"
   ]
  },
  {
   "cell_type": "code",
   "execution_count": 28,
   "id": "1f0dddf9-7f59-4820-b66b-2ee8c54562e7",
   "metadata": {},
   "outputs": [],
   "source": [
    "import pandas_ta as ta"
   ]
  },
  {
   "cell_type": "code",
   "execution_count": 29,
   "id": "9d90bf69-7a2f-40de-84fa-ca3abf6b6c6f",
   "metadata": {
    "scrolled": true
   },
   "outputs": [
    {
     "data": {
      "text/html": [
       "<div>\n",
       "<style scoped>\n",
       "    .dataframe tbody tr th:only-of-type {\n",
       "        vertical-align: middle;\n",
       "    }\n",
       "\n",
       "    .dataframe tbody tr th {\n",
       "        vertical-align: top;\n",
       "    }\n",
       "\n",
       "    .dataframe thead th {\n",
       "        text-align: right;\n",
       "    }\n",
       "</style>\n",
       "<table border=\"1\" class=\"dataframe\">\n",
       "  <thead>\n",
       "    <tr style=\"text-align: right;\">\n",
       "      <th></th>\n",
       "      <th>open</th>\n",
       "      <th>high</th>\n",
       "      <th>low</th>\n",
       "      <th>close</th>\n",
       "      <th>volume</th>\n",
       "      <th>spread</th>\n",
       "      <th>return</th>\n",
       "      <th>log_return</th>\n",
       "      <th>fd_return</th>\n",
       "      <th>log_fd_return</th>\n",
       "      <th>EMA_9</th>\n",
       "      <th>EMA_36</th>\n",
       "    </tr>\n",
       "    <tr>\n",
       "      <th>timestamp</th>\n",
       "      <th></th>\n",
       "      <th></th>\n",
       "      <th></th>\n",
       "      <th></th>\n",
       "      <th></th>\n",
       "      <th></th>\n",
       "      <th></th>\n",
       "      <th></th>\n",
       "      <th></th>\n",
       "      <th></th>\n",
       "      <th></th>\n",
       "      <th></th>\n",
       "    </tr>\n",
       "  </thead>\n",
       "  <tbody>\n",
       "    <tr>\n",
       "      <th>2024-01-15 09:30:00</th>\n",
       "      <td>1.095370</td>\n",
       "      <td>1.095590</td>\n",
       "      <td>1.095195</td>\n",
       "      <td>1.095210</td>\n",
       "      <td>1.593140e+12</td>\n",
       "      <td>0.000026</td>\n",
       "      <td>-0.000170</td>\n",
       "      <td>-0.000155</td>\n",
       "      <td>0.112994</td>\n",
       "      <td>0.009066</td>\n",
       "      <td>1.095487</td>\n",
       "      <td>1.095942</td>\n",
       "    </tr>\n",
       "    <tr>\n",
       "      <th>2024-01-15 09:35:00</th>\n",
       "      <td>1.095205</td>\n",
       "      <td>1.095260</td>\n",
       "      <td>1.094505</td>\n",
       "      <td>1.094720</td>\n",
       "      <td>2.303230e+12</td>\n",
       "      <td>0.000025</td>\n",
       "      <td>-0.000490</td>\n",
       "      <td>-0.000448</td>\n",
       "      <td>0.112562</td>\n",
       "      <td>0.008671</td>\n",
       "      <td>1.095333</td>\n",
       "      <td>1.095876</td>\n",
       "    </tr>\n",
       "    <tr>\n",
       "      <th>2024-01-15 09:40:00</th>\n",
       "      <td>1.094715</td>\n",
       "      <td>1.094765</td>\n",
       "      <td>1.094535</td>\n",
       "      <td>1.094555</td>\n",
       "      <td>2.130620e+12</td>\n",
       "      <td>0.000024</td>\n",
       "      <td>-0.000165</td>\n",
       "      <td>-0.000151</td>\n",
       "      <td>0.112551</td>\n",
       "      <td>0.008661</td>\n",
       "      <td>1.095178</td>\n",
       "      <td>1.095805</td>\n",
       "    </tr>\n",
       "    <tr>\n",
       "      <th>2024-01-15 09:45:00</th>\n",
       "      <td>1.094550</td>\n",
       "      <td>1.094710</td>\n",
       "      <td>1.094305</td>\n",
       "      <td>1.094695</td>\n",
       "      <td>1.957260e+12</td>\n",
       "      <td>0.000019</td>\n",
       "      <td>0.000140</td>\n",
       "      <td>0.000128</td>\n",
       "      <td>0.112800</td>\n",
       "      <td>0.008889</td>\n",
       "      <td>1.095081</td>\n",
       "      <td>1.095745</td>\n",
       "    </tr>\n",
       "    <tr>\n",
       "      <th>2024-01-15 09:50:00</th>\n",
       "      <td>1.094680</td>\n",
       "      <td>1.094720</td>\n",
       "      <td>1.094420</td>\n",
       "      <td>1.094600</td>\n",
       "      <td>2.538950e+12</td>\n",
       "      <td>0.000024</td>\n",
       "      <td>-0.000095</td>\n",
       "      <td>-0.000087</td>\n",
       "      <td>0.112726</td>\n",
       "      <td>0.008821</td>\n",
       "      <td>1.094985</td>\n",
       "      <td>1.095683</td>\n",
       "    </tr>\n",
       "  </tbody>\n",
       "</table>\n",
       "</div>"
      ],
      "text/plain": [
       "                         open      high       low     close        volume  \\\n",
       "timestamp                                                                   \n",
       "2024-01-15 09:30:00  1.095370  1.095590  1.095195  1.095210  1.593140e+12   \n",
       "2024-01-15 09:35:00  1.095205  1.095260  1.094505  1.094720  2.303230e+12   \n",
       "2024-01-15 09:40:00  1.094715  1.094765  1.094535  1.094555  2.130620e+12   \n",
       "2024-01-15 09:45:00  1.094550  1.094710  1.094305  1.094695  1.957260e+12   \n",
       "2024-01-15 09:50:00  1.094680  1.094720  1.094420  1.094600  2.538950e+12   \n",
       "\n",
       "                       spread    return  log_return  fd_return  log_fd_return  \\\n",
       "timestamp                                                                       \n",
       "2024-01-15 09:30:00  0.000026 -0.000170   -0.000155   0.112994       0.009066   \n",
       "2024-01-15 09:35:00  0.000025 -0.000490   -0.000448   0.112562       0.008671   \n",
       "2024-01-15 09:40:00  0.000024 -0.000165   -0.000151   0.112551       0.008661   \n",
       "2024-01-15 09:45:00  0.000019  0.000140    0.000128   0.112800       0.008889   \n",
       "2024-01-15 09:50:00  0.000024 -0.000095   -0.000087   0.112726       0.008821   \n",
       "\n",
       "                        EMA_9    EMA_36  \n",
       "timestamp                                \n",
       "2024-01-15 09:30:00  1.095487  1.095942  \n",
       "2024-01-15 09:35:00  1.095333  1.095876  \n",
       "2024-01-15 09:40:00  1.095178  1.095805  \n",
       "2024-01-15 09:45:00  1.095081  1.095745  \n",
       "2024-01-15 09:50:00  1.094985  1.095683  "
      ]
     },
     "execution_count": 29,
     "metadata": {},
     "output_type": "execute_result"
    }
   ],
   "source": [
    "df.ta.ema(length=FAST, append=True)\n",
    "df.ta.ema(length=SLOW, append=True)\n",
    "df.dropna(inplace=True)\n",
    "df.head()"
   ]
  },
  {
   "cell_type": "markdown",
   "id": "7e9807fb-b2fb-48da-9e55-16914335c52d",
   "metadata": {},
   "source": [
    "## Finding Cross Points"
   ]
  },
  {
   "cell_type": "code",
   "execution_count": 10,
   "id": "25d831c7-0968-4f24-92ec-c8ba869a2340",
   "metadata": {},
   "outputs": [
    {
     "data": {
      "text/html": [
       "<div>\n",
       "<style scoped>\n",
       "    .dataframe tbody tr th:only-of-type {\n",
       "        vertical-align: middle;\n",
       "    }\n",
       "\n",
       "    .dataframe tbody tr th {\n",
       "        vertical-align: top;\n",
       "    }\n",
       "\n",
       "    .dataframe thead th {\n",
       "        text-align: right;\n",
       "    }\n",
       "</style>\n",
       "<table border=\"1\" class=\"dataframe\">\n",
       "  <thead>\n",
       "    <tr style=\"text-align: right;\">\n",
       "      <th></th>\n",
       "      <th>open</th>\n",
       "      <th>high</th>\n",
       "      <th>low</th>\n",
       "      <th>close</th>\n",
       "      <th>volume</th>\n",
       "      <th>spread</th>\n",
       "      <th>return</th>\n",
       "      <th>log_return</th>\n",
       "      <th>fd_return</th>\n",
       "      <th>log_fd_return</th>\n",
       "      <th>EMA_8</th>\n",
       "      <th>EMA_34</th>\n",
       "      <th>ema_cross_flag</th>\n",
       "    </tr>\n",
       "    <tr>\n",
       "      <th>timestamp</th>\n",
       "      <th></th>\n",
       "      <th></th>\n",
       "      <th></th>\n",
       "      <th></th>\n",
       "      <th></th>\n",
       "      <th></th>\n",
       "      <th></th>\n",
       "      <th></th>\n",
       "      <th></th>\n",
       "      <th></th>\n",
       "      <th></th>\n",
       "      <th></th>\n",
       "      <th></th>\n",
       "    </tr>\n",
       "  </thead>\n",
       "  <tbody>\n",
       "    <tr>\n",
       "      <th>2024-02-19 07:15:00</th>\n",
       "      <td>1.078825</td>\n",
       "      <td>1.078950</td>\n",
       "      <td>1.078660</td>\n",
       "      <td>1.078685</td>\n",
       "      <td>2.587290e+12</td>\n",
       "      <td>0.000025</td>\n",
       "      <td>-0.000145</td>\n",
       "      <td>-0.000134</td>\n",
       "      <td>0.168021</td>\n",
       "      <td>0.012044</td>\n",
       "      <td>1.078452</td>\n",
       "      <td>1.078193</td>\n",
       "      <td>True</td>\n",
       "    </tr>\n",
       "    <tr>\n",
       "      <th>2024-02-19 07:30:00</th>\n",
       "      <td>1.078695</td>\n",
       "      <td>1.078880</td>\n",
       "      <td>1.078605</td>\n",
       "      <td>1.078615</td>\n",
       "      <td>3.026060e+12</td>\n",
       "      <td>0.000023</td>\n",
       "      <td>-0.000070</td>\n",
       "      <td>-0.000065</td>\n",
       "      <td>0.167940</td>\n",
       "      <td>0.011969</td>\n",
       "      <td>1.078488</td>\n",
       "      <td>1.078217</td>\n",
       "      <td>True</td>\n",
       "    </tr>\n",
       "    <tr>\n",
       "      <th>2024-02-19 07:45:00</th>\n",
       "      <td>1.078580</td>\n",
       "      <td>1.078660</td>\n",
       "      <td>1.078140</td>\n",
       "      <td>1.078270</td>\n",
       "      <td>3.979570e+12</td>\n",
       "      <td>0.000022</td>\n",
       "      <td>-0.000345</td>\n",
       "      <td>-0.000320</td>\n",
       "      <td>0.167593</td>\n",
       "      <td>0.011647</td>\n",
       "      <td>1.078440</td>\n",
       "      <td>1.078220</td>\n",
       "      <td>True</td>\n",
       "    </tr>\n",
       "    <tr>\n",
       "      <th>2024-02-19 08:00:00</th>\n",
       "      <td>1.078305</td>\n",
       "      <td>1.078640</td>\n",
       "      <td>1.078240</td>\n",
       "      <td>1.078590</td>\n",
       "      <td>5.892830e+12</td>\n",
       "      <td>0.000024</td>\n",
       "      <td>0.000320</td>\n",
       "      <td>0.000297</td>\n",
       "      <td>0.167977</td>\n",
       "      <td>0.012002</td>\n",
       "      <td>1.078473</td>\n",
       "      <td>1.078241</td>\n",
       "      <td>True</td>\n",
       "    </tr>\n",
       "    <tr>\n",
       "      <th>2024-02-19 08:15:00</th>\n",
       "      <td>1.078615</td>\n",
       "      <td>1.078745</td>\n",
       "      <td>1.078270</td>\n",
       "      <td>1.078675</td>\n",
       "      <td>5.110300e+12</td>\n",
       "      <td>0.000025</td>\n",
       "      <td>0.000085</td>\n",
       "      <td>0.000079</td>\n",
       "      <td>0.168014</td>\n",
       "      <td>0.012037</td>\n",
       "      <td>1.078518</td>\n",
       "      <td>1.078266</td>\n",
       "      <td>True</td>\n",
       "    </tr>\n",
       "  </tbody>\n",
       "</table>\n",
       "</div>"
      ],
      "text/plain": [
       "                         open      high       low     close        volume  \\\n",
       "timestamp                                                                   \n",
       "2024-02-19 07:15:00  1.078825  1.078950  1.078660  1.078685  2.587290e+12   \n",
       "2024-02-19 07:30:00  1.078695  1.078880  1.078605  1.078615  3.026060e+12   \n",
       "2024-02-19 07:45:00  1.078580  1.078660  1.078140  1.078270  3.979570e+12   \n",
       "2024-02-19 08:00:00  1.078305  1.078640  1.078240  1.078590  5.892830e+12   \n",
       "2024-02-19 08:15:00  1.078615  1.078745  1.078270  1.078675  5.110300e+12   \n",
       "\n",
       "                       spread    return  log_return  fd_return  log_fd_return  \\\n",
       "timestamp                                                                       \n",
       "2024-02-19 07:15:00  0.000025 -0.000145   -0.000134   0.168021       0.012044   \n",
       "2024-02-19 07:30:00  0.000023 -0.000070   -0.000065   0.167940       0.011969   \n",
       "2024-02-19 07:45:00  0.000022 -0.000345   -0.000320   0.167593       0.011647   \n",
       "2024-02-19 08:00:00  0.000024  0.000320    0.000297   0.167977       0.012002   \n",
       "2024-02-19 08:15:00  0.000025  0.000085    0.000079   0.168014       0.012037   \n",
       "\n",
       "                        EMA_8    EMA_34  ema_cross_flag  \n",
       "timestamp                                                \n",
       "2024-02-19 07:15:00  1.078452  1.078193            True  \n",
       "2024-02-19 07:30:00  1.078488  1.078217            True  \n",
       "2024-02-19 07:45:00  1.078440  1.078220            True  \n",
       "2024-02-19 08:00:00  1.078473  1.078241            True  \n",
       "2024-02-19 08:15:00  1.078518  1.078266            True  "
      ]
     },
     "execution_count": 10,
     "metadata": {},
     "output_type": "execute_result"
    }
   ],
   "source": [
    "df['ema_cross_flag'] = df[f'EMA_{FAST}'] > df[f'EMA_{SLOW}']\n",
    "df.head()"
   ]
  },
  {
   "cell_type": "code",
   "execution_count": 11,
   "id": "e512e1e1-bcec-4567-98ef-eb346424da71",
   "metadata": {},
   "outputs": [
    {
     "data": {
      "text/plain": [
       "DatetimeIndex(['2024-02-19 07:15:00', '2024-02-19 09:00:00',\n",
       "               '2024-02-19 18:00:00', '2024-02-20 00:00:00',\n",
       "               '2024-02-20 07:00:00', '2024-02-20 07:45:00',\n",
       "               '2024-02-20 08:00:00', '2024-02-20 22:00:00',\n",
       "               '2024-02-20 22:45:00', '2024-02-21 01:15:00',\n",
       "               ...\n",
       "               '2024-12-27 17:00:00', '2024-12-27 18:30:00',\n",
       "               '2024-12-27 21:30:00', '2024-12-27 21:45:00',\n",
       "               '2024-12-30 02:15:00', '2024-12-30 06:15:00',\n",
       "               '2024-12-30 08:00:00', '2024-12-30 10:00:00',\n",
       "               '2024-12-30 13:45:00', '2024-12-30 23:45:00'],\n",
       "              dtype='datetime64[ns]', name='timestamp', length=813, freq=None)"
      ]
     },
     "execution_count": 11,
     "metadata": {},
     "output_type": "execute_result"
    }
   ],
   "source": [
    "t_events = df.index[df['ema_cross_flag'] != df['ema_cross_flag'].shift(1)]\n",
    "t_events"
   ]
  },
  {
   "cell_type": "code",
   "execution_count": null,
   "id": "f84f8342-1d22-40f2-9468-274ea1cbc62c",
   "metadata": {},
   "outputs": [],
   "source": []
  },
  {
   "cell_type": "markdown",
   "id": "57fa8ea0-2057-4f11-9ba0-5d3ec76e463c",
   "metadata": {},
   "source": [
    "### Plotting Results"
   ]
  },
  {
   "cell_type": "code",
   "execution_count": 12,
   "id": "978a0a0c-c522-41ee-8562-fad2a3e0f38f",
   "metadata": {},
   "outputs": [
    {
     "data": {
      "image/png": "[encoded data removed]",
      "text/plain": [
       "<Figure size 1400x500 with 1 Axes>"
      ]
     },
     "metadata": {},
     "output_type": "display_data"
    }
   ],
   "source": [
    "# Using the outputs from (2)\n",
    "plt.figure(figsize=(14,5))\n",
    "plt.plot(df.index, df['close'])\n",
    "plt.plot(df.index, df[f'EMA_{FAST}'])\n",
    "plt.plot(df.index, df[f'EMA_{SLOW}'])\n",
    "plt.scatter(t_events, df[f'EMA_{FAST}'].loc[t_events])\n",
    "\n",
    "plt.title('EMA Cross')\n",
    "plt.xlabel('Time'); plt.ylabel('Price')\n",
    "plt.show()"
   ]
  },
  {
   "cell_type": "markdown",
   "id": "decfedf1-c43a-42d9-8de9-e29285d526b8",
   "metadata": {},
   "source": [
    "### Saving File"
   ]
  },
  {
   "cell_type": "code",
   "execution_count": 13,
   "id": "bf260f62-38ea-4ac6-8540-74a4800c60b3",
   "metadata": {},
   "outputs": [
    {
     "data": {
      "text/plain": [
       "PosixPath('../data/events/USDJPY-15m-20240101-20241231_EMA_CROSS_8_34.pkl')"
      ]
     },
     "execution_count": 13,
     "metadata": {},
     "output_type": "execute_result"
    }
   ],
   "source": [
    "EVENT_PATH"
   ]
  },
  {
   "cell_type": "code",
   "execution_count": 14,
   "id": "1f1e7c37-a6d3-40d0-92f9-e655c36a177a",
   "metadata": {},
   "outputs": [],
   "source": [
    "t_events.to_series().to_pickle(EVENT_PATH)"
   ]
  }
 ],
 "metadata": {
  "kernelspec": {
   "display_name": "Python 3 (ipykernel)",
   "language": "python",
   "name": "python3"
  },
  "language_info": {
   "codemirror_mode": {
    "name": "ipython",
    "version": 3
   },
   "file_extension": ".py",
   "mimetype": "text/x-python",
   "name": "python",
   "nbconvert_exporter": "python",
   "pygments_lexer": "ipython3",
   "version": "3.12.11"
  },
  "widgets": {
   "application/vnd.jupyter.widget-state+json": {
    "state": {},
    "version_major": 2,
    "version_minor": 0
   }
  }
 },
 "nbformat": 4,
 "nbformat_minor": 5
}
