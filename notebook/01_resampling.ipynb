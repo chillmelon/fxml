{
 "cells": [
  {
   "cell_type": "code",
   "execution_count": 1,
   "id": "8c6d6f1f-0017-4810-9328-099f68c7c6e2",
   "metadata": {},
   "outputs": [],
   "source": [
    "import pandas as pd\n",
    "import matplotlib.pyplot as plt\n",
    "from matplotlib.ticker import FormatStrFormatter\n",
    "\n",
    "import os"
   ]
  },
  {
   "cell_type": "code",
   "execution_count": 2,
   "id": "bf14af0e-a692-419c-a591-5feaf1601bf9",
   "metadata": {},
   "outputs": [],
   "source": [
    "from pathlib import Path\n",
    "\n",
    "# Configurable parts\n",
    "SOURCE = \"dukascopy\"\n",
    "SYMBOL = \"usdjpy\"\n",
    "MINUTES = 1\n",
    "START_DATE = \"2020-01-01\"\n",
    "END_DATE = \"2024-12-31\"\n",
    "\n",
    "# Build base name\n",
    "BASE_NAME = f\"{SOURCE}-{SYMBOL}-tick-{START_DATE}-{END_DATE}\"\n",
    "RESAMPLED_NAME = f\"{SOURCE}-{SYMBOL}-{MINUTES}m-{START_DATE}-{END_DATE}\"\n",
    "# Base directories\n",
    "BASE_DIR = Path(\"../data\")\n",
    "RAW_DIR = BASE_DIR / \"raw\"\n",
    "RESAMPLED_DIR = BASE_DIR / \"resampled\"\n",
    "\n",
    "# Final paths\n",
    "RAW_FILE_PATH = RAW_DIR / f\"{BASE_NAME}.csv\"\n",
    "RESAMPLED_FILE_PATH = RESAMPLED_DIR / f\"{RESAMPLED_NAME}.pkl\""
   ]
  },
  {
   "cell_type": "code",
   "execution_count": 3,
   "id": "7799f78d-f704-4fff-9171-5e7e203d98b9",
   "metadata": {},
   "outputs": [],
   "source": [
    "def resample_to_ohlcv(df, minutes: int):\n",
    "    # Avoid unnecessary full copy if not modifying inplace\n",
    "    df = df[['timestamp', 'askPrice', 'bidPrice', 'askVolume', 'bidVolume']]\n",
    "\n",
    "    # Minimal temporary columns\n",
    "    df['timestamp'] = pd.to_datetime(df['timestamp'], unit='ms')\n",
    "    df['mid'] = (df['askPrice'] + df['bidPrice']) / 2\n",
    "    df['volume'] = df['askVolume'] + df['bidVolume']\n",
    "    df['spread'] = df['askPrice'] - df['bidPrice']\n",
    "\n",
    "    # Only keep what we need to resample\n",
    "    df.set_index('timestamp', inplace=True)\n",
    "    df = df[['mid', 'volume', 'spread']]\n",
    "\n",
    "    # Perform resampling with reduced footprint\n",
    "    ohlcv = df.resample(f'{minutes}min').agg({\n",
    "        'mid': ['first', 'max', 'min', 'last'],\n",
    "        'volume': 'sum',\n",
    "        'spread': 'mean'\n",
    "    })\n",
    "\n",
    "    # Flatten column names\n",
    "    ohlcv.columns = ['open', 'high', 'low', 'close', 'volume', 'spread']\n",
    "    ohlcv = ohlcv.dropna(subset=['open'])  # Drop rows where no data existed in the interval\n",
    "\n",
    "    ohlcv.reset_index(inplace=True)\n",
    "    return ohlcv\n"
   ]
  },
  {
   "cell_type": "code",
   "execution_count": 4,
   "id": "f3c2359e-9aa7-4d53-8980-3d917a239eba",
   "metadata": {
    "scrolled": true
   },
   "outputs": [],
   "source": [
    "import pandas as pd\n",
    "import numpy as np\n",
    "\n",
    "def check_time_continuity(ohlcv_df, minutes=60):\n",
    "    # Ensure timestamp is in datetime format\n",
    "    ohlcv_df['timestamp'] = pd.to_datetime(ohlcv_df['timestamp'])\n",
    "\n",
    "    # Set timestamp as index for easier continuity check\n",
    "    ohlcv_df.set_index('timestamp', inplace=True)\n",
    "\n",
    "    # Generate a full datetime index at 1-minute intervals from the first to the last timestamp\n",
    "    full_time_index = pd.date_range(start=ohlcv_df.index.min(), end=ohlcv_df.index.max(), freq=f\"{minutes}min\")\n",
    "\n",
    "    # Find missing timestamps (gaps in the data)\n",
    "    missing_timestamps = full_time_index.difference(ohlcv_df.index)\n",
    "\n",
    "    # Print missing statistics\n",
    "    missing_count = len(missing_timestamps)\n",
    "    total_count = len(full_time_index)\n",
    "    missing_percentage = (missing_count / total_count) * 100\n",
    "    \n",
    "    print(f\"Total data points: {total_count}\")\n",
    "    print(f\"Missing data points: {missing_count}\")\n",
    "    print(f\"Percentage of missing data: {missing_percentage:.2f}%\")\n",
    "    print(f\"First missing timestamp: {missing_timestamps.min() if missing_timestamps.size > 0 else 'N/A'}\")\n",
    "    print(f\"Last missing timestamp: {missing_timestamps.max() if missing_timestamps.size > 0 else 'N/A'}\")\n",
    "    ohlcv_df.reset_index(inplace=True)\n",
    "    return missing_timestamps\n",
    "\n"
   ]
  },
  {
   "cell_type": "code",
   "execution_count": 5,
   "id": "79e659aa-5b8f-43d4-aa7f-3fe6cd7e5bd7",
   "metadata": {},
   "outputs": [],
   "source": [
    "df = pd.read_csv(RAW_FILE_PATH)"
   ]
  },
  {
   "cell_type": "code",
   "execution_count": 6,
   "id": "29b2da6f-1a60-4d08-9aee-a4c43083818c",
   "metadata": {},
   "outputs": [
    {
     "data": {
      "text/plain": [
       "(163024077, 5)"
      ]
     },
     "execution_count": 6,
     "metadata": {},
     "output_type": "execute_result"
    }
   ],
   "source": [
    "df.shape"
   ]
  },
  {
   "cell_type": "code",
   "execution_count": 7,
   "id": "68bbc439-d03b-4275-af93-8b978a790a4b",
   "metadata": {},
   "outputs": [
    {
     "data": {
      "text/html": [
       "<div>\n",
       "<style scoped>\n",
       "    .dataframe tbody tr th:only-of-type {\n",
       "        vertical-align: middle;\n",
       "    }\n",
       "\n",
       "    .dataframe tbody tr th {\n",
       "        vertical-align: top;\n",
       "    }\n",
       "\n",
       "    .dataframe thead th {\n",
       "        text-align: right;\n",
       "    }\n",
       "</style>\n",
       "<table border=\"1\" class=\"dataframe\">\n",
       "  <thead>\n",
       "    <tr style=\"text-align: right;\">\n",
       "      <th></th>\n",
       "      <th>timestamp</th>\n",
       "      <th>askPrice</th>\n",
       "      <th>bidPrice</th>\n",
       "      <th>askVolume</th>\n",
       "      <th>bidVolume</th>\n",
       "    </tr>\n",
       "  </thead>\n",
       "  <tbody>\n",
       "    <tr>\n",
       "      <th>0</th>\n",
       "      <td>1577916000219</td>\n",
       "      <td>108.786</td>\n",
       "      <td>108.730</td>\n",
       "      <td>750.0</td>\n",
       "      <td>750.000000</td>\n",
       "    </tr>\n",
       "    <tr>\n",
       "      <th>1</th>\n",
       "      <td>1577916000433</td>\n",
       "      <td>108.790</td>\n",
       "      <td>108.730</td>\n",
       "      <td>750.0</td>\n",
       "      <td>750.000000</td>\n",
       "    </tr>\n",
       "    <tr>\n",
       "      <th>2</th>\n",
       "      <td>1577916023533</td>\n",
       "      <td>108.790</td>\n",
       "      <td>108.729</td>\n",
       "      <td>750.0</td>\n",
       "      <td>750.000000</td>\n",
       "    </tr>\n",
       "    <tr>\n",
       "      <th>3</th>\n",
       "      <td>1577916028663</td>\n",
       "      <td>108.790</td>\n",
       "      <td>108.728</td>\n",
       "      <td>750.0</td>\n",
       "      <td>1309.999943</td>\n",
       "    </tr>\n",
       "    <tr>\n",
       "      <th>4</th>\n",
       "      <td>1577916041516</td>\n",
       "      <td>108.791</td>\n",
       "      <td>108.728</td>\n",
       "      <td>750.0</td>\n",
       "      <td>560.000002</td>\n",
       "    </tr>\n",
       "  </tbody>\n",
       "</table>\n",
       "</div>"
      ],
      "text/plain": [
       "       timestamp  askPrice  bidPrice  askVolume    bidVolume\n",
       "0  1577916000219   108.786   108.730      750.0   750.000000\n",
       "1  1577916000433   108.790   108.730      750.0   750.000000\n",
       "2  1577916023533   108.790   108.729      750.0   750.000000\n",
       "3  1577916028663   108.790   108.728      750.0  1309.999943\n",
       "4  1577916041516   108.791   108.728      750.0   560.000002"
      ]
     },
     "execution_count": 7,
     "metadata": {},
     "output_type": "execute_result"
    }
   ],
   "source": [
    "df.head()"
   ]
  },
  {
   "cell_type": "code",
   "execution_count": 8,
   "id": "b0ca77e3-16f8-49d8-bb9d-219d5ef789ab",
   "metadata": {
    "scrolled": true
   },
   "outputs": [],
   "source": [
    "df = resample_to_ohlcv(df, minutes=MINUTES)"
   ]
  },
  {
   "cell_type": "code",
   "execution_count": 9,
   "id": "3e62c7ff-d356-498c-ade5-03ef3b69747b",
   "metadata": {
    "scrolled": true
   },
   "outputs": [
    {
     "data": {
      "text/html": [
       "<div>\n",
       "<style scoped>\n",
       "    .dataframe tbody tr th:only-of-type {\n",
       "        vertical-align: middle;\n",
       "    }\n",
       "\n",
       "    .dataframe tbody tr th {\n",
       "        vertical-align: top;\n",
       "    }\n",
       "\n",
       "    .dataframe thead th {\n",
       "        text-align: right;\n",
       "    }\n",
       "</style>\n",
       "<table border=\"1\" class=\"dataframe\">\n",
       "  <thead>\n",
       "    <tr style=\"text-align: right;\">\n",
       "      <th></th>\n",
       "      <th>timestamp</th>\n",
       "      <th>open</th>\n",
       "      <th>high</th>\n",
       "      <th>low</th>\n",
       "      <th>close</th>\n",
       "      <th>volume</th>\n",
       "      <th>spread</th>\n",
       "    </tr>\n",
       "  </thead>\n",
       "  <tbody>\n",
       "    <tr>\n",
       "      <th>0</th>\n",
       "      <td>2020-01-01 22:00:00</td>\n",
       "      <td>108.7580</td>\n",
       "      <td>108.7600</td>\n",
       "      <td>108.7580</td>\n",
       "      <td>108.7590</td>\n",
       "      <td>9179.999948</td>\n",
       "      <td>0.060667</td>\n",
       "    </tr>\n",
       "    <tr>\n",
       "      <th>1</th>\n",
       "      <td>2020-01-01 22:01:00</td>\n",
       "      <td>108.7570</td>\n",
       "      <td>108.7590</td>\n",
       "      <td>108.7495</td>\n",
       "      <td>108.7495</td>\n",
       "      <td>13300.000012</td>\n",
       "      <td>0.060333</td>\n",
       "    </tr>\n",
       "    <tr>\n",
       "      <th>2</th>\n",
       "      <td>2020-01-01 22:02:00</td>\n",
       "      <td>108.7495</td>\n",
       "      <td>108.7535</td>\n",
       "      <td>108.7495</td>\n",
       "      <td>108.7535</td>\n",
       "      <td>4500.000000</td>\n",
       "      <td>0.058667</td>\n",
       "    </tr>\n",
       "    <tr>\n",
       "      <th>3</th>\n",
       "      <td>2020-01-01 22:03:00</td>\n",
       "      <td>108.7540</td>\n",
       "      <td>108.7555</td>\n",
       "      <td>108.7535</td>\n",
       "      <td>108.7555</td>\n",
       "      <td>10490.000010</td>\n",
       "      <td>0.059857</td>\n",
       "    </tr>\n",
       "    <tr>\n",
       "      <th>4</th>\n",
       "      <td>2020-01-01 22:04:00</td>\n",
       "      <td>108.7575</td>\n",
       "      <td>108.7650</td>\n",
       "      <td>108.7555</td>\n",
       "      <td>108.7650</td>\n",
       "      <td>11600.000024</td>\n",
       "      <td>0.055100</td>\n",
       "    </tr>\n",
       "    <tr>\n",
       "      <th>...</th>\n",
       "      <td>...</td>\n",
       "      <td>...</td>\n",
       "      <td>...</td>\n",
       "      <td>...</td>\n",
       "      <td>...</td>\n",
       "      <td>...</td>\n",
       "      <td>...</td>\n",
       "    </tr>\n",
       "    <tr>\n",
       "      <th>1860635</th>\n",
       "      <td>2024-12-30 23:55:00</td>\n",
       "      <td>157.0100</td>\n",
       "      <td>157.0110</td>\n",
       "      <td>157.0075</td>\n",
       "      <td>157.0080</td>\n",
       "      <td>206939.997196</td>\n",
       "      <td>0.011818</td>\n",
       "    </tr>\n",
       "    <tr>\n",
       "      <th>1860636</th>\n",
       "      <td>2024-12-30 23:56:00</td>\n",
       "      <td>157.0075</td>\n",
       "      <td>157.0090</td>\n",
       "      <td>157.0075</td>\n",
       "      <td>157.0075</td>\n",
       "      <td>127200.000405</td>\n",
       "      <td>0.010920</td>\n",
       "    </tr>\n",
       "    <tr>\n",
       "      <th>1860637</th>\n",
       "      <td>2024-12-30 23:57:00</td>\n",
       "      <td>157.0035</td>\n",
       "      <td>157.0095</td>\n",
       "      <td>156.9900</td>\n",
       "      <td>157.0070</td>\n",
       "      <td>234090.000987</td>\n",
       "      <td>0.007978</td>\n",
       "    </tr>\n",
       "    <tr>\n",
       "      <th>1860638</th>\n",
       "      <td>2024-12-30 23:58:00</td>\n",
       "      <td>157.0080</td>\n",
       "      <td>157.0080</td>\n",
       "      <td>157.0000</td>\n",
       "      <td>157.0015</td>\n",
       "      <td>317940.000176</td>\n",
       "      <td>0.008533</td>\n",
       "    </tr>\n",
       "    <tr>\n",
       "      <th>1860639</th>\n",
       "      <td>2024-12-30 23:59:00</td>\n",
       "      <td>157.0010</td>\n",
       "      <td>157.0085</td>\n",
       "      <td>156.9980</td>\n",
       "      <td>157.0085</td>\n",
       "      <td>273299.999237</td>\n",
       "      <td>0.008357</td>\n",
       "    </tr>\n",
       "  </tbody>\n",
       "</table>\n",
       "<p>1860640 rows × 7 columns</p>\n",
       "</div>"
      ],
      "text/plain": [
       "                  timestamp      open      high       low     close  \\\n",
       "0       2020-01-01 22:00:00  108.7580  108.7600  108.7580  108.7590   \n",
       "1       2020-01-01 22:01:00  108.7570  108.7590  108.7495  108.7495   \n",
       "2       2020-01-01 22:02:00  108.7495  108.7535  108.7495  108.7535   \n",
       "3       2020-01-01 22:03:00  108.7540  108.7555  108.7535  108.7555   \n",
       "4       2020-01-01 22:04:00  108.7575  108.7650  108.7555  108.7650   \n",
       "...                     ...       ...       ...       ...       ...   \n",
       "1860635 2024-12-30 23:55:00  157.0100  157.0110  157.0075  157.0080   \n",
       "1860636 2024-12-30 23:56:00  157.0075  157.0090  157.0075  157.0075   \n",
       "1860637 2024-12-30 23:57:00  157.0035  157.0095  156.9900  157.0070   \n",
       "1860638 2024-12-30 23:58:00  157.0080  157.0080  157.0000  157.0015   \n",
       "1860639 2024-12-30 23:59:00  157.0010  157.0085  156.9980  157.0085   \n",
       "\n",
       "                volume    spread  \n",
       "0          9179.999948  0.060667  \n",
       "1         13300.000012  0.060333  \n",
       "2          4500.000000  0.058667  \n",
       "3         10490.000010  0.059857  \n",
       "4         11600.000024  0.055100  \n",
       "...                ...       ...  \n",
       "1860635  206939.997196  0.011818  \n",
       "1860636  127200.000405  0.010920  \n",
       "1860637  234090.000987  0.007978  \n",
       "1860638  317940.000176  0.008533  \n",
       "1860639  273299.999237  0.008357  \n",
       "\n",
       "[1860640 rows x 7 columns]"
      ]
     },
     "execution_count": 9,
     "metadata": {},
     "output_type": "execute_result"
    }
   ],
   "source": [
    "df"
   ]
  },
  {
   "cell_type": "code",
   "execution_count": 10,
   "id": "6bcf3d2f-d3f3-41a5-8a27-18ef9ceab4dc",
   "metadata": {
    "scrolled": true
   },
   "outputs": [
    {
     "name": "stdout",
     "output_type": "stream",
     "text": [
      "Total data points: 2628120\n",
      "Missing data points: 767480\n",
      "Percentage of missing data: 29.20%\n",
      "First missing timestamp: 2020-01-02 02:15:00\n",
      "Last missing timestamp: 2024-12-30 23:24:00\n",
      "DatetimeIndex(['2020-01-02 02:15:00', '2020-01-02 03:06:00',\n",
      "               '2020-01-02 03:14:00', '2020-01-02 04:13:00',\n",
      "               '2020-01-02 04:19:00', '2020-01-02 04:20:00',\n",
      "               '2020-01-02 06:46:00', '2020-01-03 22:00:00',\n",
      "               '2020-01-03 22:01:00', '2020-01-03 22:02:00',\n",
      "               ...\n",
      "               '2024-12-30 22:45:00', '2024-12-30 22:46:00',\n",
      "               '2024-12-30 22:47:00', '2024-12-30 22:48:00',\n",
      "               '2024-12-30 22:49:00', '2024-12-30 22:51:00',\n",
      "               '2024-12-30 22:53:00', '2024-12-30 22:54:00',\n",
      "               '2024-12-30 22:55:00', '2024-12-30 23:24:00'],\n",
      "              dtype='datetime64[ns]', length=767480, freq=None)\n"
     ]
    }
   ],
   "source": [
    "print(check_time_continuity(df, minutes=MINUTES))"
   ]
  },
  {
   "cell_type": "markdown",
   "id": "ff5265a1-0b1b-4a65-8fc0-70ba7fa60276",
   "metadata": {},
   "source": [
    "## keep only trading hours data"
   ]
  },
  {
   "cell_type": "code",
   "execution_count": 11,
   "id": "dd716630-12ea-4c47-9c5f-ad170a760500",
   "metadata": {},
   "outputs": [
    {
     "name": "stdout",
     "output_type": "stream",
     "text": [
      "Missing values ratio per column:\n",
      "timestamp    0.0\n",
      "open         0.0\n",
      "high         0.0\n",
      "low          0.0\n",
      "close        0.0\n",
      "volume       0.0\n",
      "spread       0.0\n",
      "dtype: float64\n",
      "                  timestamp      open      high       low     close  volume  \\\n",
      "1778556 2024-10-09 23:05:00  149.2855  149.2955  149.2685  149.2750     0.0   \n",
      "1778557 2024-10-09 23:06:00  149.2705  149.2730  149.2670  149.2700     0.0   \n",
      "1778558 2024-10-09 23:07:00  149.2690  149.2815  149.2640  149.2815     0.0   \n",
      "1778559 2024-10-09 23:08:00  149.2760  149.2815  149.2695  149.2755     0.0   \n",
      "1778560 2024-10-09 23:09:00  149.2740  149.2760  149.2540  149.2550     0.0   \n",
      "\n",
      "           spread  \n",
      "1778556  0.016683  \n",
      "1778557  0.020000  \n",
      "1778558  0.013483  \n",
      "1778559  0.012667  \n",
      "1778560  0.011150  \n"
     ]
    }
   ],
   "source": [
    "import pandas as pd\n",
    "import numpy as np\n",
    "\n",
    "# --- Step 1: Resample to hourly frequency ---\n",
    "df['timestamp'] = pd.to_datetime(df['timestamp'], unit='ms')\n",
    "\n",
    "# --- Step 2: Identify NaNs before forward filling ---\n",
    "mask_to_fill = df.isna().any(axis=1)\n",
    "\n",
    "# --- Step 3: Reset index and extract time info ---\n",
    "df = df.reset_index(drop=True)\n",
    "df['dayofweek'] = df['timestamp'].dt.dayofweek  # 0 = Monday\n",
    "df['hour'] = df['timestamp'].dt.hour\n",
    "\n",
    "# --- Step 4: Drop non-trading hours ---\n",
    "df = df[~(\n",
    "    (df['dayofweek'] == 5) |  # Saturday\n",
    "    ((df['dayofweek'] == 6) & (df['hour'] < 22)) |  # Sunday before 22:00 UTC\n",
    "    ((df['dayofweek'] == 4) & (df['hour'] >= 22))  # Friday after 22:00 UTC\n",
    ")]\n",
    "\n",
    "# --- Step 5: Drop helper columns ---\n",
    "df = df.drop(columns=['dayofweek', 'hour'])\n",
    "\n",
    "# --- Step 6: Forward-fill missing values ---\n",
    "df = df.ffill()\n",
    "\n",
    "# --- Step 7: Handle NaNs in volume and time-related fields explicitly ---\n",
    "df.loc[mask_to_fill, 'volume'] = 0\n",
    "# df.loc[mask_to_fill, ['high_time', 'low_time']] = 0\n",
    "\n",
    "# --- Final check ---\n",
    "print(\"Missing values ratio per column:\")\n",
    "print(df.isna().sum() / df.shape[0])\n",
    "\n",
    "# Optional: preview filled rows with volume = 0\n",
    "print(df[df['volume'] == 0].head())\n"
   ]
  },
  {
   "cell_type": "code",
   "execution_count": 12,
   "id": "a0c634d2-983d-49fc-8ed3-dbe45a159375",
   "metadata": {},
   "outputs": [
    {
     "data": {
      "image/png": "[encoded data removed]",
      "text/plain": [
       "<Figure size 1000x500 with 1 Axes>"
      ]
     },
     "metadata": {},
     "output_type": "display_data"
    }
   ],
   "source": [
    "import matplotlib.pyplot as plt\n",
    "\n",
    "# Assuming your DataFrame is named df and 'timestamp' is datetime type\n",
    "plt.figure(figsize=(10, 5))\n",
    "plt.plot(df['timestamp'], df['close'], label='Close Price')\n",
    "\n",
    "plt.title('Close Price Over Time')\n",
    "plt.xlabel('Time')\n",
    "plt.ylabel('Price')\n",
    "plt.grid(True)\n",
    "plt.legend()\n",
    "plt.tight_layout()\n",
    "plt.show()\n"
   ]
  },
  {
   "cell_type": "code",
   "execution_count": 13,
   "id": "39e7d6d3-b01b-4a57-be89-209dbef08db8",
   "metadata": {},
   "outputs": [],
   "source": [
    "df.to_pickle(RESAMPLED_FILE_PATH)"
   ]
  }
 ],
 "metadata": {
  "kernelspec": {
   "display_name": "Python 3 (ipykernel)",
   "language": "python",
   "name": "python3"
  },
  "language_info": {
   "codemirror_mode": {
    "name": "ipython",
    "version": 3
   },
   "file_extension": ".py",
   "mimetype": "text/x-python",
   "name": "python",
   "nbconvert_exporter": "python",
   "pygments_lexer": "ipython3",
   "version": "3.11.12"
  },
  "widgets": {
   "application/vnd.jupyter.widget-state+json": {
    "state": {},
    "version_major": 2,
    "version_minor": 0
   }
  }
 },
 "nbformat": 4,
 "nbformat_minor": 5
}
