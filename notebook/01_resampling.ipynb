{
 "cells": [
  {
   "cell_type": "code",
   "execution_count": 1,
   "id": "8c6d6f1f-0017-4810-9328-099f68c7c6e2",
   "metadata": {},
   "outputs": [],
   "source": [
    "import pandas as pd\n",
    "import matplotlib.pyplot as plt\n",
    "from matplotlib.ticker import FormatStrFormatter\n",
    "\n",
    "import os"
   ]
  },
  {
   "cell_type": "code",
   "execution_count": 2,
   "id": "bf14af0e-a692-419c-a591-5feaf1601bf9",
   "metadata": {},
   "outputs": [],
   "source": [
    "# Load Forex tick data\n",
    "data_dir = \"../data/raw/\"\n",
    "file_name = \"usdjpy-tick-2020-01-01-2024-12-31.csv\"\n",
    "file_path = os.path.join(data_dir, file_name)\n",
    "pkl_dir = \"../data/pkl\"\n",
    "os.makedirs(pkl_dir, exist_ok=True)\n",
    "name = os.path.splitext(os.path.basename(file_name))[0]\n",
    "pkl_file_path = os.path.join(pkl_dir, f\"{name}.pkl\")\n",
    "\n",
    "resampled_dir = \"../data/resampled\"\n",
    "os.makedirs(resampled_dir, exist_ok=True)\n",
    "name = os.path.splitext(os.path.basename(file_name))[0]\n",
    "resampled_file_path = os.path.join(resampled_dir, \"usdjpy-bar-m3-2020-01-01-2024-12-31.pkl\")"
   ]
  },
  {
   "cell_type": "code",
   "execution_count": 3,
   "id": "7799f78d-f704-4fff-9171-5e7e203d98b9",
   "metadata": {},
   "outputs": [],
   "source": [
    "def resample_to_ohlcv_minute(df, minutes: int):\n",
    "    df_tmp = pd.DataFrame()\n",
    "    # Convert timestamp to datetime\n",
    "    df_tmp['timestamp'] = pd.to_datetime(df['timestamp'], unit='ms')\n",
    "\n",
    "    # Compute mid price as the average of askPrice and bidPrice\n",
    "    df_tmp['midPrice'] = (df['askPrice'] + df['bidPrice']) / 2\n",
    "\n",
    "    df_tmp['volume'] = df['askVolume'] + df['bidVolume']\n",
    "\n",
    "    # Set timestamp as index for resampling\n",
    "    df_tmp.set_index('timestamp', inplace=True)\n",
    "\n",
    "    # Resample by minute and aggregate OHLCV\n",
    "    ohlcv_df = df_tmp.resample(f'{minutes}min').agg({\n",
    "        'midPrice': ['first', 'max', 'min', 'last'],  # OHLC for mid price\n",
    "        'volume': 'sum',  # Total volume\n",
    "    })\n",
    "\n",
    "    # Flatten the column names\n",
    "    ohlcv_df.columns = [\n",
    "        'open', 'high', 'low', 'close', 'volume',\n",
    "    ]\n",
    "\n",
    "    # Reset the index to have timestamp as a column\n",
    "    ohlcv_df.reset_index(inplace=True)\n",
    "\n",
    "    return ohlcv_df"
   ]
  },
  {
   "cell_type": "code",
   "execution_count": 4,
   "id": "f3c2359e-9aa7-4d53-8980-3d917a239eba",
   "metadata": {
    "scrolled": true
   },
   "outputs": [],
   "source": [
    "import pandas as pd\n",
    "import numpy as np\n",
    "\n",
    "def check_time_continuity(ohlcv_df):\n",
    "    # Ensure timestamp is in datetime format\n",
    "    ohlcv_df['timestamp'] = pd.to_datetime(ohlcv_df['timestamp'])\n",
    "\n",
    "    # Set timestamp as index for easier continuity check\n",
    "    ohlcv_df.set_index('timestamp', inplace=True)\n",
    "\n",
    "    # Generate a full datetime index at 1-minute intervals from the first to the last timestamp\n",
    "    full_time_index = pd.date_range(start=ohlcv_df.index.min(), end=ohlcv_df.index.max(), freq='min')\n",
    "\n",
    "    # Find missing timestamps (gaps in the data)\n",
    "    missing_timestamps = full_time_index.difference(ohlcv_df.index)\n",
    "\n",
    "    # Print missing statistics\n",
    "    missing_count = len(missing_timestamps)\n",
    "    total_count = len(full_time_index)\n",
    "    missing_percentage = (missing_count / total_count) * 100\n",
    "    \n",
    "    print(f\"Total data points: {total_count}\")\n",
    "    print(f\"Missing data points: {missing_count}\")\n",
    "    print(f\"Percentage of missing data: {missing_percentage:.2f}%\")\n",
    "    print(f\"First missing timestamp: {missing_timestamps.min() if missing_timestamps.size > 0 else 'N/A'}\")\n",
    "    print(f\"Last missing timestamp: {missing_timestamps.max() if missing_timestamps.size > 0 else 'N/A'}\")\n",
    "    ohlcv_df.reset_index(inplace=True)\n",
    "    return missing_timestamps\n",
    "\n"
   ]
  },
  {
   "cell_type": "code",
   "execution_count": 5,
   "id": "79e659aa-5b8f-43d4-aa7f-3fe6cd7e5bd7",
   "metadata": {},
   "outputs": [],
   "source": [
    "df = pd.read_csv(file_path)"
   ]
  },
  {
   "cell_type": "code",
   "execution_count": 6,
   "id": "29b2da6f-1a60-4d08-9aee-a4c43083818c",
   "metadata": {},
   "outputs": [
    {
     "data": {
      "text/plain": [
       "(163024077, 5)"
      ]
     },
     "execution_count": 6,
     "metadata": {},
     "output_type": "execute_result"
    }
   ],
   "source": [
    "df.shape"
   ]
  },
  {
   "cell_type": "code",
   "execution_count": 7,
   "id": "68bbc439-d03b-4275-af93-8b978a790a4b",
   "metadata": {},
   "outputs": [
    {
     "data": {
      "text/html": [
       "<div>\n",
       "<style scoped>\n",
       "    .dataframe tbody tr th:only-of-type {\n",
       "        vertical-align: middle;\n",
       "    }\n",
       "\n",
       "    .dataframe tbody tr th {\n",
       "        vertical-align: top;\n",
       "    }\n",
       "\n",
       "    .dataframe thead th {\n",
       "        text-align: right;\n",
       "    }\n",
       "</style>\n",
       "<table border=\"1\" class=\"dataframe\">\n",
       "  <thead>\n",
       "    <tr style=\"text-align: right;\">\n",
       "      <th></th>\n",
       "      <th>timestamp</th>\n",
       "      <th>askPrice</th>\n",
       "      <th>bidPrice</th>\n",
       "      <th>askVolume</th>\n",
       "      <th>bidVolume</th>\n",
       "    </tr>\n",
       "  </thead>\n",
       "  <tbody>\n",
       "    <tr>\n",
       "      <th>0</th>\n",
       "      <td>1577916000219</td>\n",
       "      <td>108.786</td>\n",
       "      <td>108.730</td>\n",
       "      <td>750.0</td>\n",
       "      <td>750.000000</td>\n",
       "    </tr>\n",
       "    <tr>\n",
       "      <th>1</th>\n",
       "      <td>1577916000433</td>\n",
       "      <td>108.790</td>\n",
       "      <td>108.730</td>\n",
       "      <td>750.0</td>\n",
       "      <td>750.000000</td>\n",
       "    </tr>\n",
       "    <tr>\n",
       "      <th>2</th>\n",
       "      <td>1577916023533</td>\n",
       "      <td>108.790</td>\n",
       "      <td>108.729</td>\n",
       "      <td>750.0</td>\n",
       "      <td>750.000000</td>\n",
       "    </tr>\n",
       "    <tr>\n",
       "      <th>3</th>\n",
       "      <td>1577916028663</td>\n",
       "      <td>108.790</td>\n",
       "      <td>108.728</td>\n",
       "      <td>750.0</td>\n",
       "      <td>1309.999943</td>\n",
       "    </tr>\n",
       "    <tr>\n",
       "      <th>4</th>\n",
       "      <td>1577916041516</td>\n",
       "      <td>108.791</td>\n",
       "      <td>108.728</td>\n",
       "      <td>750.0</td>\n",
       "      <td>560.000002</td>\n",
       "    </tr>\n",
       "  </tbody>\n",
       "</table>\n",
       "</div>"
      ],
      "text/plain": [
       "       timestamp  askPrice  bidPrice  askVolume    bidVolume\n",
       "0  1577916000219   108.786   108.730      750.0   750.000000\n",
       "1  1577916000433   108.790   108.730      750.0   750.000000\n",
       "2  1577916023533   108.790   108.729      750.0   750.000000\n",
       "3  1577916028663   108.790   108.728      750.0  1309.999943\n",
       "4  1577916041516   108.791   108.728      750.0   560.000002"
      ]
     },
     "execution_count": 7,
     "metadata": {},
     "output_type": "execute_result"
    }
   ],
   "source": [
    "df.head()"
   ]
  },
  {
   "cell_type": "code",
   "execution_count": 8,
   "id": "b0ca77e3-16f8-49d8-bb9d-219d5ef789ab",
   "metadata": {},
   "outputs": [],
   "source": [
    "ohlcv_df = resample_to_ohlcv_minute(df, 3)"
   ]
  },
  {
   "cell_type": "code",
   "execution_count": 9,
   "id": "3e62c7ff-d356-498c-ade5-03ef3b69747b",
   "metadata": {
    "scrolled": true
   },
   "outputs": [
    {
     "data": {
      "text/html": [
       "<div>\n",
       "<style scoped>\n",
       "    .dataframe tbody tr th:only-of-type {\n",
       "        vertical-align: middle;\n",
       "    }\n",
       "\n",
       "    .dataframe tbody tr th {\n",
       "        vertical-align: top;\n",
       "    }\n",
       "\n",
       "    .dataframe thead th {\n",
       "        text-align: right;\n",
       "    }\n",
       "</style>\n",
       "<table border=\"1\" class=\"dataframe\">\n",
       "  <thead>\n",
       "    <tr style=\"text-align: right;\">\n",
       "      <th></th>\n",
       "      <th>timestamp</th>\n",
       "      <th>open</th>\n",
       "      <th>high</th>\n",
       "      <th>low</th>\n",
       "      <th>close</th>\n",
       "      <th>volume</th>\n",
       "    </tr>\n",
       "  </thead>\n",
       "  <tbody>\n",
       "    <tr>\n",
       "      <th>0</th>\n",
       "      <td>2020-01-01 22:00:00</td>\n",
       "      <td>108.7580</td>\n",
       "      <td>108.7600</td>\n",
       "      <td>108.7495</td>\n",
       "      <td>108.7535</td>\n",
       "      <td>2.698000e+04</td>\n",
       "    </tr>\n",
       "    <tr>\n",
       "      <th>1</th>\n",
       "      <td>2020-01-01 22:03:00</td>\n",
       "      <td>108.7540</td>\n",
       "      <td>108.7700</td>\n",
       "      <td>108.7535</td>\n",
       "      <td>108.7700</td>\n",
       "      <td>2.315000e+04</td>\n",
       "    </tr>\n",
       "    <tr>\n",
       "      <th>2</th>\n",
       "      <td>2020-01-01 22:06:00</td>\n",
       "      <td>108.7685</td>\n",
       "      <td>108.7685</td>\n",
       "      <td>108.7495</td>\n",
       "      <td>108.7545</td>\n",
       "      <td>1.632430e+06</td>\n",
       "    </tr>\n",
       "    <tr>\n",
       "      <th>3</th>\n",
       "      <td>2020-01-01 22:09:00</td>\n",
       "      <td>108.7565</td>\n",
       "      <td>108.7625</td>\n",
       "      <td>108.7395</td>\n",
       "      <td>108.7400</td>\n",
       "      <td>6.893100e+05</td>\n",
       "    </tr>\n",
       "    <tr>\n",
       "      <th>4</th>\n",
       "      <td>2020-01-01 22:12:00</td>\n",
       "      <td>108.7340</td>\n",
       "      <td>108.7600</td>\n",
       "      <td>108.6495</td>\n",
       "      <td>108.7450</td>\n",
       "      <td>4.687000e+05</td>\n",
       "    </tr>\n",
       "    <tr>\n",
       "      <th>...</th>\n",
       "      <td>...</td>\n",
       "      <td>...</td>\n",
       "      <td>...</td>\n",
       "      <td>...</td>\n",
       "      <td>...</td>\n",
       "      <td>...</td>\n",
       "    </tr>\n",
       "    <tr>\n",
       "      <th>95</th>\n",
       "      <td>2020-01-02 02:45:00</td>\n",
       "      <td>108.6655</td>\n",
       "      <td>108.6720</td>\n",
       "      <td>108.6610</td>\n",
       "      <td>108.6650</td>\n",
       "      <td>1.212300e+05</td>\n",
       "    </tr>\n",
       "    <tr>\n",
       "      <th>96</th>\n",
       "      <td>2020-01-02 02:48:00</td>\n",
       "      <td>108.6660</td>\n",
       "      <td>108.6715</td>\n",
       "      <td>108.6610</td>\n",
       "      <td>108.6715</td>\n",
       "      <td>1.008900e+05</td>\n",
       "    </tr>\n",
       "    <tr>\n",
       "      <th>97</th>\n",
       "      <td>2020-01-02 02:51:00</td>\n",
       "      <td>108.6715</td>\n",
       "      <td>108.6800</td>\n",
       "      <td>108.6710</td>\n",
       "      <td>108.6765</td>\n",
       "      <td>1.090300e+05</td>\n",
       "    </tr>\n",
       "    <tr>\n",
       "      <th>98</th>\n",
       "      <td>2020-01-02 02:54:00</td>\n",
       "      <td>108.6755</td>\n",
       "      <td>108.6790</td>\n",
       "      <td>108.6745</td>\n",
       "      <td>108.6790</td>\n",
       "      <td>4.363000e+04</td>\n",
       "    </tr>\n",
       "    <tr>\n",
       "      <th>99</th>\n",
       "      <td>2020-01-02 02:57:00</td>\n",
       "      <td>108.6780</td>\n",
       "      <td>108.6785</td>\n",
       "      <td>108.6765</td>\n",
       "      <td>108.6785</td>\n",
       "      <td>7.266000e+04</td>\n",
       "    </tr>\n",
       "  </tbody>\n",
       "</table>\n",
       "<p>100 rows × 6 columns</p>\n",
       "</div>"
      ],
      "text/plain": [
       "             timestamp      open      high       low     close        volume\n",
       "0  2020-01-01 22:00:00  108.7580  108.7600  108.7495  108.7535  2.698000e+04\n",
       "1  2020-01-01 22:03:00  108.7540  108.7700  108.7535  108.7700  2.315000e+04\n",
       "2  2020-01-01 22:06:00  108.7685  108.7685  108.7495  108.7545  1.632430e+06\n",
       "3  2020-01-01 22:09:00  108.7565  108.7625  108.7395  108.7400  6.893100e+05\n",
       "4  2020-01-01 22:12:00  108.7340  108.7600  108.6495  108.7450  4.687000e+05\n",
       "..                 ...       ...       ...       ...       ...           ...\n",
       "95 2020-01-02 02:45:00  108.6655  108.6720  108.6610  108.6650  1.212300e+05\n",
       "96 2020-01-02 02:48:00  108.6660  108.6715  108.6610  108.6715  1.008900e+05\n",
       "97 2020-01-02 02:51:00  108.6715  108.6800  108.6710  108.6765  1.090300e+05\n",
       "98 2020-01-02 02:54:00  108.6755  108.6790  108.6745  108.6790  4.363000e+04\n",
       "99 2020-01-02 02:57:00  108.6780  108.6785  108.6765  108.6785  7.266000e+04\n",
       "\n",
       "[100 rows x 6 columns]"
      ]
     },
     "execution_count": 9,
     "metadata": {},
     "output_type": "execute_result"
    }
   ],
   "source": [
    "ohlcv_df[:100]"
   ]
  },
  {
   "cell_type": "code",
   "execution_count": 10,
   "id": "645e26c6-d687-4c33-be1a-d98f87ba7cf9",
   "metadata": {},
   "outputs": [
    {
     "data": {
      "text/plain": [
       "timestamp         0\n",
       "open         252912\n",
       "high         252912\n",
       "low          252912\n",
       "close        252912\n",
       "volume            0\n",
       "dtype: int64"
      ]
     },
     "execution_count": 10,
     "metadata": {},
     "output_type": "execute_result"
    }
   ],
   "source": [
    "ohlcv_df.isna().sum()"
   ]
  },
  {
   "cell_type": "code",
   "execution_count": 11,
   "id": "6bcf3d2f-d3f3-41a5-8a27-18ef9ceab4dc",
   "metadata": {
    "scrolled": true
   },
   "outputs": [
    {
     "name": "stdout",
     "output_type": "stream",
     "text": [
      "Total data points: 2628118\n",
      "Missing data points: 1752078\n",
      "Percentage of missing data: 66.67%\n",
      "First missing timestamp: 2020-01-01 22:01:00\n",
      "Last missing timestamp: 2024-12-30 23:56:00\n",
      "DatetimeIndex(['2020-01-01 22:01:00', '2020-01-01 22:02:00',\n",
      "               '2020-01-01 22:04:00', '2020-01-01 22:05:00',\n",
      "               '2020-01-01 22:07:00', '2020-01-01 22:08:00',\n",
      "               '2020-01-01 22:10:00', '2020-01-01 22:11:00',\n",
      "               '2020-01-01 22:13:00', '2020-01-01 22:14:00',\n",
      "               ...\n",
      "               '2024-12-30 23:43:00', '2024-12-30 23:44:00',\n",
      "               '2024-12-30 23:46:00', '2024-12-30 23:47:00',\n",
      "               '2024-12-30 23:49:00', '2024-12-30 23:50:00',\n",
      "               '2024-12-30 23:52:00', '2024-12-30 23:53:00',\n",
      "               '2024-12-30 23:55:00', '2024-12-30 23:56:00'],\n",
      "              dtype='datetime64[ns]', length=1752078, freq=None)\n"
     ]
    }
   ],
   "source": [
    "print(check_time_continuity(ohlcv_df))"
   ]
  },
  {
   "cell_type": "code",
   "execution_count": 12,
   "id": "39e7d6d3-b01b-4a57-be89-209dbef08db8",
   "metadata": {},
   "outputs": [],
   "source": [
    "ohlcv_df.to_pickle(resampled_file_path)"
   ]
  },
  {
   "cell_type": "code",
   "execution_count": null,
   "id": "a0c634d2-983d-49fc-8ed3-dbe45a159375",
   "metadata": {},
   "outputs": [],
   "source": []
  }
 ],
 "metadata": {
  "kernelspec": {
   "display_name": "Python 3 (ipykernel)",
   "language": "python",
   "name": "python3"
  },
  "language_info": {
   "codemirror_mode": {
    "name": "ipython",
    "version": 3
   },
   "file_extension": ".py",
   "mimetype": "text/x-python",
   "name": "python",
   "nbconvert_exporter": "python",
   "pygments_lexer": "ipython3",
   "version": "3.11.12"
  },
  "widgets": {
   "application/vnd.jupyter.widget-state+json": {
    "state": {},
    "version_major": 2,
    "version_minor": 0
   }
  }
 },
 "nbformat": 4,
 "nbformat_minor": 5
}
