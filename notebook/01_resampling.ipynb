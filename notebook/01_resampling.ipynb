{
 "cells": [
  {
   "cell_type": "code",
   "execution_count": 11,
   "id": "8c6d6f1f-0017-4810-9328-099f68c7c6e2",
   "metadata": {},
   "outputs": [],
   "source": [
    "import pandas as pd\n",
    "import matplotlib.pyplot as plt\n",
    "from matplotlib.ticker import FormatStrFormatter\n",
    "\n",
    "import os"
   ]
  },
  {
   "cell_type": "code",
   "execution_count": 12,
   "id": "bf14af0e-a692-419c-a591-5feaf1601bf9",
   "metadata": {},
   "outputs": [],
   "source": [
    "# Load Forex tick data\n",
    "data_dir = \"../data/raw/\"\n",
    "file_name = \"usdjpy-tick-2020-01-01-2024-12-31.csv\"\n",
    "file_path = os.path.join(data_dir, file_name)\n",
    "\n",
    "pkl_dir = \"../data/pkl\"\n",
    "os.makedirs(pkl_dir, exist_ok=True)\n",
    "name = os.path.splitext(os.path.basename(file_name))[0]\n",
    "pkl_file_path = os.path.join(pkl_dir, f\"{name}.pkl\")\n",
    "\n",
    "resampled_dir = \"../data/resampled\"\n",
    "os.makedirs(resampled_dir, exist_ok=True)\n",
    "name = os.path.splitext(os.path.basename(file_name))[0]\n",
    "resampled_file_path = os.path.join(resampled_dir, \"usdjpy-bar-test-2020-01-01-2024-12-31.pkl\")"
   ]
  },
  {
   "cell_type": "code",
   "execution_count": 13,
   "id": "7799f78d-f704-4fff-9171-5e7e203d98b9",
   "metadata": {},
   "outputs": [],
   "source": [
    "def resample_to_ohlcv_minute(df):\n",
    "    df_tmp = pd.DataFrame()\n",
    "    # Convert timestamp to datetime\n",
    "    df_tmp['timestamp'] = pd.to_datetime(df['timestamp'], unit='ms')\n",
    "\n",
    "    # Compute mid price as the average of askPrice and bidPrice\n",
    "    df_tmp['midPrice'] = (df['askPrice'] + df['bidPrice']) / 2\n",
    "\n",
    "    df_tmp['volume'] = df['askVolume'] + df['bidVolume']\n",
    "\n",
    "    # Set timestamp as index for resampling\n",
    "    df_tmp.set_index('timestamp', inplace=True)\n",
    "\n",
    "    # Resample by minute and aggregate OHLCV\n",
    "    ohlcv_df = df_tmp.resample('min').agg({\n",
    "        'midPrice': ['first', 'max', 'min', 'last'],  # OHLC for mid price\n",
    "        'volume': 'sum',  # Total volume\n",
    "    })\n",
    "\n",
    "    # Flatten the column names\n",
    "    ohlcv_df.columns = [\n",
    "        'open', 'high', 'low', 'close', 'volume',\n",
    "    ]\n",
    "\n",
    "    # Reset the index to have timestamp as a column\n",
    "    ohlcv_df.reset_index(inplace=True)\n",
    "\n",
    "    return ohlcv_df"
   ]
  },
  {
   "cell_type": "code",
   "execution_count": 14,
   "id": "f3c2359e-9aa7-4d53-8980-3d917a239eba",
   "metadata": {
    "scrolled": true
   },
   "outputs": [],
   "source": [
    "import pandas as pd\n",
    "import numpy as np\n",
    "\n",
    "def check_time_continuity(ohlcv_df):\n",
    "    # Ensure timestamp is in datetime format\n",
    "    ohlcv_df['timestamp'] = pd.to_datetime(ohlcv_df['timestamp'])\n",
    "\n",
    "    # Set timestamp as index for easier continuity check\n",
    "    ohlcv_df.set_index('timestamp', inplace=True)\n",
    "\n",
    "    # Generate a full datetime index at 1-minute intervals from the first to the last timestamp\n",
    "    full_time_index = pd.date_range(start=ohlcv_df.index.min(), end=ohlcv_df.index.max(), freq='min')\n",
    "\n",
    "    # Find missing timestamps (gaps in the data)\n",
    "    missing_timestamps = full_time_index.difference(ohlcv_df.index)\n",
    "\n",
    "    # Print missing statistics\n",
    "    missing_count = len(missing_timestamps)\n",
    "    total_count = len(full_time_index)\n",
    "    missing_percentage = (missing_count / total_count) * 100\n",
    "    \n",
    "    print(f\"Total data points: {total_count}\")\n",
    "    print(f\"Missing data points: {missing_count}\")\n",
    "    print(f\"Percentage of missing data: {missing_percentage:.2f}%\")\n",
    "    print(f\"First missing timestamp: {missing_timestamps.min() if missing_timestamps.size > 0 else 'N/A'}\")\n",
    "    print(f\"Last missing timestamp: {missing_timestamps.max() if missing_timestamps.size > 0 else 'N/A'}\")\n",
    "    ohlcv_df.reset_index(inplace=True)\n",
    "    return missing_timestamps\n",
    "\n"
   ]
  },
  {
   "cell_type": "code",
   "execution_count": 15,
   "id": "dedd1984-93ad-47a0-a5f1-e11f28c3f208",
   "metadata": {},
   "outputs": [],
   "source": [
    "df = pd.read_csv(file_path)"
   ]
  },
  {
   "cell_type": "code",
   "execution_count": 16,
   "id": "29b2da6f-1a60-4d08-9aee-a4c43083818c",
   "metadata": {},
   "outputs": [
    {
     "data": {
      "text/plain": [
       "(163024077, 5)"
      ]
     },
     "execution_count": 16,
     "metadata": {},
     "output_type": "execute_result"
    }
   ],
   "source": [
    "df.shape"
   ]
  },
  {
   "cell_type": "code",
   "execution_count": 17,
   "id": "68bbc439-d03b-4275-af93-8b978a790a4b",
   "metadata": {},
   "outputs": [
    {
     "data": {
      "text/html": [
       "<div>\n",
       "<style scoped>\n",
       "    .dataframe tbody tr th:only-of-type {\n",
       "        vertical-align: middle;\n",
       "    }\n",
       "\n",
       "    .dataframe tbody tr th {\n",
       "        vertical-align: top;\n",
       "    }\n",
       "\n",
       "    .dataframe thead th {\n",
       "        text-align: right;\n",
       "    }\n",
       "</style>\n",
       "<table border=\"1\" class=\"dataframe\">\n",
       "  <thead>\n",
       "    <tr style=\"text-align: right;\">\n",
       "      <th></th>\n",
       "      <th>timestamp</th>\n",
       "      <th>askPrice</th>\n",
       "      <th>bidPrice</th>\n",
       "      <th>askVolume</th>\n",
       "      <th>bidVolume</th>\n",
       "    </tr>\n",
       "  </thead>\n",
       "  <tbody>\n",
       "    <tr>\n",
       "      <th>0</th>\n",
       "      <td>1577916000219</td>\n",
       "      <td>108.786</td>\n",
       "      <td>108.730</td>\n",
       "      <td>750.0</td>\n",
       "      <td>750.000000</td>\n",
       "    </tr>\n",
       "    <tr>\n",
       "      <th>1</th>\n",
       "      <td>1577916000433</td>\n",
       "      <td>108.790</td>\n",
       "      <td>108.730</td>\n",
       "      <td>750.0</td>\n",
       "      <td>750.000000</td>\n",
       "    </tr>\n",
       "    <tr>\n",
       "      <th>2</th>\n",
       "      <td>1577916023533</td>\n",
       "      <td>108.790</td>\n",
       "      <td>108.729</td>\n",
       "      <td>750.0</td>\n",
       "      <td>750.000000</td>\n",
       "    </tr>\n",
       "    <tr>\n",
       "      <th>3</th>\n",
       "      <td>1577916028663</td>\n",
       "      <td>108.790</td>\n",
       "      <td>108.728</td>\n",
       "      <td>750.0</td>\n",
       "      <td>1309.999943</td>\n",
       "    </tr>\n",
       "    <tr>\n",
       "      <th>4</th>\n",
       "      <td>1577916041516</td>\n",
       "      <td>108.791</td>\n",
       "      <td>108.728</td>\n",
       "      <td>750.0</td>\n",
       "      <td>560.000002</td>\n",
       "    </tr>\n",
       "  </tbody>\n",
       "</table>\n",
       "</div>"
      ],
      "text/plain": [
       "       timestamp  askPrice  bidPrice  askVolume    bidVolume\n",
       "0  1577916000219   108.786   108.730      750.0   750.000000\n",
       "1  1577916000433   108.790   108.730      750.0   750.000000\n",
       "2  1577916023533   108.790   108.729      750.0   750.000000\n",
       "3  1577916028663   108.790   108.728      750.0  1309.999943\n",
       "4  1577916041516   108.791   108.728      750.0   560.000002"
      ]
     },
     "execution_count": 17,
     "metadata": {},
     "output_type": "execute_result"
    }
   ],
   "source": [
    "df.head()"
   ]
  },
  {
   "cell_type": "code",
   "execution_count": 18,
   "id": "b0ca77e3-16f8-49d8-bb9d-219d5ef789ab",
   "metadata": {},
   "outputs": [],
   "source": [
    "ohlcv_df = resample_to_ohlcv_minute(df)"
   ]
  },
  {
   "cell_type": "code",
   "execution_count": 19,
   "id": "6bcf3d2f-d3f3-41a5-8a27-18ef9ceab4dc",
   "metadata": {
    "scrolled": true
   },
   "outputs": [
    {
     "name": "stdout",
     "output_type": "stream",
     "text": [
      "Total data points: 2628120\n",
      "Missing data points: 0\n",
      "Percentage of missing data: 0.00%\n",
      "First missing timestamp: N/A\n",
      "Last missing timestamp: N/A\n",
      "DatetimeIndex([], dtype='datetime64[ns]', freq='min')\n"
     ]
    }
   ],
   "source": [
    "print(check_time_continuity(ohlcv_df))"
   ]
  },
  {
   "cell_type": "code",
   "execution_count": 20,
   "id": "39e7d6d3-b01b-4a57-be89-209dbef08db8",
   "metadata": {},
   "outputs": [],
   "source": [
    "ohlcv_df.to_pickle(resampled_file_path)"
   ]
  }
 ],
 "metadata": {
  "kernelspec": {
   "display_name": "Python 3 (ipykernel)",
   "language": "python",
   "name": "python3"
  },
  "language_info": {
   "codemirror_mode": {
    "name": "ipython",
    "version": 3
   },
   "file_extension": ".py",
   "mimetype": "text/x-python",
   "name": "python",
   "nbconvert_exporter": "python",
   "pygments_lexer": "ipython3",
   "version": "3.11.12"
  }
 },
 "nbformat": 4,
 "nbformat_minor": 5
}
