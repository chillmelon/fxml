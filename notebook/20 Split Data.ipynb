{
 "cells": [
  {
   "cell_type": "code",
   "execution_count": 1,
   "id": "e2666017-3426-47ed-866b-f8d4f26ff3b0",
   "metadata": {},
   "outputs": [],
   "source": [
    "import pandas as pd\n",
    "import numpy as np\n",
    "import matplotlib.pyplot as plt\n",
    "from matplotlib.ticker import FormatStrFormatter\n",
    "\n",
    "import os"
   ]
  },
  {
   "cell_type": "code",
   "execution_count": 2,
   "id": "0aa3328e-c2df-4618-b0e6-48b603899470",
   "metadata": {},
   "outputs": [],
   "source": [
    "from pathlib import Path\n",
    "\n",
    "# Configurable parts\n",
    "SYMBOL = \"USDJPY\"\n",
    "SAMPLE_TYPE = \"time\"\n",
    "MINUTES = 15\n",
    "\n",
    "START_DATE = \"20240101\"\n",
    "END_DATE = \"20241231\"\n",
    "\n",
    "# Build base name\n",
    "RESAMPLED_NAME = f\"{SYMBOL}-{MINUTES}m-{START_DATE}-{END_DATE}\"\n",
    "\n",
    "# Base directories\n",
    "BASE_DIR = Path(\"../data\")\n",
    "RESAMPLED_DIR = BASE_DIR / \"resampled\"\n",
    "PROCESSED_DIR = BASE_DIR / \"processed\"\n",
    "EVENTS_DIR = BASE_DIR / \"events\"\n",
    "\n",
    "# Final paths\n",
    "RESAMPLED_FILE_PATH = RESAMPLED_DIR / f\"{RESAMPLED_NAME}.pkl\"\n",
    "PROCESSED_FILE_PATH = PROCESSED_DIR / f\"{RESAMPLED_NAME}_FEATURE.pkl\""
   ]
  },
  {
   "cell_type": "code",
   "execution_count": 3,
   "id": "c36da79d-76c0-4429-8e9c-493749475090",
   "metadata": {},
   "outputs": [],
   "source": [
    "EVENT_NAME = \"Z-SCORE-W100-2Z\"\n",
    "EVENT_PATH = EVENTS_DIR / f\"{RESAMPLED_NAME}_{EVENT_NAME}.pkl\""
   ]
  },
  {
   "cell_type": "code",
   "execution_count": 4,
   "id": "246c03f5-1ed5-46ff-b320-147108e40b1a",
   "metadata": {},
   "outputs": [],
   "source": [
    "DIRECTION_LABEL_FILE_PATH = BASE_DIR / 'direction_labels' / 'USDJPY-15m-20240101-20241231-EMA_CROSS_8_34-TB.pkl'"
   ]
  },
  {
   "cell_type": "code",
   "execution_count": 5,
   "id": "9644678b-fa4b-45e1-9854-9ab70709134a",
   "metadata": {},
   "outputs": [],
   "source": [
    "df = pd.read_pickle(PROCESSED_FILE_PATH)\n",
    "labels = pd.read_pickle(DIRECTION_LABEL_FILE_PATH)"
   ]
  },
  {
   "cell_type": "code",
   "execution_count": 6,
   "id": "bee70887-89cb-4ab2-8cb4-5280e2ee56c4",
   "metadata": {
    "scrolled": true
   },
   "outputs": [
    {
     "name": "stdout",
     "output_type": "stream",
     "text": [
      "                         open      high      low     close        volume  \\\n",
      "timestamp                                                                  \n",
      "2024-02-15 18:00:00  1.076250  1.076450  1.07606  1.076245  5.488560e+12   \n",
      "2024-02-15 18:15:00  1.076250  1.076490  1.07611  1.076455  5.812690e+12   \n",
      "2024-02-15 18:30:00  1.076460  1.076555  1.07624  1.076475  4.481140e+12   \n",
      "2024-02-15 18:45:00  1.076480  1.076760  1.07634  1.076700  3.894920e+12   \n",
      "2024-02-15 19:00:00  1.076705  1.077240  1.07666  1.076985  4.145560e+12   \n",
      "\n",
      "                       spread    return  log_return  fd_return  log_fd_return  \\\n",
      "timestamp                                                                       \n",
      "2024-02-15 18:00:00  0.000025  0.000000    0.000000   0.154042       0.010528   \n",
      "2024-02-15 18:15:00  0.000024  0.000210    0.000195   0.154228       0.010701   \n",
      "2024-02-15 18:30:00  0.000025  0.000020    0.000019   0.154186       0.010661   \n",
      "2024-02-15 18:45:00  0.000025  0.000225    0.000209   0.154375       0.010837   \n",
      "2024-02-15 19:00:00  0.000020  0.000285    0.000265   0.154586       0.011033   \n",
      "\n",
      "                     ...  BBL_5_2.0_2.0  BBM_5_2.0_2.0  BBU_5_2.0_2.0  \\\n",
      "timestamp            ...                                                \n",
      "2024-02-15 18:00:00  ...       1.075866       1.076116       1.076366   \n",
      "2024-02-15 18:15:00  ...       1.075844       1.076197       1.076550   \n",
      "2024-02-15 18:30:00  ...       1.076039       1.076309       1.076579   \n",
      "2024-02-15 18:45:00  ...       1.076085       1.076424       1.076763   \n",
      "2024-02-15 19:00:00  ...       1.076068       1.076572       1.077076   \n",
      "\n",
      "                     BBB_5_2.0_2.0  BBP_5_2.0_2.0  BBL_14_2.0_2.0  \\\n",
      "timestamp                                                           \n",
      "2024-02-15 18:00:00       0.046462       0.758008        1.074885   \n",
      "2024-02-15 18:15:00       0.065626       0.865300        1.074947   \n",
      "2024-02-15 18:30:00       0.050115       0.807754        1.075268   \n",
      "2024-02-15 18:45:00       0.063023       0.906841        1.075544   \n",
      "2024-02-15 19:00:00       0.093551       0.910071        1.075464   \n",
      "\n",
      "                     BBM_14_2.0_2.0  BBU_14_2.0_2.0  BBB_14_2.0_2.0  \\\n",
      "timestamp                                                             \n",
      "2024-02-15 18:00:00        1.076427        1.077970        0.286603   \n",
      "2024-02-15 18:15:00        1.076345        1.077742        0.259652   \n",
      "2024-02-15 18:30:00        1.076221        1.077174        0.177042   \n",
      "2024-02-15 18:45:00        1.076153        1.076763        0.113251   \n",
      "2024-02-15 19:00:00        1.076183        1.076902        0.133621   \n",
      "\n",
      "                     BBP_14_2.0_2.0  \n",
      "timestamp                            \n",
      "2024-02-15 18:00:00        0.440960  \n",
      "2024-02-15 18:15:00        0.539487  \n",
      "2024-02-15 18:30:00        0.633270  \n",
      "2024-02-15 18:45:00        0.948645  \n",
      "2024-02-15 19:00:00        1.057567  \n",
      "\n",
      "[5 rows x 54 columns]\n",
      "                                     t1      trgt       ret  bin  bin_class\n",
      "timestamp                                                                  \n",
      "2024-02-19 09:00:00 2024-02-19 11:00:00  0.000333 -0.000213  0.0        1.0\n",
      "2024-02-19 18:00:00 2024-02-19 20:00:00  0.000338 -0.000121  0.0        1.0\n",
      "2024-02-21 13:45:00 2024-02-21 15:00:00  0.000433  0.000657  1.0        2.0\n",
      "2024-02-22 13:15:00 2024-02-22 13:30:00  0.000607 -0.000853 -1.0        0.0\n",
      "2024-02-23 09:00:00 2024-02-23 09:30:00  0.000353 -0.000504 -1.0        0.0\n"
     ]
    }
   ],
   "source": [
    "print(df.head())\n",
    "print(labels.head())"
   ]
  },
  {
   "cell_type": "code",
   "execution_count": 7,
   "id": "7e9a9608-84e9-40e3-abc1-ba7e1d736b23",
   "metadata": {},
   "outputs": [],
   "source": [
    "val_split = 0.1\n",
    "test_split = 0.1"
   ]
  },
  {
   "cell_type": "code",
   "execution_count": 8,
   "id": "c47cc578-03cc-4da5-8d22-91b75cff2f5c",
   "metadata": {},
   "outputs": [
    {
     "data": {
      "text/plain": [
       "53"
      ]
     },
     "execution_count": 8,
     "metadata": {},
     "output_type": "execute_result"
    }
   ],
   "source": [
    "n_test = int(len(labels) * test_split)\n",
    "n_test"
   ]
  },
  {
   "cell_type": "code",
   "execution_count": 9,
   "id": "73f81d4b-6941-440c-a518-a2f9d6f2ee75",
   "metadata": {},
   "outputs": [
    {
     "data": {
      "text/plain": [
       "53"
      ]
     },
     "execution_count": 9,
     "metadata": {},
     "output_type": "execute_result"
    }
   ],
   "source": [
    "n_val = int(len(labels) * val_split)\n",
    "n_val"
   ]
  },
  {
   "cell_type": "markdown",
   "id": "4b6347a8-b0a3-4886-a444-203d8fc2f611",
   "metadata": {},
   "source": [
    "## Splitting Y"
   ]
  },
  {
   "cell_type": "code",
   "execution_count": 10,
   "id": "336316b0-36ca-427b-81a3-bd9007365cfe",
   "metadata": {},
   "outputs": [],
   "source": [
    "train_labels = labels[:-n_test-n_val]\n",
    "val_labels = labels[-n_test-n_val:-n_test]\n",
    "test_labels = labels[-n_test:]"
   ]
  },
  {
   "cell_type": "code",
   "execution_count": 11,
   "id": "e30e332b-561c-4a49-a7e0-ce359fd75399",
   "metadata": {},
   "outputs": [
    {
     "name": "stdout",
     "output_type": "stream",
     "text": [
      "Train Size: 428\n",
      "Validation Size: 53\n",
      "Test Size: 53\n"
     ]
    }
   ],
   "source": [
    "print('Train Size:', train_labels.shape[0])\n",
    "print('Validation Size:', val_labels.shape[0])\n",
    "print('Test Size:', test_labels.shape[0])"
   ]
  },
  {
   "cell_type": "markdown",
   "id": "1230ec8a-0ee9-4b2f-b297-7abcabc01240",
   "metadata": {},
   "source": [
    "## Splitting X"
   ]
  },
  {
   "cell_type": "code",
   "execution_count": 12,
   "id": "7eafde75-09f3-42ad-b712-80ce88ae5dd9",
   "metadata": {},
   "outputs": [
    {
     "data": {
      "text/plain": [
       "Timestamp('2024-11-13 09:30:00')"
      ]
     },
     "execution_count": 12,
     "metadata": {},
     "output_type": "execute_result"
    }
   ],
   "source": [
    "train_labels.index[-1]"
   ]
  },
  {
   "cell_type": "code",
   "execution_count": 13,
   "id": "2c23c97f-9520-4b9b-905d-64147ae632d7",
   "metadata": {
    "scrolled": true
   },
   "outputs": [],
   "source": [
    "train_features = df.loc[:train_labels.index[-1]]\n",
    "val_features = df.loc[train_labels.index[-1]:val_labels.index[-1]]\n",
    "test_features = df.loc[val_labels.index[-1]:test_labels.index[-1]]"
   ]
  },
  {
   "cell_type": "markdown",
   "id": "e6e73563-5cf4-42b1-9f4b-f9c26357a21b",
   "metadata": {},
   "source": [
    "## Create Dataset"
   ]
  },
  {
   "cell_type": "code",
   "execution_count": 14,
   "id": "338ddba6-d43e-450d-a124-4096f6136864",
   "metadata": {},
   "outputs": [],
   "source": [
    "import os\n",
    "import sys\n",
    "module_path = os.path.abspath(os.path.join('..'))\n",
    "if module_path not in sys.path:\n",
    "    sys.path.append(module_path)"
   ]
  },
  {
   "cell_type": "code",
   "execution_count": 15,
   "id": "0a0ebd57-fbd6-4d2a-8a55-ef18362bd0d8",
   "metadata": {},
   "outputs": [],
   "source": [
    "from dataset.direction_dataset import DirectionDataset"
   ]
  },
  {
   "cell_type": "code",
   "execution_count": 35,
   "id": "dc808ff3-2f5a-45f6-8a18-ae4b221acc77",
   "metadata": {},
   "outputs": [
    {
     "name": "stdout",
     "output_type": "stream",
     "text": [
      "----- Start Creating Sequences -----\n",
      "----- End Creating Sequences -----\n"
     ]
    }
   ],
   "source": [
    "full_dataset = DirectionDataset(\n",
    "    data=df,\n",
    "    events=labels,\n",
    "    sequence_length=60,\n",
    "    features_cols=FEATURES_COLS,\n",
    "    target_col='bin_class',\n",
    ")"
   ]
  },
  {
   "cell_type": "code",
   "execution_count": 16,
   "id": "1ff4b963-66ce-4a5c-9a15-42bea823f3da",
   "metadata": {},
   "outputs": [
    {
     "data": {
      "text/plain": [
       "Index(['open', 'high', 'low', 'close', 'volume', 'spread', 'return',\n",
       "       'log_return', 'fd_return', 'log_fd_return', 'SMA_5', 'SMA_15', 'SMA_30',\n",
       "       'SMA_60', 'EMA_5', 'EMA_15', 'EMA_30', 'EMA_60', 'MACD_12_26_9',\n",
       "       'MACDh_12_26_9', 'MACDs_12_26_9', 'RSI_5', 'RSI_14', 'RSI_20', 'ADX_5',\n",
       "       'ADXR_5_2', 'DMP_5', 'DMN_5', 'ADX_15', 'ADXR_15_2', 'DMP_15', 'DMN_15',\n",
       "       'ADX_30', 'ADXR_30_2', 'DMP_30', 'DMN_30', 'ADX_60', 'ADXR_60_2',\n",
       "       'DMP_60', 'DMN_60', 'ATRr_5', 'ATRr_10', 'ATRr_15', 'ATRr_20',\n",
       "       'BBL_5_2.0_2.0', 'BBM_5_2.0_2.0', 'BBU_5_2.0_2.0', 'BBB_5_2.0_2.0',\n",
       "       'BBP_5_2.0_2.0', 'BBL_14_2.0_2.0', 'BBM_14_2.0_2.0', 'BBU_14_2.0_2.0',\n",
       "       'BBB_14_2.0_2.0', 'BBP_14_2.0_2.0'],\n",
       "      dtype='object')"
      ]
     },
     "execution_count": 16,
     "metadata": {},
     "output_type": "execute_result"
    }
   ],
   "source": [
    "train_features.columns"
   ]
  },
  {
   "cell_type": "code",
   "execution_count": 17,
   "id": "3b6ae4ec-ca48-4a80-9be5-a7fd29319a1b",
   "metadata": {},
   "outputs": [
    {
     "data": {
      "text/plain": [
       "Index(['t1', 'trgt', 'ret', 'bin', 'bin_class'], dtype='object')"
      ]
     },
     "execution_count": 17,
     "metadata": {},
     "output_type": "execute_result"
    }
   ],
   "source": [
    "train_labels.columns"
   ]
  },
  {
   "cell_type": "code",
   "execution_count": 18,
   "id": "b404d5f7-62ee-4b6f-a715-57c18db117cb",
   "metadata": {},
   "outputs": [],
   "source": [
    "FEATURES_COLS = [\n",
    "    'log_fd_return'\n",
    "]"
   ]
  },
  {
   "cell_type": "code",
   "execution_count": 26,
   "id": "61d6ae15-d7c4-4ba1-bad7-40a7a3bd024c",
   "metadata": {
    "scrolled": true
   },
   "outputs": [
    {
     "name": "stdout",
     "output_type": "stream",
     "text": [
      "----- Start Creating Sequences -----\n",
      "----- End Creating Sequences -----\n",
      "----- Start Creating Sequences -----\n",
      "----- End Creating Sequences -----\n"
     ]
    }
   ],
   "source": [
    "train_dataset = DirectionDataset(\n",
    "    data=train_features,\n",
    "    events=train_labels,\n",
    "    sequence_length=60,\n",
    "    features_cols=FEATURES_COLS,\n",
    "    target_col='bin_class',\n",
    ")\n",
    "val_dataset = DirectionDataset(\n",
    "    data=val_features,\n",
    "    events=val_labels,\n",
    "    sequence_length=60,\n",
    "    features_cols=FEATURES_COLS,\n",
    "    target_col='bin_class',\n",
    ")"
   ]
  },
  {
   "cell_type": "markdown",
   "id": "3fe33c00-2f4a-43dd-a737-eb1002de6a22",
   "metadata": {},
   "source": [
    "## Load Model"
   ]
  },
  {
   "cell_type": "code",
   "execution_count": 20,
   "id": "c89e46a7-9051-4f21-9c6e-7f8e55c8c32a",
   "metadata": {},
   "outputs": [],
   "source": [
    "from models.classification.simple_transformer_model import SimpleTransformerModule"
   ]
  },
  {
   "cell_type": "code",
   "execution_count": 21,
   "id": "6e3de7bd-6637-46ca-b1ff-6af8f27840ec",
   "metadata": {},
   "outputs": [],
   "source": [
    "model = SimpleTransformerModule(\n",
    "    n_features=len(FEATURES_COLS),\n",
    "    output_size=3,\n",
    "    num_layers=2,\n",
    "    d_model=64,\n",
    "    nhead=4,\n",
    "    dim_feedforward=256,\n",
    "    dropout=0.4,\n",
    "    label_smoothing=0.0,\n",
    "    pool=\"mean\",\n",
    "    use_class_weights=False,\n",
    ")"
   ]
  },
  {
   "cell_type": "markdown",
   "id": "3e75f55a-73ce-4032-a190-597d9c69b134",
   "metadata": {},
   "source": [
    "## Train Model"
   ]
  },
  {
   "cell_type": "code",
   "execution_count": 22,
   "id": "c6251704-c163-4c81-80a1-1e85783ac4ea",
   "metadata": {
    "scrolled": true
   },
   "outputs": [],
   "source": [
    "from lightning.pytorch import Trainer\n",
    "from torch.utils.data import DataLoader"
   ]
  },
  {
   "cell_type": "code",
   "execution_count": 32,
   "id": "5e439cbd-3eb9-4c24-8ba0-57549226a427",
   "metadata": {},
   "outputs": [],
   "source": [
    "train_dataloader = DataLoader(train_dataset, batch_size=64)\n",
    "val_dataloader = DataLoader(val_dataset, batch_size=64)"
   ]
  },
  {
   "cell_type": "code",
   "execution_count": 33,
   "id": "0de8c869-5351-4063-9c9d-2317c8cbfdbe",
   "metadata": {},
   "outputs": [
    {
     "name": "stderr",
     "output_type": "stream",
     "text": [
      "💡 Tip: For seamless cloud uploads and versioning, try installing [litmodels](https://pypi.org/project/litmodels/) to enable LitModelCheckpoint, which syncs automatically with the Lightning model registry.\n",
      "GPU available: True (mps), used: True\n",
      "TPU available: False, using: 0 TPU cores\n",
      "HPU available: False, using: 0 HPUs\n"
     ]
    }
   ],
   "source": [
    "trainer = Trainer(\n",
    "    accelerator='mps',\n",
    "    max_epochs=100\n",
    ")\n"
   ]
  },
  {
   "cell_type": "code",
   "execution_count": 34,
   "id": "aac01a4b-8b7f-4516-87e1-8d3056375734",
   "metadata": {},
   "outputs": [
    {
     "name": "stderr",
     "output_type": "stream",
     "text": [
      "\n",
      "  | Name      | Type                   | Params | Mode \n",
      "-------------------------------------------------------------\n",
      "0 | model     | SimpleTransformerModel | 100 K  | train\n",
      "1 | train_acc | MulticlassAccuracy     | 0      | train\n",
      "2 | val_acc   | MulticlassAccuracy     | 0      | train\n",
      "-------------------------------------------------------------\n",
      "100 K     Trainable params\n",
      "0         Non-trainable params\n",
      "100 K     Total params\n",
      "0.401     Total estimated model params size (MB)\n",
      "29        Modules in train mode\n",
      "0         Modules in eval mode\n"
     ]
    },
    {
     "data": {
      "application/vnd.jupyter.widget-view+json": {
       "model_id": "49c20006e0b2409799eaa4846430fe7e",
       "version_major": 2,
       "version_minor": 0
      },
      "text/plain": [
       "Sanity Checking: |                                           | 0/? [00:00<?, ?it/s]"
      ]
     },
     "metadata": {},
     "output_type": "display_data"
    },
    {
     "name": "stderr",
     "output_type": "stream",
     "text": [
      "/Users/yoyo/personal/fxml/.venv/lib/python3.12/site-packages/lightning/pytorch/trainer/connectors/data_connector.py:433: The 'val_dataloader' does not have many workers which may be a bottleneck. Consider increasing the value of the `num_workers` argument` to `num_workers=13` in the `DataLoader` to improve performance.\n",
      "/Users/yoyo/personal/fxml/.venv/lib/python3.12/site-packages/lightning/pytorch/trainer/connectors/data_connector.py:433: The 'train_dataloader' does not have many workers which may be a bottleneck. Consider increasing the value of the `num_workers` argument` to `num_workers=13` in the `DataLoader` to improve performance.\n",
      "/Users/yoyo/personal/fxml/.venv/lib/python3.12/site-packages/lightning/pytorch/loops/fit_loop.py:310: The number of training batches (7) is smaller than the logging interval Trainer(log_every_n_steps=50). Set a lower value for log_every_n_steps if you want to see logs for the training epoch.\n"
     ]
    },
    {
     "data": {
      "application/vnd.jupyter.widget-view+json": {
       "model_id": "412de07f52b144b9bb626206631995cd",
       "version_major": 2,
       "version_minor": 0
      },
      "text/plain": [
       "Training: |                                                  | 0/? [00:00<?, ?it/s]"
      ]
     },
     "metadata": {},
     "output_type": "display_data"
    },
    {
     "data": {
      "application/vnd.jupyter.widget-view+json": {
       "model_id": "3c338d2445c0439299bfe74838af107d",
       "version_major": 2,
       "version_minor": 0
      },
      "text/plain": [
       "Validation: |                                                | 0/? [00:00<?, ?it/s]"
      ]
     },
     "metadata": {},
     "output_type": "display_data"
    },
    {
     "data": {
      "application/vnd.jupyter.widget-view+json": {
       "model_id": "a4883e1d18d5453389c5dbe929f0b1d4",
       "version_major": 2,
       "version_minor": 0
      },
      "text/plain": [
       "Validation: |                                                | 0/? [00:00<?, ?it/s]"
      ]
     },
     "metadata": {},
     "output_type": "display_data"
    },
    {
     "data": {
      "application/vnd.jupyter.widget-view+json": {
       "model_id": "c7773ae8e02347d690b5b6ce9fcbdf71",
       "version_major": 2,
       "version_minor": 0
      },
      "text/plain": [
       "Validation: |                                                | 0/? [00:00<?, ?it/s]"
      ]
     },
     "metadata": {},
     "output_type": "display_data"
    },
    {
     "data": {
      "application/vnd.jupyter.widget-view+json": {
       "model_id": "a5f6961a96704e3e9ab563a1bfa0a46d",
       "version_major": 2,
       "version_minor": 0
      },
      "text/plain": [
       "Validation: |                                                | 0/? [00:00<?, ?it/s]"
      ]
     },
     "metadata": {},
     "output_type": "display_data"
    },
    {
     "data": {
      "application/vnd.jupyter.widget-view+json": {
       "model_id": "7f4993b002e044de83a32305b57cb3ee",
       "version_major": 2,
       "version_minor": 0
      },
      "text/plain": [
       "Validation: |                                                | 0/? [00:00<?, ?it/s]"
      ]
     },
     "metadata": {},
     "output_type": "display_data"
    },
    {
     "data": {
      "application/vnd.jupyter.widget-view+json": {
       "model_id": "d9e7f85e5d0341a7a1e7613960e3c0c5",
       "version_major": 2,
       "version_minor": 0
      },
      "text/plain": [
       "Validation: |                                                | 0/? [00:00<?, ?it/s]"
      ]
     },
     "metadata": {},
     "output_type": "display_data"
    },
    {
     "data": {
      "application/vnd.jupyter.widget-view+json": {
       "model_id": "5652c613486d4f92818cb5d2ebcaa3a5",
       "version_major": 2,
       "version_minor": 0
      },
      "text/plain": [
       "Validation: |                                                | 0/? [00:00<?, ?it/s]"
      ]
     },
     "metadata": {},
     "output_type": "display_data"
    },
    {
     "data": {
      "application/vnd.jupyter.widget-view+json": {
       "model_id": "b92bc54dc59f48f1a9cde3988faa0197",
       "version_major": 2,
       "version_minor": 0
      },
      "text/plain": [
       "Validation: |                                                | 0/? [00:00<?, ?it/s]"
      ]
     },
     "metadata": {},
     "output_type": "display_data"
    },
    {
     "data": {
      "application/vnd.jupyter.widget-view+json": {
       "model_id": "af20fb47903a4de09cd537d6b378b5f3",
       "version_major": 2,
       "version_minor": 0
      },
      "text/plain": [
       "Validation: |                                                | 0/? [00:00<?, ?it/s]"
      ]
     },
     "metadata": {},
     "output_type": "display_data"
    },
    {
     "data": {
      "application/vnd.jupyter.widget-view+json": {
       "model_id": "f81d49cdc84f455a8ccb32c6a51e5021",
       "version_major": 2,
       "version_minor": 0
      },
      "text/plain": [
       "Validation: |                                                | 0/? [00:00<?, ?it/s]"
      ]
     },
     "metadata": {},
     "output_type": "display_data"
    },
    {
     "data": {
      "application/vnd.jupyter.widget-view+json": {
       "model_id": "87db0646463548c1b059f7246b88186f",
       "version_major": 2,
       "version_minor": 0
      },
      "text/plain": [
       "Validation: |                                                | 0/? [00:00<?, ?it/s]"
      ]
     },
     "metadata": {},
     "output_type": "display_data"
    },
    {
     "data": {
      "application/vnd.jupyter.widget-view+json": {
       "model_id": "2cc58fb414b445beb19405ac2200f9c3",
       "version_major": 2,
       "version_minor": 0
      },
      "text/plain": [
       "Validation: |                                                | 0/? [00:00<?, ?it/s]"
      ]
     },
     "metadata": {},
     "output_type": "display_data"
    },
    {
     "data": {
      "application/vnd.jupyter.widget-view+json": {
       "model_id": "a2ac75f604104dcf8e619eb4d7a7bbb2",
       "version_major": 2,
       "version_minor": 0
      },
      "text/plain": [
       "Validation: |                                                | 0/? [00:00<?, ?it/s]"
      ]
     },
     "metadata": {},
     "output_type": "display_data"
    },
    {
     "data": {
      "application/vnd.jupyter.widget-view+json": {
       "model_id": "c418bf217038445b965efb674210c6a9",
       "version_major": 2,
       "version_minor": 0
      },
      "text/plain": [
       "Validation: |                                                | 0/? [00:00<?, ?it/s]"
      ]
     },
     "metadata": {},
     "output_type": "display_data"
    },
    {
     "data": {
      "application/vnd.jupyter.widget-view+json": {
       "model_id": "99cb72b38bf949dba76813012db28f52",
       "version_major": 2,
       "version_minor": 0
      },
      "text/plain": [
       "Validation: |                                                | 0/? [00:00<?, ?it/s]"
      ]
     },
     "metadata": {},
     "output_type": "display_data"
    },
    {
     "data": {
      "application/vnd.jupyter.widget-view+json": {
       "model_id": "a36721bb5d0d4727afd6fbce7b6e897d",
       "version_major": 2,
       "version_minor": 0
      },
      "text/plain": [
       "Validation: |                                                | 0/? [00:00<?, ?it/s]"
      ]
     },
     "metadata": {},
     "output_type": "display_data"
    },
    {
     "data": {
      "application/vnd.jupyter.widget-view+json": {
       "model_id": "2090b166dad04187b7da4635f3ad4bdc",
       "version_major": 2,
       "version_minor": 0
      },
      "text/plain": [
       "Validation: |                                                | 0/? [00:00<?, ?it/s]"
      ]
     },
     "metadata": {},
     "output_type": "display_data"
    },
    {
     "data": {
      "application/vnd.jupyter.widget-view+json": {
       "model_id": "cb385afc3f0644fab032b871acacd728",
       "version_major": 2,
       "version_minor": 0
      },
      "text/plain": [
       "Validation: |                                                | 0/? [00:00<?, ?it/s]"
      ]
     },
     "metadata": {},
     "output_type": "display_data"
    },
    {
     "data": {
      "application/vnd.jupyter.widget-view+json": {
       "model_id": "93864481e6504c10b6334577b7ee782f",
       "version_major": 2,
       "version_minor": 0
      },
      "text/plain": [
       "Validation: |                                                | 0/? [00:00<?, ?it/s]"
      ]
     },
     "metadata": {},
     "output_type": "display_data"
    },
    {
     "data": {
      "application/vnd.jupyter.widget-view+json": {
       "model_id": "85e1473995dc43199dd95850ab0efa7b",
       "version_major": 2,
       "version_minor": 0
      },
      "text/plain": [
       "Validation: |                                                | 0/? [00:00<?, ?it/s]"
      ]
     },
     "metadata": {},
     "output_type": "display_data"
    },
    {
     "data": {
      "application/vnd.jupyter.widget-view+json": {
       "model_id": "a024548bf68c4ffc8ee4e908f01e70a4",
       "version_major": 2,
       "version_minor": 0
      },
      "text/plain": [
       "Validation: |                                                | 0/? [00:00<?, ?it/s]"
      ]
     },
     "metadata": {},
     "output_type": "display_data"
    },
    {
     "data": {
      "application/vnd.jupyter.widget-view+json": {
       "model_id": "0f1d36b966984d2392f377e2a0f4932b",
       "version_major": 2,
       "version_minor": 0
      },
      "text/plain": [
       "Validation: |                                                | 0/? [00:00<?, ?it/s]"
      ]
     },
     "metadata": {},
     "output_type": "display_data"
    },
    {
     "data": {
      "application/vnd.jupyter.widget-view+json": {
       "model_id": "501162dd67c048d699b130b740a47f12",
       "version_major": 2,
       "version_minor": 0
      },
      "text/plain": [
       "Validation: |                                                | 0/? [00:00<?, ?it/s]"
      ]
     },
     "metadata": {},
     "output_type": "display_data"
    },
    {
     "data": {
      "application/vnd.jupyter.widget-view+json": {
       "model_id": "6f80f7db80e6407c93cb0b8e71b6d674",
       "version_major": 2,
       "version_minor": 0
      },
      "text/plain": [
       "Validation: |                                                | 0/? [00:00<?, ?it/s]"
      ]
     },
     "metadata": {},
     "output_type": "display_data"
    },
    {
     "data": {
      "application/vnd.jupyter.widget-view+json": {
       "model_id": "9b8759363c47415db506bf594a7f63d6",
       "version_major": 2,
       "version_minor": 0
      },
      "text/plain": [
       "Validation: |                                                | 0/? [00:00<?, ?it/s]"
      ]
     },
     "metadata": {},
     "output_type": "display_data"
    },
    {
     "data": {
      "application/vnd.jupyter.widget-view+json": {
       "model_id": "71b6d901e6af4abe9d7132bf97132e7c",
       "version_major": 2,
       "version_minor": 0
      },
      "text/plain": [
       "Validation: |                                                | 0/? [00:00<?, ?it/s]"
      ]
     },
     "metadata": {},
     "output_type": "display_data"
    },
    {
     "data": {
      "application/vnd.jupyter.widget-view+json": {
       "model_id": "85106eba162b454fb14fbfe4c1037389",
       "version_major": 2,
       "version_minor": 0
      },
      "text/plain": [
       "Validation: |                                                | 0/? [00:00<?, ?it/s]"
      ]
     },
     "metadata": {},
     "output_type": "display_data"
    },
    {
     "data": {
      "application/vnd.jupyter.widget-view+json": {
       "model_id": "3748f6ad671540a8811038f574686998",
       "version_major": 2,
       "version_minor": 0
      },
      "text/plain": [
       "Validation: |                                                | 0/? [00:00<?, ?it/s]"
      ]
     },
     "metadata": {},
     "output_type": "display_data"
    },
    {
     "data": {
      "application/vnd.jupyter.widget-view+json": {
       "model_id": "33d06d92127f4a938e20bdb4db5f939a",
       "version_major": 2,
       "version_minor": 0
      },
      "text/plain": [
       "Validation: |                                                | 0/? [00:00<?, ?it/s]"
      ]
     },
     "metadata": {},
     "output_type": "display_data"
    },
    {
     "data": {
      "application/vnd.jupyter.widget-view+json": {
       "model_id": "7c1a002e7d664680bab740e61a062f48",
       "version_major": 2,
       "version_minor": 0
      },
      "text/plain": [
       "Validation: |                                                | 0/? [00:00<?, ?it/s]"
      ]
     },
     "metadata": {},
     "output_type": "display_data"
    },
    {
     "data": {
      "application/vnd.jupyter.widget-view+json": {
       "model_id": "9ed715af6c044ce6916829ef1eb165dd",
       "version_major": 2,
       "version_minor": 0
      },
      "text/plain": [
       "Validation: |                                                | 0/? [00:00<?, ?it/s]"
      ]
     },
     "metadata": {},
     "output_type": "display_data"
    },
    {
     "data": {
      "application/vnd.jupyter.widget-view+json": {
       "model_id": "e9e4e66e94ee4b0fbbb311f32581a506",
       "version_major": 2,
       "version_minor": 0
      },
      "text/plain": [
       "Validation: |                                                | 0/? [00:00<?, ?it/s]"
      ]
     },
     "metadata": {},
     "output_type": "display_data"
    },
    {
     "data": {
      "application/vnd.jupyter.widget-view+json": {
       "model_id": "3658eab2b4d3438abecb65754a0e676d",
       "version_major": 2,
       "version_minor": 0
      },
      "text/plain": [
       "Validation: |                                                | 0/? [00:00<?, ?it/s]"
      ]
     },
     "metadata": {},
     "output_type": "display_data"
    },
    {
     "data": {
      "application/vnd.jupyter.widget-view+json": {
       "model_id": "698b4755bb25460f9d0906ef1bb1980a",
       "version_major": 2,
       "version_minor": 0
      },
      "text/plain": [
       "Validation: |                                                | 0/? [00:00<?, ?it/s]"
      ]
     },
     "metadata": {},
     "output_type": "display_data"
    },
    {
     "data": {
      "application/vnd.jupyter.widget-view+json": {
       "model_id": "c3709b48fdaf44af867733b0d3c6b5f9",
       "version_major": 2,
       "version_minor": 0
      },
      "text/plain": [
       "Validation: |                                                | 0/? [00:00<?, ?it/s]"
      ]
     },
     "metadata": {},
     "output_type": "display_data"
    },
    {
     "data": {
      "application/vnd.jupyter.widget-view+json": {
       "model_id": "6534546758924357b566871fc3ad9d35",
       "version_major": 2,
       "version_minor": 0
      },
      "text/plain": [
       "Validation: |                                                | 0/? [00:00<?, ?it/s]"
      ]
     },
     "metadata": {},
     "output_type": "display_data"
    },
    {
     "data": {
      "application/vnd.jupyter.widget-view+json": {
       "model_id": "ea526dc076d643fdb1cb87c65ac16e6d",
       "version_major": 2,
       "version_minor": 0
      },
      "text/plain": [
       "Validation: |                                                | 0/? [00:00<?, ?it/s]"
      ]
     },
     "metadata": {},
     "output_type": "display_data"
    },
    {
     "data": {
      "application/vnd.jupyter.widget-view+json": {
       "model_id": "7cb3e8ee16cd4dd8998644afc8462ce9",
       "version_major": 2,
       "version_minor": 0
      },
      "text/plain": [
       "Validation: |                                                | 0/? [00:00<?, ?it/s]"
      ]
     },
     "metadata": {},
     "output_type": "display_data"
    },
    {
     "data": {
      "application/vnd.jupyter.widget-view+json": {
       "model_id": "36664daea1084379bf8f12310835fb90",
       "version_major": 2,
       "version_minor": 0
      },
      "text/plain": [
       "Validation: |                                                | 0/? [00:00<?, ?it/s]"
      ]
     },
     "metadata": {},
     "output_type": "display_data"
    },
    {
     "data": {
      "application/vnd.jupyter.widget-view+json": {
       "model_id": "b815fb1102634ca0a05cd0d39a9a48ae",
       "version_major": 2,
       "version_minor": 0
      },
      "text/plain": [
       "Validation: |                                                | 0/? [00:00<?, ?it/s]"
      ]
     },
     "metadata": {},
     "output_type": "display_data"
    },
    {
     "data": {
      "application/vnd.jupyter.widget-view+json": {
       "model_id": "bc19aa578f994a1b9cf02be63c01e573",
       "version_major": 2,
       "version_minor": 0
      },
      "text/plain": [
       "Validation: |                                                | 0/? [00:00<?, ?it/s]"
      ]
     },
     "metadata": {},
     "output_type": "display_data"
    },
    {
     "data": {
      "application/vnd.jupyter.widget-view+json": {
       "model_id": "78649ae8ddb64c1d9baae91b908bb652",
       "version_major": 2,
       "version_minor": 0
      },
      "text/plain": [
       "Validation: |                                                | 0/? [00:00<?, ?it/s]"
      ]
     },
     "metadata": {},
     "output_type": "display_data"
    },
    {
     "data": {
      "application/vnd.jupyter.widget-view+json": {
       "model_id": "9af49c05ba53407a96252c5d1bea5e1e",
       "version_major": 2,
       "version_minor": 0
      },
      "text/plain": [
       "Validation: |                                                | 0/? [00:00<?, ?it/s]"
      ]
     },
     "metadata": {},
     "output_type": "display_data"
    },
    {
     "data": {
      "application/vnd.jupyter.widget-view+json": {
       "model_id": "5a5ce259db544754a64daaeaf7295a04",
       "version_major": 2,
       "version_minor": 0
      },
      "text/plain": [
       "Validation: |                                                | 0/? [00:00<?, ?it/s]"
      ]
     },
     "metadata": {},
     "output_type": "display_data"
    },
    {
     "data": {
      "application/vnd.jupyter.widget-view+json": {
       "model_id": "6039945654a84f8a85cc4de1a1cd2fe4",
       "version_major": 2,
       "version_minor": 0
      },
      "text/plain": [
       "Validation: |                                                | 0/? [00:00<?, ?it/s]"
      ]
     },
     "metadata": {},
     "output_type": "display_data"
    },
    {
     "data": {
      "application/vnd.jupyter.widget-view+json": {
       "model_id": "4d0bf9e324164b80b3808c5ed822fa1c",
       "version_major": 2,
       "version_minor": 0
      },
      "text/plain": [
       "Validation: |                                                | 0/? [00:00<?, ?it/s]"
      ]
     },
     "metadata": {},
     "output_type": "display_data"
    },
    {
     "data": {
      "application/vnd.jupyter.widget-view+json": {
       "model_id": "221ba8a98d4a4b4bac5389a1a88c0dc3",
       "version_major": 2,
       "version_minor": 0
      },
      "text/plain": [
       "Validation: |                                                | 0/? [00:00<?, ?it/s]"
      ]
     },
     "metadata": {},
     "output_type": "display_data"
    },
    {
     "data": {
      "application/vnd.jupyter.widget-view+json": {
       "model_id": "8a104d8e9c01463f9c5f9cd3fc2b8209",
       "version_major": 2,
       "version_minor": 0
      },
      "text/plain": [
       "Validation: |                                                | 0/? [00:00<?, ?it/s]"
      ]
     },
     "metadata": {},
     "output_type": "display_data"
    },
    {
     "data": {
      "application/vnd.jupyter.widget-view+json": {
       "model_id": "b0547f0ce1df4de0b455407558b06d5a",
       "version_major": 2,
       "version_minor": 0
      },
      "text/plain": [
       "Validation: |                                                | 0/? [00:00<?, ?it/s]"
      ]
     },
     "metadata": {},
     "output_type": "display_data"
    },
    {
     "data": {
      "application/vnd.jupyter.widget-view+json": {
       "model_id": "f3b924c3d12f4f1a87b150aee0edfc11",
       "version_major": 2,
       "version_minor": 0
      },
      "text/plain": [
       "Validation: |                                                | 0/? [00:00<?, ?it/s]"
      ]
     },
     "metadata": {},
     "output_type": "display_data"
    },
    {
     "data": {
      "application/vnd.jupyter.widget-view+json": {
       "model_id": "69dc8c3f573f4bb5bfa8c054acb39d8e",
       "version_major": 2,
       "version_minor": 0
      },
      "text/plain": [
       "Validation: |                                                | 0/? [00:00<?, ?it/s]"
      ]
     },
     "metadata": {},
     "output_type": "display_data"
    },
    {
     "data": {
      "application/vnd.jupyter.widget-view+json": {
       "model_id": "e1f6062499434d49acf921acd52347fd",
       "version_major": 2,
       "version_minor": 0
      },
      "text/plain": [
       "Validation: |                                                | 0/? [00:00<?, ?it/s]"
      ]
     },
     "metadata": {},
     "output_type": "display_data"
    },
    {
     "data": {
      "application/vnd.jupyter.widget-view+json": {
       "model_id": "94c4ea6c4b7d473580113ff6dd56527e",
       "version_major": 2,
       "version_minor": 0
      },
      "text/plain": [
       "Validation: |                                                | 0/? [00:00<?, ?it/s]"
      ]
     },
     "metadata": {},
     "output_type": "display_data"
    },
    {
     "data": {
      "application/vnd.jupyter.widget-view+json": {
       "model_id": "2b64e26253f540d889ea782b01103886",
       "version_major": 2,
       "version_minor": 0
      },
      "text/plain": [
       "Validation: |                                                | 0/? [00:00<?, ?it/s]"
      ]
     },
     "metadata": {},
     "output_type": "display_data"
    },
    {
     "data": {
      "application/vnd.jupyter.widget-view+json": {
       "model_id": "6078dce204b04d70a184c961da8dc4ae",
       "version_major": 2,
       "version_minor": 0
      },
      "text/plain": [
       "Validation: |                                                | 0/? [00:00<?, ?it/s]"
      ]
     },
     "metadata": {},
     "output_type": "display_data"
    },
    {
     "data": {
      "application/vnd.jupyter.widget-view+json": {
       "model_id": "5211b52051bc4761a0edb08b105fc983",
       "version_major": 2,
       "version_minor": 0
      },
      "text/plain": [
       "Validation: |                                                | 0/? [00:00<?, ?it/s]"
      ]
     },
     "metadata": {},
     "output_type": "display_data"
    },
    {
     "data": {
      "application/vnd.jupyter.widget-view+json": {
       "model_id": "f475b93713cc4805b4c464bb51b9e40c",
       "version_major": 2,
       "version_minor": 0
      },
      "text/plain": [
       "Validation: |                                                | 0/? [00:00<?, ?it/s]"
      ]
     },
     "metadata": {},
     "output_type": "display_data"
    },
    {
     "data": {
      "application/vnd.jupyter.widget-view+json": {
       "model_id": "f6482c8ceb6a4fba9750fb6e7ac9182f",
       "version_major": 2,
       "version_minor": 0
      },
      "text/plain": [
       "Validation: |                                                | 0/? [00:00<?, ?it/s]"
      ]
     },
     "metadata": {},
     "output_type": "display_data"
    },
    {
     "data": {
      "application/vnd.jupyter.widget-view+json": {
       "model_id": "426b23fca8754ca0ac8d5d775dd26182",
       "version_major": 2,
       "version_minor": 0
      },
      "text/plain": [
       "Validation: |                                                | 0/? [00:00<?, ?it/s]"
      ]
     },
     "metadata": {},
     "output_type": "display_data"
    },
    {
     "data": {
      "application/vnd.jupyter.widget-view+json": {
       "model_id": "23b06c51fcd4466c8c7e97f5d3883fb4",
       "version_major": 2,
       "version_minor": 0
      },
      "text/plain": [
       "Validation: |                                                | 0/? [00:00<?, ?it/s]"
      ]
     },
     "metadata": {},
     "output_type": "display_data"
    },
    {
     "data": {
      "application/vnd.jupyter.widget-view+json": {
       "model_id": "adc47ad4a5df4e89827cedf06262111f",
       "version_major": 2,
       "version_minor": 0
      },
      "text/plain": [
       "Validation: |                                                | 0/? [00:00<?, ?it/s]"
      ]
     },
     "metadata": {},
     "output_type": "display_data"
    },
    {
     "data": {
      "application/vnd.jupyter.widget-view+json": {
       "model_id": "39deb50148e942e5bdbfe6f291769037",
       "version_major": 2,
       "version_minor": 0
      },
      "text/plain": [
       "Validation: |                                                | 0/? [00:00<?, ?it/s]"
      ]
     },
     "metadata": {},
     "output_type": "display_data"
    },
    {
     "data": {
      "application/vnd.jupyter.widget-view+json": {
       "model_id": "80bece94bd3a416a9ea18606cd161f11",
       "version_major": 2,
       "version_minor": 0
      },
      "text/plain": [
       "Validation: |                                                | 0/? [00:00<?, ?it/s]"
      ]
     },
     "metadata": {},
     "output_type": "display_data"
    },
    {
     "data": {
      "application/vnd.jupyter.widget-view+json": {
       "model_id": "80dc3b7994dd4ba581cf53d3704a6536",
       "version_major": 2,
       "version_minor": 0
      },
      "text/plain": [
       "Validation: |                                                | 0/? [00:00<?, ?it/s]"
      ]
     },
     "metadata": {},
     "output_type": "display_data"
    },
    {
     "data": {
      "application/vnd.jupyter.widget-view+json": {
       "model_id": "f12b2248b1e04c109758a75788665288",
       "version_major": 2,
       "version_minor": 0
      },
      "text/plain": [
       "Validation: |                                                | 0/? [00:00<?, ?it/s]"
      ]
     },
     "metadata": {},
     "output_type": "display_data"
    },
    {
     "data": {
      "application/vnd.jupyter.widget-view+json": {
       "model_id": "7cdf1ac2e5074211bdc3d2f609f4fba0",
       "version_major": 2,
       "version_minor": 0
      },
      "text/plain": [
       "Validation: |                                                | 0/? [00:00<?, ?it/s]"
      ]
     },
     "metadata": {},
     "output_type": "display_data"
    },
    {
     "data": {
      "application/vnd.jupyter.widget-view+json": {
       "model_id": "e7e5ac15a0cc4a8bbeb082b9110f9bba",
       "version_major": 2,
       "version_minor": 0
      },
      "text/plain": [
       "Validation: |                                                | 0/? [00:00<?, ?it/s]"
      ]
     },
     "metadata": {},
     "output_type": "display_data"
    },
    {
     "data": {
      "application/vnd.jupyter.widget-view+json": {
       "model_id": "9f97c8632da74a6db6c6e1bf38f7fd68",
       "version_major": 2,
       "version_minor": 0
      },
      "text/plain": [
       "Validation: |                                                | 0/? [00:00<?, ?it/s]"
      ]
     },
     "metadata": {},
     "output_type": "display_data"
    },
    {
     "data": {
      "application/vnd.jupyter.widget-view+json": {
       "model_id": "06d7516951d444b286804fcc3548e4db",
       "version_major": 2,
       "version_minor": 0
      },
      "text/plain": [
       "Validation: |                                                | 0/? [00:00<?, ?it/s]"
      ]
     },
     "metadata": {},
     "output_type": "display_data"
    },
    {
     "data": {
      "application/vnd.jupyter.widget-view+json": {
       "model_id": "22417dd4befc4c6f9572e5509bacbd70",
       "version_major": 2,
       "version_minor": 0
      },
      "text/plain": [
       "Validation: |                                                | 0/? [00:00<?, ?it/s]"
      ]
     },
     "metadata": {},
     "output_type": "display_data"
    },
    {
     "data": {
      "application/vnd.jupyter.widget-view+json": {
       "model_id": "3e7f8d53cceb478a8b45e0ba352cff39",
       "version_major": 2,
       "version_minor": 0
      },
      "text/plain": [
       "Validation: |                                                | 0/? [00:00<?, ?it/s]"
      ]
     },
     "metadata": {},
     "output_type": "display_data"
    },
    {
     "data": {
      "application/vnd.jupyter.widget-view+json": {
       "model_id": "ca5549b4f68b44f3b609e2ed6d4732a6",
       "version_major": 2,
       "version_minor": 0
      },
      "text/plain": [
       "Validation: |                                                | 0/? [00:00<?, ?it/s]"
      ]
     },
     "metadata": {},
     "output_type": "display_data"
    },
    {
     "data": {
      "application/vnd.jupyter.widget-view+json": {
       "model_id": "2a71b572212c4826b8c0a656fe70f75e",
       "version_major": 2,
       "version_minor": 0
      },
      "text/plain": [
       "Validation: |                                                | 0/? [00:00<?, ?it/s]"
      ]
     },
     "metadata": {},
     "output_type": "display_data"
    },
    {
     "data": {
      "application/vnd.jupyter.widget-view+json": {
       "model_id": "150cb9d0f5df4be9afeb7f4433f319d1",
       "version_major": 2,
       "version_minor": 0
      },
      "text/plain": [
       "Validation: |                                                | 0/? [00:00<?, ?it/s]"
      ]
     },
     "metadata": {},
     "output_type": "display_data"
    },
    {
     "data": {
      "application/vnd.jupyter.widget-view+json": {
       "model_id": "50ca83dc5284461c957e1b0b7bb4bd0d",
       "version_major": 2,
       "version_minor": 0
      },
      "text/plain": [
       "Validation: |                                                | 0/? [00:00<?, ?it/s]"
      ]
     },
     "metadata": {},
     "output_type": "display_data"
    },
    {
     "data": {
      "application/vnd.jupyter.widget-view+json": {
       "model_id": "b326beb9c4e940178e9dc55985782e5a",
       "version_major": 2,
       "version_minor": 0
      },
      "text/plain": [
       "Validation: |                                                | 0/? [00:00<?, ?it/s]"
      ]
     },
     "metadata": {},
     "output_type": "display_data"
    },
    {
     "data": {
      "application/vnd.jupyter.widget-view+json": {
       "model_id": "7addb2e0fa69421d864d3b34fc5388cd",
       "version_major": 2,
       "version_minor": 0
      },
      "text/plain": [
       "Validation: |                                                | 0/? [00:00<?, ?it/s]"
      ]
     },
     "metadata": {},
     "output_type": "display_data"
    },
    {
     "data": {
      "application/vnd.jupyter.widget-view+json": {
       "model_id": "010330e39e534c5f996acd876d0bc88e",
       "version_major": 2,
       "version_minor": 0
      },
      "text/plain": [
       "Validation: |                                                | 0/? [00:00<?, ?it/s]"
      ]
     },
     "metadata": {},
     "output_type": "display_data"
    },
    {
     "data": {
      "application/vnd.jupyter.widget-view+json": {
       "model_id": "07217e8a14c946b69323b05f93775bd4",
       "version_major": 2,
       "version_minor": 0
      },
      "text/plain": [
       "Validation: |                                                | 0/? [00:00<?, ?it/s]"
      ]
     },
     "metadata": {},
     "output_type": "display_data"
    },
    {
     "data": {
      "application/vnd.jupyter.widget-view+json": {
       "model_id": "1c49712b038b460da6cdedf08b449e5b",
       "version_major": 2,
       "version_minor": 0
      },
      "text/plain": [
       "Validation: |                                                | 0/? [00:00<?, ?it/s]"
      ]
     },
     "metadata": {},
     "output_type": "display_data"
    },
    {
     "data": {
      "application/vnd.jupyter.widget-view+json": {
       "model_id": "7b535047478840b1af87677dc9fb9eb5",
       "version_major": 2,
       "version_minor": 0
      },
      "text/plain": [
       "Validation: |                                                | 0/? [00:00<?, ?it/s]"
      ]
     },
     "metadata": {},
     "output_type": "display_data"
    },
    {
     "data": {
      "application/vnd.jupyter.widget-view+json": {
       "model_id": "b8607d76932c496daabcc225165903ab",
       "version_major": 2,
       "version_minor": 0
      },
      "text/plain": [
       "Validation: |                                                | 0/? [00:00<?, ?it/s]"
      ]
     },
     "metadata": {},
     "output_type": "display_data"
    },
    {
     "data": {
      "application/vnd.jupyter.widget-view+json": {
       "model_id": "7ddd9fa7e4264eb287f8cc4bbc591908",
       "version_major": 2,
       "version_minor": 0
      },
      "text/plain": [
       "Validation: |                                                | 0/? [00:00<?, ?it/s]"
      ]
     },
     "metadata": {},
     "output_type": "display_data"
    },
    {
     "data": {
      "application/vnd.jupyter.widget-view+json": {
       "model_id": "acda2040b4c746ca88a957a27401eac6",
       "version_major": 2,
       "version_minor": 0
      },
      "text/plain": [
       "Validation: |                                                | 0/? [00:00<?, ?it/s]"
      ]
     },
     "metadata": {},
     "output_type": "display_data"
    },
    {
     "data": {
      "application/vnd.jupyter.widget-view+json": {
       "model_id": "8e1c1e6004614cef9f8256564660c23a",
       "version_major": 2,
       "version_minor": 0
      },
      "text/plain": [
       "Validation: |                                                | 0/? [00:00<?, ?it/s]"
      ]
     },
     "metadata": {},
     "output_type": "display_data"
    },
    {
     "data": {
      "application/vnd.jupyter.widget-view+json": {
       "model_id": "394414110a3b4226ba461f61e261a048",
       "version_major": 2,
       "version_minor": 0
      },
      "text/plain": [
       "Validation: |                                                | 0/? [00:00<?, ?it/s]"
      ]
     },
     "metadata": {},
     "output_type": "display_data"
    },
    {
     "data": {
      "application/vnd.jupyter.widget-view+json": {
       "model_id": "9af31d5054d1455fabe54fe2146d289a",
       "version_major": 2,
       "version_minor": 0
      },
      "text/plain": [
       "Validation: |                                                | 0/? [00:00<?, ?it/s]"
      ]
     },
     "metadata": {},
     "output_type": "display_data"
    },
    {
     "data": {
      "application/vnd.jupyter.widget-view+json": {
       "model_id": "ff646835d16d47c6ac0a59db8deef9a3",
       "version_major": 2,
       "version_minor": 0
      },
      "text/plain": [
       "Validation: |                                                | 0/? [00:00<?, ?it/s]"
      ]
     },
     "metadata": {},
     "output_type": "display_data"
    },
    {
     "data": {
      "application/vnd.jupyter.widget-view+json": {
       "model_id": "860f450eb9364fde88e5e195d4cc0676",
       "version_major": 2,
       "version_minor": 0
      },
      "text/plain": [
       "Validation: |                                                | 0/? [00:00<?, ?it/s]"
      ]
     },
     "metadata": {},
     "output_type": "display_data"
    },
    {
     "data": {
      "application/vnd.jupyter.widget-view+json": {
       "model_id": "4a394f8f4db642ffa3dc3b4ac9d82c74",
       "version_major": 2,
       "version_minor": 0
      },
      "text/plain": [
       "Validation: |                                                | 0/? [00:00<?, ?it/s]"
      ]
     },
     "metadata": {},
     "output_type": "display_data"
    },
    {
     "data": {
      "application/vnd.jupyter.widget-view+json": {
       "model_id": "9ec07dfd596340c69f7fe32ccc295aa3",
       "version_major": 2,
       "version_minor": 0
      },
      "text/plain": [
       "Validation: |                                                | 0/? [00:00<?, ?it/s]"
      ]
     },
     "metadata": {},
     "output_type": "display_data"
    },
    {
     "data": {
      "application/vnd.jupyter.widget-view+json": {
       "model_id": "2633ed625bfa4d2d88e9fcffd55e1fb4",
       "version_major": 2,
       "version_minor": 0
      },
      "text/plain": [
       "Validation: |                                                | 0/? [00:00<?, ?it/s]"
      ]
     },
     "metadata": {},
     "output_type": "display_data"
    },
    {
     "data": {
      "application/vnd.jupyter.widget-view+json": {
       "model_id": "63eb783a383a4d7b99defceb7602e879",
       "version_major": 2,
       "version_minor": 0
      },
      "text/plain": [
       "Validation: |                                                | 0/? [00:00<?, ?it/s]"
      ]
     },
     "metadata": {},
     "output_type": "display_data"
    },
    {
     "data": {
      "application/vnd.jupyter.widget-view+json": {
       "model_id": "86d8422a568441a5b4adc04cccbfc2f7",
       "version_major": 2,
       "version_minor": 0
      },
      "text/plain": [
       "Validation: |                                                | 0/? [00:00<?, ?it/s]"
      ]
     },
     "metadata": {},
     "output_type": "display_data"
    },
    {
     "data": {
      "application/vnd.jupyter.widget-view+json": {
       "model_id": "9f382c44fc3b44cf9f4615d04726ff61",
       "version_major": 2,
       "version_minor": 0
      },
      "text/plain": [
       "Validation: |                                                | 0/? [00:00<?, ?it/s]"
      ]
     },
     "metadata": {},
     "output_type": "display_data"
    },
    {
     "data": {
      "application/vnd.jupyter.widget-view+json": {
       "model_id": "5ae86db896cc45c69187e18e096a17dc",
       "version_major": 2,
       "version_minor": 0
      },
      "text/plain": [
       "Validation: |                                                | 0/? [00:00<?, ?it/s]"
      ]
     },
     "metadata": {},
     "output_type": "display_data"
    },
    {
     "data": {
      "application/vnd.jupyter.widget-view+json": {
       "model_id": "68675ac5c6ff4e5ea6f9d265cfeb91ca",
       "version_major": 2,
       "version_minor": 0
      },
      "text/plain": [
       "Validation: |                                                | 0/? [00:00<?, ?it/s]"
      ]
     },
     "metadata": {},
     "output_type": "display_data"
    },
    {
     "data": {
      "application/vnd.jupyter.widget-view+json": {
       "model_id": "7bb2e016e6fe46c781e2325edd73f817",
       "version_major": 2,
       "version_minor": 0
      },
      "text/plain": [
       "Validation: |                                                | 0/? [00:00<?, ?it/s]"
      ]
     },
     "metadata": {},
     "output_type": "display_data"
    },
    {
     "data": {
      "application/vnd.jupyter.widget-view+json": {
       "model_id": "7191f31ab2e74dc9a57649a6b665becc",
       "version_major": 2,
       "version_minor": 0
      },
      "text/plain": [
       "Validation: |                                                | 0/? [00:00<?, ?it/s]"
      ]
     },
     "metadata": {},
     "output_type": "display_data"
    },
    {
     "data": {
      "application/vnd.jupyter.widget-view+json": {
       "model_id": "fa8d22cdad7543329a9bbadb61aa34b2",
       "version_major": 2,
       "version_minor": 0
      },
      "text/plain": [
       "Validation: |                                                | 0/? [00:00<?, ?it/s]"
      ]
     },
     "metadata": {},
     "output_type": "display_data"
    },
    {
     "name": "stderr",
     "output_type": "stream",
     "text": [
      "`Trainer.fit` stopped: `max_epochs=100` reached.\n"
     ]
    }
   ],
   "source": [
    "trainer.fit(model, train_dataloaders=train_dataloader, val_dataloaders=val_dataloader)"
   ]
  }
 ],
 "metadata": {
  "kernelspec": {
   "display_name": "Python 3 (ipykernel)",
   "language": "python",
   "name": "python3"
  },
  "language_info": {
   "codemirror_mode": {
    "name": "ipython",
    "version": 3
   },
   "file_extension": ".py",
   "mimetype": "text/x-python",
   "name": "python",
   "nbconvert_exporter": "python",
   "pygments_lexer": "ipython3",
   "version": "3.12.11"
  }
 },
 "nbformat": 4,
 "nbformat_minor": 5
}
