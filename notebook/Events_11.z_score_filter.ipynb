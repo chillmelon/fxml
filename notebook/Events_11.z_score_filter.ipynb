{
 "cells": [
  {
   "cell_type": "code",
   "execution_count": 56,
   "id": "8c6d6f1f-0017-4810-9328-099f68c7c6e2",
   "metadata": {},
   "outputs": [],
   "source": [
    "import pandas as pd\n",
    "import matplotlib.pyplot as plt\n",
    "from matplotlib.ticker import FormatStrFormatter\n",
    "\n",
    "import os\n",
    "import os\n",
    "import sys\n",
    "module_path = os.path.abspath(os.path.join('..'))\n",
    "if module_path not in sys.path:\n",
    "    sys.path.append(module_path)"
   ]
  },
  {
   "cell_type": "code",
   "execution_count": 57,
   "id": "bf14af0e-a692-419c-a591-5feaf1601bf9",
   "metadata": {},
   "outputs": [],
   "source": [
    "from pathlib import Path\n",
    "\n",
    "# Configurable parts\n",
    "SYMBOL = \"USDJPY\"\n",
    "SAMPLE_TYPE = \"time\"\n",
    "MINUTES = 5\n",
    "\n",
    "START_DATE = \"20240101\"\n",
    "END_DATE = \"20241231\"\n",
    "\n",
    "# Build base name\n",
    "RESAMPLED_NAME = f\"{SYMBOL}-{MINUTES}m-{START_DATE}-{END_DATE}\"\n",
    "\n",
    "# Base directories\n",
    "BASE_DIR = Path(\"../data\")\n",
    "RESAMPLED_DIR = BASE_DIR / \"interm/resampled\"\n",
    "PROCESSED_DIR = BASE_DIR / \"processed\"\n",
    "EVENTS_DIR = BASE_DIR / \"interm/events\"\n",
    "\n",
    "# Final paths\n",
    "RESAMPLED_FILE_PATH = RESAMPLED_DIR / f\"{RESAMPLED_NAME}.pkl\"\n",
    "PROCESSED_FILE_PATH = PROCESSED_DIR / f\"{RESAMPLED_NAME}_FEATURES.pkl\""
   ]
  },
  {
   "cell_type": "code",
   "execution_count": 58,
   "id": "79e659aa-5b8f-43d4-aa7f-3fe6cd7e5bd7",
   "metadata": {
    "scrolled": true
   },
   "outputs": [
    {
     "name": "stdout",
     "output_type": "stream",
     "text": [
      "CPU times: user 1.27 ms, sys: 8.42 ms, total: 9.69 ms\n",
      "Wall time: 8.15 ms\n"
     ]
    }
   ],
   "source": [
    "%%time\n",
    "df = pd.read_pickle(PROCESSED_FILE_PATH)"
   ]
  },
  {
   "cell_type": "code",
   "execution_count": 59,
   "id": "29b2da6f-1a60-4d08-9aee-a4c43083818c",
   "metadata": {},
   "outputs": [
    {
     "data": {
      "text/plain": [
       "(73782, 60)"
      ]
     },
     "execution_count": 59,
     "metadata": {},
     "output_type": "execute_result"
    }
   ],
   "source": [
    "df.shape"
   ]
  },
  {
   "cell_type": "code",
   "execution_count": 60,
   "id": "68bbc439-d03b-4275-af93-8b978a790a4b",
   "metadata": {
    "scrolled": true
   },
   "outputs": [
    {
     "data": {
      "text/html": [
       "<div>\n",
       "<style scoped>\n",
       "    .dataframe tbody tr th:only-of-type {\n",
       "        vertical-align: middle;\n",
       "    }\n",
       "\n",
       "    .dataframe tbody tr th {\n",
       "        vertical-align: top;\n",
       "    }\n",
       "\n",
       "    .dataframe thead th {\n",
       "        text-align: right;\n",
       "    }\n",
       "</style>\n",
       "<table border=\"1\" class=\"dataframe\">\n",
       "  <thead>\n",
       "    <tr style=\"text-align: right;\">\n",
       "      <th></th>\n",
       "      <th>open</th>\n",
       "      <th>high</th>\n",
       "      <th>low</th>\n",
       "      <th>close</th>\n",
       "      <th>volume</th>\n",
       "      <th>spread</th>\n",
       "      <th>close_pct_return</th>\n",
       "      <th>close_return</th>\n",
       "      <th>close_log_return</th>\n",
       "      <th>close_fd_return</th>\n",
       "      <th>...</th>\n",
       "      <th>dom</th>\n",
       "      <th>month</th>\n",
       "      <th>hour_sin</th>\n",
       "      <th>hour_cos</th>\n",
       "      <th>dow_sin</th>\n",
       "      <th>dow_cos</th>\n",
       "      <th>dom_sin</th>\n",
       "      <th>dom_cos</th>\n",
       "      <th>month_sin</th>\n",
       "      <th>month_cos</th>\n",
       "    </tr>\n",
       "    <tr>\n",
       "      <th>timestamp</th>\n",
       "      <th></th>\n",
       "      <th></th>\n",
       "      <th></th>\n",
       "      <th></th>\n",
       "      <th></th>\n",
       "      <th></th>\n",
       "      <th></th>\n",
       "      <th></th>\n",
       "      <th></th>\n",
       "      <th></th>\n",
       "      <th></th>\n",
       "      <th></th>\n",
       "      <th></th>\n",
       "      <th></th>\n",
       "      <th></th>\n",
       "      <th></th>\n",
       "      <th></th>\n",
       "      <th></th>\n",
       "      <th></th>\n",
       "      <th></th>\n",
       "      <th></th>\n",
       "    </tr>\n",
       "  </thead>\n",
       "  <tbody>\n",
       "    <tr>\n",
       "      <th>2024-01-05 03:25:00</th>\n",
       "      <td>144.8960</td>\n",
       "      <td>144.9415</td>\n",
       "      <td>144.8940</td>\n",
       "      <td>144.9105</td>\n",
       "      <td>2.780660e+12</td>\n",
       "      <td>0.006927</td>\n",
       "      <td>0.000100</td>\n",
       "      <td>0.0145</td>\n",
       "      <td>0.000100</td>\n",
       "      <td>2.788711</td>\n",
       "      <td>...</td>\n",
       "      <td>5</td>\n",
       "      <td>1</td>\n",
       "      <td>0.707107</td>\n",
       "      <td>0.707107</td>\n",
       "      <td>-0.433884</td>\n",
       "      <td>-0.900969</td>\n",
       "      <td>0.848644</td>\n",
       "      <td>0.528964</td>\n",
       "      <td>0.5</td>\n",
       "      <td>0.866025</td>\n",
       "    </tr>\n",
       "    <tr>\n",
       "      <th>2024-01-05 03:30:00</th>\n",
       "      <td>144.9100</td>\n",
       "      <td>144.9490</td>\n",
       "      <td>144.9060</td>\n",
       "      <td>144.9470</td>\n",
       "      <td>2.220040e+12</td>\n",
       "      <td>0.006398</td>\n",
       "      <td>0.000252</td>\n",
       "      <td>0.0365</td>\n",
       "      <td>0.000252</td>\n",
       "      <td>2.810244</td>\n",
       "      <td>...</td>\n",
       "      <td>5</td>\n",
       "      <td>1</td>\n",
       "      <td>0.707107</td>\n",
       "      <td>0.707107</td>\n",
       "      <td>-0.433884</td>\n",
       "      <td>-0.900969</td>\n",
       "      <td>0.848644</td>\n",
       "      <td>0.528964</td>\n",
       "      <td>0.5</td>\n",
       "      <td>0.866025</td>\n",
       "    </tr>\n",
       "    <tr>\n",
       "      <th>2024-01-05 03:35:00</th>\n",
       "      <td>144.9465</td>\n",
       "      <td>144.9490</td>\n",
       "      <td>144.9230</td>\n",
       "      <td>144.9240</td>\n",
       "      <td>3.450710e+12</td>\n",
       "      <td>0.006930</td>\n",
       "      <td>-0.000159</td>\n",
       "      <td>-0.0230</td>\n",
       "      <td>-0.000159</td>\n",
       "      <td>2.762497</td>\n",
       "      <td>...</td>\n",
       "      <td>5</td>\n",
       "      <td>1</td>\n",
       "      <td>0.707107</td>\n",
       "      <td>0.707107</td>\n",
       "      <td>-0.433884</td>\n",
       "      <td>-0.900969</td>\n",
       "      <td>0.848644</td>\n",
       "      <td>0.528964</td>\n",
       "      <td>0.5</td>\n",
       "      <td>0.866025</td>\n",
       "    </tr>\n",
       "    <tr>\n",
       "      <th>2024-01-05 03:40:00</th>\n",
       "      <td>144.9245</td>\n",
       "      <td>144.9460</td>\n",
       "      <td>144.9155</td>\n",
       "      <td>144.9430</td>\n",
       "      <td>2.273510e+12</td>\n",
       "      <td>0.007072</td>\n",
       "      <td>0.000131</td>\n",
       "      <td>0.0190</td>\n",
       "      <td>0.000131</td>\n",
       "      <td>2.784171</td>\n",
       "      <td>...</td>\n",
       "      <td>5</td>\n",
       "      <td>1</td>\n",
       "      <td>0.707107</td>\n",
       "      <td>0.707107</td>\n",
       "      <td>-0.433884</td>\n",
       "      <td>-0.900969</td>\n",
       "      <td>0.848644</td>\n",
       "      <td>0.528964</td>\n",
       "      <td>0.5</td>\n",
       "      <td>0.866025</td>\n",
       "    </tr>\n",
       "    <tr>\n",
       "      <th>2024-01-05 03:45:00</th>\n",
       "      <td>144.9435</td>\n",
       "      <td>144.9510</td>\n",
       "      <td>144.9355</td>\n",
       "      <td>144.9465</td>\n",
       "      <td>1.925300e+12</td>\n",
       "      <td>0.006585</td>\n",
       "      <td>0.000024</td>\n",
       "      <td>0.0035</td>\n",
       "      <td>0.000024</td>\n",
       "      <td>2.775585</td>\n",
       "      <td>...</td>\n",
       "      <td>5</td>\n",
       "      <td>1</td>\n",
       "      <td>0.707107</td>\n",
       "      <td>0.707107</td>\n",
       "      <td>-0.433884</td>\n",
       "      <td>-0.900969</td>\n",
       "      <td>0.848644</td>\n",
       "      <td>0.528964</td>\n",
       "      <td>0.5</td>\n",
       "      <td>0.866025</td>\n",
       "    </tr>\n",
       "  </tbody>\n",
       "</table>\n",
       "<p>5 rows × 60 columns</p>\n",
       "</div>"
      ],
      "text/plain": [
       "                         open      high       low     close        volume  \\\n",
       "timestamp                                                                   \n",
       "2024-01-05 03:25:00  144.8960  144.9415  144.8940  144.9105  2.780660e+12   \n",
       "2024-01-05 03:30:00  144.9100  144.9490  144.9060  144.9470  2.220040e+12   \n",
       "2024-01-05 03:35:00  144.9465  144.9490  144.9230  144.9240  3.450710e+12   \n",
       "2024-01-05 03:40:00  144.9245  144.9460  144.9155  144.9430  2.273510e+12   \n",
       "2024-01-05 03:45:00  144.9435  144.9510  144.9355  144.9465  1.925300e+12   \n",
       "\n",
       "                       spread  close_pct_return  close_return  \\\n",
       "timestamp                                                       \n",
       "2024-01-05 03:25:00  0.006927          0.000100        0.0145   \n",
       "2024-01-05 03:30:00  0.006398          0.000252        0.0365   \n",
       "2024-01-05 03:35:00  0.006930         -0.000159       -0.0230   \n",
       "2024-01-05 03:40:00  0.007072          0.000131        0.0190   \n",
       "2024-01-05 03:45:00  0.006585          0.000024        0.0035   \n",
       "\n",
       "                     close_log_return  close_fd_return  ...  dom  month  \\\n",
       "timestamp                                               ...               \n",
       "2024-01-05 03:25:00          0.000100         2.788711  ...    5      1   \n",
       "2024-01-05 03:30:00          0.000252         2.810244  ...    5      1   \n",
       "2024-01-05 03:35:00         -0.000159         2.762497  ...    5      1   \n",
       "2024-01-05 03:40:00          0.000131         2.784171  ...    5      1   \n",
       "2024-01-05 03:45:00          0.000024         2.775585  ...    5      1   \n",
       "\n",
       "                     hour_sin  hour_cos   dow_sin   dow_cos   dom_sin  \\\n",
       "timestamp                                                               \n",
       "2024-01-05 03:25:00  0.707107  0.707107 -0.433884 -0.900969  0.848644   \n",
       "2024-01-05 03:30:00  0.707107  0.707107 -0.433884 -0.900969  0.848644   \n",
       "2024-01-05 03:35:00  0.707107  0.707107 -0.433884 -0.900969  0.848644   \n",
       "2024-01-05 03:40:00  0.707107  0.707107 -0.433884 -0.900969  0.848644   \n",
       "2024-01-05 03:45:00  0.707107  0.707107 -0.433884 -0.900969  0.848644   \n",
       "\n",
       "                      dom_cos  month_sin  month_cos  \n",
       "timestamp                                            \n",
       "2024-01-05 03:25:00  0.528964        0.5   0.866025  \n",
       "2024-01-05 03:30:00  0.528964        0.5   0.866025  \n",
       "2024-01-05 03:35:00  0.528964        0.5   0.866025  \n",
       "2024-01-05 03:40:00  0.528964        0.5   0.866025  \n",
       "2024-01-05 03:45:00  0.528964        0.5   0.866025  \n",
       "\n",
       "[5 rows x 60 columns]"
      ]
     },
     "execution_count": 60,
     "metadata": {},
     "output_type": "execute_result"
    }
   ],
   "source": [
    "df.head()"
   ]
  },
  {
   "cell_type": "code",
   "execution_count": 61,
   "id": "e8a1275b-c52e-4d8a-a2cb-7567f4f84b46",
   "metadata": {
    "scrolled": true
   },
   "outputs": [
    {
     "data": {
      "text/plain": [
       "Index(['open', 'high', 'low', 'close', 'volume', 'spread', 'close_pct_return',\n",
       "       'close_return', 'close_log_return', 'close_fd_return', 'EMA_5',\n",
       "       'EMA_20', 'EMA_50', 'EMA_100', 'ATRr_14', 'ATRr_60', 'ATRr_120',\n",
       "       'ADX_14', 'ADXR_14_2', 'DMP_14', 'DMN_14', 'RSI_14', 'RSI_25', 'RSI_50',\n",
       "       'BBL_5_2.0_2.0', 'BBM_5_2.0_2.0', 'BBU_5_2.0_2.0', 'BBB_5_2.0_2.0',\n",
       "       'BBP_5_2.0_2.0', 'BBL_10_2.0_2.0', 'BBM_10_2.0_2.0', 'BBU_10_2.0_2.0',\n",
       "       'BBB_10_2.0_2.0', 'BBP_10_2.0_2.0', 'BBL_15_2.0_2.0', 'BBM_15_2.0_2.0',\n",
       "       'BBU_15_2.0_2.0', 'BBB_15_2.0_2.0', 'BBP_15_2.0_2.0', 'BBL_20_2.0_2.0',\n",
       "       'BBM_20_2.0_2.0', 'BBU_20_2.0_2.0', 'BBB_20_2.0_2.0', 'BBP_20_2.0_2.0',\n",
       "       'MACD_8_17_9', 'MACDh_8_17_9', 'MACDs_8_17_9', 'unix_time', 'hour',\n",
       "       'dow', 'dom', 'month', 'hour_sin', 'hour_cos', 'dow_sin', 'dow_cos',\n",
       "       'dom_sin', 'dom_cos', 'month_sin', 'month_cos'],\n",
       "      dtype='object')"
      ]
     },
     "execution_count": 61,
     "metadata": {},
     "output_type": "execute_result"
    }
   ],
   "source": [
    "df.columns"
   ]
  },
  {
   "cell_type": "markdown",
   "id": "16e90954-49c8-413b-b268-ec0767265c83",
   "metadata": {},
   "source": [
    "## Apply Z Score Filter"
   ]
  },
  {
   "cell_type": "code",
   "execution_count": 62,
   "id": "8b073bf4-e62a-4a0b-840b-aec9f822ecf0",
   "metadata": {},
   "outputs": [],
   "source": [
    "def z_score_filter(\n",
    "    closes: pd.Series,\n",
    "    mean_window: int,\n",
    "    std_window: int,\n",
    "    z_score: float = 3,\n",
    ") -> pd.DatetimeIndex:\n",
    "\n",
    "    t_events = closes[\n",
    "        closes\n",
    "        >= closes.rolling(window=mean_window).mean()\n",
    "        + z_score * closes.rolling(window=std_window).std()\n",
    "    ].index\n",
    "    event_timestamps = pd.DatetimeIndex(t_events)\n",
    "    return event_timestamps"
   ]
  },
  {
   "cell_type": "code",
   "execution_count": 63,
   "id": "48528f09-17a2-4712-bb7c-2653a9406dec",
   "metadata": {},
   "outputs": [],
   "source": [
    "closes = df['close']\n",
    "mean_window = 100\n",
    "std_window = 100\n",
    "z_score = 1"
   ]
  },
  {
   "cell_type": "code",
   "execution_count": 64,
   "id": "6d5ee0da-0e8b-4f9a-8ebc-c62ec33793fb",
   "metadata": {},
   "outputs": [],
   "source": [
    "z_score_events = z_score_filter(\n",
    "    closes, \n",
    "    mean_window=mean_window, \n",
    "    std_window=std_window, \n",
    "    z_score=z_score\n",
    ")"
   ]
  },
  {
   "cell_type": "code",
   "execution_count": 65,
   "id": "cfc58c40-7698-416e-bd4c-71725afbda36",
   "metadata": {},
   "outputs": [
    {
     "data": {
      "text/plain": [
       "DatetimeIndex(['2024-01-05 11:40:00', '2024-01-05 11:45:00',\n",
       "               '2024-01-05 11:50:00', '2024-01-05 11:55:00',\n",
       "               '2024-01-05 12:00:00', '2024-01-05 13:30:00',\n",
       "               '2024-01-05 13:35:00', '2024-01-05 13:40:00',\n",
       "               '2024-01-05 13:45:00', '2024-01-05 13:50:00',\n",
       "               ...\n",
       "               '2024-12-30 08:05:00', '2024-12-30 08:10:00',\n",
       "               '2024-12-30 08:55:00', '2024-12-30 09:00:00',\n",
       "               '2024-12-30 09:05:00', '2024-12-30 09:10:00',\n",
       "               '2024-12-30 09:15:00', '2024-12-30 09:20:00',\n",
       "               '2024-12-30 09:25:00', '2024-12-30 09:30:00'],\n",
       "              dtype='datetime64[ns]', name='timestamp', length=22042, freq=None)"
      ]
     },
     "execution_count": 65,
     "metadata": {},
     "output_type": "execute_result"
    }
   ],
   "source": [
    "z_score_events"
   ]
  },
  {
   "cell_type": "markdown",
   "id": "486ffc3d-e299-4c5e-9981-879ef2217f97",
   "metadata": {},
   "source": [
    "## Visualization"
   ]
  },
  {
   "cell_type": "code",
   "execution_count": 66,
   "id": "c48e3224-2913-4b41-bb1c-68bbc9b2f3d3",
   "metadata": {},
   "outputs": [],
   "source": [
    "\n",
    "rolling_mean = closes.rolling(window=mean_window).mean()\n",
    "rolling_std = closes.rolling(window=std_window).std()\n",
    "upper_bound = rolling_mean + z_score * rolling_std\n",
    "lower_bound = rolling_mean - z_score * rolling_std"
   ]
  },
  {
   "cell_type": "code",
   "execution_count": 72,
   "id": "b2e28d65-e5a5-49a3-a8f3-4664f87cf17b",
   "metadata": {},
   "outputs": [
    {
     "data": {
      "image/png": "[encoded data removed]",
      "text/plain": [
       "<Figure size 1200x600 with 1 Axes>"
      ]
     },
     "metadata": {},
     "output_type": "display_data"
    }
   ],
   "source": [
    "# 繪圖\n",
    "plt.figure(figsize=(12, 6))\n",
    "plt.plot(closes, label=\"Close Price\", color=\"blue\")\n",
    "plt.plot(rolling_mean, label=f\"{mean_window}-Day Moving Average\", color=\"green\")\n",
    "plt.plot(upper_bound, label=f\"Upper Bound (+{z_score}σ)\", color=\"red\", linestyle=\"--\")\n",
    "plt.plot(lower_bound, label=f\"Lower Bound (-{z_score}σ)\", color=\"orange\", linestyle=\"--\")\n",
    "plt.scatter(\n",
    "    z_score_events,\n",
    "    closes[z_score_events],\n",
    "    color=\"red\",\n",
    "    marker=\"o\",\n",
    "    s=100,\n",
    "    label=\"Z-Score Events\",\n",
    ")\n",
    "plt.title(\"Z-Score Filter Visualization\")\n",
    "plt.xlabel(\"Date\")\n",
    "plt.ylabel(\"Price\")\n",
    "plt.legend()\n",
    "plt.grid(True)\n",
    "plt.tight_layout()\n",
    "plt.show()"
   ]
  },
  {
   "cell_type": "markdown",
   "id": "cec2803a-9b5a-4848-840b-d879b6779ae4",
   "metadata": {},
   "source": [
    "# Save To Drive"
   ]
  },
  {
   "cell_type": "code",
   "execution_count": 68,
   "id": "23563b1f-a69b-4230-9e64-421813d6e240",
   "metadata": {},
   "outputs": [],
   "source": [
    "EVENT_NAME = f\"Z_SCORE_W{mean_window}_{z_score}Z\"\n",
    "EVENT_PATH = EVENTS_DIR / f\"{RESAMPLED_NAME}_{EVENT_NAME}.pkl\""
   ]
  },
  {
   "cell_type": "code",
   "execution_count": 69,
   "id": "2ff9abae-f89c-43c0-90fc-550710eee3aa",
   "metadata": {},
   "outputs": [
    {
     "data": {
      "text/plain": [
       "'Z_SCORE_W100_1Z'"
      ]
     },
     "execution_count": 69,
     "metadata": {},
     "output_type": "execute_result"
    }
   ],
   "source": [
    "EVENT_NAME"
   ]
  },
  {
   "cell_type": "code",
   "execution_count": 70,
   "id": "ba074337-74e5-4ac6-81c2-9f0d739b3c1f",
   "metadata": {},
   "outputs": [
    {
     "data": {
      "text/plain": [
       "PosixPath('../data/interm/events/USDJPY-5m-20240101-20241231_Z_SCORE_W100_1Z.pkl')"
      ]
     },
     "execution_count": 70,
     "metadata": {},
     "output_type": "execute_result"
    }
   ],
   "source": [
    "EVENT_PATH"
   ]
  },
  {
   "cell_type": "code",
   "execution_count": 71,
   "id": "1f1e7c37-a6d3-40d0-92f9-e655c36a177a",
   "metadata": {},
   "outputs": [],
   "source": [
    "z_score_events.to_series().to_pickle(EVENT_PATH)"
   ]
  }
 ],
 "metadata": {
  "kernelspec": {
   "display_name": "Python 3 (ipykernel)",
   "language": "python",
   "name": "python3"
  },
  "language_info": {
   "codemirror_mode": {
    "name": "ipython",
    "version": 3
   },
   "file_extension": ".py",
   "mimetype": "text/x-python",
   "name": "python",
   "nbconvert_exporter": "python",
   "pygments_lexer": "ipython3",
   "version": "3.12.11"
  },
  "widgets": {
   "application/vnd.jupyter.widget-state+json": {
    "state": {},
    "version_major": 2,
    "version_minor": 0
   }
  }
 },
 "nbformat": 4,
 "nbformat_minor": 5
}
