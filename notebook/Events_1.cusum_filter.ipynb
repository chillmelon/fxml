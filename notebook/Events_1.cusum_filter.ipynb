{
 "cells": [
  {
   "cell_type": "code",
   "execution_count": 1,
   "id": "8c6d6f1f-0017-4810-9328-099f68c7c6e2",
   "metadata": {},
   "outputs": [],
   "source": [
    "import pandas as pd\n",
    "import matplotlib.pyplot as plt\n",
    "from matplotlib.ticker import FormatStrFormatter\n",
    "\n",
    "import os"
   ]
  },
  {
   "cell_type": "code",
   "execution_count": 2,
   "id": "bf14af0e-a692-419c-a591-5feaf1601bf9",
   "metadata": {},
   "outputs": [],
   "source": [
    "from pathlib import Path\n",
    "\n",
    "# Configurable parts\n",
    "SYMBOL = \"USDJPY\"\n",
    "SAMPLE_TYPE = \"time\"\n",
    "MINUTES = 1\n",
    "DOLLAR_THRESHOLD = \"115009542m\"\n",
    "\n",
    "START_DATE = \"20210101\"\n",
    "END_DATE = \"20241231\"\n",
    "\n",
    "# Build base name\n",
    "if SAMPLE_TYPE == \"dollar\":\n",
    "    RESAMPLED_NAME = f\"{SYMBOL}-{DOLLAR_THRESHOLD}-dollar-{START_DATE}-{END_DATE}\"\n",
    "else:\n",
    "    RESAMPLED_NAME = f\"{SYMBOL}-{MINUTES}m-{START_DATE}-{END_DATE}\"\n",
    "\n",
    "# Base directories\n",
    "BASE_DIR = Path(\"../data\")\n",
    "RESAMPLED_DIR = BASE_DIR / \"resampled\"\n",
    "PROCESSED_DIR = BASE_DIR / \"processed\"\n",
    "EVENTS_DIR = BASE_DIR / \"events\"\n",
    "\n",
    "# Final paths\n",
    "RESAMPLED_FILE_PATH = RESAMPLED_DIR / f\"{RESAMPLED_NAME}.pkl\"\n",
    "PROCESSED_FILE_PATH = PROCESSED_DIR / f\"{RESAMPLED_NAME}-processed.pkl\""
   ]
  },
  {
   "cell_type": "code",
   "execution_count": 3,
   "id": "79e659aa-5b8f-43d4-aa7f-3fe6cd7e5bd7",
   "metadata": {
    "scrolled": true
   },
   "outputs": [
    {
     "name": "stdout",
     "output_type": "stream",
     "text": [
      "CPU times: user 755 μs, sys: 77.5 ms, total: 78.3 ms\n",
      "Wall time: 80.7 ms\n"
     ]
    }
   ],
   "source": [
    "%%time\n",
    "df = pd.read_pickle(PROCESSED_FILE_PATH)"
   ]
  },
  {
   "cell_type": "code",
   "execution_count": 4,
   "id": "29b2da6f-1a60-4d08-9aee-a4c43083818c",
   "metadata": {},
   "outputs": [
    {
     "data": {
      "text/plain": [
       "(1487157, 70)"
      ]
     },
     "execution_count": 4,
     "metadata": {},
     "output_type": "execute_result"
    }
   ],
   "source": [
    "df.shape"
   ]
  },
  {
   "cell_type": "code",
   "execution_count": 5,
   "id": "68bbc439-d03b-4275-af93-8b978a790a4b",
   "metadata": {
    "scrolled": true
   },
   "outputs": [
    {
     "data": {
      "text/html": [
       "<div>\n",
       "<style scoped>\n",
       "    .dataframe tbody tr th:only-of-type {\n",
       "        vertical-align: middle;\n",
       "    }\n",
       "\n",
       "    .dataframe tbody tr th {\n",
       "        vertical-align: top;\n",
       "    }\n",
       "\n",
       "    .dataframe thead th {\n",
       "        text-align: right;\n",
       "    }\n",
       "</style>\n",
       "<table border=\"1\" class=\"dataframe\">\n",
       "  <thead>\n",
       "    <tr style=\"text-align: right;\">\n",
       "      <th></th>\n",
       "      <th>open</th>\n",
       "      <th>high</th>\n",
       "      <th>low</th>\n",
       "      <th>close</th>\n",
       "      <th>volume</th>\n",
       "      <th>spread</th>\n",
       "      <th>close_delta</th>\n",
       "      <th>close_return</th>\n",
       "      <th>close_log_return</th>\n",
       "      <th>ret_mean_5</th>\n",
       "      <th>...</th>\n",
       "      <th>dom</th>\n",
       "      <th>month</th>\n",
       "      <th>hour_sin</th>\n",
       "      <th>hour_cos</th>\n",
       "      <th>dow_sin</th>\n",
       "      <th>dow_cos</th>\n",
       "      <th>dom_sin</th>\n",
       "      <th>dom_cos</th>\n",
       "      <th>month_sin</th>\n",
       "      <th>month_cos</th>\n",
       "    </tr>\n",
       "    <tr>\n",
       "      <th>timestamp</th>\n",
       "      <th></th>\n",
       "      <th></th>\n",
       "      <th></th>\n",
       "      <th></th>\n",
       "      <th></th>\n",
       "      <th></th>\n",
       "      <th></th>\n",
       "      <th></th>\n",
       "      <th></th>\n",
       "      <th></th>\n",
       "      <th></th>\n",
       "      <th></th>\n",
       "      <th></th>\n",
       "      <th></th>\n",
       "      <th></th>\n",
       "      <th></th>\n",
       "      <th></th>\n",
       "      <th></th>\n",
       "      <th></th>\n",
       "      <th></th>\n",
       "      <th></th>\n",
       "    </tr>\n",
       "  </thead>\n",
       "  <tbody>\n",
       "    <tr>\n",
       "      <th>2021-01-04 00:34:00</th>\n",
       "      <td>103.1065</td>\n",
       "      <td>103.1065</td>\n",
       "      <td>103.0950</td>\n",
       "      <td>103.0995</td>\n",
       "      <td>1.330400e+11</td>\n",
       "      <td>0.002651</td>\n",
       "      <td>-0.0070</td>\n",
       "      <td>-0.000068</td>\n",
       "      <td>-0.000068</td>\n",
       "      <td>-0.000026</td>\n",
       "      <td>...</td>\n",
       "      <td>4</td>\n",
       "      <td>1</td>\n",
       "      <td>0.0</td>\n",
       "      <td>1.0</td>\n",
       "      <td>0.0</td>\n",
       "      <td>1.0</td>\n",
       "      <td>0.724793</td>\n",
       "      <td>0.688967</td>\n",
       "      <td>0.5</td>\n",
       "      <td>0.866025</td>\n",
       "    </tr>\n",
       "    <tr>\n",
       "      <th>2021-01-04 00:35:00</th>\n",
       "      <td>103.0990</td>\n",
       "      <td>103.0990</td>\n",
       "      <td>103.0695</td>\n",
       "      <td>103.0805</td>\n",
       "      <td>2.210200e+11</td>\n",
       "      <td>0.002410</td>\n",
       "      <td>-0.0190</td>\n",
       "      <td>-0.000184</td>\n",
       "      <td>-0.000184</td>\n",
       "      <td>-0.000038</td>\n",
       "      <td>...</td>\n",
       "      <td>4</td>\n",
       "      <td>1</td>\n",
       "      <td>0.0</td>\n",
       "      <td>1.0</td>\n",
       "      <td>0.0</td>\n",
       "      <td>1.0</td>\n",
       "      <td>0.724793</td>\n",
       "      <td>0.688967</td>\n",
       "      <td>0.5</td>\n",
       "      <td>0.866025</td>\n",
       "    </tr>\n",
       "    <tr>\n",
       "      <th>2021-01-04 00:36:00</th>\n",
       "      <td>103.0795</td>\n",
       "      <td>103.0940</td>\n",
       "      <td>103.0785</td>\n",
       "      <td>103.0880</td>\n",
       "      <td>1.112500e+11</td>\n",
       "      <td>0.002410</td>\n",
       "      <td>0.0075</td>\n",
       "      <td>0.000073</td>\n",
       "      <td>0.000073</td>\n",
       "      <td>-0.000035</td>\n",
       "      <td>...</td>\n",
       "      <td>4</td>\n",
       "      <td>1</td>\n",
       "      <td>0.0</td>\n",
       "      <td>1.0</td>\n",
       "      <td>0.0</td>\n",
       "      <td>1.0</td>\n",
       "      <td>0.724793</td>\n",
       "      <td>0.688967</td>\n",
       "      <td>0.5</td>\n",
       "      <td>0.866025</td>\n",
       "    </tr>\n",
       "    <tr>\n",
       "      <th>2021-01-04 00:37:00</th>\n",
       "      <td>103.0875</td>\n",
       "      <td>103.0880</td>\n",
       "      <td>103.0680</td>\n",
       "      <td>103.0745</td>\n",
       "      <td>1.644000e+11</td>\n",
       "      <td>0.002150</td>\n",
       "      <td>-0.0135</td>\n",
       "      <td>-0.000131</td>\n",
       "      <td>-0.000131</td>\n",
       "      <td>-0.000055</td>\n",
       "      <td>...</td>\n",
       "      <td>4</td>\n",
       "      <td>1</td>\n",
       "      <td>0.0</td>\n",
       "      <td>1.0</td>\n",
       "      <td>0.0</td>\n",
       "      <td>1.0</td>\n",
       "      <td>0.724793</td>\n",
       "      <td>0.688967</td>\n",
       "      <td>0.5</td>\n",
       "      <td>0.866025</td>\n",
       "    </tr>\n",
       "    <tr>\n",
       "      <th>2021-01-04 00:38:00</th>\n",
       "      <td>103.0760</td>\n",
       "      <td>103.0835</td>\n",
       "      <td>103.0705</td>\n",
       "      <td>103.0705</td>\n",
       "      <td>2.340300e+11</td>\n",
       "      <td>0.002316</td>\n",
       "      <td>-0.0040</td>\n",
       "      <td>-0.000039</td>\n",
       "      <td>-0.000039</td>\n",
       "      <td>-0.000070</td>\n",
       "      <td>...</td>\n",
       "      <td>4</td>\n",
       "      <td>1</td>\n",
       "      <td>0.0</td>\n",
       "      <td>1.0</td>\n",
       "      <td>0.0</td>\n",
       "      <td>1.0</td>\n",
       "      <td>0.724793</td>\n",
       "      <td>0.688967</td>\n",
       "      <td>0.5</td>\n",
       "      <td>0.866025</td>\n",
       "    </tr>\n",
       "  </tbody>\n",
       "</table>\n",
       "<p>5 rows × 70 columns</p>\n",
       "</div>"
      ],
      "text/plain": [
       "                         open      high       low     close        volume  \\\n",
       "timestamp                                                                   \n",
       "2021-01-04 00:34:00  103.1065  103.1065  103.0950  103.0995  1.330400e+11   \n",
       "2021-01-04 00:35:00  103.0990  103.0990  103.0695  103.0805  2.210200e+11   \n",
       "2021-01-04 00:36:00  103.0795  103.0940  103.0785  103.0880  1.112500e+11   \n",
       "2021-01-04 00:37:00  103.0875  103.0880  103.0680  103.0745  1.644000e+11   \n",
       "2021-01-04 00:38:00  103.0760  103.0835  103.0705  103.0705  2.340300e+11   \n",
       "\n",
       "                       spread  close_delta  close_return  close_log_return  \\\n",
       "timestamp                                                                    \n",
       "2021-01-04 00:34:00  0.002651      -0.0070     -0.000068         -0.000068   \n",
       "2021-01-04 00:35:00  0.002410      -0.0190     -0.000184         -0.000184   \n",
       "2021-01-04 00:36:00  0.002410       0.0075      0.000073          0.000073   \n",
       "2021-01-04 00:37:00  0.002150      -0.0135     -0.000131         -0.000131   \n",
       "2021-01-04 00:38:00  0.002316      -0.0040     -0.000039         -0.000039   \n",
       "\n",
       "                     ret_mean_5  ...  dom  month  hour_sin  hour_cos  dow_sin  \\\n",
       "timestamp                        ...                                            \n",
       "2021-01-04 00:34:00   -0.000026  ...    4      1       0.0       1.0      0.0   \n",
       "2021-01-04 00:35:00   -0.000038  ...    4      1       0.0       1.0      0.0   \n",
       "2021-01-04 00:36:00   -0.000035  ...    4      1       0.0       1.0      0.0   \n",
       "2021-01-04 00:37:00   -0.000055  ...    4      1       0.0       1.0      0.0   \n",
       "2021-01-04 00:38:00   -0.000070  ...    4      1       0.0       1.0      0.0   \n",
       "\n",
       "                     dow_cos   dom_sin   dom_cos  month_sin  month_cos  \n",
       "timestamp                                                               \n",
       "2021-01-04 00:34:00      1.0  0.724793  0.688967        0.5   0.866025  \n",
       "2021-01-04 00:35:00      1.0  0.724793  0.688967        0.5   0.866025  \n",
       "2021-01-04 00:36:00      1.0  0.724793  0.688967        0.5   0.866025  \n",
       "2021-01-04 00:37:00      1.0  0.724793  0.688967        0.5   0.866025  \n",
       "2021-01-04 00:38:00      1.0  0.724793  0.688967        0.5   0.866025  \n",
       "\n",
       "[5 rows x 70 columns]"
      ]
     },
     "execution_count": 5,
     "metadata": {},
     "output_type": "execute_result"
    }
   ],
   "source": [
    "df.head()"
   ]
  },
  {
   "cell_type": "code",
   "execution_count": 6,
   "id": "e8a1275b-c52e-4d8a-a2cb-7567f4f84b46",
   "metadata": {},
   "outputs": [
    {
     "data": {
      "text/plain": [
       "Index(['open', 'high', 'low', 'close', 'volume', 'spread', 'close_delta',\n",
       "       'close_return', 'close_log_return', 'ret_mean_5', 'ret_mean_10',\n",
       "       'ret_mean_15', 'ret_mean_20', 'log_volume', 'ema5', 'ema5_slope',\n",
       "       'ema20', 'ema20_slope', 'ema50', 'ema50_slope', 'ema100',\n",
       "       'ema100_slope', 'atr14', 'atr25', 'atr50', 'log_atr14', 'atr14_percent',\n",
       "       'atr14_adjusted_return', 'log_atr25', 'atr25_percent',\n",
       "       'atr25_adjusted_return', 'log_atr50', 'atr50_percent',\n",
       "       'atr50_adjusted_return', 'adx14', 'plus_di14', 'minus_di14', 'bb_upper',\n",
       "       'bb_lower', 'bb_mavg', 'bb_width', 'bb_position', 'donchian_upper',\n",
       "       'donchian_lower', 'donchian_mid', 'donchian_width', 'stoch_k',\n",
       "       'stoch_d', 'rsi14', 'rsi14_slope', 'rsi25', 'rsi25_slope', 'rsi50',\n",
       "       'rsi50_slope', 'macd', 'macd_signal', 'macd_diff', 'unix_time', 'hour',\n",
       "       'dow', 'dom', 'month', 'hour_sin', 'hour_cos', 'dow_sin', 'dow_cos',\n",
       "       'dom_sin', 'dom_cos', 'month_sin', 'month_cos'],\n",
       "      dtype='object')"
      ]
     },
     "execution_count": 6,
     "metadata": {},
     "output_type": "execute_result"
    }
   ],
   "source": [
    "df.columns"
   ]
  },
  {
   "cell_type": "markdown",
   "id": "2380c175-3b65-4921-b3f1-338ba67bb1c8",
   "metadata": {},
   "source": [
    "## Calculate Daily Volatility"
   ]
  },
  {
   "cell_type": "code",
   "execution_count": 7,
   "id": "a3868a63-256e-4dd1-9b53-e1011f6830c2",
   "metadata": {},
   "outputs": [
    {
     "data": {
      "text/plain": [
       "np.float64(0.0001261218359079752)"
      ]
     },
     "execution_count": 7,
     "metadata": {},
     "output_type": "execute_result"
    }
   ],
   "source": [
    "vol = df['close_log_return'].rolling(window=60).std() # 計算 60 分鐘的 標準差\n",
    "vol.mean()"
   ]
  },
  {
   "cell_type": "markdown",
   "id": "d3e9654f-61f8-47fb-bec5-58eae44404cf",
   "metadata": {},
   "source": [
    "## Get Events Start Time (t0)"
   ]
  },
  {
   "cell_type": "code",
   "execution_count": 8,
   "id": "cdaa6e3a-24d8-4c70-ba2e-d8e230537406",
   "metadata": {},
   "outputs": [],
   "source": [
    "import numpy as np\n",
    "import pandas as pd\n",
    "from tqdm import tqdm\n",
    "\n",
    "def get_tevents_optimized(data: pd.Series, threshold: float) -> pd.DatetimeIndex:\n",
    "    # get tEvents using CUSUM filter\n",
    "    values = data.values\n",
    "    timestamps = data.index\n",
    "\n",
    "    s_pos = np.zeros_like(values)\n",
    "    s_neg = np.zeros_like(values)\n",
    "\n",
    "    t_events_mask = np.zeros_like(values, dtype=bool)\n",
    "\n",
    "    cum_pos, cum_neg = 0.0, 0.0\n",
    "\n",
    "    for i in tqdm(range(len(values))):\n",
    "        cum_pos = max(0.0, cum_pos + values[i])\n",
    "        cum_neg = min(0.0, cum_neg + values[i])\n",
    "        s_pos[i] = cum_pos\n",
    "        s_neg[i] = cum_neg\n",
    "\n",
    "        if cum_pos > threshold:\n",
    "            t_events_mask[i] = True\n",
    "            cum_pos = 0.0\n",
    "        if cum_neg < -threshold:\n",
    "            t_events_mask[i] = True\n",
    "            cum_neg = 0.0\n",
    "\n",
    "    return timestamps[t_events_mask]\n"
   ]
  },
  {
   "cell_type": "code",
   "execution_count": 9,
   "id": "23563b1f-a69b-4230-9e64-421813d6e240",
   "metadata": {},
   "outputs": [],
   "source": [
    "EVENT_NAME = 'CUSUM'\n",
    "THRESHOLD = vol.mean()*2\n",
    "EVENT_PATH = EVENTS_DIR / f\"{RESAMPLED_NAME}_{EVENT_NAME}_{THRESHOLD:.2e}.pkl\""
   ]
  },
  {
   "cell_type": "code",
   "execution_count": 10,
   "id": "35f0f7b6-3269-4201-ac13-168102e815e2",
   "metadata": {},
   "outputs": [
    {
     "name": "stderr",
     "output_type": "stream",
     "text": [
      "100%|███████████████████████████████████████████████████████████████████████████████████████████████████████████████████████████| 1487156/1487156 [00:00<00:00, 3599240.38it/s]"
     ]
    },
    {
     "name": "stdout",
     "output_type": "stream",
     "text": [
      "CPU times: user 414 ms, sys: 11.8 ms, total: 426 ms\n",
      "Wall time: 426 ms\n"
     ]
    },
    {
     "name": "stderr",
     "output_type": "stream",
     "text": [
      "\n"
     ]
    }
   ],
   "source": [
    "%%time\n",
    "\n",
    "t_events = get_tevents_optimized(df['close_log_return'].iloc[1:], threshold=THRESHOLD)"
   ]
  },
  {
   "cell_type": "code",
   "execution_count": 11,
   "id": "7622afbc-4d47-451d-81b6-fd890074bb72",
   "metadata": {
    "scrolled": true
   },
   "outputs": [
    {
     "data": {
      "text/plain": [
       "DatetimeIndex(['2021-01-04 00:38:00', '2021-01-04 00:40:00',\n",
       "               '2021-01-04 00:43:00', '2021-01-04 00:48:00',\n",
       "               '2021-01-04 00:50:00', '2021-01-04 00:52:00',\n",
       "               '2021-01-04 01:06:00', '2021-01-04 01:16:00',\n",
       "               '2021-01-04 01:21:00', '2021-01-04 01:35:00',\n",
       "               ...\n",
       "               '2024-12-30 22:29:00', '2024-12-30 23:00:00',\n",
       "               '2024-12-30 23:06:00', '2024-12-30 23:10:00',\n",
       "               '2024-12-30 23:12:00', '2024-12-30 23:17:00',\n",
       "               '2024-12-30 23:18:00', '2024-12-30 23:35:00',\n",
       "               '2024-12-30 23:40:00', '2024-12-30 23:47:00'],\n",
       "              dtype='datetime64[ns]', name='timestamp', length=248981, freq=None)"
      ]
     },
     "execution_count": 11,
     "metadata": {},
     "output_type": "execute_result"
    }
   ],
   "source": [
    "t_events"
   ]
  },
  {
   "cell_type": "code",
   "execution_count": 12,
   "id": "ba074337-74e5-4ac6-81c2-9f0d739b3c1f",
   "metadata": {},
   "outputs": [
    {
     "data": {
      "text/plain": [
       "PosixPath('../data/events/USDJPY-1m-20210101-20241231_CUSUM_2.52e-04.pkl')"
      ]
     },
     "execution_count": 12,
     "metadata": {},
     "output_type": "execute_result"
    }
   ],
   "source": [
    "EVENT_PATH"
   ]
  },
  {
   "cell_type": "code",
   "execution_count": 13,
   "id": "1f1e7c37-a6d3-40d0-92f9-e655c36a177a",
   "metadata": {},
   "outputs": [],
   "source": [
    "t_events.to_series().to_pickle(EVENT_PATH)"
   ]
  }
 ],
 "metadata": {
  "kernelspec": {
   "display_name": "Python 3 (ipykernel)",
   "language": "python",
   "name": "python3"
  },
  "language_info": {
   "codemirror_mode": {
    "name": "ipython",
    "version": 3
   },
   "file_extension": ".py",
   "mimetype": "text/x-python",
   "name": "python",
   "nbconvert_exporter": "python",
   "pygments_lexer": "ipython3",
   "version": "3.11.13"
  },
  "widgets": {
   "application/vnd.jupyter.widget-state+json": {
    "state": {},
    "version_major": 2,
    "version_minor": 0
   }
  }
 },
 "nbformat": 4,
 "nbformat_minor": 5
}
