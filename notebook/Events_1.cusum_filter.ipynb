{
 "cells": [
  {
   "cell_type": "code",
   "execution_count": 14,
   "id": "8c6d6f1f-0017-4810-9328-099f68c7c6e2",
   "metadata": {},
   "outputs": [],
   "source": [
    "import pandas as pd\n",
    "import matplotlib.pyplot as plt\n",
    "from matplotlib.ticker import FormatStrFormatter\n",
    "\n",
    "import os"
   ]
  },
  {
   "cell_type": "code",
   "execution_count": 15,
   "id": "bf14af0e-a692-419c-a591-5feaf1601bf9",
   "metadata": {},
   "outputs": [],
   "source": [
    "from pathlib import Path\n",
    "\n",
    "# Configurable parts\n",
    "SYMBOL = \"USDJPY\"\n",
    "SAMPLE_TYPE = \"time\"\n",
    "MINUTES = 1\n",
    "DOLLAR_THRESHOLD = \"115009542m\"\n",
    "\n",
    "START_DATE = \"20210101\"\n",
    "END_DATE = \"20241231\"\n",
    "\n",
    "# Build base name\n",
    "if SAMPLE_TYPE == \"dollar\":\n",
    "    RESAMPLED_NAME = f\"{SYMBOL}-{DOLLAR_THRESHOLD}-dollar-{START_DATE}-{END_DATE}\"\n",
    "else:\n",
    "    RESAMPLED_NAME = f\"{SYMBOL}-{MINUTES}m-{START_DATE}-{END_DATE}\"\n",
    "\n",
    "# Base directories\n",
    "BASE_DIR = Path(\"../data\")\n",
    "RESAMPLED_DIR = BASE_DIR / \"resampled\"\n",
    "PROCESSED_DIR = BASE_DIR / \"processed\"\n",
    "EVENTS_DIR = BASE_DIR / \"events\"\n",
    "\n",
    "# Final paths\n",
    "RESAMPLED_FILE_PATH = RESAMPLED_DIR / f\"{RESAMPLED_NAME}.pkl\"\n",
    "PROCESSED_FILE_PATH = PROCESSED_DIR / f\"{RESAMPLED_NAME}-processed.pkl\""
   ]
  },
  {
   "cell_type": "code",
   "execution_count": 16,
   "id": "79e659aa-5b8f-43d4-aa7f-3fe6cd7e5bd7",
   "metadata": {
    "scrolled": true
   },
   "outputs": [
    {
     "name": "stdout",
     "output_type": "stream",
     "text": [
      "CPU times: user 2.01 ms, sys: 151 ms, total: 153 ms\n",
      "Wall time: 158 ms\n"
     ]
    }
   ],
   "source": [
    "%%time\n",
    "df = pd.read_pickle(PROCESSED_FILE_PATH)"
   ]
  },
  {
   "cell_type": "code",
   "execution_count": 17,
   "id": "29b2da6f-1a60-4d08-9aee-a4c43083818c",
   "metadata": {},
   "outputs": [
    {
     "data": {
      "text/plain": [
       "(1487207, 52)"
      ]
     },
     "execution_count": 17,
     "metadata": {},
     "output_type": "execute_result"
    }
   ],
   "source": [
    "df.shape"
   ]
  },
  {
   "cell_type": "code",
   "execution_count": 18,
   "id": "68bbc439-d03b-4275-af93-8b978a790a4b",
   "metadata": {
    "scrolled": true
   },
   "outputs": [
    {
     "data": {
      "text/html": [
       "<div>\n",
       "<style scoped>\n",
       "    .dataframe tbody tr th:only-of-type {\n",
       "        vertical-align: middle;\n",
       "    }\n",
       "\n",
       "    .dataframe tbody tr th {\n",
       "        vertical-align: top;\n",
       "    }\n",
       "\n",
       "    .dataframe thead th {\n",
       "        text-align: right;\n",
       "    }\n",
       "</style>\n",
       "<table border=\"1\" class=\"dataframe\">\n",
       "  <thead>\n",
       "    <tr style=\"text-align: right;\">\n",
       "      <th></th>\n",
       "      <th>open</th>\n",
       "      <th>high</th>\n",
       "      <th>low</th>\n",
       "      <th>close</th>\n",
       "      <th>volume</th>\n",
       "      <th>spread</th>\n",
       "      <th>close_delta</th>\n",
       "      <th>close_return</th>\n",
       "      <th>close_log_return</th>\n",
       "      <th>ret_mean_5</th>\n",
       "      <th>...</th>\n",
       "      <th>dom</th>\n",
       "      <th>month</th>\n",
       "      <th>hour_sin</th>\n",
       "      <th>hour_cos</th>\n",
       "      <th>dow_sin</th>\n",
       "      <th>dow_cos</th>\n",
       "      <th>dom_sin</th>\n",
       "      <th>dom_cos</th>\n",
       "      <th>month_sin</th>\n",
       "      <th>month_cos</th>\n",
       "    </tr>\n",
       "    <tr>\n",
       "      <th>timestamp</th>\n",
       "      <th></th>\n",
       "      <th></th>\n",
       "      <th></th>\n",
       "      <th></th>\n",
       "      <th></th>\n",
       "      <th></th>\n",
       "      <th></th>\n",
       "      <th></th>\n",
       "      <th></th>\n",
       "      <th></th>\n",
       "      <th></th>\n",
       "      <th></th>\n",
       "      <th></th>\n",
       "      <th></th>\n",
       "      <th></th>\n",
       "      <th></th>\n",
       "      <th></th>\n",
       "      <th></th>\n",
       "      <th></th>\n",
       "      <th></th>\n",
       "      <th></th>\n",
       "    </tr>\n",
       "  </thead>\n",
       "  <tbody>\n",
       "    <tr>\n",
       "      <th>2021-01-03 23:44:00</th>\n",
       "      <td>103.2920</td>\n",
       "      <td>103.3005</td>\n",
       "      <td>103.2875</td>\n",
       "      <td>103.2890</td>\n",
       "      <td>1.147400e+11</td>\n",
       "      <td>0.003725</td>\n",
       "      <td>-0.0030</td>\n",
       "      <td>-0.000029</td>\n",
       "      <td>-0.000029</td>\n",
       "      <td>-0.000019</td>\n",
       "      <td>...</td>\n",
       "      <td>3</td>\n",
       "      <td>1</td>\n",
       "      <td>-0.258819</td>\n",
       "      <td>0.965926</td>\n",
       "      <td>-0.781831</td>\n",
       "      <td>0.62349</td>\n",
       "      <td>0.571268</td>\n",
       "      <td>0.820763</td>\n",
       "      <td>0.5</td>\n",
       "      <td>0.866025</td>\n",
       "    </tr>\n",
       "    <tr>\n",
       "      <th>2021-01-03 23:45:00</th>\n",
       "      <td>103.2860</td>\n",
       "      <td>103.3090</td>\n",
       "      <td>103.2835</td>\n",
       "      <td>103.3040</td>\n",
       "      <td>2.637000e+11</td>\n",
       "      <td>0.004039</td>\n",
       "      <td>0.0150</td>\n",
       "      <td>0.000145</td>\n",
       "      <td>0.000145</td>\n",
       "      <td>0.000022</td>\n",
       "      <td>...</td>\n",
       "      <td>3</td>\n",
       "      <td>1</td>\n",
       "      <td>-0.258819</td>\n",
       "      <td>0.965926</td>\n",
       "      <td>-0.781831</td>\n",
       "      <td>0.62349</td>\n",
       "      <td>0.571268</td>\n",
       "      <td>0.820763</td>\n",
       "      <td>0.5</td>\n",
       "      <td>0.866025</td>\n",
       "    </tr>\n",
       "    <tr>\n",
       "      <th>2021-01-03 23:46:00</th>\n",
       "      <td>103.3045</td>\n",
       "      <td>103.3180</td>\n",
       "      <td>103.2980</td>\n",
       "      <td>103.2980</td>\n",
       "      <td>1.622600e+11</td>\n",
       "      <td>0.003704</td>\n",
       "      <td>-0.0060</td>\n",
       "      <td>-0.000058</td>\n",
       "      <td>-0.000058</td>\n",
       "      <td>0.000010</td>\n",
       "      <td>...</td>\n",
       "      <td>3</td>\n",
       "      <td>1</td>\n",
       "      <td>-0.258819</td>\n",
       "      <td>0.965926</td>\n",
       "      <td>-0.781831</td>\n",
       "      <td>0.62349</td>\n",
       "      <td>0.571268</td>\n",
       "      <td>0.820763</td>\n",
       "      <td>0.5</td>\n",
       "      <td>0.866025</td>\n",
       "    </tr>\n",
       "    <tr>\n",
       "      <th>2021-01-03 23:47:00</th>\n",
       "      <td>103.3010</td>\n",
       "      <td>103.3015</td>\n",
       "      <td>103.2805</td>\n",
       "      <td>103.2895</td>\n",
       "      <td>1.991100e+11</td>\n",
       "      <td>0.003133</td>\n",
       "      <td>-0.0085</td>\n",
       "      <td>-0.000082</td>\n",
       "      <td>-0.000082</td>\n",
       "      <td>-0.000005</td>\n",
       "      <td>...</td>\n",
       "      <td>3</td>\n",
       "      <td>1</td>\n",
       "      <td>-0.258819</td>\n",
       "      <td>0.965926</td>\n",
       "      <td>-0.781831</td>\n",
       "      <td>0.62349</td>\n",
       "      <td>0.571268</td>\n",
       "      <td>0.820763</td>\n",
       "      <td>0.5</td>\n",
       "      <td>0.866025</td>\n",
       "    </tr>\n",
       "    <tr>\n",
       "      <th>2021-01-03 23:48:00</th>\n",
       "      <td>103.2855</td>\n",
       "      <td>103.2855</td>\n",
       "      <td>103.2690</td>\n",
       "      <td>103.2825</td>\n",
       "      <td>1.275100e+11</td>\n",
       "      <td>0.002381</td>\n",
       "      <td>-0.0070</td>\n",
       "      <td>-0.000068</td>\n",
       "      <td>-0.000068</td>\n",
       "      <td>-0.000018</td>\n",
       "      <td>...</td>\n",
       "      <td>3</td>\n",
       "      <td>1</td>\n",
       "      <td>-0.258819</td>\n",
       "      <td>0.965926</td>\n",
       "      <td>-0.781831</td>\n",
       "      <td>0.62349</td>\n",
       "      <td>0.571268</td>\n",
       "      <td>0.820763</td>\n",
       "      <td>0.5</td>\n",
       "      <td>0.866025</td>\n",
       "    </tr>\n",
       "  </tbody>\n",
       "</table>\n",
       "<p>5 rows × 52 columns</p>\n",
       "</div>"
      ],
      "text/plain": [
       "                         open      high       low     close        volume  \\\n",
       "timestamp                                                                   \n",
       "2021-01-03 23:44:00  103.2920  103.3005  103.2875  103.2890  1.147400e+11   \n",
       "2021-01-03 23:45:00  103.2860  103.3090  103.2835  103.3040  2.637000e+11   \n",
       "2021-01-03 23:46:00  103.3045  103.3180  103.2980  103.2980  1.622600e+11   \n",
       "2021-01-03 23:47:00  103.3010  103.3015  103.2805  103.2895  1.991100e+11   \n",
       "2021-01-03 23:48:00  103.2855  103.2855  103.2690  103.2825  1.275100e+11   \n",
       "\n",
       "                       spread  close_delta  close_return  close_log_return  \\\n",
       "timestamp                                                                    \n",
       "2021-01-03 23:44:00  0.003725      -0.0030     -0.000029         -0.000029   \n",
       "2021-01-03 23:45:00  0.004039       0.0150      0.000145          0.000145   \n",
       "2021-01-03 23:46:00  0.003704      -0.0060     -0.000058         -0.000058   \n",
       "2021-01-03 23:47:00  0.003133      -0.0085     -0.000082         -0.000082   \n",
       "2021-01-03 23:48:00  0.002381      -0.0070     -0.000068         -0.000068   \n",
       "\n",
       "                     ret_mean_5  ...  dom  month  hour_sin  hour_cos  \\\n",
       "timestamp                        ...                                   \n",
       "2021-01-03 23:44:00   -0.000019  ...    3      1 -0.258819  0.965926   \n",
       "2021-01-03 23:45:00    0.000022  ...    3      1 -0.258819  0.965926   \n",
       "2021-01-03 23:46:00    0.000010  ...    3      1 -0.258819  0.965926   \n",
       "2021-01-03 23:47:00   -0.000005  ...    3      1 -0.258819  0.965926   \n",
       "2021-01-03 23:48:00   -0.000018  ...    3      1 -0.258819  0.965926   \n",
       "\n",
       "                      dow_sin  dow_cos   dom_sin   dom_cos  month_sin  \\\n",
       "timestamp                                                               \n",
       "2021-01-03 23:44:00 -0.781831  0.62349  0.571268  0.820763        0.5   \n",
       "2021-01-03 23:45:00 -0.781831  0.62349  0.571268  0.820763        0.5   \n",
       "2021-01-03 23:46:00 -0.781831  0.62349  0.571268  0.820763        0.5   \n",
       "2021-01-03 23:47:00 -0.781831  0.62349  0.571268  0.820763        0.5   \n",
       "2021-01-03 23:48:00 -0.781831  0.62349  0.571268  0.820763        0.5   \n",
       "\n",
       "                     month_cos  \n",
       "timestamp                       \n",
       "2021-01-03 23:44:00   0.866025  \n",
       "2021-01-03 23:45:00   0.866025  \n",
       "2021-01-03 23:46:00   0.866025  \n",
       "2021-01-03 23:47:00   0.866025  \n",
       "2021-01-03 23:48:00   0.866025  \n",
       "\n",
       "[5 rows x 52 columns]"
      ]
     },
     "execution_count": 18,
     "metadata": {},
     "output_type": "execute_result"
    }
   ],
   "source": [
    "df.head()"
   ]
  },
  {
   "cell_type": "code",
   "execution_count": 19,
   "id": "e8a1275b-c52e-4d8a-a2cb-7567f4f84b46",
   "metadata": {},
   "outputs": [
    {
     "data": {
      "text/plain": [
       "Index(['open', 'high', 'low', 'close', 'volume', 'spread', 'close_delta',\n",
       "       'close_return', 'close_log_return', 'ret_mean_5', 'ret_mean_10',\n",
       "       'log_volume', 'ema5', 'ema5_slope', 'ema20', 'ema20_slope', 'ema100',\n",
       "       'ema100_slope', 'atr14', 'atr20', 'atr50', 'vol_adj_return',\n",
       "       'close_to_atr', 'adx14', 'bb_upper', 'bb_lower', 'bb_mavg', 'bb_width',\n",
       "       'bb_position', 'donchian_upper', 'donchian_lower', 'donchian_mid',\n",
       "       'donchian_width', 'stoch_k', 'stoch_d', 'rsi14', 'macd', 'macd_signal',\n",
       "       'macd_diff', 'unix_time', 'hour', 'dow', 'dom', 'month', 'hour_sin',\n",
       "       'hour_cos', 'dow_sin', 'dow_cos', 'dom_sin', 'dom_cos', 'month_sin',\n",
       "       'month_cos'],\n",
       "      dtype='object')"
      ]
     },
     "execution_count": 19,
     "metadata": {},
     "output_type": "execute_result"
    }
   ],
   "source": [
    "df.columns"
   ]
  },
  {
   "cell_type": "markdown",
   "id": "2380c175-3b65-4921-b3f1-338ba67bb1c8",
   "metadata": {},
   "source": [
    "## Calculate Daily Volatility"
   ]
  },
  {
   "cell_type": "code",
   "execution_count": 20,
   "id": "a3868a63-256e-4dd1-9b53-e1011f6830c2",
   "metadata": {},
   "outputs": [
    {
     "data": {
      "text/plain": [
       "np.float64(0.0001261215076018857)"
      ]
     },
     "execution_count": 20,
     "metadata": {},
     "output_type": "execute_result"
    }
   ],
   "source": [
    "vol = df['close_log_return'].rolling(window=60).std() # 計算 60 分鐘的 標準差\n",
    "vol.mean()"
   ]
  },
  {
   "cell_type": "markdown",
   "id": "d3e9654f-61f8-47fb-bec5-58eae44404cf",
   "metadata": {},
   "source": [
    "## Get Events Start Time (t0)"
   ]
  },
  {
   "cell_type": "code",
   "execution_count": 21,
   "id": "cdaa6e3a-24d8-4c70-ba2e-d8e230537406",
   "metadata": {},
   "outputs": [],
   "source": [
    "import numpy as np\n",
    "import pandas as pd\n",
    "from tqdm import tqdm\n",
    "\n",
    "def get_tevents_optimized(data: pd.Series, threshold: float) -> pd.DatetimeIndex:\n",
    "    # get tEvents using CUSUM filter\n",
    "    values = data.values\n",
    "    timestamps = data.index\n",
    "\n",
    "    s_pos = np.zeros_like(values)\n",
    "    s_neg = np.zeros_like(values)\n",
    "\n",
    "    t_events_mask = np.zeros_like(values, dtype=bool)\n",
    "\n",
    "    cum_pos, cum_neg = 0.0, 0.0\n",
    "\n",
    "    for i in tqdm(range(len(values))):\n",
    "        cum_pos = max(0.0, cum_pos + values[i])\n",
    "        cum_neg = min(0.0, cum_neg + values[i])\n",
    "        s_pos[i] = cum_pos\n",
    "        s_neg[i] = cum_neg\n",
    "\n",
    "        if cum_pos > threshold:\n",
    "            t_events_mask[i] = True\n",
    "            cum_pos = 0.0\n",
    "        if cum_neg < -threshold:\n",
    "            t_events_mask[i] = True\n",
    "            cum_neg = 0.0\n",
    "\n",
    "    return timestamps[t_events_mask]\n"
   ]
  },
  {
   "cell_type": "code",
   "execution_count": 22,
   "id": "23563b1f-a69b-4230-9e64-421813d6e240",
   "metadata": {},
   "outputs": [],
   "source": [
    "EVENT_NAME = 'CUSUM'\n",
    "THRESHOLD = vol.mean()*2\n",
    "EVENT_PATH = EVENTS_DIR / f\"{RESAMPLED_NAME}_{EVENT_NAME}_{THRESHOLD:.2e}.pkl\""
   ]
  },
  {
   "cell_type": "code",
   "execution_count": 23,
   "id": "35f0f7b6-3269-4201-ac13-168102e815e2",
   "metadata": {},
   "outputs": [
    {
     "name": "stderr",
     "output_type": "stream",
     "text": [
      "100%|██████████████████████████████████████████████████████████████████████████████████████████████████████████████████████| 1487206/1487206 [00:01<00:00, 1208186.44it/s]"
     ]
    },
    {
     "name": "stdout",
     "output_type": "stream",
     "text": [
      "CPU times: user 1.17 s, sys: 45.1 ms, total: 1.21 s\n",
      "Wall time: 1.24 s\n"
     ]
    },
    {
     "name": "stderr",
     "output_type": "stream",
     "text": [
      "\n"
     ]
    }
   ],
   "source": [
    "%%time\n",
    "\n",
    "t_events = get_tevents_optimized(df['close_log_return'].iloc[1:], threshold=THRESHOLD)"
   ]
  },
  {
   "cell_type": "code",
   "execution_count": 24,
   "id": "7622afbc-4d47-451d-81b6-fd890074bb72",
   "metadata": {
    "scrolled": true
   },
   "outputs": [
    {
     "data": {
      "text/plain": [
       "DatetimeIndex(['2021-01-03 23:49:00', '2021-01-03 23:52:00',\n",
       "               '2021-01-04 00:01:00', '2021-01-04 00:05:00',\n",
       "               '2021-01-04 00:10:00', '2021-01-04 00:17:00',\n",
       "               '2021-01-04 00:27:00', '2021-01-04 00:30:00',\n",
       "               '2021-01-04 00:37:00', '2021-01-04 00:40:00',\n",
       "               ...\n",
       "               '2024-12-30 22:29:00', '2024-12-30 23:00:00',\n",
       "               '2024-12-30 23:06:00', '2024-12-30 23:10:00',\n",
       "               '2024-12-30 23:12:00', '2024-12-30 23:17:00',\n",
       "               '2024-12-30 23:18:00', '2024-12-30 23:35:00',\n",
       "               '2024-12-30 23:40:00', '2024-12-30 23:47:00'],\n",
       "              dtype='datetime64[ns]', name='timestamp', length=248989, freq=None)"
      ]
     },
     "execution_count": 24,
     "metadata": {},
     "output_type": "execute_result"
    }
   ],
   "source": [
    "t_events"
   ]
  },
  {
   "cell_type": "code",
   "execution_count": 25,
   "id": "ba074337-74e5-4ac6-81c2-9f0d739b3c1f",
   "metadata": {},
   "outputs": [
    {
     "data": {
      "text/plain": [
       "PosixPath('../data/events/USDJPY-1m-20210101-20241231_CUSUM_2.52e-04.pkl')"
      ]
     },
     "execution_count": 25,
     "metadata": {},
     "output_type": "execute_result"
    }
   ],
   "source": [
    "EVENT_PATH"
   ]
  },
  {
   "cell_type": "code",
   "execution_count": 26,
   "id": "1f1e7c37-a6d3-40d0-92f9-e655c36a177a",
   "metadata": {},
   "outputs": [],
   "source": [
    "t_events.to_series().to_pickle(EVENT_PATH)"
   ]
  }
 ],
 "metadata": {
  "kernelspec": {
   "display_name": "Python 3 (ipykernel)",
   "language": "python",
   "name": "python3"
  },
  "language_info": {
   "codemirror_mode": {
    "name": "ipython",
    "version": 3
   },
   "file_extension": ".py",
   "mimetype": "text/x-python",
   "name": "python",
   "nbconvert_exporter": "python",
   "pygments_lexer": "ipython3",
   "version": "3.11.13"
  },
  "widgets": {
   "application/vnd.jupyter.widget-state+json": {
    "state": {},
    "version_major": 2,
    "version_minor": 0
   }
  }
 },
 "nbformat": 4,
 "nbformat_minor": 5
}
