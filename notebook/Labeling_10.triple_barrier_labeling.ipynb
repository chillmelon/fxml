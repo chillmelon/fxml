{
 "cells": [
  {
   "cell_type": "code",
   "execution_count": 308,
   "id": "8c6d6f1f-0017-4810-9328-099f68c7c6e2",
   "metadata": {},
   "outputs": [],
   "source": [
    "import pandas as pd\n",
    "import numpy as np\n",
    "import matplotlib.pyplot as plt\n",
    "from matplotlib.ticker import FormatStrFormatter\n",
    "\n",
    "import os"
   ]
  },
  {
   "cell_type": "code",
   "execution_count": 337,
   "id": "bf14af0e-a692-419c-a591-5feaf1601bf9",
   "metadata": {},
   "outputs": [],
   "source": [
    "from pathlib import Path\n",
    "\n",
    "# Configurable parts\n",
    "SYMBOL = \"USDJPY\"\n",
    "SAMPLE_TYPE = \"time\"\n",
    "MINUTES = 1\n",
    "EVENT_NAME = 'CUSUM_0.0004'\n",
    "LABEL_NAME = \"TB\"\n",
    "\n",
    "START_DATE = \"20210101\"\n",
    "END_DATE = \"20241231\"\n",
    "\n",
    "RESAMPLED_NAME = f\"{SYMBOL}-{MINUTES}m-{START_DATE}-{END_DATE}\"\n",
    "\n",
    "# Base directories\n",
    "BASE_DIR = Path(\"../data\")\n",
    "RESAMPLED_DIR = BASE_DIR / \"resampled\"\n",
    "PROCESSED_DIR = BASE_DIR / \"processed\"\n",
    "EVENTS_DIR = BASE_DIR / \"interm/events\"\n",
    "\n",
    "# Final paths\n",
    "RESAMPLED_FILE_PATH = RESAMPLED_DIR / f\"{RESAMPLED_NAME}.pkl\"\n",
    "PROCESSED_FILE_PATH = PROCESSED_DIR / f\"{RESAMPLED_NAME}_FEATURES.pkl\"\n",
    "EVENT_FILE_PATH = EVENTS_DIR / f\"{RESAMPLED_NAME}_{EVENT_NAME}.pkl\""
   ]
  },
  {
   "cell_type": "code",
   "execution_count": 338,
   "id": "c95146f2-e32f-4954-a38e-afd492fa82be",
   "metadata": {},
   "outputs": [],
   "source": [
    "DIRECTION_LABEL_DIR = BASE_DIR / \"labels/direction_labels\"\n",
    "DIRECTION_LABEL_DIR.mkdir(parents=True, exist_ok=True)\n",
    "DIRECTION_LABEL_FILE_PATH = DIRECTION_LABEL_DIR / f\"{RESAMPLED_NAME}-{EVENT_NAME}-{LABEL_NAME}.pkl\""
   ]
  },
  {
   "cell_type": "code",
   "execution_count": 339,
   "id": "79e659aa-5b8f-43d4-aa7f-3fe6cd7e5bd7",
   "metadata": {
    "scrolled": true
   },
   "outputs": [
    {
     "name": "stdout",
     "output_type": "stream",
     "text": [
      "CPU times: user 1.7 ms, sys: 143 ms, total: 145 ms\n",
      "Wall time: 212 ms\n"
     ]
    }
   ],
   "source": [
    "%%time\n",
    "df = pd.read_pickle(PROCESSED_FILE_PATH)\n",
    "t_events = pd.read_pickle(EVENT_FILE_PATH)"
   ]
  },
  {
   "cell_type": "code",
   "execution_count": 340,
   "id": "0c4183f5-be41-413c-9747-61ea734787b2",
   "metadata": {},
   "outputs": [
    {
     "data": {
      "text/html": [
       "<div>\n",
       "<style scoped>\n",
       "    .dataframe tbody tr th:only-of-type {\n",
       "        vertical-align: middle;\n",
       "    }\n",
       "\n",
       "    .dataframe tbody tr th {\n",
       "        vertical-align: top;\n",
       "    }\n",
       "\n",
       "    .dataframe thead th {\n",
       "        text-align: right;\n",
       "    }\n",
       "</style>\n",
       "<table border=\"1\" class=\"dataframe\">\n",
       "  <thead>\n",
       "    <tr style=\"text-align: right;\">\n",
       "      <th></th>\n",
       "      <th>open</th>\n",
       "      <th>high</th>\n",
       "      <th>low</th>\n",
       "      <th>close</th>\n",
       "      <th>volume</th>\n",
       "      <th>spread</th>\n",
       "      <th>close_pct_return</th>\n",
       "      <th>close_return</th>\n",
       "      <th>close_log_return</th>\n",
       "      <th>close_fd_return</th>\n",
       "      <th>...</th>\n",
       "      <th>dom</th>\n",
       "      <th>month</th>\n",
       "      <th>hour_sin</th>\n",
       "      <th>hour_cos</th>\n",
       "      <th>dow_sin</th>\n",
       "      <th>dow_cos</th>\n",
       "      <th>dom_sin</th>\n",
       "      <th>dom_cos</th>\n",
       "      <th>month_sin</th>\n",
       "      <th>month_cos</th>\n",
       "    </tr>\n",
       "    <tr>\n",
       "      <th>timestamp</th>\n",
       "      <th></th>\n",
       "      <th></th>\n",
       "      <th></th>\n",
       "      <th></th>\n",
       "      <th></th>\n",
       "      <th></th>\n",
       "      <th></th>\n",
       "      <th></th>\n",
       "      <th></th>\n",
       "      <th></th>\n",
       "      <th></th>\n",
       "      <th></th>\n",
       "      <th></th>\n",
       "      <th></th>\n",
       "      <th></th>\n",
       "      <th></th>\n",
       "      <th></th>\n",
       "      <th></th>\n",
       "      <th></th>\n",
       "      <th></th>\n",
       "      <th></th>\n",
       "    </tr>\n",
       "  </thead>\n",
       "  <tbody>\n",
       "    <tr>\n",
       "      <th>2021-01-04 13:46:00</th>\n",
       "      <td>102.9590</td>\n",
       "      <td>102.9630</td>\n",
       "      <td>102.9435</td>\n",
       "      <td>102.9460</td>\n",
       "      <td>2.831500e+11</td>\n",
       "      <td>0.002205</td>\n",
       "      <td>-0.000131</td>\n",
       "      <td>-0.0135</td>\n",
       "      <td>-0.000131</td>\n",
       "      <td>1.894669</td>\n",
       "      <td>...</td>\n",
       "      <td>4</td>\n",
       "      <td>1</td>\n",
       "      <td>-0.258819</td>\n",
       "      <td>-0.965926</td>\n",
       "      <td>0.0</td>\n",
       "      <td>1.0</td>\n",
       "      <td>0.724793</td>\n",
       "      <td>0.688967</td>\n",
       "      <td>0.5</td>\n",
       "      <td>0.866025</td>\n",
       "    </tr>\n",
       "    <tr>\n",
       "      <th>2021-01-04 13:50:00</th>\n",
       "      <td>102.9690</td>\n",
       "      <td>102.9910</td>\n",
       "      <td>102.9690</td>\n",
       "      <td>102.9910</td>\n",
       "      <td>2.191600e+11</td>\n",
       "      <td>0.002043</td>\n",
       "      <td>0.000209</td>\n",
       "      <td>0.0215</td>\n",
       "      <td>0.000209</td>\n",
       "      <td>1.937369</td>\n",
       "      <td>...</td>\n",
       "      <td>4</td>\n",
       "      <td>1</td>\n",
       "      <td>-0.258819</td>\n",
       "      <td>-0.965926</td>\n",
       "      <td>0.0</td>\n",
       "      <td>1.0</td>\n",
       "      <td>0.724793</td>\n",
       "      <td>0.688967</td>\n",
       "      <td>0.5</td>\n",
       "      <td>0.866025</td>\n",
       "    </tr>\n",
       "    <tr>\n",
       "      <th>2021-01-04 13:55:00</th>\n",
       "      <td>102.9910</td>\n",
       "      <td>103.0235</td>\n",
       "      <td>102.9910</td>\n",
       "      <td>103.0235</td>\n",
       "      <td>3.020600e+11</td>\n",
       "      <td>0.002191</td>\n",
       "      <td>0.000325</td>\n",
       "      <td>0.0335</td>\n",
       "      <td>0.000325</td>\n",
       "      <td>1.952365</td>\n",
       "      <td>...</td>\n",
       "      <td>4</td>\n",
       "      <td>1</td>\n",
       "      <td>-0.258819</td>\n",
       "      <td>-0.965926</td>\n",
       "      <td>0.0</td>\n",
       "      <td>1.0</td>\n",
       "      <td>0.724793</td>\n",
       "      <td>0.688967</td>\n",
       "      <td>0.5</td>\n",
       "      <td>0.866025</td>\n",
       "    </tr>\n",
       "    <tr>\n",
       "      <th>2021-01-04 14:00:00</th>\n",
       "      <td>103.0275</td>\n",
       "      <td>103.0370</td>\n",
       "      <td>103.0020</td>\n",
       "      <td>103.0100</td>\n",
       "      <td>3.462000e+11</td>\n",
       "      <td>0.002282</td>\n",
       "      <td>-0.000165</td>\n",
       "      <td>-0.0170</td>\n",
       "      <td>-0.000165</td>\n",
       "      <td>1.902438</td>\n",
       "      <td>...</td>\n",
       "      <td>4</td>\n",
       "      <td>1</td>\n",
       "      <td>-0.500000</td>\n",
       "      <td>-0.866025</td>\n",
       "      <td>0.0</td>\n",
       "      <td>1.0</td>\n",
       "      <td>0.724793</td>\n",
       "      <td>0.688967</td>\n",
       "      <td>0.5</td>\n",
       "      <td>0.866025</td>\n",
       "    </tr>\n",
       "    <tr>\n",
       "      <th>2021-01-04 14:16:00</th>\n",
       "      <td>103.0345</td>\n",
       "      <td>103.0555</td>\n",
       "      <td>103.0345</td>\n",
       "      <td>103.0555</td>\n",
       "      <td>5.678500e+11</td>\n",
       "      <td>0.001925</td>\n",
       "      <td>0.000218</td>\n",
       "      <td>0.0225</td>\n",
       "      <td>0.000218</td>\n",
       "      <td>1.947650</td>\n",
       "      <td>...</td>\n",
       "      <td>4</td>\n",
       "      <td>1</td>\n",
       "      <td>-0.500000</td>\n",
       "      <td>-0.866025</td>\n",
       "      <td>0.0</td>\n",
       "      <td>1.0</td>\n",
       "      <td>0.724793</td>\n",
       "      <td>0.688967</td>\n",
       "      <td>0.5</td>\n",
       "      <td>0.866025</td>\n",
       "    </tr>\n",
       "  </tbody>\n",
       "</table>\n",
       "<p>5 rows × 67 columns</p>\n",
       "</div>"
      ],
      "text/plain": [
       "                         open      high       low     close        volume  \\\n",
       "timestamp                                                                   \n",
       "2021-01-04 13:46:00  102.9590  102.9630  102.9435  102.9460  2.831500e+11   \n",
       "2021-01-04 13:50:00  102.9690  102.9910  102.9690  102.9910  2.191600e+11   \n",
       "2021-01-04 13:55:00  102.9910  103.0235  102.9910  103.0235  3.020600e+11   \n",
       "2021-01-04 14:00:00  103.0275  103.0370  103.0020  103.0100  3.462000e+11   \n",
       "2021-01-04 14:16:00  103.0345  103.0555  103.0345  103.0555  5.678500e+11   \n",
       "\n",
       "                       spread  close_pct_return  close_return  \\\n",
       "timestamp                                                       \n",
       "2021-01-04 13:46:00  0.002205         -0.000131       -0.0135   \n",
       "2021-01-04 13:50:00  0.002043          0.000209        0.0215   \n",
       "2021-01-04 13:55:00  0.002191          0.000325        0.0335   \n",
       "2021-01-04 14:00:00  0.002282         -0.000165       -0.0170   \n",
       "2021-01-04 14:16:00  0.001925          0.000218        0.0225   \n",
       "\n",
       "                     close_log_return  close_fd_return  ...  dom  month  \\\n",
       "timestamp                                               ...               \n",
       "2021-01-04 13:46:00         -0.000131         1.894669  ...    4      1   \n",
       "2021-01-04 13:50:00          0.000209         1.937369  ...    4      1   \n",
       "2021-01-04 13:55:00          0.000325         1.952365  ...    4      1   \n",
       "2021-01-04 14:00:00         -0.000165         1.902438  ...    4      1   \n",
       "2021-01-04 14:16:00          0.000218         1.947650  ...    4      1   \n",
       "\n",
       "                     hour_sin  hour_cos  dow_sin  dow_cos   dom_sin   dom_cos  \\\n",
       "timestamp                                                                       \n",
       "2021-01-04 13:46:00 -0.258819 -0.965926      0.0      1.0  0.724793  0.688967   \n",
       "2021-01-04 13:50:00 -0.258819 -0.965926      0.0      1.0  0.724793  0.688967   \n",
       "2021-01-04 13:55:00 -0.258819 -0.965926      0.0      1.0  0.724793  0.688967   \n",
       "2021-01-04 14:00:00 -0.500000 -0.866025      0.0      1.0  0.724793  0.688967   \n",
       "2021-01-04 14:16:00 -0.500000 -0.866025      0.0      1.0  0.724793  0.688967   \n",
       "\n",
       "                     month_sin  month_cos  \n",
       "timestamp                                  \n",
       "2021-01-04 13:46:00        0.5   0.866025  \n",
       "2021-01-04 13:50:00        0.5   0.866025  \n",
       "2021-01-04 13:55:00        0.5   0.866025  \n",
       "2021-01-04 14:00:00        0.5   0.866025  \n",
       "2021-01-04 14:16:00        0.5   0.866025  \n",
       "\n",
       "[5 rows x 67 columns]"
      ]
     },
     "execution_count": 340,
     "metadata": {},
     "output_type": "execute_result"
    }
   ],
   "source": [
    "df.loc[t_events].head()"
   ]
  },
  {
   "cell_type": "markdown",
   "id": "6c93411b-4eac-441d-ba4b-13ac064fe2ea",
   "metadata": {},
   "source": [
    "## Calculate Target Volatility (trgt)\n",
    "This will be used for the calculation of dynamic TP/SL\n"
   ]
  },
  {
   "cell_type": "code",
   "execution_count": 341,
   "id": "f5e03227-a24f-4665-8357-5be6f68334f1",
   "metadata": {},
   "outputs": [],
   "source": [
    "import pandas_ta as ta"
   ]
  },
  {
   "cell_type": "code",
   "execution_count": 342,
   "id": "43311dca-dc14-4b55-9fa5-3ec33236efe1",
   "metadata": {},
   "outputs": [],
   "source": [
    "# 預計持單 1 小時 (60 minutes)\n",
    "# 計算 1 小時內價格可能到哪裡\n",
    "# 計算 1 小時 normalized atr\n",
    "atr12 = df.ta.natr(length=12)"
   ]
  },
  {
   "cell_type": "code",
   "execution_count": 343,
   "id": "d0c74e65-17e8-4eef-a22d-0b9334641b46",
   "metadata": {},
   "outputs": [
    {
     "data": {
      "text/plain": [
       "timestamp\n",
       "2021-01-04 13:33:00         NaN\n",
       "2021-01-04 13:34:00         NaN\n",
       "2021-01-04 13:35:00         NaN\n",
       "2021-01-04 13:36:00         NaN\n",
       "2021-01-04 13:37:00         NaN\n",
       "                         ...   \n",
       "2024-12-30 23:55:00    0.008614\n",
       "2024-12-30 23:56:00    0.007976\n",
       "2024-12-30 23:57:00    0.008346\n",
       "2024-12-30 23:58:00    0.008075\n",
       "2024-12-30 23:59:00    0.007959\n",
       "Name: NATR_12, Length: 1486378, dtype: float64"
      ]
     },
     "execution_count": 343,
     "metadata": {},
     "output_type": "execute_result"
    }
   ],
   "source": [
    "atr12"
   ]
  },
  {
   "cell_type": "code",
   "execution_count": 344,
   "id": "54396349-fb91-4420-92f7-8e57734e9408",
   "metadata": {},
   "outputs": [],
   "source": [
    "trgt = atr12.reindex(t_events, method='ffill') / 100 # rate"
   ]
  },
  {
   "cell_type": "code",
   "execution_count": 345,
   "id": "4a16f765-1c31-487d-b600-ed3f6dbd936b",
   "metadata": {
    "scrolled": true
   },
   "outputs": [
    {
     "data": {
      "text/plain": [
       "count    141392.000000\n",
       "mean          0.000277\n",
       "std           0.000216\n",
       "min           0.000019\n",
       "25%           0.000151\n",
       "50%           0.000225\n",
       "75%           0.000331\n",
       "max           0.003497\n",
       "Name: NATR_12, dtype: float64"
      ]
     },
     "execution_count": 345,
     "metadata": {},
     "output_type": "execute_result"
    }
   ],
   "source": [
    "(trgt).describe()"
   ]
  },
  {
   "cell_type": "markdown",
   "id": "21841f1a-8cbd-46bf-bd31-3662c1e904b1",
   "metadata": {},
   "source": [
    "## Apply Triple Barrier\n",
    "We use daily volatility to calculate TP/SL, and we set our T1 as 1day"
   ]
  },
  {
   "cell_type": "code",
   "execution_count": 346,
   "id": "228a82bd-4870-4c7c-bf0a-3456b9893997",
   "metadata": {},
   "outputs": [],
   "source": [
    "from concurrent.futures import ThreadPoolExecutor\n",
    "import numpy as np\n",
    "import pandas as pd\n",
    "\n",
    "def applyPtSlOnT1(close,events,ptSl,molecule):\n",
    "    # apply stop loss/profit taking, if it takes place before t1 (end of event)\n",
    "    events_=events.loc[molecule]\n",
    "    out=events_[['t1']].copy(deep=True)\n",
    "    \n",
    "    pt = ptSl[0] * events_['trgt'] if ptSl[0] > 0 else pd.Series(index=events.index)\n",
    "    sl = -ptSl[1] * events_['trgt'] if ptSl[1] > 0 else pd.Series(index=events.index)\n",
    "\n",
    "        \n",
    "    for loc, t1 in events_['t1'].fillna(close.index[-1]).items():\n",
    "        df0=close[loc:t1] # path prices\n",
    "        df0=(df0/close[loc]-1)*events_.at[loc,'side'] # path returns (rate)\n",
    "        out.loc[loc,'sl']=df0[df0<sl[loc]].index.min() # earliest stop loss\n",
    "        out.loc[loc,'pt']=df0[df0>pt[loc]].index.min() # earliest profit taking\n",
    "        \n",
    "    return out\n",
    "\n",
    "\n",
    "def parallel_apply(func, items, num_threads=4, **kwargs):\n",
    "    \n",
    "    def worker(molecule):\n",
    "        return func(molecule=molecule, **kwargs)\n",
    "\n",
    "    chunks = np.array_split(items, num_threads)\n",
    "    \n",
    "    with ThreadPoolExecutor(max_workers=num_threads) as executor:\n",
    "        results = list(executor.map(worker, chunks))\n",
    "\n",
    "    return pd.concat(results).sort_index()\n",
    "\n",
    "\n",
    "def getEvents(close, tEvents, ptSl, trgt, minTrgt, numThreads=4, t1=False, side=None):\n",
    "    # Step 1: Filter targets\n",
    "    trgt = trgt.loc[tEvents]\n",
    "    trgt = trgt[trgt > minTrgt]\n",
    "\n",
    "    # Step 2: Set vertical barrier (t1)\n",
    "    if t1 is False:\n",
    "        t1 = pd.Series(pd.NaT, index=tEvents)\n",
    "\n",
    "    # Step 3: Build events DataFrame\n",
    "    if side is None:\n",
    "        side_, ptSl_ = pd.Series(1., index=trgt.index), [ptSl[0], ptSl[0]]\n",
    "    else:\n",
    "        side_, ptSl_ = side.loc[trgt.index], ptSl[:2]\n",
    "\n",
    "    events = pd.concat({'t1': t1, 'trgt': trgt, 'side': side_}, axis=1).dropna(subset=['trgt'])\n",
    "\n",
    "    # Step 4: Apply barriers in parallel\n",
    "    df0 = parallel_apply(\n",
    "        func=applyPtSlOnT1,\n",
    "        items=events.index,\n",
    "        num_threads=numThreads,\n",
    "        close=close,\n",
    "        events=events,\n",
    "        ptSl=ptSl_\n",
    "    )\n",
    "\n",
    "    # Step 5: Choose the first touched barrier\n",
    "    events['t1'] = df0.dropna(how='all').min(axis=1)\n",
    "    \n",
    "    if side is None:\n",
    "        events = events.drop('side', axis=1)\n",
    "        \n",
    "    return events\n"
   ]
  },
  {
   "cell_type": "code",
   "execution_count": 347,
   "id": "1c4cb836-44c5-4ec8-a5bc-79982eb1daf8",
   "metadata": {},
   "outputs": [],
   "source": [
    "def get_vertical_barrier(t_events, close, delta=pd.Timedelta(minutes=60)):\n",
    "    \"\"\"\n",
    "    For each event in t_events, find the timestamp in close.index \n",
    "    that is at least delta later. Returns a pd.Series of t1.\n",
    "    \"\"\"\n",
    "    barrier_times = t_events + delta\n",
    "    t1_idx = close.index.searchsorted(barrier_times)\n",
    "    valid_idx = t1_idx[t1_idx < len(close)]\n",
    "    t1 = pd.Series(close.index[valid_idx], index=t_events[:len(valid_idx)])\n",
    "    return t1"
   ]
  },
  {
   "cell_type": "code",
   "execution_count": 348,
   "id": "c1c542ed-24cc-4403-b3ca-e01fd931484a",
   "metadata": {},
   "outputs": [],
   "source": [
    "t1 = get_vertical_barrier(t_events, df['close'], delta=pd.Timedelta(minutes=120))"
   ]
  },
  {
   "cell_type": "code",
   "execution_count": 349,
   "id": "2666c0a7-7347-427a-a815-6299967b7671",
   "metadata": {
    "scrolled": true
   },
   "outputs": [
    {
     "data": {
      "text/plain": [
       "timestamp\n",
       "2021-01-04 13:46:00   2021-01-04 15:46:00\n",
       "2021-01-04 13:50:00   2021-01-04 15:50:00\n",
       "2021-01-04 13:55:00   2021-01-04 15:55:00\n",
       "2021-01-04 14:00:00   2021-01-04 16:00:00\n",
       "2021-01-04 14:16:00   2021-01-04 16:16:00\n",
       "                              ...        \n",
       "2024-12-30 20:29:00   2024-12-30 22:29:00\n",
       "2024-12-30 20:34:00   2024-12-30 22:34:00\n",
       "2024-12-30 20:55:00   2024-12-30 22:56:00\n",
       "2024-12-30 21:06:00   2024-12-30 23:06:00\n",
       "2024-12-30 21:45:00   2024-12-30 23:45:00\n",
       "Name: timestamp, Length: 141387, dtype: datetime64[ns]"
      ]
     },
     "execution_count": 349,
     "metadata": {},
     "output_type": "execute_result"
    }
   ],
   "source": [
    "t1"
   ]
  },
  {
   "cell_type": "code",
   "execution_count": 350,
   "id": "eecf7e7f-ac8b-494b-8e37-e3def199856a",
   "metadata": {},
   "outputs": [
    {
     "data": {
      "text/plain": [
       "count    141392.000000\n",
       "mean          0.000277\n",
       "std           0.000216\n",
       "min           0.000019\n",
       "25%           0.000151\n",
       "50%           0.000225\n",
       "75%           0.000331\n",
       "max           0.003497\n",
       "Name: NATR_12, dtype: float64"
      ]
     },
     "execution_count": 350,
     "metadata": {},
     "output_type": "execute_result"
    }
   ],
   "source": [
    "trgt.describe()"
   ]
  },
  {
   "cell_type": "code",
   "execution_count": 351,
   "id": "485d4f61-8f96-47ed-8df0-1da3d1e1f99d",
   "metadata": {},
   "outputs": [
    {
     "data": {
      "text/plain": [
       "np.float64(0.00016535322367973722)"
      ]
     },
     "execution_count": 351,
     "metadata": {},
     "output_type": "execute_result"
    }
   ],
   "source": [
    "minTrgt = trgt.quantile(.3)\n",
    "minTrgt\n",
    "# minTrgt = 0"
   ]
  },
  {
   "cell_type": "code",
   "execution_count": 352,
   "id": "aad0bc6e-3302-45e5-b64b-bcebfab3db4c",
   "metadata": {},
   "outputs": [
    {
     "name": "stdout",
     "output_type": "stream",
     "text": [
      "CPU times: user 27.7 s, sys: 2.64 s, total: 30.4 s\n",
      "Wall time: 28.2 s\n"
     ]
    }
   ],
   "source": [
    "%%time\n",
    "\n",
    "events = getEvents(\n",
    "    close=df['close'],\n",
    "    tEvents=t_events, \n",
    "    ptSl=[1,1], \n",
    "    trgt=trgt, \n",
    "    minTrgt=minTrgt, \n",
    "    numThreads=20, \n",
    "    t1=t1, \n",
    "    side=None\n",
    ")"
   ]
  },
  {
   "cell_type": "code",
   "execution_count": 353,
   "id": "9957def4-4cb8-40cf-a103-76098e8b739e",
   "metadata": {},
   "outputs": [
    {
     "data": {
      "text/html": [
       "<div>\n",
       "<style scoped>\n",
       "    .dataframe tbody tr th:only-of-type {\n",
       "        vertical-align: middle;\n",
       "    }\n",
       "\n",
       "    .dataframe tbody tr th {\n",
       "        vertical-align: top;\n",
       "    }\n",
       "\n",
       "    .dataframe thead th {\n",
       "        text-align: right;\n",
       "    }\n",
       "</style>\n",
       "<table border=\"1\" class=\"dataframe\">\n",
       "  <thead>\n",
       "    <tr style=\"text-align: right;\">\n",
       "      <th></th>\n",
       "      <th>t1</th>\n",
       "      <th>trgt</th>\n",
       "    </tr>\n",
       "    <tr>\n",
       "      <th>timestamp</th>\n",
       "      <th></th>\n",
       "      <th></th>\n",
       "    </tr>\n",
       "  </thead>\n",
       "  <tbody>\n",
       "    <tr>\n",
       "      <th>2021-01-04 14:00:00</th>\n",
       "      <td>2021-01-04 14:02:00</td>\n",
       "      <td>0.000183</td>\n",
       "    </tr>\n",
       "    <tr>\n",
       "      <th>2021-01-04 14:21:00</th>\n",
       "      <td>2021-01-04 14:24:00</td>\n",
       "      <td>0.000167</td>\n",
       "    </tr>\n",
       "    <tr>\n",
       "      <th>2021-01-04 14:35:00</th>\n",
       "      <td>2021-01-04 14:41:00</td>\n",
       "      <td>0.000176</td>\n",
       "    </tr>\n",
       "    <tr>\n",
       "      <th>2021-01-04 14:51:00</th>\n",
       "      <td>2021-01-04 15:05:00</td>\n",
       "      <td>0.000166</td>\n",
       "    </tr>\n",
       "    <tr>\n",
       "      <th>2021-01-04 15:07:00</th>\n",
       "      <td>2021-01-04 15:19:00</td>\n",
       "      <td>0.000197</td>\n",
       "    </tr>\n",
       "  </tbody>\n",
       "</table>\n",
       "</div>"
      ],
      "text/plain": [
       "                                     t1      trgt\n",
       "timestamp                                        \n",
       "2021-01-04 14:00:00 2021-01-04 14:02:00  0.000183\n",
       "2021-01-04 14:21:00 2021-01-04 14:24:00  0.000167\n",
       "2021-01-04 14:35:00 2021-01-04 14:41:00  0.000176\n",
       "2021-01-04 14:51:00 2021-01-04 15:05:00  0.000166\n",
       "2021-01-04 15:07:00 2021-01-04 15:19:00  0.000197"
      ]
     },
     "execution_count": 353,
     "metadata": {},
     "output_type": "execute_result"
    }
   ],
   "source": [
    "events.head()"
   ]
  },
  {
   "cell_type": "code",
   "execution_count": 354,
   "id": "4a5aeeb1-f536-4089-918f-b4b1f4722d53",
   "metadata": {},
   "outputs": [],
   "source": [
    "events = events.dropna().copy()"
   ]
  },
  {
   "cell_type": "markdown",
   "id": "8ee81137-c135-429c-8eb4-e119dd90e81b",
   "metadata": {},
   "source": [
    "# Keep only intraday events"
   ]
  },
  {
   "cell_type": "code",
   "execution_count": 355,
   "id": "5c86ef05-1f38-45c7-8a72-6bf47b0f0711",
   "metadata": {},
   "outputs": [],
   "source": [
    "events = events[events.index.date==events.t1.dt.date]"
   ]
  },
  {
   "cell_type": "markdown",
   "id": "aab67fbb-c308-49a4-b962-c683b44eaeee",
   "metadata": {},
   "source": [
    "## Create classification labels"
   ]
  },
  {
   "cell_type": "code",
   "execution_count": 356,
   "id": "418be389-de4d-4684-8817-239f42addbe3",
   "metadata": {},
   "outputs": [],
   "source": [
    "def getBins(events, close, minRet=0.0, t1=None):\n",
    "    '''\n",
    "    Compute event's outcome (including side information, if provided).\n",
    "    events is a DataFrame where:\n",
    "    -events.index is event's starttime\n",
    "    -events['t1'] is event's endtime\n",
    "    -events['trgt'] is event's target\n",
    "    -events['side'] (optional) implies the algo's position side\n",
    "    -t1 is original vertical barrier series\n",
    "    Case 1: ('side' not in events): bin in (-1,1) <-label by price action\n",
    "    Case 2: ('side' in events): bin in (0,1) <-label by pnl (meta-labeling)\n",
    "    '''\n",
    "    # 1) prices aligned with events\n",
    "    events_ = events.dropna(subset=['t1'])\n",
    "    px = events_.index.union(events_['t1'].values).drop_duplicates()\n",
    "    px = close.reindex(px, method='bfill')\n",
    "    # 2) create out object\n",
    "    out = pd.DataFrame(index=events_.index)\n",
    "    out['ret'] = px.loc[events_['t1'].values].values / px.loc[\n",
    "        events_.index] - 1\n",
    "    if 'side' in events_: out['ret'] *= events_['side']  # meta-labeling\n",
    "    out['bin'] = np.sign(out['ret'])\n",
    "\n",
    "    if 'side' not in events_:\n",
    "        # only applies when not meta-labeling.\n",
    "        # to update bin to 0 when vertical barrier is touched, we need the\n",
    "        # original vertical barrier series since the events['t1'] is the time\n",
    "        # of first touch of any barrier and not the vertical barrier\n",
    "        # specifically. The index of the intersection of the vertical barrier\n",
    "        # values and the events['t1'] values indicate which bin labels needs\n",
    "        # to be turned to 0.\n",
    "        vtouch_first_idx = events[events['t1'].isin(t1.values)].index\n",
    "        out.loc[vtouch_first_idx, 'bin'] = 0.\n",
    "\n",
    "    if 'side' in events_: out.loc[out['ret'] <= 0, 'bin'] = 0  # meta-labeling\n",
    "    out.loc[out['ret'].abs() < minRet, 'bin'] = 0. # 不做獲利過少的交易 (設為 0)\n",
    "    # out = out.loc[out['ret'].abs() >= minRet] # 過濾掉獲利過少的交易 (刪掉)\n",
    "    return out"
   ]
  },
  {
   "cell_type": "code",
   "execution_count": 357,
   "id": "b6456d95-60e3-4e68-9784-05d0c809d385",
   "metadata": {
    "scrolled": true
   },
   "outputs": [],
   "source": [
    "labels = getBins(events, df['close'], minRet=0, t1=t1)"
   ]
  },
  {
   "cell_type": "code",
   "execution_count": 358,
   "id": "687c024c-3833-4172-9d78-97341326918f",
   "metadata": {},
   "outputs": [
    {
     "name": "stdout",
     "output_type": "stream",
     "text": [
      "count    98766.000000\n",
      "mean         0.000501\n",
      "std          0.000399\n",
      "min          0.000010\n",
      "25%          0.000293\n",
      "50%          0.000395\n",
      "75%          0.000570\n",
      "max          0.013808\n",
      "Name: ret, dtype: float64\n",
      "0.0003115995193163634\n"
     ]
    }
   ],
   "source": [
    "print(labels.ret.abs().describe())\n",
    "print(labels.ret.abs().quantile(.3))"
   ]
  },
  {
   "cell_type": "code",
   "execution_count": 359,
   "id": "77797461-e6ba-4f39-abe8-490d69bcbbdf",
   "metadata": {},
   "outputs": [
    {
     "data": {
      "text/plain": [
       "bin\n",
       " 1.0    41553\n",
       "-1.0    40544\n",
       " 0.0    16669\n",
       "Name: count, dtype: int64"
      ]
     },
     "execution_count": 359,
     "metadata": {},
     "output_type": "execute_result"
    }
   ],
   "source": [
    "labels.bin.value_counts()"
   ]
  },
  {
   "cell_type": "code",
   "execution_count": 360,
   "id": "acd4019c-4d46-4825-a78c-b89aa690a975",
   "metadata": {},
   "outputs": [],
   "source": [
    "labels[\"bin_class\"] = labels[\"bin\"] + 1"
   ]
  },
  {
   "cell_type": "code",
   "execution_count": 361,
   "id": "0a0bdb6d-6728-4e5b-81b5-37524fbd69bc",
   "metadata": {},
   "outputs": [],
   "source": [
    "labeled_events = events.join(labels, how='inner')"
   ]
  },
  {
   "cell_type": "code",
   "execution_count": 362,
   "id": "d98e772d-a880-4563-b0ba-669f05206956",
   "metadata": {},
   "outputs": [
    {
     "data": {
      "text/html": [
       "<div>\n",
       "<style scoped>\n",
       "    .dataframe tbody tr th:only-of-type {\n",
       "        vertical-align: middle;\n",
       "    }\n",
       "\n",
       "    .dataframe tbody tr th {\n",
       "        vertical-align: top;\n",
       "    }\n",
       "\n",
       "    .dataframe thead th {\n",
       "        text-align: right;\n",
       "    }\n",
       "</style>\n",
       "<table border=\"1\" class=\"dataframe\">\n",
       "  <thead>\n",
       "    <tr style=\"text-align: right;\">\n",
       "      <th></th>\n",
       "      <th>t1</th>\n",
       "      <th>trgt</th>\n",
       "      <th>ret</th>\n",
       "      <th>bin</th>\n",
       "      <th>bin_class</th>\n",
       "    </tr>\n",
       "    <tr>\n",
       "      <th>timestamp</th>\n",
       "      <th></th>\n",
       "      <th></th>\n",
       "      <th></th>\n",
       "      <th></th>\n",
       "      <th></th>\n",
       "    </tr>\n",
       "  </thead>\n",
       "  <tbody>\n",
       "    <tr>\n",
       "      <th>2021-01-04 14:00:00</th>\n",
       "      <td>2021-01-04 14:02:00</td>\n",
       "      <td>0.000183</td>\n",
       "      <td>0.000228</td>\n",
       "      <td>1.0</td>\n",
       "      <td>2.0</td>\n",
       "    </tr>\n",
       "    <tr>\n",
       "      <th>2021-01-04 14:21:00</th>\n",
       "      <td>2021-01-04 14:24:00</td>\n",
       "      <td>0.000167</td>\n",
       "      <td>-0.000214</td>\n",
       "      <td>-1.0</td>\n",
       "      <td>0.0</td>\n",
       "    </tr>\n",
       "    <tr>\n",
       "      <th>2021-01-04 14:35:00</th>\n",
       "      <td>2021-01-04 14:41:00</td>\n",
       "      <td>0.000176</td>\n",
       "      <td>-0.000199</td>\n",
       "      <td>-1.0</td>\n",
       "      <td>0.0</td>\n",
       "    </tr>\n",
       "    <tr>\n",
       "      <th>2021-01-04 14:51:00</th>\n",
       "      <td>2021-01-04 15:05:00</td>\n",
       "      <td>0.000166</td>\n",
       "      <td>-0.000223</td>\n",
       "      <td>-1.0</td>\n",
       "      <td>0.0</td>\n",
       "    </tr>\n",
       "    <tr>\n",
       "      <th>2021-01-04 15:07:00</th>\n",
       "      <td>2021-01-04 15:19:00</td>\n",
       "      <td>0.000197</td>\n",
       "      <td>0.000267</td>\n",
       "      <td>1.0</td>\n",
       "      <td>2.0</td>\n",
       "    </tr>\n",
       "  </tbody>\n",
       "</table>\n",
       "</div>"
      ],
      "text/plain": [
       "                                     t1      trgt       ret  bin  bin_class\n",
       "timestamp                                                                  \n",
       "2021-01-04 14:00:00 2021-01-04 14:02:00  0.000183  0.000228  1.0        2.0\n",
       "2021-01-04 14:21:00 2021-01-04 14:24:00  0.000167 -0.000214 -1.0        0.0\n",
       "2021-01-04 14:35:00 2021-01-04 14:41:00  0.000176 -0.000199 -1.0        0.0\n",
       "2021-01-04 14:51:00 2021-01-04 15:05:00  0.000166 -0.000223 -1.0        0.0\n",
       "2021-01-04 15:07:00 2021-01-04 15:19:00  0.000197  0.000267  1.0        2.0"
      ]
     },
     "execution_count": 362,
     "metadata": {},
     "output_type": "execute_result"
    }
   ],
   "source": [
    "labeled_events.head()"
   ]
  },
  {
   "cell_type": "markdown",
   "id": "04e1d417-f66b-4226-9405-b1a7aa139714",
   "metadata": {},
   "source": [
    "## Save events to disk"
   ]
  },
  {
   "cell_type": "code",
   "execution_count": 363,
   "id": "c0da0c87-e344-4aee-ad9c-f24b36ffaed5",
   "metadata": {},
   "outputs": [],
   "source": [
    "labeled_events.to_pickle(DIRECTION_LABEL_FILE_PATH)"
   ]
  },
  {
   "cell_type": "code",
   "execution_count": 364,
   "id": "7672bf3e-28cf-41fd-ac2c-f6b453930c77",
   "metadata": {},
   "outputs": [
    {
     "data": {
      "text/plain": [
       "PosixPath('../data/labels/direction_labels/USDJPY-1m-20210101-20241231-CUSUM_0.0004-TB.pkl')"
      ]
     },
     "execution_count": 364,
     "metadata": {},
     "output_type": "execute_result"
    }
   ],
   "source": [
    "DIRECTION_LABEL_FILE_PATH"
   ]
  }
 ],
 "metadata": {
  "kernelspec": {
   "display_name": "Python 3 (ipykernel)",
   "language": "python",
   "name": "python3"
  },
  "language_info": {
   "codemirror_mode": {
    "name": "ipython",
    "version": 3
   },
   "file_extension": ".py",
   "mimetype": "text/x-python",
   "name": "python",
   "nbconvert_exporter": "python",
   "pygments_lexer": "ipython3",
   "version": "3.12.11"
  },
  "widgets": {
   "application/vnd.jupyter.widget-state+json": {
    "state": {},
    "version_major": 2,
    "version_minor": 0
   }
  }
 },
 "nbformat": 4,
 "nbformat_minor": 5
}
