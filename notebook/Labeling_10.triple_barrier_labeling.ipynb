{
 "cells": [
  {
   "cell_type": "code",
   "execution_count": 171,
   "id": "8c6d6f1f-0017-4810-9328-099f68c7c6e2",
   "metadata": {},
   "outputs": [],
   "source": [
    "import pandas as pd\n",
    "import numpy as np\n",
    "import matplotlib.pyplot as plt\n",
    "from matplotlib.ticker import FormatStrFormatter\n",
    "\n",
    "import os"
   ]
  },
  {
   "cell_type": "code",
   "execution_count": 172,
   "id": "bf14af0e-a692-419c-a591-5feaf1601bf9",
   "metadata": {},
   "outputs": [],
   "source": [
    "from pathlib import Path\n",
    "\n",
    "# Configurable parts\n",
    "SYMBOL = \"USDJPY\"\n",
    "SAMPLE_TYPE = \"time\"\n",
    "MINUTES = 15\n",
    "EVENT_NAME = 'EMA_CROSS_8_34'\n",
    "LABEL_NAME = \"TB\"\n",
    "\n",
    "START_DATE = \"20240101\"\n",
    "END_DATE = \"20241231\"\n",
    "\n",
    "RESAMPLED_NAME = f\"{SYMBOL}-{MINUTES}m-{START_DATE}-{END_DATE}\"\n",
    "\n",
    "# Base directories\n",
    "BASE_DIR = Path(\"../data\")\n",
    "RESAMPLED_DIR = BASE_DIR / \"resampled\"\n",
    "PROCESSED_DIR = BASE_DIR / \"processed\"\n",
    "EVENTS_DIR = BASE_DIR / \"events\"\n",
    "\n",
    "# Final paths\n",
    "RESAMPLED_FILE_PATH = RESAMPLED_DIR / f\"{RESAMPLED_NAME}.pkl\"\n",
    "PROCESSED_FILE_PATH = PROCESSED_DIR / f\"{RESAMPLED_NAME}_FEATURE.pkl\"\n",
    "EVENT_FILE_PATH = EVENTS_DIR / f\"{RESAMPLED_NAME}_{EVENT_NAME}.pkl\""
   ]
  },
  {
   "cell_type": "code",
   "execution_count": 173,
   "id": "c95146f2-e32f-4954-a38e-afd492fa82be",
   "metadata": {},
   "outputs": [],
   "source": [
    "DIRECTION_LABEL_DIR = BASE_DIR / \"direction_labels\"\n",
    "DIRECTION_LABEL_DIR.mkdir(parents=True, exist_ok=True)\n",
    "DIRECTION_LABEL_FILE_PATH = DIRECTION_LABEL_DIR / f\"{RESAMPLED_NAME}-{EVENT_NAME}-{LABEL_NAME}.pkl\""
   ]
  },
  {
   "cell_type": "code",
   "execution_count": 174,
   "id": "79e659aa-5b8f-43d4-aa7f-3fe6cd7e5bd7",
   "metadata": {
    "scrolled": true
   },
   "outputs": [
    {
     "name": "stdout",
     "output_type": "stream",
     "text": [
      "CPU times: user 2.56 ms, sys: 11.5 ms, total: 14 ms\n",
      "Wall time: 13.2 ms\n"
     ]
    }
   ],
   "source": [
    "%%time\n",
    "df = pd.read_pickle(PROCESSED_FILE_PATH)\n",
    "t_events = pd.read_pickle(EVENT_FILE_PATH)"
   ]
  },
  {
   "cell_type": "code",
   "execution_count": 175,
   "id": "f347708b-c829-431f-83be-a98513d8e854",
   "metadata": {},
   "outputs": [
    {
     "data": {
      "text/plain": [
       "Index(['open', 'high', 'low', 'close', 'volume', 'spread', 'return',\n",
       "       'log_return', 'fd_return', 'log_fd_return', 'SMA_5', 'SMA_15', 'SMA_30',\n",
       "       'SMA_60', 'EMA_5', 'EMA_15', 'EMA_30', 'EMA_60', 'MACD_12_26_9',\n",
       "       'MACDh_12_26_9', 'MACDs_12_26_9', 'RSI_5', 'RSI_14', 'RSI_20', 'ADX_5',\n",
       "       'ADXR_5_2', 'DMP_5', 'DMN_5', 'ADX_15', 'ADXR_15_2', 'DMP_15', 'DMN_15',\n",
       "       'ADX_30', 'ADXR_30_2', 'DMP_30', 'DMN_30', 'ADX_60', 'ADXR_60_2',\n",
       "       'DMP_60', 'DMN_60', 'ATRr_5', 'ATRr_10', 'ATRr_15', 'ATRr_20',\n",
       "       'BBL_5_2.0_2.0', 'BBM_5_2.0_2.0', 'BBU_5_2.0_2.0', 'BBB_5_2.0_2.0',\n",
       "       'BBP_5_2.0_2.0', 'BBL_14_2.0_2.0', 'BBM_14_2.0_2.0', 'BBU_14_2.0_2.0',\n",
       "       'BBB_14_2.0_2.0', 'BBP_14_2.0_2.0'],\n",
       "      dtype='object')"
      ]
     },
     "execution_count": 175,
     "metadata": {},
     "output_type": "execute_result"
    }
   ],
   "source": [
    "df.columns"
   ]
  },
  {
   "cell_type": "code",
   "execution_count": 176,
   "id": "0c4183f5-be41-413c-9747-61ea734787b2",
   "metadata": {},
   "outputs": [
    {
     "data": {
      "text/html": [
       "<div>\n",
       "<style scoped>\n",
       "    .dataframe tbody tr th:only-of-type {\n",
       "        vertical-align: middle;\n",
       "    }\n",
       "\n",
       "    .dataframe tbody tr th {\n",
       "        vertical-align: top;\n",
       "    }\n",
       "\n",
       "    .dataframe thead th {\n",
       "        text-align: right;\n",
       "    }\n",
       "</style>\n",
       "<table border=\"1\" class=\"dataframe\">\n",
       "  <thead>\n",
       "    <tr style=\"text-align: right;\">\n",
       "      <th></th>\n",
       "      <th>open</th>\n",
       "      <th>high</th>\n",
       "      <th>low</th>\n",
       "      <th>close</th>\n",
       "      <th>volume</th>\n",
       "      <th>spread</th>\n",
       "      <th>return</th>\n",
       "      <th>log_return</th>\n",
       "      <th>fd_return</th>\n",
       "      <th>log_fd_return</th>\n",
       "      <th>...</th>\n",
       "      <th>BBL_5_2.0_2.0</th>\n",
       "      <th>BBM_5_2.0_2.0</th>\n",
       "      <th>BBU_5_2.0_2.0</th>\n",
       "      <th>BBB_5_2.0_2.0</th>\n",
       "      <th>BBP_5_2.0_2.0</th>\n",
       "      <th>BBL_14_2.0_2.0</th>\n",
       "      <th>BBM_14_2.0_2.0</th>\n",
       "      <th>BBU_14_2.0_2.0</th>\n",
       "      <th>BBB_14_2.0_2.0</th>\n",
       "      <th>BBP_14_2.0_2.0</th>\n",
       "    </tr>\n",
       "    <tr>\n",
       "      <th>timestamp</th>\n",
       "      <th></th>\n",
       "      <th></th>\n",
       "      <th></th>\n",
       "      <th></th>\n",
       "      <th></th>\n",
       "      <th></th>\n",
       "      <th></th>\n",
       "      <th></th>\n",
       "      <th></th>\n",
       "      <th></th>\n",
       "      <th></th>\n",
       "      <th></th>\n",
       "      <th></th>\n",
       "      <th></th>\n",
       "      <th></th>\n",
       "      <th></th>\n",
       "      <th></th>\n",
       "      <th></th>\n",
       "      <th></th>\n",
       "      <th></th>\n",
       "      <th></th>\n",
       "    </tr>\n",
       "  </thead>\n",
       "  <tbody>\n",
       "    <tr>\n",
       "      <th>2024-02-19 07:15:00</th>\n",
       "      <td>1.078825</td>\n",
       "      <td>1.07895</td>\n",
       "      <td>1.078660</td>\n",
       "      <td>1.078685</td>\n",
       "      <td>2.587290e+12</td>\n",
       "      <td>0.000025</td>\n",
       "      <td>-0.000145</td>\n",
       "      <td>-0.000134</td>\n",
       "      <td>0.154695</td>\n",
       "      <td>0.011132</td>\n",
       "      <td>...</td>\n",
       "      <td>1.078058</td>\n",
       "      <td>1.078536</td>\n",
       "      <td>1.079014</td>\n",
       "      <td>0.088726</td>\n",
       "      <td>0.655704</td>\n",
       "      <td>1.077423</td>\n",
       "      <td>1.078156</td>\n",
       "      <td>1.078890</td>\n",
       "      <td>0.136139</td>\n",
       "      <td>0.860112</td>\n",
       "    </tr>\n",
       "    <tr>\n",
       "      <th>2024-02-19 09:00:00</th>\n",
       "      <td>1.077830</td>\n",
       "      <td>1.07835</td>\n",
       "      <td>1.077715</td>\n",
       "      <td>1.077720</td>\n",
       "      <td>5.750420e+12</td>\n",
       "      <td>0.000023</td>\n",
       "      <td>-0.000105</td>\n",
       "      <td>-0.000097</td>\n",
       "      <td>0.153883</td>\n",
       "      <td>0.010379</td>\n",
       "      <td>...</td>\n",
       "      <td>1.077439</td>\n",
       "      <td>1.078215</td>\n",
       "      <td>1.078991</td>\n",
       "      <td>0.143858</td>\n",
       "      <td>0.180872</td>\n",
       "      <td>1.077729</td>\n",
       "      <td>1.078364</td>\n",
       "      <td>1.078999</td>\n",
       "      <td>0.117741</td>\n",
       "      <td>-0.007161</td>\n",
       "    </tr>\n",
       "    <tr>\n",
       "      <th>2024-02-19 18:00:00</th>\n",
       "      <td>1.077610</td>\n",
       "      <td>1.07798</td>\n",
       "      <td>1.077610</td>\n",
       "      <td>1.077980</td>\n",
       "      <td>8.185700e+11</td>\n",
       "      <td>0.000026</td>\n",
       "      <td>0.000360</td>\n",
       "      <td>0.000334</td>\n",
       "      <td>0.154587</td>\n",
       "      <td>0.011032</td>\n",
       "      <td>...</td>\n",
       "      <td>1.077021</td>\n",
       "      <td>1.077552</td>\n",
       "      <td>1.078083</td>\n",
       "      <td>0.098470</td>\n",
       "      <td>0.903369</td>\n",
       "      <td>1.076028</td>\n",
       "      <td>1.076989</td>\n",
       "      <td>1.077950</td>\n",
       "      <td>0.178387</td>\n",
       "      <td>1.015859</td>\n",
       "    </tr>\n",
       "    <tr>\n",
       "      <th>2024-02-20 00:00:00</th>\n",
       "      <td>1.077545</td>\n",
       "      <td>1.07770</td>\n",
       "      <td>1.077305</td>\n",
       "      <td>1.077310</td>\n",
       "      <td>1.781690e+12</td>\n",
       "      <td>0.000027</td>\n",
       "      <td>-0.000245</td>\n",
       "      <td>-0.000227</td>\n",
       "      <td>0.153732</td>\n",
       "      <td>0.010238</td>\n",
       "      <td>...</td>\n",
       "      <td>1.077286</td>\n",
       "      <td>1.077529</td>\n",
       "      <td>1.077772</td>\n",
       "      <td>0.045152</td>\n",
       "      <td>0.049867</td>\n",
       "      <td>1.077334</td>\n",
       "      <td>1.077817</td>\n",
       "      <td>1.078301</td>\n",
       "      <td>0.089756</td>\n",
       "      <td>-0.024600</td>\n",
       "    </tr>\n",
       "    <tr>\n",
       "      <th>2024-02-20 07:00:00</th>\n",
       "      <td>1.077100</td>\n",
       "      <td>1.07749</td>\n",
       "      <td>1.077090</td>\n",
       "      <td>1.077360</td>\n",
       "      <td>5.246670e+12</td>\n",
       "      <td>0.000025</td>\n",
       "      <td>0.000265</td>\n",
       "      <td>0.000246</td>\n",
       "      <td>0.154149</td>\n",
       "      <td>0.010625</td>\n",
       "      <td>...</td>\n",
       "      <td>1.076942</td>\n",
       "      <td>1.077174</td>\n",
       "      <td>1.077406</td>\n",
       "      <td>0.043152</td>\n",
       "      <td>0.900149</td>\n",
       "      <td>1.076616</td>\n",
       "      <td>1.076975</td>\n",
       "      <td>1.077335</td>\n",
       "      <td>0.066808</td>\n",
       "      <td>1.034596</td>\n",
       "    </tr>\n",
       "  </tbody>\n",
       "</table>\n",
       "<p>5 rows × 54 columns</p>\n",
       "</div>"
      ],
      "text/plain": [
       "                         open     high       low     close        volume  \\\n",
       "timestamp                                                                  \n",
       "2024-02-19 07:15:00  1.078825  1.07895  1.078660  1.078685  2.587290e+12   \n",
       "2024-02-19 09:00:00  1.077830  1.07835  1.077715  1.077720  5.750420e+12   \n",
       "2024-02-19 18:00:00  1.077610  1.07798  1.077610  1.077980  8.185700e+11   \n",
       "2024-02-20 00:00:00  1.077545  1.07770  1.077305  1.077310  1.781690e+12   \n",
       "2024-02-20 07:00:00  1.077100  1.07749  1.077090  1.077360  5.246670e+12   \n",
       "\n",
       "                       spread    return  log_return  fd_return  log_fd_return  \\\n",
       "timestamp                                                                       \n",
       "2024-02-19 07:15:00  0.000025 -0.000145   -0.000134   0.154695       0.011132   \n",
       "2024-02-19 09:00:00  0.000023 -0.000105   -0.000097   0.153883       0.010379   \n",
       "2024-02-19 18:00:00  0.000026  0.000360    0.000334   0.154587       0.011032   \n",
       "2024-02-20 00:00:00  0.000027 -0.000245   -0.000227   0.153732       0.010238   \n",
       "2024-02-20 07:00:00  0.000025  0.000265    0.000246   0.154149       0.010625   \n",
       "\n",
       "                     ...  BBL_5_2.0_2.0  BBM_5_2.0_2.0  BBU_5_2.0_2.0  \\\n",
       "timestamp            ...                                                \n",
       "2024-02-19 07:15:00  ...       1.078058       1.078536       1.079014   \n",
       "2024-02-19 09:00:00  ...       1.077439       1.078215       1.078991   \n",
       "2024-02-19 18:00:00  ...       1.077021       1.077552       1.078083   \n",
       "2024-02-20 00:00:00  ...       1.077286       1.077529       1.077772   \n",
       "2024-02-20 07:00:00  ...       1.076942       1.077174       1.077406   \n",
       "\n",
       "                     BBB_5_2.0_2.0  BBP_5_2.0_2.0  BBL_14_2.0_2.0  \\\n",
       "timestamp                                                           \n",
       "2024-02-19 07:15:00       0.088726       0.655704        1.077423   \n",
       "2024-02-19 09:00:00       0.143858       0.180872        1.077729   \n",
       "2024-02-19 18:00:00       0.098470       0.903369        1.076028   \n",
       "2024-02-20 00:00:00       0.045152       0.049867        1.077334   \n",
       "2024-02-20 07:00:00       0.043152       0.900149        1.076616   \n",
       "\n",
       "                     BBM_14_2.0_2.0  BBU_14_2.0_2.0  BBB_14_2.0_2.0  \\\n",
       "timestamp                                                             \n",
       "2024-02-19 07:15:00        1.078156        1.078890        0.136139   \n",
       "2024-02-19 09:00:00        1.078364        1.078999        0.117741   \n",
       "2024-02-19 18:00:00        1.076989        1.077950        0.178387   \n",
       "2024-02-20 00:00:00        1.077817        1.078301        0.089756   \n",
       "2024-02-20 07:00:00        1.076975        1.077335        0.066808   \n",
       "\n",
       "                     BBP_14_2.0_2.0  \n",
       "timestamp                            \n",
       "2024-02-19 07:15:00        0.860112  \n",
       "2024-02-19 09:00:00       -0.007161  \n",
       "2024-02-19 18:00:00        1.015859  \n",
       "2024-02-20 00:00:00       -0.024600  \n",
       "2024-02-20 07:00:00        1.034596  \n",
       "\n",
       "[5 rows x 54 columns]"
      ]
     },
     "execution_count": 176,
     "metadata": {},
     "output_type": "execute_result"
    }
   ],
   "source": [
    "df.loc[t_events].head()"
   ]
  },
  {
   "cell_type": "markdown",
   "id": "6c93411b-4eac-441d-ba4b-13ac064fe2ea",
   "metadata": {},
   "source": [
    "## Calculate Target Volatility (trgt)\n",
    "This will be used for the calculation of dynamic TP/SL"
   ]
  },
  {
   "cell_type": "code",
   "execution_count": 177,
   "id": "df790074-e2bd-4e8b-94f0-06aaac5a92d5",
   "metadata": {},
   "outputs": [],
   "source": [
    "def get_daily_vol(close,span0=100):\n",
    "    # daily vol reindexed to close\n",
    "    df0=close.index.searchsorted(close.index-pd.Timedelta(days=1))\n",
    "    #bp()\n",
    "    df0=df0[df0>0]\n",
    "    #bp()\n",
    "    df0=(pd.Series(close.index[df0-1],\n",
    "                   index=close.index[close.shape[0]-df0.shape[0]:]))\n",
    "    #bp()\n",
    "    try:\n",
    "        df0=close.loc[df0.index]/close.loc[df0.values].values-1 # daily rets\n",
    "    except Exception as e:\n",
    "        print(e)\n",
    "        print('adjusting shape of close.loc[df0.index]')\n",
    "        cut = close.loc[df0.index].shape[0] - close.loc[df0.values].shape[0]\n",
    "        df0=close.loc[df0.index].iloc[:-cut]/close.loc[df0.values].values-1\n",
    "    df0=df0.ewm(span=span0).std().rename('dailyVol')\n",
    "    return df0"
   ]
  },
  {
   "cell_type": "code",
   "execution_count": 178,
   "id": "0eb0f22e-1ff3-4aeb-a943-feef9caa6687",
   "metadata": {},
   "outputs": [],
   "source": [
    "from ta.volatility import AverageTrueRange\n",
    "\n",
    "def get_atr(df, window=60):\n",
    "    atr = AverageTrueRange(high=df['high'], low=df['low'], close=df['close'], window=window)\n",
    "    return atr.average_true_range().rename(f\"atr{window}\")"
   ]
  },
  {
   "cell_type": "code",
   "execution_count": 179,
   "id": "9856f5e4-1f97-4e9a-a0c4-d971c1f91208",
   "metadata": {},
   "outputs": [],
   "source": [
    "trgt = get_daily_vol(df['close']).reindex(t_events, method='ffill')"
   ]
  },
  {
   "cell_type": "code",
   "execution_count": 180,
   "id": "54396349-fb91-4420-92f7-8e57734e9408",
   "metadata": {},
   "outputs": [],
   "source": [
    "trgt = (df['ATRr_20'] / df['close']).shift(1).reindex(t_events, method='ffill') # rate"
   ]
  },
  {
   "cell_type": "code",
   "execution_count": 181,
   "id": "4a16f765-1c31-487d-b600-ed3f6dbd936b",
   "metadata": {
    "scrolled": true
   },
   "outputs": [
    {
     "data": {
      "text/plain": [
       "count    813.000000\n",
       "mean       0.000440\n",
       "std        0.000180\n",
       "min        0.000166\n",
       "25%        0.000309\n",
       "50%        0.000391\n",
       "75%        0.000521\n",
       "max        0.001359\n",
       "dtype: float64"
      ]
     },
     "execution_count": 181,
     "metadata": {},
     "output_type": "execute_result"
    }
   ],
   "source": [
    "trgt.describe()"
   ]
  },
  {
   "cell_type": "markdown",
   "id": "21841f1a-8cbd-46bf-bd31-3662c1e904b1",
   "metadata": {},
   "source": [
    "## Apply Triple Barrier\n",
    "We use daily volatility to calculate TP/SL, and we set our T1 as 1day"
   ]
  },
  {
   "cell_type": "code",
   "execution_count": 182,
   "id": "228a82bd-4870-4c7c-bf0a-3456b9893997",
   "metadata": {},
   "outputs": [],
   "source": [
    "from concurrent.futures import ThreadPoolExecutor\n",
    "import numpy as np\n",
    "import pandas as pd\n",
    "\n",
    "def applyPtSlOnT1(close,events,ptSl,molecule):\n",
    "    # apply stop loss/profit taking, if it takes place before t1 (end of event)\n",
    "    events_=events.loc[molecule]\n",
    "    out=events_[['t1']].copy(deep=True)\n",
    "    \n",
    "    pt = ptSl[0] * events_['trgt'] if ptSl[0] > 0 else pd.Series(index=events.index)\n",
    "    sl = -ptSl[1] * events_['trgt'] if ptSl[1] > 0 else pd.Series(index=events.index)\n",
    "\n",
    "        \n",
    "    for loc, t1 in events_['t1'].fillna(close.index[-1]).items():\n",
    "        df0=close[loc:t1] # path prices\n",
    "        df0=(df0/close[loc]-1)*events_.at[loc,'side'] # path returns (rate)\n",
    "        out.loc[loc,'sl']=df0[df0<sl[loc]].index.min() # earliest stop loss\n",
    "        out.loc[loc,'pt']=df0[df0>pt[loc]].index.min() # earliest profit taking\n",
    "        \n",
    "    return out\n",
    "\n",
    "\n",
    "def parallel_apply(func, items, num_threads=4, **kwargs):\n",
    "    \n",
    "    def worker(molecule):\n",
    "        return func(molecule=molecule, **kwargs)\n",
    "\n",
    "    chunks = np.array_split(items, num_threads)\n",
    "    \n",
    "    with ThreadPoolExecutor(max_workers=num_threads) as executor:\n",
    "        results = list(executor.map(worker, chunks))\n",
    "\n",
    "    return pd.concat(results).sort_index()\n",
    "\n",
    "\n",
    "def getEvents(close, tEvents, ptSl, trgt, minTrgt, numThreads=4, t1=False, side=None):\n",
    "    # Step 1: Filter targets\n",
    "    trgt = trgt.loc[tEvents]\n",
    "    trgt = trgt[trgt > minTrgt]\n",
    "\n",
    "    # Step 2: Set vertical barrier (t1)\n",
    "    if t1 is False:\n",
    "        t1 = pd.Series(pd.NaT, index=tEvents)\n",
    "\n",
    "    # Step 3: Build events DataFrame\n",
    "    if side is None:\n",
    "        side_, ptSl_ = pd.Series(1., index=trgt.index), [ptSl[0], ptSl[0]]\n",
    "    else:\n",
    "        side_, ptSl_ = side.loc[trgt.index], ptSl[:2]\n",
    "\n",
    "    events = pd.concat({'t1': t1, 'trgt': trgt, 'side': side_}, axis=1).dropna(subset=['trgt'])\n",
    "\n",
    "    # Step 4: Apply barriers in parallel\n",
    "    df0 = parallel_apply(\n",
    "        func=applyPtSlOnT1,\n",
    "        items=events.index,\n",
    "        num_threads=numThreads,\n",
    "        close=close,\n",
    "        events=events,\n",
    "        ptSl=ptSl_\n",
    "    )\n",
    "\n",
    "    # Step 5: Choose the first touched barrier\n",
    "    events['t1'] = df0.dropna(how='all').min(axis=1)\n",
    "    \n",
    "    if side is None:\n",
    "        events = events.drop('side', axis=1)\n",
    "        \n",
    "    return events\n"
   ]
  },
  {
   "cell_type": "code",
   "execution_count": 183,
   "id": "1c4cb836-44c5-4ec8-a5bc-79982eb1daf8",
   "metadata": {},
   "outputs": [],
   "source": [
    "def get_vertical_barrier(t_events, close, delta=pd.Timedelta(minutes=60)):\n",
    "    \"\"\"\n",
    "    For each event in t_events, find the timestamp in close.index \n",
    "    that is at least delta later. Returns a pd.Series of t1.\n",
    "    \"\"\"\n",
    "    barrier_times = t_events + delta\n",
    "    t1_idx = close.index.searchsorted(barrier_times)\n",
    "    valid_idx = t1_idx[t1_idx < len(close)]\n",
    "    t1 = pd.Series(close.index[valid_idx], index=t_events[:len(valid_idx)])\n",
    "    return t1"
   ]
  },
  {
   "cell_type": "code",
   "execution_count": 208,
   "id": "c1c542ed-24cc-4403-b3ca-e01fd931484a",
   "metadata": {},
   "outputs": [],
   "source": [
    "t1 = get_vertical_barrier(t_events, df['close'], delta=pd.Timedelta(minutes=120))"
   ]
  },
  {
   "cell_type": "code",
   "execution_count": 209,
   "id": "2666c0a7-7347-427a-a815-6299967b7671",
   "metadata": {
    "scrolled": true
   },
   "outputs": [
    {
     "data": {
      "text/plain": [
       "timestamp\n",
       "2024-02-19 07:15:00   2024-02-19 09:15:00\n",
       "2024-02-19 09:00:00   2024-02-19 11:00:00\n",
       "2024-02-19 18:00:00   2024-02-19 20:00:00\n",
       "2024-02-20 00:00:00   2024-02-20 02:00:00\n",
       "2024-02-20 07:00:00   2024-02-20 09:00:00\n",
       "                              ...        \n",
       "2024-12-30 02:15:00   2024-12-30 04:15:00\n",
       "2024-12-30 06:15:00   2024-12-30 08:15:00\n",
       "2024-12-30 08:00:00   2024-12-30 10:00:00\n",
       "2024-12-30 10:00:00   2024-12-30 12:00:00\n",
       "2024-12-30 13:45:00   2024-12-30 15:45:00\n",
       "Name: timestamp, Length: 812, dtype: datetime64[ns]"
      ]
     },
     "execution_count": 209,
     "metadata": {},
     "output_type": "execute_result"
    }
   ],
   "source": [
    "t1"
   ]
  },
  {
   "cell_type": "code",
   "execution_count": 210,
   "id": "eecf7e7f-ac8b-494b-8e37-e3def199856a",
   "metadata": {},
   "outputs": [
    {
     "data": {
      "text/plain": [
       "count    813.000000\n",
       "mean       0.000440\n",
       "std        0.000180\n",
       "min        0.000166\n",
       "25%        0.000309\n",
       "50%        0.000391\n",
       "75%        0.000521\n",
       "max        0.001359\n",
       "dtype: float64"
      ]
     },
     "execution_count": 210,
     "metadata": {},
     "output_type": "execute_result"
    }
   ],
   "source": [
    "trgt.describe()"
   ]
  },
  {
   "cell_type": "code",
   "execution_count": 211,
   "id": "485d4f61-8f96-47ed-8df0-1da3d1e1f99d",
   "metadata": {},
   "outputs": [],
   "source": [
    "minTrgt = trgt.quantile(.3)\n",
    "# minTrgt = 0"
   ]
  },
  {
   "cell_type": "code",
   "execution_count": 212,
   "id": "aad0bc6e-3302-45e5-b64b-bcebfab3db4c",
   "metadata": {},
   "outputs": [
    {
     "name": "stdout",
     "output_type": "stream",
     "text": [
      "CPU times: user 174 ms, sys: 7.45 ms, total: 182 ms\n",
      "Wall time: 178 ms\n"
     ]
    }
   ],
   "source": [
    "%%time\n",
    "\n",
    "events = getEvents(\n",
    "    close=df['close'],\n",
    "    tEvents=t_events, \n",
    "    ptSl=[1,1], \n",
    "    trgt=trgt, \n",
    "    minTrgt=minTrgt, \n",
    "    numThreads=20, \n",
    "    t1=t1, \n",
    "    side=None\n",
    ")"
   ]
  },
  {
   "cell_type": "code",
   "execution_count": 213,
   "id": "9957def4-4cb8-40cf-a103-76098e8b739e",
   "metadata": {},
   "outputs": [
    {
     "data": {
      "text/html": [
       "<div>\n",
       "<style scoped>\n",
       "    .dataframe tbody tr th:only-of-type {\n",
       "        vertical-align: middle;\n",
       "    }\n",
       "\n",
       "    .dataframe tbody tr th {\n",
       "        vertical-align: top;\n",
       "    }\n",
       "\n",
       "    .dataframe thead th {\n",
       "        text-align: right;\n",
       "    }\n",
       "</style>\n",
       "<table border=\"1\" class=\"dataframe\">\n",
       "  <thead>\n",
       "    <tr style=\"text-align: right;\">\n",
       "      <th></th>\n",
       "      <th>t1</th>\n",
       "      <th>trgt</th>\n",
       "    </tr>\n",
       "    <tr>\n",
       "      <th>timestamp</th>\n",
       "      <th></th>\n",
       "      <th></th>\n",
       "    </tr>\n",
       "  </thead>\n",
       "  <tbody>\n",
       "    <tr>\n",
       "      <th>2024-02-19 09:00:00</th>\n",
       "      <td>2024-02-19 11:00:00</td>\n",
       "      <td>0.000333</td>\n",
       "    </tr>\n",
       "    <tr>\n",
       "      <th>2024-02-19 18:00:00</th>\n",
       "      <td>2024-02-19 20:00:00</td>\n",
       "      <td>0.000338</td>\n",
       "    </tr>\n",
       "    <tr>\n",
       "      <th>2024-02-20 22:00:00</th>\n",
       "      <td>2024-02-21 00:00:00</td>\n",
       "      <td>0.000404</td>\n",
       "    </tr>\n",
       "    <tr>\n",
       "      <th>2024-02-20 22:45:00</th>\n",
       "      <td>2024-02-21 00:45:00</td>\n",
       "      <td>0.000370</td>\n",
       "    </tr>\n",
       "    <tr>\n",
       "      <th>2024-02-21 13:45:00</th>\n",
       "      <td>2024-02-21 15:00:00</td>\n",
       "      <td>0.000433</td>\n",
       "    </tr>\n",
       "  </tbody>\n",
       "</table>\n",
       "</div>"
      ],
      "text/plain": [
       "                                     t1      trgt\n",
       "timestamp                                        \n",
       "2024-02-19 09:00:00 2024-02-19 11:00:00  0.000333\n",
       "2024-02-19 18:00:00 2024-02-19 20:00:00  0.000338\n",
       "2024-02-20 22:00:00 2024-02-21 00:00:00  0.000404\n",
       "2024-02-20 22:45:00 2024-02-21 00:45:00  0.000370\n",
       "2024-02-21 13:45:00 2024-02-21 15:00:00  0.000433"
      ]
     },
     "execution_count": 213,
     "metadata": {},
     "output_type": "execute_result"
    }
   ],
   "source": [
    "events.head()"
   ]
  },
  {
   "cell_type": "code",
   "execution_count": 214,
   "id": "4a5aeeb1-f536-4089-918f-b4b1f4722d53",
   "metadata": {},
   "outputs": [],
   "source": [
    "events = events.dropna().copy()"
   ]
  },
  {
   "cell_type": "markdown",
   "id": "8ee81137-c135-429c-8eb4-e119dd90e81b",
   "metadata": {},
   "source": [
    "# Keep only intraday events"
   ]
  },
  {
   "cell_type": "code",
   "execution_count": 215,
   "id": "5c86ef05-1f38-45c7-8a72-6bf47b0f0711",
   "metadata": {},
   "outputs": [],
   "source": [
    "events = events[events.index.date==events.t1.dt.date]"
   ]
  },
  {
   "cell_type": "markdown",
   "id": "aab67fbb-c308-49a4-b962-c683b44eaeee",
   "metadata": {},
   "source": [
    "## Create classification labels"
   ]
  },
  {
   "cell_type": "code",
   "execution_count": 216,
   "id": "418be389-de4d-4684-8817-239f42addbe3",
   "metadata": {},
   "outputs": [],
   "source": [
    "def getBins(events, close, minRet=0.0, t1=None):\n",
    "    '''\n",
    "    Compute event's outcome (including side information, if provided).\n",
    "    events is a DataFrame where:\n",
    "    -events.index is event's starttime\n",
    "    -events['t1'] is event's endtime\n",
    "    -events['trgt'] is event's target\n",
    "    -events['side'] (optional) implies the algo's position side\n",
    "    -t1 is original vertical barrier series\n",
    "    Case 1: ('side' not in events): bin in (-1,1) <-label by price action\n",
    "    Case 2: ('side' in events): bin in (0,1) <-label by pnl (meta-labeling)\n",
    "    '''\n",
    "    # 1) prices aligned with events\n",
    "    events_ = events.dropna(subset=['t1'])\n",
    "    px = events_.index.union(events_['t1'].values).drop_duplicates()\n",
    "    px = close.reindex(px, method='bfill')\n",
    "    # 2) create out object\n",
    "    out = pd.DataFrame(index=events_.index)\n",
    "    out['ret'] = px.loc[events_['t1'].values].values / px.loc[\n",
    "        events_.index] - 1\n",
    "    if 'side' in events_: out['ret'] *= events_['side']  # meta-labeling\n",
    "    out['bin'] = np.sign(out['ret'])\n",
    "\n",
    "    if 'side' not in events_:\n",
    "        # only applies when not meta-labeling.\n",
    "        # to update bin to 0 when vertical barrier is touched, we need the\n",
    "        # original vertical barrier series since the events['t1'] is the time\n",
    "        # of first touch of any barrier and not the vertical barrier\n",
    "        # specifically. The index of the intersection of the vertical barrier\n",
    "        # values and the events['t1'] values indicate which bin labels needs\n",
    "        # to be turned to 0.\n",
    "        vtouch_first_idx = events[events['t1'].isin(t1.values)].index\n",
    "        out.loc[vtouch_first_idx, 'bin'] = 0.\n",
    "\n",
    "    if 'side' in events_: out.loc[out['ret'] <= 0, 'bin'] = 0  # meta-labeling\n",
    "    out.loc[out['ret'].abs() < minRet, 'bin'] = 0. # 不做獲利過少的交易 (設為 0)\n",
    "    # out = out.loc[out['ret'].abs() >= minRet] # 過濾掉獲利過少的交易 (刪掉)\n",
    "    return out"
   ]
  },
  {
   "cell_type": "code",
   "execution_count": 217,
   "id": "b6456d95-60e3-4e68-9784-05d0c809d385",
   "metadata": {
    "scrolled": true
   },
   "outputs": [],
   "source": [
    "labels = getBins(events, df['close'], minRet=0, t1=t1)"
   ]
  },
  {
   "cell_type": "code",
   "execution_count": 218,
   "id": "687c024c-3833-4172-9d78-97341326918f",
   "metadata": {},
   "outputs": [
    {
     "name": "stdout",
     "output_type": "stream",
     "text": [
      "count    534.000000\n",
      "mean       0.000691\n",
      "std        0.000645\n",
      "min        0.000000\n",
      "25%        0.000416\n",
      "50%        0.000587\n",
      "75%        0.000841\n",
      "max        0.009929\n",
      "Name: ret, dtype: float64\n",
      "0.0004485553765450234\n"
     ]
    }
   ],
   "source": [
    "print(labels.ret.abs().describe())\n",
    "print(labels.ret.abs().quantile(.3))"
   ]
  },
  {
   "cell_type": "code",
   "execution_count": 219,
   "id": "77797461-e6ba-4f39-abe8-490d69bcbbdf",
   "metadata": {},
   "outputs": [
    {
     "data": {
      "text/plain": [
       "bin\n",
       "-1.0    194\n",
       " 1.0    185\n",
       " 0.0    155\n",
       "Name: count, dtype: int64"
      ]
     },
     "execution_count": 219,
     "metadata": {},
     "output_type": "execute_result"
    }
   ],
   "source": [
    "labels.bin.value_counts()"
   ]
  },
  {
   "cell_type": "code",
   "execution_count": 220,
   "id": "acd4019c-4d46-4825-a78c-b89aa690a975",
   "metadata": {},
   "outputs": [],
   "source": [
    "labels[\"bin_class\"] = labels[\"bin\"] + 1"
   ]
  },
  {
   "cell_type": "code",
   "execution_count": 221,
   "id": "0a0bdb6d-6728-4e5b-81b5-37524fbd69bc",
   "metadata": {},
   "outputs": [],
   "source": [
    "labeled_events = events.join(labels, how='inner')"
   ]
  },
  {
   "cell_type": "code",
   "execution_count": 222,
   "id": "d98e772d-a880-4563-b0ba-669f05206956",
   "metadata": {},
   "outputs": [
    {
     "data": {
      "text/html": [
       "<div>\n",
       "<style scoped>\n",
       "    .dataframe tbody tr th:only-of-type {\n",
       "        vertical-align: middle;\n",
       "    }\n",
       "\n",
       "    .dataframe tbody tr th {\n",
       "        vertical-align: top;\n",
       "    }\n",
       "\n",
       "    .dataframe thead th {\n",
       "        text-align: right;\n",
       "    }\n",
       "</style>\n",
       "<table border=\"1\" class=\"dataframe\">\n",
       "  <thead>\n",
       "    <tr style=\"text-align: right;\">\n",
       "      <th></th>\n",
       "      <th>t1</th>\n",
       "      <th>trgt</th>\n",
       "      <th>ret</th>\n",
       "      <th>bin</th>\n",
       "      <th>bin_class</th>\n",
       "    </tr>\n",
       "    <tr>\n",
       "      <th>timestamp</th>\n",
       "      <th></th>\n",
       "      <th></th>\n",
       "      <th></th>\n",
       "      <th></th>\n",
       "      <th></th>\n",
       "    </tr>\n",
       "  </thead>\n",
       "  <tbody>\n",
       "    <tr>\n",
       "      <th>2024-02-19 09:00:00</th>\n",
       "      <td>2024-02-19 11:00:00</td>\n",
       "      <td>0.000333</td>\n",
       "      <td>-0.000213</td>\n",
       "      <td>0.0</td>\n",
       "      <td>1.0</td>\n",
       "    </tr>\n",
       "    <tr>\n",
       "      <th>2024-02-19 18:00:00</th>\n",
       "      <td>2024-02-19 20:00:00</td>\n",
       "      <td>0.000338</td>\n",
       "      <td>-0.000121</td>\n",
       "      <td>0.0</td>\n",
       "      <td>1.0</td>\n",
       "    </tr>\n",
       "    <tr>\n",
       "      <th>2024-02-21 13:45:00</th>\n",
       "      <td>2024-02-21 15:00:00</td>\n",
       "      <td>0.000433</td>\n",
       "      <td>0.000657</td>\n",
       "      <td>1.0</td>\n",
       "      <td>2.0</td>\n",
       "    </tr>\n",
       "    <tr>\n",
       "      <th>2024-02-22 13:15:00</th>\n",
       "      <td>2024-02-22 13:30:00</td>\n",
       "      <td>0.000607</td>\n",
       "      <td>-0.000853</td>\n",
       "      <td>-1.0</td>\n",
       "      <td>0.0</td>\n",
       "    </tr>\n",
       "    <tr>\n",
       "      <th>2024-02-23 09:00:00</th>\n",
       "      <td>2024-02-23 09:30:00</td>\n",
       "      <td>0.000353</td>\n",
       "      <td>-0.000504</td>\n",
       "      <td>-1.0</td>\n",
       "      <td>0.0</td>\n",
       "    </tr>\n",
       "  </tbody>\n",
       "</table>\n",
       "</div>"
      ],
      "text/plain": [
       "                                     t1      trgt       ret  bin  bin_class\n",
       "timestamp                                                                  \n",
       "2024-02-19 09:00:00 2024-02-19 11:00:00  0.000333 -0.000213  0.0        1.0\n",
       "2024-02-19 18:00:00 2024-02-19 20:00:00  0.000338 -0.000121  0.0        1.0\n",
       "2024-02-21 13:45:00 2024-02-21 15:00:00  0.000433  0.000657  1.0        2.0\n",
       "2024-02-22 13:15:00 2024-02-22 13:30:00  0.000607 -0.000853 -1.0        0.0\n",
       "2024-02-23 09:00:00 2024-02-23 09:30:00  0.000353 -0.000504 -1.0        0.0"
      ]
     },
     "execution_count": 222,
     "metadata": {},
     "output_type": "execute_result"
    }
   ],
   "source": [
    "labeled_events.head()"
   ]
  },
  {
   "cell_type": "markdown",
   "id": "04e1d417-f66b-4226-9405-b1a7aa139714",
   "metadata": {},
   "source": [
    "## Save events to disk"
   ]
  },
  {
   "cell_type": "code",
   "execution_count": 223,
   "id": "c0da0c87-e344-4aee-ad9c-f24b36ffaed5",
   "metadata": {},
   "outputs": [],
   "source": [
    "labeled_events.to_pickle(DIRECTION_LABEL_FILE_PATH)"
   ]
  },
  {
   "cell_type": "code",
   "execution_count": 224,
   "id": "7672bf3e-28cf-41fd-ac2c-f6b453930c77",
   "metadata": {},
   "outputs": [
    {
     "data": {
      "text/plain": [
       "PosixPath('../data/direction_labels/USDJPY-15m-20240101-20241231-EMA_CROSS_8_34-TB.pkl')"
      ]
     },
     "execution_count": 224,
     "metadata": {},
     "output_type": "execute_result"
    }
   ],
   "source": [
    "DIRECTION_LABEL_FILE_PATH"
   ]
  }
 ],
 "metadata": {
  "kernelspec": {
   "display_name": "Python 3 (ipykernel)",
   "language": "python",
   "name": "python3"
  },
  "language_info": {
   "codemirror_mode": {
    "name": "ipython",
    "version": 3
   },
   "file_extension": ".py",
   "mimetype": "text/x-python",
   "name": "python",
   "nbconvert_exporter": "python",
   "pygments_lexer": "ipython3",
   "version": "3.12.11"
  },
  "widgets": {
   "application/vnd.jupyter.widget-state+json": {
    "state": {},
    "version_major": 2,
    "version_minor": 0
   }
  }
 },
 "nbformat": 4,
 "nbformat_minor": 5
}
