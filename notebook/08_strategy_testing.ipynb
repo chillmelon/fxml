{
 "cells": [
  {
   "cell_type": "markdown",
   "id": "8381005d-f5d3-4d84-9393-006b5a80882f",
   "metadata": {},
   "source": [
    "# Strategy Testing"
   ]
  },
  {
   "cell_type": "markdown",
   "id": "cf5f3334-0973-4c04-a3b1-f29d6aed2b30",
   "metadata": {},
   "source": [
    "The first strategy solely rely on GRU model prediction, if model predicts up => buy, if model predicts down => sell, otherwise hold.\n",
    "We will calculate in-sample excellence to examine if the strategy is clearly overfitting."
   ]
  },
  {
   "cell_type": "code",
   "execution_count": 1,
   "id": "257d7f69-cbd1-4606-9478-ce0e205858b3",
   "metadata": {},
   "outputs": [],
   "source": [
    "import os\n",
    "import sys\n",
    "module_path = os.path.abspath(os.path.join('..'))\n",
    "if module_path not in sys.path:\n",
    "    sys.path.append(module_path)"
   ]
  },
  {
   "cell_type": "code",
   "execution_count": 2,
   "id": "b930185f-2458-4ae7-9469-db7181bd0ae7",
   "metadata": {},
   "outputs": [],
   "source": [
    "import pandas as pd\n",
    "import numpy as np\n",
    "import matplotlib.pyplot as plt"
   ]
  },
  {
   "cell_type": "code",
   "execution_count": 3,
   "id": "b2398e33-21a9-4868-92a4-b1815f064d92",
   "metadata": {},
   "outputs": [],
   "source": [
    "PKL_PATH = '../data/processed/usdjpy-bar-2020-01-01-2024-12-31_processed.pkl'\n",
    "SEQUENCE_LENGTH=30\n",
    "HORIZON=1 # The next nth timeframe to predict\n",
    "STRIDE=1 # Non-overlapping timeframe\n",
    "FEATURES_COLS = ['close_return']\n",
    "TARGET_COLS = ['label']"
   ]
  },
  {
   "cell_type": "code",
   "execution_count": 4,
   "id": "3d61505c-f905-489a-b94e-51a2b992b198",
   "metadata": {},
   "outputs": [],
   "source": [
    "df = pd.read_pickle(PKL_PATH)"
   ]
  },
  {
   "cell_type": "code",
   "execution_count": 5,
   "id": "00a263d1-a449-47d9-b41a-129038056c73",
   "metadata": {},
   "outputs": [
    {
     "data": {
      "text/html": [
       "<div>\n",
       "<style scoped>\n",
       "    .dataframe tbody tr th:only-of-type {\n",
       "        vertical-align: middle;\n",
       "    }\n",
       "\n",
       "    .dataframe tbody tr th {\n",
       "        vertical-align: top;\n",
       "    }\n",
       "\n",
       "    .dataframe thead th {\n",
       "        text-align: right;\n",
       "    }\n",
       "</style>\n",
       "<table border=\"1\" class=\"dataframe\">\n",
       "  <thead>\n",
       "    <tr style=\"text-align: right;\">\n",
       "      <th></th>\n",
       "      <th>timestamp</th>\n",
       "      <th>open</th>\n",
       "      <th>high</th>\n",
       "      <th>low</th>\n",
       "      <th>close</th>\n",
       "      <th>volume</th>\n",
       "      <th>time_group</th>\n",
       "      <th>close_delta</th>\n",
       "      <th>close_return</th>\n",
       "      <th>close_direction</th>\n",
       "      <th>prob_down</th>\n",
       "      <th>prob_flat</th>\n",
       "      <th>prob_up</th>\n",
       "      <th>label</th>\n",
       "    </tr>\n",
       "  </thead>\n",
       "  <tbody>\n",
       "    <tr>\n",
       "      <th>1</th>\n",
       "      <td>2020-01-01 22:01:00</td>\n",
       "      <td>108.7570</td>\n",
       "      <td>108.7590</td>\n",
       "      <td>108.7495</td>\n",
       "      <td>108.7495</td>\n",
       "      <td>13300.000012</td>\n",
       "      <td>1</td>\n",
       "      <td>-0.0095</td>\n",
       "      <td>-0.000087</td>\n",
       "      <td>down</td>\n",
       "      <td>1.0</td>\n",
       "      <td>0.0</td>\n",
       "      <td>0.0</td>\n",
       "      <td>0</td>\n",
       "    </tr>\n",
       "    <tr>\n",
       "      <th>2</th>\n",
       "      <td>2020-01-01 22:02:00</td>\n",
       "      <td>108.7495</td>\n",
       "      <td>108.7535</td>\n",
       "      <td>108.7495</td>\n",
       "      <td>108.7535</td>\n",
       "      <td>4500.000000</td>\n",
       "      <td>1</td>\n",
       "      <td>0.0040</td>\n",
       "      <td>0.000037</td>\n",
       "      <td>up</td>\n",
       "      <td>0.0</td>\n",
       "      <td>0.0</td>\n",
       "      <td>1.0</td>\n",
       "      <td>2</td>\n",
       "    </tr>\n",
       "    <tr>\n",
       "      <th>3</th>\n",
       "      <td>2020-01-01 22:03:00</td>\n",
       "      <td>108.7540</td>\n",
       "      <td>108.7555</td>\n",
       "      <td>108.7535</td>\n",
       "      <td>108.7555</td>\n",
       "      <td>10490.000010</td>\n",
       "      <td>1</td>\n",
       "      <td>0.0020</td>\n",
       "      <td>0.000018</td>\n",
       "      <td>flat</td>\n",
       "      <td>0.0</td>\n",
       "      <td>1.0</td>\n",
       "      <td>0.0</td>\n",
       "      <td>1</td>\n",
       "    </tr>\n",
       "    <tr>\n",
       "      <th>4</th>\n",
       "      <td>2020-01-01 22:04:00</td>\n",
       "      <td>108.7575</td>\n",
       "      <td>108.7650</td>\n",
       "      <td>108.7555</td>\n",
       "      <td>108.7650</td>\n",
       "      <td>11600.000024</td>\n",
       "      <td>1</td>\n",
       "      <td>0.0095</td>\n",
       "      <td>0.000087</td>\n",
       "      <td>up</td>\n",
       "      <td>0.0</td>\n",
       "      <td>0.0</td>\n",
       "      <td>1.0</td>\n",
       "      <td>2</td>\n",
       "    </tr>\n",
       "    <tr>\n",
       "      <th>5</th>\n",
       "      <td>2020-01-01 22:05:00</td>\n",
       "      <td>108.7700</td>\n",
       "      <td>108.7700</td>\n",
       "      <td>108.7690</td>\n",
       "      <td>108.7700</td>\n",
       "      <td>1059.999987</td>\n",
       "      <td>1</td>\n",
       "      <td>0.0050</td>\n",
       "      <td>0.000046</td>\n",
       "      <td>up</td>\n",
       "      <td>0.0</td>\n",
       "      <td>0.0</td>\n",
       "      <td>1.0</td>\n",
       "      <td>2</td>\n",
       "    </tr>\n",
       "  </tbody>\n",
       "</table>\n",
       "</div>"
      ],
      "text/plain": [
       "            timestamp      open      high       low     close        volume  \\\n",
       "1 2020-01-01 22:01:00  108.7570  108.7590  108.7495  108.7495  13300.000012   \n",
       "2 2020-01-01 22:02:00  108.7495  108.7535  108.7495  108.7535   4500.000000   \n",
       "3 2020-01-01 22:03:00  108.7540  108.7555  108.7535  108.7555  10490.000010   \n",
       "4 2020-01-01 22:04:00  108.7575  108.7650  108.7555  108.7650  11600.000024   \n",
       "5 2020-01-01 22:05:00  108.7700  108.7700  108.7690  108.7700   1059.999987   \n",
       "\n",
       "   time_group  close_delta  close_return close_direction  prob_down  \\\n",
       "1           1      -0.0095     -0.000087            down        1.0   \n",
       "2           1       0.0040      0.000037              up        0.0   \n",
       "3           1       0.0020      0.000018            flat        0.0   \n",
       "4           1       0.0095      0.000087              up        0.0   \n",
       "5           1       0.0050      0.000046              up        0.0   \n",
       "\n",
       "   prob_flat  prob_up  label  \n",
       "1        0.0      0.0      0  \n",
       "2        0.0      1.0      2  \n",
       "3        1.0      0.0      1  \n",
       "4        0.0      1.0      2  \n",
       "5        0.0      1.0      2  "
      ]
     },
     "execution_count": 5,
     "metadata": {},
     "output_type": "execute_result"
    }
   ],
   "source": [
    "df.head()"
   ]
  },
  {
   "cell_type": "code",
   "execution_count": 6,
   "id": "1de608ea-cadc-4f0d-a204-da4e24f49a42",
   "metadata": {},
   "outputs": [],
   "source": [
    "df['timestamp'] = pd.to_datetime(df['timestamp'])\n",
    "df = df[df['timestamp'].dt.year == 2024].copy()"
   ]
  },
  {
   "cell_type": "code",
   "execution_count": 7,
   "id": "6308f2ca-6614-4ec3-a60d-c7c900cbd2ee",
   "metadata": {},
   "outputs": [
    {
     "data": {
      "text/html": [
       "<div>\n",
       "<style scoped>\n",
       "    .dataframe tbody tr th:only-of-type {\n",
       "        vertical-align: middle;\n",
       "    }\n",
       "\n",
       "    .dataframe tbody tr th {\n",
       "        vertical-align: top;\n",
       "    }\n",
       "\n",
       "    .dataframe thead th {\n",
       "        text-align: right;\n",
       "    }\n",
       "</style>\n",
       "<table border=\"1\" class=\"dataframe\">\n",
       "  <thead>\n",
       "    <tr style=\"text-align: right;\">\n",
       "      <th></th>\n",
       "      <th>timestamp</th>\n",
       "      <th>open</th>\n",
       "      <th>high</th>\n",
       "      <th>low</th>\n",
       "      <th>close</th>\n",
       "      <th>volume</th>\n",
       "      <th>time_group</th>\n",
       "      <th>close_delta</th>\n",
       "      <th>close_return</th>\n",
       "      <th>close_direction</th>\n",
       "      <th>prob_down</th>\n",
       "      <th>prob_flat</th>\n",
       "      <th>prob_up</th>\n",
       "      <th>label</th>\n",
       "    </tr>\n",
       "  </thead>\n",
       "  <tbody>\n",
       "    <tr>\n",
       "      <th>1488604</th>\n",
       "      <td>2024-01-01 22:38:00</td>\n",
       "      <td>140.9615</td>\n",
       "      <td>140.9805</td>\n",
       "      <td>140.9220</td>\n",
       "      <td>140.9755</td>\n",
       "      <td>56350.000858</td>\n",
       "      <td>6384</td>\n",
       "      <td>0.0350</td>\n",
       "      <td>0.000248</td>\n",
       "      <td>up</td>\n",
       "      <td>0.0</td>\n",
       "      <td>0.0</td>\n",
       "      <td>1.0</td>\n",
       "      <td>2</td>\n",
       "    </tr>\n",
       "    <tr>\n",
       "      <th>1488605</th>\n",
       "      <td>2024-01-01 22:39:00</td>\n",
       "      <td>140.9720</td>\n",
       "      <td>140.9720</td>\n",
       "      <td>140.9015</td>\n",
       "      <td>140.9015</td>\n",
       "      <td>54050.000072</td>\n",
       "      <td>6384</td>\n",
       "      <td>-0.0740</td>\n",
       "      <td>-0.000525</td>\n",
       "      <td>down</td>\n",
       "      <td>1.0</td>\n",
       "      <td>0.0</td>\n",
       "      <td>0.0</td>\n",
       "      <td>0</td>\n",
       "    </tr>\n",
       "    <tr>\n",
       "      <th>1488606</th>\n",
       "      <td>2024-01-01 22:40:00</td>\n",
       "      <td>140.9025</td>\n",
       "      <td>140.9025</td>\n",
       "      <td>140.9025</td>\n",
       "      <td>140.9025</td>\n",
       "      <td>6299.999833</td>\n",
       "      <td>6384</td>\n",
       "      <td>0.0010</td>\n",
       "      <td>0.000007</td>\n",
       "      <td>flat</td>\n",
       "      <td>0.0</td>\n",
       "      <td>1.0</td>\n",
       "      <td>0.0</td>\n",
       "      <td>1</td>\n",
       "    </tr>\n",
       "    <tr>\n",
       "      <th>1488607</th>\n",
       "      <td>2024-01-01 22:41:00</td>\n",
       "      <td>140.9040</td>\n",
       "      <td>140.9080</td>\n",
       "      <td>140.9030</td>\n",
       "      <td>140.9080</td>\n",
       "      <td>9600.000143</td>\n",
       "      <td>6384</td>\n",
       "      <td>0.0055</td>\n",
       "      <td>0.000039</td>\n",
       "      <td>up</td>\n",
       "      <td>0.0</td>\n",
       "      <td>0.0</td>\n",
       "      <td>1.0</td>\n",
       "      <td>2</td>\n",
       "    </tr>\n",
       "    <tr>\n",
       "      <th>1488608</th>\n",
       "      <td>2024-01-01 22:42:00</td>\n",
       "      <td>140.9090</td>\n",
       "      <td>140.9090</td>\n",
       "      <td>140.9020</td>\n",
       "      <td>140.9045</td>\n",
       "      <td>34350.000501</td>\n",
       "      <td>6384</td>\n",
       "      <td>-0.0035</td>\n",
       "      <td>-0.000025</td>\n",
       "      <td>flat</td>\n",
       "      <td>0.0</td>\n",
       "      <td>1.0</td>\n",
       "      <td>0.0</td>\n",
       "      <td>1</td>\n",
       "    </tr>\n",
       "  </tbody>\n",
       "</table>\n",
       "</div>"
      ],
      "text/plain": [
       "                  timestamp      open      high       low     close  \\\n",
       "1488604 2024-01-01 22:38:00  140.9615  140.9805  140.9220  140.9755   \n",
       "1488605 2024-01-01 22:39:00  140.9720  140.9720  140.9015  140.9015   \n",
       "1488606 2024-01-01 22:40:00  140.9025  140.9025  140.9025  140.9025   \n",
       "1488607 2024-01-01 22:41:00  140.9040  140.9080  140.9030  140.9080   \n",
       "1488608 2024-01-01 22:42:00  140.9090  140.9090  140.9020  140.9045   \n",
       "\n",
       "               volume  time_group  close_delta  close_return close_direction  \\\n",
       "1488604  56350.000858        6384       0.0350      0.000248              up   \n",
       "1488605  54050.000072        6384      -0.0740     -0.000525            down   \n",
       "1488606   6299.999833        6384       0.0010      0.000007            flat   \n",
       "1488607   9600.000143        6384       0.0055      0.000039              up   \n",
       "1488608  34350.000501        6384      -0.0035     -0.000025            flat   \n",
       "\n",
       "         prob_down  prob_flat  prob_up  label  \n",
       "1488604        0.0        0.0      1.0      2  \n",
       "1488605        1.0        0.0      0.0      0  \n",
       "1488606        0.0        1.0      0.0      1  \n",
       "1488607        0.0        0.0      1.0      2  \n",
       "1488608        0.0        1.0      0.0      1  "
      ]
     },
     "execution_count": 7,
     "metadata": {},
     "output_type": "execute_result"
    }
   ],
   "source": [
    "df.head()"
   ]
  },
  {
   "cell_type": "markdown",
   "id": "fbea096f-d154-4571-9276-c6105d657392",
   "metadata": {},
   "source": [
    "## In-sample exellence\n",
    "We run the strategy on the same data that is used for model training.\n",
    "Buy signal = +1, sell signal = -1\n",
    "We multiply the signal and future return to simply analyze the performance of this strategy"
   ]
  },
  {
   "cell_type": "code",
   "execution_count": 8,
   "id": "e903bdf8-f1eb-4922-92ef-1b17288f4fee",
   "metadata": {},
   "outputs": [],
   "source": [
    "import torch\n",
    "from models.gru_model import GRUModule"
   ]
  },
  {
   "cell_type": "code",
   "execution_count": 9,
   "id": "e2fc8ad9-ea4a-4613-93e9-f22f02da7438",
   "metadata": {},
   "outputs": [],
   "source": [
    "CHECKPOINT_PATH = r'..\\lightning_logs\\prob_gru\\version_9\\checkpoints\\best_checkpoint.ckpt'"
   ]
  },
  {
   "cell_type": "code",
   "execution_count": 10,
   "id": "b053e9e2-ebc7-49a9-88cb-f74cf2ed56b1",
   "metadata": {},
   "outputs": [
    {
     "data": {
      "text/plain": [
       "GRUModule(\n",
       "  (model): GRUModel(\n",
       "    (gru): GRU(1, 256, num_layers=3, batch_first=True, dropout=0.8)\n",
       "    (linear): Linear(in_features=256, out_features=3, bias=True)\n",
       "    (softmax): Softmax(dim=1)\n",
       "  )\n",
       "  (criterion): CrossEntropyLoss()\n",
       ")"
      ]
     },
     "execution_count": 10,
     "metadata": {},
     "output_type": "execute_result"
    }
   ],
   "source": [
    "model = GRUModule.load_from_checkpoint(CHECKPOINT_PATH)\n",
    "model.to('cuda')\n",
    "model.eval()"
   ]
  },
  {
   "cell_type": "code",
   "execution_count": 11,
   "id": "72ceabd7-7251-4c66-972c-0e8bfcb99816",
   "metadata": {},
   "outputs": [],
   "source": [
    "from utils import get_sequence_start_indices\n",
    "import torch\n",
    "import numpy as np"
   ]
  },
  {
   "cell_type": "code",
   "execution_count": 12,
   "id": "198f3d24-2a8e-4419-a934-3d76612c010a",
   "metadata": {},
   "outputs": [],
   "source": [
    "IDs = get_sequence_start_indices(\n",
    "    df,\n",
    "    sequence_length=SEQUENCE_LENGTH,\n",
    "    horizon=HORIZON,\n",
    "    stride=STRIDE,\n",
    "    group_col='time_group',\n",
    ")"
   ]
  },
  {
   "cell_type": "code",
   "execution_count": 13,
   "id": "e0cedc4f-1785-4bed-a0c7-905f3bc21e0e",
   "metadata": {
    "scrolled": true
   },
   "outputs": [
    {
     "data": {
      "text/plain": [
       "354796"
      ]
     },
     "execution_count": 13,
     "metadata": {},
     "output_type": "execute_result"
    }
   ],
   "source": [
    "len(IDs)"
   ]
  },
  {
   "cell_type": "markdown",
   "id": "17e49a2f-d42a-4b4d-9087-12e4698b4a38",
   "metadata": {},
   "source": [
    "### Calculate Accumulated Excellence Curve"
   ]
  },
  {
   "cell_type": "code",
   "execution_count": 14,
   "id": "13f7e060-791c-4c80-9a19-b5c98437f57e",
   "metadata": {},
   "outputs": [],
   "source": [
    "feature_df = df[FEATURES_COLS]\n",
    "\n",
    "sequences = [feature_df.loc[i:i+SEQUENCE_LENGTH].values for i in IDs]\n",
    "\n",
    "returns = [feature_df.loc[i+SEQUENCE_LENGTH].values for i in IDs]\n",
    "\n",
    "sequence_arr = np.array(sequences).astype(np.float32)\n",
    "\n",
    "batch_size = 1024\n",
    "n_sequences = len(sequences)\n",
    "preds = []\n",
    "for i in range(0, n_sequences, batch_size):\n",
    "    batch = sequence_arr[i:i+batch_size]\n",
    "    batch_tensor = torch.from_numpy(batch).to('cuda')\n",
    "    \n",
    "    with torch.no_grad():\n",
    "        _, logits = model(batch_tensor)\n",
    "        batch_preds = torch.argmax(logits, dim=1).cpu().numpy()\n",
    "        preds.extend(batch_preds)\n",
    "\n",
    "return_arr = np.array(returns).squeeze()\n",
    "\n",
    "pred_arr = np.array(preds)\n",
    "\n",
    "signal_arr = pred_arr - 1\n",
    "\n",
    "excellence_curve = 1 + np.cumsum(signal_arr * return_arr)\n",
    "\n"
   ]
  },
  {
   "cell_type": "markdown",
   "id": "40bed897-dd91-49ee-b238-755be3940e4b",
   "metadata": {},
   "source": [
    "### Plotting excellence"
   ]
  },
  {
   "cell_type": "code",
   "execution_count": 20,
   "id": "e1776088-6883-4647-b27c-332e58e013f7",
   "metadata": {
    "scrolled": true
   },
   "outputs": [
    {
     "data": {
      "image/png": "[encoded data removed]",
      "text/plain": [
       "<Figure size 1000x500 with 1 Axes>"
      ]
     },
     "metadata": {},
     "output_type": "display_data"
    }
   ],
   "source": [
    "# Plot it\n",
    "plt.figure(figsize=(10, 5))\n",
    "plt.plot(excellence_curve, color='red')\n",
    "plt.title(\"Accumulated Close Return\")\n",
    "plt.xlabel(\"Step\")\n",
    "plt.ylabel(\"Excellence\")\n",
    "plt.grid(True)\n",
    "plt.show()"
   ]
  },
  {
   "cell_type": "markdown",
   "id": "0077220c-04e0-4ecd-b55d-e15abe1c1ee1",
   "metadata": {},
   "source": [
    "### Plotting Returns"
   ]
  },
  {
   "cell_type": "code",
   "execution_count": 16,
   "id": "75d11ec3-9d3a-4cb8-99fe-729bc99aadb2",
   "metadata": {},
   "outputs": [
    {
     "data": {
      "image/png": "[encoded data removed]",
      "text/plain": [
       "<Figure size 1000x500 with 1 Axes>"
      ]
     },
     "metadata": {},
     "output_type": "display_data"
    }
   ],
   "source": [
    "returns_curve = 1 + np.cumsum(np.abs(return_arr))\n",
    "\n",
    "# Plot both\n",
    "plt.figure(figsize=(10, 5))\n",
    "plt.plot(excellence_curve, label=\"Strategy (Excellence)\")\n",
    "plt.plot(returns_curve, label=\"Market (Returns)\", linestyle='--')\n",
    "plt.title(\"Accumulated Excellence vs Returns\")\n",
    "plt.xlabel(\"Step\")\n",
    "plt.ylabel(\"Value\")\n",
    "plt.legend()\n",
    "plt.grid(True)\n",
    "plt.show()"
   ]
  },
  {
   "cell_type": "markdown",
   "id": "f9bd1fd8-9dff-43a2-b97d-21aef6e9c600",
   "metadata": {},
   "source": [
    "兩者幾乎完美重疊, 明顯的 overfitting"
   ]
  },
  {
   "cell_type": "code",
   "execution_count": null,
   "id": "2a2496bb-1376-443e-b9b7-b79c506649f6",
   "metadata": {},
   "outputs": [],
   "source": []
  }
 ],
 "metadata": {
  "kernelspec": {
   "display_name": "Python 3 (ipykernel)",
   "language": "python",
   "name": "python3"
  },
  "language_info": {
   "codemirror_mode": {
    "name": "ipython",
    "version": 3
   },
   "file_extension": ".py",
   "mimetype": "text/x-python",
   "name": "python",
   "nbconvert_exporter": "python",
   "pygments_lexer": "ipython3",
   "version": "3.11.12"
  },
  "widgets": {
   "application/vnd.jupyter.widget-state+json": {
    "state": {},
    "version_major": 2,
    "version_minor": 0
   }
  }
 },
 "nbformat": 4,
 "nbformat_minor": 5
}
