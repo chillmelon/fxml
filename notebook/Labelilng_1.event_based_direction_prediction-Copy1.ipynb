{
 "cells": [
  {
   "cell_type": "code",
   "execution_count": 1,
   "id": "8c6d6f1f-0017-4810-9328-099f68c7c6e2",
   "metadata": {},
   "outputs": [],
   "source": [
    "import pandas as pd\n",
    "import matplotlib.pyplot as plt\n",
    "from matplotlib.ticker import FormatStrFormatter\n",
    "\n",
    "import os"
   ]
  },
  {
   "cell_type": "code",
   "execution_count": 2,
   "id": "bf14af0e-a692-419c-a591-5feaf1601bf9",
   "metadata": {},
   "outputs": [],
   "source": [
    "from pathlib import Path\n",
    "\n",
    "# Configurable parts\n",
    "SYMBOL = \"USDJPY\"\n",
    "SAMPLE_TYPE = \"time\"\n",
    "MINUTES = 1\n",
    "DOLLAR_THRESHOLD = \"115009542m\"\n",
    "EVENT_NAME = \"CUSUM\"\n",
    "EVENT_THRESHOLD = 2.52e-04\n",
    "\n",
    "START_DATE = \"20210101\"\n",
    "END_DATE = \"20241231\"\n",
    "\n",
    "# Build base name\n",
    "if SAMPLE_TYPE == \"dollar\":\n",
    "    RESAMPLED_NAME = f\"{SYMBOL}-{DOLLAR_THRESHOLD}-dollar-{START_DATE}-{END_DATE}\"\n",
    "else:\n",
    "    RESAMPLED_NAME = f\"{SYMBOL}-{MINUTES}m-{START_DATE}-{END_DATE}\"\n",
    "\n",
    "# Base directories\n",
    "BASE_DIR = Path(\"../data\")\n",
    "RESAMPLED_DIR = BASE_DIR / \"resampled\"\n",
    "PROCESSED_DIR = BASE_DIR / \"processed\"\n",
    "EVENTS_DIR = BASE_DIR / \"events\"\n",
    "\n",
    "# Final paths\n",
    "RESAMPLED_FILE_PATH = RESAMPLED_DIR / f\"{RESAMPLED_NAME}.pkl\"\n",
    "PROCESSED_FILE_PATH = PROCESSED_DIR / f\"{RESAMPLED_NAME}-processed.pkl\"\n",
    "EVENT_FILE_PATH = EVENTS_DIR / f\"{RESAMPLED_NAME}_{EVENT_NAME}_{EVENT_THRESHOLD:.2e}.pkl\""
   ]
  },
  {
   "cell_type": "code",
   "execution_count": 3,
   "id": "c95146f2-e32f-4954-a38e-afd492fa82be",
   "metadata": {},
   "outputs": [],
   "source": [
    "DIRECTION_LABEL_DIR = BASE_DIR / \"direction_labels\"\n",
    "DIRECTION_LABEL_DIR.mkdir(parents=True, exist_ok=True)\n",
    "DIRECTION_LABEL_FILE_PATH = DIRECTION_LABEL_DIR / f\"{RESAMPLED_NAME}-{EVENT_NAME}.pkl\""
   ]
  },
  {
   "cell_type": "code",
   "execution_count": 4,
   "id": "79e659aa-5b8f-43d4-aa7f-3fe6cd7e5bd7",
   "metadata": {
    "scrolled": true
   },
   "outputs": [
    {
     "name": "stdout",
     "output_type": "stream",
     "text": [
      "CPU times: user 745 μs, sys: 69.7 ms, total: 70.5 ms\n",
      "Wall time: 100 ms\n"
     ]
    }
   ],
   "source": [
    "%%time\n",
    "df = pd.read_pickle(PROCESSED_FILE_PATH)\n",
    "t_events = pd.read_pickle(EVENT_FILE_PATH)"
   ]
  },
  {
   "cell_type": "code",
   "execution_count": 5,
   "id": "0c4183f5-be41-413c-9747-61ea734787b2",
   "metadata": {},
   "outputs": [
    {
     "data": {
      "text/html": [
       "<div>\n",
       "<style scoped>\n",
       "    .dataframe tbody tr th:only-of-type {\n",
       "        vertical-align: middle;\n",
       "    }\n",
       "\n",
       "    .dataframe tbody tr th {\n",
       "        vertical-align: top;\n",
       "    }\n",
       "\n",
       "    .dataframe thead th {\n",
       "        text-align: right;\n",
       "    }\n",
       "</style>\n",
       "<table border=\"1\" class=\"dataframe\">\n",
       "  <thead>\n",
       "    <tr style=\"text-align: right;\">\n",
       "      <th></th>\n",
       "      <th>open</th>\n",
       "      <th>high</th>\n",
       "      <th>low</th>\n",
       "      <th>close</th>\n",
       "      <th>volume</th>\n",
       "      <th>spread</th>\n",
       "      <th>close_delta</th>\n",
       "      <th>close_return</th>\n",
       "      <th>close_log_return</th>\n",
       "      <th>ret_mean_5</th>\n",
       "      <th>...</th>\n",
       "      <th>dom</th>\n",
       "      <th>month</th>\n",
       "      <th>hour_sin</th>\n",
       "      <th>hour_cos</th>\n",
       "      <th>dow_sin</th>\n",
       "      <th>dow_cos</th>\n",
       "      <th>dom_sin</th>\n",
       "      <th>dom_cos</th>\n",
       "      <th>month_sin</th>\n",
       "      <th>month_cos</th>\n",
       "    </tr>\n",
       "    <tr>\n",
       "      <th>timestamp</th>\n",
       "      <th></th>\n",
       "      <th></th>\n",
       "      <th></th>\n",
       "      <th></th>\n",
       "      <th></th>\n",
       "      <th></th>\n",
       "      <th></th>\n",
       "      <th></th>\n",
       "      <th></th>\n",
       "      <th></th>\n",
       "      <th></th>\n",
       "      <th></th>\n",
       "      <th></th>\n",
       "      <th></th>\n",
       "      <th></th>\n",
       "      <th></th>\n",
       "      <th></th>\n",
       "      <th></th>\n",
       "      <th></th>\n",
       "      <th></th>\n",
       "      <th></th>\n",
       "    </tr>\n",
       "  </thead>\n",
       "  <tbody>\n",
       "    <tr>\n",
       "      <th>2021-01-03 23:49:00</th>\n",
       "      <td>103.2830</td>\n",
       "      <td>103.2865</td>\n",
       "      <td>103.2715</td>\n",
       "      <td>103.2715</td>\n",
       "      <td>1.410700e+11</td>\n",
       "      <td>0.002800</td>\n",
       "      <td>-0.0110</td>\n",
       "      <td>-0.000107</td>\n",
       "      <td>-0.000107</td>\n",
       "      <td>-0.000034</td>\n",
       "      <td>...</td>\n",
       "      <td>3</td>\n",
       "      <td>1</td>\n",
       "      <td>-0.258819</td>\n",
       "      <td>0.965926</td>\n",
       "      <td>-0.781831</td>\n",
       "      <td>0.62349</td>\n",
       "      <td>0.571268</td>\n",
       "      <td>0.820763</td>\n",
       "      <td>0.5</td>\n",
       "      <td>0.866025</td>\n",
       "    </tr>\n",
       "    <tr>\n",
       "      <th>2021-01-03 23:52:00</th>\n",
       "      <td>103.2660</td>\n",
       "      <td>103.2690</td>\n",
       "      <td>103.2385</td>\n",
       "      <td>103.2390</td>\n",
       "      <td>1.404200e+11</td>\n",
       "      <td>0.003786</td>\n",
       "      <td>-0.0265</td>\n",
       "      <td>-0.000257</td>\n",
       "      <td>-0.000257</td>\n",
       "      <td>-0.000098</td>\n",
       "      <td>...</td>\n",
       "      <td>3</td>\n",
       "      <td>1</td>\n",
       "      <td>-0.258819</td>\n",
       "      <td>0.965926</td>\n",
       "      <td>-0.781831</td>\n",
       "      <td>0.62349</td>\n",
       "      <td>0.571268</td>\n",
       "      <td>0.820763</td>\n",
       "      <td>0.5</td>\n",
       "      <td>0.866025</td>\n",
       "    </tr>\n",
       "    <tr>\n",
       "      <th>2021-01-04 00:01:00</th>\n",
       "      <td>103.2290</td>\n",
       "      <td>103.2325</td>\n",
       "      <td>103.1950</td>\n",
       "      <td>103.2065</td>\n",
       "      <td>3.839800e+11</td>\n",
       "      <td>0.003228</td>\n",
       "      <td>-0.0210</td>\n",
       "      <td>-0.000203</td>\n",
       "      <td>-0.000203</td>\n",
       "      <td>-0.000069</td>\n",
       "      <td>...</td>\n",
       "      <td>4</td>\n",
       "      <td>1</td>\n",
       "      <td>0.000000</td>\n",
       "      <td>1.000000</td>\n",
       "      <td>0.000000</td>\n",
       "      <td>1.00000</td>\n",
       "      <td>0.724793</td>\n",
       "      <td>0.688967</td>\n",
       "      <td>0.5</td>\n",
       "      <td>0.866025</td>\n",
       "    </tr>\n",
       "    <tr>\n",
       "      <th>2021-01-04 00:05:00</th>\n",
       "      <td>103.2195</td>\n",
       "      <td>103.2195</td>\n",
       "      <td>103.1815</td>\n",
       "      <td>103.1825</td>\n",
       "      <td>3.557400e+11</td>\n",
       "      <td>0.003224</td>\n",
       "      <td>-0.0380</td>\n",
       "      <td>-0.000368</td>\n",
       "      <td>-0.000368</td>\n",
       "      <td>-0.000087</td>\n",
       "      <td>...</td>\n",
       "      <td>4</td>\n",
       "      <td>1</td>\n",
       "      <td>0.000000</td>\n",
       "      <td>1.000000</td>\n",
       "      <td>0.000000</td>\n",
       "      <td>1.00000</td>\n",
       "      <td>0.724793</td>\n",
       "      <td>0.688967</td>\n",
       "      <td>0.5</td>\n",
       "      <td>0.866025</td>\n",
       "    </tr>\n",
       "    <tr>\n",
       "      <th>2021-01-04 00:10:00</th>\n",
       "      <td>103.1635</td>\n",
       "      <td>103.1635</td>\n",
       "      <td>103.1520</td>\n",
       "      <td>103.1525</td>\n",
       "      <td>1.643500e+11</td>\n",
       "      <td>0.002421</td>\n",
       "      <td>-0.0105</td>\n",
       "      <td>-0.000102</td>\n",
       "      <td>-0.000102</td>\n",
       "      <td>-0.000058</td>\n",
       "      <td>...</td>\n",
       "      <td>4</td>\n",
       "      <td>1</td>\n",
       "      <td>0.000000</td>\n",
       "      <td>1.000000</td>\n",
       "      <td>0.000000</td>\n",
       "      <td>1.00000</td>\n",
       "      <td>0.724793</td>\n",
       "      <td>0.688967</td>\n",
       "      <td>0.5</td>\n",
       "      <td>0.866025</td>\n",
       "    </tr>\n",
       "  </tbody>\n",
       "</table>\n",
       "<p>5 rows × 54 columns</p>\n",
       "</div>"
      ],
      "text/plain": [
       "                         open      high       low     close        volume  \\\n",
       "timestamp                                                                   \n",
       "2021-01-03 23:49:00  103.2830  103.2865  103.2715  103.2715  1.410700e+11   \n",
       "2021-01-03 23:52:00  103.2660  103.2690  103.2385  103.2390  1.404200e+11   \n",
       "2021-01-04 00:01:00  103.2290  103.2325  103.1950  103.2065  3.839800e+11   \n",
       "2021-01-04 00:05:00  103.2195  103.2195  103.1815  103.1825  3.557400e+11   \n",
       "2021-01-04 00:10:00  103.1635  103.1635  103.1520  103.1525  1.643500e+11   \n",
       "\n",
       "                       spread  close_delta  close_return  close_log_return  \\\n",
       "timestamp                                                                    \n",
       "2021-01-03 23:49:00  0.002800      -0.0110     -0.000107         -0.000107   \n",
       "2021-01-03 23:52:00  0.003786      -0.0265     -0.000257         -0.000257   \n",
       "2021-01-04 00:01:00  0.003228      -0.0210     -0.000203         -0.000203   \n",
       "2021-01-04 00:05:00  0.003224      -0.0380     -0.000368         -0.000368   \n",
       "2021-01-04 00:10:00  0.002421      -0.0105     -0.000102         -0.000102   \n",
       "\n",
       "                     ret_mean_5  ...  dom  month  hour_sin  hour_cos  \\\n",
       "timestamp                        ...                                   \n",
       "2021-01-03 23:49:00   -0.000034  ...    3      1 -0.258819  0.965926   \n",
       "2021-01-03 23:52:00   -0.000098  ...    3      1 -0.258819  0.965926   \n",
       "2021-01-04 00:01:00   -0.000069  ...    4      1  0.000000  1.000000   \n",
       "2021-01-04 00:05:00   -0.000087  ...    4      1  0.000000  1.000000   \n",
       "2021-01-04 00:10:00   -0.000058  ...    4      1  0.000000  1.000000   \n",
       "\n",
       "                      dow_sin  dow_cos   dom_sin   dom_cos  month_sin  \\\n",
       "timestamp                                                               \n",
       "2021-01-03 23:49:00 -0.781831  0.62349  0.571268  0.820763        0.5   \n",
       "2021-01-03 23:52:00 -0.781831  0.62349  0.571268  0.820763        0.5   \n",
       "2021-01-04 00:01:00  0.000000  1.00000  0.724793  0.688967        0.5   \n",
       "2021-01-04 00:05:00  0.000000  1.00000  0.724793  0.688967        0.5   \n",
       "2021-01-04 00:10:00  0.000000  1.00000  0.724793  0.688967        0.5   \n",
       "\n",
       "                     month_cos  \n",
       "timestamp                       \n",
       "2021-01-03 23:49:00   0.866025  \n",
       "2021-01-03 23:52:00   0.866025  \n",
       "2021-01-04 00:01:00   0.866025  \n",
       "2021-01-04 00:05:00   0.866025  \n",
       "2021-01-04 00:10:00   0.866025  \n",
       "\n",
       "[5 rows x 54 columns]"
      ]
     },
     "execution_count": 5,
     "metadata": {},
     "output_type": "execute_result"
    }
   ],
   "source": [
    "df.loc[t_events].head()"
   ]
  },
  {
   "cell_type": "markdown",
   "id": "6c93411b-4eac-441d-ba4b-13ac064fe2ea",
   "metadata": {},
   "source": [
    "## Calculate Target Volatility (trgt)\n",
    "This will be used for the calculation of dynamic TP/SL"
   ]
  },
  {
   "cell_type": "code",
   "execution_count": 6,
   "id": "df790074-e2bd-4e8b-94f0-06aaac5a92d5",
   "metadata": {},
   "outputs": [],
   "source": [
    "def get_daily_vol(close,span0=100):\n",
    "    # daily vol reindexed to close\n",
    "    df0=close.index.searchsorted(close.index-pd.Timedelta(days=1))\n",
    "    #bp()\n",
    "    df0=df0[df0>0]\n",
    "    #bp()\n",
    "    df0=(pd.Series(close.index[df0-1],\n",
    "                   index=close.index[close.shape[0]-df0.shape[0]:]))\n",
    "    #bp()\n",
    "    try:\n",
    "        df0=close.loc[df0.index]/close.loc[df0.values].values-1 # daily rets\n",
    "    except Exception as e:\n",
    "        print(e)\n",
    "        print('adjusting shape of close.loc[df0.index]')\n",
    "        cut = close.loc[df0.index].shape[0] - close.loc[df0.values].shape[0]\n",
    "        df0=close.loc[df0.index].iloc[:-cut]/close.loc[df0.values].values-1\n",
    "    df0=df0.ewm(span=span0).std().rename('dailyVol')\n",
    "    return df0"
   ]
  },
  {
   "cell_type": "code",
   "execution_count": 7,
   "id": "0eb0f22e-1ff3-4aeb-a943-feef9caa6687",
   "metadata": {},
   "outputs": [],
   "source": [
    "from ta.volatility import AverageTrueRange\n",
    "\n",
    "def get_atr(df, window=60):\n",
    "    atr = AverageTrueRange(high=df['high'], low=df['low'], close=df['close'], window=window)\n",
    "    return atr.average_true_range().rename(f\"atr{window}\")"
   ]
  },
  {
   "cell_type": "code",
   "execution_count": 8,
   "id": "9856f5e4-1f97-4e9a-a0c4-d971c1f91208",
   "metadata": {},
   "outputs": [],
   "source": [
    "trgt = get_daily_vol(df['close']).reindex(t_events, method='ffill')"
   ]
  },
  {
   "cell_type": "code",
   "execution_count": 9,
   "id": "585340eb-5012-4873-9826-9f9f7bc87edd",
   "metadata": {},
   "outputs": [],
   "source": [
    "df['atr14_price'] = get_atr(df, window=14)\n",
    "\n",
    "df['atr14_ret'] = df['atr14_price'] / df['close'].shift(1)\n",
    "\n",
    "trgt = df['atr14_ret'].shift(1).reindex(t_events, method='ffill')"
   ]
  },
  {
   "cell_type": "code",
   "execution_count": 10,
   "id": "4a16f765-1c31-487d-b600-ed3f6dbd936b",
   "metadata": {
    "scrolled": true
   },
   "outputs": [
    {
     "data": {
      "text/plain": [
       "count    248989.000000\n",
       "mean          0.000245\n",
       "std           0.000186\n",
       "min           0.000000\n",
       "25%           0.000134\n",
       "50%           0.000202\n",
       "75%           0.000296\n",
       "max           0.003291\n",
       "Name: atr14_ret, dtype: float64"
      ]
     },
     "execution_count": 10,
     "metadata": {},
     "output_type": "execute_result"
    }
   ],
   "source": [
    "trgt.describe()"
   ]
  },
  {
   "cell_type": "markdown",
   "id": "21841f1a-8cbd-46bf-bd31-3662c1e904b1",
   "metadata": {},
   "source": [
    "## Apply Triple Barrier\n",
    "We use daily volatility to calculate TP/SL, and we set our T1 as 1day"
   ]
  },
  {
   "cell_type": "code",
   "execution_count": 11,
   "id": "228a82bd-4870-4c7c-bf0a-3456b9893997",
   "metadata": {},
   "outputs": [],
   "source": [
    "from concurrent.futures import ThreadPoolExecutor\n",
    "import numpy as np\n",
    "import pandas as pd\n",
    "\n",
    "def applyPtSlOnT1(close,events,ptSl,molecule):\n",
    "    # apply stop loss/profit taking, if it takes place before t1 (end of event)\n",
    "    events_=events.loc[molecule]\n",
    "    out=events_[['t1']].copy(deep=True)\n",
    "    \n",
    "    pt = ptSl[0] * events_['trgt'] if ptSl[0] > 0 else pd.Series(index=events.index)\n",
    "    sl = -ptSl[1] * events_['trgt'] if ptSl[1] > 0 else pd.Series(index=events.index)\n",
    "\n",
    "        \n",
    "    for loc, t1 in events_['t1'].fillna(close.index[-1]).items():\n",
    "        df0=close[loc:t1] # path prices\n",
    "        df0=(df0/close[loc]-1)*events_.at[loc,'side'] # path returns\n",
    "        out.loc[loc,'sl']=df0[df0<sl[loc]].index.min() # earliest stop loss\n",
    "        out.loc[loc,'pt']=df0[df0>pt[loc]].index.min() # earliest profit taking\n",
    "        \n",
    "    return out\n",
    "\n",
    "\n",
    "def parallel_apply(func, items, num_threads=4, **kwargs):\n",
    "    \n",
    "    def worker(molecule):\n",
    "        return func(molecule=molecule, **kwargs)\n",
    "\n",
    "    chunks = np.array_split(items, num_threads)\n",
    "    \n",
    "    with ThreadPoolExecutor(max_workers=num_threads) as executor:\n",
    "        results = list(executor.map(worker, chunks))\n",
    "\n",
    "    return pd.concat(results).sort_index()\n",
    "\n",
    "\n",
    "def getEvents(close, tEvents, ptSl, trgt, minRet, numThreads=4, t1=False, side=None):\n",
    "    # Step 1: Filter targets\n",
    "    trgt = trgt.loc[tEvents]\n",
    "    trgt = trgt[trgt > minRet]\n",
    "\n",
    "    # Step 2: Set vertical barrier (t1)\n",
    "    if t1 is False:\n",
    "        t1 = pd.Series(pd.NaT, index=tEvents)\n",
    "\n",
    "    # Step 3: Build events DataFrame\n",
    "    if side is None:\n",
    "        side_, ptSl_ = pd.Series(1., index=trgt.index), [ptSl[0], ptSl[0]]\n",
    "    else:\n",
    "        side_, ptSl_ = side.loc[trgt.index], ptSl[:2]\n",
    "\n",
    "    events = pd.concat({'t1': t1, 'trgt': trgt, 'side': side_}, axis=1).dropna(subset=['trgt'])\n",
    "\n",
    "    # Step 4: Apply barriers in parallel\n",
    "    df0 = parallel_apply(\n",
    "        func=applyPtSlOnT1,\n",
    "        items=events.index,\n",
    "        num_threads=numThreads,\n",
    "        close=close,\n",
    "        events=events,\n",
    "        ptSl=ptSl_\n",
    "    )\n",
    "\n",
    "    # Step 5: Choose the first touched barrier\n",
    "    events['t1'] = df0.dropna(how='all').min(axis=1)\n",
    "    \n",
    "    if side is None:\n",
    "        events = events.drop('side', axis=1)\n",
    "        \n",
    "    return events\n"
   ]
  },
  {
   "cell_type": "code",
   "execution_count": 12,
   "id": "1c4cb836-44c5-4ec8-a5bc-79982eb1daf8",
   "metadata": {},
   "outputs": [],
   "source": [
    "def get_vertical_barrier(t_events, close, delta=pd.Timedelta(minutes=60)):\n",
    "    \"\"\"\n",
    "    For each event in t_events, find the timestamp in close.index \n",
    "    that is at least delta later. Returns a pd.Series of t1.\n",
    "    \"\"\"\n",
    "    barrier_times = t_events + delta\n",
    "    t1_idx = close.index.searchsorted(barrier_times)\n",
    "    valid_idx = t1_idx[t1_idx < len(close)]\n",
    "    t1 = pd.Series(close.index[valid_idx], index=t_events[:len(valid_idx)])\n",
    "    return t1"
   ]
  },
  {
   "cell_type": "code",
   "execution_count": 13,
   "id": "c1c542ed-24cc-4403-b3ca-e01fd931484a",
   "metadata": {},
   "outputs": [],
   "source": [
    "t1 = get_vertical_barrier(t_events, df['close'], delta=pd.Timedelta(minutes=60))"
   ]
  },
  {
   "cell_type": "code",
   "execution_count": 14,
   "id": "2666c0a7-7347-427a-a815-6299967b7671",
   "metadata": {
    "scrolled": true
   },
   "outputs": [
    {
     "data": {
      "text/plain": [
       "timestamp\n",
       "2021-01-03 23:49:00   2021-01-04 00:49:00\n",
       "2021-01-03 23:52:00   2021-01-04 00:52:00\n",
       "2021-01-04 00:01:00   2021-01-04 01:01:00\n",
       "2021-01-04 00:05:00   2021-01-04 01:05:00\n",
       "2021-01-04 00:10:00   2021-01-04 01:10:00\n",
       "                              ...        \n",
       "2024-12-30 21:06:00   2024-12-30 22:06:00\n",
       "2024-12-30 21:45:00   2024-12-30 22:50:00\n",
       "2024-12-30 21:48:00   2024-12-30 22:50:00\n",
       "2024-12-30 22:05:00   2024-12-30 23:05:00\n",
       "2024-12-30 22:29:00   2024-12-30 23:29:00\n",
       "Name: timestamp, Length: 248980, dtype: datetime64[ns]"
      ]
     },
     "execution_count": 14,
     "metadata": {},
     "output_type": "execute_result"
    }
   ],
   "source": [
    "t1"
   ]
  },
  {
   "cell_type": "code",
   "execution_count": 15,
   "id": "eecf7e7f-ac8b-494b-8e37-e3def199856a",
   "metadata": {},
   "outputs": [
    {
     "data": {
      "text/plain": [
       "count    248989.000000\n",
       "mean          0.000245\n",
       "std           0.000186\n",
       "min           0.000000\n",
       "25%           0.000134\n",
       "50%           0.000202\n",
       "75%           0.000296\n",
       "max           0.003291\n",
       "Name: atr14_ret, dtype: float64"
      ]
     },
     "execution_count": 15,
     "metadata": {},
     "output_type": "execute_result"
    }
   ],
   "source": [
    "trgt.describe()"
   ]
  },
  {
   "cell_type": "code",
   "execution_count": 16,
   "id": "485d4f61-8f96-47ed-8df0-1da3d1e1f99d",
   "metadata": {},
   "outputs": [
    {
     "data": {
      "text/plain": [
       "np.float64(0.00012241676642336615)"
      ]
     },
     "execution_count": 16,
     "metadata": {},
     "output_type": "execute_result"
    }
   ],
   "source": [
    "minRet = trgt.mean() * .5\n",
    "minRet"
   ]
  },
  {
   "cell_type": "code",
   "execution_count": 17,
   "id": "aad0bc6e-3302-45e5-b64b-bcebfab3db4c",
   "metadata": {},
   "outputs": [
    {
     "name": "stdout",
     "output_type": "stream",
     "text": [
      "CPU times: user 56.4 s, sys: 6.25 s, total: 1min 2s\n",
      "Wall time: 56.6 s\n"
     ]
    }
   ],
   "source": [
    "%%time\n",
    "\n",
    "events = getEvents(\n",
    "    close=df['close'],\n",
    "    tEvents=t_events, \n",
    "    ptSl=[.5,.5], \n",
    "    trgt=trgt, \n",
    "    minRet=minRet, \n",
    "    numThreads=16, \n",
    "    t1=t1, \n",
    "    side=None\n",
    ")"
   ]
  },
  {
   "cell_type": "code",
   "execution_count": 18,
   "id": "9957def4-4cb8-40cf-a103-76098e8b739e",
   "metadata": {},
   "outputs": [
    {
     "data": {
      "text/html": [
       "<div>\n",
       "<style scoped>\n",
       "    .dataframe tbody tr th:only-of-type {\n",
       "        vertical-align: middle;\n",
       "    }\n",
       "\n",
       "    .dataframe tbody tr th {\n",
       "        vertical-align: top;\n",
       "    }\n",
       "\n",
       "    .dataframe thead th {\n",
       "        text-align: right;\n",
       "    }\n",
       "</style>\n",
       "<table border=\"1\" class=\"dataframe\">\n",
       "  <thead>\n",
       "    <tr style=\"text-align: right;\">\n",
       "      <th></th>\n",
       "      <th>t1</th>\n",
       "      <th>trgt</th>\n",
       "    </tr>\n",
       "    <tr>\n",
       "      <th>timestamp</th>\n",
       "      <th></th>\n",
       "      <th></th>\n",
       "    </tr>\n",
       "  </thead>\n",
       "  <tbody>\n",
       "    <tr>\n",
       "      <th>2021-01-04 00:01:00</th>\n",
       "      <td>2021-01-04 00:04:00</td>\n",
       "      <td>0.000158</td>\n",
       "    </tr>\n",
       "    <tr>\n",
       "      <th>2021-01-04 00:05:00</th>\n",
       "      <td>2021-01-04 00:06:00</td>\n",
       "      <td>0.000180</td>\n",
       "    </tr>\n",
       "    <tr>\n",
       "      <th>2021-01-04 00:10:00</th>\n",
       "      <td>2021-01-04 00:11:00</td>\n",
       "      <td>0.000203</td>\n",
       "    </tr>\n",
       "    <tr>\n",
       "      <th>2021-01-04 00:17:00</th>\n",
       "      <td>2021-01-04 00:20:00</td>\n",
       "      <td>0.000187</td>\n",
       "    </tr>\n",
       "    <tr>\n",
       "      <th>2021-01-04 00:27:00</th>\n",
       "      <td>2021-01-04 00:28:00</td>\n",
       "      <td>0.000151</td>\n",
       "    </tr>\n",
       "  </tbody>\n",
       "</table>\n",
       "</div>"
      ],
      "text/plain": [
       "                                     t1      trgt\n",
       "timestamp                                        \n",
       "2021-01-04 00:01:00 2021-01-04 00:04:00  0.000158\n",
       "2021-01-04 00:05:00 2021-01-04 00:06:00  0.000180\n",
       "2021-01-04 00:10:00 2021-01-04 00:11:00  0.000203\n",
       "2021-01-04 00:17:00 2021-01-04 00:20:00  0.000187\n",
       "2021-01-04 00:27:00 2021-01-04 00:28:00  0.000151"
      ]
     },
     "execution_count": 18,
     "metadata": {},
     "output_type": "execute_result"
    }
   ],
   "source": [
    "events.head()"
   ]
  },
  {
   "cell_type": "code",
   "execution_count": 19,
   "id": "4a5aeeb1-f536-4089-918f-b4b1f4722d53",
   "metadata": {},
   "outputs": [],
   "source": [
    "events = events.dropna().copy()"
   ]
  },
  {
   "cell_type": "markdown",
   "id": "8ee81137-c135-429c-8eb4-e119dd90e81b",
   "metadata": {},
   "source": [
    "# Keep only intraday events"
   ]
  },
  {
   "cell_type": "code",
   "execution_count": 20,
   "id": "5c86ef05-1f38-45c7-8a72-6bf47b0f0711",
   "metadata": {},
   "outputs": [],
   "source": [
    "events = events[events.index.date==events.t1.dt.date]"
   ]
  },
  {
   "cell_type": "markdown",
   "id": "aab67fbb-c308-49a4-b962-c683b44eaeee",
   "metadata": {},
   "source": [
    "## Create classification labels"
   ]
  },
  {
   "cell_type": "code",
   "execution_count": 21,
   "id": "418be389-de4d-4684-8817-239f42addbe3",
   "metadata": {},
   "outputs": [],
   "source": [
    "def getBins(events, close, t1=None):\n",
    "    '''\n",
    "    Compute event's outcome (including side information, if provided).\n",
    "    events is a DataFrame where:\n",
    "    -events.index is event's starttime\n",
    "    -events['t1'] is event's endtime\n",
    "    -events['trgt'] is event's target\n",
    "    -events['side'] (optional) implies the algo's position side\n",
    "    -t1 is original vertical barrier series\n",
    "    Case 1: ('side' not in events): bin in (-1,1) <-label by price action\n",
    "    Case 2: ('side' in events): bin in (0,1) <-label by pnl (meta-labeling)\n",
    "    '''\n",
    "    # 1) prices aligned with events\n",
    "    events_ = events.dropna(subset=['t1'])\n",
    "    px = events_.index.union(events_['t1'].values).drop_duplicates()\n",
    "    px = close.reindex(px, method='bfill')\n",
    "    # 2) create out object\n",
    "    out = pd.DataFrame(index=events_.index)\n",
    "    out['ret'] = px.loc[events_['t1'].values].values / px.loc[\n",
    "        events_.index] - 1\n",
    "    if 'side' in events_: out['ret'] *= events_['side']  # meta-labeling\n",
    "    out['bin'] = np.sign(out['ret'])\n",
    "\n",
    "    if 'side' not in events_:\n",
    "        # only applies when not meta-labeling.\n",
    "        # to update bin to 0 when vertical barrier is touched, we need the\n",
    "        # original vertical barrier series since the events['t1'] is the time\n",
    "        # of first touch of any barrier and not the vertical barrier\n",
    "        # specifically. The index of the intersection of the vertical barrier\n",
    "        # values and the events['t1'] values indicate which bin labels needs\n",
    "        # to be turned to 0.\n",
    "        vtouch_first_idx = events[events['t1'].isin(t1.values)].index\n",
    "        out.loc[vtouch_first_idx, 'bin'] = 0.\n",
    "\n",
    "    if 'side' in events_: out.loc[out['ret'] <= 0, 'bin'] = 0  # meta-labeling\n",
    "    return out"
   ]
  },
  {
   "cell_type": "code",
   "execution_count": 22,
   "id": "b6456d95-60e3-4e68-9784-05d0c809d385",
   "metadata": {
    "scrolled": true
   },
   "outputs": [
    {
     "data": {
      "text/html": [
       "<div>\n",
       "<style scoped>\n",
       "    .dataframe tbody tr th:only-of-type {\n",
       "        vertical-align: middle;\n",
       "    }\n",
       "\n",
       "    .dataframe tbody tr th {\n",
       "        vertical-align: top;\n",
       "    }\n",
       "\n",
       "    .dataframe thead th {\n",
       "        text-align: right;\n",
       "    }\n",
       "</style>\n",
       "<table border=\"1\" class=\"dataframe\">\n",
       "  <thead>\n",
       "    <tr style=\"text-align: right;\">\n",
       "      <th></th>\n",
       "      <th>ret</th>\n",
       "      <th>bin</th>\n",
       "    </tr>\n",
       "    <tr>\n",
       "      <th>timestamp</th>\n",
       "      <th></th>\n",
       "      <th></th>\n",
       "    </tr>\n",
       "  </thead>\n",
       "  <tbody>\n",
       "    <tr>\n",
       "      <th>2021-01-04 00:01:00</th>\n",
       "      <td>0.000136</td>\n",
       "      <td>1.0</td>\n",
       "    </tr>\n",
       "    <tr>\n",
       "      <th>2021-01-04 00:05:00</th>\n",
       "      <td>-0.000150</td>\n",
       "      <td>-1.0</td>\n",
       "    </tr>\n",
       "    <tr>\n",
       "      <th>2021-01-04 00:10:00</th>\n",
       "      <td>-0.000223</td>\n",
       "      <td>-1.0</td>\n",
       "    </tr>\n",
       "    <tr>\n",
       "      <th>2021-01-04 00:17:00</th>\n",
       "      <td>-0.000170</td>\n",
       "      <td>-1.0</td>\n",
       "    </tr>\n",
       "    <tr>\n",
       "      <th>2021-01-04 00:27:00</th>\n",
       "      <td>-0.000082</td>\n",
       "      <td>-1.0</td>\n",
       "    </tr>\n",
       "    <tr>\n",
       "      <th>...</th>\n",
       "      <td>...</td>\n",
       "      <td>...</td>\n",
       "    </tr>\n",
       "    <tr>\n",
       "      <th>2024-12-30 18:00:00</th>\n",
       "      <td>0.000073</td>\n",
       "      <td>1.0</td>\n",
       "    </tr>\n",
       "    <tr>\n",
       "      <th>2024-12-30 18:36:00</th>\n",
       "      <td>0.000064</td>\n",
       "      <td>1.0</td>\n",
       "    </tr>\n",
       "    <tr>\n",
       "      <th>2024-12-30 21:00:00</th>\n",
       "      <td>-0.000319</td>\n",
       "      <td>-1.0</td>\n",
       "    </tr>\n",
       "    <tr>\n",
       "      <th>2024-12-30 21:01:00</th>\n",
       "      <td>0.000137</td>\n",
       "      <td>1.0</td>\n",
       "    </tr>\n",
       "    <tr>\n",
       "      <th>2024-12-30 21:06:00</th>\n",
       "      <td>-0.000118</td>\n",
       "      <td>-1.0</td>\n",
       "    </tr>\n",
       "  </tbody>\n",
       "</table>\n",
       "<p>198068 rows × 2 columns</p>\n",
       "</div>"
      ],
      "text/plain": [
       "                          ret  bin\n",
       "timestamp                         \n",
       "2021-01-04 00:01:00  0.000136  1.0\n",
       "2021-01-04 00:05:00 -0.000150 -1.0\n",
       "2021-01-04 00:10:00 -0.000223 -1.0\n",
       "2021-01-04 00:17:00 -0.000170 -1.0\n",
       "2021-01-04 00:27:00 -0.000082 -1.0\n",
       "...                       ...  ...\n",
       "2024-12-30 18:00:00  0.000073  1.0\n",
       "2024-12-30 18:36:00  0.000064  1.0\n",
       "2024-12-30 21:00:00 -0.000319 -1.0\n",
       "2024-12-30 21:01:00  0.000137  1.0\n",
       "2024-12-30 21:06:00 -0.000118 -1.0\n",
       "\n",
       "[198068 rows x 2 columns]"
      ]
     },
     "execution_count": 22,
     "metadata": {},
     "output_type": "execute_result"
    }
   ],
   "source": [
    "labels = getBins(events, df['close'], t1=t1)\n",
    "labels"
   ]
  },
  {
   "cell_type": "code",
   "execution_count": 23,
   "id": "77797461-e6ba-4f39-abe8-490d69bcbbdf",
   "metadata": {},
   "outputs": [
    {
     "data": {
      "text/plain": [
       "bin\n",
       " 1.0    72719\n",
       "-1.0    70944\n",
       " 0.0    54405\n",
       "Name: count, dtype: int64"
      ]
     },
     "execution_count": 23,
     "metadata": {},
     "output_type": "execute_result"
    }
   ],
   "source": [
    "labels.bin.value_counts()"
   ]
  },
  {
   "cell_type": "code",
   "execution_count": 24,
   "id": "acd4019c-4d46-4825-a78c-b89aa690a975",
   "metadata": {},
   "outputs": [],
   "source": [
    "labels[\"bin_class\"] = labels[\"bin\"] + 1"
   ]
  },
  {
   "cell_type": "code",
   "execution_count": 25,
   "id": "0a0bdb6d-6728-4e5b-81b5-37524fbd69bc",
   "metadata": {},
   "outputs": [],
   "source": [
    "labeled_events = events.join(labels, how='inner')"
   ]
  },
  {
   "cell_type": "code",
   "execution_count": 26,
   "id": "d98e772d-a880-4563-b0ba-669f05206956",
   "metadata": {},
   "outputs": [
    {
     "data": {
      "text/html": [
       "<div>\n",
       "<style scoped>\n",
       "    .dataframe tbody tr th:only-of-type {\n",
       "        vertical-align: middle;\n",
       "    }\n",
       "\n",
       "    .dataframe tbody tr th {\n",
       "        vertical-align: top;\n",
       "    }\n",
       "\n",
       "    .dataframe thead th {\n",
       "        text-align: right;\n",
       "    }\n",
       "</style>\n",
       "<table border=\"1\" class=\"dataframe\">\n",
       "  <thead>\n",
       "    <tr style=\"text-align: right;\">\n",
       "      <th></th>\n",
       "      <th>t1</th>\n",
       "      <th>trgt</th>\n",
       "      <th>ret</th>\n",
       "      <th>bin</th>\n",
       "      <th>bin_class</th>\n",
       "    </tr>\n",
       "    <tr>\n",
       "      <th>timestamp</th>\n",
       "      <th></th>\n",
       "      <th></th>\n",
       "      <th></th>\n",
       "      <th></th>\n",
       "      <th></th>\n",
       "    </tr>\n",
       "  </thead>\n",
       "  <tbody>\n",
       "    <tr>\n",
       "      <th>2021-01-04 00:01:00</th>\n",
       "      <td>2021-01-04 00:04:00</td>\n",
       "      <td>0.000158</td>\n",
       "      <td>0.000136</td>\n",
       "      <td>1.0</td>\n",
       "      <td>2.0</td>\n",
       "    </tr>\n",
       "    <tr>\n",
       "      <th>2021-01-04 00:05:00</th>\n",
       "      <td>2021-01-04 00:06:00</td>\n",
       "      <td>0.000180</td>\n",
       "      <td>-0.000150</td>\n",
       "      <td>-1.0</td>\n",
       "      <td>0.0</td>\n",
       "    </tr>\n",
       "    <tr>\n",
       "      <th>2021-01-04 00:10:00</th>\n",
       "      <td>2021-01-04 00:11:00</td>\n",
       "      <td>0.000203</td>\n",
       "      <td>-0.000223</td>\n",
       "      <td>-1.0</td>\n",
       "      <td>0.0</td>\n",
       "    </tr>\n",
       "    <tr>\n",
       "      <th>2021-01-04 00:17:00</th>\n",
       "      <td>2021-01-04 00:20:00</td>\n",
       "      <td>0.000187</td>\n",
       "      <td>-0.000170</td>\n",
       "      <td>-1.0</td>\n",
       "      <td>0.0</td>\n",
       "    </tr>\n",
       "    <tr>\n",
       "      <th>2021-01-04 00:27:00</th>\n",
       "      <td>2021-01-04 00:28:00</td>\n",
       "      <td>0.000151</td>\n",
       "      <td>-0.000082</td>\n",
       "      <td>-1.0</td>\n",
       "      <td>0.0</td>\n",
       "    </tr>\n",
       "  </tbody>\n",
       "</table>\n",
       "</div>"
      ],
      "text/plain": [
       "                                     t1      trgt       ret  bin  bin_class\n",
       "timestamp                                                                  \n",
       "2021-01-04 00:01:00 2021-01-04 00:04:00  0.000158  0.000136  1.0        2.0\n",
       "2021-01-04 00:05:00 2021-01-04 00:06:00  0.000180 -0.000150 -1.0        0.0\n",
       "2021-01-04 00:10:00 2021-01-04 00:11:00  0.000203 -0.000223 -1.0        0.0\n",
       "2021-01-04 00:17:00 2021-01-04 00:20:00  0.000187 -0.000170 -1.0        0.0\n",
       "2021-01-04 00:27:00 2021-01-04 00:28:00  0.000151 -0.000082 -1.0        0.0"
      ]
     },
     "execution_count": 26,
     "metadata": {},
     "output_type": "execute_result"
    }
   ],
   "source": [
    "labeled_events.head()"
   ]
  },
  {
   "cell_type": "markdown",
   "id": "3af8865a-8684-4dc0-b539-9fba6ad656e2",
   "metadata": {},
   "source": [
    "## Calculate Concurrency"
   ]
  },
  {
   "cell_type": "code",
   "execution_count": 27,
   "id": "87e9c751-a80b-4b71-9229-280a8716c339",
   "metadata": {},
   "outputs": [],
   "source": [
    "def get_concurrency(events, price_index):\n",
    "    \"\"\"\n",
    "    Calculate concurrency: number of overlapping events at each time.\n",
    "    \n",
    "    Args:\n",
    "        events (pd.DataFrame): Must have 't1' column with index as start time.\n",
    "        price_index (pd.DatetimeIndex): Full time index (e.g., from your OHLCV data).\n",
    "        \n",
    "    Returns:\n",
    "        pd.Series: concurrency count indexed by time.\n",
    "    \"\"\"\n",
    "    concurrency = pd.Series(0, index=price_index)\n",
    "\n",
    "    for start, end in events['t1'].items():\n",
    "        concurrency[start:end] += 1\n",
    "\n",
    "    return concurrency\n"
   ]
  },
  {
   "cell_type": "code",
   "execution_count": 28,
   "id": "9914f75f-ed72-41ae-819d-041cc4ec9c9e",
   "metadata": {
    "scrolled": true
   },
   "outputs": [],
   "source": [
    "# Let's say your OHLCV data or close series has this index\n",
    "price_index = df.index  # or df_ohlcv.index\n",
    "\n",
    "concurrency = get_concurrency(events=labeled_events, price_index=price_index)"
   ]
  },
  {
   "cell_type": "code",
   "execution_count": 29,
   "id": "db28568e-1af7-4e43-ba38-44513333e792",
   "metadata": {},
   "outputs": [
    {
     "data": {
      "text/plain": [
       "(array([9.60476e+05, 4.32927e+05, 8.66300e+04, 5.97700e+03, 8.57000e+02,\n",
       "        2.37000e+02, 7.50000e+01, 1.90000e+01, 6.00000e+00, 3.00000e+00]),\n",
       " array([ 0.,  1.,  2.,  3.,  4.,  5.,  6.,  7.,  8.,  9., 10.]),\n",
       " <BarContainer object of 10 artists>)"
      ]
     },
     "execution_count": 29,
     "metadata": {},
     "output_type": "execute_result"
    },
    {
     "data": {
      "image/png": "[encoded data removed]",
      "text/plain": [
       "<Figure size 640x480 with 1 Axes>"
      ]
     },
     "metadata": {},
     "output_type": "display_data"
    }
   ],
   "source": [
    "plt.hist(concurrency)"
   ]
  },
  {
   "cell_type": "markdown",
   "id": "04e1d417-f66b-4226-9405-b1a7aa139714",
   "metadata": {},
   "source": [
    "## Save events to disk"
   ]
  },
  {
   "cell_type": "code",
   "execution_count": 30,
   "id": "c0da0c87-e344-4aee-ad9c-f24b36ffaed5",
   "metadata": {},
   "outputs": [],
   "source": [
    "labeled_events.to_pickle(DIRECTION_LABEL_FILE_PATH)"
   ]
  },
  {
   "cell_type": "code",
   "execution_count": 31,
   "id": "7672bf3e-28cf-41fd-ac2c-f6b453930c77",
   "metadata": {},
   "outputs": [
    {
     "data": {
      "text/plain": [
       "PosixPath('../data/direction_labels/USDJPY-1m-20210101-20241231-CUSUM.pkl')"
      ]
     },
     "execution_count": 31,
     "metadata": {},
     "output_type": "execute_result"
    }
   ],
   "source": [
    "DIRECTION_LABEL_FILE_PATH"
   ]
  }
 ],
 "metadata": {
  "kernelspec": {
   "display_name": "Python 3 (ipykernel)",
   "language": "python",
   "name": "python3"
  },
  "language_info": {
   "codemirror_mode": {
    "name": "ipython",
    "version": 3
   },
   "file_extension": ".py",
   "mimetype": "text/x-python",
   "name": "python",
   "nbconvert_exporter": "python",
   "pygments_lexer": "ipython3",
   "version": "3.11.13"
  },
  "widgets": {
   "application/vnd.jupyter.widget-state+json": {
    "state": {},
    "version_major": 2,
    "version_minor": 0
   }
  }
 },
 "nbformat": 4,
 "nbformat_minor": 5
}
