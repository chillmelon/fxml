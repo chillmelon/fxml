{
 "cells": [
  {
   "cell_type": "code",
   "execution_count": 7,
   "id": "8c6d6f1f-0017-4810-9328-099f68c7c6e2",
   "metadata": {},
   "outputs": [],
   "source": [
    "import pandas as pd\n",
    "import matplotlib.pyplot as plt\n",
    "from matplotlib.ticker import FormatStrFormatter\n",
    "\n",
    "import os"
   ]
  },
  {
   "cell_type": "code",
   "execution_count": 8,
   "id": "bf14af0e-a692-419c-a591-5feaf1601bf9",
   "metadata": {},
   "outputs": [],
   "source": [
    "from pathlib import Path\n",
    "\n",
    "# Configurable parts\n",
    "SOURCE = \"dukascopy\"\n",
    "SYMBOL = \"usdjpy\"\n",
    "EVENT = '58m-dollar'\n",
    "START_DATE = \"2020-01-01\"\n",
    "END_DATE = \"2024-12-31\"\n",
    "\n",
    "# Build base name\n",
    "BASE_NAME = f\"{SOURCE}-{SYMBOL}-tick-{START_DATE}-{END_DATE}\"\n",
    "RESAMPLED_NAME = f\"{SOURCE}-{SYMBOL}-{EVENT}-{START_DATE}-{END_DATE}\"\n",
    "\n",
    "# Base directories\n",
    "BASE_DIR = Path(\"../data\")\n",
    "RESAMPLED_DIR = BASE_DIR / \"resampled\"\n",
    "\n",
    "# Final paths\n",
    "RESAMPLED_FILE_PATH = RESAMPLED_DIR / f\"{RESAMPLED_NAME}.pkl\""
   ]
  },
  {
   "cell_type": "code",
   "execution_count": 9,
   "id": "c95146f2-e32f-4954-a38e-afd492fa82be",
   "metadata": {},
   "outputs": [],
   "source": [
    "EVENT_NAME = 'cusum_filter'\n",
    "DIRECTION_LABEL_DIR = BASE_DIR / \"direction_labels\"\n",
    "DIRECTION_LABEL_DIR.mkdir(parents=True, exist_ok=True)\n",
    "DIRECTION_LABEL_FILE_PATH = DIRECTION_LABEL_DIR / f\"{RESAMPLED_NAME}-{EVENT_NAME}.pkl\""
   ]
  },
  {
   "cell_type": "code",
   "execution_count": 10,
   "id": "79e659aa-5b8f-43d4-aa7f-3fe6cd7e5bd7",
   "metadata": {},
   "outputs": [
    {
     "name": "stdout",
     "output_type": "stream",
     "text": [
      "CPU times: user 1.19 ms, sys: 29.4 ms, total: 30.6 ms\n",
      "Wall time: 28.9 ms\n"
     ]
    }
   ],
   "source": [
    "%%time\n",
    "df = pd.read_pickle(RESAMPLED_FILE_PATH)"
   ]
  },
  {
   "cell_type": "code",
   "execution_count": 11,
   "id": "9131f49d-2e9f-44bf-8e42-09187bf1e80c",
   "metadata": {},
   "outputs": [],
   "source": [
    "labels_df = pd.read_pickle(DIRECTION_LABEL_FILE_PATH)"
   ]
  },
  {
   "cell_type": "code",
   "execution_count": 12,
   "id": "5144b8ba-6032-4d30-ada2-1ce9edeaf2b6",
   "metadata": {},
   "outputs": [
    {
     "ename": "KeyError",
     "evalue": "\"None of [DatetimeIndex(['2020-01-01 23:21:26.690000', '2020-01-02 00:17:03.844000',\\n               '2020-01-02 00:41:29.036000', '2020-01-02 00:57:40.782000',\\n               '2020-01-02 01:04:50.810000', '2020-01-02 01:09:57.381000',\\n               '2020-01-02 01:15:32.427000', '2020-01-02 01:21:13.847000',\\n               '2020-01-02 01:59:56.630000', '2020-01-02 02:02:34.086000',\\n               ...\\n               '2024-12-30 23:06:27.988000', '2024-12-30 23:08:12.101000',\\n               '2024-12-30 23:13:31.707000', '2024-12-30 23:17:32.270000',\\n               '2024-12-30 23:20:43.878000', '2024-12-30 23:32:26.048000',\\n               '2024-12-30 23:34:02.941000', '2024-12-30 23:38:17.708000',\\n               '2024-12-30 23:40:27.389000', '2024-12-30 23:46:24.916000'],\\n              dtype='datetime64[ns]', name='timestamp', length=693869, freq=None)] are in the [index]\"",
     "output_type": "error",
     "traceback": [
      "\u001b[31m---------------------------------------------------------------------------\u001b[39m",
      "\u001b[31mKeyError\u001b[39m                                  Traceback (most recent call last)",
      "\u001b[36mCell\u001b[39m\u001b[36m \u001b[39m\u001b[32mIn[12]\u001b[39m\u001b[32m, line 1\u001b[39m\n\u001b[32m----> \u001b[39m\u001b[32m1\u001b[39m \u001b[43mdf\u001b[49m\u001b[43m.\u001b[49m\u001b[43mloc\u001b[49m\u001b[43m[\u001b[49m\u001b[43mlabels_df\u001b[49m\u001b[43m.\u001b[49m\u001b[43mindex\u001b[49m\u001b[43m]\u001b[49m\n",
      "\u001b[36mFile \u001b[39m\u001b[32m~/personal/fxml/.venv/lib/python3.11/site-packages/pandas/core/indexing.py:1191\u001b[39m, in \u001b[36m_LocationIndexer.__getitem__\u001b[39m\u001b[34m(self, key)\u001b[39m\n\u001b[32m   1189\u001b[39m maybe_callable = com.apply_if_callable(key, \u001b[38;5;28mself\u001b[39m.obj)\n\u001b[32m   1190\u001b[39m maybe_callable = \u001b[38;5;28mself\u001b[39m._check_deprecated_callable_usage(key, maybe_callable)\n\u001b[32m-> \u001b[39m\u001b[32m1191\u001b[39m \u001b[38;5;28;01mreturn\u001b[39;00m \u001b[38;5;28;43mself\u001b[39;49m\u001b[43m.\u001b[49m\u001b[43m_getitem_axis\u001b[49m\u001b[43m(\u001b[49m\u001b[43mmaybe_callable\u001b[49m\u001b[43m,\u001b[49m\u001b[43m \u001b[49m\u001b[43maxis\u001b[49m\u001b[43m=\u001b[49m\u001b[43maxis\u001b[49m\u001b[43m)\u001b[49m\n",
      "\u001b[36mFile \u001b[39m\u001b[32m~/personal/fxml/.venv/lib/python3.11/site-packages/pandas/core/indexing.py:1420\u001b[39m, in \u001b[36m_LocIndexer._getitem_axis\u001b[39m\u001b[34m(self, key, axis)\u001b[39m\n\u001b[32m   1417\u001b[39m     \u001b[38;5;28;01mif\u001b[39;00m \u001b[38;5;28mhasattr\u001b[39m(key, \u001b[33m\"\u001b[39m\u001b[33mndim\u001b[39m\u001b[33m\"\u001b[39m) \u001b[38;5;129;01mand\u001b[39;00m key.ndim > \u001b[32m1\u001b[39m:\n\u001b[32m   1418\u001b[39m         \u001b[38;5;28;01mraise\u001b[39;00m \u001b[38;5;167;01mValueError\u001b[39;00m(\u001b[33m\"\u001b[39m\u001b[33mCannot index with multidimensional key\u001b[39m\u001b[33m\"\u001b[39m)\n\u001b[32m-> \u001b[39m\u001b[32m1420\u001b[39m     \u001b[38;5;28;01mreturn\u001b[39;00m \u001b[38;5;28;43mself\u001b[39;49m\u001b[43m.\u001b[49m\u001b[43m_getitem_iterable\u001b[49m\u001b[43m(\u001b[49m\u001b[43mkey\u001b[49m\u001b[43m,\u001b[49m\u001b[43m \u001b[49m\u001b[43maxis\u001b[49m\u001b[43m=\u001b[49m\u001b[43maxis\u001b[49m\u001b[43m)\u001b[49m\n\u001b[32m   1422\u001b[39m \u001b[38;5;66;03m# nested tuple slicing\u001b[39;00m\n\u001b[32m   1423\u001b[39m \u001b[38;5;28;01mif\u001b[39;00m is_nested_tuple(key, labels):\n",
      "\u001b[36mFile \u001b[39m\u001b[32m~/personal/fxml/.venv/lib/python3.11/site-packages/pandas/core/indexing.py:1360\u001b[39m, in \u001b[36m_LocIndexer._getitem_iterable\u001b[39m\u001b[34m(self, key, axis)\u001b[39m\n\u001b[32m   1357\u001b[39m \u001b[38;5;28mself\u001b[39m._validate_key(key, axis)\n\u001b[32m   1359\u001b[39m \u001b[38;5;66;03m# A collection of keys\u001b[39;00m\n\u001b[32m-> \u001b[39m\u001b[32m1360\u001b[39m keyarr, indexer = \u001b[38;5;28;43mself\u001b[39;49m\u001b[43m.\u001b[49m\u001b[43m_get_listlike_indexer\u001b[49m\u001b[43m(\u001b[49m\u001b[43mkey\u001b[49m\u001b[43m,\u001b[49m\u001b[43m \u001b[49m\u001b[43maxis\u001b[49m\u001b[43m)\u001b[49m\n\u001b[32m   1361\u001b[39m \u001b[38;5;28;01mreturn\u001b[39;00m \u001b[38;5;28mself\u001b[39m.obj._reindex_with_indexers(\n\u001b[32m   1362\u001b[39m     {axis: [keyarr, indexer]}, copy=\u001b[38;5;28;01mTrue\u001b[39;00m, allow_dups=\u001b[38;5;28;01mTrue\u001b[39;00m\n\u001b[32m   1363\u001b[39m )\n",
      "\u001b[36mFile \u001b[39m\u001b[32m~/personal/fxml/.venv/lib/python3.11/site-packages/pandas/core/indexing.py:1558\u001b[39m, in \u001b[36m_LocIndexer._get_listlike_indexer\u001b[39m\u001b[34m(self, key, axis)\u001b[39m\n\u001b[32m   1555\u001b[39m ax = \u001b[38;5;28mself\u001b[39m.obj._get_axis(axis)\n\u001b[32m   1556\u001b[39m axis_name = \u001b[38;5;28mself\u001b[39m.obj._get_axis_name(axis)\n\u001b[32m-> \u001b[39m\u001b[32m1558\u001b[39m keyarr, indexer = \u001b[43max\u001b[49m\u001b[43m.\u001b[49m\u001b[43m_get_indexer_strict\u001b[49m\u001b[43m(\u001b[49m\u001b[43mkey\u001b[49m\u001b[43m,\u001b[49m\u001b[43m \u001b[49m\u001b[43maxis_name\u001b[49m\u001b[43m)\u001b[49m\n\u001b[32m   1560\u001b[39m \u001b[38;5;28;01mreturn\u001b[39;00m keyarr, indexer\n",
      "\u001b[36mFile \u001b[39m\u001b[32m~/personal/fxml/.venv/lib/python3.11/site-packages/pandas/core/indexes/base.py:6212\u001b[39m, in \u001b[36mIndex._get_indexer_strict\u001b[39m\u001b[34m(self, key, axis_name)\u001b[39m\n\u001b[32m   6209\u001b[39m \u001b[38;5;28;01melse\u001b[39;00m:\n\u001b[32m   6210\u001b[39m     keyarr, indexer, new_indexer = \u001b[38;5;28mself\u001b[39m._reindex_non_unique(keyarr)\n\u001b[32m-> \u001b[39m\u001b[32m6212\u001b[39m \u001b[38;5;28;43mself\u001b[39;49m\u001b[43m.\u001b[49m\u001b[43m_raise_if_missing\u001b[49m\u001b[43m(\u001b[49m\u001b[43mkeyarr\u001b[49m\u001b[43m,\u001b[49m\u001b[43m \u001b[49m\u001b[43mindexer\u001b[49m\u001b[43m,\u001b[49m\u001b[43m \u001b[49m\u001b[43maxis_name\u001b[49m\u001b[43m)\u001b[49m\n\u001b[32m   6214\u001b[39m keyarr = \u001b[38;5;28mself\u001b[39m.take(indexer)\n\u001b[32m   6215\u001b[39m \u001b[38;5;28;01mif\u001b[39;00m \u001b[38;5;28misinstance\u001b[39m(key, Index):\n\u001b[32m   6216\u001b[39m     \u001b[38;5;66;03m# GH 42790 - Preserve name from an Index\u001b[39;00m\n",
      "\u001b[36mFile \u001b[39m\u001b[32m~/personal/fxml/.venv/lib/python3.11/site-packages/pandas/core/indexes/base.py:6261\u001b[39m, in \u001b[36mIndex._raise_if_missing\u001b[39m\u001b[34m(self, key, indexer, axis_name)\u001b[39m\n\u001b[32m   6259\u001b[39m \u001b[38;5;28;01mif\u001b[39;00m nmissing:\n\u001b[32m   6260\u001b[39m     \u001b[38;5;28;01mif\u001b[39;00m nmissing == \u001b[38;5;28mlen\u001b[39m(indexer):\n\u001b[32m-> \u001b[39m\u001b[32m6261\u001b[39m         \u001b[38;5;28;01mraise\u001b[39;00m \u001b[38;5;167;01mKeyError\u001b[39;00m(\u001b[33mf\u001b[39m\u001b[33m\"\u001b[39m\u001b[33mNone of [\u001b[39m\u001b[38;5;132;01m{\u001b[39;00mkey\u001b[38;5;132;01m}\u001b[39;00m\u001b[33m] are in the [\u001b[39m\u001b[38;5;132;01m{\u001b[39;00maxis_name\u001b[38;5;132;01m}\u001b[39;00m\u001b[33m]\u001b[39m\u001b[33m\"\u001b[39m)\n\u001b[32m   6263\u001b[39m     not_found = \u001b[38;5;28mlist\u001b[39m(ensure_index(key)[missing_mask.nonzero()[\u001b[32m0\u001b[39m]].unique())\n\u001b[32m   6264\u001b[39m     \u001b[38;5;28;01mraise\u001b[39;00m \u001b[38;5;167;01mKeyError\u001b[39;00m(\u001b[33mf\u001b[39m\u001b[33m\"\u001b[39m\u001b[38;5;132;01m{\u001b[39;00mnot_found\u001b[38;5;132;01m}\u001b[39;00m\u001b[33m not in index\u001b[39m\u001b[33m\"\u001b[39m)\n",
      "\u001b[31mKeyError\u001b[39m: \"None of [DatetimeIndex(['2020-01-01 23:21:26.690000', '2020-01-02 00:17:03.844000',\\n               '2020-01-02 00:41:29.036000', '2020-01-02 00:57:40.782000',\\n               '2020-01-02 01:04:50.810000', '2020-01-02 01:09:57.381000',\\n               '2020-01-02 01:15:32.427000', '2020-01-02 01:21:13.847000',\\n               '2020-01-02 01:59:56.630000', '2020-01-02 02:02:34.086000',\\n               ...\\n               '2024-12-30 23:06:27.988000', '2024-12-30 23:08:12.101000',\\n               '2024-12-30 23:13:31.707000', '2024-12-30 23:17:32.270000',\\n               '2024-12-30 23:20:43.878000', '2024-12-30 23:32:26.048000',\\n               '2024-12-30 23:34:02.941000', '2024-12-30 23:38:17.708000',\\n               '2024-12-30 23:40:27.389000', '2024-12-30 23:46:24.916000'],\\n              dtype='datetime64[ns]', name='timestamp', length=693869, freq=None)] are in the [index]\""
     ]
    }
   ],
   "source": [
    "df.loc[labels_df.index]"
   ]
  },
  {
   "cell_type": "code",
   "execution_count": 5,
   "id": "29b2da6f-1a60-4d08-9aee-a4c43083818c",
   "metadata": {},
   "outputs": [
    {
     "data": {
      "text/plain": [
       "(1822488, 7)"
      ]
     },
     "execution_count": 5,
     "metadata": {},
     "output_type": "execute_result"
    }
   ],
   "source": [
    "df.shape"
   ]
  },
  {
   "cell_type": "code",
   "execution_count": 6,
   "id": "68bbc439-d03b-4275-af93-8b978a790a4b",
   "metadata": {},
   "outputs": [
    {
     "data": {
      "text/html": [
       "<div>\n",
       "<style scoped>\n",
       "    .dataframe tbody tr th:only-of-type {\n",
       "        vertical-align: middle;\n",
       "    }\n",
       "\n",
       "    .dataframe tbody tr th {\n",
       "        vertical-align: top;\n",
       "    }\n",
       "\n",
       "    .dataframe thead th {\n",
       "        text-align: right;\n",
       "    }\n",
       "</style>\n",
       "<table border=\"1\" class=\"dataframe\">\n",
       "  <thead>\n",
       "    <tr style=\"text-align: right;\">\n",
       "      <th></th>\n",
       "      <th>timestamp</th>\n",
       "      <th>open</th>\n",
       "      <th>high</th>\n",
       "      <th>low</th>\n",
       "      <th>close</th>\n",
       "      <th>volume</th>\n",
       "      <th>spread</th>\n",
       "    </tr>\n",
       "  </thead>\n",
       "  <tbody>\n",
       "    <tr>\n",
       "      <th>0</th>\n",
       "      <td>2020-01-01 22:06:51.864</td>\n",
       "      <td>108.7580</td>\n",
       "      <td>108.7700</td>\n",
       "      <td>108.7495</td>\n",
       "      <td>108.7565</td>\n",
       "      <td>534640.000865</td>\n",
       "      <td>0.027887</td>\n",
       "    </tr>\n",
       "    <tr>\n",
       "      <th>1</th>\n",
       "      <td>2020-01-01 22:07:29.989</td>\n",
       "      <td>108.7595</td>\n",
       "      <td>108.7615</td>\n",
       "      <td>108.7510</td>\n",
       "      <td>108.7595</td>\n",
       "      <td>533939.994574</td>\n",
       "      <td>0.020597</td>\n",
       "    </tr>\n",
       "    <tr>\n",
       "      <th>2</th>\n",
       "      <td>2020-01-01 22:08:54.106</td>\n",
       "      <td>108.7605</td>\n",
       "      <td>108.7645</td>\n",
       "      <td>108.7495</td>\n",
       "      <td>108.7575</td>\n",
       "      <td>535240.000248</td>\n",
       "      <td>0.022207</td>\n",
       "    </tr>\n",
       "    <tr>\n",
       "      <th>3</th>\n",
       "      <td>2020-01-01 22:09:47.753</td>\n",
       "      <td>108.7565</td>\n",
       "      <td>108.7625</td>\n",
       "      <td>108.7460</td>\n",
       "      <td>108.7495</td>\n",
       "      <td>535280.000806</td>\n",
       "      <td>0.032033</td>\n",
       "    </tr>\n",
       "    <tr>\n",
       "      <th>4</th>\n",
       "      <td>2020-01-01 22:13:29.431</td>\n",
       "      <td>108.7495</td>\n",
       "      <td>108.7600</td>\n",
       "      <td>108.6495</td>\n",
       "      <td>108.7455</td>\n",
       "      <td>534949.996591</td>\n",
       "      <td>0.024844</td>\n",
       "    </tr>\n",
       "  </tbody>\n",
       "</table>\n",
       "</div>"
      ],
      "text/plain": [
       "                timestamp      open      high       low     close  \\\n",
       "0 2020-01-01 22:06:51.864  108.7580  108.7700  108.7495  108.7565   \n",
       "1 2020-01-01 22:07:29.989  108.7595  108.7615  108.7510  108.7595   \n",
       "2 2020-01-01 22:08:54.106  108.7605  108.7645  108.7495  108.7575   \n",
       "3 2020-01-01 22:09:47.753  108.7565  108.7625  108.7460  108.7495   \n",
       "4 2020-01-01 22:13:29.431  108.7495  108.7600  108.6495  108.7455   \n",
       "\n",
       "          volume    spread  \n",
       "0  534640.000865  0.027887  \n",
       "1  533939.994574  0.020597  \n",
       "2  535240.000248  0.022207  \n",
       "3  535280.000806  0.032033  \n",
       "4  534949.996591  0.024844  "
      ]
     },
     "execution_count": 6,
     "metadata": {},
     "output_type": "execute_result"
    }
   ],
   "source": [
    "df.head()"
   ]
  },
  {
   "cell_type": "code",
   "execution_count": 7,
   "id": "6e4bdd34-fa03-4720-8e92-0d1efb1ec743",
   "metadata": {},
   "outputs": [
    {
     "data": {
      "text/html": [
       "<div>\n",
       "<style scoped>\n",
       "    .dataframe tbody tr th:only-of-type {\n",
       "        vertical-align: middle;\n",
       "    }\n",
       "\n",
       "    .dataframe tbody tr th {\n",
       "        vertical-align: top;\n",
       "    }\n",
       "\n",
       "    .dataframe thead th {\n",
       "        text-align: right;\n",
       "    }\n",
       "</style>\n",
       "<table border=\"1\" class=\"dataframe\">\n",
       "  <thead>\n",
       "    <tr style=\"text-align: right;\">\n",
       "      <th></th>\n",
       "      <th>open</th>\n",
       "      <th>high</th>\n",
       "      <th>low</th>\n",
       "      <th>close</th>\n",
       "      <th>volume</th>\n",
       "      <th>spread</th>\n",
       "    </tr>\n",
       "    <tr>\n",
       "      <th>timestamp</th>\n",
       "      <th></th>\n",
       "      <th></th>\n",
       "      <th></th>\n",
       "      <th></th>\n",
       "      <th></th>\n",
       "      <th></th>\n",
       "    </tr>\n",
       "  </thead>\n",
       "  <tbody>\n",
       "    <tr>\n",
       "      <th>2020-01-01 22:06:51.864</th>\n",
       "      <td>108.7580</td>\n",
       "      <td>108.7700</td>\n",
       "      <td>108.7495</td>\n",
       "      <td>108.7565</td>\n",
       "      <td>534640.000865</td>\n",
       "      <td>0.027887</td>\n",
       "    </tr>\n",
       "    <tr>\n",
       "      <th>2020-01-01 22:07:29.989</th>\n",
       "      <td>108.7595</td>\n",
       "      <td>108.7615</td>\n",
       "      <td>108.7510</td>\n",
       "      <td>108.7595</td>\n",
       "      <td>533939.994574</td>\n",
       "      <td>0.020597</td>\n",
       "    </tr>\n",
       "    <tr>\n",
       "      <th>2020-01-01 22:08:54.106</th>\n",
       "      <td>108.7605</td>\n",
       "      <td>108.7645</td>\n",
       "      <td>108.7495</td>\n",
       "      <td>108.7575</td>\n",
       "      <td>535240.000248</td>\n",
       "      <td>0.022207</td>\n",
       "    </tr>\n",
       "    <tr>\n",
       "      <th>2020-01-01 22:09:47.753</th>\n",
       "      <td>108.7565</td>\n",
       "      <td>108.7625</td>\n",
       "      <td>108.7460</td>\n",
       "      <td>108.7495</td>\n",
       "      <td>535280.000806</td>\n",
       "      <td>0.032033</td>\n",
       "    </tr>\n",
       "    <tr>\n",
       "      <th>2020-01-01 22:13:29.431</th>\n",
       "      <td>108.7495</td>\n",
       "      <td>108.7600</td>\n",
       "      <td>108.6495</td>\n",
       "      <td>108.7455</td>\n",
       "      <td>534949.996591</td>\n",
       "      <td>0.024844</td>\n",
       "    </tr>\n",
       "  </tbody>\n",
       "</table>\n",
       "</div>"
      ],
      "text/plain": [
       "                             open      high       low     close  \\\n",
       "timestamp                                                         \n",
       "2020-01-01 22:06:51.864  108.7580  108.7700  108.7495  108.7565   \n",
       "2020-01-01 22:07:29.989  108.7595  108.7615  108.7510  108.7595   \n",
       "2020-01-01 22:08:54.106  108.7605  108.7645  108.7495  108.7575   \n",
       "2020-01-01 22:09:47.753  108.7565  108.7625  108.7460  108.7495   \n",
       "2020-01-01 22:13:29.431  108.7495  108.7600  108.6495  108.7455   \n",
       "\n",
       "                                volume    spread  \n",
       "timestamp                                         \n",
       "2020-01-01 22:06:51.864  534640.000865  0.027887  \n",
       "2020-01-01 22:07:29.989  533939.994574  0.020597  \n",
       "2020-01-01 22:08:54.106  535240.000248  0.022207  \n",
       "2020-01-01 22:09:47.753  535280.000806  0.032033  \n",
       "2020-01-01 22:13:29.431  534949.996591  0.024844  "
      ]
     },
     "execution_count": 7,
     "metadata": {},
     "output_type": "execute_result"
    }
   ],
   "source": [
    "df['timestamp'] = pd.to_datetime(df['timestamp'], unit='ms')\n",
    "\n",
    "df = df.set_index('timestamp')\n",
    "\n",
    "df.head()"
   ]
  },
  {
   "cell_type": "code",
   "execution_count": 8,
   "id": "8c1db535-7a35-47be-9437-ca370fadb44b",
   "metadata": {},
   "outputs": [],
   "source": [
    "import numpy as np\n",
    "\n",
    "df['log_return'] = np.log(df['close'] / df['close'].shift(1))\n",
    "df['log_volume'] = np.log1p(df['volume'])\n",
    "df = df.dropna()"
   ]
  },
  {
   "cell_type": "code",
   "execution_count": 9,
   "id": "1e9c87aa-2c65-456d-b9b9-79229afc1828",
   "metadata": {
    "scrolled": true
   },
   "outputs": [
    {
     "data": {
      "text/html": [
       "<div>\n",
       "<style scoped>\n",
       "    .dataframe tbody tr th:only-of-type {\n",
       "        vertical-align: middle;\n",
       "    }\n",
       "\n",
       "    .dataframe tbody tr th {\n",
       "        vertical-align: top;\n",
       "    }\n",
       "\n",
       "    .dataframe thead th {\n",
       "        text-align: right;\n",
       "    }\n",
       "</style>\n",
       "<table border=\"1\" class=\"dataframe\">\n",
       "  <thead>\n",
       "    <tr style=\"text-align: right;\">\n",
       "      <th></th>\n",
       "      <th>open</th>\n",
       "      <th>high</th>\n",
       "      <th>low</th>\n",
       "      <th>close</th>\n",
       "      <th>volume</th>\n",
       "      <th>spread</th>\n",
       "      <th>log_return</th>\n",
       "      <th>log_volume</th>\n",
       "    </tr>\n",
       "    <tr>\n",
       "      <th>timestamp</th>\n",
       "      <th></th>\n",
       "      <th></th>\n",
       "      <th></th>\n",
       "      <th></th>\n",
       "      <th></th>\n",
       "      <th></th>\n",
       "      <th></th>\n",
       "      <th></th>\n",
       "    </tr>\n",
       "  </thead>\n",
       "  <tbody>\n",
       "    <tr>\n",
       "      <th>2020-01-01 22:07:29.989</th>\n",
       "      <td>108.7595</td>\n",
       "      <td>108.7615</td>\n",
       "      <td>108.7510</td>\n",
       "      <td>108.7595</td>\n",
       "      <td>533939.994574</td>\n",
       "      <td>0.020597</td>\n",
       "      <td>0.000028</td>\n",
       "      <td>13.188041</td>\n",
       "    </tr>\n",
       "    <tr>\n",
       "      <th>2020-01-01 22:08:54.106</th>\n",
       "      <td>108.7605</td>\n",
       "      <td>108.7645</td>\n",
       "      <td>108.7495</td>\n",
       "      <td>108.7575</td>\n",
       "      <td>535240.000248</td>\n",
       "      <td>0.022207</td>\n",
       "      <td>-0.000018</td>\n",
       "      <td>13.190472</td>\n",
       "    </tr>\n",
       "    <tr>\n",
       "      <th>2020-01-01 22:09:47.753</th>\n",
       "      <td>108.7565</td>\n",
       "      <td>108.7625</td>\n",
       "      <td>108.7460</td>\n",
       "      <td>108.7495</td>\n",
       "      <td>535280.000806</td>\n",
       "      <td>0.032033</td>\n",
       "      <td>-0.000074</td>\n",
       "      <td>13.190547</td>\n",
       "    </tr>\n",
       "    <tr>\n",
       "      <th>2020-01-01 22:13:29.431</th>\n",
       "      <td>108.7495</td>\n",
       "      <td>108.7600</td>\n",
       "      <td>108.6495</td>\n",
       "      <td>108.7455</td>\n",
       "      <td>534949.996591</td>\n",
       "      <td>0.024844</td>\n",
       "      <td>-0.000037</td>\n",
       "      <td>13.189930</td>\n",
       "    </tr>\n",
       "    <tr>\n",
       "      <th>2020-01-01 22:27:38.010</th>\n",
       "      <td>108.7455</td>\n",
       "      <td>108.7480</td>\n",
       "      <td>108.6290</td>\n",
       "      <td>108.7140</td>\n",
       "      <td>534379.999079</td>\n",
       "      <td>0.055283</td>\n",
       "      <td>-0.000290</td>\n",
       "      <td>13.188864</td>\n",
       "    </tr>\n",
       "  </tbody>\n",
       "</table>\n",
       "</div>"
      ],
      "text/plain": [
       "                             open      high       low     close  \\\n",
       "timestamp                                                         \n",
       "2020-01-01 22:07:29.989  108.7595  108.7615  108.7510  108.7595   \n",
       "2020-01-01 22:08:54.106  108.7605  108.7645  108.7495  108.7575   \n",
       "2020-01-01 22:09:47.753  108.7565  108.7625  108.7460  108.7495   \n",
       "2020-01-01 22:13:29.431  108.7495  108.7600  108.6495  108.7455   \n",
       "2020-01-01 22:27:38.010  108.7455  108.7480  108.6290  108.7140   \n",
       "\n",
       "                                volume    spread  log_return  log_volume  \n",
       "timestamp                                                                 \n",
       "2020-01-01 22:07:29.989  533939.994574  0.020597    0.000028   13.188041  \n",
       "2020-01-01 22:08:54.106  535240.000248  0.022207   -0.000018   13.190472  \n",
       "2020-01-01 22:09:47.753  535280.000806  0.032033   -0.000074   13.190547  \n",
       "2020-01-01 22:13:29.431  534949.996591  0.024844   -0.000037   13.189930  \n",
       "2020-01-01 22:27:38.010  534379.999079  0.055283   -0.000290   13.188864  "
      ]
     },
     "execution_count": 9,
     "metadata": {},
     "output_type": "execute_result"
    }
   ],
   "source": [
    "df.head()"
   ]
  },
  {
   "cell_type": "markdown",
   "id": "2380c175-3b65-4921-b3f1-338ba67bb1c8",
   "metadata": {},
   "source": [
    "## Calculate Daily Volatility"
   ]
  },
  {
   "cell_type": "code",
   "execution_count": 10,
   "id": "a3868a63-256e-4dd1-9b53-e1011f6830c2",
   "metadata": {},
   "outputs": [
    {
     "data": {
      "text/plain": [
       "np.float64(0.0001306212524704464)"
      ]
     },
     "execution_count": 10,
     "metadata": {},
     "output_type": "execute_result"
    }
   ],
   "source": [
    "vol = df['log_return'].rolling(window=10).std()\n",
    "vol.mean()"
   ]
  },
  {
   "cell_type": "markdown",
   "id": "d3e9654f-61f8-47fb-bec5-58eae44404cf",
   "metadata": {},
   "source": [
    "## Get Events Start Time (t0)"
   ]
  },
  {
   "cell_type": "code",
   "execution_count": 11,
   "id": "cdaa6e3a-24d8-4c70-ba2e-d8e230537406",
   "metadata": {},
   "outputs": [],
   "source": [
    "import numpy as np\n",
    "import pandas as pd\n",
    "from tqdm import tqdm\n",
    "\n",
    "def get_tevents_optimized(data: pd.Series, threshold: float) -> pd.DatetimeIndex:\n",
    "    # get tEvents using CUSUM filter\n",
    "    values = data.values\n",
    "    timestamps = data.index\n",
    "\n",
    "    s_pos = np.zeros_like(values)\n",
    "    s_neg = np.zeros_like(values)\n",
    "\n",
    "    t_events_mask = np.zeros_like(values, dtype=bool)\n",
    "\n",
    "    cum_pos, cum_neg = 0.0, 0.0\n",
    "\n",
    "    for i in tqdm(range(len(values))):\n",
    "        cum_pos = max(0.0, cum_pos + values[i])\n",
    "        cum_neg = min(0.0, cum_neg + values[i])\n",
    "        s_pos[i] = cum_pos\n",
    "        s_neg[i] = cum_neg\n",
    "\n",
    "        if cum_pos > threshold:\n",
    "            t_events_mask[i] = True\n",
    "            cum_pos = 0.0\n",
    "        if cum_neg < -threshold:\n",
    "            t_events_mask[i] = True\n",
    "            cum_neg = 0.0\n",
    "\n",
    "    return timestamps[t_events_mask]\n"
   ]
  },
  {
   "cell_type": "code",
   "execution_count": 12,
   "id": "35f0f7b6-3269-4201-ac13-168102e815e2",
   "metadata": {},
   "outputs": [
    {
     "name": "stderr",
     "output_type": "stream",
     "text": [
      "100%|███████████████████████████████████████████████████████████████████████████████████████████████████████████████████| 1822486/1822486 [00:00<00:00, 3245185.46it/s]"
     ]
    },
    {
     "name": "stdout",
     "output_type": "stream",
     "text": [
      "CPU times: user 563 ms, sys: 18.3 ms, total: 581 ms\n",
      "Wall time: 582 ms\n"
     ]
    },
    {
     "name": "stderr",
     "output_type": "stream",
     "text": [
      "\n"
     ]
    }
   ],
   "source": [
    "%%time\n",
    "\n",
    "t_events = get_tevents_optimized(df['log_return'].iloc[1:], threshold=vol.mean())"
   ]
  },
  {
   "cell_type": "code",
   "execution_count": 13,
   "id": "7622afbc-4d47-451d-81b6-fd890074bb72",
   "metadata": {},
   "outputs": [
    {
     "data": {
      "text/plain": [
       "DatetimeIndex(['2020-01-01 22:27:38.010000', '2020-01-01 22:38:00.191000',\n",
       "               '2020-01-01 23:02:33.329000', '2020-01-01 23:10:39.441000',\n",
       "               '2020-01-01 23:21:26.690000', '2020-01-01 23:29:06.865000',\n",
       "               '2020-01-01 23:45:21.805000', '2020-01-01 23:50:25.086000',\n",
       "               '2020-01-02 00:17:03.844000', '2020-01-02 00:41:29.036000',\n",
       "               ...\n",
       "               '2024-12-30 23:08:12.101000', '2024-12-30 23:13:31.707000',\n",
       "               '2024-12-30 23:17:32.270000', '2024-12-30 23:20:43.878000',\n",
       "               '2024-12-30 23:32:26.048000', '2024-12-30 23:34:02.941000',\n",
       "               '2024-12-30 23:38:17.708000', '2024-12-30 23:40:27.389000',\n",
       "               '2024-12-30 23:46:24.916000', '2024-12-30 23:55:02.722000'],\n",
       "              dtype='datetime64[ns]', name='timestamp', length=695766, freq=None)"
      ]
     },
     "execution_count": 13,
     "metadata": {},
     "output_type": "execute_result"
    }
   ],
   "source": [
    "t_events"
   ]
  },
  {
   "cell_type": "code",
   "execution_count": 14,
   "id": "8f529823-eee5-4f0b-a95a-37e613b0986a",
   "metadata": {
    "scrolled": true
   },
   "outputs": [
    {
     "data": {
      "text/html": [
       "<div>\n",
       "<style scoped>\n",
       "    .dataframe tbody tr th:only-of-type {\n",
       "        vertical-align: middle;\n",
       "    }\n",
       "\n",
       "    .dataframe tbody tr th {\n",
       "        vertical-align: top;\n",
       "    }\n",
       "\n",
       "    .dataframe thead th {\n",
       "        text-align: right;\n",
       "    }\n",
       "</style>\n",
       "<table border=\"1\" class=\"dataframe\">\n",
       "  <thead>\n",
       "    <tr style=\"text-align: right;\">\n",
       "      <th></th>\n",
       "      <th>open</th>\n",
       "      <th>high</th>\n",
       "      <th>low</th>\n",
       "      <th>close</th>\n",
       "      <th>volume</th>\n",
       "      <th>spread</th>\n",
       "      <th>log_return</th>\n",
       "      <th>log_volume</th>\n",
       "    </tr>\n",
       "    <tr>\n",
       "      <th>timestamp</th>\n",
       "      <th></th>\n",
       "      <th></th>\n",
       "      <th></th>\n",
       "      <th></th>\n",
       "      <th></th>\n",
       "      <th></th>\n",
       "      <th></th>\n",
       "      <th></th>\n",
       "    </tr>\n",
       "  </thead>\n",
       "  <tbody>\n",
       "    <tr>\n",
       "      <th>2020-01-01 22:27:38.010</th>\n",
       "      <td>108.7455</td>\n",
       "      <td>108.7480</td>\n",
       "      <td>108.6290</td>\n",
       "      <td>108.7140</td>\n",
       "      <td>534379.999079</td>\n",
       "      <td>0.055283</td>\n",
       "      <td>-0.000290</td>\n",
       "      <td>13.188864</td>\n",
       "    </tr>\n",
       "    <tr>\n",
       "      <th>2020-01-01 22:38:00.191</th>\n",
       "      <td>108.7095</td>\n",
       "      <td>108.7285</td>\n",
       "      <td>108.6740</td>\n",
       "      <td>108.6810</td>\n",
       "      <td>536009.996161</td>\n",
       "      <td>0.023268</td>\n",
       "      <td>-0.000304</td>\n",
       "      <td>13.191910</td>\n",
       "    </tr>\n",
       "    <tr>\n",
       "      <th>2020-01-01 23:02:33.329</th>\n",
       "      <td>108.6895</td>\n",
       "      <td>108.6925</td>\n",
       "      <td>108.6180</td>\n",
       "      <td>108.6180</td>\n",
       "      <td>537679.998100</td>\n",
       "      <td>0.014227</td>\n",
       "      <td>-0.000658</td>\n",
       "      <td>13.195021</td>\n",
       "    </tr>\n",
       "    <tr>\n",
       "      <th>2020-01-01 23:10:39.441</th>\n",
       "      <td>108.6205</td>\n",
       "      <td>108.6505</td>\n",
       "      <td>108.6050</td>\n",
       "      <td>108.6430</td>\n",
       "      <td>535549.999118</td>\n",
       "      <td>0.006934</td>\n",
       "      <td>0.000230</td>\n",
       "      <td>13.191051</td>\n",
       "    </tr>\n",
       "    <tr>\n",
       "      <th>2020-01-01 23:21:26.690</th>\n",
       "      <td>108.6435</td>\n",
       "      <td>108.6790</td>\n",
       "      <td>108.6435</td>\n",
       "      <td>108.6790</td>\n",
       "      <td>534460.000396</td>\n",
       "      <td>0.003709</td>\n",
       "      <td>0.000331</td>\n",
       "      <td>13.189014</td>\n",
       "    </tr>\n",
       "    <tr>\n",
       "      <th>...</th>\n",
       "      <td>...</td>\n",
       "      <td>...</td>\n",
       "      <td>...</td>\n",
       "      <td>...</td>\n",
       "      <td>...</td>\n",
       "      <td>...</td>\n",
       "      <td>...</td>\n",
       "      <td>...</td>\n",
       "    </tr>\n",
       "    <tr>\n",
       "      <th>2024-12-30 23:34:02.941</th>\n",
       "      <td>157.0455</td>\n",
       "      <td>157.0460</td>\n",
       "      <td>156.9875</td>\n",
       "      <td>156.9875</td>\n",
       "      <td>375300.000310</td>\n",
       "      <td>0.010275</td>\n",
       "      <td>-0.000366</td>\n",
       "      <td>12.835484</td>\n",
       "    </tr>\n",
       "    <tr>\n",
       "      <th>2024-12-30 23:38:17.708</th>\n",
       "      <td>156.9695</td>\n",
       "      <td>156.9970</td>\n",
       "      <td>156.9690</td>\n",
       "      <td>156.9965</td>\n",
       "      <td>369900.002599</td>\n",
       "      <td>0.012375</td>\n",
       "      <td>0.000182</td>\n",
       "      <td>12.820991</td>\n",
       "    </tr>\n",
       "    <tr>\n",
       "      <th>2024-12-30 23:40:27.389</th>\n",
       "      <td>157.0060</td>\n",
       "      <td>157.0235</td>\n",
       "      <td>157.0050</td>\n",
       "      <td>157.0235</td>\n",
       "      <td>371790.001631</td>\n",
       "      <td>0.013689</td>\n",
       "      <td>0.000118</td>\n",
       "      <td>12.826087</td>\n",
       "    </tr>\n",
       "    <tr>\n",
       "      <th>2024-12-30 23:46:24.916</th>\n",
       "      <td>157.0295</td>\n",
       "      <td>157.0410</td>\n",
       "      <td>156.9995</td>\n",
       "      <td>156.9995</td>\n",
       "      <td>369990.000248</td>\n",
       "      <td>0.012403</td>\n",
       "      <td>-0.000197</td>\n",
       "      <td>12.821234</td>\n",
       "    </tr>\n",
       "    <tr>\n",
       "      <th>2024-12-30 23:55:02.722</th>\n",
       "      <td>156.9785</td>\n",
       "      <td>157.0125</td>\n",
       "      <td>156.9785</td>\n",
       "      <td>157.0090</td>\n",
       "      <td>370050.000668</td>\n",
       "      <td>0.008903</td>\n",
       "      <td>0.000172</td>\n",
       "      <td>12.821396</td>\n",
       "    </tr>\n",
       "  </tbody>\n",
       "</table>\n",
       "<p>695766 rows × 8 columns</p>\n",
       "</div>"
      ],
      "text/plain": [
       "                             open      high       low     close  \\\n",
       "timestamp                                                         \n",
       "2020-01-01 22:27:38.010  108.7455  108.7480  108.6290  108.7140   \n",
       "2020-01-01 22:38:00.191  108.7095  108.7285  108.6740  108.6810   \n",
       "2020-01-01 23:02:33.329  108.6895  108.6925  108.6180  108.6180   \n",
       "2020-01-01 23:10:39.441  108.6205  108.6505  108.6050  108.6430   \n",
       "2020-01-01 23:21:26.690  108.6435  108.6790  108.6435  108.6790   \n",
       "...                           ...       ...       ...       ...   \n",
       "2024-12-30 23:34:02.941  157.0455  157.0460  156.9875  156.9875   \n",
       "2024-12-30 23:38:17.708  156.9695  156.9970  156.9690  156.9965   \n",
       "2024-12-30 23:40:27.389  157.0060  157.0235  157.0050  157.0235   \n",
       "2024-12-30 23:46:24.916  157.0295  157.0410  156.9995  156.9995   \n",
       "2024-12-30 23:55:02.722  156.9785  157.0125  156.9785  157.0090   \n",
       "\n",
       "                                volume    spread  log_return  log_volume  \n",
       "timestamp                                                                 \n",
       "2020-01-01 22:27:38.010  534379.999079  0.055283   -0.000290   13.188864  \n",
       "2020-01-01 22:38:00.191  536009.996161  0.023268   -0.000304   13.191910  \n",
       "2020-01-01 23:02:33.329  537679.998100  0.014227   -0.000658   13.195021  \n",
       "2020-01-01 23:10:39.441  535549.999118  0.006934    0.000230   13.191051  \n",
       "2020-01-01 23:21:26.690  534460.000396  0.003709    0.000331   13.189014  \n",
       "...                                ...       ...         ...         ...  \n",
       "2024-12-30 23:34:02.941  375300.000310  0.010275   -0.000366   12.835484  \n",
       "2024-12-30 23:38:17.708  369900.002599  0.012375    0.000182   12.820991  \n",
       "2024-12-30 23:40:27.389  371790.001631  0.013689    0.000118   12.826087  \n",
       "2024-12-30 23:46:24.916  369990.000248  0.012403   -0.000197   12.821234  \n",
       "2024-12-30 23:55:02.722  370050.000668  0.008903    0.000172   12.821396  \n",
       "\n",
       "[695766 rows x 8 columns]"
      ]
     },
     "execution_count": 14,
     "metadata": {},
     "output_type": "execute_result"
    }
   ],
   "source": [
    "df.loc[t_events]"
   ]
  },
  {
   "cell_type": "markdown",
   "id": "6c93411b-4eac-441d-ba4b-13ac064fe2ea",
   "metadata": {},
   "source": [
    "## Calculate Target Volatility (trgt)\n",
    "This will be used for the calculation of dynamic TP/SL"
   ]
  },
  {
   "cell_type": "code",
   "execution_count": 15,
   "id": "df790074-e2bd-4e8b-94f0-06aaac5a92d5",
   "metadata": {},
   "outputs": [],
   "source": [
    "def get_daily_vol(close,span0=100):\n",
    "    # daily vol reindexed to close\n",
    "    df0=close.index.searchsorted(close.index-pd.Timedelta(days=1))\n",
    "    #bp()\n",
    "    df0=df0[df0>0]\n",
    "    #bp()\n",
    "    df0=(pd.Series(close.index[df0-1],\n",
    "                   index=close.index[close.shape[0]-df0.shape[0]:]))\n",
    "    #bp()\n",
    "    try:\n",
    "        df0=close.loc[df0.index]/close.loc[df0.values].values-1 # daily rets\n",
    "    except Exception as e:\n",
    "        print(e)\n",
    "        print('adjusting shape of close.loc[df0.index]')\n",
    "        cut = close.loc[df0.index].shape[0] - close.loc[df0.values].shape[0]\n",
    "        df0=close.loc[df0.index].iloc[:-cut]/close.loc[df0.values].values-1\n",
    "    df0=df0.ewm(span=span0).std().rename('dailyVol')\n",
    "    return df0"
   ]
  },
  {
   "cell_type": "code",
   "execution_count": 16,
   "id": "9856f5e4-1f97-4e9a-a0c4-d971c1f91208",
   "metadata": {},
   "outputs": [
    {
     "name": "stdout",
     "output_type": "stream",
     "text": [
      "CPU times: user 250 ms, sys: 20.5 ms, total: 270 ms\n",
      "Wall time: 269 ms\n"
     ]
    }
   ],
   "source": [
    "%%time\n",
    "daily_vol = get_daily_vol(df['close'])"
   ]
  },
  {
   "cell_type": "code",
   "execution_count": 17,
   "id": "d2e1709f-0593-4d21-94ed-822c00686217",
   "metadata": {
    "scrolled": true
   },
   "outputs": [
    {
     "data": {
      "text/plain": [
       "count    695632.000000\n",
       "mean          0.001011\n",
       "std           0.000788\n",
       "min           0.000070\n",
       "25%           0.000567\n",
       "50%           0.000820\n",
       "75%           0.001203\n",
       "max           0.022802\n",
       "Name: dailyVol, dtype: float64"
      ]
     },
     "execution_count": 17,
     "metadata": {},
     "output_type": "execute_result"
    }
   ],
   "source": [
    "trgt = daily_vol.reindex(t_events, method='ffill')\n",
    "trgt.describe()"
   ]
  },
  {
   "cell_type": "code",
   "execution_count": 18,
   "id": "c839777a-ba60-4396-87e0-5cd291264409",
   "metadata": {},
   "outputs": [],
   "source": [
    "def get_intraday_vol(log_return, window=60, span=60):\n",
    "    rolling_std = log_return.rolling(window=window).std()\n",
    "    smoothed_vol = rolling_std.ewm(span=span).mean()\n",
    "    return smoothed_vol.rename(f'intraday_vol_{window}_{span}')"
   ]
  },
  {
   "cell_type": "code",
   "execution_count": 19,
   "id": "3f5f1d5e-3395-4b74-bdf8-bfb59278ea1e",
   "metadata": {},
   "outputs": [],
   "source": [
    "intraday_vol = get_intraday_vol(df['log_return'], window=60, span=60)"
   ]
  },
  {
   "cell_type": "code",
   "execution_count": 20,
   "id": "79ebc967-8e21-475a-bb56-d1faa12cd31f",
   "metadata": {},
   "outputs": [
    {
     "data": {
      "text/plain": [
       "count    695741.000000\n",
       "mean          0.000779\n",
       "std           0.000425\n",
       "min           0.000060\n",
       "25%           0.000533\n",
       "50%           0.000692\n",
       "75%           0.000897\n",
       "max           0.007928\n",
       "Name: intraday_vol_60_60, dtype: float64"
      ]
     },
     "execution_count": 20,
     "metadata": {},
     "output_type": "execute_result"
    }
   ],
   "source": [
    "trgt = 5 * intraday_vol.reindex(t_events, method='ffill')\n",
    "trgt.describe()"
   ]
  },
  {
   "cell_type": "code",
   "execution_count": 21,
   "id": "0eb0f22e-1ff3-4aeb-a943-feef9caa6687",
   "metadata": {},
   "outputs": [],
   "source": [
    "from ta.volatility import AverageTrueRange\n",
    "\n",
    "def get_atr(df, window=60):\n",
    "    atr = AverageTrueRange(high=df['high'], low=df['low'], close=df['close'], window=window)\n",
    "    return atr.average_true_range().rename(f\"atr{window}\")"
   ]
  },
  {
   "cell_type": "code",
   "execution_count": 22,
   "id": "12c12658-9c11-4853-9aba-734141ceede0",
   "metadata": {},
   "outputs": [
    {
     "name": "stdout",
     "output_type": "stream",
     "text": [
      "CPU times: user 3.24 s, sys: 67.9 ms, total: 3.31 s\n",
      "Wall time: 3.32 s\n"
     ]
    },
    {
     "data": {
      "text/plain": [
       "<Axes: title={'center': 'ATR on Dollar Bars'}, xlabel='timestamp'>"
      ]
     },
     "execution_count": 22,
     "metadata": {},
     "output_type": "execute_result"
    },
    {
     "data": {
      "image/png": "[encoded data removed]",
      "text/plain": [
       "<Figure size 640x480 with 1 Axes>"
      ]
     },
     "metadata": {},
     "output_type": "display_data"
    }
   ],
   "source": [
    "%%time\n",
    "atr60 = get_atr(df, window=60)\n",
    "atr60.describe()\n",
    "atr60.plot(title='ATR on Dollar Bars')"
   ]
  },
  {
   "cell_type": "code",
   "execution_count": 23,
   "id": "581f0b16-d467-41ed-a25e-de56a66a4390",
   "metadata": {
    "scrolled": true
   },
   "outputs": [
    {
     "data": {
      "text/plain": [
       "count    695766.000000\n",
       "mean          0.027495\n",
       "std           0.012719\n",
       "min           0.000000\n",
       "25%           0.019987\n",
       "50%           0.024849\n",
       "75%           0.031228\n",
       "max           0.213405\n",
       "Name: atr60, dtype: float64"
      ]
     },
     "execution_count": 23,
     "metadata": {},
     "output_type": "execute_result"
    }
   ],
   "source": [
    "trgt = atr60.reindex(t_events, method='ffill')\n",
    "trgt.describe()"
   ]
  },
  {
   "cell_type": "markdown",
   "id": "21841f1a-8cbd-46bf-bd31-3662c1e904b1",
   "metadata": {},
   "source": [
    "## Apply Triple Barrier\n",
    "We use daily volatility to calculate TP/SL, and we set our T1 as 1day"
   ]
  },
  {
   "cell_type": "code",
   "execution_count": 24,
   "id": "228a82bd-4870-4c7c-bf0a-3456b9893997",
   "metadata": {},
   "outputs": [],
   "source": [
    "from concurrent.futures import ThreadPoolExecutor\n",
    "import numpy as np\n",
    "import pandas as pd\n",
    "\n",
    "def applyPtSlOnT1(close,events,ptSl,molecule):\n",
    "    # apply stop loss/profit taking, if it takes place before t1 (end of event)\n",
    "    events_=events.loc[molecule]\n",
    "    out=events_[['t1']].copy(deep=True)\n",
    "    \n",
    "    pt = ptSl[0] * events_['trgt'] if ptSl[0] > 0 else pd.Series(index=events.index)\n",
    "    sl = -ptSl[1] * events_['trgt'] if ptSl[1] > 0 else pd.Series(index=events.index)\n",
    "\n",
    "        \n",
    "    for loc, t1 in events_['t1'].fillna(close.index[-1]).items():\n",
    "        df0=close[loc:t1] # path prices\n",
    "        df0=(df0/close[loc]-1)*events_.at[loc,'side'] # path returns\n",
    "        out.loc[loc,'sl']=df0[df0<sl[loc]].index.min() # earliest stop loss\n",
    "        out.loc[loc,'pt']=df0[df0>pt[loc]].index.min() # earliest profit taking\n",
    "        \n",
    "    return out\n",
    "\n",
    "\n",
    "def parallel_apply(func, items, num_threads=4, **kwargs):\n",
    "    \n",
    "    def worker(molecule):\n",
    "        return func(molecule=molecule, **kwargs)\n",
    "\n",
    "    chunks = np.array_split(items, num_threads)\n",
    "    \n",
    "    with ThreadPoolExecutor(max_workers=num_threads) as executor:\n",
    "        results = list(executor.map(worker, chunks))\n",
    "\n",
    "    return pd.concat(results).sort_index()\n",
    "\n",
    "\n",
    "def getEvents(close, tEvents, ptSl, trgt, minRet, numThreads=4, t1=False, side=None):\n",
    "    # Step 1: Filter targets\n",
    "    trgt = trgt.loc[tEvents]\n",
    "    trgt = trgt[trgt > minRet]\n",
    "\n",
    "    # Step 2: Set vertical barrier (t1)\n",
    "    if t1 is False:\n",
    "        t1 = pd.Series(pd.NaT, index=tEvents)\n",
    "\n",
    "    # Step 3: Build events DataFrame\n",
    "    if side is None:\n",
    "        side_, ptSl_ = pd.Series(1., index=trgt.index), [ptSl[0], ptSl[0]]\n",
    "    else:\n",
    "        side_, ptSl_ = side.loc[trgt.index], ptSl[:2]\n",
    "\n",
    "    events = pd.concat({'t1': t1, 'trgt': trgt, 'side': side_}, axis=1).dropna(subset=['trgt'])\n",
    "\n",
    "    # Step 4: Apply barriers in parallel\n",
    "    df0 = parallel_apply(\n",
    "        func=applyPtSlOnT1,\n",
    "        items=events.index,\n",
    "        num_threads=numThreads,\n",
    "        close=close,\n",
    "        events=events,\n",
    "        ptSl=ptSl_\n",
    "    )\n",
    "\n",
    "    # Step 5: Choose the first touched barrier\n",
    "    events['t1'] = df0.dropna(how='all').min(axis=1)\n",
    "    \n",
    "    if side is None:\n",
    "        events = events.drop('side', axis=1)\n",
    "        \n",
    "    return events\n"
   ]
  },
  {
   "cell_type": "code",
   "execution_count": 25,
   "id": "1c4cb836-44c5-4ec8-a5bc-79982eb1daf8",
   "metadata": {},
   "outputs": [],
   "source": [
    "def get_vertical_barrier(t_events, close, delta=pd.Timedelta(minutes=60)):\n",
    "    \"\"\"\n",
    "    For each event in t_events, find the timestamp in close.index \n",
    "    that is at least delta later. Returns a pd.Series of t1.\n",
    "    \"\"\"\n",
    "    barrier_times = t_events + delta\n",
    "    t1_idx = close.index.searchsorted(barrier_times)\n",
    "    valid_idx = t1_idx[t1_idx < len(close)]\n",
    "    t1 = pd.Series(close.index[valid_idx], index=t_events[:len(valid_idx)])\n",
    "    return t1"
   ]
  },
  {
   "cell_type": "code",
   "execution_count": 26,
   "id": "c1c542ed-24cc-4403-b3ca-e01fd931484a",
   "metadata": {},
   "outputs": [],
   "source": [
    "t1 = get_vertical_barrier(t_events, df['close'], delta=pd.Timedelta(minutes=30))"
   ]
  },
  {
   "cell_type": "code",
   "execution_count": 27,
   "id": "2666c0a7-7347-427a-a815-6299967b7671",
   "metadata": {},
   "outputs": [
    {
     "data": {
      "text/plain": [
       "timestamp\n",
       "2020-01-01 22:27:38.010   2020-01-01 23:02:33.329\n",
       "2020-01-01 22:38:00.191   2020-01-01 23:10:39.441\n",
       "2020-01-01 23:02:33.329   2020-01-01 23:36:19.371\n",
       "2020-01-01 23:10:39.441   2020-01-01 23:45:21.805\n",
       "2020-01-01 23:21:26.690   2020-01-01 23:56:13.494\n",
       "                                    ...          \n",
       "2024-12-30 23:06:27.988   2024-12-30 23:36:43.659\n",
       "2024-12-30 23:08:12.101   2024-12-30 23:38:17.708\n",
       "2024-12-30 23:13:31.707   2024-12-30 23:44:17.660\n",
       "2024-12-30 23:17:32.270   2024-12-30 23:47:39.743\n",
       "2024-12-30 23:20:43.878   2024-12-30 23:51:47.271\n",
       "Name: timestamp, Length: 695760, dtype: datetime64[ns]"
      ]
     },
     "execution_count": 27,
     "metadata": {},
     "output_type": "execute_result"
    }
   ],
   "source": [
    "t1"
   ]
  },
  {
   "cell_type": "markdown",
   "id": "c7fb62e1-79cd-463b-9c54-b339c1302343",
   "metadata": {},
   "source": [
    "## Calculate minRet"
   ]
  },
  {
   "cell_type": "code",
   "execution_count": 28,
   "id": "7e766bcf-fc77-4085-828f-aecd951b01ff",
   "metadata": {},
   "outputs": [
    {
     "data": {
      "text/plain": [
       "np.float64(6.103421459403371e-05)"
      ]
     },
     "execution_count": 28,
     "metadata": {},
     "output_type": "execute_result"
    }
   ],
   "source": [
    "min_ret = 0.5 * intraday_vol.median()\n",
    "min_ret"
   ]
  },
  {
   "cell_type": "code",
   "execution_count": 29,
   "id": "aad0bc6e-3302-45e5-b64b-bcebfab3db4c",
   "metadata": {},
   "outputs": [
    {
     "name": "stdout",
     "output_type": "stream",
     "text": [
      "CPU times: user 3min 26s, sys: 20.5 s, total: 3min 46s\n",
      "Wall time: 3min 27s\n"
     ]
    }
   ],
   "source": [
    "%%time\n",
    "\n",
    "events = getEvents(\n",
    "    df['close'],\n",
    "    tEvents=t_events, \n",
    "    ptSl=[1,1], \n",
    "    trgt=vol, \n",
    "    minRet=0, \n",
    "    numThreads=16, \n",
    "    t1=t1, \n",
    "    side=None\n",
    ")"
   ]
  },
  {
   "cell_type": "code",
   "execution_count": 30,
   "id": "9957def4-4cb8-40cf-a103-76098e8b739e",
   "metadata": {},
   "outputs": [
    {
     "data": {
      "text/html": [
       "<div>\n",
       "<style scoped>\n",
       "    .dataframe tbody tr th:only-of-type {\n",
       "        vertical-align: middle;\n",
       "    }\n",
       "\n",
       "    .dataframe tbody tr th {\n",
       "        vertical-align: top;\n",
       "    }\n",
       "\n",
       "    .dataframe thead th {\n",
       "        text-align: right;\n",
       "    }\n",
       "</style>\n",
       "<table border=\"1\" class=\"dataframe\">\n",
       "  <thead>\n",
       "    <tr style=\"text-align: right;\">\n",
       "      <th></th>\n",
       "      <th>t1</th>\n",
       "      <th>trgt</th>\n",
       "    </tr>\n",
       "    <tr>\n",
       "      <th>timestamp</th>\n",
       "      <th></th>\n",
       "      <th></th>\n",
       "    </tr>\n",
       "  </thead>\n",
       "  <tbody>\n",
       "    <tr>\n",
       "      <th>2020-01-01 23:21:26.690</th>\n",
       "      <td>2020-01-01 23:56:13.494</td>\n",
       "      <td>0.000286</td>\n",
       "    </tr>\n",
       "    <tr>\n",
       "      <th>2020-01-01 23:29:06.865</th>\n",
       "      <td>2020-01-02 00:00:28.861</td>\n",
       "      <td>0.000298</td>\n",
       "    </tr>\n",
       "    <tr>\n",
       "      <th>2020-01-01 23:45:21.805</th>\n",
       "      <td>2020-01-02 00:00:28.861</td>\n",
       "      <td>0.000299</td>\n",
       "    </tr>\n",
       "    <tr>\n",
       "      <th>2020-01-01 23:50:25.086</th>\n",
       "      <td>2020-01-02 00:32:02.876</td>\n",
       "      <td>0.000316</td>\n",
       "    </tr>\n",
       "    <tr>\n",
       "      <th>2020-01-02 00:17:03.844</th>\n",
       "      <td>2020-01-02 00:52:28.968</td>\n",
       "      <td>0.000178</td>\n",
       "    </tr>\n",
       "    <tr>\n",
       "      <th>...</th>\n",
       "      <td>...</td>\n",
       "      <td>...</td>\n",
       "    </tr>\n",
       "    <tr>\n",
       "      <th>2024-12-30 23:34:02.941</th>\n",
       "      <td>2024-12-30 23:40:27.389</td>\n",
       "      <td>0.000223</td>\n",
       "    </tr>\n",
       "    <tr>\n",
       "      <th>2024-12-30 23:38:17.708</th>\n",
       "      <td>2024-12-30 23:43:02.192</td>\n",
       "      <td>0.000192</td>\n",
       "    </tr>\n",
       "    <tr>\n",
       "      <th>2024-12-30 23:40:27.389</th>\n",
       "      <td>2024-12-30 23:46:24.916</td>\n",
       "      <td>0.000150</td>\n",
       "    </tr>\n",
       "    <tr>\n",
       "      <th>2024-12-30 23:46:24.916</th>\n",
       "      <td>2024-12-30 23:51:47.271</td>\n",
       "      <td>0.000101</td>\n",
       "    </tr>\n",
       "    <tr>\n",
       "      <th>2024-12-30 23:55:02.722</th>\n",
       "      <td>NaT</td>\n",
       "      <td>0.000103</td>\n",
       "    </tr>\n",
       "  </tbody>\n",
       "</table>\n",
       "<p>695762 rows × 2 columns</p>\n",
       "</div>"
      ],
      "text/plain": [
       "                                             t1      trgt\n",
       "timestamp                                                \n",
       "2020-01-01 23:21:26.690 2020-01-01 23:56:13.494  0.000286\n",
       "2020-01-01 23:29:06.865 2020-01-02 00:00:28.861  0.000298\n",
       "2020-01-01 23:45:21.805 2020-01-02 00:00:28.861  0.000299\n",
       "2020-01-01 23:50:25.086 2020-01-02 00:32:02.876  0.000316\n",
       "2020-01-02 00:17:03.844 2020-01-02 00:52:28.968  0.000178\n",
       "...                                         ...       ...\n",
       "2024-12-30 23:34:02.941 2024-12-30 23:40:27.389  0.000223\n",
       "2024-12-30 23:38:17.708 2024-12-30 23:43:02.192  0.000192\n",
       "2024-12-30 23:40:27.389 2024-12-30 23:46:24.916  0.000150\n",
       "2024-12-30 23:46:24.916 2024-12-30 23:51:47.271  0.000101\n",
       "2024-12-30 23:55:02.722                     NaT  0.000103\n",
       "\n",
       "[695762 rows x 2 columns]"
      ]
     },
     "execution_count": 30,
     "metadata": {},
     "output_type": "execute_result"
    }
   ],
   "source": [
    "events"
   ]
  },
  {
   "cell_type": "code",
   "execution_count": 31,
   "id": "826a783f-64c0-4bae-8a37-ee4d895b824b",
   "metadata": {},
   "outputs": [
    {
     "data": {
      "text/html": [
       "<div>\n",
       "<style scoped>\n",
       "    .dataframe tbody tr th:only-of-type {\n",
       "        vertical-align: middle;\n",
       "    }\n",
       "\n",
       "    .dataframe tbody tr th {\n",
       "        vertical-align: top;\n",
       "    }\n",
       "\n",
       "    .dataframe thead th {\n",
       "        text-align: right;\n",
       "    }\n",
       "</style>\n",
       "<table border=\"1\" class=\"dataframe\">\n",
       "  <thead>\n",
       "    <tr style=\"text-align: right;\">\n",
       "      <th></th>\n",
       "      <th>t1</th>\n",
       "      <th>trgt</th>\n",
       "    </tr>\n",
       "    <tr>\n",
       "      <th>timestamp</th>\n",
       "      <th></th>\n",
       "      <th></th>\n",
       "    </tr>\n",
       "  </thead>\n",
       "  <tbody>\n",
       "    <tr>\n",
       "      <th>2020-01-01 23:21:26.690</th>\n",
       "      <td>2020-01-01 23:56:13.494</td>\n",
       "      <td>0.000286</td>\n",
       "    </tr>\n",
       "    <tr>\n",
       "      <th>2020-01-01 23:29:06.865</th>\n",
       "      <td>2020-01-02 00:00:28.861</td>\n",
       "      <td>0.000298</td>\n",
       "    </tr>\n",
       "    <tr>\n",
       "      <th>2020-01-01 23:45:21.805</th>\n",
       "      <td>2020-01-02 00:00:28.861</td>\n",
       "      <td>0.000299</td>\n",
       "    </tr>\n",
       "    <tr>\n",
       "      <th>2020-01-01 23:50:25.086</th>\n",
       "      <td>2020-01-02 00:32:02.876</td>\n",
       "      <td>0.000316</td>\n",
       "    </tr>\n",
       "    <tr>\n",
       "      <th>2020-01-02 00:17:03.844</th>\n",
       "      <td>2020-01-02 00:52:28.968</td>\n",
       "      <td>0.000178</td>\n",
       "    </tr>\n",
       "    <tr>\n",
       "      <th>...</th>\n",
       "      <td>...</td>\n",
       "      <td>...</td>\n",
       "    </tr>\n",
       "    <tr>\n",
       "      <th>2024-12-30 23:34:02.941</th>\n",
       "      <td>2024-12-30 23:40:27.389</td>\n",
       "      <td>0.000223</td>\n",
       "    </tr>\n",
       "    <tr>\n",
       "      <th>2024-12-30 23:38:17.708</th>\n",
       "      <td>2024-12-30 23:43:02.192</td>\n",
       "      <td>0.000192</td>\n",
       "    </tr>\n",
       "    <tr>\n",
       "      <th>2024-12-30 23:40:27.389</th>\n",
       "      <td>2024-12-30 23:46:24.916</td>\n",
       "      <td>0.000150</td>\n",
       "    </tr>\n",
       "    <tr>\n",
       "      <th>2024-12-30 23:46:24.916</th>\n",
       "      <td>2024-12-30 23:51:47.271</td>\n",
       "      <td>0.000101</td>\n",
       "    </tr>\n",
       "    <tr>\n",
       "      <th>2024-12-30 23:55:02.722</th>\n",
       "      <td>NaT</td>\n",
       "      <td>0.000103</td>\n",
       "    </tr>\n",
       "  </tbody>\n",
       "</table>\n",
       "<p>695762 rows × 2 columns</p>\n",
       "</div>"
      ],
      "text/plain": [
       "                                             t1      trgt\n",
       "timestamp                                                \n",
       "2020-01-01 23:21:26.690 2020-01-01 23:56:13.494  0.000286\n",
       "2020-01-01 23:29:06.865 2020-01-02 00:00:28.861  0.000298\n",
       "2020-01-01 23:45:21.805 2020-01-02 00:00:28.861  0.000299\n",
       "2020-01-01 23:50:25.086 2020-01-02 00:32:02.876  0.000316\n",
       "2020-01-02 00:17:03.844 2020-01-02 00:52:28.968  0.000178\n",
       "...                                         ...       ...\n",
       "2024-12-30 23:34:02.941 2024-12-30 23:40:27.389  0.000223\n",
       "2024-12-30 23:38:17.708 2024-12-30 23:43:02.192  0.000192\n",
       "2024-12-30 23:40:27.389 2024-12-30 23:46:24.916  0.000150\n",
       "2024-12-30 23:46:24.916 2024-12-30 23:51:47.271  0.000101\n",
       "2024-12-30 23:55:02.722                     NaT  0.000103\n",
       "\n",
       "[695762 rows x 2 columns]"
      ]
     },
     "execution_count": 31,
     "metadata": {},
     "output_type": "execute_result"
    }
   ],
   "source": [
    "events"
   ]
  },
  {
   "cell_type": "code",
   "execution_count": 32,
   "id": "b31917c3-fc75-438c-9986-4cbc63c2bcf9",
   "metadata": {
    "scrolled": true
   },
   "outputs": [
    {
     "data": {
      "text/plain": [
       "count                       695761\n",
       "mean     0 days 00:04:22.042234806\n",
       "std      0 days 00:59:30.516567113\n",
       "min         0 days 00:00:00.101000\n",
       "25%         0 days 00:00:37.246000\n",
       "50%         0 days 00:01:23.376000\n",
       "75%         0 days 00:03:16.380000\n",
       "max         3 days 00:36:23.767000\n",
       "Name: duration, dtype: object"
      ]
     },
     "execution_count": 32,
     "metadata": {},
     "output_type": "execute_result"
    }
   ],
   "source": [
    "events['duration'] = events['t1'] - events.index\n",
    "events['duration'].describe()"
   ]
  },
  {
   "cell_type": "code",
   "execution_count": 33,
   "id": "d8fdf099-a826-406d-842a-8e3fed679a9a",
   "metadata": {},
   "outputs": [
    {
     "name": "stdout",
     "output_type": "stream",
     "text": [
      "Longest event index: 2020-12-31 21:59:37.920000\n",
      "t1          2021-01-03 22:36:01.687000\n",
      "trgt                          0.000169\n",
      "duration        3 days 00:36:23.767000\n",
      "Name: 2020-12-31 21:59:37.920000, dtype: object\n"
     ]
    }
   ],
   "source": [
    "longest_idx = events['duration'].idxmax()\n",
    "longest_event = events.loc[longest_idx]\n",
    "print(f\"Longest event index: {longest_idx}\")\n",
    "print(longest_event)"
   ]
  },
  {
   "cell_type": "markdown",
   "id": "8ee81137-c135-429c-8eb4-e119dd90e81b",
   "metadata": {},
   "source": [
    "# Keep only intraday events"
   ]
  },
  {
   "cell_type": "code",
   "execution_count": 34,
   "id": "5c86ef05-1f38-45c7-8a72-6bf47b0f0711",
   "metadata": {},
   "outputs": [],
   "source": [
    "events = events[events.index.date==events.t1.dt.date]"
   ]
  },
  {
   "cell_type": "markdown",
   "id": "aab67fbb-c308-49a4-b962-c683b44eaeee",
   "metadata": {},
   "source": [
    "## Create classification labels"
   ]
  },
  {
   "cell_type": "code",
   "execution_count": 35,
   "id": "418be389-de4d-4684-8817-239f42addbe3",
   "metadata": {},
   "outputs": [],
   "source": [
    "def getBins(events, close, t1=None):\n",
    "    '''\n",
    "    Compute event's outcome (including side information, if provided).\n",
    "    events is a DataFrame where:\n",
    "    -events.index is event's starttime\n",
    "    -events['t1'] is event's endtime\n",
    "    -events['trgt'] is event's target\n",
    "    -events['side'] (optional) implies the algo's position side\n",
    "    -t1 is original vertical barrier series\n",
    "    Case 1: ('side' not in events): bin in (-1,1) <-label by price action\n",
    "    Case 2: ('side' in events): bin in (0,1) <-label by pnl (meta-labeling)\n",
    "    '''\n",
    "    # 1) prices aligned with events\n",
    "    events_ = events.dropna(subset=['t1'])\n",
    "    px = events_.index.union(events_['t1'].values).drop_duplicates()\n",
    "    px = close.reindex(px, method='bfill')\n",
    "    # 2) create out object\n",
    "    out = pd.DataFrame(index=events_.index)\n",
    "    out['ret'] = px.loc[events_['t1'].values].values / px.loc[\n",
    "        events_.index] - 1\n",
    "    if 'side' in events_: out['ret'] *= events_['side']  # meta-labeling\n",
    "    out['bin'] = np.sign(out['ret'])\n",
    "\n",
    "    if 'side' not in events_:\n",
    "        # only applies when not meta-labeling.\n",
    "        # to update bin to 0 when vertical barrier is touched, we need the\n",
    "        # original vertical barrier series since the events['t1'] is the time\n",
    "        # of first touch of any barrier and not the vertical barrier\n",
    "        # specifically. The index of the intersection of the vertical barrier\n",
    "        # values and the events['t1'] values indicate which bin labels needs\n",
    "        # to be turned to 0.\n",
    "        vtouch_first_idx = events[events['t1'].isin(t1.values)].index\n",
    "        out.loc[vtouch_first_idx, 'bin'] = 0.\n",
    "\n",
    "    if 'side' in events_: out.loc[out['ret'] <= 0, 'bin'] = 0  # meta-labeling\n",
    "    return out"
   ]
  },
  {
   "cell_type": "code",
   "execution_count": 36,
   "id": "24b6225e-c69b-4822-a57c-982271fbe454",
   "metadata": {
    "scrolled": true
   },
   "outputs": [
    {
     "data": {
      "text/html": [
       "<div>\n",
       "<style scoped>\n",
       "    .dataframe tbody tr th:only-of-type {\n",
       "        vertical-align: middle;\n",
       "    }\n",
       "\n",
       "    .dataframe tbody tr th {\n",
       "        vertical-align: top;\n",
       "    }\n",
       "\n",
       "    .dataframe thead th {\n",
       "        text-align: right;\n",
       "    }\n",
       "</style>\n",
       "<table border=\"1\" class=\"dataframe\">\n",
       "  <thead>\n",
       "    <tr style=\"text-align: right;\">\n",
       "      <th></th>\n",
       "      <th>ret</th>\n",
       "      <th>bin</th>\n",
       "      <th>bin_class</th>\n",
       "    </tr>\n",
       "    <tr>\n",
       "      <th>timestamp</th>\n",
       "      <th></th>\n",
       "      <th></th>\n",
       "      <th></th>\n",
       "    </tr>\n",
       "  </thead>\n",
       "  <tbody>\n",
       "    <tr>\n",
       "      <th>2020-01-01 23:21:26.690</th>\n",
       "      <td>0.000235</td>\n",
       "      <td>0.0</td>\n",
       "      <td>1.0</td>\n",
       "    </tr>\n",
       "    <tr>\n",
       "      <th>2020-01-02 00:17:03.844</th>\n",
       "      <td>0.000189</td>\n",
       "      <td>0.0</td>\n",
       "      <td>1.0</td>\n",
       "    </tr>\n",
       "    <tr>\n",
       "      <th>2020-01-02 00:41:29.036</th>\n",
       "      <td>0.000267</td>\n",
       "      <td>1.0</td>\n",
       "      <td>2.0</td>\n",
       "    </tr>\n",
       "    <tr>\n",
       "      <th>2020-01-02 00:57:40.782</th>\n",
       "      <td>0.000299</td>\n",
       "      <td>1.0</td>\n",
       "      <td>2.0</td>\n",
       "    </tr>\n",
       "    <tr>\n",
       "      <th>2020-01-02 01:04:50.810</th>\n",
       "      <td>-0.000294</td>\n",
       "      <td>0.0</td>\n",
       "      <td>1.0</td>\n",
       "    </tr>\n",
       "    <tr>\n",
       "      <th>...</th>\n",
       "      <td>...</td>\n",
       "      <td>...</td>\n",
       "      <td>...</td>\n",
       "    </tr>\n",
       "    <tr>\n",
       "      <th>2024-12-30 23:32:26.048</th>\n",
       "      <td>-0.000366</td>\n",
       "      <td>-1.0</td>\n",
       "      <td>0.0</td>\n",
       "    </tr>\n",
       "    <tr>\n",
       "      <th>2024-12-30 23:34:02.941</th>\n",
       "      <td>0.000229</td>\n",
       "      <td>1.0</td>\n",
       "      <td>2.0</td>\n",
       "    </tr>\n",
       "    <tr>\n",
       "      <th>2024-12-30 23:38:17.708</th>\n",
       "      <td>0.000223</td>\n",
       "      <td>1.0</td>\n",
       "      <td>2.0</td>\n",
       "    </tr>\n",
       "    <tr>\n",
       "      <th>2024-12-30 23:40:27.389</th>\n",
       "      <td>-0.000153</td>\n",
       "      <td>-1.0</td>\n",
       "      <td>0.0</td>\n",
       "    </tr>\n",
       "    <tr>\n",
       "      <th>2024-12-30 23:46:24.916</th>\n",
       "      <td>-0.000111</td>\n",
       "      <td>0.0</td>\n",
       "      <td>1.0</td>\n",
       "    </tr>\n",
       "  </tbody>\n",
       "</table>\n",
       "<p>693869 rows × 3 columns</p>\n",
       "</div>"
      ],
      "text/plain": [
       "                              ret  bin  bin_class\n",
       "timestamp                                        \n",
       "2020-01-01 23:21:26.690  0.000235  0.0        1.0\n",
       "2020-01-02 00:17:03.844  0.000189  0.0        1.0\n",
       "2020-01-02 00:41:29.036  0.000267  1.0        2.0\n",
       "2020-01-02 00:57:40.782  0.000299  1.0        2.0\n",
       "2020-01-02 01:04:50.810 -0.000294  0.0        1.0\n",
       "...                           ...  ...        ...\n",
       "2024-12-30 23:32:26.048 -0.000366 -1.0        0.0\n",
       "2024-12-30 23:34:02.941  0.000229  1.0        2.0\n",
       "2024-12-30 23:38:17.708  0.000223  1.0        2.0\n",
       "2024-12-30 23:40:27.389 -0.000153 -1.0        0.0\n",
       "2024-12-30 23:46:24.916 -0.000111  0.0        1.0\n",
       "\n",
       "[693869 rows x 3 columns]"
      ]
     },
     "execution_count": 36,
     "metadata": {},
     "output_type": "execute_result"
    }
   ],
   "source": [
    "labels = getBins(events, df['close'], t1=t1)\n",
    "labels[\"bin_class\"] = labels[\"bin\"] + 1\n",
    "labels"
   ]
  },
  {
   "cell_type": "code",
   "execution_count": 37,
   "id": "77797461-e6ba-4f39-abe8-490d69bcbbdf",
   "metadata": {},
   "outputs": [
    {
     "data": {
      "text/plain": [
       "bin\n",
       " 0.0    261594\n",
       " 1.0    218609\n",
       "-1.0    213666\n",
       "Name: count, dtype: int64"
      ]
     },
     "execution_count": 37,
     "metadata": {},
     "output_type": "execute_result"
    }
   ],
   "source": [
    "labels.bin.value_counts()"
   ]
  },
  {
   "cell_type": "code",
   "execution_count": 38,
   "id": "0a0bdb6d-6728-4e5b-81b5-37524fbd69bc",
   "metadata": {},
   "outputs": [],
   "source": [
    "labeled_events = events.join(labels, how='inner')"
   ]
  },
  {
   "cell_type": "code",
   "execution_count": 43,
   "id": "d98e772d-a880-4563-b0ba-669f05206956",
   "metadata": {},
   "outputs": [
    {
     "data": {
      "text/html": [
       "<div>\n",
       "<style scoped>\n",
       "    .dataframe tbody tr th:only-of-type {\n",
       "        vertical-align: middle;\n",
       "    }\n",
       "\n",
       "    .dataframe tbody tr th {\n",
       "        vertical-align: top;\n",
       "    }\n",
       "\n",
       "    .dataframe thead th {\n",
       "        text-align: right;\n",
       "    }\n",
       "</style>\n",
       "<table border=\"1\" class=\"dataframe\">\n",
       "  <thead>\n",
       "    <tr style=\"text-align: right;\">\n",
       "      <th></th>\n",
       "      <th>t1</th>\n",
       "      <th>trgt</th>\n",
       "      <th>duration</th>\n",
       "      <th>ret</th>\n",
       "      <th>bin</th>\n",
       "      <th>bin_class</th>\n",
       "    </tr>\n",
       "    <tr>\n",
       "      <th>timestamp</th>\n",
       "      <th></th>\n",
       "      <th></th>\n",
       "      <th></th>\n",
       "      <th></th>\n",
       "      <th></th>\n",
       "      <th></th>\n",
       "    </tr>\n",
       "  </thead>\n",
       "  <tbody>\n",
       "    <tr>\n",
       "      <th>2020-01-01 23:21:26.690</th>\n",
       "      <td>2020-01-01 23:56:13.494</td>\n",
       "      <td>0.000286</td>\n",
       "      <td>0 days 00:34:46.804000</td>\n",
       "      <td>0.000235</td>\n",
       "      <td>0.0</td>\n",
       "      <td>1.0</td>\n",
       "    </tr>\n",
       "    <tr>\n",
       "      <th>2020-01-02 00:17:03.844</th>\n",
       "      <td>2020-01-02 00:52:28.968</td>\n",
       "      <td>0.000178</td>\n",
       "      <td>0 days 00:35:25.124000</td>\n",
       "      <td>0.000189</td>\n",
       "      <td>0.0</td>\n",
       "      <td>1.0</td>\n",
       "    </tr>\n",
       "    <tr>\n",
       "      <th>2020-01-02 00:41:29.036</th>\n",
       "      <td>2020-01-02 01:04:50.810</td>\n",
       "      <td>0.000153</td>\n",
       "      <td>0 days 00:23:21.774000</td>\n",
       "      <td>0.000267</td>\n",
       "      <td>1.0</td>\n",
       "      <td>2.0</td>\n",
       "    </tr>\n",
       "    <tr>\n",
       "      <th>2020-01-02 00:57:40.782</th>\n",
       "      <td>2020-01-02 01:04:50.810</td>\n",
       "      <td>0.000144</td>\n",
       "      <td>0 days 00:07:10.028000</td>\n",
       "      <td>0.000299</td>\n",
       "      <td>1.0</td>\n",
       "      <td>2.0</td>\n",
       "    </tr>\n",
       "    <tr>\n",
       "      <th>2020-01-02 01:04:50.810</th>\n",
       "      <td>2020-01-02 01:15:32.427</td>\n",
       "      <td>0.000167</td>\n",
       "      <td>0 days 00:10:41.617000</td>\n",
       "      <td>-0.000294</td>\n",
       "      <td>0.0</td>\n",
       "      <td>1.0</td>\n",
       "    </tr>\n",
       "  </tbody>\n",
       "</table>\n",
       "</div>"
      ],
      "text/plain": [
       "                                             t1      trgt  \\\n",
       "timestamp                                                   \n",
       "2020-01-01 23:21:26.690 2020-01-01 23:56:13.494  0.000286   \n",
       "2020-01-02 00:17:03.844 2020-01-02 00:52:28.968  0.000178   \n",
       "2020-01-02 00:41:29.036 2020-01-02 01:04:50.810  0.000153   \n",
       "2020-01-02 00:57:40.782 2020-01-02 01:04:50.810  0.000144   \n",
       "2020-01-02 01:04:50.810 2020-01-02 01:15:32.427  0.000167   \n",
       "\n",
       "                                      duration       ret  bin  bin_class  \n",
       "timestamp                                                                 \n",
       "2020-01-01 23:21:26.690 0 days 00:34:46.804000  0.000235  0.0        1.0  \n",
       "2020-01-02 00:17:03.844 0 days 00:35:25.124000  0.000189  0.0        1.0  \n",
       "2020-01-02 00:41:29.036 0 days 00:23:21.774000  0.000267  1.0        2.0  \n",
       "2020-01-02 00:57:40.782 0 days 00:07:10.028000  0.000299  1.0        2.0  \n",
       "2020-01-02 01:04:50.810 0 days 00:10:41.617000 -0.000294  0.0        1.0  "
      ]
     },
     "execution_count": 43,
     "metadata": {},
     "output_type": "execute_result"
    }
   ],
   "source": [
    "labeled_events.head()"
   ]
  },
  {
   "cell_type": "code",
   "execution_count": 45,
   "id": "08fcfb94-b45a-42fd-af8a-6f9c581069ff",
   "metadata": {},
   "outputs": [
    {
     "data": {
      "text/html": [
       "<div>\n",
       "<style scoped>\n",
       "    .dataframe tbody tr th:only-of-type {\n",
       "        vertical-align: middle;\n",
       "    }\n",
       "\n",
       "    .dataframe tbody tr th {\n",
       "        vertical-align: top;\n",
       "    }\n",
       "\n",
       "    .dataframe thead th {\n",
       "        text-align: right;\n",
       "    }\n",
       "</style>\n",
       "<table border=\"1\" class=\"dataframe\">\n",
       "  <thead>\n",
       "    <tr style=\"text-align: right;\">\n",
       "      <th></th>\n",
       "      <th>open</th>\n",
       "      <th>high</th>\n",
       "      <th>low</th>\n",
       "      <th>close</th>\n",
       "      <th>volume</th>\n",
       "      <th>spread</th>\n",
       "      <th>log_return</th>\n",
       "      <th>log_volume</th>\n",
       "    </tr>\n",
       "    <tr>\n",
       "      <th>timestamp</th>\n",
       "      <th></th>\n",
       "      <th></th>\n",
       "      <th></th>\n",
       "      <th></th>\n",
       "      <th></th>\n",
       "      <th></th>\n",
       "      <th></th>\n",
       "      <th></th>\n",
       "    </tr>\n",
       "  </thead>\n",
       "  <tbody>\n",
       "    <tr>\n",
       "      <th>2020-01-01 23:21:26.690</th>\n",
       "      <td>108.6435</td>\n",
       "      <td>108.6790</td>\n",
       "      <td>108.6435</td>\n",
       "      <td>108.6790</td>\n",
       "      <td>534460.000396</td>\n",
       "      <td>0.003709</td>\n",
       "      <td>0.000331</td>\n",
       "      <td>13.189014</td>\n",
       "    </tr>\n",
       "    <tr>\n",
       "      <th>2020-01-02 00:17:03.844</th>\n",
       "      <td>108.7110</td>\n",
       "      <td>108.7115</td>\n",
       "      <td>108.6945</td>\n",
       "      <td>108.6945</td>\n",
       "      <td>539329.998612</td>\n",
       "      <td>0.002592</td>\n",
       "      <td>-0.000166</td>\n",
       "      <td>13.198085</td>\n",
       "    </tr>\n",
       "    <tr>\n",
       "      <th>2020-01-02 00:41:29.036</th>\n",
       "      <td>108.6855</td>\n",
       "      <td>108.7110</td>\n",
       "      <td>108.6855</td>\n",
       "      <td>108.7025</td>\n",
       "      <td>535000.000596</td>\n",
       "      <td>0.002140</td>\n",
       "      <td>0.000175</td>\n",
       "      <td>13.190024</td>\n",
       "    </tr>\n",
       "    <tr>\n",
       "      <th>2020-01-02 00:57:40.782</th>\n",
       "      <td>108.7140</td>\n",
       "      <td>108.7210</td>\n",
       "      <td>108.6945</td>\n",
       "      <td>108.6990</td>\n",
       "      <td>533940.003633</td>\n",
       "      <td>0.002409</td>\n",
       "      <td>-0.000147</td>\n",
       "      <td>13.188041</td>\n",
       "    </tr>\n",
       "    <tr>\n",
       "      <th>2020-01-02 01:04:50.810</th>\n",
       "      <td>108.6985</td>\n",
       "      <td>108.7315</td>\n",
       "      <td>108.6985</td>\n",
       "      <td>108.7315</td>\n",
       "      <td>536660.000563</td>\n",
       "      <td>0.002551</td>\n",
       "      <td>0.000299</td>\n",
       "      <td>13.193122</td>\n",
       "    </tr>\n",
       "    <tr>\n",
       "      <th>...</th>\n",
       "      <td>...</td>\n",
       "      <td>...</td>\n",
       "      <td>...</td>\n",
       "      <td>...</td>\n",
       "      <td>...</td>\n",
       "      <td>...</td>\n",
       "      <td>...</td>\n",
       "      <td>...</td>\n",
       "    </tr>\n",
       "    <tr>\n",
       "      <th>2024-12-30 23:32:26.048</th>\n",
       "      <td>157.0300</td>\n",
       "      <td>157.0520</td>\n",
       "      <td>157.0205</td>\n",
       "      <td>157.0450</td>\n",
       "      <td>370270.000219</td>\n",
       "      <td>0.011216</td>\n",
       "      <td>0.000099</td>\n",
       "      <td>12.821990</td>\n",
       "    </tr>\n",
       "    <tr>\n",
       "      <th>2024-12-30 23:34:02.941</th>\n",
       "      <td>157.0455</td>\n",
       "      <td>157.0460</td>\n",
       "      <td>156.9875</td>\n",
       "      <td>156.9875</td>\n",
       "      <td>375300.000310</td>\n",
       "      <td>0.010275</td>\n",
       "      <td>-0.000366</td>\n",
       "      <td>12.835484</td>\n",
       "    </tr>\n",
       "    <tr>\n",
       "      <th>2024-12-30 23:38:17.708</th>\n",
       "      <td>156.9695</td>\n",
       "      <td>156.9970</td>\n",
       "      <td>156.9690</td>\n",
       "      <td>156.9965</td>\n",
       "      <td>369900.002599</td>\n",
       "      <td>0.012375</td>\n",
       "      <td>0.000182</td>\n",
       "      <td>12.820991</td>\n",
       "    </tr>\n",
       "    <tr>\n",
       "      <th>2024-12-30 23:40:27.389</th>\n",
       "      <td>157.0060</td>\n",
       "      <td>157.0235</td>\n",
       "      <td>157.0050</td>\n",
       "      <td>157.0235</td>\n",
       "      <td>371790.001631</td>\n",
       "      <td>0.013689</td>\n",
       "      <td>0.000118</td>\n",
       "      <td>12.826087</td>\n",
       "    </tr>\n",
       "    <tr>\n",
       "      <th>2024-12-30 23:46:24.916</th>\n",
       "      <td>157.0295</td>\n",
       "      <td>157.0410</td>\n",
       "      <td>156.9995</td>\n",
       "      <td>156.9995</td>\n",
       "      <td>369990.000248</td>\n",
       "      <td>0.012403</td>\n",
       "      <td>-0.000197</td>\n",
       "      <td>12.821234</td>\n",
       "    </tr>\n",
       "  </tbody>\n",
       "</table>\n",
       "<p>693869 rows × 8 columns</p>\n",
       "</div>"
      ],
      "text/plain": [
       "                             open      high       low     close  \\\n",
       "timestamp                                                         \n",
       "2020-01-01 23:21:26.690  108.6435  108.6790  108.6435  108.6790   \n",
       "2020-01-02 00:17:03.844  108.7110  108.7115  108.6945  108.6945   \n",
       "2020-01-02 00:41:29.036  108.6855  108.7110  108.6855  108.7025   \n",
       "2020-01-02 00:57:40.782  108.7140  108.7210  108.6945  108.6990   \n",
       "2020-01-02 01:04:50.810  108.6985  108.7315  108.6985  108.7315   \n",
       "...                           ...       ...       ...       ...   \n",
       "2024-12-30 23:32:26.048  157.0300  157.0520  157.0205  157.0450   \n",
       "2024-12-30 23:34:02.941  157.0455  157.0460  156.9875  156.9875   \n",
       "2024-12-30 23:38:17.708  156.9695  156.9970  156.9690  156.9965   \n",
       "2024-12-30 23:40:27.389  157.0060  157.0235  157.0050  157.0235   \n",
       "2024-12-30 23:46:24.916  157.0295  157.0410  156.9995  156.9995   \n",
       "\n",
       "                                volume    spread  log_return  log_volume  \n",
       "timestamp                                                                 \n",
       "2020-01-01 23:21:26.690  534460.000396  0.003709    0.000331   13.189014  \n",
       "2020-01-02 00:17:03.844  539329.998612  0.002592   -0.000166   13.198085  \n",
       "2020-01-02 00:41:29.036  535000.000596  0.002140    0.000175   13.190024  \n",
       "2020-01-02 00:57:40.782  533940.003633  0.002409   -0.000147   13.188041  \n",
       "2020-01-02 01:04:50.810  536660.000563  0.002551    0.000299   13.193122  \n",
       "...                                ...       ...         ...         ...  \n",
       "2024-12-30 23:32:26.048  370270.000219  0.011216    0.000099   12.821990  \n",
       "2024-12-30 23:34:02.941  375300.000310  0.010275   -0.000366   12.835484  \n",
       "2024-12-30 23:38:17.708  369900.002599  0.012375    0.000182   12.820991  \n",
       "2024-12-30 23:40:27.389  371790.001631  0.013689    0.000118   12.826087  \n",
       "2024-12-30 23:46:24.916  369990.000248  0.012403   -0.000197   12.821234  \n",
       "\n",
       "[693869 rows x 8 columns]"
      ]
     },
     "execution_count": 45,
     "metadata": {},
     "output_type": "execute_result"
    }
   ],
   "source": [
    "df.loc[labeled_events.index]"
   ]
  },
  {
   "cell_type": "markdown",
   "id": "3af8865a-8684-4dc0-b539-9fba6ad656e2",
   "metadata": {},
   "source": [
    "## Calculate Concurrency"
   ]
  },
  {
   "cell_type": "code",
   "execution_count": 39,
   "id": "87e9c751-a80b-4b71-9229-280a8716c339",
   "metadata": {},
   "outputs": [],
   "source": [
    "def get_concurrency(events, price_index):\n",
    "    \"\"\"\n",
    "    Calculate concurrency: number of overlapping events at each time.\n",
    "    \n",
    "    Args:\n",
    "        events (pd.DataFrame): Must have 't1' column with index as start time.\n",
    "        price_index (pd.DatetimeIndex): Full time index (e.g., from your OHLCV data).\n",
    "        \n",
    "    Returns:\n",
    "        pd.Series: concurrency count indexed by time.\n",
    "    \"\"\"\n",
    "    concurrency = pd.Series(0, index=price_index)\n",
    "\n",
    "    for start, end in events['t1'].items():\n",
    "        concurrency[start:end] += 1\n",
    "\n",
    "    return concurrency\n"
   ]
  },
  {
   "cell_type": "code",
   "execution_count": 40,
   "id": "9914f75f-ed72-41ae-819d-041cc4ec9c9e",
   "metadata": {
    "scrolled": true
   },
   "outputs": [],
   "source": [
    "# Let's say your OHLCV data or close series has this index\n",
    "price_index = df.index  # or df_ohlcv.index\n",
    "\n",
    "concurrency = get_concurrency(events=labeled_events, price_index=price_index)"
   ]
  },
  {
   "cell_type": "code",
   "execution_count": 41,
   "id": "db28568e-1af7-4e43-ba38-44513333e792",
   "metadata": {},
   "outputs": [
    {
     "data": {
      "text/plain": [
       "(array([9.76246e+05, 7.78407e+05, 5.81520e+04, 5.07000e+03, 3.28200e+03,\n",
       "        1.00900e+03, 1.78000e+02, 1.11000e+02, 2.60000e+01, 6.00000e+00]),\n",
       " array([ 0. ,  1.7,  3.4,  5.1,  6.8,  8.5, 10.2, 11.9, 13.6, 15.3, 17. ]),\n",
       " <BarContainer object of 10 artists>)"
      ]
     },
     "execution_count": 41,
     "metadata": {},
     "output_type": "execute_result"
    },
    {
     "data": {
      "image/png": "[encoded data removed]",
      "text/plain": [
       "<Figure size 640x480 with 1 Axes>"
      ]
     },
     "metadata": {},
     "output_type": "display_data"
    }
   ],
   "source": [
    "plt.hist(concurrency)"
   ]
  },
  {
   "cell_type": "markdown",
   "id": "04e1d417-f66b-4226-9405-b1a7aa139714",
   "metadata": {},
   "source": [
    "## Save events to disk"
   ]
  },
  {
   "cell_type": "code",
   "execution_count": 42,
   "id": "c0da0c87-e344-4aee-ad9c-f24b36ffaed5",
   "metadata": {},
   "outputs": [],
   "source": [
    "labeled_events.to_pickle(DIRECTION_LABEL_FILE_PATH)"
   ]
  }
 ],
 "metadata": {
  "kernelspec": {
   "display_name": "Python 3 (ipykernel)",
   "language": "python",
   "name": "python3"
  },
  "language_info": {
   "codemirror_mode": {
    "name": "ipython",
    "version": 3
   },
   "file_extension": ".py",
   "mimetype": "text/x-python",
   "name": "python",
   "nbconvert_exporter": "python",
   "pygments_lexer": "ipython3",
   "version": "3.11.13"
  },
  "widgets": {
   "application/vnd.jupyter.widget-state+json": {
    "state": {},
    "version_major": 2,
    "version_minor": 0
   }
  }
 },
 "nbformat": 4,
 "nbformat_minor": 5
}
