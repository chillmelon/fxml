{
 "cells": [
  {
   "cell_type": "code",
   "execution_count": 1,
   "id": "8c6d6f1f-0017-4810-9328-099f68c7c6e2",
   "metadata": {},
   "outputs": [],
   "source": [
    "import pandas as pd\n",
    "import matplotlib.pyplot as plt\n",
    "from matplotlib.ticker import FormatStrFormatter\n",
    "\n",
    "import os"
   ]
  },
  {
   "cell_type": "code",
   "execution_count": 2,
   "id": "bf14af0e-a692-419c-a591-5feaf1601bf9",
   "metadata": {},
   "outputs": [],
   "source": [
    "from pathlib import Path\n",
    "\n",
    "# Configurable parts\n",
    "SOURCE = \"dukascopy\"\n",
    "SYMBOL = \"usdjpy\"\n",
    "MINUTES = 1\n",
    "START_DATE = \"2021-01-01\"\n",
    "END_DATE = \"2024-12-31\"\n",
    "\n",
    "# Build base name\n",
    "BASE_NAME = f\"{SOURCE}-{SYMBOL}-tick-{START_DATE}-{END_DATE}\"\n",
    "RESAMPLED_NAME = f\"{SOURCE}-{SYMBOL}-{MINUTES}m-{START_DATE}-{END_DATE}\"\n",
    "# Base directories\n",
    "BASE_DIR = Path(\"../data\")\n",
    "RESAMPLED_DIR = BASE_DIR / \"resampled\"\n",
    "\n",
    "# Final paths\n",
    "RESAMPLED_FILE_PATH = RESAMPLED_DIR / f\"{RESAMPLED_NAME}.pkl\""
   ]
  },
  {
   "cell_type": "code",
   "execution_count": 3,
   "id": "c95146f2-e32f-4954-a38e-afd492fa82be",
   "metadata": {},
   "outputs": [],
   "source": [
    "EVENT_NAME = 'cusum_filter'\n",
    "DIRECTION_LABEL_DIR = BASE_DIR / \"direction_labels\"\n",
    "DIRECTION_LABEL_DIR.mkdir(parents=True, exist_ok=True)\n",
    "DIRECTION_LABEL_FILE_PATH = DIRECTION_LABEL_DIR / f\"{RESAMPLED_NAME}-{EVENT_NAME}.pkl\""
   ]
  },
  {
   "cell_type": "code",
   "execution_count": 4,
   "id": "79e659aa-5b8f-43d4-aa7f-3fe6cd7e5bd7",
   "metadata": {},
   "outputs": [
    {
     "name": "stdout",
     "output_type": "stream",
     "text": [
      "CPU times: user 549 μs, sys: 11.8 ms, total: 12.4 ms\n",
      "Wall time: 15.4 ms\n"
     ]
    }
   ],
   "source": [
    "%%time\n",
    "df = pd.read_pickle(RESAMPLED_FILE_PATH)"
   ]
  },
  {
   "cell_type": "code",
   "execution_count": 5,
   "id": "29b2da6f-1a60-4d08-9aee-a4c43083818c",
   "metadata": {},
   "outputs": [
    {
     "data": {
      "text/plain": [
       "(1480352, 7)"
      ]
     },
     "execution_count": 5,
     "metadata": {},
     "output_type": "execute_result"
    }
   ],
   "source": [
    "df.shape"
   ]
  },
  {
   "cell_type": "code",
   "execution_count": 6,
   "id": "68bbc439-d03b-4275-af93-8b978a790a4b",
   "metadata": {},
   "outputs": [
    {
     "data": {
      "text/html": [
       "<div>\n",
       "<style scoped>\n",
       "    .dataframe tbody tr th:only-of-type {\n",
       "        vertical-align: middle;\n",
       "    }\n",
       "\n",
       "    .dataframe tbody tr th {\n",
       "        vertical-align: top;\n",
       "    }\n",
       "\n",
       "    .dataframe thead th {\n",
       "        text-align: right;\n",
       "    }\n",
       "</style>\n",
       "<table border=\"1\" class=\"dataframe\">\n",
       "  <thead>\n",
       "    <tr style=\"text-align: right;\">\n",
       "      <th></th>\n",
       "      <th>timestamp</th>\n",
       "      <th>open</th>\n",
       "      <th>high</th>\n",
       "      <th>low</th>\n",
       "      <th>close</th>\n",
       "      <th>volume</th>\n",
       "      <th>spread</th>\n",
       "    </tr>\n",
       "  </thead>\n",
       "  <tbody>\n",
       "    <tr>\n",
       "      <th>373333</th>\n",
       "      <td>2021-01-03 22:00:00</td>\n",
       "      <td>103.1185</td>\n",
       "      <td>103.1720</td>\n",
       "      <td>103.1175</td>\n",
       "      <td>103.1720</td>\n",
       "      <td>16990.000002</td>\n",
       "      <td>0.025600</td>\n",
       "    </tr>\n",
       "    <tr>\n",
       "      <th>373334</th>\n",
       "      <td>2021-01-03 22:01:00</td>\n",
       "      <td>103.1725</td>\n",
       "      <td>103.1740</td>\n",
       "      <td>103.1725</td>\n",
       "      <td>103.1740</td>\n",
       "      <td>4979.999989</td>\n",
       "      <td>0.025600</td>\n",
       "    </tr>\n",
       "    <tr>\n",
       "      <th>373335</th>\n",
       "      <td>2021-01-03 22:02:00</td>\n",
       "      <td>103.2150</td>\n",
       "      <td>103.2330</td>\n",
       "      <td>103.2150</td>\n",
       "      <td>103.2330</td>\n",
       "      <td>2369.999997</td>\n",
       "      <td>0.090000</td>\n",
       "    </tr>\n",
       "    <tr>\n",
       "      <th>373336</th>\n",
       "      <td>2021-01-03 22:03:00</td>\n",
       "      <td>103.2050</td>\n",
       "      <td>103.2075</td>\n",
       "      <td>103.1955</td>\n",
       "      <td>103.1955</td>\n",
       "      <td>6750.000000</td>\n",
       "      <td>0.041500</td>\n",
       "    </tr>\n",
       "    <tr>\n",
       "      <th>373337</th>\n",
       "      <td>2021-01-03 22:04:00</td>\n",
       "      <td>103.1965</td>\n",
       "      <td>103.2080</td>\n",
       "      <td>103.1965</td>\n",
       "      <td>103.2070</td>\n",
       "      <td>9740.000010</td>\n",
       "      <td>0.022857</td>\n",
       "    </tr>\n",
       "  </tbody>\n",
       "</table>\n",
       "</div>"
      ],
      "text/plain": [
       "                 timestamp      open      high       low     close  \\\n",
       "373333 2021-01-03 22:00:00  103.1185  103.1720  103.1175  103.1720   \n",
       "373334 2021-01-03 22:01:00  103.1725  103.1740  103.1725  103.1740   \n",
       "373335 2021-01-03 22:02:00  103.2150  103.2330  103.2150  103.2330   \n",
       "373336 2021-01-03 22:03:00  103.2050  103.2075  103.1955  103.1955   \n",
       "373337 2021-01-03 22:04:00  103.1965  103.2080  103.1965  103.2070   \n",
       "\n",
       "              volume    spread  \n",
       "373333  16990.000002  0.025600  \n",
       "373334   4979.999989  0.025600  \n",
       "373335   2369.999997  0.090000  \n",
       "373336   6750.000000  0.041500  \n",
       "373337   9740.000010  0.022857  "
      ]
     },
     "execution_count": 6,
     "metadata": {},
     "output_type": "execute_result"
    }
   ],
   "source": [
    "df.head()"
   ]
  },
  {
   "cell_type": "code",
   "execution_count": 7,
   "id": "6e4bdd34-fa03-4720-8e92-0d1efb1ec743",
   "metadata": {},
   "outputs": [
    {
     "data": {
      "text/html": [
       "<div>\n",
       "<style scoped>\n",
       "    .dataframe tbody tr th:only-of-type {\n",
       "        vertical-align: middle;\n",
       "    }\n",
       "\n",
       "    .dataframe tbody tr th {\n",
       "        vertical-align: top;\n",
       "    }\n",
       "\n",
       "    .dataframe thead th {\n",
       "        text-align: right;\n",
       "    }\n",
       "</style>\n",
       "<table border=\"1\" class=\"dataframe\">\n",
       "  <thead>\n",
       "    <tr style=\"text-align: right;\">\n",
       "      <th></th>\n",
       "      <th>open</th>\n",
       "      <th>high</th>\n",
       "      <th>low</th>\n",
       "      <th>close</th>\n",
       "      <th>volume</th>\n",
       "      <th>spread</th>\n",
       "    </tr>\n",
       "    <tr>\n",
       "      <th>timestamp</th>\n",
       "      <th></th>\n",
       "      <th></th>\n",
       "      <th></th>\n",
       "      <th></th>\n",
       "      <th></th>\n",
       "      <th></th>\n",
       "    </tr>\n",
       "  </thead>\n",
       "  <tbody>\n",
       "    <tr>\n",
       "      <th>2021-01-03 22:00:00</th>\n",
       "      <td>103.1185</td>\n",
       "      <td>103.1720</td>\n",
       "      <td>103.1175</td>\n",
       "      <td>103.1720</td>\n",
       "      <td>16990.000002</td>\n",
       "      <td>0.025600</td>\n",
       "    </tr>\n",
       "    <tr>\n",
       "      <th>2021-01-03 22:01:00</th>\n",
       "      <td>103.1725</td>\n",
       "      <td>103.1740</td>\n",
       "      <td>103.1725</td>\n",
       "      <td>103.1740</td>\n",
       "      <td>4979.999989</td>\n",
       "      <td>0.025600</td>\n",
       "    </tr>\n",
       "    <tr>\n",
       "      <th>2021-01-03 22:02:00</th>\n",
       "      <td>103.2150</td>\n",
       "      <td>103.2330</td>\n",
       "      <td>103.2150</td>\n",
       "      <td>103.2330</td>\n",
       "      <td>2369.999997</td>\n",
       "      <td>0.090000</td>\n",
       "    </tr>\n",
       "    <tr>\n",
       "      <th>2021-01-03 22:03:00</th>\n",
       "      <td>103.2050</td>\n",
       "      <td>103.2075</td>\n",
       "      <td>103.1955</td>\n",
       "      <td>103.1955</td>\n",
       "      <td>6750.000000</td>\n",
       "      <td>0.041500</td>\n",
       "    </tr>\n",
       "    <tr>\n",
       "      <th>2021-01-03 22:04:00</th>\n",
       "      <td>103.1965</td>\n",
       "      <td>103.2080</td>\n",
       "      <td>103.1965</td>\n",
       "      <td>103.2070</td>\n",
       "      <td>9740.000010</td>\n",
       "      <td>0.022857</td>\n",
       "    </tr>\n",
       "  </tbody>\n",
       "</table>\n",
       "</div>"
      ],
      "text/plain": [
       "                         open      high       low     close        volume  \\\n",
       "timestamp                                                                   \n",
       "2021-01-03 22:00:00  103.1185  103.1720  103.1175  103.1720  16990.000002   \n",
       "2021-01-03 22:01:00  103.1725  103.1740  103.1725  103.1740   4979.999989   \n",
       "2021-01-03 22:02:00  103.2150  103.2330  103.2150  103.2330   2369.999997   \n",
       "2021-01-03 22:03:00  103.2050  103.2075  103.1955  103.1955   6750.000000   \n",
       "2021-01-03 22:04:00  103.1965  103.2080  103.1965  103.2070   9740.000010   \n",
       "\n",
       "                       spread  \n",
       "timestamp                      \n",
       "2021-01-03 22:00:00  0.025600  \n",
       "2021-01-03 22:01:00  0.025600  \n",
       "2021-01-03 22:02:00  0.090000  \n",
       "2021-01-03 22:03:00  0.041500  \n",
       "2021-01-03 22:04:00  0.022857  "
      ]
     },
     "execution_count": 7,
     "metadata": {},
     "output_type": "execute_result"
    }
   ],
   "source": [
    "df['timestamp'] = pd.to_datetime(df['timestamp'], unit='ms')\n",
    "\n",
    "df = df.set_index('timestamp')\n",
    "\n",
    "df.head()"
   ]
  },
  {
   "cell_type": "code",
   "execution_count": 8,
   "id": "8c1db535-7a35-47be-9437-ca370fadb44b",
   "metadata": {},
   "outputs": [],
   "source": [
    "import numpy as np\n",
    "\n",
    "df['log_return'] = np.log(df['close'] / df['close'].shift(1))\n",
    "df['log_volume'] = np.log1p(df['volume'])\n",
    "df = df.dropna()"
   ]
  },
  {
   "cell_type": "code",
   "execution_count": 9,
   "id": "1e9c87aa-2c65-456d-b9b9-79229afc1828",
   "metadata": {},
   "outputs": [
    {
     "data": {
      "text/html": [
       "<div>\n",
       "<style scoped>\n",
       "    .dataframe tbody tr th:only-of-type {\n",
       "        vertical-align: middle;\n",
       "    }\n",
       "\n",
       "    .dataframe tbody tr th {\n",
       "        vertical-align: top;\n",
       "    }\n",
       "\n",
       "    .dataframe thead th {\n",
       "        text-align: right;\n",
       "    }\n",
       "</style>\n",
       "<table border=\"1\" class=\"dataframe\">\n",
       "  <thead>\n",
       "    <tr style=\"text-align: right;\">\n",
       "      <th></th>\n",
       "      <th>open</th>\n",
       "      <th>high</th>\n",
       "      <th>low</th>\n",
       "      <th>close</th>\n",
       "      <th>volume</th>\n",
       "      <th>spread</th>\n",
       "      <th>log_return</th>\n",
       "      <th>log_volume</th>\n",
       "    </tr>\n",
       "    <tr>\n",
       "      <th>timestamp</th>\n",
       "      <th></th>\n",
       "      <th></th>\n",
       "      <th></th>\n",
       "      <th></th>\n",
       "      <th></th>\n",
       "      <th></th>\n",
       "      <th></th>\n",
       "      <th></th>\n",
       "    </tr>\n",
       "  </thead>\n",
       "  <tbody>\n",
       "    <tr>\n",
       "      <th>2021-01-03 22:01:00</th>\n",
       "      <td>103.1725</td>\n",
       "      <td>103.1740</td>\n",
       "      <td>103.1725</td>\n",
       "      <td>103.1740</td>\n",
       "      <td>4979.999989</td>\n",
       "      <td>0.025600</td>\n",
       "      <td>0.000019</td>\n",
       "      <td>8.513386</td>\n",
       "    </tr>\n",
       "    <tr>\n",
       "      <th>2021-01-03 22:02:00</th>\n",
       "      <td>103.2150</td>\n",
       "      <td>103.2330</td>\n",
       "      <td>103.2150</td>\n",
       "      <td>103.2330</td>\n",
       "      <td>2369.999997</td>\n",
       "      <td>0.090000</td>\n",
       "      <td>0.000572</td>\n",
       "      <td>7.771067</td>\n",
       "    </tr>\n",
       "    <tr>\n",
       "      <th>2021-01-03 22:03:00</th>\n",
       "      <td>103.2050</td>\n",
       "      <td>103.2075</td>\n",
       "      <td>103.1955</td>\n",
       "      <td>103.1955</td>\n",
       "      <td>6750.000000</td>\n",
       "      <td>0.041500</td>\n",
       "      <td>-0.000363</td>\n",
       "      <td>8.817446</td>\n",
       "    </tr>\n",
       "    <tr>\n",
       "      <th>2021-01-03 22:04:00</th>\n",
       "      <td>103.1965</td>\n",
       "      <td>103.2080</td>\n",
       "      <td>103.1965</td>\n",
       "      <td>103.2070</td>\n",
       "      <td>9740.000010</td>\n",
       "      <td>0.022857</td>\n",
       "      <td>0.000111</td>\n",
       "      <td>9.184099</td>\n",
       "    </tr>\n",
       "    <tr>\n",
       "      <th>2021-01-03 22:05:00</th>\n",
       "      <td>103.2075</td>\n",
       "      <td>103.2110</td>\n",
       "      <td>103.2075</td>\n",
       "      <td>103.2105</td>\n",
       "      <td>10470.000029</td>\n",
       "      <td>0.021875</td>\n",
       "      <td>0.000034</td>\n",
       "      <td>9.256365</td>\n",
       "    </tr>\n",
       "  </tbody>\n",
       "</table>\n",
       "</div>"
      ],
      "text/plain": [
       "                         open      high       low     close        volume  \\\n",
       "timestamp                                                                   \n",
       "2021-01-03 22:01:00  103.1725  103.1740  103.1725  103.1740   4979.999989   \n",
       "2021-01-03 22:02:00  103.2150  103.2330  103.2150  103.2330   2369.999997   \n",
       "2021-01-03 22:03:00  103.2050  103.2075  103.1955  103.1955   6750.000000   \n",
       "2021-01-03 22:04:00  103.1965  103.2080  103.1965  103.2070   9740.000010   \n",
       "2021-01-03 22:05:00  103.2075  103.2110  103.2075  103.2105  10470.000029   \n",
       "\n",
       "                       spread  log_return  log_volume  \n",
       "timestamp                                              \n",
       "2021-01-03 22:01:00  0.025600    0.000019    8.513386  \n",
       "2021-01-03 22:02:00  0.090000    0.000572    7.771067  \n",
       "2021-01-03 22:03:00  0.041500   -0.000363    8.817446  \n",
       "2021-01-03 22:04:00  0.022857    0.000111    9.184099  \n",
       "2021-01-03 22:05:00  0.021875    0.000034    9.256365  "
      ]
     },
     "execution_count": 9,
     "metadata": {},
     "output_type": "execute_result"
    }
   ],
   "source": [
    "df.head()"
   ]
  },
  {
   "cell_type": "markdown",
   "id": "d3e9654f-61f8-47fb-bec5-58eae44404cf",
   "metadata": {},
   "source": [
    "## Get Events Start Time (t0)"
   ]
  },
  {
   "cell_type": "code",
   "execution_count": 10,
   "id": "cdaa6e3a-24d8-4c70-ba2e-d8e230537406",
   "metadata": {},
   "outputs": [],
   "source": [
    "import numpy as np\n",
    "import pandas as pd\n",
    "from tqdm import tqdm\n",
    "\n",
    "def get_tevents_optimized(data: pd.Series, threshold: float) -> pd.DatetimeIndex:\n",
    "    values = data.values\n",
    "    timestamps = data.index\n",
    "\n",
    "    s_pos = np.zeros_like(values)\n",
    "    s_neg = np.zeros_like(values)\n",
    "\n",
    "    t_events_mask = np.zeros_like(values, dtype=bool)\n",
    "\n",
    "    cum_pos, cum_neg = 0.0, 0.0\n",
    "\n",
    "    for i in tqdm(range(len(values))):\n",
    "        cum_pos = max(0.0, cum_pos + values[i])\n",
    "        cum_neg = min(0.0, cum_neg + values[i])\n",
    "        s_pos[i] = cum_pos\n",
    "        s_neg[i] = cum_neg\n",
    "\n",
    "        if cum_pos > threshold:\n",
    "            t_events_mask[i] = True\n",
    "            cum_pos = 0.0\n",
    "        if cum_neg < -threshold:\n",
    "            t_events_mask[i] = True\n",
    "            cum_neg = 0.0\n",
    "\n",
    "    return timestamps[t_events_mask]\n"
   ]
  },
  {
   "cell_type": "code",
   "execution_count": 11,
   "id": "35f0f7b6-3269-4201-ac13-168102e815e2",
   "metadata": {},
   "outputs": [
    {
     "name": "stderr",
     "output_type": "stream",
     "text": [
      "100%|███████████████████████████████████████████████████████████████████████████████████████████████████████████████████████████| 1480350/1480350 [00:00<00:00, 3914933.74it/s]"
     ]
    },
    {
     "name": "stdout",
     "output_type": "stream",
     "text": [
      "CPU times: user 374 ms, sys: 11.5 ms, total: 386 ms\n",
      "Wall time: 390 ms\n"
     ]
    },
    {
     "name": "stderr",
     "output_type": "stream",
     "text": [
      "\n"
     ]
    }
   ],
   "source": [
    "%%time\n",
    "\n",
    "t_events = get_tevents_optimized(df['log_return'].iloc[1:], 1e-3)"
   ]
  },
  {
   "cell_type": "code",
   "execution_count": 12,
   "id": "7622afbc-4d47-451d-81b6-fd890074bb72",
   "metadata": {},
   "outputs": [
    {
     "data": {
      "text/plain": [
       "DatetimeIndex(['2021-01-03 23:20:00', '2021-01-04 00:01:00',\n",
       "               '2021-01-04 00:29:00', '2021-01-04 01:35:00',\n",
       "               '2021-01-04 02:24:00', '2021-01-04 05:16:00',\n",
       "               '2021-01-04 07:12:00', '2021-01-04 07:46:00',\n",
       "               '2021-01-04 08:30:00', '2021-01-04 11:09:00',\n",
       "               ...\n",
       "               '2024-12-30 16:06:00', '2024-12-30 16:22:00',\n",
       "               '2024-12-30 17:01:00', '2024-12-30 17:54:00',\n",
       "               '2024-12-30 18:35:00', '2024-12-30 19:58:00',\n",
       "               '2024-12-30 20:30:00', '2024-12-30 21:06:00',\n",
       "               '2024-12-30 22:33:00', '2024-12-30 23:16:00'],\n",
       "              dtype='datetime64[ns]', name='timestamp', length=36985, freq=None)"
      ]
     },
     "execution_count": 12,
     "metadata": {},
     "output_type": "execute_result"
    }
   ],
   "source": [
    "t_events"
   ]
  },
  {
   "cell_type": "code",
   "execution_count": 13,
   "id": "8f529823-eee5-4f0b-a95a-37e613b0986a",
   "metadata": {
    "scrolled": true
   },
   "outputs": [
    {
     "data": {
      "text/html": [
       "<div>\n",
       "<style scoped>\n",
       "    .dataframe tbody tr th:only-of-type {\n",
       "        vertical-align: middle;\n",
       "    }\n",
       "\n",
       "    .dataframe tbody tr th {\n",
       "        vertical-align: top;\n",
       "    }\n",
       "\n",
       "    .dataframe thead th {\n",
       "        text-align: right;\n",
       "    }\n",
       "</style>\n",
       "<table border=\"1\" class=\"dataframe\">\n",
       "  <thead>\n",
       "    <tr style=\"text-align: right;\">\n",
       "      <th></th>\n",
       "      <th>open</th>\n",
       "      <th>high</th>\n",
       "      <th>low</th>\n",
       "      <th>close</th>\n",
       "      <th>volume</th>\n",
       "      <th>spread</th>\n",
       "      <th>log_return</th>\n",
       "      <th>log_volume</th>\n",
       "    </tr>\n",
       "    <tr>\n",
       "      <th>timestamp</th>\n",
       "      <th></th>\n",
       "      <th></th>\n",
       "      <th></th>\n",
       "      <th></th>\n",
       "      <th></th>\n",
       "      <th></th>\n",
       "      <th></th>\n",
       "      <th></th>\n",
       "    </tr>\n",
       "  </thead>\n",
       "  <tbody>\n",
       "    <tr>\n",
       "      <th>2021-01-03 23:20:00</th>\n",
       "      <td>103.2740</td>\n",
       "      <td>103.2945</td>\n",
       "      <td>103.2735</td>\n",
       "      <td>103.2945</td>\n",
       "      <td>175020.002007</td>\n",
       "      <td>0.005963</td>\n",
       "      <td>0.000174</td>\n",
       "      <td>12.072661</td>\n",
       "    </tr>\n",
       "    <tr>\n",
       "      <th>2021-01-04 00:01:00</th>\n",
       "      <td>103.2290</td>\n",
       "      <td>103.2325</td>\n",
       "      <td>103.1950</td>\n",
       "      <td>103.2065</td>\n",
       "      <td>383980.002165</td>\n",
       "      <td>0.003228</td>\n",
       "      <td>-0.000203</td>\n",
       "      <td>12.858348</td>\n",
       "    </tr>\n",
       "    <tr>\n",
       "      <th>2021-01-04 00:29:00</th>\n",
       "      <td>103.1230</td>\n",
       "      <td>103.1250</td>\n",
       "      <td>103.1085</td>\n",
       "      <td>103.1130</td>\n",
       "      <td>200270.002246</td>\n",
       "      <td>0.002810</td>\n",
       "      <td>-0.000102</td>\n",
       "      <td>12.207427</td>\n",
       "    </tr>\n",
       "    <tr>\n",
       "      <th>2021-01-04 01:35:00</th>\n",
       "      <td>103.1125</td>\n",
       "      <td>103.1215</td>\n",
       "      <td>103.1105</td>\n",
       "      <td>103.1190</td>\n",
       "      <td>118640.000939</td>\n",
       "      <td>0.003147</td>\n",
       "      <td>0.000048</td>\n",
       "      <td>11.683857</td>\n",
       "    </tr>\n",
       "    <tr>\n",
       "      <th>2021-01-04 02:24:00</th>\n",
       "      <td>103.0310</td>\n",
       "      <td>103.0335</td>\n",
       "      <td>103.0135</td>\n",
       "      <td>103.0150</td>\n",
       "      <td>160380.001426</td>\n",
       "      <td>0.003083</td>\n",
       "      <td>-0.000150</td>\n",
       "      <td>11.985308</td>\n",
       "    </tr>\n",
       "    <tr>\n",
       "      <th>...</th>\n",
       "      <td>...</td>\n",
       "      <td>...</td>\n",
       "      <td>...</td>\n",
       "      <td>...</td>\n",
       "      <td>...</td>\n",
       "      <td>...</td>\n",
       "      <td>...</td>\n",
       "      <td>...</td>\n",
       "    </tr>\n",
       "    <tr>\n",
       "      <th>2024-12-30 19:58:00</th>\n",
       "      <td>157.0775</td>\n",
       "      <td>157.0975</td>\n",
       "      <td>157.0715</td>\n",
       "      <td>157.0965</td>\n",
       "      <td>630179.994345</td>\n",
       "      <td>0.006341</td>\n",
       "      <td>0.000143</td>\n",
       "      <td>13.353762</td>\n",
       "    </tr>\n",
       "    <tr>\n",
       "      <th>2024-12-30 20:30:00</th>\n",
       "      <td>156.9610</td>\n",
       "      <td>156.9620</td>\n",
       "      <td>156.9500</td>\n",
       "      <td>156.9500</td>\n",
       "      <td>290249.996901</td>\n",
       "      <td>0.006233</td>\n",
       "      <td>-0.000076</td>\n",
       "      <td>12.578501</td>\n",
       "    </tr>\n",
       "    <tr>\n",
       "      <th>2024-12-30 21:06:00</th>\n",
       "      <td>156.8175</td>\n",
       "      <td>156.8175</td>\n",
       "      <td>156.7810</td>\n",
       "      <td>156.7860</td>\n",
       "      <td>490710.001230</td>\n",
       "      <td>0.007143</td>\n",
       "      <td>-0.000195</td>\n",
       "      <td>13.103611</td>\n",
       "    </tr>\n",
       "    <tr>\n",
       "      <th>2024-12-30 22:33:00</th>\n",
       "      <td>156.9225</td>\n",
       "      <td>156.9225</td>\n",
       "      <td>156.9220</td>\n",
       "      <td>156.9225</td>\n",
       "      <td>7200.000286</td>\n",
       "      <td>0.040000</td>\n",
       "      <td>0.000032</td>\n",
       "      <td>8.881975</td>\n",
       "    </tr>\n",
       "    <tr>\n",
       "      <th>2024-12-30 23:16:00</th>\n",
       "      <td>157.0125</td>\n",
       "      <td>157.0435</td>\n",
       "      <td>157.0120</td>\n",
       "      <td>157.0410</td>\n",
       "      <td>145920.002460</td>\n",
       "      <td>0.009830</td>\n",
       "      <td>0.000185</td>\n",
       "      <td>11.890821</td>\n",
       "    </tr>\n",
       "  </tbody>\n",
       "</table>\n",
       "<p>36985 rows × 8 columns</p>\n",
       "</div>"
      ],
      "text/plain": [
       "                         open      high       low     close         volume  \\\n",
       "timestamp                                                                    \n",
       "2021-01-03 23:20:00  103.2740  103.2945  103.2735  103.2945  175020.002007   \n",
       "2021-01-04 00:01:00  103.2290  103.2325  103.1950  103.2065  383980.002165   \n",
       "2021-01-04 00:29:00  103.1230  103.1250  103.1085  103.1130  200270.002246   \n",
       "2021-01-04 01:35:00  103.1125  103.1215  103.1105  103.1190  118640.000939   \n",
       "2021-01-04 02:24:00  103.0310  103.0335  103.0135  103.0150  160380.001426   \n",
       "...                       ...       ...       ...       ...            ...   \n",
       "2024-12-30 19:58:00  157.0775  157.0975  157.0715  157.0965  630179.994345   \n",
       "2024-12-30 20:30:00  156.9610  156.9620  156.9500  156.9500  290249.996901   \n",
       "2024-12-30 21:06:00  156.8175  156.8175  156.7810  156.7860  490710.001230   \n",
       "2024-12-30 22:33:00  156.9225  156.9225  156.9220  156.9225    7200.000286   \n",
       "2024-12-30 23:16:00  157.0125  157.0435  157.0120  157.0410  145920.002460   \n",
       "\n",
       "                       spread  log_return  log_volume  \n",
       "timestamp                                              \n",
       "2021-01-03 23:20:00  0.005963    0.000174   12.072661  \n",
       "2021-01-04 00:01:00  0.003228   -0.000203   12.858348  \n",
       "2021-01-04 00:29:00  0.002810   -0.000102   12.207427  \n",
       "2021-01-04 01:35:00  0.003147    0.000048   11.683857  \n",
       "2021-01-04 02:24:00  0.003083   -0.000150   11.985308  \n",
       "...                       ...         ...         ...  \n",
       "2024-12-30 19:58:00  0.006341    0.000143   13.353762  \n",
       "2024-12-30 20:30:00  0.006233   -0.000076   12.578501  \n",
       "2024-12-30 21:06:00  0.007143   -0.000195   13.103611  \n",
       "2024-12-30 22:33:00  0.040000    0.000032    8.881975  \n",
       "2024-12-30 23:16:00  0.009830    0.000185   11.890821  \n",
       "\n",
       "[36985 rows x 8 columns]"
      ]
     },
     "execution_count": 13,
     "metadata": {},
     "output_type": "execute_result"
    }
   ],
   "source": [
    "df.loc[t_events]"
   ]
  },
  {
   "cell_type": "code",
   "execution_count": 14,
   "id": "a9f51860-f3d4-43dd-87b6-6861c184509c",
   "metadata": {},
   "outputs": [],
   "source": [
    "# 確保 df.index 和 t_events 都是 datetime 類型\n",
    "df.index = pd.to_datetime(df.index)\n",
    "t_events = pd.to_datetime(t_events)\n",
    "\n",
    "# 過濾出 2020 年的 df\n",
    "df_2020 = df.loc[\"2021-01\"]\n",
    "\n",
    "# 過濾出 t_events 中屬於 2020 年的事件\n",
    "t_events_2020 = t_events[(t_events >= \"2021-01-01\") & (t_events < \"2021-02-01\")]\n"
   ]
  },
  {
   "cell_type": "code",
   "execution_count": 15,
   "id": "9ee81cfb-c944-48d9-b031-98c43c43dad7",
   "metadata": {},
   "outputs": [
    {
     "data": {
      "text/plain": [
       "<matplotlib.collections.PathCollection at 0x11cde0610>"
      ]
     },
     "execution_count": 15,
     "metadata": {},
     "output_type": "execute_result"
    },
    {
     "data": {
      "image/png": "[encoded data removed]",
      "text/plain": [
       "<Figure size 640x480 with 1 Axes>"
      ]
     },
     "metadata": {},
     "output_type": "display_data"
    }
   ],
   "source": [
    "from matplotlib import pyplot as plt\n",
    "close = df_2020['close']\n",
    "plt.plot(close)\n",
    "plt.scatter(t_events_2020, close.loc[t_events_2020], c='red')"
   ]
  },
  {
   "cell_type": "markdown",
   "id": "6c93411b-4eac-441d-ba4b-13ac064fe2ea",
   "metadata": {},
   "source": [
    "## Calculate Target Volatility (trgt)\n",
    "This will be used for the calculation of dynamic TP/SL"
   ]
  },
  {
   "cell_type": "code",
   "execution_count": 16,
   "id": "df790074-e2bd-4e8b-94f0-06aaac5a92d5",
   "metadata": {},
   "outputs": [],
   "source": [
    "def get_daily_vol(close,span0=100):\n",
    "    # daily vol reindexed to close\n",
    "    df0=close.index.searchsorted(close.index-pd.Timedelta(days=1))\n",
    "    #bp()\n",
    "    df0=df0[df0>0]\n",
    "    #bp()\n",
    "    df0=(pd.Series(close.index[df0-1],\n",
    "                   index=close.index[close.shape[0]-df0.shape[0]:]))\n",
    "    #bp()\n",
    "    try:\n",
    "        df0=close.loc[df0.index]/close.loc[df0.values].values-1 # daily rets\n",
    "    except Exception as e:\n",
    "        print(e)\n",
    "        print('adjusting shape of close.loc[df0.index]')\n",
    "        cut = close.loc[df0.index].shape[0] - close.loc[df0.values].shape[0]\n",
    "        df0=close.loc[df0.index].iloc[:-cut]/close.loc[df0.values].values-1\n",
    "    df0=df0.ewm(span=span0).std().rename('dailyVol')\n",
    "    return df0"
   ]
  },
  {
   "cell_type": "code",
   "execution_count": 17,
   "id": "9856f5e4-1f97-4e9a-a0c4-d971c1f91208",
   "metadata": {},
   "outputs": [
    {
     "name": "stdout",
     "output_type": "stream",
     "text": [
      "CPU times: user 201 ms, sys: 12.1 ms, total: 213 ms\n",
      "Wall time: 213 ms\n"
     ]
    }
   ],
   "source": [
    "%%time\n",
    "daily_vol = get_daily_vol(df['close'])"
   ]
  },
  {
   "cell_type": "code",
   "execution_count": 18,
   "id": "d2e1709f-0593-4d21-94ed-822c00686217",
   "metadata": {
    "scrolled": true
   },
   "outputs": [
    {
     "data": {
      "text/plain": [
       "count    36969.000000\n",
       "mean         0.001444\n",
       "std          0.001379\n",
       "min          0.000086\n",
       "25%          0.000656\n",
       "50%          0.001047\n",
       "75%          0.001710\n",
       "max          0.013479\n",
       "Name: dailyVol, dtype: float64"
      ]
     },
     "execution_count": 18,
     "metadata": {},
     "output_type": "execute_result"
    }
   ],
   "source": [
    "trgt = daily_vol.reindex(t_events, method='ffill')\n",
    "trgt.describe()"
   ]
  },
  {
   "cell_type": "code",
   "execution_count": 19,
   "id": "0eb0f22e-1ff3-4aeb-a943-feef9caa6687",
   "metadata": {},
   "outputs": [],
   "source": [
    "from ta.volatility import AverageTrueRange\n",
    "\n",
    "def get_atr(closes, window=60):\n",
    "    atr = AverageTrueRange(high=df['high'], low=df['low'], close=df['close'], window=window)\n",
    "    return atr.average_true_range().rename(f\"atr{window}\")"
   ]
  },
  {
   "cell_type": "code",
   "execution_count": 20,
   "id": "12c12658-9c11-4853-9aba-734141ceede0",
   "metadata": {},
   "outputs": [
    {
     "name": "stdout",
     "output_type": "stream",
     "text": [
      "CPU times: user 1.73 s, sys: 16.1 ms, total: 1.74 s\n",
      "Wall time: 1.74 s\n"
     ]
    }
   ],
   "source": [
    "%%time\n",
    "atr60 = get_atr(df['close'], window=60)"
   ]
  },
  {
   "cell_type": "code",
   "execution_count": 21,
   "id": "581f0b16-d467-41ed-a25e-de56a66a4390",
   "metadata": {
    "scrolled": true
   },
   "outputs": [
    {
     "data": {
      "text/plain": [
       "count    36985.000000\n",
       "mean         0.039246\n",
       "std          0.029019\n",
       "min          0.002808\n",
       "25%          0.021596\n",
       "50%          0.032342\n",
       "75%          0.047228\n",
       "max          0.286193\n",
       "Name: atr60, dtype: float64"
      ]
     },
     "execution_count": 21,
     "metadata": {},
     "output_type": "execute_result"
    }
   ],
   "source": [
    "trgt = atr60.reindex(t_events, method='ffill')\n",
    "trgt.describe()"
   ]
  },
  {
   "cell_type": "code",
   "execution_count": 22,
   "id": "c839777a-ba60-4396-87e0-5cd291264409",
   "metadata": {},
   "outputs": [],
   "source": [
    "def get_intraday_vol(log_return, window=60, span=60):\n",
    "    rolling_std = log_return.rolling(window=window).std()\n",
    "    smoothed_vol = rolling_std.ewm(span=span).mean()\n",
    "    return smoothed_vol.rename(f'intraday_vol_{window}_{span}')"
   ]
  },
  {
   "cell_type": "code",
   "execution_count": 23,
   "id": "3f5f1d5e-3395-4b74-bdf8-bfb59278ea1e",
   "metadata": {},
   "outputs": [],
   "source": [
    "intraday_vol = get_intraday_vol(df['log_return'], window=60, span=60)"
   ]
  },
  {
   "cell_type": "code",
   "execution_count": 24,
   "id": "79ebc967-8e21-475a-bb56-d1faa12cd31f",
   "metadata": {},
   "outputs": [
    {
     "data": {
      "text/plain": [
       "count    36985.000000\n",
       "mean         0.001066\n",
       "std          0.000858\n",
       "min          0.000097\n",
       "25%          0.000582\n",
       "50%          0.000844\n",
       "75%          0.001227\n",
       "max          0.010377\n",
       "Name: intraday_vol_60_60, dtype: float64"
      ]
     },
     "execution_count": 24,
     "metadata": {},
     "output_type": "execute_result"
    }
   ],
   "source": [
    "trgt = 5 * intraday_vol.reindex(t_events, method='ffill')\n",
    "trgt.describe()"
   ]
  },
  {
   "cell_type": "markdown",
   "id": "21841f1a-8cbd-46bf-bd31-3662c1e904b1",
   "metadata": {},
   "source": [
    "## Apply Triple Barrier\n",
    "We use daily volatility to calculate TP/SL, and we set our T1 as 1day"
   ]
  },
  {
   "cell_type": "code",
   "execution_count": 25,
   "id": "b21bcce2-ed4c-4f70-84ba-e5f9c6893ee7",
   "metadata": {},
   "outputs": [],
   "source": [
    "from concurrent.futures import ThreadPoolExecutor\n",
    "import numpy as np\n",
    "import pandas as pd\n",
    "\n",
    "def applyPtSlOnT1(close,events,ptSl,molecule):\n",
    "    # apply stop loss/profit taking, if it takes place before t1 (end of event)\n",
    "    events_=events.loc[molecule]\n",
    "    out=events_[['t1']].copy(deep=True)\n",
    "    if ptSl[0]>0: pt=ptSl[0]*events_['trgt']\n",
    "    else: pt=pd.Series(index=events.index) # NaNs\n",
    "    if ptSl[1]>0: sl=-ptSl[1]*events_['trgt']\n",
    "    else: sl=pd.Series(index=events.index) # NaNs\n",
    "    for loc, t1 in events_['t1'].fillna(close.index[-1]).items():\n",
    "        df0=close[loc:t1] # path prices\n",
    "        df0=(df0/close[loc]-1)*events_.at[loc,'side'] # path returns\n",
    "        out.loc[loc,'sl']=df0[df0<sl[loc]].index.min() # earliest stop loss\n",
    "        out.loc[loc,'pt']=df0[df0>pt[loc]].index.min() # earliest profit taking\n",
    "    return out\n",
    "\n",
    "\n",
    "def parallel_apply(func, items, num_threads=4, **kwargs):\n",
    "    def worker(molecule):\n",
    "        return func(molecule=molecule, **kwargs)\n",
    "\n",
    "    chunks = np.array_split(items, num_threads)\n",
    "    with ThreadPoolExecutor(max_workers=num_threads) as executor:\n",
    "        results = list(executor.map(worker, chunks))\n",
    "\n",
    "    return pd.concat(results).sort_index()\n",
    "\n",
    "\n",
    "def getEvents(close, tEvents, ptSl, trgt, minRet, numThreads=4, t1=False, side=None):\n",
    "    # Step 1: Filter targets\n",
    "    trgt = trgt.loc[tEvents]\n",
    "    trgt = trgt[trgt > minRet]\n",
    "\n",
    "    # Step 2: Set vertical barrier (t1)\n",
    "    if t1 is False:\n",
    "        t1 = pd.Series(pd.NaT, index=tEvents)\n",
    "\n",
    "    # Step 3: Build events DataFrame\n",
    "    if side is None:\n",
    "        side_, ptSl_ = pd.Series(1., index=trgt.index), [ptSl[0], ptSl[0]]\n",
    "    else:\n",
    "        side_, ptSl_ = side.loc[trgt.index], ptSl[:2]\n",
    "\n",
    "    events = pd.concat({'t1': t1, 'trgt': trgt, 'side': side_}, axis=1).dropna(subset=['trgt'])\n",
    "\n",
    "    # Step 4: Apply barriers in parallel\n",
    "    df0 = parallel_apply(\n",
    "        func=applyPtSlOnT1,\n",
    "        items=events.index,\n",
    "        num_threads=numThreads,\n",
    "        close=close,\n",
    "        events=events,\n",
    "        ptSl=ptSl_\n",
    "    )\n",
    "\n",
    "    # Step 5: Choose the first touched barrier\n",
    "    events['t1'] = df0.dropna(how='all').min(axis=1)\n",
    "    if side is None:\n",
    "        events = events.drop('side', axis=1)\n",
    "    return events\n"
   ]
  },
  {
   "cell_type": "code",
   "execution_count": 26,
   "id": "1c4cb836-44c5-4ec8-a5bc-79982eb1daf8",
   "metadata": {},
   "outputs": [],
   "source": [
    "def get_vertical_barrier(t_events, close, delta=pd.Timedelta(minutes=60)):\n",
    "    \"\"\"\n",
    "    For each event in t_events, find the timestamp in close.index \n",
    "    that is at least delta later. Returns a pd.Series of t1.\n",
    "    \"\"\"\n",
    "    barrier_times = t_events + delta\n",
    "    t1_idx = close.index.searchsorted(barrier_times)\n",
    "    valid_idx = t1_idx[t1_idx < len(close)]\n",
    "    t1 = pd.Series(close.index[valid_idx], index=t_events[:len(valid_idx)])\n",
    "    return t1"
   ]
  },
  {
   "cell_type": "code",
   "execution_count": 27,
   "id": "c1c542ed-24cc-4403-b3ca-e01fd931484a",
   "metadata": {},
   "outputs": [],
   "source": [
    "t1 = get_vertical_barrier(t_events, df['close'], delta=pd.Timedelta(minutes=60))"
   ]
  },
  {
   "cell_type": "code",
   "execution_count": 28,
   "id": "2666c0a7-7347-427a-a815-6299967b7671",
   "metadata": {
    "scrolled": true
   },
   "outputs": [
    {
     "data": {
      "text/plain": [
       "timestamp\n",
       "2021-01-03 23:20:00   2021-01-04 00:20:00\n",
       "2021-01-04 00:01:00   2021-01-04 01:01:00\n",
       "2021-01-04 00:29:00   2021-01-04 01:29:00\n",
       "2021-01-04 01:35:00   2021-01-04 02:35:00\n",
       "2021-01-04 02:24:00   2021-01-04 03:24:00\n",
       "                              ...        \n",
       "2024-12-30 18:35:00   2024-12-30 19:35:00\n",
       "2024-12-30 19:58:00   2024-12-30 20:58:00\n",
       "2024-12-30 20:30:00   2024-12-30 21:30:00\n",
       "2024-12-30 21:06:00   2024-12-30 22:06:00\n",
       "2024-12-30 22:33:00   2024-12-30 23:33:00\n",
       "Name: timestamp, Length: 36984, dtype: datetime64[ns]"
      ]
     },
     "execution_count": 28,
     "metadata": {},
     "output_type": "execute_result"
    }
   ],
   "source": [
    "t1"
   ]
  },
  {
   "cell_type": "markdown",
   "id": "c7fb62e1-79cd-463b-9c54-b339c1302343",
   "metadata": {},
   "source": [
    "## Calculate minRet"
   ]
  },
  {
   "cell_type": "code",
   "execution_count": 29,
   "id": "7e766bcf-fc77-4085-828f-aecd951b01ff",
   "metadata": {},
   "outputs": [
    {
     "data": {
      "text/plain": [
       "np.float64(0.00913947852803245)"
      ]
     },
     "execution_count": 29,
     "metadata": {},
     "output_type": "execute_result"
    }
   ],
   "source": [
    "min_ret = 0.5 * atr60.median()\n",
    "min_ret"
   ]
  },
  {
   "cell_type": "code",
   "execution_count": 30,
   "id": "aad0bc6e-3302-45e5-b64b-bcebfab3db4c",
   "metadata": {},
   "outputs": [
    {
     "name": "stdout",
     "output_type": "stream",
     "text": [
      "CPU times: user 9.79 s, sys: 774 ms, total: 10.6 s\n",
      "Wall time: 9.86 s\n"
     ]
    }
   ],
   "source": [
    "%%time\n",
    "\n",
    "events = getEvents(df['close'], t_events, [1,1], trgt, 0, 8, t1=t1, side=None)"
   ]
  },
  {
   "cell_type": "code",
   "execution_count": 31,
   "id": "826a783f-64c0-4bae-8a37-ee4d895b824b",
   "metadata": {},
   "outputs": [
    {
     "data": {
      "text/html": [
       "<div>\n",
       "<style scoped>\n",
       "    .dataframe tbody tr th:only-of-type {\n",
       "        vertical-align: middle;\n",
       "    }\n",
       "\n",
       "    .dataframe tbody tr th {\n",
       "        vertical-align: top;\n",
       "    }\n",
       "\n",
       "    .dataframe thead th {\n",
       "        text-align: right;\n",
       "    }\n",
       "</style>\n",
       "<table border=\"1\" class=\"dataframe\">\n",
       "  <thead>\n",
       "    <tr style=\"text-align: right;\">\n",
       "      <th></th>\n",
       "      <th>t1</th>\n",
       "      <th>trgt</th>\n",
       "    </tr>\n",
       "    <tr>\n",
       "      <th>timestamp</th>\n",
       "      <th></th>\n",
       "      <th></th>\n",
       "    </tr>\n",
       "  </thead>\n",
       "  <tbody>\n",
       "    <tr>\n",
       "      <th>2021-01-03 23:20:00</th>\n",
       "      <td>2021-01-03 23:32:00</td>\n",
       "      <td>0.000435</td>\n",
       "    </tr>\n",
       "    <tr>\n",
       "      <th>2021-01-04 00:01:00</th>\n",
       "      <td>2021-01-04 00:10:00</td>\n",
       "      <td>0.000459</td>\n",
       "    </tr>\n",
       "    <tr>\n",
       "      <th>2021-01-04 00:29:00</th>\n",
       "      <td>2021-01-04 00:40:00</td>\n",
       "      <td>0.000519</td>\n",
       "    </tr>\n",
       "    <tr>\n",
       "      <th>2021-01-04 01:35:00</th>\n",
       "      <td>2021-01-04 01:50:00</td>\n",
       "      <td>0.000566</td>\n",
       "    </tr>\n",
       "    <tr>\n",
       "      <th>2021-01-04 02:24:00</th>\n",
       "      <td>2021-01-04 03:24:00</td>\n",
       "      <td>0.000488</td>\n",
       "    </tr>\n",
       "    <tr>\n",
       "      <th>...</th>\n",
       "      <td>...</td>\n",
       "      <td>...</td>\n",
       "    </tr>\n",
       "    <tr>\n",
       "      <th>2024-12-30 19:58:00</th>\n",
       "      <td>2024-12-30 20:03:00</td>\n",
       "      <td>0.000393</td>\n",
       "    </tr>\n",
       "    <tr>\n",
       "      <th>2024-12-30 20:30:00</th>\n",
       "      <td>2024-12-30 20:34:00</td>\n",
       "      <td>0.000370</td>\n",
       "    </tr>\n",
       "    <tr>\n",
       "      <th>2024-12-30 21:06:00</th>\n",
       "      <td>2024-12-30 21:46:00</td>\n",
       "      <td>0.000409</td>\n",
       "    </tr>\n",
       "    <tr>\n",
       "      <th>2024-12-30 22:33:00</th>\n",
       "      <td>2024-12-30 23:11:00</td>\n",
       "      <td>0.000395</td>\n",
       "    </tr>\n",
       "    <tr>\n",
       "      <th>2024-12-30 23:16:00</th>\n",
       "      <td>2024-12-30 23:35:00</td>\n",
       "      <td>0.000381</td>\n",
       "    </tr>\n",
       "  </tbody>\n",
       "</table>\n",
       "<p>36985 rows × 2 columns</p>\n",
       "</div>"
      ],
      "text/plain": [
       "                                     t1      trgt\n",
       "timestamp                                        \n",
       "2021-01-03 23:20:00 2021-01-03 23:32:00  0.000435\n",
       "2021-01-04 00:01:00 2021-01-04 00:10:00  0.000459\n",
       "2021-01-04 00:29:00 2021-01-04 00:40:00  0.000519\n",
       "2021-01-04 01:35:00 2021-01-04 01:50:00  0.000566\n",
       "2021-01-04 02:24:00 2021-01-04 03:24:00  0.000488\n",
       "...                                 ...       ...\n",
       "2024-12-30 19:58:00 2024-12-30 20:03:00  0.000393\n",
       "2024-12-30 20:30:00 2024-12-30 20:34:00  0.000370\n",
       "2024-12-30 21:06:00 2024-12-30 21:46:00  0.000409\n",
       "2024-12-30 22:33:00 2024-12-30 23:11:00  0.000395\n",
       "2024-12-30 23:16:00 2024-12-30 23:35:00  0.000381\n",
       "\n",
       "[36985 rows x 2 columns]"
      ]
     },
     "execution_count": 31,
     "metadata": {},
     "output_type": "execute_result"
    }
   ],
   "source": [
    "events"
   ]
  },
  {
   "cell_type": "code",
   "execution_count": 32,
   "id": "b31917c3-fc75-438c-9986-4cbc63c2bcf9",
   "metadata": {
    "scrolled": true
   },
   "outputs": [
    {
     "data": {
      "text/plain": [
       "count                        36985\n",
       "mean     0 days 00:32:58.366364742\n",
       "std      0 days 01:46:53.547397921\n",
       "min                0 days 00:01:00\n",
       "25%                0 days 00:11:00\n",
       "50%                0 days 00:24:00\n",
       "75%                0 days 00:50:00\n",
       "max                2 days 02:00:00\n",
       "Name: duration, dtype: object"
      ]
     },
     "execution_count": 32,
     "metadata": {},
     "output_type": "execute_result"
    }
   ],
   "source": [
    "events['duration'] = events['t1'] - events.index\n",
    "events['duration'].describe()"
   ]
  },
  {
   "cell_type": "code",
   "execution_count": 33,
   "id": "d8fdf099-a826-406d-842a-8e3fed679a9a",
   "metadata": {
    "scrolled": true
   },
   "outputs": [
    {
     "name": "stdout",
     "output_type": "stream",
     "text": [
      "Longest event index: 2024-09-27 20:00:00\n",
      "t1          2024-09-29 22:00:00\n",
      "trgt                   0.000789\n",
      "duration        2 days 02:00:00\n",
      "Name: 2024-09-27 20:00:00, dtype: object\n"
     ]
    }
   ],
   "source": [
    "longest_idx = events['duration'].idxmax()\n",
    "longest_event = events.loc[longest_idx]\n",
    "print(f\"Longest event index: {longest_idx}\")\n",
    "print(longest_event)\n"
   ]
  },
  {
   "cell_type": "markdown",
   "id": "4f403db4-3c7f-47f4-99a0-b5ed6f6c52ba",
   "metadata": {},
   "source": [
    "#"
   ]
  },
  {
   "cell_type": "code",
   "execution_count": 34,
   "id": "418be389-de4d-4684-8817-239f42addbe3",
   "metadata": {},
   "outputs": [],
   "source": [
    "def getBins(events, close, t1=None):\n",
    "    '''\n",
    "    Compute event's outcome (including side information, if provided).\n",
    "    events is a DataFrame where:\n",
    "    -events.index is event's starttime\n",
    "    -events['t1'] is event's endtime\n",
    "    -events['trgt'] is event's target\n",
    "    -events['side'] (optional) implies the algo's position side\n",
    "    -t1 is original vertical barrier series\n",
    "    Case 1: ('side' not in events): bin in (-1,1) <-label by price action\n",
    "    Case 2: ('side' in events): bin in (0,1) <-label by pnl (meta-labeling)\n",
    "    '''\n",
    "    # 1) prices aligned with events\n",
    "    events_ = events.dropna(subset=['t1'])\n",
    "    px = events_.index.union(events_['t1'].values).drop_duplicates()\n",
    "    px = close.reindex(px, method='bfill')\n",
    "    # 2) create out object\n",
    "    out = pd.DataFrame(index=events_.index)\n",
    "    out['ret'] = px.loc[events_['t1'].values].values / px.loc[\n",
    "        events_.index] - 1\n",
    "    if 'side' in events_: out['ret'] *= events_['side']  # meta-labeling\n",
    "    out['bin'] = np.sign(out['ret'])\n",
    "\n",
    "    if 'side' not in events_:\n",
    "        # only applies when not meta-labeling.\n",
    "        # to update bin to 0 when vertical barrier is touched, we need the\n",
    "        # original vertical barrier series since the events['t1'] is the time\n",
    "        # of first touch of any barrier and not the vertical barrier\n",
    "        # specifically. The index of the intersection of the vertical barrier\n",
    "        # values and the events['t1'] values indicate which bin labels needs\n",
    "        # to be turned to 0.\n",
    "        vtouch_first_idx = events[events['t1'].isin(t1.values)].index\n",
    "        out.loc[vtouch_first_idx, 'bin'] = 0.\n",
    "\n",
    "    if 'side' in events_: out.loc[out['ret'] <= 0, 'bin'] = 0  # meta-labeling\n",
    "    return out"
   ]
  },
  {
   "cell_type": "code",
   "execution_count": 35,
   "id": "24b6225e-c69b-4822-a57c-982271fbe454",
   "metadata": {
    "scrolled": true
   },
   "outputs": [
    {
     "data": {
      "text/html": [
       "<div>\n",
       "<style scoped>\n",
       "    .dataframe tbody tr th:only-of-type {\n",
       "        vertical-align: middle;\n",
       "    }\n",
       "\n",
       "    .dataframe tbody tr th {\n",
       "        vertical-align: top;\n",
       "    }\n",
       "\n",
       "    .dataframe thead th {\n",
       "        text-align: right;\n",
       "    }\n",
       "</style>\n",
       "<table border=\"1\" class=\"dataframe\">\n",
       "  <thead>\n",
       "    <tr style=\"text-align: right;\">\n",
       "      <th></th>\n",
       "      <th>ret</th>\n",
       "      <th>bin</th>\n",
       "      <th>bin_class</th>\n",
       "    </tr>\n",
       "    <tr>\n",
       "      <th>timestamp</th>\n",
       "      <th></th>\n",
       "      <th></th>\n",
       "      <th></th>\n",
       "    </tr>\n",
       "  </thead>\n",
       "  <tbody>\n",
       "    <tr>\n",
       "      <th>2021-01-03 23:20:00</th>\n",
       "      <td>-0.000474</td>\n",
       "      <td>-1.0</td>\n",
       "      <td>0.0</td>\n",
       "    </tr>\n",
       "    <tr>\n",
       "      <th>2021-01-04 00:01:00</th>\n",
       "      <td>-0.000523</td>\n",
       "      <td>-1.0</td>\n",
       "      <td>0.0</td>\n",
       "    </tr>\n",
       "    <tr>\n",
       "      <th>2021-01-04 00:29:00</th>\n",
       "      <td>-0.000771</td>\n",
       "      <td>-1.0</td>\n",
       "      <td>0.0</td>\n",
       "    </tr>\n",
       "    <tr>\n",
       "      <th>2021-01-04 01:35:00</th>\n",
       "      <td>-0.000664</td>\n",
       "      <td>-1.0</td>\n",
       "      <td>0.0</td>\n",
       "    </tr>\n",
       "    <tr>\n",
       "      <th>2021-01-04 02:24:00</th>\n",
       "      <td>-0.000194</td>\n",
       "      <td>0.0</td>\n",
       "      <td>1.0</td>\n",
       "    </tr>\n",
       "    <tr>\n",
       "      <th>...</th>\n",
       "      <td>...</td>\n",
       "      <td>...</td>\n",
       "      <td>...</td>\n",
       "    </tr>\n",
       "    <tr>\n",
       "      <th>2024-12-30 19:58:00</th>\n",
       "      <td>-0.000395</td>\n",
       "      <td>-1.0</td>\n",
       "      <td>0.0</td>\n",
       "    </tr>\n",
       "    <tr>\n",
       "      <th>2024-12-30 20:30:00</th>\n",
       "      <td>-0.000392</td>\n",
       "      <td>-1.0</td>\n",
       "      <td>0.0</td>\n",
       "    </tr>\n",
       "    <tr>\n",
       "      <th>2024-12-30 21:06:00</th>\n",
       "      <td>0.000507</td>\n",
       "      <td>1.0</td>\n",
       "      <td>2.0</td>\n",
       "    </tr>\n",
       "    <tr>\n",
       "      <th>2024-12-30 22:33:00</th>\n",
       "      <td>0.000478</td>\n",
       "      <td>1.0</td>\n",
       "      <td>2.0</td>\n",
       "    </tr>\n",
       "    <tr>\n",
       "      <th>2024-12-30 23:16:00</th>\n",
       "      <td>-0.000458</td>\n",
       "      <td>-1.0</td>\n",
       "      <td>0.0</td>\n",
       "    </tr>\n",
       "  </tbody>\n",
       "</table>\n",
       "<p>36985 rows × 3 columns</p>\n",
       "</div>"
      ],
      "text/plain": [
       "                          ret  bin  bin_class\n",
       "timestamp                                    \n",
       "2021-01-03 23:20:00 -0.000474 -1.0        0.0\n",
       "2021-01-04 00:01:00 -0.000523 -1.0        0.0\n",
       "2021-01-04 00:29:00 -0.000771 -1.0        0.0\n",
       "2021-01-04 01:35:00 -0.000664 -1.0        0.0\n",
       "2021-01-04 02:24:00 -0.000194  0.0        1.0\n",
       "...                       ...  ...        ...\n",
       "2024-12-30 19:58:00 -0.000395 -1.0        0.0\n",
       "2024-12-30 20:30:00 -0.000392 -1.0        0.0\n",
       "2024-12-30 21:06:00  0.000507  1.0        2.0\n",
       "2024-12-30 22:33:00  0.000478  1.0        2.0\n",
       "2024-12-30 23:16:00 -0.000458 -1.0        0.0\n",
       "\n",
       "[36985 rows x 3 columns]"
      ]
     },
     "execution_count": 35,
     "metadata": {},
     "output_type": "execute_result"
    }
   ],
   "source": [
    "labels = getBins(events, df['close'], t1=t1)\n",
    "labels[\"bin_class\"] = labels[\"bin\"] + 1\n",
    "labels"
   ]
  },
  {
   "cell_type": "code",
   "execution_count": 36,
   "id": "77797461-e6ba-4f39-abe8-490d69bcbbdf",
   "metadata": {},
   "outputs": [
    {
     "data": {
      "text/plain": [
       "bin\n",
       " 1.0    14268\n",
       "-1.0    13719\n",
       " 0.0     8998\n",
       "Name: count, dtype: int64"
      ]
     },
     "execution_count": 36,
     "metadata": {},
     "output_type": "execute_result"
    }
   ],
   "source": [
    "labels.bin.value_counts()"
   ]
  },
  {
   "cell_type": "code",
   "execution_count": 37,
   "id": "0a0bdb6d-6728-4e5b-81b5-37524fbd69bc",
   "metadata": {},
   "outputs": [],
   "source": [
    "labeled_events = events.join(labels, how='inner')"
   ]
  },
  {
   "cell_type": "markdown",
   "id": "3af8865a-8684-4dc0-b539-9fba6ad656e2",
   "metadata": {},
   "source": [
    "## Calculate Concurrency"
   ]
  },
  {
   "cell_type": "code",
   "execution_count": 38,
   "id": "87e9c751-a80b-4b71-9229-280a8716c339",
   "metadata": {},
   "outputs": [],
   "source": [
    "def get_concurrency(events, price_index):\n",
    "    \"\"\"\n",
    "    Calculate concurrency: number of overlapping events at each time.\n",
    "    \n",
    "    Args:\n",
    "        events (pd.DataFrame): Must have 't1' column with index as start time.\n",
    "        price_index (pd.DatetimeIndex): Full time index (e.g., from your OHLCV data).\n",
    "        \n",
    "    Returns:\n",
    "        pd.Series: concurrency count indexed by time.\n",
    "    \"\"\"\n",
    "    concurrency = pd.Series(0, index=price_index)\n",
    "\n",
    "    for start, end in events['t1'].items():\n",
    "        concurrency[start:end] += 1\n",
    "\n",
    "    return concurrency\n"
   ]
  },
  {
   "cell_type": "code",
   "execution_count": 39,
   "id": "9914f75f-ed72-41ae-819d-041cc4ec9c9e",
   "metadata": {
    "scrolled": true
   },
   "outputs": [],
   "source": [
    "# Let's say your OHLCV data or close series has this index\n",
    "price_index = close.index  # or df_ohlcv.index\n",
    "\n",
    "concurrency = get_concurrency(events=labeled_events, price_index=price_index)"
   ]
  },
  {
   "cell_type": "code",
   "execution_count": 40,
   "id": "94b870a4-6de1-47b2-b607-40e33221f33a",
   "metadata": {},
   "outputs": [
    {
     "data": {
      "text/plain": [
       "(array([2.0867e+04, 0.0000e+00, 7.6680e+03, 0.0000e+00, 0.0000e+00,\n",
       "        1.4800e+02, 0.0000e+00, 4.8000e+01, 0.0000e+00, 1.0000e+00]),\n",
       " array([0. , 0.4, 0.8, 1.2, 1.6, 2. , 2.4, 2.8, 3.2, 3.6, 4. ]),\n",
       " <BarContainer object of 10 artists>)"
      ]
     },
     "execution_count": 40,
     "metadata": {},
     "output_type": "execute_result"
    },
    {
     "data": {
      "image/png": "[encoded data removed]",
      "text/plain": [
       "<Figure size 640x480 with 1 Axes>"
      ]
     },
     "metadata": {},
     "output_type": "display_data"
    }
   ],
   "source": [
    "plt.hist(concurrency)"
   ]
  },
  {
   "cell_type": "markdown",
   "id": "04e1d417-f66b-4226-9405-b1a7aa139714",
   "metadata": {},
   "source": [
    "## Save events to disk"
   ]
  },
  {
   "cell_type": "code",
   "execution_count": 41,
   "id": "c0da0c87-e344-4aee-ad9c-f24b36ffaed5",
   "metadata": {},
   "outputs": [],
   "source": [
    "labeled_events.to_pickle(DIRECTION_LABEL_FILE_PATH)"
   ]
  }
 ],
 "metadata": {
  "kernelspec": {
   "display_name": "Python 3 (ipykernel)",
   "language": "python",
   "name": "python3"
  },
  "language_info": {
   "codemirror_mode": {
    "name": "ipython",
    "version": 3
   },
   "file_extension": ".py",
   "mimetype": "text/x-python",
   "name": "python",
   "nbconvert_exporter": "python",
   "pygments_lexer": "ipython3",
   "version": "3.11.13"
  },
  "widgets": {
   "application/vnd.jupyter.widget-state+json": {
    "state": {},
    "version_major": 2,
    "version_minor": 0
   }
  }
 },
 "nbformat": 4,
 "nbformat_minor": 5
}
