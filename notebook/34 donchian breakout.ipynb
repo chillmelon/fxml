{
 "cells": [
  {
   "cell_type": "code",
   "execution_count": 61,
   "id": "9b3eebce-f452-42bd-a39b-868bfed19d84",
   "metadata": {},
   "outputs": [],
   "source": [
    "import pandas as pd\n",
    "import numpy as np\n",
    "import matplotlib.pyplot as plt\n",
    "from matplotlib.ticker import FormatStrFormatter\n",
    "\n",
    "import os"
   ]
  },
  {
   "cell_type": "code",
   "execution_count": 79,
   "id": "ba59f33c-f22e-4162-b169-0cedb6269879",
   "metadata": {},
   "outputs": [],
   "source": [
    "from pathlib import Path\n",
    "\n",
    "# Configurable parts\n",
    "SYMBOL = \"USDJPY\"\n",
    "SAMPLE_TYPE = \"time\"\n",
    "MINUTES = 15\n",
    "\n",
    "START_DATE = \"20210101\"\n",
    "END_DATE = \"20241231\"\n",
    "\n",
    "# Build base name\n",
    "RESAMPLED_NAME = f\"{SYMBOL}-{MINUTES}m-{START_DATE}-{END_DATE}\"\n",
    "\n",
    "# Base directories\n",
    "BASE_DIR = Path(\"../data\")\n",
    "RESAMPLED_DIR = BASE_DIR / \"resampled\"\n",
    "PROCESSED_DIR = BASE_DIR / \"processed\"\n",
    "EVENTS_DIR = BASE_DIR / \"interm/events\"\n",
    "SIDES_DIR = BASE_DIR / \"interm/sides\"\n",
    "\n",
    "# Final paths\n",
    "RESAMPLED_FILE_PATH = RESAMPLED_DIR / f\"{RESAMPLED_NAME}.pkl\"\n",
    "PROCESSED_FILE_PATH = PROCESSED_DIR / f\"{RESAMPLED_NAME}_FEATURES.pkl\""
   ]
  },
  {
   "cell_type": "markdown",
   "id": "9aa9b728-e0d7-495d-bcc3-501ee8e0a9eb",
   "metadata": {},
   "source": [
    "## Loading Data"
   ]
  },
  {
   "cell_type": "code",
   "execution_count": 80,
   "id": "79e659aa-5b8f-43d4-aa7f-3fe6cd7e5bd7",
   "metadata": {
    "scrolled": true
   },
   "outputs": [
    {
     "name": "stdout",
     "output_type": "stream",
     "text": [
      "CPU times: user 1.8 ms, sys: 7.78 ms, total: 9.58 ms\n",
      "Wall time: 7.85 ms\n"
     ]
    }
   ],
   "source": [
    "%%time\n",
    "df = pd.read_pickle(RESAMPLED_FILE_PATH)"
   ]
  },
  {
   "cell_type": "code",
   "execution_count": 81,
   "id": "29b2da6f-1a60-4d08-9aee-a4c43083818c",
   "metadata": {},
   "outputs": [
    {
     "data": {
      "text/plain": [
       "(99724, 7)"
      ]
     },
     "execution_count": 81,
     "metadata": {},
     "output_type": "execute_result"
    }
   ],
   "source": [
    "df.shape"
   ]
  },
  {
   "cell_type": "code",
   "execution_count": 82,
   "id": "68bbc439-d03b-4275-af93-8b978a790a4b",
   "metadata": {},
   "outputs": [
    {
     "data": {
      "text/html": [
       "<div>\n",
       "<style scoped>\n",
       "    .dataframe tbody tr th:only-of-type {\n",
       "        vertical-align: middle;\n",
       "    }\n",
       "\n",
       "    .dataframe tbody tr th {\n",
       "        vertical-align: top;\n",
       "    }\n",
       "\n",
       "    .dataframe thead th {\n",
       "        text-align: right;\n",
       "    }\n",
       "</style>\n",
       "<table border=\"1\" class=\"dataframe\">\n",
       "  <thead>\n",
       "    <tr style=\"text-align: right;\">\n",
       "      <th></th>\n",
       "      <th>timestamp</th>\n",
       "      <th>open</th>\n",
       "      <th>high</th>\n",
       "      <th>low</th>\n",
       "      <th>close</th>\n",
       "      <th>volume</th>\n",
       "      <th>spread</th>\n",
       "    </tr>\n",
       "  </thead>\n",
       "  <tbody>\n",
       "    <tr>\n",
       "      <th>0</th>\n",
       "      <td>2021-01-03 22:00:00</td>\n",
       "      <td>103.1185</td>\n",
       "      <td>103.2435</td>\n",
       "      <td>103.1175</td>\n",
       "      <td>103.2280</td>\n",
       "      <td>1.058100e+11</td>\n",
       "      <td>0.025971</td>\n",
       "    </tr>\n",
       "    <tr>\n",
       "      <th>1</th>\n",
       "      <td>2021-01-03 22:15:00</td>\n",
       "      <td>103.2230</td>\n",
       "      <td>103.2615</td>\n",
       "      <td>103.2180</td>\n",
       "      <td>103.2380</td>\n",
       "      <td>1.543600e+11</td>\n",
       "      <td>0.016620</td>\n",
       "    </tr>\n",
       "    <tr>\n",
       "      <th>2</th>\n",
       "      <td>2021-01-03 22:30:00</td>\n",
       "      <td>103.2385</td>\n",
       "      <td>103.2470</td>\n",
       "      <td>103.1905</td>\n",
       "      <td>103.2080</td>\n",
       "      <td>4.885000e+11</td>\n",
       "      <td>0.026133</td>\n",
       "    </tr>\n",
       "    <tr>\n",
       "      <th>3</th>\n",
       "      <td>2021-01-03 22:45:00</td>\n",
       "      <td>103.2075</td>\n",
       "      <td>103.2355</td>\n",
       "      <td>103.2025</td>\n",
       "      <td>103.2215</td>\n",
       "      <td>3.819300e+11</td>\n",
       "      <td>0.033980</td>\n",
       "    </tr>\n",
       "    <tr>\n",
       "      <th>4</th>\n",
       "      <td>2021-01-03 23:00:00</td>\n",
       "      <td>103.2220</td>\n",
       "      <td>103.2740</td>\n",
       "      <td>103.2085</td>\n",
       "      <td>103.2650</td>\n",
       "      <td>3.547530e+12</td>\n",
       "      <td>0.013600</td>\n",
       "    </tr>\n",
       "  </tbody>\n",
       "</table>\n",
       "</div>"
      ],
      "text/plain": [
       "            timestamp      open      high       low     close        volume  \\\n",
       "0 2021-01-03 22:00:00  103.1185  103.2435  103.1175  103.2280  1.058100e+11   \n",
       "1 2021-01-03 22:15:00  103.2230  103.2615  103.2180  103.2380  1.543600e+11   \n",
       "2 2021-01-03 22:30:00  103.2385  103.2470  103.1905  103.2080  4.885000e+11   \n",
       "3 2021-01-03 22:45:00  103.2075  103.2355  103.2025  103.2215  3.819300e+11   \n",
       "4 2021-01-03 23:00:00  103.2220  103.2740  103.2085  103.2650  3.547530e+12   \n",
       "\n",
       "     spread  \n",
       "0  0.025971  \n",
       "1  0.016620  \n",
       "2  0.026133  \n",
       "3  0.033980  \n",
       "4  0.013600  "
      ]
     },
     "execution_count": 82,
     "metadata": {},
     "output_type": "execute_result"
    }
   ],
   "source": [
    "df.head()"
   ]
  },
  {
   "cell_type": "code",
   "execution_count": 83,
   "id": "e06889c6-bcac-4d57-8c7e-35cb508f5ddc",
   "metadata": {},
   "outputs": [],
   "source": [
    "df[\"timestamp\"] = df[\"timestamp\"].astype(\"datetime64[s]\")\n",
    "df = df.set_index(\"timestamp\")\n",
    "df = df.dropna()"
   ]
  },
  {
   "cell_type": "markdown",
   "id": "8b410248-50ab-4e94-bde5-fcd45b209f02",
   "metadata": {},
   "source": [
    "## Calculating Donchian"
   ]
  },
  {
   "cell_type": "code",
   "execution_count": 84,
   "id": "00531ef9-3220-471a-850d-81e99af95b65",
   "metadata": {},
   "outputs": [],
   "source": [
    "def donchian_breakout(ohlc: pd.DataFrame, lookback: int):\n",
    "    # input df is assumed to have a 'close' column\n",
    "    upper = ohlc['close'].rolling(lookback - 1).max().shift(1)\n",
    "    lower = ohlc['close'].rolling(lookback - 1).min().shift(1)\n",
    "    signal = pd.Series(np.full(len(ohlc), np.nan), index=ohlc.index)\n",
    "    signal.loc[ohlc['close'] > upper] = 1\n",
    "    signal.loc[ohlc['close'] < lower] = -1\n",
    "    signal = signal.ffill()\n",
    "    return signal"
   ]
  },
  {
   "cell_type": "code",
   "execution_count": 85,
   "id": "2f67a9d3-dff8-4520-bfad-166351cf5588",
   "metadata": {},
   "outputs": [],
   "source": [
    "def optimize_donchian(ohlc: pd.DataFrame):\n",
    "\n",
    "    best_pf = 0\n",
    "    best_lookback = -1\n",
    "    r = np.log(ohlc['close']).diff().shift(-1)\n",
    "    for lookback in range(12, 180):\n",
    "        signal = donchian_breakout(ohlc, lookback)\n",
    "        sig_rets = signal * r\n",
    "        sig_pf = sig_rets[sig_rets > 0].sum() / sig_rets[sig_rets < 0].abs().sum()\n",
    "\n",
    "        if sig_pf > best_pf:\n",
    "            best_pf = sig_pf\n",
    "            best_lookback = lookback\n",
    "\n",
    "    return best_lookback, best_pf"
   ]
  },
  {
   "cell_type": "code",
   "execution_count": 86,
   "id": "fb5ea01f-ecce-4467-a86d-73ae3008895f",
   "metadata": {},
   "outputs": [
    {
     "name": "stdout",
     "output_type": "stream",
     "text": [
      "best lookback: 54\n",
      "best pf: 1.0218015883376061\n"
     ]
    }
   ],
   "source": [
    "lookback, pf = optimize_donchian(df)\n",
    "print('best lookback:', lookback)\n",
    "print('best pf:', pf)"
   ]
  },
  {
   "cell_type": "markdown",
   "id": "3ebe06b2-1206-4ced-b43d-b5e41576c22e",
   "metadata": {},
   "source": [
    "# Reproduce the strategy with optimized parameters"
   ]
  },
  {
   "cell_type": "code",
   "execution_count": 87,
   "id": "69e8bc03-367a-4398-9c4a-fecc47933d96",
   "metadata": {},
   "outputs": [
    {
     "name": "stdout",
     "output_type": "stream",
     "text": [
      "Profit Factor 54 1.0218015883376061\n"
     ]
    },
    {
     "data": {
      "image/png": "[encoded data removed]",
      "text/plain": [
       "<Figure size 640x480 with 1 Axes>"
      ]
     },
     "metadata": {},
     "output_type": "display_data"
    }
   ],
   "source": [
    "df['signal'] = donchian_breakout(df, lookback)\n",
    "df[\"r\"] = np.log(df[\"close\"]).diff().shift(-1)\n",
    "strat_r = df[\"signal\"] * df[\"r\"]\n",
    "\n",
    "pf = strat_r[strat_r > 0].sum() / strat_r[strat_r < 0].abs().sum()\n",
    "print(\"Profit Factor\", lookback, pf)\n",
    "\n",
    "plt.style.use(\"dark_background\")\n",
    "strat_r.cumsum().plot()\n",
    "plt.ylabel(\"Cumulative Log Return\")\n",
    "plt.show()"
   ]
  },
  {
   "cell_type": "code",
   "execution_count": 88,
   "id": "9478dce0-ce14-4519-9fb6-ad7752542d3c",
   "metadata": {},
   "outputs": [
    {
     "data": {
      "text/plain": [
       "signal\n",
       " 1.0    54797\n",
       "-1.0    44859\n",
       "Name: count, dtype: int64"
      ]
     },
     "execution_count": 88,
     "metadata": {},
     "output_type": "execute_result"
    }
   ],
   "source": [
    "df['signal'].value_counts()"
   ]
  },
  {
   "cell_type": "code",
   "execution_count": 89,
   "id": "e512e1e1-bcec-4567-98ef-eb346424da71",
   "metadata": {},
   "outputs": [
    {
     "data": {
      "text/plain": [
       "DatetimeIndex(['2021-01-03 22:00:00', '2021-01-03 22:15:00',\n",
       "               '2021-01-03 22:30:00', '2021-01-03 22:45:00',\n",
       "               '2021-01-03 23:00:00', '2021-01-03 23:15:00',\n",
       "               '2021-01-03 23:30:00', '2021-01-03 23:45:00',\n",
       "               '2021-01-04 00:00:00', '2021-01-04 00:15:00',\n",
       "               ...\n",
       "               '2024-12-18 12:45:00', '2024-12-20 06:00:00',\n",
       "               '2024-12-23 07:00:00', '2024-12-24 04:00:00',\n",
       "               '2024-12-24 14:30:00', '2024-12-25 02:00:00',\n",
       "               '2024-12-25 05:15:00', '2024-12-27 02:00:00',\n",
       "               '2024-12-27 19:30:00', '2024-12-30 11:15:00'],\n",
       "              dtype='datetime64[s]', name='timestamp', length=1242, freq=None)"
      ]
     },
     "execution_count": 89,
     "metadata": {},
     "output_type": "execute_result"
    }
   ],
   "source": [
    "# find crossover events\n",
    "t_events = df.index[df['signal'] != df['signal'].shift(1)]\n",
    "t_events"
   ]
  },
  {
   "cell_type": "markdown",
   "id": "0ddaaafa-f41b-4008-b1c9-999ea2b60969",
   "metadata": {},
   "source": [
    "## Labeling Sides\n",
    "\n",
    "黃金交叉與死亡交叉"
   ]
  },
  {
   "cell_type": "code",
   "execution_count": 90,
   "id": "5371e08c-9817-497a-9bbc-9461e34b202f",
   "metadata": {},
   "outputs": [
    {
     "data": {
      "text/plain": [
       "timestamp\n",
       "2021-01-04 15:00:00    1.0\n",
       "2021-01-05 04:00:00   -1.0\n",
       "2021-01-06 09:30:00    1.0\n",
       "2021-01-08 13:30:00   -1.0\n",
       "2021-01-10 23:30:00    1.0\n",
       "                      ... \n",
       "2024-12-25 02:00:00   -1.0\n",
       "2024-12-25 05:15:00    1.0\n",
       "2024-12-27 02:00:00   -1.0\n",
       "2024-12-27 19:30:00    1.0\n",
       "2024-12-30 11:15:00   -1.0\n",
       "Name: side, Length: 1174, dtype: float64"
      ]
     },
     "execution_count": 90,
     "metadata": {},
     "output_type": "execute_result"
    }
   ],
   "source": [
    "sides = pd.Series(df['signal'].loc[t_events], index=t_events, name='side')\n",
    "sides.dropna(inplace=True)\n",
    "sides"
   ]
  },
  {
   "cell_type": "code",
   "execution_count": 91,
   "id": "5143ad78-9298-47d2-bdbc-f3c739ca47ff",
   "metadata": {},
   "outputs": [
    {
     "data": {
      "text/plain": [
       "side\n",
       " 1.0    587\n",
       "-1.0    587\n",
       "Name: count, dtype: int64"
      ]
     },
     "execution_count": 91,
     "metadata": {},
     "output_type": "execute_result"
    }
   ],
   "source": [
    "sides.value_counts()"
   ]
  },
  {
   "cell_type": "markdown",
   "id": "ac7b16f8-d2ea-44f1-82da-6e65d2d7453e",
   "metadata": {},
   "source": [
    "## Saving to disk"
   ]
  },
  {
   "cell_type": "code",
   "execution_count": 92,
   "id": "47e4cfe3-f3e5-47e0-b0d0-450155366bd7",
   "metadata": {},
   "outputs": [],
   "source": [
    "SIDE_NAME = f\"donchian_breakout_{lookback}\""
   ]
  },
  {
   "cell_type": "code",
   "execution_count": 93,
   "id": "3e752783-00ab-4cdb-b932-c4dfc27cb14b",
   "metadata": {},
   "outputs": [
    {
     "data": {
      "text/plain": [
       "PosixPath('../data/interm/sides/USDJPY-15m-20210101-20241231-donchian_breakout_54.pkl')"
      ]
     },
     "execution_count": 93,
     "metadata": {},
     "output_type": "execute_result"
    }
   ],
   "source": [
    "SIDE_FILE_PATH = SIDES_DIR / f\"{RESAMPLED_NAME}-{SIDE_NAME}.pkl\"\n",
    "SIDE_FILE_PATH"
   ]
  },
  {
   "cell_type": "code",
   "execution_count": 94,
   "id": "e4d3a79e-562b-4a3a-93c2-03c2c4b98b9b",
   "metadata": {},
   "outputs": [],
   "source": [
    "sides.to_pickle(SIDE_FILE_PATH)"
   ]
  }
 ],
 "metadata": {
  "kernelspec": {
   "display_name": "Python 3 (ipykernel)",
   "language": "python",
   "name": "python3"
  },
  "language_info": {
   "codemirror_mode": {
    "name": "ipython",
    "version": 3
   },
   "file_extension": ".py",
   "mimetype": "text/x-python",
   "name": "python",
   "nbconvert_exporter": "python",
   "pygments_lexer": "ipython3",
   "version": "3.12.11"
  }
 },
 "nbformat": 4,
 "nbformat_minor": 5
}
