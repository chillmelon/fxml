{
 "cells": [
  {
   "cell_type": "code",
   "execution_count": 1,
   "id": "fec96f85-5fd2-40ea-98b5-ed2eb2983a0c",
   "metadata": {},
   "outputs": [],
   "source": [
    "import pandas as pd\n",
    "import numpy as np\n",
    "import matplotlib.pyplot as plt\n",
    "from matplotlib.ticker import FormatStrFormatter\n",
    "\n",
    "import os"
   ]
  },
  {
   "cell_type": "code",
   "execution_count": 15,
   "id": "f79c3029-f25c-4122-96dd-4a9babd07ad8",
   "metadata": {},
   "outputs": [],
   "source": [
    "from pathlib import Path\n",
    "\n",
    "# Configurable parts\n",
    "SYMBOL = \"USDJPY\"\n",
    "SAMPLE_TYPE = \"time\"\n",
    "MINUTES = 5\n",
    "DOLLAR_THRESHOLD = \"115009542m\"\n",
    "EVENT_NAME = 'Z-SCORE-W100-1Z'\n",
    "LABEL_NAME = \"TB\"\n",
    "\n",
    "START_DATE = \"20240101\"\n",
    "END_DATE = \"20241231\"\n",
    "\n",
    "RESAMPLED_NAME = f\"{SYMBOL}-{MINUTES}m-{START_DATE}-{END_DATE}\"\n",
    "\n",
    "# Base directories\n",
    "BASE_DIR = Path(\"../data\")\n",
    "RESAMPLED_DIR = BASE_DIR / \"interm/resampled\"\n",
    "PROCESSED_DIR = BASE_DIR / \"processed\"\n",
    "SIDES_DIR = BASE_DIR / \"interm/sides\"\n",
    "META_LABELS_DIR = BASE_DIR / \"processed/meta_labels\"\n",
    "\n",
    "# Final paths\n",
    "RESAMPLED_FILE_PATH = RESAMPLED_DIR / f\"{RESAMPLED_NAME}.pkl\"\n",
    "PROCESSED_FILE_PATH = PROCESSED_DIR / f\"{RESAMPLED_NAME}_processed.pkl\""
   ]
  },
  {
   "cell_type": "code",
   "execution_count": 16,
   "id": "580ce206-75d1-45ba-a88e-64aea9e5f1da",
   "metadata": {},
   "outputs": [],
   "source": [
    "SIDE_NAME = \"EMACross_9_36\"\n",
    "SIDE_FILE_PATH = SIDES_DIR / f\"{RESAMPLED_NAME}-{SIDE_NAME}.pkl\""
   ]
  },
  {
   "cell_type": "code",
   "execution_count": 17,
   "id": "5218a550-e367-483c-8503-47c68f52ba13",
   "metadata": {},
   "outputs": [],
   "source": [
    "LABELS_FILE_PATH = META_LABELS_DIR / f\"{RESAMPLED_NAME}-{SIDE_NAME}-meta.pkl\""
   ]
  },
  {
   "cell_type": "code",
   "execution_count": 23,
   "id": "aabfb5c0-1f42-4c9c-84be-e32981dfcc48",
   "metadata": {},
   "outputs": [
    {
     "name": "stdout",
     "output_type": "stream",
     "text": [
      "../data/processed/meta_labels/USDJPY-5m-20240101-20241231-EMACross_9_36-meta.pkl\n"
     ]
    }
   ],
   "source": [
    "print(LABELS_FILE_PATH)"
   ]
  },
  {
   "cell_type": "code",
   "execution_count": 24,
   "id": "e0e0b01f-60d5-4683-aa10-2dc703b41d6c",
   "metadata": {},
   "outputs": [],
   "source": [
    "from torch.utils.data import Dataset, DataLoader\n",
    "from pytorch_forecasting import Baseline, TemporalFusionTransformer, TimeSeriesDataSet\n",
    "from pytorch_forecasting.data import GroupNormalizer\n",
    "from pytorch_forecasting.metrics import SMAPE, PoissonLoss, QuantileLoss\n",
    "from pytorch_forecasting.models.temporal_fusion_transformer.tuning import optimize_hyperparameters"
   ]
  },
  {
   "cell_type": "code",
   "execution_count": 25,
   "id": "a33ef569-b059-4b20-8057-6016cbfc6615",
   "metadata": {},
   "outputs": [],
   "source": [
    "df = pd.read_pickle(PROCESSED_FILE_PATH)\n",
    "labels = pd.read_pickle(LABELS_FILE_PATH)"
   ]
  },
  {
   "cell_type": "code",
   "execution_count": 26,
   "id": "0a260e6f-95eb-4c3f-8fe7-4dc693a4e4e9",
   "metadata": {},
   "outputs": [
    {
     "name": "stdout",
     "output_type": "stream",
     "text": [
      "(72013, 10)\n"
     ]
    },
    {
     "data": {
      "text/html": [
       "<div>\n",
       "<style scoped>\n",
       "    .dataframe tbody tr th:only-of-type {\n",
       "        vertical-align: middle;\n",
       "    }\n",
       "\n",
       "    .dataframe tbody tr th {\n",
       "        vertical-align: top;\n",
       "    }\n",
       "\n",
       "    .dataframe thead th {\n",
       "        text-align: right;\n",
       "    }\n",
       "</style>\n",
       "<table border=\"1\" class=\"dataframe\">\n",
       "  <thead>\n",
       "    <tr style=\"text-align: right;\">\n",
       "      <th></th>\n",
       "      <th>open</th>\n",
       "      <th>high</th>\n",
       "      <th>low</th>\n",
       "      <th>close</th>\n",
       "      <th>volume</th>\n",
       "      <th>spread</th>\n",
       "      <th>return</th>\n",
       "      <th>log_return</th>\n",
       "      <th>fd_return</th>\n",
       "      <th>log_fd_return</th>\n",
       "    </tr>\n",
       "    <tr>\n",
       "      <th>timestamp</th>\n",
       "      <th></th>\n",
       "      <th></th>\n",
       "      <th></th>\n",
       "      <th></th>\n",
       "      <th></th>\n",
       "      <th></th>\n",
       "      <th></th>\n",
       "      <th></th>\n",
       "      <th></th>\n",
       "      <th></th>\n",
       "    </tr>\n",
       "  </thead>\n",
       "  <tbody>\n",
       "    <tr>\n",
       "      <th>2024-01-15 06:35:00</th>\n",
       "      <td>1.096440</td>\n",
       "      <td>1.096615</td>\n",
       "      <td>1.096425</td>\n",
       "      <td>1.096595</td>\n",
       "      <td>9.697500e+11</td>\n",
       "      <td>0.000027</td>\n",
       "      <td>0.000160</td>\n",
       "      <td>0.000146</td>\n",
       "      <td>0.113814</td>\n",
       "      <td>0.009814</td>\n",
       "    </tr>\n",
       "    <tr>\n",
       "      <th>2024-01-15 06:40:00</th>\n",
       "      <td>1.096600</td>\n",
       "      <td>1.096620</td>\n",
       "      <td>1.096510</td>\n",
       "      <td>1.096595</td>\n",
       "      <td>5.448600e+11</td>\n",
       "      <td>0.000025</td>\n",
       "      <td>0.000000</td>\n",
       "      <td>0.000000</td>\n",
       "      <td>0.113773</td>\n",
       "      <td>0.009777</td>\n",
       "    </tr>\n",
       "    <tr>\n",
       "      <th>2024-01-15 06:45:00</th>\n",
       "      <td>1.096600</td>\n",
       "      <td>1.096605</td>\n",
       "      <td>1.096445</td>\n",
       "      <td>1.096525</td>\n",
       "      <td>7.287000e+11</td>\n",
       "      <td>0.000025</td>\n",
       "      <td>-0.000070</td>\n",
       "      <td>-0.000064</td>\n",
       "      <td>0.113687</td>\n",
       "      <td>0.009698</td>\n",
       "    </tr>\n",
       "    <tr>\n",
       "      <th>2024-01-15 06:50:00</th>\n",
       "      <td>1.096530</td>\n",
       "      <td>1.096625</td>\n",
       "      <td>1.096485</td>\n",
       "      <td>1.096545</td>\n",
       "      <td>8.230700e+11</td>\n",
       "      <td>0.000027</td>\n",
       "      <td>0.000020</td>\n",
       "      <td>0.000018</td>\n",
       "      <td>0.113715</td>\n",
       "      <td>0.009724</td>\n",
       "    </tr>\n",
       "    <tr>\n",
       "      <th>2024-01-15 06:55:00</th>\n",
       "      <td>1.096535</td>\n",
       "      <td>1.096545</td>\n",
       "      <td>1.096340</td>\n",
       "      <td>1.096400</td>\n",
       "      <td>9.327600e+11</td>\n",
       "      <td>0.000026</td>\n",
       "      <td>-0.000145</td>\n",
       "      <td>-0.000132</td>\n",
       "      <td>0.113565</td>\n",
       "      <td>0.009587</td>\n",
       "    </tr>\n",
       "  </tbody>\n",
       "</table>\n",
       "</div>"
      ],
      "text/plain": [
       "                         open      high       low     close        volume  \\\n",
       "timestamp                                                                   \n",
       "2024-01-15 06:35:00  1.096440  1.096615  1.096425  1.096595  9.697500e+11   \n",
       "2024-01-15 06:40:00  1.096600  1.096620  1.096510  1.096595  5.448600e+11   \n",
       "2024-01-15 06:45:00  1.096600  1.096605  1.096445  1.096525  7.287000e+11   \n",
       "2024-01-15 06:50:00  1.096530  1.096625  1.096485  1.096545  8.230700e+11   \n",
       "2024-01-15 06:55:00  1.096535  1.096545  1.096340  1.096400  9.327600e+11   \n",
       "\n",
       "                       spread    return  log_return  fd_return  log_fd_return  \n",
       "timestamp                                                                      \n",
       "2024-01-15 06:35:00  0.000027  0.000160    0.000146   0.113814       0.009814  \n",
       "2024-01-15 06:40:00  0.000025  0.000000    0.000000   0.113773       0.009777  \n",
       "2024-01-15 06:45:00  0.000025 -0.000070   -0.000064   0.113687       0.009698  \n",
       "2024-01-15 06:50:00  0.000027  0.000020    0.000018   0.113715       0.009724  \n",
       "2024-01-15 06:55:00  0.000026 -0.000145   -0.000132   0.113565       0.009587  "
      ]
     },
     "execution_count": 26,
     "metadata": {},
     "output_type": "execute_result"
    }
   ],
   "source": [
    "print(df.shape)\n",
    "df.head()"
   ]
  },
  {
   "cell_type": "code",
   "execution_count": 27,
   "id": "a035ffb2-416e-4a82-93ac-685da4d55ad6",
   "metadata": {},
   "outputs": [
    {
     "name": "stdout",
     "output_type": "stream",
     "text": [
      "(2193, 5)\n"
     ]
    },
    {
     "data": {
      "text/html": [
       "<div>\n",
       "<style scoped>\n",
       "    .dataframe tbody tr th:only-of-type {\n",
       "        vertical-align: middle;\n",
       "    }\n",
       "\n",
       "    .dataframe tbody tr th {\n",
       "        vertical-align: top;\n",
       "    }\n",
       "\n",
       "    .dataframe thead th {\n",
       "        text-align: right;\n",
       "    }\n",
       "</style>\n",
       "<table border=\"1\" class=\"dataframe\">\n",
       "  <thead>\n",
       "    <tr style=\"text-align: right;\">\n",
       "      <th></th>\n",
       "      <th>ret</th>\n",
       "      <th>bin</th>\n",
       "      <th>t1</th>\n",
       "      <th>trgt</th>\n",
       "      <th>side</th>\n",
       "    </tr>\n",
       "    <tr>\n",
       "      <th>timestamp</th>\n",
       "      <th></th>\n",
       "      <th></th>\n",
       "      <th></th>\n",
       "      <th></th>\n",
       "      <th></th>\n",
       "    </tr>\n",
       "  </thead>\n",
       "  <tbody>\n",
       "    <tr>\n",
       "      <th>2024-01-15 06:35:00</th>\n",
       "      <td>-0.000000</td>\n",
       "      <td>0.0</td>\n",
       "      <td>2024-01-15 09:35:00</td>\n",
       "      <td>0.014592</td>\n",
       "      <td>0</td>\n",
       "    </tr>\n",
       "    <tr>\n",
       "      <th>2024-01-15 12:05:00</th>\n",
       "      <td>-0.000639</td>\n",
       "      <td>0.0</td>\n",
       "      <td>2024-01-15 15:05:00</td>\n",
       "      <td>0.031122</td>\n",
       "      <td>1</td>\n",
       "    </tr>\n",
       "    <tr>\n",
       "      <th>2024-01-15 14:05:00</th>\n",
       "      <td>0.000000</td>\n",
       "      <td>0.0</td>\n",
       "      <td>2024-01-15 17:05:00</td>\n",
       "      <td>0.038892</td>\n",
       "      <td>0</td>\n",
       "    </tr>\n",
       "    <tr>\n",
       "      <th>2024-01-15 15:55:00</th>\n",
       "      <td>0.000283</td>\n",
       "      <td>1.0</td>\n",
       "      <td>2024-01-15 18:55:00</td>\n",
       "      <td>0.032986</td>\n",
       "      <td>1</td>\n",
       "    </tr>\n",
       "    <tr>\n",
       "      <th>2024-01-15 20:30:00</th>\n",
       "      <td>-0.000000</td>\n",
       "      <td>0.0</td>\n",
       "      <td>2024-01-15 23:30:00</td>\n",
       "      <td>0.009128</td>\n",
       "      <td>0</td>\n",
       "    </tr>\n",
       "  </tbody>\n",
       "</table>\n",
       "</div>"
      ],
      "text/plain": [
       "                          ret  bin                  t1      trgt  side\n",
       "timestamp                                                             \n",
       "2024-01-15 06:35:00 -0.000000  0.0 2024-01-15 09:35:00  0.014592     0\n",
       "2024-01-15 12:05:00 -0.000639  0.0 2024-01-15 15:05:00  0.031122     1\n",
       "2024-01-15 14:05:00  0.000000  0.0 2024-01-15 17:05:00  0.038892     0\n",
       "2024-01-15 15:55:00  0.000283  1.0 2024-01-15 18:55:00  0.032986     1\n",
       "2024-01-15 20:30:00 -0.000000  0.0 2024-01-15 23:30:00  0.009128     0"
      ]
     },
     "execution_count": 27,
     "metadata": {},
     "output_type": "execute_result"
    }
   ],
   "source": [
    "print(labels.shape)\n",
    "labels.head()"
   ]
  }
 ],
 "metadata": {
  "kernelspec": {
   "display_name": "Python 3 (ipykernel)",
   "language": "python",
   "name": "python3"
  },
  "language_info": {
   "codemirror_mode": {
    "name": "ipython",
    "version": 3
   },
   "file_extension": ".py",
   "mimetype": "text/x-python",
   "name": "python",
   "nbconvert_exporter": "python",
   "pygments_lexer": "ipython3",
   "version": "3.12.11"
  }
 },
 "nbformat": 4,
 "nbformat_minor": 5
}
