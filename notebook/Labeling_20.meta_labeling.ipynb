{
 "cells": [
  {
   "cell_type": "code",
   "execution_count": null,
   "id": "ebe74af6-8395-49aa-9e0a-d9bf26b8a705",
   "metadata": {},
   "outputs": [],
   "source": [
    "import pandas as pd\n",
    "import matplotlib.pyplot as plt\n",
    "from matplotlib.ticker import FormatStrFormatter"
   ]
  },
  {
   "cell_type": "code",
   "execution_count": 1,
   "id": "601263f8-a7e1-47b2-9b5f-ad9ccc8e4bc7",
   "metadata": {},
   "outputs": [],
   "source": [
    "import os\n",
    "import sys\n",
    "module_path = os.path.abspath(os.path.join('..'))\n",
    "if module_path not in sys.path:\n",
    "    sys.path.append(module_path)"
   ]
  },
  {
   "cell_type": "code",
   "execution_count": 2,
   "id": "9504524c-b25f-42e5-b93b-64b4ecf9ad49",
   "metadata": {},
   "outputs": [],
   "source": [
    "MODEL_NAME = \"simple_transformer\"\n",
    "V_NUM = 0\n",
    "SYMBOL = \"USDJPY\"\n",
    "MINUTES = 1\n",
    "EVENT = '115009542m-dollar'\n",
    "START_DATE = \"20210101\"\n",
    "END_DATE = \"20241231\"\n",
    "EVENT_NAME = \"cusum_filter\"\n",
    "SEQUENCE_LENGTH = 120\n",
    "TIME_COLS = [\n",
    "    # 'timestamp',\n",
    "    \"hour\",\n",
    "    \"dow\",\n",
    "    \"dom\",\n",
    "    \"month\",\n",
    "    # \"open\",\n",
    "    # \"high\",\n",
    "    # \"low\",\n",
    "    # \"close\",\n",
    "]\n",
    "FEATURES_COLS = [\n",
    "    \"hour_cos\",\n",
    "    \"dow_cos\",\n",
    "    \"dom_cos\",\n",
    "    \"month_cos\",\n",
    "    # Basic Data\n",
    "    \"close_log_return\",\n",
    "    \"ret_mean_5\",\n",
    "    \"ret_mean_10\",\n",
    "    \"log_volume\",\n",
    "    \"ema5_slope\",\n",
    "    \"ema20_slope\",\n",
    "    \"atr20\",\n",
    "    \"vol_adj_return\",\n",
    "    \"close_to_atr\",\n",
    "    \"macd_diff\",\n",
    "    \"bb_width\",\n",
    "    \"bb_position\",\n",
    "    \"donchian_width\",\n",
    "]\n",
    "\n",
    "TARGET_COL = \"bin_class\""
   ]
  },
  {
   "cell_type": "code",
   "execution_count": 3,
   "id": "8a3a96c4-ffb8-4a68-9adc-a340fe3ab49b",
   "metadata": {},
   "outputs": [],
   "source": [
    "from pathlib import Path\n",
    "\n",
    "# Build base name\n",
    "RESAMPLED_NAME = f\"{SYMBOL}-{MINUTES}m-{START_DATE}-{END_DATE}\"\n",
    "RESAMPLED_NAME = f\"{SYMBOL}-{EVENT}-{START_DATE}-{END_DATE}\"\n",
    "LABEL_NAME = f\"{RESAMPLED_NAME}-{EVENT_NAME}\"\n",
    "# Base directories\n",
    "BASE_DIR = Path(\"../data\")\n",
    "RESAMPLED_DIR = BASE_DIR / \"resampled\"\n",
    "LABEL_DIR = BASE_DIR / \"labels\"\n",
    "PROCESSED_DIR = BASE_DIR / \"processed\"\n",
    "NORMALIZED_DIR = BASE_DIR / \"normalized\"\n",
    "DIRECTION_LABEL_DIR = BASE_DIR / \"direction_labels\"\n",
    "PREDICTION_DIR = BASE_DIR / \"predictions\"\n",
    "\n",
    "# Final paths\n",
    "PROCESSED_FILE_PATH = PROCESSED_DIR / f\"{RESAMPLED_NAME}-processed.pkl\"\n",
    "NORMALIZED_FILE_PATH = NORMALIZED_DIR / f\"{RESAMPLED_NAME}-normalized.pkl\"\n",
    "DIRECTION_LABEL_FILE_PATH = DIRECTION_LABEL_DIR / f\"{RESAMPLED_NAME}-{EVENT_NAME}.pkl\"\n",
    "PREDICTION_FILE_PATH = PREDICTION_DIR / f\"{RESAMPLED_NAME}-{EVENT_NAME}.pkl\""
   ]
  },
  {
   "cell_type": "code",
   "execution_count": 4,
   "id": "1a8b032d-ffc4-40ce-8ed0-30b6276a7196",
   "metadata": {},
   "outputs": [],
   "source": [
    "MODEL_PATH = f'../lightning_logs/{MODEL_NAME}-{EVENT}-{EVENT_NAME}/version_{V_NUM}/checkpoints/best_checkpoint.ckpt'"
   ]
  },
  {
   "cell_type": "code",
   "execution_count": 5,
   "id": "9b841255-94fc-480f-8ca3-bdfbf2a13e00",
   "metadata": {},
   "outputs": [],
   "source": [
    "SIDE_NAME = 'transformer_sides'\n",
    "\n",
    "META_LABEL_DIR = BASE_DIR / \"meta_labels\"\n",
    "META_LABEL_DIR.mkdir(parents=True, exist_ok=True)\n",
    "META_LABEL_FILE_PATH = META_LABEL_DIR / f\"{RESAMPLED_NAME}-{EVENT_NAME}-{SIDE_NAME}.pkl\""
   ]
  },
  {
   "cell_type": "code",
   "execution_count": 6,
   "id": "58f0f35f-e374-403b-896a-bd180e81d411",
   "metadata": {
    "scrolled": true
   },
   "outputs": [
    {
     "name": "stdout",
     "output_type": "stream",
     "text": [
      "CPU times: user 1.03 ms, sys: 37.8 ms, total: 38.8 ms\n",
      "Wall time: 39.6 ms\n"
     ]
    }
   ],
   "source": [
    "%%time\n",
    "df = pd.read_pickle(NORMALIZED_FILE_PATH)\n",
    "labels_df = pd.read_pickle(DIRECTION_LABEL_FILE_PATH)"
   ]
  },
  {
   "cell_type": "code",
   "execution_count": 7,
   "id": "936583e8-7b12-4feb-86dc-662d897ba3de",
   "metadata": {},
   "outputs": [],
   "source": [
    "t_events = labels_df.index"
   ]
  },
  {
   "cell_type": "code",
   "execution_count": 8,
   "id": "d5dc1ece-8bdf-4557-b2eb-51bcf4023553",
   "metadata": {},
   "outputs": [
    {
     "data": {
      "text/plain": [
       "DatetimeIndex([], dtype='datetime64[ns]', name='timestamp', freq=None)"
      ]
     },
     "execution_count": 8,
     "metadata": {},
     "output_type": "execute_result"
    }
   ],
   "source": [
    "missing = t_events.difference(df.index)\n",
    "missing"
   ]
  },
  {
   "cell_type": "markdown",
   "id": "3e912d82-cf6a-49de-9ec5-0544a4eb36b9",
   "metadata": {},
   "source": [
    "### Load Model"
   ]
  },
  {
   "cell_type": "code",
   "execution_count": 9,
   "id": "6bfb86dd-b268-4f44-ab32-4c5a807379f3",
   "metadata": {},
   "outputs": [],
   "source": [
    "from models.classification.t2v_transformer_model import T2VTransformerModule\n",
    "from models.classification.simple_transformer_model import SimpleTransformerModule"
   ]
  },
  {
   "cell_type": "code",
   "execution_count": 10,
   "id": "2d363202-730c-4f75-b63e-3fec9698ce43",
   "metadata": {
    "scrolled": true
   },
   "outputs": [],
   "source": [
    "model = SimpleTransformerModule.load_from_checkpoint(MODEL_PATH)"
   ]
  },
  {
   "cell_type": "markdown",
   "id": "3c964763-419d-465a-9a48-f4efbec074b2",
   "metadata": {},
   "source": [
    "## Get Side from Trained Model"
   ]
  },
  {
   "cell_type": "code",
   "execution_count": 11,
   "id": "d4dffa4b-b572-4bfb-9b3e-4abb398afc8b",
   "metadata": {
    "scrolled": true
   },
   "outputs": [],
   "source": [
    "# features = df[TIME_COLS + FEATURES_COLS]\n",
    "features = df[FEATURES_COLS]"
   ]
  },
  {
   "cell_type": "code",
   "execution_count": 12,
   "id": "125998d5-a7cf-447a-a5e5-aade6aa58300",
   "metadata": {},
   "outputs": [],
   "source": [
    "import pandas as pd\n",
    "import numpy as np\n",
    "import torch\n",
    "from tqdm import tqdm\n",
    "\n",
    "\n",
    "def extract_sequences(data: pd.DataFrame, t_events, lookback: int):\n",
    "    \"\"\"Extract valid sequences and events for batch processing.\"\"\"\n",
    "    sequences, valid_events = [], []\n",
    "    data_values, data_index = data.values.astype(np.float32), data.index\n",
    "    \n",
    "    for t in t_events:\n",
    "        try:\n",
    "            if t in data_index:\n",
    "                end_loc = data_index.get_loc(t)\n",
    "                start_loc = end_loc - lookback\n",
    "                if start_loc >= 0:\n",
    "                    seq = data_values[start_loc:end_loc]\n",
    "                    if len(seq) == lookback:\n",
    "                        sequences.append(seq)\n",
    "                        valid_events.append(t)\n",
    "        except:\n",
    "            continue\n",
    "    \n",
    "    return (np.stack(sequences), valid_events) if sequences else (None, [])\n",
    "\n",
    "def get_side_from_model_batch(model, data: pd.DataFrame, labels: pd.DataFrame, \n",
    "                             lookback: int = 24, device: str = 'cpu', batch_size: int = 64):\n",
    "    \"\"\"Batch process model predictions for time series events.\"\"\"\n",
    "    model.eval().to(device)\n",
    "    \n",
    "    sequences, valid_events = extract_sequences(data, labels.index, lookback)\n",
    "    if sequences is None:\n",
    "        return pd.DataFrame()\n",
    "    \n",
    "    predictions, probabilities = [], []\n",
    "    n_batches = (len(sequences) + batch_size - 1) // batch_size\n",
    "    \n",
    "    for i in tqdm(range(0, len(sequences), batch_size), total=n_batches, desc=\"Processing batches\"):\n",
    "        batch = sequences[i:i + batch_size]\n",
    "        x_tensor = torch.tensor(batch, device=device)\n",
    "        with torch.no_grad():\n",
    "            logits = model(x_tensor)\n",
    "            probs = torch.softmax(logits, dim=1)\n",
    "            predictions.extend(torch.argmax(logits, dim=1).cpu().numpy())\n",
    "            probabilities.extend(probs.cpu().numpy())\n",
    "\n",
    "    result_df = pd.DataFrame(probabilities, index=valid_events)\n",
    "    result_df.columns = [f'prob_{i}' for i in range(len(result_df.columns))]\n",
    "    result_df['prediction'] = predictions\n",
    "    \n",
    "    return result_df"
   ]
  },
  {
   "cell_type": "code",
   "execution_count": 13,
   "id": "44f699e2-9f37-4fd0-883f-b60dd1641794",
   "metadata": {
    "scrolled": true
   },
   "outputs": [
    {
     "name": "stderr",
     "output_type": "stream",
     "text": [
      "Processing batches: 100%|███████████████████████████████████████████████████████████████████████████████████████████████████████████████| 4961/4961 [00:55<00:00, 88.96it/s]\n"
     ]
    },
    {
     "name": "stdout",
     "output_type": "stream",
     "text": [
      "CPU times: user 2min 1s, sys: 54.9 s, total: 2min 56s\n",
      "Wall time: 57.5 s\n"
     ]
    },
    {
     "data": {
      "text/plain": [
       "(prob_0    prob_1    prob_2    prediction\n",
       " 0.053344  0.885991  0.060665  1             1\n",
       " 0.375512  0.242052  0.382436  2             1\n",
       " 0.375521  0.211768  0.412711  2             1\n",
       " 0.375520  0.227462  0.397018  2             1\n",
       " 0.375519  0.233570  0.390911  2             1\n",
       "                                            ..\n",
       " 0.287560  0.436840  0.275600  1             1\n",
       " 0.287559  0.425607  0.286833  1             1\n",
       "           0.424638  0.287803  1             1\n",
       "           0.399896  0.312545  1             1\n",
       " 0.517639  0.053666  0.428695  0             1\n",
       " Name: count, Length: 317460, dtype: int64,\n",
       " prob_0        0\n",
       " prob_1        0\n",
       " prob_2        0\n",
       " prediction    0\n",
       " dtype: int64)"
      ]
     },
     "execution_count": 13,
     "metadata": {},
     "output_type": "execute_result"
    }
   ],
   "source": [
    "%%time\n",
    "predicted_sides = get_side_from_model_batch(model=model, data=features,labels=labels_df, lookback=SEQUENCE_LENGTH, device='cpu')\n",
    "predicted_sides.value_counts(), predicted_sides.isna().sum()"
   ]
  },
  {
   "cell_type": "code",
   "execution_count": 15,
   "id": "8f40ebbb-df85-45f6-bafd-6d7ad54f3a5d",
   "metadata": {},
   "outputs": [],
   "source": [
    "labels_df = labels_df.join(predicted_sides)"
   ]
  },
  {
   "cell_type": "code",
   "execution_count": 16,
   "id": "007854ed-31f6-4a5a-ab70-a0ba9587d654",
   "metadata": {},
   "outputs": [
    {
     "data": {
      "text/plain": [
       "(317488, 10)"
      ]
     },
     "execution_count": 16,
     "metadata": {},
     "output_type": "execute_result"
    }
   ],
   "source": [
    "labels_df.shape"
   ]
  },
  {
   "cell_type": "code",
   "execution_count": 17,
   "id": "694a1af3-327d-45b5-8ff9-6aad56aa23ac",
   "metadata": {},
   "outputs": [
    {
     "data": {
      "text/plain": [
       "t1             0\n",
       "trgt           0\n",
       "duration       0\n",
       "ret            0\n",
       "bin            0\n",
       "bin_class      0\n",
       "prob_0        28\n",
       "prob_1        28\n",
       "prob_2        28\n",
       "prediction    28\n",
       "dtype: int64"
      ]
     },
     "execution_count": 17,
     "metadata": {},
     "output_type": "execute_result"
    }
   ],
   "source": [
    "labels_df.isna().sum()"
   ]
  },
  {
   "cell_type": "code",
   "execution_count": 41,
   "id": "af726a7d-6d65-4394-8ec8-6a16c59641cb",
   "metadata": {},
   "outputs": [],
   "source": [
    "labels_df = labels_df.dropna().copy()"
   ]
  },
  {
   "cell_type": "code",
   "execution_count": 42,
   "id": "fabe2ce8-5475-4fe8-b6dc-04afdb44fdfe",
   "metadata": {},
   "outputs": [],
   "source": [
    "labels_df['side'] = labels_df['prediction'] - 1"
   ]
  },
  {
   "cell_type": "code",
   "execution_count": 25,
   "id": "418be389-de4d-4684-8817-239f42addbe3",
   "metadata": {},
   "outputs": [],
   "source": [
    "def getBins(events, close, t1=None):\n",
    "    '''\n",
    "    Compute event's outcome (including side information, if provided).\n",
    "    events is a DataFrame where:\n",
    "    -events.index is event's starttime\n",
    "    -events['t1'] is event's endtime\n",
    "    -events['trgt'] is event's target\n",
    "    -events['side'] (optional) implies the algo's position side\n",
    "    -t1 is original vertical barrier series\n",
    "    Case 1: ('side' not in events): bin in (-1,1) <-label by price action\n",
    "    Case 2: ('side' in events): bin in (0,1) <-label by pnl (meta-labeling)\n",
    "    '''\n",
    "    # 1) prices aligned with events\n",
    "    events_ = events.dropna(subset=['t1'])\n",
    "    px = events_.index.union(events_['t1'].values).drop_duplicates()\n",
    "    px = close.reindex(px, method='bfill')\n",
    "    # 2) create out object\n",
    "    out = pd.DataFrame(index=events_.index)\n",
    "    out['ret'] = px.loc[events_['t1'].values].values / px.loc[\n",
    "        events_.index] - 1\n",
    "    if 'side' in events_: out['ret'] *= events_['side']  # meta-labeling\n",
    "    out['bin'] = np.sign(out['ret'])\n",
    "\n",
    "    if 'side' not in events_:\n",
    "        # only applies when not meta-labeling.\n",
    "        # to update bin to 0 when vertical barrier is touched, we need the\n",
    "        # original vertical barrier series since the events['t1'] is the time\n",
    "        # of first touch of any barrier and not the vertical barrier\n",
    "        # specifically. The index of the intersection of the vertical barrier\n",
    "        # values and the events['t1'] values indicate which bin labels needs\n",
    "        # to be turned to 0.\n",
    "        vtouch_first_idx = events[events['t1'].isin(t1.values)].index\n",
    "        out.loc[vtouch_first_idx, 'bin'] = 0.\n",
    "\n",
    "    if 'side' in events_: out.loc[out['ret'] <= 0, 'bin'] = 0  # meta-labeling\n",
    "    return out"
   ]
  },
  {
   "cell_type": "code",
   "execution_count": 44,
   "id": "24b6225e-c69b-4822-a57c-982271fbe454",
   "metadata": {
    "scrolled": true
   },
   "outputs": [
    {
     "data": {
      "text/html": [
       "<div>\n",
       "<style scoped>\n",
       "    .dataframe tbody tr th:only-of-type {\n",
       "        vertical-align: middle;\n",
       "    }\n",
       "\n",
       "    .dataframe tbody tr th {\n",
       "        vertical-align: top;\n",
       "    }\n",
       "\n",
       "    .dataframe thead th {\n",
       "        text-align: right;\n",
       "    }\n",
       "</style>\n",
       "<table border=\"1\" class=\"dataframe\">\n",
       "  <thead>\n",
       "    <tr style=\"text-align: right;\">\n",
       "      <th></th>\n",
       "      <th>ret</th>\n",
       "      <th>bin</th>\n",
       "    </tr>\n",
       "    <tr>\n",
       "      <th>timestamp</th>\n",
       "      <th></th>\n",
       "      <th></th>\n",
       "    </tr>\n",
       "  </thead>\n",
       "  <tbody>\n",
       "    <tr>\n",
       "      <th>2021-01-04 15:05:41.463</th>\n",
       "      <td>0.000000</td>\n",
       "      <td>0.0</td>\n",
       "    </tr>\n",
       "    <tr>\n",
       "      <th>2021-01-04 15:08:16.396</th>\n",
       "      <td>0.000000</td>\n",
       "      <td>0.0</td>\n",
       "    </tr>\n",
       "    <tr>\n",
       "      <th>2021-01-04 15:21:52.633</th>\n",
       "      <td>0.000000</td>\n",
       "      <td>0.0</td>\n",
       "    </tr>\n",
       "    <tr>\n",
       "      <th>2021-01-04 15:29:04.720</th>\n",
       "      <td>-0.000000</td>\n",
       "      <td>0.0</td>\n",
       "    </tr>\n",
       "    <tr>\n",
       "      <th>2021-01-04 15:34:33.499</th>\n",
       "      <td>0.000000</td>\n",
       "      <td>0.0</td>\n",
       "    </tr>\n",
       "    <tr>\n",
       "      <th>...</th>\n",
       "      <td>...</td>\n",
       "      <td>...</td>\n",
       "    </tr>\n",
       "    <tr>\n",
       "      <th>2024-12-30 22:57:51.659</th>\n",
       "      <td>-0.000121</td>\n",
       "      <td>0.0</td>\n",
       "    </tr>\n",
       "    <tr>\n",
       "      <th>2024-12-30 23:10:19.118</th>\n",
       "      <td>-0.000322</td>\n",
       "      <td>0.0</td>\n",
       "    </tr>\n",
       "    <tr>\n",
       "      <th>2024-12-30 23:15:58.082</th>\n",
       "      <td>-0.000118</td>\n",
       "      <td>0.0</td>\n",
       "    </tr>\n",
       "    <tr>\n",
       "      <th>2024-12-30 23:36:09.864</th>\n",
       "      <td>-0.000150</td>\n",
       "      <td>0.0</td>\n",
       "    </tr>\n",
       "    <tr>\n",
       "      <th>2024-12-30 23:40:21.853</th>\n",
       "      <td>0.000191</td>\n",
       "      <td>1.0</td>\n",
       "    </tr>\n",
       "  </tbody>\n",
       "</table>\n",
       "<p>317460 rows × 2 columns</p>\n",
       "</div>"
      ],
      "text/plain": [
       "                              ret  bin\n",
       "timestamp                             \n",
       "2021-01-04 15:05:41.463  0.000000  0.0\n",
       "2021-01-04 15:08:16.396  0.000000  0.0\n",
       "2021-01-04 15:21:52.633  0.000000  0.0\n",
       "2021-01-04 15:29:04.720 -0.000000  0.0\n",
       "2021-01-04 15:34:33.499  0.000000  0.0\n",
       "...                           ...  ...\n",
       "2024-12-30 22:57:51.659 -0.000121  0.0\n",
       "2024-12-30 23:10:19.118 -0.000322  0.0\n",
       "2024-12-30 23:15:58.082 -0.000118  0.0\n",
       "2024-12-30 23:36:09.864 -0.000150  0.0\n",
       "2024-12-30 23:40:21.853  0.000191  1.0\n",
       "\n",
       "[317460 rows x 2 columns]"
      ]
     },
     "execution_count": 44,
     "metadata": {},
     "output_type": "execute_result"
    }
   ],
   "source": [
    "labels = getBins(labels_df, df['close'], t1=labels_df.t1)\n",
    "labels"
   ]
  },
  {
   "cell_type": "code",
   "execution_count": 45,
   "id": "77797461-e6ba-4f39-abe8-490d69bcbbdf",
   "metadata": {},
   "outputs": [
    {
     "data": {
      "text/plain": [
       "bin\n",
       "0.0    232431\n",
       "1.0     85029\n",
       "Name: count, dtype: int64"
      ]
     },
     "execution_count": 45,
     "metadata": {},
     "output_type": "execute_result"
    }
   ],
   "source": [
    "labels.bin.value_counts()"
   ]
  },
  {
   "cell_type": "code",
   "execution_count": 48,
   "id": "0a0bdb6d-6728-4e5b-81b5-37524fbd69bc",
   "metadata": {},
   "outputs": [],
   "source": [
    "labeled_events = labels_df.drop(columns=['ret', 'bin']).join(labels, how='inner')"
   ]
  },
  {
   "cell_type": "code",
   "execution_count": 49,
   "id": "ef7eb2f9-fcc5-4de1-953f-423b160cb7c7",
   "metadata": {},
   "outputs": [
    {
     "data": {
      "text/html": [
       "<div>\n",
       "<style scoped>\n",
       "    .dataframe tbody tr th:only-of-type {\n",
       "        vertical-align: middle;\n",
       "    }\n",
       "\n",
       "    .dataframe tbody tr th {\n",
       "        vertical-align: top;\n",
       "    }\n",
       "\n",
       "    .dataframe thead th {\n",
       "        text-align: right;\n",
       "    }\n",
       "</style>\n",
       "<table border=\"1\" class=\"dataframe\">\n",
       "  <thead>\n",
       "    <tr style=\"text-align: right;\">\n",
       "      <th></th>\n",
       "      <th>t1</th>\n",
       "      <th>trgt</th>\n",
       "      <th>duration</th>\n",
       "      <th>bin_class</th>\n",
       "      <th>prob_0</th>\n",
       "      <th>prob_1</th>\n",
       "      <th>prob_2</th>\n",
       "      <th>prediction</th>\n",
       "      <th>side</th>\n",
       "      <th>ret</th>\n",
       "      <th>bin</th>\n",
       "    </tr>\n",
       "    <tr>\n",
       "      <th>timestamp</th>\n",
       "      <th></th>\n",
       "      <th></th>\n",
       "      <th></th>\n",
       "      <th></th>\n",
       "      <th></th>\n",
       "      <th></th>\n",
       "      <th></th>\n",
       "      <th></th>\n",
       "      <th></th>\n",
       "      <th></th>\n",
       "      <th></th>\n",
       "    </tr>\n",
       "  </thead>\n",
       "  <tbody>\n",
       "    <tr>\n",
       "      <th>2021-01-04 15:05:41.463</th>\n",
       "      <td>2021-01-04 15:08:16.396</td>\n",
       "      <td>0.000213</td>\n",
       "      <td>0 days 00:02:34.933000</td>\n",
       "      <td>2.0</td>\n",
       "      <td>0.145125</td>\n",
       "      <td>0.687308</td>\n",
       "      <td>0.167567</td>\n",
       "      <td>1.0</td>\n",
       "      <td>0.0</td>\n",
       "      <td>0.000000</td>\n",
       "      <td>0.0</td>\n",
       "    </tr>\n",
       "    <tr>\n",
       "      <th>2021-01-04 15:08:16.396</th>\n",
       "      <td>2021-01-04 15:21:52.633</td>\n",
       "      <td>0.000214</td>\n",
       "      <td>0 days 00:13:36.237000</td>\n",
       "      <td>2.0</td>\n",
       "      <td>0.143740</td>\n",
       "      <td>0.690801</td>\n",
       "      <td>0.165459</td>\n",
       "      <td>1.0</td>\n",
       "      <td>0.0</td>\n",
       "      <td>0.000000</td>\n",
       "      <td>0.0</td>\n",
       "    </tr>\n",
       "    <tr>\n",
       "      <th>2021-01-04 15:21:52.633</th>\n",
       "      <td>2021-01-04 15:29:04.720</td>\n",
       "      <td>0.000217</td>\n",
       "      <td>0 days 00:07:12.087000</td>\n",
       "      <td>2.0</td>\n",
       "      <td>0.144605</td>\n",
       "      <td>0.691683</td>\n",
       "      <td>0.163712</td>\n",
       "      <td>1.0</td>\n",
       "      <td>0.0</td>\n",
       "      <td>0.000000</td>\n",
       "      <td>0.0</td>\n",
       "    </tr>\n",
       "    <tr>\n",
       "      <th>2021-01-04 15:29:04.720</th>\n",
       "      <td>2021-01-04 15:34:33.499</td>\n",
       "      <td>0.000218</td>\n",
       "      <td>0 days 00:05:28.779000</td>\n",
       "      <td>0.0</td>\n",
       "      <td>0.143102</td>\n",
       "      <td>0.694681</td>\n",
       "      <td>0.162217</td>\n",
       "      <td>1.0</td>\n",
       "      <td>0.0</td>\n",
       "      <td>-0.000000</td>\n",
       "      <td>0.0</td>\n",
       "    </tr>\n",
       "    <tr>\n",
       "      <th>2021-01-04 15:34:33.499</th>\n",
       "      <td>2021-01-04 15:45:39.081</td>\n",
       "      <td>0.000219</td>\n",
       "      <td>0 days 00:11:05.582000</td>\n",
       "      <td>1.0</td>\n",
       "      <td>0.141421</td>\n",
       "      <td>0.698880</td>\n",
       "      <td>0.159699</td>\n",
       "      <td>1.0</td>\n",
       "      <td>0.0</td>\n",
       "      <td>0.000000</td>\n",
       "      <td>0.0</td>\n",
       "    </tr>\n",
       "    <tr>\n",
       "      <th>...</th>\n",
       "      <td>...</td>\n",
       "      <td>...</td>\n",
       "      <td>...</td>\n",
       "      <td>...</td>\n",
       "      <td>...</td>\n",
       "      <td>...</td>\n",
       "      <td>...</td>\n",
       "      <td>...</td>\n",
       "      <td>...</td>\n",
       "      <td>...</td>\n",
       "      <td>...</td>\n",
       "    </tr>\n",
       "    <tr>\n",
       "      <th>2024-12-30 22:57:51.659</th>\n",
       "      <td>2024-12-30 23:06:02.364</td>\n",
       "      <td>0.000114</td>\n",
       "      <td>0 days 00:08:10.705000</td>\n",
       "      <td>2.0</td>\n",
       "      <td>0.349527</td>\n",
       "      <td>0.315080</td>\n",
       "      <td>0.335393</td>\n",
       "      <td>0.0</td>\n",
       "      <td>-1.0</td>\n",
       "      <td>-0.000121</td>\n",
       "      <td>0.0</td>\n",
       "    </tr>\n",
       "    <tr>\n",
       "      <th>2024-12-30 23:10:19.118</th>\n",
       "      <td>2024-12-30 23:15:58.082</td>\n",
       "      <td>0.000114</td>\n",
       "      <td>0 days 00:05:38.964000</td>\n",
       "      <td>2.0</td>\n",
       "      <td>0.365897</td>\n",
       "      <td>0.286249</td>\n",
       "      <td>0.347854</td>\n",
       "      <td>0.0</td>\n",
       "      <td>-1.0</td>\n",
       "      <td>-0.000322</td>\n",
       "      <td>0.0</td>\n",
       "    </tr>\n",
       "    <tr>\n",
       "      <th>2024-12-30 23:15:58.082</th>\n",
       "      <td>2024-12-30 23:33:37.983</td>\n",
       "      <td>0.000115</td>\n",
       "      <td>0 days 00:17:39.901000</td>\n",
       "      <td>1.0</td>\n",
       "      <td>0.368173</td>\n",
       "      <td>0.282428</td>\n",
       "      <td>0.349398</td>\n",
       "      <td>0.0</td>\n",
       "      <td>-1.0</td>\n",
       "      <td>-0.000118</td>\n",
       "      <td>0.0</td>\n",
       "    </tr>\n",
       "    <tr>\n",
       "      <th>2024-12-30 23:36:09.864</th>\n",
       "      <td>2024-12-30 23:37:33.033</td>\n",
       "      <td>0.000115</td>\n",
       "      <td>0 days 00:01:23.169000</td>\n",
       "      <td>2.0</td>\n",
       "      <td>0.429030</td>\n",
       "      <td>0.176818</td>\n",
       "      <td>0.394151</td>\n",
       "      <td>0.0</td>\n",
       "      <td>-1.0</td>\n",
       "      <td>-0.000150</td>\n",
       "      <td>0.0</td>\n",
       "    </tr>\n",
       "    <tr>\n",
       "      <th>2024-12-30 23:40:21.853</th>\n",
       "      <td>2024-12-30 23:47:00.978</td>\n",
       "      <td>0.000116</td>\n",
       "      <td>0 days 00:06:39.125000</td>\n",
       "      <td>1.0</td>\n",
       "      <td>0.455913</td>\n",
       "      <td>0.130202</td>\n",
       "      <td>0.413885</td>\n",
       "      <td>0.0</td>\n",
       "      <td>-1.0</td>\n",
       "      <td>0.000191</td>\n",
       "      <td>1.0</td>\n",
       "    </tr>\n",
       "  </tbody>\n",
       "</table>\n",
       "<p>317460 rows × 11 columns</p>\n",
       "</div>"
      ],
      "text/plain": [
       "                                             t1      trgt  \\\n",
       "timestamp                                                   \n",
       "2021-01-04 15:05:41.463 2021-01-04 15:08:16.396  0.000213   \n",
       "2021-01-04 15:08:16.396 2021-01-04 15:21:52.633  0.000214   \n",
       "2021-01-04 15:21:52.633 2021-01-04 15:29:04.720  0.000217   \n",
       "2021-01-04 15:29:04.720 2021-01-04 15:34:33.499  0.000218   \n",
       "2021-01-04 15:34:33.499 2021-01-04 15:45:39.081  0.000219   \n",
       "...                                         ...       ...   \n",
       "2024-12-30 22:57:51.659 2024-12-30 23:06:02.364  0.000114   \n",
       "2024-12-30 23:10:19.118 2024-12-30 23:15:58.082  0.000114   \n",
       "2024-12-30 23:15:58.082 2024-12-30 23:33:37.983  0.000115   \n",
       "2024-12-30 23:36:09.864 2024-12-30 23:37:33.033  0.000115   \n",
       "2024-12-30 23:40:21.853 2024-12-30 23:47:00.978  0.000116   \n",
       "\n",
       "                                      duration  bin_class    prob_0    prob_1  \\\n",
       "timestamp                                                                       \n",
       "2021-01-04 15:05:41.463 0 days 00:02:34.933000        2.0  0.145125  0.687308   \n",
       "2021-01-04 15:08:16.396 0 days 00:13:36.237000        2.0  0.143740  0.690801   \n",
       "2021-01-04 15:21:52.633 0 days 00:07:12.087000        2.0  0.144605  0.691683   \n",
       "2021-01-04 15:29:04.720 0 days 00:05:28.779000        0.0  0.143102  0.694681   \n",
       "2021-01-04 15:34:33.499 0 days 00:11:05.582000        1.0  0.141421  0.698880   \n",
       "...                                        ...        ...       ...       ...   \n",
       "2024-12-30 22:57:51.659 0 days 00:08:10.705000        2.0  0.349527  0.315080   \n",
       "2024-12-30 23:10:19.118 0 days 00:05:38.964000        2.0  0.365897  0.286249   \n",
       "2024-12-30 23:15:58.082 0 days 00:17:39.901000        1.0  0.368173  0.282428   \n",
       "2024-12-30 23:36:09.864 0 days 00:01:23.169000        2.0  0.429030  0.176818   \n",
       "2024-12-30 23:40:21.853 0 days 00:06:39.125000        1.0  0.455913  0.130202   \n",
       "\n",
       "                           prob_2  prediction  side       ret  bin  \n",
       "timestamp                                                           \n",
       "2021-01-04 15:05:41.463  0.167567         1.0   0.0  0.000000  0.0  \n",
       "2021-01-04 15:08:16.396  0.165459         1.0   0.0  0.000000  0.0  \n",
       "2021-01-04 15:21:52.633  0.163712         1.0   0.0  0.000000  0.0  \n",
       "2021-01-04 15:29:04.720  0.162217         1.0   0.0 -0.000000  0.0  \n",
       "2021-01-04 15:34:33.499  0.159699         1.0   0.0  0.000000  0.0  \n",
       "...                           ...         ...   ...       ...  ...  \n",
       "2024-12-30 22:57:51.659  0.335393         0.0  -1.0 -0.000121  0.0  \n",
       "2024-12-30 23:10:19.118  0.347854         0.0  -1.0 -0.000322  0.0  \n",
       "2024-12-30 23:15:58.082  0.349398         0.0  -1.0 -0.000118  0.0  \n",
       "2024-12-30 23:36:09.864  0.394151         0.0  -1.0 -0.000150  0.0  \n",
       "2024-12-30 23:40:21.853  0.413885         0.0  -1.0  0.000191  1.0  \n",
       "\n",
       "[317460 rows x 11 columns]"
      ]
     },
     "execution_count": 49,
     "metadata": {},
     "output_type": "execute_result"
    }
   ],
   "source": [
    "labeled_events"
   ]
  },
  {
   "cell_type": "code",
   "execution_count": 50,
   "id": "221a7043-a81f-4e1f-98db-ca788ce7c9e3",
   "metadata": {},
   "outputs": [
    {
     "data": {
      "text/plain": [
       "Index(['t1', 'trgt', 'duration', 'bin_class', 'prob_0', 'prob_1', 'prob_2',\n",
       "       'prediction', 'side', 'ret', 'bin'],\n",
       "      dtype='object')"
      ]
     },
     "execution_count": 50,
     "metadata": {},
     "output_type": "execute_result"
    }
   ],
   "source": [
    "labeled_events.columns"
   ]
  },
  {
   "cell_type": "code",
   "execution_count": 51,
   "id": "ffcf3d76-b2bf-4843-896d-866c78bc7792",
   "metadata": {},
   "outputs": [
    {
     "data": {
      "text/plain": [
       "bin\n",
       "0.0    232431\n",
       "1.0     85029\n",
       "Name: count, dtype: int64"
      ]
     },
     "execution_count": 51,
     "metadata": {},
     "output_type": "execute_result"
    }
   ],
   "source": [
    "labeled_events.bin.value_counts()"
   ]
  },
  {
   "cell_type": "code",
   "execution_count": 52,
   "id": "bbd84e56-c1e5-42f4-bc67-f11b0ea6724c",
   "metadata": {},
   "outputs": [],
   "source": [
    "labeled_events.to_pickle(META_LABEL_FILE_PATH)"
   ]
  }
 ],
 "metadata": {
  "kernelspec": {
   "display_name": "Python 3 (ipykernel)",
   "language": "python",
   "name": "python3"
  },
  "language_info": {
   "codemirror_mode": {
    "name": "ipython",
    "version": 3
   },
   "file_extension": ".py",
   "mimetype": "text/x-python",
   "name": "python",
   "nbconvert_exporter": "python",
   "pygments_lexer": "ipython3",
   "version": "3.12.11"
  },
  "widgets": {
   "application/vnd.jupyter.widget-state+json": {
    "state": {},
    "version_major": 2,
    "version_minor": 0
   }
  }
 },
 "nbformat": 4,
 "nbformat_minor": 5
}
