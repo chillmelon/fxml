{
 "cells": [
  {
   "cell_type": "code",
   "execution_count": 1,
   "id": "8c6d6f1f-0017-4810-9328-099f68c7c6e2",
   "metadata": {},
   "outputs": [],
   "source": [
    "import pandas as pd\n",
    "import numpy as np\n",
    "import matplotlib.pyplot as plt\n",
    "from matplotlib.ticker import FormatStrFormatter\n",
    "\n",
    "import os"
   ]
  },
  {
   "cell_type": "code",
   "execution_count": 2,
   "id": "bf14af0e-a692-419c-a591-5feaf1601bf9",
   "metadata": {},
   "outputs": [],
   "source": [
    "from pathlib import Path\n",
    "\n",
    "# Configurable parts\n",
    "SYMBOL = \"USDJPY\"\n",
    "SAMPLE_TYPE = \"time\"\n",
    "MINUTES = 5\n",
    "EVENT_NAME = 'CUSUM_0.001'\n",
    "LABEL_NAME = \"FH\"\n",
    "\n",
    "START_DATE = \"20210101\"\n",
    "END_DATE = \"20241231\"\n",
    "\n",
    "RESAMPLED_NAME = f\"{SYMBOL}-{MINUTES}m-{START_DATE}-{END_DATE}\"\n",
    "\n",
    "# Base directories\n",
    "BASE_DIR = Path(\"../data\")\n",
    "RESAMPLED_DIR = BASE_DIR / \"resampled\"\n",
    "PROCESSED_DIR = BASE_DIR / \"processed\"\n",
    "EVENTS_DIR = BASE_DIR / \"interm/events\"\n",
    "\n",
    "# Final paths\n",
    "RESAMPLED_FILE_PATH = RESAMPLED_DIR / f\"{RESAMPLED_NAME}.pkl\"\n",
    "PROCESSED_FILE_PATH = PROCESSED_DIR / f\"{RESAMPLED_NAME}_FEATURES.pkl\"\n",
    "EVENT_FILE_PATH = EVENTS_DIR / f\"{RESAMPLED_NAME}_{EVENT_NAME}.pkl\""
   ]
  },
  {
   "cell_type": "code",
   "execution_count": 3,
   "id": "c95146f2-e32f-4954-a38e-afd492fa82be",
   "metadata": {},
   "outputs": [],
   "source": [
    "DIRECTION_LABEL_DIR = BASE_DIR / \"labels/direction_labels\"\n",
    "DIRECTION_LABEL_DIR.mkdir(parents=True, exist_ok=True)\n",
    "DIRECTION_LABEL_FILE_PATH = DIRECTION_LABEL_DIR / f\"{RESAMPLED_NAME}-{EVENT_NAME}-{LABEL_NAME}.pkl\""
   ]
  },
  {
   "cell_type": "code",
   "execution_count": 4,
   "id": "79e659aa-5b8f-43d4-aa7f-3fe6cd7e5bd7",
   "metadata": {
    "scrolled": true
   },
   "outputs": [
    {
     "name": "stdout",
     "output_type": "stream",
     "text": [
      "CPU times: user 1.11 ms, sys: 27.7 ms, total: 28.8 ms\n",
      "Wall time: 39.8 ms\n"
     ]
    }
   ],
   "source": [
    "%%time\n",
    "df = pd.read_pickle(PROCESSED_FILE_PATH)\n",
    "t_events = pd.read_pickle(EVENT_FILE_PATH)"
   ]
  },
  {
   "cell_type": "code",
   "execution_count": 5,
   "id": "0c4183f5-be41-413c-9747-61ea734787b2",
   "metadata": {},
   "outputs": [
    {
     "data": {
      "text/html": [
       "<div>\n",
       "<style scoped>\n",
       "    .dataframe tbody tr th:only-of-type {\n",
       "        vertical-align: middle;\n",
       "    }\n",
       "\n",
       "    .dataframe tbody tr th {\n",
       "        vertical-align: top;\n",
       "    }\n",
       "\n",
       "    .dataframe thead th {\n",
       "        text-align: right;\n",
       "    }\n",
       "</style>\n",
       "<table border=\"1\" class=\"dataframe\">\n",
       "  <thead>\n",
       "    <tr style=\"text-align: right;\">\n",
       "      <th></th>\n",
       "      <th>open</th>\n",
       "      <th>high</th>\n",
       "      <th>low</th>\n",
       "      <th>close</th>\n",
       "      <th>volume</th>\n",
       "      <th>spread</th>\n",
       "      <th>close_pct_return</th>\n",
       "      <th>close_return</th>\n",
       "      <th>close_log_return</th>\n",
       "      <th>close_fd_return</th>\n",
       "      <th>...</th>\n",
       "      <th>dom</th>\n",
       "      <th>month</th>\n",
       "      <th>hour_sin</th>\n",
       "      <th>hour_cos</th>\n",
       "      <th>dow_sin</th>\n",
       "      <th>dow_cos</th>\n",
       "      <th>dom_sin</th>\n",
       "      <th>dom_cos</th>\n",
       "      <th>month_sin</th>\n",
       "      <th>month_cos</th>\n",
       "    </tr>\n",
       "    <tr>\n",
       "      <th>timestamp</th>\n",
       "      <th></th>\n",
       "      <th></th>\n",
       "      <th></th>\n",
       "      <th></th>\n",
       "      <th></th>\n",
       "      <th></th>\n",
       "      <th></th>\n",
       "      <th></th>\n",
       "      <th></th>\n",
       "      <th></th>\n",
       "      <th></th>\n",
       "      <th></th>\n",
       "      <th></th>\n",
       "      <th></th>\n",
       "      <th></th>\n",
       "      <th></th>\n",
       "      <th></th>\n",
       "      <th></th>\n",
       "      <th></th>\n",
       "      <th></th>\n",
       "      <th></th>\n",
       "    </tr>\n",
       "  </thead>\n",
       "  <tbody>\n",
       "    <tr>\n",
       "      <th>2021-01-07 05:45:00</th>\n",
       "      <td>103.1925</td>\n",
       "      <td>103.2260</td>\n",
       "      <td>103.1890</td>\n",
       "      <td>103.2135</td>\n",
       "      <td>7.047600e+11</td>\n",
       "      <td>0.002410</td>\n",
       "      <td>0.000199</td>\n",
       "      <td>0.0205</td>\n",
       "      <td>0.000199</td>\n",
       "      <td>1.954618</td>\n",
       "      <td>...</td>\n",
       "      <td>7</td>\n",
       "      <td>1</td>\n",
       "      <td>0.965926</td>\n",
       "      <td>0.258819</td>\n",
       "      <td>0.433884</td>\n",
       "      <td>-0.900969</td>\n",
       "      <td>0.988468</td>\n",
       "      <td>0.151428</td>\n",
       "      <td>0.5</td>\n",
       "      <td>0.866025</td>\n",
       "    </tr>\n",
       "    <tr>\n",
       "      <th>2021-01-07 07:05:00</th>\n",
       "      <td>103.2515</td>\n",
       "      <td>103.3085</td>\n",
       "      <td>103.2500</td>\n",
       "      <td>103.2995</td>\n",
       "      <td>8.774100e+11</td>\n",
       "      <td>0.002593</td>\n",
       "      <td>0.000460</td>\n",
       "      <td>0.0475</td>\n",
       "      <td>0.000460</td>\n",
       "      <td>1.993861</td>\n",
       "      <td>...</td>\n",
       "      <td>7</td>\n",
       "      <td>1</td>\n",
       "      <td>0.965926</td>\n",
       "      <td>-0.258819</td>\n",
       "      <td>0.433884</td>\n",
       "      <td>-0.900969</td>\n",
       "      <td>0.988468</td>\n",
       "      <td>0.151428</td>\n",
       "      <td>0.5</td>\n",
       "      <td>0.866025</td>\n",
       "    </tr>\n",
       "    <tr>\n",
       "      <th>2021-01-07 08:05:00</th>\n",
       "      <td>103.3590</td>\n",
       "      <td>103.3945</td>\n",
       "      <td>103.3560</td>\n",
       "      <td>103.3795</td>\n",
       "      <td>1.817860e+12</td>\n",
       "      <td>0.002563</td>\n",
       "      <td>0.000189</td>\n",
       "      <td>0.0195</td>\n",
       "      <td>0.000189</td>\n",
       "      <td>1.972264</td>\n",
       "      <td>...</td>\n",
       "      <td>7</td>\n",
       "      <td>1</td>\n",
       "      <td>0.866025</td>\n",
       "      <td>-0.500000</td>\n",
       "      <td>0.433884</td>\n",
       "      <td>-0.900969</td>\n",
       "      <td>0.988468</td>\n",
       "      <td>0.151428</td>\n",
       "      <td>0.5</td>\n",
       "      <td>0.866025</td>\n",
       "    </tr>\n",
       "    <tr>\n",
       "      <th>2021-01-07 09:10:00</th>\n",
       "      <td>103.4220</td>\n",
       "      <td>103.4730</td>\n",
       "      <td>103.4160</td>\n",
       "      <td>103.4660</td>\n",
       "      <td>1.227620e+12</td>\n",
       "      <td>0.002118</td>\n",
       "      <td>0.000421</td>\n",
       "      <td>0.0435</td>\n",
       "      <td>0.000421</td>\n",
       "      <td>2.002900</td>\n",
       "      <td>...</td>\n",
       "      <td>7</td>\n",
       "      <td>1</td>\n",
       "      <td>0.707107</td>\n",
       "      <td>-0.707107</td>\n",
       "      <td>0.433884</td>\n",
       "      <td>-0.900969</td>\n",
       "      <td>0.988468</td>\n",
       "      <td>0.151428</td>\n",
       "      <td>0.5</td>\n",
       "      <td>0.866025</td>\n",
       "    </tr>\n",
       "    <tr>\n",
       "      <th>2021-01-07 09:50:00</th>\n",
       "      <td>103.5100</td>\n",
       "      <td>103.5775</td>\n",
       "      <td>103.5085</td>\n",
       "      <td>103.5755</td>\n",
       "      <td>2.519750e+12</td>\n",
       "      <td>0.001983</td>\n",
       "      <td>0.000623</td>\n",
       "      <td>0.0645</td>\n",
       "      <td>0.000623</td>\n",
       "      <td>2.044747</td>\n",
       "      <td>...</td>\n",
       "      <td>7</td>\n",
       "      <td>1</td>\n",
       "      <td>0.707107</td>\n",
       "      <td>-0.707107</td>\n",
       "      <td>0.433884</td>\n",
       "      <td>-0.900969</td>\n",
       "      <td>0.988468</td>\n",
       "      <td>0.151428</td>\n",
       "      <td>0.5</td>\n",
       "      <td>0.866025</td>\n",
       "    </tr>\n",
       "  </tbody>\n",
       "</table>\n",
       "<p>5 rows × 67 columns</p>\n",
       "</div>"
      ],
      "text/plain": [
       "                         open      high       low     close        volume  \\\n",
       "timestamp                                                                   \n",
       "2021-01-07 05:45:00  103.1925  103.2260  103.1890  103.2135  7.047600e+11   \n",
       "2021-01-07 07:05:00  103.2515  103.3085  103.2500  103.2995  8.774100e+11   \n",
       "2021-01-07 08:05:00  103.3590  103.3945  103.3560  103.3795  1.817860e+12   \n",
       "2021-01-07 09:10:00  103.4220  103.4730  103.4160  103.4660  1.227620e+12   \n",
       "2021-01-07 09:50:00  103.5100  103.5775  103.5085  103.5755  2.519750e+12   \n",
       "\n",
       "                       spread  close_pct_return  close_return  \\\n",
       "timestamp                                                       \n",
       "2021-01-07 05:45:00  0.002410          0.000199        0.0205   \n",
       "2021-01-07 07:05:00  0.002593          0.000460        0.0475   \n",
       "2021-01-07 08:05:00  0.002563          0.000189        0.0195   \n",
       "2021-01-07 09:10:00  0.002118          0.000421        0.0435   \n",
       "2021-01-07 09:50:00  0.001983          0.000623        0.0645   \n",
       "\n",
       "                     close_log_return  close_fd_return  ...  dom  month  \\\n",
       "timestamp                                               ...               \n",
       "2021-01-07 05:45:00          0.000199         1.954618  ...    7      1   \n",
       "2021-01-07 07:05:00          0.000460         1.993861  ...    7      1   \n",
       "2021-01-07 08:05:00          0.000189         1.972264  ...    7      1   \n",
       "2021-01-07 09:10:00          0.000421         2.002900  ...    7      1   \n",
       "2021-01-07 09:50:00          0.000623         2.044747  ...    7      1   \n",
       "\n",
       "                     hour_sin  hour_cos   dow_sin   dow_cos   dom_sin  \\\n",
       "timestamp                                                               \n",
       "2021-01-07 05:45:00  0.965926  0.258819  0.433884 -0.900969  0.988468   \n",
       "2021-01-07 07:05:00  0.965926 -0.258819  0.433884 -0.900969  0.988468   \n",
       "2021-01-07 08:05:00  0.866025 -0.500000  0.433884 -0.900969  0.988468   \n",
       "2021-01-07 09:10:00  0.707107 -0.707107  0.433884 -0.900969  0.988468   \n",
       "2021-01-07 09:50:00  0.707107 -0.707107  0.433884 -0.900969  0.988468   \n",
       "\n",
       "                      dom_cos  month_sin  month_cos  \n",
       "timestamp                                            \n",
       "2021-01-07 05:45:00  0.151428        0.5   0.866025  \n",
       "2021-01-07 07:05:00  0.151428        0.5   0.866025  \n",
       "2021-01-07 08:05:00  0.151428        0.5   0.866025  \n",
       "2021-01-07 09:10:00  0.151428        0.5   0.866025  \n",
       "2021-01-07 09:50:00  0.151428        0.5   0.866025  \n",
       "\n",
       "[5 rows x 67 columns]"
      ]
     },
     "execution_count": 5,
     "metadata": {},
     "output_type": "execute_result"
    }
   ],
   "source": [
    "df.loc[t_events].head()"
   ]
  },
  {
   "cell_type": "code",
   "execution_count": 15,
   "id": "81916af6-db3c-4f7e-a7d8-a9354d39d756",
   "metadata": {},
   "outputs": [],
   "source": [
    "df['next_return'] = df['close_log_return'].shift(-1)"
   ]
  },
  {
   "cell_type": "code",
   "execution_count": 22,
   "id": "4681b79f-bfd1-4de3-857a-91c65a3c4644",
   "metadata": {},
   "outputs": [
    {
     "data": {
      "text/plain": [
       "np.float64(6.894801876440301e-05)"
      ]
     },
     "execution_count": 22,
     "metadata": {},
     "output_type": "execute_result"
    }
   ],
   "source": [
    "return_threshold = df['next_return'].abs().quantile(.3)\n",
    "return_threshold"
   ]
  },
  {
   "cell_type": "code",
   "execution_count": 27,
   "id": "832c6127-acc6-46d9-a527-e11b3f7b4a03",
   "metadata": {},
   "outputs": [],
   "source": [
    "def bin_ret(ret: float, threshold: float):\n",
    "    if abs(ret) < threshold: \n",
    "        return 0\n",
    "    elif ret > 0:\n",
    "        return 1\n",
    "    else:\n",
    "        return -1"
   ]
  },
  {
   "cell_type": "code",
   "execution_count": 28,
   "id": "2cff08a1-43c3-48f9-85dc-7a8443f2de55",
   "metadata": {},
   "outputs": [],
   "source": [
    "df['bin'] = df['next_return'].apply(lambda x: bin_ret(x, threshold=return_threshold))"
   ]
  },
  {
   "cell_type": "code",
   "execution_count": 29,
   "id": "573cfc4c-cb88-4376-ba40-c9a33f8f3ef0",
   "metadata": {},
   "outputs": [
    {
     "data": {
      "text/plain": [
       "bin\n",
       " 1    106649\n",
       "-1    102066\n",
       " 0     89449\n",
       "Name: count, dtype: int64"
      ]
     },
     "execution_count": 29,
     "metadata": {},
     "output_type": "execute_result"
    }
   ],
   "source": [
    "df['bin'].value_counts()"
   ]
  },
  {
   "cell_type": "code",
   "execution_count": 35,
   "id": "2e67dcd2-cdbf-469a-b2d9-d98b349d8220",
   "metadata": {},
   "outputs": [],
   "source": [
    "labels = df['bin'].reindex(t_events)"
   ]
  },
  {
   "cell_type": "code",
   "execution_count": 36,
   "id": "aae2e7e2-9bc1-4282-ba74-c813666ddca3",
   "metadata": {},
   "outputs": [
    {
     "data": {
      "text/plain": [
       "timestamp\n",
       "2021-01-07 05:45:00   -1\n",
       "2021-01-07 07:05:00   -1\n",
       "2021-01-07 08:05:00    0\n",
       "2021-01-07 09:10:00   -1\n",
       "2021-01-07 09:50:00    0\n",
       "                      ..\n",
       "2024-12-30 16:40:00   -1\n",
       "2024-12-30 18:00:00   -1\n",
       "2024-12-30 19:00:00    0\n",
       "2024-12-30 20:30:00   -1\n",
       "2024-12-30 23:05:00    1\n",
       "Name: bin, Length: 24493, dtype: int64"
      ]
     },
     "execution_count": 36,
     "metadata": {},
     "output_type": "execute_result"
    }
   ],
   "source": [
    "labels"
   ]
  },
  {
   "cell_type": "code",
   "execution_count": 37,
   "id": "acd4019c-4d46-4825-a78c-b89aa690a975",
   "metadata": {},
   "outputs": [
    {
     "ename": "KeyError",
     "evalue": "'bin'",
     "output_type": "error",
     "traceback": [
      "\u001b[31m---------------------------------------------------------------------------\u001b[39m",
      "\u001b[31mDateParseError\u001b[39m                            Traceback (most recent call last)",
      "\u001b[36mFile \u001b[39m\u001b[32m~/personal/fxml/.venv/lib/python3.12/site-packages/pandas/core/indexes/datetimes.py:603\u001b[39m, in \u001b[36mDatetimeIndex.get_loc\u001b[39m\u001b[34m(self, key)\u001b[39m\n\u001b[32m    602\u001b[39m \u001b[38;5;28;01mtry\u001b[39;00m:\n\u001b[32m--> \u001b[39m\u001b[32m603\u001b[39m     parsed, reso = \u001b[38;5;28;43mself\u001b[39;49m\u001b[43m.\u001b[49m\u001b[43m_parse_with_reso\u001b[49m\u001b[43m(\u001b[49m\u001b[43mkey\u001b[49m\u001b[43m)\u001b[49m\n\u001b[32m    604\u001b[39m \u001b[38;5;28;01mexcept\u001b[39;00m (\u001b[38;5;167;01mValueError\u001b[39;00m, pytz.NonExistentTimeError) \u001b[38;5;28;01mas\u001b[39;00m err:\n",
      "\u001b[36mFile \u001b[39m\u001b[32m~/personal/fxml/.venv/lib/python3.12/site-packages/pandas/core/indexes/datetimes.py:559\u001b[39m, in \u001b[36mDatetimeIndex._parse_with_reso\u001b[39m\u001b[34m(self, label)\u001b[39m\n\u001b[32m    558\u001b[39m \u001b[38;5;28;01mdef\u001b[39;00m\u001b[38;5;250m \u001b[39m\u001b[34m_parse_with_reso\u001b[39m(\u001b[38;5;28mself\u001b[39m, label: \u001b[38;5;28mstr\u001b[39m):\n\u001b[32m--> \u001b[39m\u001b[32m559\u001b[39m     parsed, reso = \u001b[38;5;28;43msuper\u001b[39;49m\u001b[43m(\u001b[49m\u001b[43m)\u001b[49m\u001b[43m.\u001b[49m\u001b[43m_parse_with_reso\u001b[49m\u001b[43m(\u001b[49m\u001b[43mlabel\u001b[49m\u001b[43m)\u001b[49m\n\u001b[32m    561\u001b[39m     parsed = Timestamp(parsed)\n",
      "\u001b[36mFile \u001b[39m\u001b[32m~/personal/fxml/.venv/lib/python3.12/site-packages/pandas/core/indexes/datetimelike.py:293\u001b[39m, in \u001b[36mDatetimeIndexOpsMixin._parse_with_reso\u001b[39m\u001b[34m(self, label)\u001b[39m\n\u001b[32m    291\u001b[39m     label = \u001b[38;5;28mstr\u001b[39m(label)\n\u001b[32m--> \u001b[39m\u001b[32m293\u001b[39m parsed, reso_str = \u001b[43mparsing\u001b[49m\u001b[43m.\u001b[49m\u001b[43mparse_datetime_string_with_reso\u001b[49m\u001b[43m(\u001b[49m\u001b[43mlabel\u001b[49m\u001b[43m,\u001b[49m\u001b[43m \u001b[49m\u001b[43mfreqstr\u001b[49m\u001b[43m)\u001b[49m\n\u001b[32m    294\u001b[39m reso = Resolution.from_attrname(reso_str)\n",
      "\u001b[36mFile \u001b[39m\u001b[32mpandas/_libs/tslibs/parsing.pyx:442\u001b[39m, in \u001b[36mpandas._libs.tslibs.parsing.parse_datetime_string_with_reso\u001b[39m\u001b[34m()\u001b[39m\n",
      "\u001b[36mFile \u001b[39m\u001b[32mpandas/_libs/tslibs/parsing.pyx:666\u001b[39m, in \u001b[36mpandas._libs.tslibs.parsing.dateutil_parse\u001b[39m\u001b[34m()\u001b[39m\n",
      "\u001b[31mDateParseError\u001b[39m: Unknown datetime string format, unable to parse: bin",
      "\nThe above exception was the direct cause of the following exception:\n",
      "\u001b[31mKeyError\u001b[39m                                  Traceback (most recent call last)",
      "\u001b[36mCell\u001b[39m\u001b[36m \u001b[39m\u001b[32mIn[37]\u001b[39m\u001b[32m, line 1\u001b[39m\n\u001b[32m----> \u001b[39m\u001b[32m1\u001b[39m labels[\u001b[33m\"\u001b[39m\u001b[33mbin_class\u001b[39m\u001b[33m\"\u001b[39m] = \u001b[43mlabels\u001b[49m\u001b[43m[\u001b[49m\u001b[33;43m\"\u001b[39;49m\u001b[33;43mbin\u001b[39;49m\u001b[33;43m\"\u001b[39;49m\u001b[43m]\u001b[49m + \u001b[32m1\u001b[39m\n",
      "\u001b[36mFile \u001b[39m\u001b[32m~/personal/fxml/.venv/lib/python3.12/site-packages/pandas/core/series.py:1133\u001b[39m, in \u001b[36mSeries.__getitem__\u001b[39m\u001b[34m(self, key)\u001b[39m\n\u001b[32m   1130\u001b[39m     \u001b[38;5;28;01mreturn\u001b[39;00m \u001b[38;5;28mself\u001b[39m._values[key]\n\u001b[32m   1132\u001b[39m \u001b[38;5;28;01melif\u001b[39;00m key_is_scalar:\n\u001b[32m-> \u001b[39m\u001b[32m1133\u001b[39m     \u001b[38;5;28;01mreturn\u001b[39;00m \u001b[38;5;28;43mself\u001b[39;49m\u001b[43m.\u001b[49m\u001b[43m_get_value\u001b[49m\u001b[43m(\u001b[49m\u001b[43mkey\u001b[49m\u001b[43m)\u001b[49m\n\u001b[32m   1135\u001b[39m \u001b[38;5;66;03m# Convert generator to list before going through hashable part\u001b[39;00m\n\u001b[32m   1136\u001b[39m \u001b[38;5;66;03m# (We will iterate through the generator there to check for slices)\u001b[39;00m\n\u001b[32m   1137\u001b[39m \u001b[38;5;28;01mif\u001b[39;00m is_iterator(key):\n",
      "\u001b[36mFile \u001b[39m\u001b[32m~/personal/fxml/.venv/lib/python3.12/site-packages/pandas/core/series.py:1249\u001b[39m, in \u001b[36mSeries._get_value\u001b[39m\u001b[34m(self, label, takeable)\u001b[39m\n\u001b[32m   1246\u001b[39m     \u001b[38;5;28;01mreturn\u001b[39;00m \u001b[38;5;28mself\u001b[39m._values[label]\n\u001b[32m   1248\u001b[39m \u001b[38;5;66;03m# Similar to Index.get_value, but we do not fall back to positional\u001b[39;00m\n\u001b[32m-> \u001b[39m\u001b[32m1249\u001b[39m loc = \u001b[38;5;28;43mself\u001b[39;49m\u001b[43m.\u001b[49m\u001b[43mindex\u001b[49m\u001b[43m.\u001b[49m\u001b[43mget_loc\u001b[49m\u001b[43m(\u001b[49m\u001b[43mlabel\u001b[49m\u001b[43m)\u001b[49m\n\u001b[32m   1251\u001b[39m \u001b[38;5;28;01mif\u001b[39;00m is_integer(loc):\n\u001b[32m   1252\u001b[39m     \u001b[38;5;28;01mreturn\u001b[39;00m \u001b[38;5;28mself\u001b[39m._values[loc]\n",
      "\u001b[36mFile \u001b[39m\u001b[32m~/personal/fxml/.venv/lib/python3.12/site-packages/pandas/core/indexes/datetimes.py:605\u001b[39m, in \u001b[36mDatetimeIndex.get_loc\u001b[39m\u001b[34m(self, key)\u001b[39m\n\u001b[32m    603\u001b[39m     parsed, reso = \u001b[38;5;28mself\u001b[39m._parse_with_reso(key)\n\u001b[32m    604\u001b[39m \u001b[38;5;28;01mexcept\u001b[39;00m (\u001b[38;5;167;01mValueError\u001b[39;00m, pytz.NonExistentTimeError) \u001b[38;5;28;01mas\u001b[39;00m err:\n\u001b[32m--> \u001b[39m\u001b[32m605\u001b[39m     \u001b[38;5;28;01mraise\u001b[39;00m \u001b[38;5;167;01mKeyError\u001b[39;00m(key) \u001b[38;5;28;01mfrom\u001b[39;00m\u001b[38;5;250m \u001b[39m\u001b[34;01merr\u001b[39;00m\n\u001b[32m    606\u001b[39m \u001b[38;5;28mself\u001b[39m._disallow_mismatched_indexing(parsed)\n\u001b[32m    608\u001b[39m \u001b[38;5;28;01mif\u001b[39;00m \u001b[38;5;28mself\u001b[39m._can_partial_date_slice(reso):\n",
      "\u001b[31mKeyError\u001b[39m: 'bin'"
     ]
    }
   ],
   "source": [
    "labels[\"bin_class\"] = labels[\"bin\"] + 1"
   ]
  },
  {
   "cell_type": "code",
   "execution_count": 333,
   "id": "0a0bdb6d-6728-4e5b-81b5-37524fbd69bc",
   "metadata": {},
   "outputs": [],
   "source": [
    "labeled_events = events.join(labels, how='inner')"
   ]
  },
  {
   "cell_type": "code",
   "execution_count": 334,
   "id": "d98e772d-a880-4563-b0ba-669f05206956",
   "metadata": {},
   "outputs": [
    {
     "data": {
      "text/html": [
       "<div>\n",
       "<style scoped>\n",
       "    .dataframe tbody tr th:only-of-type {\n",
       "        vertical-align: middle;\n",
       "    }\n",
       "\n",
       "    .dataframe tbody tr th {\n",
       "        vertical-align: top;\n",
       "    }\n",
       "\n",
       "    .dataframe thead th {\n",
       "        text-align: right;\n",
       "    }\n",
       "</style>\n",
       "<table border=\"1\" class=\"dataframe\">\n",
       "  <thead>\n",
       "    <tr style=\"text-align: right;\">\n",
       "      <th></th>\n",
       "      <th>t1</th>\n",
       "      <th>trgt</th>\n",
       "      <th>ret</th>\n",
       "      <th>bin</th>\n",
       "      <th>bin_class</th>\n",
       "    </tr>\n",
       "    <tr>\n",
       "      <th>timestamp</th>\n",
       "      <th></th>\n",
       "      <th></th>\n",
       "      <th></th>\n",
       "      <th></th>\n",
       "      <th></th>\n",
       "    </tr>\n",
       "  </thead>\n",
       "  <tbody>\n",
       "    <tr>\n",
       "      <th>2021-01-07 09:10:00</th>\n",
       "      <td>2021-01-07 09:45:00</td>\n",
       "      <td>0.000432</td>\n",
       "      <td>0.000435</td>\n",
       "      <td>1.0</td>\n",
       "      <td>2.0</td>\n",
       "    </tr>\n",
       "    <tr>\n",
       "      <th>2021-01-07 09:50:00</th>\n",
       "      <td>2021-01-07 10:30:00</td>\n",
       "      <td>0.000422</td>\n",
       "      <td>0.000531</td>\n",
       "      <td>1.0</td>\n",
       "      <td>2.0</td>\n",
       "    </tr>\n",
       "    <tr>\n",
       "      <th>2021-01-07 10:35:00</th>\n",
       "      <td>2021-01-07 12:00:00</td>\n",
       "      <td>0.000411</td>\n",
       "      <td>0.000690</td>\n",
       "      <td>1.0</td>\n",
       "      <td>2.0</td>\n",
       "    </tr>\n",
       "    <tr>\n",
       "      <th>2021-01-07 12:00:00</th>\n",
       "      <td>2021-01-07 12:20:00</td>\n",
       "      <td>0.000446</td>\n",
       "      <td>-0.000603</td>\n",
       "      <td>-1.0</td>\n",
       "      <td>0.0</td>\n",
       "    </tr>\n",
       "    <tr>\n",
       "      <th>2021-01-07 12:35:00</th>\n",
       "      <td>2021-01-07 13:10:00</td>\n",
       "      <td>0.000422</td>\n",
       "      <td>-0.000540</td>\n",
       "      <td>-1.0</td>\n",
       "      <td>0.0</td>\n",
       "    </tr>\n",
       "  </tbody>\n",
       "</table>\n",
       "</div>"
      ],
      "text/plain": [
       "                                     t1      trgt       ret  bin  bin_class\n",
       "timestamp                                                                  \n",
       "2021-01-07 09:10:00 2021-01-07 09:45:00  0.000432  0.000435  1.0        2.0\n",
       "2021-01-07 09:50:00 2021-01-07 10:30:00  0.000422  0.000531  1.0        2.0\n",
       "2021-01-07 10:35:00 2021-01-07 12:00:00  0.000411  0.000690  1.0        2.0\n",
       "2021-01-07 12:00:00 2021-01-07 12:20:00  0.000446 -0.000603 -1.0        0.0\n",
       "2021-01-07 12:35:00 2021-01-07 13:10:00  0.000422 -0.000540 -1.0        0.0"
      ]
     },
     "execution_count": 334,
     "metadata": {},
     "output_type": "execute_result"
    }
   ],
   "source": [
    "labeled_events.head()"
   ]
  },
  {
   "cell_type": "markdown",
   "id": "04e1d417-f66b-4226-9405-b1a7aa139714",
   "metadata": {},
   "source": [
    "## Save events to disk"
   ]
  },
  {
   "cell_type": "code",
   "execution_count": 335,
   "id": "c0da0c87-e344-4aee-ad9c-f24b36ffaed5",
   "metadata": {},
   "outputs": [],
   "source": [
    "labeled_events.to_pickle(DIRECTION_LABEL_FILE_PATH)"
   ]
  },
  {
   "cell_type": "code",
   "execution_count": 336,
   "id": "7672bf3e-28cf-41fd-ac2c-f6b453930c77",
   "metadata": {},
   "outputs": [
    {
     "data": {
      "text/plain": [
       "PosixPath('../data/labels/direction_labels/USDJPY-5m-20210101-20241231-CUSUM_0.001-TB.pkl')"
      ]
     },
     "execution_count": 336,
     "metadata": {},
     "output_type": "execute_result"
    }
   ],
   "source": [
    "DIRECTION_LABEL_FILE_PATH"
   ]
  }
 ],
 "metadata": {
  "kernelspec": {
   "display_name": "Python 3 (ipykernel)",
   "language": "python",
   "name": "python3"
  },
  "language_info": {
   "codemirror_mode": {
    "name": "ipython",
    "version": 3
   },
   "file_extension": ".py",
   "mimetype": "text/x-python",
   "name": "python",
   "nbconvert_exporter": "python",
   "pygments_lexer": "ipython3",
   "version": "3.12.11"
  },
  "widgets": {
   "application/vnd.jupyter.widget-state+json": {
    "state": {},
    "version_major": 2,
    "version_minor": 0
   }
  }
 },
 "nbformat": 4,
 "nbformat_minor": 5
}
