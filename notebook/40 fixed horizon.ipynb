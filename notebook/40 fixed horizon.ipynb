{
 "cells": [
  {
   "cell_type": "code",
   "execution_count": 107,
   "id": "8c6d6f1f-0017-4810-9328-099f68c7c6e2",
   "metadata": {},
   "outputs": [],
   "source": [
    "import pandas as pd\n",
    "import numpy as np\n",
    "import matplotlib.pyplot as plt\n",
    "from matplotlib.ticker import FormatStrFormatter\n",
    "\n",
    "import os"
   ]
  },
  {
   "cell_type": "code",
   "execution_count": 108,
   "id": "79e659aa-5b8f-43d4-aa7f-3fe6cd7e5bd7",
   "metadata": {
    "scrolled": true
   },
   "outputs": [
    {
     "name": "stdout",
     "output_type": "stream",
     "text": [
      "CPU times: user 1.93 ms, sys: 23 ms, total: 25 ms\n",
      "Wall time: 24 ms\n"
     ]
    }
   ],
   "source": [
    "%%time\n",
    "df = pd.read_pickle('../data/processed/EURUSD-15m-20210101-20241231_FEATURES.pkl')"
   ]
  },
  {
   "cell_type": "code",
   "execution_count": 109,
   "id": "4c5438a1-01d8-4ba5-9500-4bf9b8bc2c0d",
   "metadata": {},
   "outputs": [],
   "source": [
    "df['ret'] = np.log(df['close']).diff().shift(-1)"
   ]
  },
  {
   "cell_type": "code",
   "execution_count": 110,
   "id": "81916af6-db3c-4f7e-a7d8-a9354d39d756",
   "metadata": {},
   "outputs": [],
   "source": [
    "r_threshold = df['ret'].abs().quantile(.3)"
   ]
  },
  {
   "cell_type": "code",
   "execution_count": 111,
   "id": "158c4fa9-12bc-4e14-b8f2-d4ab74c8cd84",
   "metadata": {},
   "outputs": [
    {
     "data": {
      "text/plain": [
       "np.float64(0.00010253511648177712)"
      ]
     },
     "execution_count": 111,
     "metadata": {},
     "output_type": "execute_result"
    }
   ],
   "source": [
    "r_threshold"
   ]
  },
  {
   "cell_type": "code",
   "execution_count": 112,
   "id": "4a7c0396-91b1-453b-b2a7-78faa4e9aac2",
   "metadata": {},
   "outputs": [],
   "source": [
    "df['bin'] = np.zeros_like(df['close'])\n",
    "df.loc[df['ret'] > r_threshold, 'bin'] = 1\n",
    "df.loc[df['ret'] < -r_threshold, 'bin'] = -1"
   ]
  },
  {
   "cell_type": "code",
   "execution_count": 113,
   "id": "53923e23-8350-44e0-8a17-814398a31cde",
   "metadata": {},
   "outputs": [
    {
     "data": {
      "text/plain": [
       "bin\n",
       " 1.0    34739\n",
       "-1.0    34417\n",
       " 0.0    29640\n",
       "Name: count, dtype: int64"
      ]
     },
     "execution_count": 113,
     "metadata": {},
     "output_type": "execute_result"
    }
   ],
   "source": [
    "df['bin'].value_counts()"
   ]
  },
  {
   "cell_type": "markdown",
   "id": "04e1d417-f66b-4226-9405-b1a7aa139714",
   "metadata": {},
   "source": [
    "## Save events to disk"
   ]
  },
  {
   "cell_type": "code",
   "execution_count": 335,
   "id": "c0da0c87-e344-4aee-ad9c-f24b36ffaed5",
   "metadata": {},
   "outputs": [],
   "source": [
    "labeled_events.to_pickle(DIRECTION_LABEL_FILE_PATH)"
   ]
  },
  {
   "cell_type": "code",
   "execution_count": 336,
   "id": "7672bf3e-28cf-41fd-ac2c-f6b453930c77",
   "metadata": {},
   "outputs": [
    {
     "data": {
      "text/plain": [
       "PosixPath('../data/labels/direction_labels/USDJPY-5m-20210101-20241231-CUSUM_0.001-TB.pkl')"
      ]
     },
     "execution_count": 336,
     "metadata": {},
     "output_type": "execute_result"
    }
   ],
   "source": [
    "DIRECTION_LABEL_FILE_PATH"
   ]
  }
 ],
 "metadata": {
  "kernelspec": {
   "display_name": "Python 3 (ipykernel)",
   "language": "python",
   "name": "python3"
  },
  "language_info": {
   "codemirror_mode": {
    "name": "ipython",
    "version": 3
   },
   "file_extension": ".py",
   "mimetype": "text/x-python",
   "name": "python",
   "nbconvert_exporter": "python",
   "pygments_lexer": "ipython3",
   "version": "3.12.11"
  },
  "widgets": {
   "application/vnd.jupyter.widget-state+json": {
    "state": {},
    "version_major": 2,
    "version_minor": 0
   }
  }
 },
 "nbformat": 4,
 "nbformat_minor": 5
}
