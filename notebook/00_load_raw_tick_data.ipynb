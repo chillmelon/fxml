{
 "cells": [
  {
   "cell_type": "code",
   "execution_count": 1,
   "id": "de795e4e-265b-4a50-b0c5-ffbb8b3fdb15",
   "metadata": {},
   "outputs": [],
   "source": [
    "import pandas as pd\n",
    "import matplotlib.pyplot as plt\n",
    "import os\n",
    "import tqdm"
   ]
  },
  {
   "cell_type": "code",
   "execution_count": 4,
   "id": "c55bc3a1-1bcd-48aa-a043-5a1e87d7d384",
   "metadata": {},
   "outputs": [],
   "source": [
    "# Load Forex tick data\n",
    "data_dir = r\"..\\data\\raw\"\n",
    "\n",
    "pkl_dir = r\"..\\data\\pkl\"\n",
    "os.makedirs(pkl_dir, exist_ok=True)\n",
    "file_name = \"usdjpy-tick-2020-01-01-2024-12-31.csv\"\n",
    "file_path = os.path.join(data_dir, file_name)\n",
    "\n",
    "df = pd.read_csv(file_path)\n",
    "\n",
    "pkl_file_path = os.path.join(pkl_dir, \"usdjpy-tick-2020-01-01-2024-12-31.pkl\")\n",
    "df.to_pickle(pkl_file_path)\n",
    "\n",
    "\n",
    "# name = os.path.splitext(os.path.basename(file_name))[0]\n",
    "# pkl_file_path = os.path.join(pkl_dir, f\"{name}.pkl\")"
   ]
  },
  {
   "cell_type": "code",
   "execution_count": 3,
   "id": "bc3ecde1-6490-4220-ad81-d2507ae5bfb5",
   "metadata": {},
   "outputs": [
    {
     "data": {
      "text/plain": [
       "<bound method NDFrame.head of                timestamp  askPrice  bidPrice    askVolume    bidVolume\n",
       "0          1577916000219   108.786   108.730   750.000000   750.000000\n",
       "1          1577916000433   108.790   108.730   750.000000   750.000000\n",
       "2          1577916023533   108.790   108.729   750.000000   750.000000\n",
       "3          1577916028663   108.790   108.728   750.000000  1309.999943\n",
       "4          1577916041516   108.791   108.728   750.000000   560.000002\n",
       "...                  ...       ...       ...          ...          ...\n",
       "171752280  1741737599360   148.050   148.042  1919.999957  1200.000048\n",
       "171752281  1741737599513   148.053   148.050  1200.000048  1799.999952\n",
       "171752282  1741737599565   148.059   148.054  1200.000048  1200.000048\n",
       "171752283  1741737599616   148.056   148.051  1320.000052  1200.000048\n",
       "171752284  1741737599718   148.056   148.049  1320.000052  1200.000048\n",
       "\n",
       "[171752285 rows x 5 columns]>"
      ]
     },
     "execution_count": 3,
     "metadata": {},
     "output_type": "execute_result"
    }
   ],
   "source": [
    "df = pd.read_csv(file_path)\n",
    "df.head"
   ]
  },
  {
   "cell_type": "code",
   "execution_count": 4,
   "id": "6f3472dd-2d30-4129-9f0b-03637a452562",
   "metadata": {},
   "outputs": [],
   "source": [
    "df.to_pickle(pkl_file_path)"
   ]
  }
 ],
 "metadata": {
  "kernelspec": {
   "display_name": "Python 3 (ipykernel)",
   "language": "python",
   "name": "python3"
  },
  "language_info": {
   "codemirror_mode": {
    "name": "ipython",
    "version": 3
   },
   "file_extension": ".py",
   "mimetype": "text/x-python",
   "name": "python",
   "nbconvert_exporter": "python",
   "pygments_lexer": "ipython3",
   "version": "3.11.12"
  }
 },
 "nbformat": 4,
 "nbformat_minor": 5
}
