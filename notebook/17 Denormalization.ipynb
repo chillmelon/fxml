{
 "cells": [
  {
   "cell_type": "code",
   "execution_count": 4,
   "id": "a90529ec-fce0-4006-bbb0-ce57849f79e7",
   "metadata": {},
   "outputs": [
    {
     "name": "stdout",
     "output_type": "stream",
     "text": [
      "The autoreload extension is already loaded. To reload it, use:\n",
      "  %reload_ext autoreload\n"
     ]
    }
   ],
   "source": [
    "import sys\n",
    "sys.path.append(\"..\")\n",
    "from pathlib import Path\n",
    "# Reload modules in /src/ when changed\n",
    "%load_ext autoreload\n",
    "%autoreload 2\n",
    "\n",
    "from fxml.data.normalize_data import denorm\n",
    "\n",
    "import pandas as pd\n",
    "import numpy as np\n",
    "import matplotlib.pyplot as plt\n",
    "# plt.rcParams[\"figure.figsize\"] = (12, 2)\n",
    "import seaborn as sns\n",
    "sns.set(style=\"ticks\", palette=\"tab10\")"
   ]
  },
  {
   "cell_type": "code",
   "execution_count": 3,
   "id": "31f07f1f-4c46-47cd-904f-2be4e974afb1",
   "metadata": {
    "scrolled": true
   },
   "outputs": [
    {
     "name": "stdout",
     "output_type": "stream",
     "text": [
      "data:\n",
      "  train_data_path: data/processed/USDJPY-15m-20210101-20231231_FEATURES.pkl\n",
      "  test_data_path: data/processed/USDJPY-15m-20240101-20241231_FEATURES.pkl\n",
      "minutes:\n",
      "- 15\n",
      "date:\n",
      "- from: 20210101\n",
      "  to: 20231231\n",
      "- from: 20240101\n",
      "  to: 20241231\n",
      "symbol:\n",
      "  raw_path: data/raw/usdjpy-tick-2021-01-01-2024-12-31.csv\n",
      "  symbol: USDJPY\n",
      "features:\n",
      "  returns:\n",
      "    price_cols:\n",
      "    - close\n",
      "    d_value: 0.5\n",
      "  technical_indicators:\n",
      "    rv_windows:\n",
      "    - 5\n",
      "    - 15\n",
      "    - 50\n",
      "    ema_windows:\n",
      "    - 5\n",
      "    - 9\n",
      "    - 20\n",
      "    - 24\n",
      "    - 36\n",
      "    - 50\n",
      "    - 100\n",
      "    atr_windows:\n",
      "    - 14\n",
      "    - 60\n",
      "    - 120\n",
      "    adx_windows:\n",
      "    - 14\n",
      "    rsi_windows:\n",
      "    - 14\n",
      "    - 25\n",
      "    - 50\n",
      "    bb_windows:\n",
      "    - 5\n",
      "    - 10\n",
      "    - 15\n",
      "    - 20\n",
      "    macd:\n",
      "    - fast: 8\n",
      "      slow: 17\n",
      "      signal: 9\n",
      "    - fast: 12\n",
      "      slow: 26\n",
      "      signal: 9\n",
      "scaler:\n",
      "  open:\n",
      "    type: std\n",
      "  high:\n",
      "    type: std\n",
      "  low:\n",
      "    type: std\n",
      "  close:\n",
      "    type: std\n",
      "  volume:\n",
      "    type: log\n",
      "  spread:\n",
      "    type: robust\n",
      "  tick:\n",
      "    type: none\n",
      "  close_pct_return:\n",
      "    type: std\n",
      "  close_return:\n",
      "    type: std\n",
      "  close_log_return:\n",
      "    type: std\n",
      "  close_fd_return:\n",
      "    type: std\n",
      "  close_log_fd_return:\n",
      "    type: std\n",
      "  EMA_5:\n",
      "    type: std\n",
      "  EMA_5_slope:\n",
      "    type: std\n",
      "  EMA_9:\n",
      "    type: std\n",
      "  EMA_9_slope:\n",
      "    type: std\n",
      "  EMA_20:\n",
      "    type: std\n",
      "  EMA_20_slope:\n",
      "    type: std\n",
      "  EMA_24:\n",
      "    type: std\n",
      "  EMA_24_slope:\n",
      "    type: std\n",
      "  EMA_36:\n",
      "    type: std\n",
      "  EMA_36_slope:\n",
      "    type: std\n",
      "  EMA_50:\n",
      "    type: std\n",
      "  EMA_50_slope:\n",
      "    type: std\n",
      "  EMA_100:\n",
      "    type: std\n",
      "  EMA_100_slope:\n",
      "    type: std\n",
      "  ATRr_14:\n",
      "    type: robust\n",
      "  ATRr_60:\n",
      "    type: robust\n",
      "  ATRr_120:\n",
      "    type: robust\n",
      "  ADX_14:\n",
      "    type: std\n",
      "  ADXR_14_2:\n",
      "    type: std\n",
      "  DMP_14:\n",
      "    type: std\n",
      "  DMN_14:\n",
      "    type: std\n",
      "  RSI_14:\n",
      "    type: minmax\n",
      "  RSI_25:\n",
      "    type: minmax\n",
      "  RSI_50:\n",
      "    type: minmax\n",
      "  BBL_5_2.0_2.0:\n",
      "    type: std\n",
      "  BBM_5_2.0_2.0:\n",
      "    type: std\n",
      "  BBU_5_2.0_2.0:\n",
      "    type: std\n",
      "  BBB_5_2.0_2.0:\n",
      "    type: std\n",
      "  BBP_5_2.0_2.0:\n",
      "    type: std\n",
      "  BBL_10_2.0_2.0:\n",
      "    type: std\n",
      "  BBM_10_2.0_2.0:\n",
      "    type: std\n",
      "  BBU_10_2.0_2.0:\n",
      "    type: std\n",
      "  BBB_10_2.0_2.0:\n",
      "    type: std\n",
      "  BBP_10_2.0_2.0:\n",
      "    type: std\n",
      "  BBL_15_2.0_2.0:\n",
      "    type: std\n",
      "  BBM_15_2.0_2.0:\n",
      "    type: std\n",
      "  BBU_15_2.0_2.0:\n",
      "    type: std\n",
      "  BBB_15_2.0_2.0:\n",
      "    type: std\n",
      "  BBP_15_2.0_2.0:\n",
      "    type: std\n",
      "  BBL_20_2.0_2.0:\n",
      "    type: std\n",
      "  BBM_20_2.0_2.0:\n",
      "    type: std\n",
      "  BBU_20_2.0_2.0:\n",
      "    type: std\n",
      "  BBB_20_2.0_2.0:\n",
      "    type: std\n",
      "  BBP_20_2.0_2.0:\n",
      "    type: std\n",
      "  MACD_8_17_9:\n",
      "    type: std\n",
      "  MACDh_8_17_9:\n",
      "    type: std\n",
      "  MACDs_8_17_9:\n",
      "    type: std\n",
      "  MACD_12_26_9:\n",
      "    type: std\n",
      "  MACDh_12_26_9:\n",
      "    type: std\n",
      "  MACDs_12_26_9:\n",
      "    type: std\n",
      "  unix_time:\n",
      "    type: none\n",
      "  minute:\n",
      "    type: none\n",
      "  hour:\n",
      "    type: none\n",
      "  dow:\n",
      "    type: none\n",
      "  dom:\n",
      "    type: none\n",
      "  month:\n",
      "    type: none\n",
      "  minute_sin:\n",
      "    type: none\n",
      "  minute_cos:\n",
      "    type: none\n",
      "  hour_sin:\n",
      "    type: none\n",
      "  hour_cos:\n",
      "    type: none\n",
      "  dow_sin:\n",
      "    type: none\n",
      "  dow_cos:\n",
      "    type: none\n",
      "  dom_sin:\n",
      "    type: none\n",
      "  dom_cos:\n",
      "    type: none\n",
      "  month_sin:\n",
      "    type: none\n",
      "  month_cos:\n",
      "    type: none\n",
      "\n"
     ]
    }
   ],
   "source": [
    "from hydra import compose, initialize\n",
    "from omegaconf import OmegaConf\n",
    "\n",
    "# global initialization\n",
    "initialize(version_base=None, config_path=\"../configs\", job_name=\"test_app\")\n",
    "cfg = compose(config_name=\"preprocessing\")\n",
    "print(OmegaConf.to_yaml(cfg))"
   ]
  },
  {
   "cell_type": "code",
   "execution_count": 8,
   "id": "712ee56c-a501-49e5-b3a4-9caa7a25febd",
   "metadata": {},
   "outputs": [],
   "source": [
    "root_dir = Path('..')\n",
    "train_df = pd.read_pickle(root_dir / Path(cfg.data.train_data_path))\n",
    "test_df = pd.read_pickle(root_dir / Path(cfg.data.test_data_path))"
   ]
  },
  {
   "cell_type": "code",
   "execution_count": 13,
   "id": "85358703-e021-494f-a1a1-f991d403420a",
   "metadata": {},
   "outputs": [],
   "source": [
    "close = test_df[['close']]"
   ]
  },
  {
   "cell_type": "code",
   "execution_count": 14,
   "id": "52aa2390-c9c5-47fd-91dd-a4bfc4322a51",
   "metadata": {},
   "outputs": [],
   "source": [
    "import joblib"
   ]
  },
  {
   "cell_type": "code",
   "execution_count": 15,
   "id": "207eb61d-21d8-458e-83ff-03e4af2ab0ce",
   "metadata": {},
   "outputs": [],
   "source": [
    "scaler = joblib.load('../data/processed/scalers/USDJPY-15m-20210101-20231231_FEATURES/close_std.pkl')"
   ]
  },
  {
   "cell_type": "code",
   "execution_count": 16,
   "id": "7bb5183b-1cad-4491-b2c1-155118745b0f",
   "metadata": {},
   "outputs": [],
   "source": [
    "close_norm = scaler.transform(close)"
   ]
  },
  {
   "cell_type": "code",
   "execution_count": 17,
   "id": "b1f7fea2-f95f-4ba1-9ab6-ff3f12692054",
   "metadata": {},
   "outputs": [
    {
     "data": {
      "text/plain": [
       "array([[1.24612671],\n",
       "       [1.24585468],\n",
       "       [1.24401843],\n",
       "       ...,\n",
       "       [2.00235351],\n",
       "       [2.00279557],\n",
       "       [2.00109534]], shape=(23982, 1))"
      ]
     },
     "execution_count": 17,
     "metadata": {},
     "output_type": "execute_result"
    }
   ],
   "source": [
    "close_norm"
   ]
  },
  {
   "cell_type": "code",
   "execution_count": 19,
   "id": "a7eb50b1-50b3-4702-8830-3d36ddb1fd3c",
   "metadata": {},
   "outputs": [
    {
     "data": {
      "text/plain": [
       "array([[145.9075],\n",
       "       [145.9035],\n",
       "       [145.8765],\n",
       "       ...,\n",
       "       [157.027 ],\n",
       "       [157.0335],\n",
       "       [157.0085]], shape=(23982, 1))"
      ]
     },
     "execution_count": 19,
     "metadata": {},
     "output_type": "execute_result"
    }
   ],
   "source": [
    "close.values"
   ]
  },
  {
   "cell_type": "code",
   "execution_count": 18,
   "id": "51c1b899-2dd6-4f0d-8235-f4bda7ddd860",
   "metadata": {},
   "outputs": [
    {
     "data": {
      "text/plain": [
       "array([[145.9075],\n",
       "       [145.9035],\n",
       "       [145.8765],\n",
       "       ...,\n",
       "       [157.027 ],\n",
       "       [157.0335],\n",
       "       [157.0085]], shape=(23982, 1))"
      ]
     },
     "execution_count": 18,
     "metadata": {},
     "output_type": "execute_result"
    }
   ],
   "source": [
    "scaler.inverse_transform(close_norm)"
   ]
  },
  {
   "cell_type": "code",
   "execution_count": 20,
   "id": "5bf2a87e-425b-4276-9c97-051f25ed1511",
   "metadata": {},
   "outputs": [],
   "source": [
    "import torch"
   ]
  },
  {
   "cell_type": "code",
   "execution_count": 25,
   "id": "9527d4f1-3488-4211-b900-9f69582ab8f4",
   "metadata": {
    "scrolled": true
   },
   "outputs": [
    {
     "data": {
      "text/plain": [
       "array([[-1.298052  ],\n",
       "       [ 0.7539047 ],\n",
       "       [-1.6264145 ],\n",
       "       [ 0.69699067],\n",
       "       [-0.18015198],\n",
       "       [-0.6553043 ],\n",
       "       [-0.6728345 ],\n",
       "       [ 0.29858482],\n",
       "       [-0.9717607 ],\n",
       "       [-0.8265001 ],\n",
       "       [ 0.1803432 ],\n",
       "       [-0.5750843 ],\n",
       "       [ 2.3820727 ],\n",
       "       [ 0.6361271 ],\n",
       "       [ 0.04915798],\n",
       "       [-0.95311725],\n",
       "       [ 0.8900457 ],\n",
       "       [ 1.2229624 ],\n",
       "       [ 1.4366989 ],\n",
       "       [-0.74636394],\n",
       "       [-0.76319706],\n",
       "       [-0.14173716],\n",
       "       [ 1.6074793 ],\n",
       "       [ 0.8408816 ],\n",
       "       [-1.3564382 ],\n",
       "       [-0.16682486],\n",
       "       [ 0.26866776],\n",
       "       [ 1.0550576 ],\n",
       "       [ 0.89408094],\n",
       "       [-0.03116335],\n",
       "       [ 0.8002359 ],\n",
       "       [ 0.62847686],\n",
       "       [-0.05029252],\n",
       "       [-1.2354543 ],\n",
       "       [-0.50512   ],\n",
       "       [ 0.3899003 ],\n",
       "       [ 1.2130878 ],\n",
       "       [ 1.0565518 ],\n",
       "       [ 0.57114226],\n",
       "       [ 0.17081788],\n",
       "       [ 0.23477246],\n",
       "       [-1.003273  ],\n",
       "       [ 1.8347659 ],\n",
       "       [-0.67718136],\n",
       "       [ 0.4803116 ],\n",
       "       [ 0.58867294],\n",
       "       [ 0.77158636],\n",
       "       [-1.1967005 ],\n",
       "       [ 1.1318829 ],\n",
       "       [-1.0178756 ],\n",
       "       [ 1.4165422 ],\n",
       "       [-0.7095309 ],\n",
       "       [-0.14704564],\n",
       "       [ 1.445139  ],\n",
       "       [ 0.651847  ],\n",
       "       [ 0.8839605 ],\n",
       "       [-1.3476268 ],\n",
       "       [-0.40187487],\n",
       "       [-0.5382444 ],\n",
       "       [ 0.63938576]], dtype=float32)"
      ]
     },
     "execution_count": 25,
     "metadata": {},
     "output_type": "execute_result"
    }
   ],
   "source": [
    "prediction = torch.randn(60,1).numpy()\n",
    "prediction"
   ]
  },
  {
   "cell_type": "code",
   "execution_count": 26,
   "id": "9c1a5c97-1b0f-4053-9972-fc422bf24536",
   "metadata": {},
   "outputs": [
    {
     "data": {
      "text/plain": [
       "array([[108.49809 ],\n",
       "       [138.6699  ],\n",
       "       [103.669876],\n",
       "       [137.83305 ],\n",
       "       [124.93561 ],\n",
       "       [117.949005],\n",
       "       [117.691246],\n",
       "       [131.97491 ],\n",
       "       [113.29585 ],\n",
       "       [115.431755],\n",
       "       [130.2363  ],\n",
       "       [119.128555],\n",
       "       [162.61037 ],\n",
       "       [136.93811 ],\n",
       "       [128.30736 ],\n",
       "       [113.569984],\n",
       "       [140.6717  ],\n",
       "       [145.5669  ],\n",
       "       [148.70966 ],\n",
       "       [116.61007 ],\n",
       "       [116.36256 ],\n",
       "       [125.50046 ],\n",
       "       [151.2208  ],\n",
       "       [139.9488  ],\n",
       "       [107.63959 ],\n",
       "       [125.13157 ],\n",
       "       [131.53502 ],\n",
       "       [143.09804 ],\n",
       "       [140.73105 ],\n",
       "       [127.12633 ],\n",
       "       [139.35115 ],\n",
       "       [136.82562 ],\n",
       "       [126.845055],\n",
       "       [109.418526],\n",
       "       [120.1573  ],\n",
       "       [133.31761 ],\n",
       "       [145.42169 ],\n",
       "       [143.12001 ],\n",
       "       [135.98257 ],\n",
       "       [130.09624 ],\n",
       "       [131.03662 ],\n",
       "       [112.832504],\n",
       "       [154.5628  ],\n",
       "       [117.62733 ],\n",
       "       [134.64702 ],\n",
       "       [136.24036 ],\n",
       "       [138.9299  ],\n",
       "       [109.98836 ],\n",
       "       [144.22766 ],\n",
       "       [112.61779 ],\n",
       "       [148.41327 ],\n",
       "       [117.151665],\n",
       "       [125.4224  ],\n",
       "       [148.83376 ],\n",
       "       [137.16925 ],\n",
       "       [140.58223 ],\n",
       "       [107.76915 ],\n",
       "       [121.675415],\n",
       "       [119.67024 ],\n",
       "       [136.98602 ]], dtype=float32)"
      ]
     },
     "execution_count": 26,
     "metadata": {},
     "output_type": "execute_result"
    }
   ],
   "source": [
    "scaler.inverse_transform(prediction)"
   ]
  }
 ],
 "metadata": {
  "kernelspec": {
   "display_name": "Python 3 (ipykernel)",
   "language": "python",
   "name": "python3"
  },
  "language_info": {
   "codemirror_mode": {
    "name": "ipython",
    "version": 3
   },
   "file_extension": ".py",
   "mimetype": "text/x-python",
   "name": "python",
   "nbconvert_exporter": "python",
   "pygments_lexer": "ipython3",
   "version": "3.12.11"
  }
 },
 "nbformat": 4,
 "nbformat_minor": 5
}
