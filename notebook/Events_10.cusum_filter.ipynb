{
 "cells": [
  {
   "cell_type": "code",
   "execution_count": 94,
   "id": "8c6d6f1f-0017-4810-9328-099f68c7c6e2",
   "metadata": {},
   "outputs": [],
   "source": [
    "import pandas as pd\n",
    "import matplotlib.pyplot as plt\n",
    "from matplotlib.ticker import FormatStrFormatter\n",
    "\n",
    "import os"
   ]
  },
  {
   "cell_type": "code",
   "execution_count": 95,
   "id": "bf14af0e-a692-419c-a591-5feaf1601bf9",
   "metadata": {},
   "outputs": [],
   "source": [
    "from pathlib import Path\n",
    "\n",
    "# Configurable parts\n",
    "SYMBOL = \"USDJPY\"\n",
    "SAMPLE_TYPE = \"time\"\n",
    "MINUTES = 1\n",
    "\n",
    "START_DATE = \"20210101\"\n",
    "END_DATE = \"20241231\"\n",
    "\n",
    "# Build base name\n",
    "RESAMPLED_NAME = f\"{SYMBOL}-{MINUTES}m-{START_DATE}-{END_DATE}\"\n",
    "\n",
    "# Base directories\n",
    "BASE_DIR = Path(\"../data\")\n",
    "RESAMPLED_DIR = BASE_DIR / \"resampled\"\n",
    "PROCESSED_DIR = BASE_DIR / \"processed\"\n",
    "EVENTS_DIR = BASE_DIR / \"interm/events\"\n",
    "\n",
    "# Final paths\n",
    "RESAMPLED_FILE_PATH = RESAMPLED_DIR / f\"{RESAMPLED_NAME}.pkl\"\n",
    "PROCESSED_FILE_PATH = PROCESSED_DIR / f\"{RESAMPLED_NAME}_FEATURES.pkl\""
   ]
  },
  {
   "cell_type": "code",
   "execution_count": 96,
   "id": "79e659aa-5b8f-43d4-aa7f-3fe6cd7e5bd7",
   "metadata": {
    "scrolled": true
   },
   "outputs": [
    {
     "name": "stdout",
     "output_type": "stream",
     "text": [
      "CPU times: user 1.65 ms, sys: 152 ms, total: 153 ms\n",
      "Wall time: 282 ms\n"
     ]
    }
   ],
   "source": [
    "%%time\n",
    "df = pd.read_pickle(PROCESSED_FILE_PATH)"
   ]
  },
  {
   "cell_type": "code",
   "execution_count": 97,
   "id": "29b2da6f-1a60-4d08-9aee-a4c43083818c",
   "metadata": {},
   "outputs": [
    {
     "data": {
      "text/plain": [
       "(1486378, 67)"
      ]
     },
     "execution_count": 97,
     "metadata": {},
     "output_type": "execute_result"
    }
   ],
   "source": [
    "df.shape"
   ]
  },
  {
   "cell_type": "code",
   "execution_count": 98,
   "id": "68bbc439-d03b-4275-af93-8b978a790a4b",
   "metadata": {
    "scrolled": true
   },
   "outputs": [
    {
     "data": {
      "text/html": [
       "<div>\n",
       "<style scoped>\n",
       "    .dataframe tbody tr th:only-of-type {\n",
       "        vertical-align: middle;\n",
       "    }\n",
       "\n",
       "    .dataframe tbody tr th {\n",
       "        vertical-align: top;\n",
       "    }\n",
       "\n",
       "    .dataframe thead th {\n",
       "        text-align: right;\n",
       "    }\n",
       "</style>\n",
       "<table border=\"1\" class=\"dataframe\">\n",
       "  <thead>\n",
       "    <tr style=\"text-align: right;\">\n",
       "      <th></th>\n",
       "      <th>open</th>\n",
       "      <th>high</th>\n",
       "      <th>low</th>\n",
       "      <th>close</th>\n",
       "      <th>volume</th>\n",
       "      <th>spread</th>\n",
       "      <th>close_pct_return</th>\n",
       "      <th>close_return</th>\n",
       "      <th>close_log_return</th>\n",
       "      <th>close_fd_return</th>\n",
       "      <th>...</th>\n",
       "      <th>dom</th>\n",
       "      <th>month</th>\n",
       "      <th>hour_sin</th>\n",
       "      <th>hour_cos</th>\n",
       "      <th>dow_sin</th>\n",
       "      <th>dow_cos</th>\n",
       "      <th>dom_sin</th>\n",
       "      <th>dom_cos</th>\n",
       "      <th>month_sin</th>\n",
       "      <th>month_cos</th>\n",
       "    </tr>\n",
       "    <tr>\n",
       "      <th>timestamp</th>\n",
       "      <th></th>\n",
       "      <th></th>\n",
       "      <th></th>\n",
       "      <th></th>\n",
       "      <th></th>\n",
       "      <th></th>\n",
       "      <th></th>\n",
       "      <th></th>\n",
       "      <th></th>\n",
       "      <th></th>\n",
       "      <th></th>\n",
       "      <th></th>\n",
       "      <th></th>\n",
       "      <th></th>\n",
       "      <th></th>\n",
       "      <th></th>\n",
       "      <th></th>\n",
       "      <th></th>\n",
       "      <th></th>\n",
       "      <th></th>\n",
       "      <th></th>\n",
       "    </tr>\n",
       "  </thead>\n",
       "  <tbody>\n",
       "    <tr>\n",
       "      <th>2021-01-04 13:33:00</th>\n",
       "      <td>102.9910</td>\n",
       "      <td>102.9960</td>\n",
       "      <td>102.9875</td>\n",
       "      <td>102.9930</td>\n",
       "      <td>2.465100e+11</td>\n",
       "      <td>0.002329</td>\n",
       "      <td>0.000015</td>\n",
       "      <td>0.0015</td>\n",
       "      <td>0.000015</td>\n",
       "      <td>1.920436</td>\n",
       "      <td>...</td>\n",
       "      <td>4</td>\n",
       "      <td>1</td>\n",
       "      <td>-0.258819</td>\n",
       "      <td>-0.965926</td>\n",
       "      <td>0.0</td>\n",
       "      <td>1.0</td>\n",
       "      <td>0.724793</td>\n",
       "      <td>0.688967</td>\n",
       "      <td>0.5</td>\n",
       "      <td>0.866025</td>\n",
       "    </tr>\n",
       "    <tr>\n",
       "      <th>2021-01-04 13:34:00</th>\n",
       "      <td>102.9940</td>\n",
       "      <td>102.9960</td>\n",
       "      <td>102.9745</td>\n",
       "      <td>102.9840</td>\n",
       "      <td>1.893000e+11</td>\n",
       "      <td>0.002426</td>\n",
       "      <td>-0.000087</td>\n",
       "      <td>-0.0090</td>\n",
       "      <td>-0.000087</td>\n",
       "      <td>1.909965</td>\n",
       "      <td>...</td>\n",
       "      <td>4</td>\n",
       "      <td>1</td>\n",
       "      <td>-0.258819</td>\n",
       "      <td>-0.965926</td>\n",
       "      <td>0.0</td>\n",
       "      <td>1.0</td>\n",
       "      <td>0.724793</td>\n",
       "      <td>0.688967</td>\n",
       "      <td>0.5</td>\n",
       "      <td>0.866025</td>\n",
       "    </tr>\n",
       "    <tr>\n",
       "      <th>2021-01-04 13:35:00</th>\n",
       "      <td>102.9850</td>\n",
       "      <td>102.9850</td>\n",
       "      <td>102.9670</td>\n",
       "      <td>102.9720</td>\n",
       "      <td>4.723400e+11</td>\n",
       "      <td>0.002645</td>\n",
       "      <td>-0.000117</td>\n",
       "      <td>-0.0120</td>\n",
       "      <td>-0.000117</td>\n",
       "      <td>1.901790</td>\n",
       "      <td>...</td>\n",
       "      <td>4</td>\n",
       "      <td>1</td>\n",
       "      <td>-0.258819</td>\n",
       "      <td>-0.965926</td>\n",
       "      <td>0.0</td>\n",
       "      <td>1.0</td>\n",
       "      <td>0.724793</td>\n",
       "      <td>0.688967</td>\n",
       "      <td>0.5</td>\n",
       "      <td>0.866025</td>\n",
       "    </tr>\n",
       "    <tr>\n",
       "      <th>2021-01-04 13:36:00</th>\n",
       "      <td>102.9710</td>\n",
       "      <td>102.9735</td>\n",
       "      <td>102.9495</td>\n",
       "      <td>102.9525</td>\n",
       "      <td>4.980100e+11</td>\n",
       "      <td>0.002354</td>\n",
       "      <td>-0.000189</td>\n",
       "      <td>-0.0195</td>\n",
       "      <td>-0.000189</td>\n",
       "      <td>1.888939</td>\n",
       "      <td>...</td>\n",
       "      <td>4</td>\n",
       "      <td>1</td>\n",
       "      <td>-0.258819</td>\n",
       "      <td>-0.965926</td>\n",
       "      <td>0.0</td>\n",
       "      <td>1.0</td>\n",
       "      <td>0.724793</td>\n",
       "      <td>0.688967</td>\n",
       "      <td>0.5</td>\n",
       "      <td>0.866025</td>\n",
       "    </tr>\n",
       "    <tr>\n",
       "      <th>2021-01-04 13:37:00</th>\n",
       "      <td>102.9535</td>\n",
       "      <td>102.9570</td>\n",
       "      <td>102.9480</td>\n",
       "      <td>102.9530</td>\n",
       "      <td>2.309000e+11</td>\n",
       "      <td>0.002556</td>\n",
       "      <td>0.000005</td>\n",
       "      <td>0.0005</td>\n",
       "      <td>0.000005</td>\n",
       "      <td>1.900871</td>\n",
       "      <td>...</td>\n",
       "      <td>4</td>\n",
       "      <td>1</td>\n",
       "      <td>-0.258819</td>\n",
       "      <td>-0.965926</td>\n",
       "      <td>0.0</td>\n",
       "      <td>1.0</td>\n",
       "      <td>0.724793</td>\n",
       "      <td>0.688967</td>\n",
       "      <td>0.5</td>\n",
       "      <td>0.866025</td>\n",
       "    </tr>\n",
       "  </tbody>\n",
       "</table>\n",
       "<p>5 rows × 67 columns</p>\n",
       "</div>"
      ],
      "text/plain": [
       "                         open      high       low     close        volume  \\\n",
       "timestamp                                                                   \n",
       "2021-01-04 13:33:00  102.9910  102.9960  102.9875  102.9930  2.465100e+11   \n",
       "2021-01-04 13:34:00  102.9940  102.9960  102.9745  102.9840  1.893000e+11   \n",
       "2021-01-04 13:35:00  102.9850  102.9850  102.9670  102.9720  4.723400e+11   \n",
       "2021-01-04 13:36:00  102.9710  102.9735  102.9495  102.9525  4.980100e+11   \n",
       "2021-01-04 13:37:00  102.9535  102.9570  102.9480  102.9530  2.309000e+11   \n",
       "\n",
       "                       spread  close_pct_return  close_return  \\\n",
       "timestamp                                                       \n",
       "2021-01-04 13:33:00  0.002329          0.000015        0.0015   \n",
       "2021-01-04 13:34:00  0.002426         -0.000087       -0.0090   \n",
       "2021-01-04 13:35:00  0.002645         -0.000117       -0.0120   \n",
       "2021-01-04 13:36:00  0.002354         -0.000189       -0.0195   \n",
       "2021-01-04 13:37:00  0.002556          0.000005        0.0005   \n",
       "\n",
       "                     close_log_return  close_fd_return  ...  dom  month  \\\n",
       "timestamp                                               ...               \n",
       "2021-01-04 13:33:00          0.000015         1.920436  ...    4      1   \n",
       "2021-01-04 13:34:00         -0.000087         1.909965  ...    4      1   \n",
       "2021-01-04 13:35:00         -0.000117         1.901790  ...    4      1   \n",
       "2021-01-04 13:36:00         -0.000189         1.888939  ...    4      1   \n",
       "2021-01-04 13:37:00          0.000005         1.900871  ...    4      1   \n",
       "\n",
       "                     hour_sin  hour_cos  dow_sin  dow_cos   dom_sin   dom_cos  \\\n",
       "timestamp                                                                       \n",
       "2021-01-04 13:33:00 -0.258819 -0.965926      0.0      1.0  0.724793  0.688967   \n",
       "2021-01-04 13:34:00 -0.258819 -0.965926      0.0      1.0  0.724793  0.688967   \n",
       "2021-01-04 13:35:00 -0.258819 -0.965926      0.0      1.0  0.724793  0.688967   \n",
       "2021-01-04 13:36:00 -0.258819 -0.965926      0.0      1.0  0.724793  0.688967   \n",
       "2021-01-04 13:37:00 -0.258819 -0.965926      0.0      1.0  0.724793  0.688967   \n",
       "\n",
       "                     month_sin  month_cos  \n",
       "timestamp                                  \n",
       "2021-01-04 13:33:00        0.5   0.866025  \n",
       "2021-01-04 13:34:00        0.5   0.866025  \n",
       "2021-01-04 13:35:00        0.5   0.866025  \n",
       "2021-01-04 13:36:00        0.5   0.866025  \n",
       "2021-01-04 13:37:00        0.5   0.866025  \n",
       "\n",
       "[5 rows x 67 columns]"
      ]
     },
     "execution_count": 98,
     "metadata": {},
     "output_type": "execute_result"
    }
   ],
   "source": [
    "df.head()"
   ]
  },
  {
   "cell_type": "code",
   "execution_count": 99,
   "id": "e8a1275b-c52e-4d8a-a2cb-7567f4f84b46",
   "metadata": {
    "scrolled": true
   },
   "outputs": [
    {
     "data": {
      "text/plain": [
       "Index(['open', 'high', 'low', 'close', 'volume', 'spread', 'close_pct_return',\n",
       "       'close_return', 'close_log_return', 'close_fd_return',\n",
       "       'close_log_fd_return', 'EMA_5', 'EMA_9', 'EMA_20', 'EMA_24', 'EMA_36',\n",
       "       'EMA_50', 'EMA_100', 'ATRr_14', 'ATRr_60', 'ATRr_120', 'ADX_14',\n",
       "       'ADXR_14_2', 'DMP_14', 'DMN_14', 'RSI_14', 'RSI_25', 'RSI_50',\n",
       "       'BBL_5_2.0_2.0', 'BBM_5_2.0_2.0', 'BBU_5_2.0_2.0', 'BBB_5_2.0_2.0',\n",
       "       'BBP_5_2.0_2.0', 'BBL_10_2.0_2.0', 'BBM_10_2.0_2.0', 'BBU_10_2.0_2.0',\n",
       "       'BBB_10_2.0_2.0', 'BBP_10_2.0_2.0', 'BBL_15_2.0_2.0', 'BBM_15_2.0_2.0',\n",
       "       'BBU_15_2.0_2.0', 'BBB_15_2.0_2.0', 'BBP_15_2.0_2.0', 'BBL_20_2.0_2.0',\n",
       "       'BBM_20_2.0_2.0', 'BBU_20_2.0_2.0', 'BBB_20_2.0_2.0', 'BBP_20_2.0_2.0',\n",
       "       'MACD_8_17_9', 'MACDh_8_17_9', 'MACDs_8_17_9', 'MACD_12_26_9',\n",
       "       'MACDh_12_26_9', 'MACDs_12_26_9', 'unix_time', 'hour', 'dow', 'dom',\n",
       "       'month', 'hour_sin', 'hour_cos', 'dow_sin', 'dow_cos', 'dom_sin',\n",
       "       'dom_cos', 'month_sin', 'month_cos'],\n",
       "      dtype='object')"
      ]
     },
     "execution_count": 99,
     "metadata": {},
     "output_type": "execute_result"
    }
   ],
   "source": [
    "df.columns"
   ]
  },
  {
   "cell_type": "markdown",
   "id": "c7682495-429b-4ee6-9423-8d8192406088",
   "metadata": {},
   "source": [
    "## Apply CUSUM Filter"
   ]
  },
  {
   "cell_type": "markdown",
   "id": "2380c175-3b65-4921-b3f1-338ba67bb1c8",
   "metadata": {},
   "source": [
    "## Calculate CUSUM Threshold"
   ]
  },
  {
   "cell_type": "code",
   "execution_count": 100,
   "id": "94597564-bbc4-443d-be14-68b14c9ce684",
   "metadata": {},
   "outputs": [],
   "source": [
    "import numpy as np"
   ]
  },
  {
   "cell_type": "code",
   "execution_count": 101,
   "id": "a3868a63-256e-4dd1-9b53-e1011f6830c2",
   "metadata": {},
   "outputs": [
    {
     "data": {
      "text/plain": [
       "np.float64(0.0004786989711688043)"
      ]
     },
     "execution_count": 101,
     "metadata": {},
     "output_type": "execute_result"
    }
   ],
   "source": [
    "return_std = np.log(df['close']).diff().iloc[1:].std()\n",
    "return_std * 3"
   ]
  },
  {
   "cell_type": "code",
   "execution_count": 103,
   "id": "23563b1f-a69b-4230-9e64-421813d6e240",
   "metadata": {},
   "outputs": [],
   "source": [
    "THRESHOLD = 4e-4\n",
    "EVENT_NAME = f'CUSUM_{THRESHOLD}'\n",
    "EVENT_PATH = EVENTS_DIR / f\"{RESAMPLED_NAME}_{EVENT_NAME}.pkl\""
   ]
  },
  {
   "cell_type": "markdown",
   "id": "d3e9654f-61f8-47fb-bec5-58eae44404cf",
   "metadata": {},
   "source": [
    "## Get Events Start Time (t0)"
   ]
  },
  {
   "cell_type": "code",
   "execution_count": 104,
   "id": "cdaa6e3a-24d8-4c70-ba2e-d8e230537406",
   "metadata": {},
   "outputs": [],
   "source": [
    "import pandas as pd\n",
    "from tqdm import tqdm\n",
    "\n",
    "def cusum_filter(closes: pd.Series, threshold: float) -> pd.DatetimeIndex:\n",
    "    # get tEvents using CUSUM filter\n",
    "    ret = np.log(closes).diff().iloc[1:]\n",
    "    values = ret.values\n",
    "    timestamps = ret.index\n",
    "\n",
    "    t_events_mask = np.zeros_like(values, dtype=bool)\n",
    "\n",
    "    cum_pos, cum_neg = 0.0, 0.0\n",
    "\n",
    "    for i in tqdm(range(len(values))):\n",
    "        cum_pos = max(0.0, cum_pos + values[i])\n",
    "        cum_neg = min(0.0, cum_neg + values[i])\n",
    "\n",
    "        if cum_pos > threshold:\n",
    "            t_events_mask[i] = True\n",
    "            cum_pos = 0.0\n",
    "        elif cum_neg < -threshold:\n",
    "            t_events_mask[i] = True\n",
    "            cum_neg = 0.0\n",
    "\n",
    "    return timestamps[t_events_mask]\n"
   ]
  },
  {
   "cell_type": "code",
   "execution_count": 105,
   "id": "35f0f7b6-3269-4201-ac13-168102e815e2",
   "metadata": {
    "scrolled": true
   },
   "outputs": [
    {
     "name": "stderr",
     "output_type": "stream",
     "text": [
      "100%|██████████████████████████████████| 1486377/1486377 [00:00<00:00, 3637660.41it/s]"
     ]
    },
    {
     "name": "stdout",
     "output_type": "stream",
     "text": [
      "CPU times: user 425 ms, sys: 10.7 ms, total: 436 ms\n",
      "Wall time: 433 ms\n"
     ]
    },
    {
     "name": "stderr",
     "output_type": "stream",
     "text": [
      "\n"
     ]
    }
   ],
   "source": [
    "%%time\n",
    "\n",
    "t_events = cusum_filter(df['close'], threshold=THRESHOLD)"
   ]
  },
  {
   "cell_type": "code",
   "execution_count": 106,
   "id": "7622afbc-4d47-451d-81b6-fd890074bb72",
   "metadata": {
    "scrolled": true
   },
   "outputs": [
    {
     "data": {
      "text/plain": [
       "DatetimeIndex(['2021-01-04 13:46:00', '2021-01-04 13:50:00',\n",
       "               '2021-01-04 13:55:00', '2021-01-04 14:00:00',\n",
       "               '2021-01-04 14:16:00', '2021-01-04 14:21:00',\n",
       "               '2021-01-04 14:35:00', '2021-01-04 14:46:00',\n",
       "               '2021-01-04 14:51:00', '2021-01-04 15:07:00',\n",
       "               ...\n",
       "               '2024-12-30 20:29:00', '2024-12-30 20:34:00',\n",
       "               '2024-12-30 20:55:00', '2024-12-30 21:06:00',\n",
       "               '2024-12-30 21:45:00', '2024-12-30 22:28:00',\n",
       "               '2024-12-30 23:07:00', '2024-12-30 23:12:00',\n",
       "               '2024-12-30 23:35:00', '2024-12-30 23:42:00'],\n",
       "              dtype='datetime64[ns]', name='timestamp', length=141392, freq=None)"
      ]
     },
     "execution_count": 106,
     "metadata": {},
     "output_type": "execute_result"
    }
   ],
   "source": [
    "t_events"
   ]
  },
  {
   "cell_type": "code",
   "execution_count": 107,
   "id": "ba074337-74e5-4ac6-81c2-9f0d739b3c1f",
   "metadata": {},
   "outputs": [
    {
     "name": "stdout",
     "output_type": "stream",
     "text": [
      "CUSUM_0.0004\n",
      "../data/interm/events/USDJPY-1m-20210101-20241231_CUSUM_0.0004.pkl\n"
     ]
    }
   ],
   "source": [
    "print(EVENT_NAME)\n",
    "print(EVENT_PATH)"
   ]
  },
  {
   "cell_type": "code",
   "execution_count": 108,
   "id": "1f1e7c37-a6d3-40d0-92f9-e655c36a177a",
   "metadata": {},
   "outputs": [],
   "source": [
    "t_events.to_series().to_pickle(EVENT_PATH)"
   ]
  }
 ],
 "metadata": {
  "kernelspec": {
   "display_name": "Python 3 (ipykernel)",
   "language": "python",
   "name": "python3"
  },
  "language_info": {
   "codemirror_mode": {
    "name": "ipython",
    "version": 3
   },
   "file_extension": ".py",
   "mimetype": "text/x-python",
   "name": "python",
   "nbconvert_exporter": "python",
   "pygments_lexer": "ipython3",
   "version": "3.12.11"
  },
  "widgets": {
   "application/vnd.jupyter.widget-state+json": {
    "state": {},
    "version_major": 2,
    "version_minor": 0
   }
  }
 },
 "nbformat": 4,
 "nbformat_minor": 5
}
