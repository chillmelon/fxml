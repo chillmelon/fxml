{
 "cells": [
  {
   "cell_type": "code",
   "execution_count": 80,
   "id": "8c6d6f1f-0017-4810-9328-099f68c7c6e2",
   "metadata": {},
   "outputs": [],
   "source": [
    "import pandas as pd\n",
    "import matplotlib.pyplot as plt\n",
    "from matplotlib.ticker import FormatStrFormatter\n",
    "\n",
    "import os"
   ]
  },
  {
   "cell_type": "code",
   "execution_count": 81,
   "id": "bf14af0e-a692-419c-a591-5feaf1601bf9",
   "metadata": {},
   "outputs": [],
   "source": [
    "from pathlib import Path\n",
    "\n",
    "# Configurable parts\n",
    "SYMBOL = \"USDJPY\"\n",
    "SAMPLE_TYPE = \"time\"\n",
    "MINUTES = 5\n",
    "\n",
    "START_DATE = \"20210101\"\n",
    "END_DATE = \"20241231\"\n",
    "\n",
    "# Build base name\n",
    "RESAMPLED_NAME = f\"{SYMBOL}-{MINUTES}m-{START_DATE}-{END_DATE}\"\n",
    "\n",
    "# Base directories\n",
    "BASE_DIR = Path(\"../data\")\n",
    "RESAMPLED_DIR = BASE_DIR / \"resampled\"\n",
    "PROCESSED_DIR = BASE_DIR / \"processed\"\n",
    "EVENTS_DIR = BASE_DIR / \"interm/events\"\n",
    "\n",
    "# Final paths\n",
    "RESAMPLED_FILE_PATH = RESAMPLED_DIR / f\"{RESAMPLED_NAME}.pkl\"\n",
    "PROCESSED_FILE_PATH = PROCESSED_DIR / f\"{RESAMPLED_NAME}_FEATURES.pkl\""
   ]
  },
  {
   "cell_type": "code",
   "execution_count": 82,
   "id": "79e659aa-5b8f-43d4-aa7f-3fe6cd7e5bd7",
   "metadata": {
    "scrolled": true
   },
   "outputs": [
    {
     "name": "stdout",
     "output_type": "stream",
     "text": [
      "CPU times: user 1.16 ms, sys: 19.7 ms, total: 20.9 ms\n",
      "Wall time: 38.9 ms\n"
     ]
    }
   ],
   "source": [
    "%%time\n",
    "df = pd.read_pickle(PROCESSED_FILE_PATH)"
   ]
  },
  {
   "cell_type": "code",
   "execution_count": 83,
   "id": "29b2da6f-1a60-4d08-9aee-a4c43083818c",
   "metadata": {},
   "outputs": [
    {
     "data": {
      "text/plain": [
       "(298164, 67)"
      ]
     },
     "execution_count": 83,
     "metadata": {},
     "output_type": "execute_result"
    }
   ],
   "source": [
    "df.shape"
   ]
  },
  {
   "cell_type": "code",
   "execution_count": 84,
   "id": "68bbc439-d03b-4275-af93-8b978a790a4b",
   "metadata": {
    "scrolled": true
   },
   "outputs": [
    {
     "data": {
      "text/html": [
       "<div>\n",
       "<style scoped>\n",
       "    .dataframe tbody tr th:only-of-type {\n",
       "        vertical-align: middle;\n",
       "    }\n",
       "\n",
       "    .dataframe tbody tr th {\n",
       "        vertical-align: top;\n",
       "    }\n",
       "\n",
       "    .dataframe thead th {\n",
       "        text-align: right;\n",
       "    }\n",
       "</style>\n",
       "<table border=\"1\" class=\"dataframe\">\n",
       "  <thead>\n",
       "    <tr style=\"text-align: right;\">\n",
       "      <th></th>\n",
       "      <th>open</th>\n",
       "      <th>high</th>\n",
       "      <th>low</th>\n",
       "      <th>close</th>\n",
       "      <th>volume</th>\n",
       "      <th>spread</th>\n",
       "      <th>close_pct_return</th>\n",
       "      <th>close_return</th>\n",
       "      <th>close_log_return</th>\n",
       "      <th>close_fd_return</th>\n",
       "      <th>...</th>\n",
       "      <th>dom</th>\n",
       "      <th>month</th>\n",
       "      <th>hour_sin</th>\n",
       "      <th>hour_cos</th>\n",
       "      <th>dow_sin</th>\n",
       "      <th>dow_cos</th>\n",
       "      <th>dom_sin</th>\n",
       "      <th>dom_cos</th>\n",
       "      <th>month_sin</th>\n",
       "      <th>month_cos</th>\n",
       "    </tr>\n",
       "    <tr>\n",
       "      <th>timestamp</th>\n",
       "      <th></th>\n",
       "      <th></th>\n",
       "      <th></th>\n",
       "      <th></th>\n",
       "      <th></th>\n",
       "      <th></th>\n",
       "      <th></th>\n",
       "      <th></th>\n",
       "      <th></th>\n",
       "      <th></th>\n",
       "      <th></th>\n",
       "      <th></th>\n",
       "      <th></th>\n",
       "      <th></th>\n",
       "      <th></th>\n",
       "      <th></th>\n",
       "      <th></th>\n",
       "      <th></th>\n",
       "      <th></th>\n",
       "      <th></th>\n",
       "      <th></th>\n",
       "    </tr>\n",
       "  </thead>\n",
       "  <tbody>\n",
       "    <tr>\n",
       "      <th>2021-01-07 03:25:00</th>\n",
       "      <td>103.1615</td>\n",
       "      <td>103.1670</td>\n",
       "      <td>103.1480</td>\n",
       "      <td>103.1505</td>\n",
       "      <td>7.225200e+11</td>\n",
       "      <td>0.003158</td>\n",
       "      <td>-0.000092</td>\n",
       "      <td>-0.0095</td>\n",
       "      <td>-0.000092</td>\n",
       "      <td>1.913549</td>\n",
       "      <td>...</td>\n",
       "      <td>7</td>\n",
       "      <td>1</td>\n",
       "      <td>0.707107</td>\n",
       "      <td>0.707107</td>\n",
       "      <td>0.433884</td>\n",
       "      <td>-0.900969</td>\n",
       "      <td>0.988468</td>\n",
       "      <td>0.151428</td>\n",
       "      <td>0.5</td>\n",
       "      <td>0.866025</td>\n",
       "    </tr>\n",
       "    <tr>\n",
       "      <th>2021-01-07 03:30:00</th>\n",
       "      <td>103.1485</td>\n",
       "      <td>103.1590</td>\n",
       "      <td>103.1365</td>\n",
       "      <td>103.1365</td>\n",
       "      <td>8.676000e+11</td>\n",
       "      <td>0.003230</td>\n",
       "      <td>-0.000136</td>\n",
       "      <td>-0.0140</td>\n",
       "      <td>-0.000136</td>\n",
       "      <td>1.903814</td>\n",
       "      <td>...</td>\n",
       "      <td>7</td>\n",
       "      <td>1</td>\n",
       "      <td>0.707107</td>\n",
       "      <td>0.707107</td>\n",
       "      <td>0.433884</td>\n",
       "      <td>-0.900969</td>\n",
       "      <td>0.988468</td>\n",
       "      <td>0.151428</td>\n",
       "      <td>0.5</td>\n",
       "      <td>0.866025</td>\n",
       "    </tr>\n",
       "    <tr>\n",
       "      <th>2021-01-07 03:35:00</th>\n",
       "      <td>103.1375</td>\n",
       "      <td>103.1475</td>\n",
       "      <td>103.1310</td>\n",
       "      <td>103.1310</td>\n",
       "      <td>7.285500e+11</td>\n",
       "      <td>0.003208</td>\n",
       "      <td>-0.000053</td>\n",
       "      <td>-0.0055</td>\n",
       "      <td>-0.000053</td>\n",
       "      <td>1.906306</td>\n",
       "      <td>...</td>\n",
       "      <td>7</td>\n",
       "      <td>1</td>\n",
       "      <td>0.707107</td>\n",
       "      <td>0.707107</td>\n",
       "      <td>0.433884</td>\n",
       "      <td>-0.900969</td>\n",
       "      <td>0.988468</td>\n",
       "      <td>0.151428</td>\n",
       "      <td>0.5</td>\n",
       "      <td>0.866025</td>\n",
       "    </tr>\n",
       "    <tr>\n",
       "      <th>2021-01-07 03:40:00</th>\n",
       "      <td>103.1315</td>\n",
       "      <td>103.1335</td>\n",
       "      <td>103.1130</td>\n",
       "      <td>103.1270</td>\n",
       "      <td>7.642100e+11</td>\n",
       "      <td>0.003317</td>\n",
       "      <td>-0.000039</td>\n",
       "      <td>-0.0040</td>\n",
       "      <td>-0.000039</td>\n",
       "      <td>1.907271</td>\n",
       "      <td>...</td>\n",
       "      <td>7</td>\n",
       "      <td>1</td>\n",
       "      <td>0.707107</td>\n",
       "      <td>0.707107</td>\n",
       "      <td>0.433884</td>\n",
       "      <td>-0.900969</td>\n",
       "      <td>0.988468</td>\n",
       "      <td>0.151428</td>\n",
       "      <td>0.5</td>\n",
       "      <td>0.866025</td>\n",
       "    </tr>\n",
       "    <tr>\n",
       "      <th>2021-01-07 03:45:00</th>\n",
       "      <td>103.1280</td>\n",
       "      <td>103.1320</td>\n",
       "      <td>103.1220</td>\n",
       "      <td>103.1280</td>\n",
       "      <td>3.622700e+11</td>\n",
       "      <td>0.002974</td>\n",
       "      <td>0.000010</td>\n",
       "      <td>0.0010</td>\n",
       "      <td>0.000010</td>\n",
       "      <td>1.912092</td>\n",
       "      <td>...</td>\n",
       "      <td>7</td>\n",
       "      <td>1</td>\n",
       "      <td>0.707107</td>\n",
       "      <td>0.707107</td>\n",
       "      <td>0.433884</td>\n",
       "      <td>-0.900969</td>\n",
       "      <td>0.988468</td>\n",
       "      <td>0.151428</td>\n",
       "      <td>0.5</td>\n",
       "      <td>0.866025</td>\n",
       "    </tr>\n",
       "  </tbody>\n",
       "</table>\n",
       "<p>5 rows × 67 columns</p>\n",
       "</div>"
      ],
      "text/plain": [
       "                         open      high       low     close        volume  \\\n",
       "timestamp                                                                   \n",
       "2021-01-07 03:25:00  103.1615  103.1670  103.1480  103.1505  7.225200e+11   \n",
       "2021-01-07 03:30:00  103.1485  103.1590  103.1365  103.1365  8.676000e+11   \n",
       "2021-01-07 03:35:00  103.1375  103.1475  103.1310  103.1310  7.285500e+11   \n",
       "2021-01-07 03:40:00  103.1315  103.1335  103.1130  103.1270  7.642100e+11   \n",
       "2021-01-07 03:45:00  103.1280  103.1320  103.1220  103.1280  3.622700e+11   \n",
       "\n",
       "                       spread  close_pct_return  close_return  \\\n",
       "timestamp                                                       \n",
       "2021-01-07 03:25:00  0.003158         -0.000092       -0.0095   \n",
       "2021-01-07 03:30:00  0.003230         -0.000136       -0.0140   \n",
       "2021-01-07 03:35:00  0.003208         -0.000053       -0.0055   \n",
       "2021-01-07 03:40:00  0.003317         -0.000039       -0.0040   \n",
       "2021-01-07 03:45:00  0.002974          0.000010        0.0010   \n",
       "\n",
       "                     close_log_return  close_fd_return  ...  dom  month  \\\n",
       "timestamp                                               ...               \n",
       "2021-01-07 03:25:00         -0.000092         1.913549  ...    7      1   \n",
       "2021-01-07 03:30:00         -0.000136         1.903814  ...    7      1   \n",
       "2021-01-07 03:35:00         -0.000053         1.906306  ...    7      1   \n",
       "2021-01-07 03:40:00         -0.000039         1.907271  ...    7      1   \n",
       "2021-01-07 03:45:00          0.000010         1.912092  ...    7      1   \n",
       "\n",
       "                     hour_sin  hour_cos   dow_sin   dow_cos   dom_sin  \\\n",
       "timestamp                                                               \n",
       "2021-01-07 03:25:00  0.707107  0.707107  0.433884 -0.900969  0.988468   \n",
       "2021-01-07 03:30:00  0.707107  0.707107  0.433884 -0.900969  0.988468   \n",
       "2021-01-07 03:35:00  0.707107  0.707107  0.433884 -0.900969  0.988468   \n",
       "2021-01-07 03:40:00  0.707107  0.707107  0.433884 -0.900969  0.988468   \n",
       "2021-01-07 03:45:00  0.707107  0.707107  0.433884 -0.900969  0.988468   \n",
       "\n",
       "                      dom_cos  month_sin  month_cos  \n",
       "timestamp                                            \n",
       "2021-01-07 03:25:00  0.151428        0.5   0.866025  \n",
       "2021-01-07 03:30:00  0.151428        0.5   0.866025  \n",
       "2021-01-07 03:35:00  0.151428        0.5   0.866025  \n",
       "2021-01-07 03:40:00  0.151428        0.5   0.866025  \n",
       "2021-01-07 03:45:00  0.151428        0.5   0.866025  \n",
       "\n",
       "[5 rows x 67 columns]"
      ]
     },
     "execution_count": 84,
     "metadata": {},
     "output_type": "execute_result"
    }
   ],
   "source": [
    "df.head()"
   ]
  },
  {
   "cell_type": "code",
   "execution_count": 85,
   "id": "e8a1275b-c52e-4d8a-a2cb-7567f4f84b46",
   "metadata": {
    "scrolled": true
   },
   "outputs": [
    {
     "data": {
      "text/plain": [
       "Index(['open', 'high', 'low', 'close', 'volume', 'spread', 'close_pct_return',\n",
       "       'close_return', 'close_log_return', 'close_fd_return',\n",
       "       'close_log_fd_return', 'EMA_5', 'EMA_9', 'EMA_20', 'EMA_24', 'EMA_36',\n",
       "       'EMA_50', 'EMA_100', 'ATRr_14', 'ATRr_60', 'ATRr_120', 'ADX_14',\n",
       "       'ADXR_14_2', 'DMP_14', 'DMN_14', 'RSI_14', 'RSI_25', 'RSI_50',\n",
       "       'BBL_5_2.0_2.0', 'BBM_5_2.0_2.0', 'BBU_5_2.0_2.0', 'BBB_5_2.0_2.0',\n",
       "       'BBP_5_2.0_2.0', 'BBL_10_2.0_2.0', 'BBM_10_2.0_2.0', 'BBU_10_2.0_2.0',\n",
       "       'BBB_10_2.0_2.0', 'BBP_10_2.0_2.0', 'BBL_15_2.0_2.0', 'BBM_15_2.0_2.0',\n",
       "       'BBU_15_2.0_2.0', 'BBB_15_2.0_2.0', 'BBP_15_2.0_2.0', 'BBL_20_2.0_2.0',\n",
       "       'BBM_20_2.0_2.0', 'BBU_20_2.0_2.0', 'BBB_20_2.0_2.0', 'BBP_20_2.0_2.0',\n",
       "       'MACD_8_17_9', 'MACDh_8_17_9', 'MACDs_8_17_9', 'MACD_12_26_9',\n",
       "       'MACDh_12_26_9', 'MACDs_12_26_9', 'unix_time', 'hour', 'dow', 'dom',\n",
       "       'month', 'hour_sin', 'hour_cos', 'dow_sin', 'dow_cos', 'dom_sin',\n",
       "       'dom_cos', 'month_sin', 'month_cos'],\n",
       "      dtype='object')"
      ]
     },
     "execution_count": 85,
     "metadata": {},
     "output_type": "execute_result"
    }
   ],
   "source": [
    "df.columns"
   ]
  },
  {
   "cell_type": "markdown",
   "id": "c7682495-429b-4ee6-9423-8d8192406088",
   "metadata": {},
   "source": [
    "## Apply CUSUM Filter"
   ]
  },
  {
   "cell_type": "markdown",
   "id": "2380c175-3b65-4921-b3f1-338ba67bb1c8",
   "metadata": {},
   "source": [
    "## Calculate CUSUM Threshold"
   ]
  },
  {
   "cell_type": "code",
   "execution_count": 86,
   "id": "94597564-bbc4-443d-be14-68b14c9ce684",
   "metadata": {},
   "outputs": [],
   "source": [
    "import numpy as np"
   ]
  },
  {
   "cell_type": "code",
   "execution_count": 87,
   "id": "a3868a63-256e-4dd1-9b53-e1011f6830c2",
   "metadata": {},
   "outputs": [
    {
     "data": {
      "text/plain": [
       "np.float64(0.0010667252441945762)"
      ]
     },
     "execution_count": 87,
     "metadata": {},
     "output_type": "execute_result"
    }
   ],
   "source": [
    "return_std = np.log(df['close']).diff().iloc[1:].std()\n",
    "return_std * 3"
   ]
  },
  {
   "cell_type": "code",
   "execution_count": 88,
   "id": "23563b1f-a69b-4230-9e64-421813d6e240",
   "metadata": {},
   "outputs": [],
   "source": [
    "THRESHOLD = 0.001\n",
    "EVENT_NAME = f'CUSUM_{THRESHOLD}'\n",
    "EVENT_PATH = EVENTS_DIR / f\"{RESAMPLED_NAME}_{EVENT_NAME}.pkl\""
   ]
  },
  {
   "cell_type": "markdown",
   "id": "d3e9654f-61f8-47fb-bec5-58eae44404cf",
   "metadata": {},
   "source": [
    "## Get Events Start Time (t0)"
   ]
  },
  {
   "cell_type": "code",
   "execution_count": 89,
   "id": "cdaa6e3a-24d8-4c70-ba2e-d8e230537406",
   "metadata": {},
   "outputs": [],
   "source": [
    "import pandas as pd\n",
    "from tqdm import tqdm\n",
    "\n",
    "def cusum_filter(closes: pd.Series, threshold: float) -> pd.DatetimeIndex:\n",
    "    # get tEvents using CUSUM filter\n",
    "    ret = np.log(closes).diff().iloc[1:]\n",
    "    values = ret.values\n",
    "    timestamps = ret.index\n",
    "\n",
    "    t_events_mask = np.zeros_like(values, dtype=bool)\n",
    "\n",
    "    cum_pos, cum_neg = 0.0, 0.0\n",
    "\n",
    "    for i in tqdm(range(len(values))):\n",
    "        cum_pos = max(0.0, cum_pos + values[i])\n",
    "        cum_neg = min(0.0, cum_neg + values[i])\n",
    "\n",
    "        if cum_pos > threshold:\n",
    "            t_events_mask[i] = True\n",
    "            cum_pos = 0.0\n",
    "        elif cum_neg < -threshold:\n",
    "            t_events_mask[i] = True\n",
    "            cum_neg = 0.0\n",
    "\n",
    "    return timestamps[t_events_mask]\n"
   ]
  },
  {
   "cell_type": "code",
   "execution_count": 90,
   "id": "35f0f7b6-3269-4201-ac13-168102e815e2",
   "metadata": {
    "scrolled": true
   },
   "outputs": [
    {
     "name": "stderr",
     "output_type": "stream",
     "text": [
      "100%|████████████████████████████████████| 298163/298163 [00:00<00:00, 3616689.89it/s]"
     ]
    },
    {
     "name": "stdout",
     "output_type": "stream",
     "text": [
      "CPU times: user 84 ms, sys: 1.7 ms, total: 85.7 ms\n",
      "Wall time: 85.2 ms\n"
     ]
    },
    {
     "name": "stderr",
     "output_type": "stream",
     "text": [
      "\n"
     ]
    }
   ],
   "source": [
    "%%time\n",
    "\n",
    "t_events = cusum_filter(df['close'], threshold=THRESHOLD)"
   ]
  },
  {
   "cell_type": "code",
   "execution_count": 91,
   "id": "7622afbc-4d47-451d-81b6-fd890074bb72",
   "metadata": {
    "scrolled": true
   },
   "outputs": [
    {
     "data": {
      "text/plain": [
       "DatetimeIndex(['2021-01-07 05:45:00', '2021-01-07 07:05:00',\n",
       "               '2021-01-07 08:05:00', '2021-01-07 09:10:00',\n",
       "               '2021-01-07 09:50:00', '2021-01-07 10:35:00',\n",
       "               '2021-01-07 12:00:00', '2021-01-07 12:35:00',\n",
       "               '2021-01-07 14:20:00', '2021-01-07 14:35:00',\n",
       "               ...\n",
       "               '2024-12-30 14:45:00', '2024-12-30 15:00:00',\n",
       "               '2024-12-30 15:20:00', '2024-12-30 15:35:00',\n",
       "               '2024-12-30 15:40:00', '2024-12-30 16:40:00',\n",
       "               '2024-12-30 18:00:00', '2024-12-30 19:00:00',\n",
       "               '2024-12-30 20:30:00', '2024-12-30 23:05:00'],\n",
       "              dtype='datetime64[ns]', name='timestamp', length=24493, freq=None)"
      ]
     },
     "execution_count": 91,
     "metadata": {},
     "output_type": "execute_result"
    }
   ],
   "source": [
    "t_events"
   ]
  },
  {
   "cell_type": "code",
   "execution_count": 92,
   "id": "ba074337-74e5-4ac6-81c2-9f0d739b3c1f",
   "metadata": {},
   "outputs": [
    {
     "name": "stdout",
     "output_type": "stream",
     "text": [
      "CUSUM_0.001\n",
      "../data/interm/events/USDJPY-5m-20210101-20241231_CUSUM_0.001.pkl\n"
     ]
    }
   ],
   "source": [
    "print(EVENT_NAME)\n",
    "print(EVENT_PATH)"
   ]
  },
  {
   "cell_type": "code",
   "execution_count": 93,
   "id": "1f1e7c37-a6d3-40d0-92f9-e655c36a177a",
   "metadata": {},
   "outputs": [],
   "source": [
    "t_events.to_series().to_pickle(EVENT_PATH)"
   ]
  }
 ],
 "metadata": {
  "kernelspec": {
   "display_name": "Python 3 (ipykernel)",
   "language": "python",
   "name": "python3"
  },
  "language_info": {
   "codemirror_mode": {
    "name": "ipython",
    "version": 3
   },
   "file_extension": ".py",
   "mimetype": "text/x-python",
   "name": "python",
   "nbconvert_exporter": "python",
   "pygments_lexer": "ipython3",
   "version": "3.12.11"
  },
  "widgets": {
   "application/vnd.jupyter.widget-state+json": {
    "state": {},
    "version_major": 2,
    "version_minor": 0
   }
  }
 },
 "nbformat": 4,
 "nbformat_minor": 5
}
