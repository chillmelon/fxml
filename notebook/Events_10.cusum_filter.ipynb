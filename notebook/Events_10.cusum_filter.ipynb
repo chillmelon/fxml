{
 "cells": [
  {
   "cell_type": "code",
   "execution_count": 27,
   "id": "8c6d6f1f-0017-4810-9328-099f68c7c6e2",
   "metadata": {},
   "outputs": [],
   "source": [
    "import pandas as pd\n",
    "import matplotlib.pyplot as plt\n",
    "from matplotlib.ticker import FormatStrFormatter\n",
    "\n",
    "import os"
   ]
  },
  {
   "cell_type": "code",
   "execution_count": 28,
   "id": "bf14af0e-a692-419c-a591-5feaf1601bf9",
   "metadata": {},
   "outputs": [],
   "source": [
    "from pathlib import Path\n",
    "\n",
    "# Configurable parts\n",
    "SYMBOL = \"USDJPY\"\n",
    "SAMPLE_TYPE = \"time\"\n",
    "MINUTES = 1\n",
    "DOLLAR_THRESHOLD = \"115009542m\"\n",
    "\n",
    "START_DATE = \"20240101\"\n",
    "END_DATE = \"20241231\"\n",
    "\n",
    "# Build base name\n",
    "if SAMPLE_TYPE == \"dollar\":\n",
    "    RESAMPLED_NAME = f\"{SYMBOL}-{DOLLAR_THRESHOLD}-dollar-{START_DATE}-{END_DATE}\"\n",
    "else:\n",
    "    RESAMPLED_NAME = f\"{SYMBOL}-{MINUTES}m-{START_DATE}-{END_DATE}\"\n",
    "\n",
    "# Base directories\n",
    "BASE_DIR = Path(\"../data\")\n",
    "RESAMPLED_DIR = BASE_DIR / \"resampled\"\n",
    "PROCESSED_DIR = BASE_DIR / \"processed\"\n",
    "EVENTS_DIR = BASE_DIR / \"events\"\n",
    "\n",
    "# Final paths\n",
    "RESAMPLED_FILE_PATH = RESAMPLED_DIR / f\"{RESAMPLED_NAME}.pkl\"\n",
    "PROCESSED_FILE_PATH = PROCESSED_DIR / f\"{RESAMPLED_NAME}-processed.pkl\""
   ]
  },
  {
   "cell_type": "code",
   "execution_count": 58,
   "id": "79e659aa-5b8f-43d4-aa7f-3fe6cd7e5bd7",
   "metadata": {
    "scrolled": true
   },
   "outputs": [
    {
     "name": "stdout",
     "output_type": "stream",
     "text": [
      "CPU times: user 2.22 ms, sys: 68.5 ms, total: 70.7 ms\n",
      "Wall time: 71.4 ms\n"
     ]
    }
   ],
   "source": [
    "%%time\n",
    "df = pd.read_pickle(PROCESSED_FILE_PATH)"
   ]
  },
  {
   "cell_type": "code",
   "execution_count": 59,
   "id": "29b2da6f-1a60-4d08-9aee-a4c43083818c",
   "metadata": {},
   "outputs": [
    {
     "data": {
      "text/plain": [
       "(371236, 100)"
      ]
     },
     "execution_count": 59,
     "metadata": {},
     "output_type": "execute_result"
    }
   ],
   "source": [
    "df.shape"
   ]
  },
  {
   "cell_type": "code",
   "execution_count": 60,
   "id": "68bbc439-d03b-4275-af93-8b978a790a4b",
   "metadata": {
    "scrolled": true
   },
   "outputs": [
    {
     "data": {
      "text/html": [
       "<div>\n",
       "<style scoped>\n",
       "    .dataframe tbody tr th:only-of-type {\n",
       "        vertical-align: middle;\n",
       "    }\n",
       "\n",
       "    .dataframe tbody tr th {\n",
       "        vertical-align: top;\n",
       "    }\n",
       "\n",
       "    .dataframe thead th {\n",
       "        text-align: right;\n",
       "    }\n",
       "</style>\n",
       "<table border=\"1\" class=\"dataframe\">\n",
       "  <thead>\n",
       "    <tr style=\"text-align: right;\">\n",
       "      <th></th>\n",
       "      <th>open</th>\n",
       "      <th>high</th>\n",
       "      <th>low</th>\n",
       "      <th>close</th>\n",
       "      <th>volume</th>\n",
       "      <th>spread</th>\n",
       "      <th>close_delta</th>\n",
       "      <th>close_return</th>\n",
       "      <th>close_log_return</th>\n",
       "      <th>ret_mean_5</th>\n",
       "      <th>...</th>\n",
       "      <th>dom</th>\n",
       "      <th>month</th>\n",
       "      <th>hour_sin</th>\n",
       "      <th>hour_cos</th>\n",
       "      <th>dow_sin</th>\n",
       "      <th>dow_cos</th>\n",
       "      <th>dom_sin</th>\n",
       "      <th>dom_cos</th>\n",
       "      <th>month_sin</th>\n",
       "      <th>month_cos</th>\n",
       "    </tr>\n",
       "    <tr>\n",
       "      <th>timestamp</th>\n",
       "      <th></th>\n",
       "      <th></th>\n",
       "      <th></th>\n",
       "      <th></th>\n",
       "      <th></th>\n",
       "      <th></th>\n",
       "      <th></th>\n",
       "      <th></th>\n",
       "      <th></th>\n",
       "      <th></th>\n",
       "      <th></th>\n",
       "      <th></th>\n",
       "      <th></th>\n",
       "      <th></th>\n",
       "      <th></th>\n",
       "      <th></th>\n",
       "      <th></th>\n",
       "      <th></th>\n",
       "      <th></th>\n",
       "      <th></th>\n",
       "      <th></th>\n",
       "    </tr>\n",
       "  </thead>\n",
       "  <tbody>\n",
       "    <tr>\n",
       "      <th>2024-01-02 01:44:00</th>\n",
       "      <td>1.10381</td>\n",
       "      <td>1.103845</td>\n",
       "      <td>1.103805</td>\n",
       "      <td>1.103835</td>\n",
       "      <td>2.090600e+11</td>\n",
       "      <td>0.000037</td>\n",
       "      <td>0.000020</td>\n",
       "      <td>0.000018</td>\n",
       "      <td>0.000018</td>\n",
       "      <td>0.000016</td>\n",
       "      <td>...</td>\n",
       "      <td>2</td>\n",
       "      <td>1</td>\n",
       "      <td>0.258819</td>\n",
       "      <td>0.965926</td>\n",
       "      <td>0.781831</td>\n",
       "      <td>0.62349</td>\n",
       "      <td>0.394356</td>\n",
       "      <td>0.918958</td>\n",
       "      <td>0.5</td>\n",
       "      <td>0.866025</td>\n",
       "    </tr>\n",
       "    <tr>\n",
       "      <th>2024-01-02 01:45:00</th>\n",
       "      <td>1.10385</td>\n",
       "      <td>1.104010</td>\n",
       "      <td>1.103850</td>\n",
       "      <td>1.103890</td>\n",
       "      <td>3.001600e+11</td>\n",
       "      <td>0.000033</td>\n",
       "      <td>0.000055</td>\n",
       "      <td>0.000050</td>\n",
       "      <td>0.000050</td>\n",
       "      <td>0.000026</td>\n",
       "      <td>...</td>\n",
       "      <td>2</td>\n",
       "      <td>1</td>\n",
       "      <td>0.258819</td>\n",
       "      <td>0.965926</td>\n",
       "      <td>0.781831</td>\n",
       "      <td>0.62349</td>\n",
       "      <td>0.394356</td>\n",
       "      <td>0.918958</td>\n",
       "      <td>0.5</td>\n",
       "      <td>0.866025</td>\n",
       "    </tr>\n",
       "    <tr>\n",
       "      <th>2024-01-02 01:46:00</th>\n",
       "      <td>1.10390</td>\n",
       "      <td>1.103960</td>\n",
       "      <td>1.103885</td>\n",
       "      <td>1.103905</td>\n",
       "      <td>3.997200e+11</td>\n",
       "      <td>0.000034</td>\n",
       "      <td>0.000015</td>\n",
       "      <td>0.000014</td>\n",
       "      <td>0.000014</td>\n",
       "      <td>0.000026</td>\n",
       "      <td>...</td>\n",
       "      <td>2</td>\n",
       "      <td>1</td>\n",
       "      <td>0.258819</td>\n",
       "      <td>0.965926</td>\n",
       "      <td>0.781831</td>\n",
       "      <td>0.62349</td>\n",
       "      <td>0.394356</td>\n",
       "      <td>0.918958</td>\n",
       "      <td>0.5</td>\n",
       "      <td>0.866025</td>\n",
       "    </tr>\n",
       "    <tr>\n",
       "      <th>2024-01-02 01:47:00</th>\n",
       "      <td>1.10391</td>\n",
       "      <td>1.103990</td>\n",
       "      <td>1.103860</td>\n",
       "      <td>1.103900</td>\n",
       "      <td>5.193100e+11</td>\n",
       "      <td>0.000032</td>\n",
       "      <td>-0.000005</td>\n",
       "      <td>-0.000005</td>\n",
       "      <td>-0.000005</td>\n",
       "      <td>0.000024</td>\n",
       "      <td>...</td>\n",
       "      <td>2</td>\n",
       "      <td>1</td>\n",
       "      <td>0.258819</td>\n",
       "      <td>0.965926</td>\n",
       "      <td>0.781831</td>\n",
       "      <td>0.62349</td>\n",
       "      <td>0.394356</td>\n",
       "      <td>0.918958</td>\n",
       "      <td>0.5</td>\n",
       "      <td>0.866025</td>\n",
       "    </tr>\n",
       "    <tr>\n",
       "      <th>2024-01-02 01:48:00</th>\n",
       "      <td>1.10389</td>\n",
       "      <td>1.103955</td>\n",
       "      <td>1.103870</td>\n",
       "      <td>1.103900</td>\n",
       "      <td>1.983200e+11</td>\n",
       "      <td>0.000028</td>\n",
       "      <td>0.000000</td>\n",
       "      <td>0.000000</td>\n",
       "      <td>0.000000</td>\n",
       "      <td>0.000015</td>\n",
       "      <td>...</td>\n",
       "      <td>2</td>\n",
       "      <td>1</td>\n",
       "      <td>0.258819</td>\n",
       "      <td>0.965926</td>\n",
       "      <td>0.781831</td>\n",
       "      <td>0.62349</td>\n",
       "      <td>0.394356</td>\n",
       "      <td>0.918958</td>\n",
       "      <td>0.5</td>\n",
       "      <td>0.866025</td>\n",
       "    </tr>\n",
       "  </tbody>\n",
       "</table>\n",
       "<p>5 rows × 100 columns</p>\n",
       "</div>"
      ],
      "text/plain": [
       "                        open      high       low     close        volume  \\\n",
       "timestamp                                                                  \n",
       "2024-01-02 01:44:00  1.10381  1.103845  1.103805  1.103835  2.090600e+11   \n",
       "2024-01-02 01:45:00  1.10385  1.104010  1.103850  1.103890  3.001600e+11   \n",
       "2024-01-02 01:46:00  1.10390  1.103960  1.103885  1.103905  3.997200e+11   \n",
       "2024-01-02 01:47:00  1.10391  1.103990  1.103860  1.103900  5.193100e+11   \n",
       "2024-01-02 01:48:00  1.10389  1.103955  1.103870  1.103900  1.983200e+11   \n",
       "\n",
       "                       spread  close_delta  close_return  close_log_return  \\\n",
       "timestamp                                                                    \n",
       "2024-01-02 01:44:00  0.000037     0.000020      0.000018          0.000018   \n",
       "2024-01-02 01:45:00  0.000033     0.000055      0.000050          0.000050   \n",
       "2024-01-02 01:46:00  0.000034     0.000015      0.000014          0.000014   \n",
       "2024-01-02 01:47:00  0.000032    -0.000005     -0.000005         -0.000005   \n",
       "2024-01-02 01:48:00  0.000028     0.000000      0.000000          0.000000   \n",
       "\n",
       "                     ret_mean_5  ...  dom  month  hour_sin  hour_cos  \\\n",
       "timestamp                        ...                                   \n",
       "2024-01-02 01:44:00    0.000016  ...    2      1  0.258819  0.965926   \n",
       "2024-01-02 01:45:00    0.000026  ...    2      1  0.258819  0.965926   \n",
       "2024-01-02 01:46:00    0.000026  ...    2      1  0.258819  0.965926   \n",
       "2024-01-02 01:47:00    0.000024  ...    2      1  0.258819  0.965926   \n",
       "2024-01-02 01:48:00    0.000015  ...    2      1  0.258819  0.965926   \n",
       "\n",
       "                      dow_sin  dow_cos   dom_sin   dom_cos  month_sin  \\\n",
       "timestamp                                                               \n",
       "2024-01-02 01:44:00  0.781831  0.62349  0.394356  0.918958        0.5   \n",
       "2024-01-02 01:45:00  0.781831  0.62349  0.394356  0.918958        0.5   \n",
       "2024-01-02 01:46:00  0.781831  0.62349  0.394356  0.918958        0.5   \n",
       "2024-01-02 01:47:00  0.781831  0.62349  0.394356  0.918958        0.5   \n",
       "2024-01-02 01:48:00  0.781831  0.62349  0.394356  0.918958        0.5   \n",
       "\n",
       "                     month_cos  \n",
       "timestamp                       \n",
       "2024-01-02 01:44:00   0.866025  \n",
       "2024-01-02 01:45:00   0.866025  \n",
       "2024-01-02 01:46:00   0.866025  \n",
       "2024-01-02 01:47:00   0.866025  \n",
       "2024-01-02 01:48:00   0.866025  \n",
       "\n",
       "[5 rows x 100 columns]"
      ]
     },
     "execution_count": 60,
     "metadata": {},
     "output_type": "execute_result"
    }
   ],
   "source": [
    "df.head()"
   ]
  },
  {
   "cell_type": "code",
   "execution_count": 61,
   "id": "e8a1275b-c52e-4d8a-a2cb-7567f4f84b46",
   "metadata": {
    "scrolled": true
   },
   "outputs": [
    {
     "data": {
      "text/plain": [
       "Index(['open', 'high', 'low', 'close', 'volume', 'spread', 'close_delta',\n",
       "       'close_return', 'close_log_return', 'ret_mean_5', 'ret_mean_10',\n",
       "       'ret_mean_15', 'ret_mean_20', 'log_volume', 'rv5', 'log_rv5',\n",
       "       'sqrt_rv5', 'rv15', 'log_rv15', 'sqrt_rv15', 'rv50', 'log_rv50',\n",
       "       'sqrt_rv50', 'ema5', 'ema5_slope', 'close_above_ema5', 'ema20',\n",
       "       'ema20_slope', 'close_above_ema20', 'ema50', 'ema50_slope',\n",
       "       'close_above_ema50', 'ema100', 'ema100_slope', 'close_above_ema100',\n",
       "       'atr14', 'atr60', 'atr120', 'log_atr14', 'atr14_percent',\n",
       "       'atr14_adjusted_return', 'log_atr60', 'atr60_percent',\n",
       "       'atr60_adjusted_return', 'log_atr120', 'atr120_percent',\n",
       "       'atr120_adjusted_return', 'adx14', 'plus_di14', 'minus_di14',\n",
       "       'bb_upper', 'bb_lower', 'bb_mavg', 'bb_width', 'bb_position',\n",
       "       'dc20_upper', 'dc20_lower', 'dc20_mid', 'dc20_width',\n",
       "       'close_above_dc20_mid', 'dc20_breakout', 'dc20_breakdown', 'dc50_upper',\n",
       "       'dc50_lower', 'dc50_mid', 'dc50_width', 'close_above_dc50_mid',\n",
       "       'dc50_breakout', 'dc50_breakdown', 'dc100_upper', 'dc100_lower',\n",
       "       'dc100_mid', 'dc100_width', 'close_above_dc100_mid', 'dc100_breakout',\n",
       "       'dc100_breakdown', 'stoch_k', 'stoch_d', 'rsi14', 'rsi14_slope',\n",
       "       'rsi25', 'rsi25_slope', 'rsi50', 'rsi50_slope', 'macd', 'macd_signal',\n",
       "       'macd_diff', 'unix_time', 'hour', 'dow', 'dom', 'month', 'hour_sin',\n",
       "       'hour_cos', 'dow_sin', 'dow_cos', 'dom_sin', 'dom_cos', 'month_sin',\n",
       "       'month_cos'],\n",
       "      dtype='object')"
      ]
     },
     "execution_count": 61,
     "metadata": {},
     "output_type": "execute_result"
    }
   ],
   "source": [
    "df.columns"
   ]
  },
  {
   "cell_type": "markdown",
   "id": "c7682495-429b-4ee6-9423-8d8192406088",
   "metadata": {},
   "source": [
    "## Apply CUSUM Filter"
   ]
  },
  {
   "cell_type": "markdown",
   "id": "2380c175-3b65-4921-b3f1-338ba67bb1c8",
   "metadata": {},
   "source": [
    "## Calculate CUSUM Threshold"
   ]
  },
  {
   "cell_type": "code",
   "execution_count": 116,
   "id": "a3868a63-256e-4dd1-9b53-e1011f6830c2",
   "metadata": {},
   "outputs": [
    {
     "data": {
      "text/plain": [
       "np.float64(0.0003098871099078162)"
      ]
     },
     "execution_count": 116,
     "metadata": {},
     "output_type": "execute_result"
    }
   ],
   "source": [
    "return_std = np.log(df['close']).diff().iloc[1:].std()\n",
    "return_std * 3"
   ]
  },
  {
   "cell_type": "code",
   "execution_count": 117,
   "id": "23563b1f-a69b-4230-9e64-421813d6e240",
   "metadata": {},
   "outputs": [],
   "source": [
    "EVENT_NAME = 'CUSUM'\n",
    "THRESHOLD = 0.00031\n",
    "EVENT_PATH = EVENTS_DIR / f\"{RESAMPLED_NAME}_{EVENT_NAME}_{THRESHOLD}.pkl\""
   ]
  },
  {
   "cell_type": "code",
   "execution_count": 118,
   "id": "bf260f62-38ea-4ac6-8540-74a4800c60b3",
   "metadata": {},
   "outputs": [
    {
     "data": {
      "text/plain": [
       "PosixPath('../data/events/USDJPY-1m-20240101-20241231_CUSUM_0.00031.pkl')"
      ]
     },
     "execution_count": 118,
     "metadata": {},
     "output_type": "execute_result"
    }
   ],
   "source": [
    "EVENT_PATH"
   ]
  },
  {
   "cell_type": "markdown",
   "id": "d3e9654f-61f8-47fb-bec5-58eae44404cf",
   "metadata": {},
   "source": [
    "## Get Events Start Time (t0)"
   ]
  },
  {
   "cell_type": "code",
   "execution_count": 119,
   "id": "cdaa6e3a-24d8-4c70-ba2e-d8e230537406",
   "metadata": {},
   "outputs": [],
   "source": [
    "import numpy as np\n",
    "import pandas as pd\n",
    "from tqdm import tqdm\n",
    "\n",
    "def cusum_filter(closes: pd.Series, threshold: float) -> pd.DatetimeIndex:\n",
    "    # get tEvents using CUSUM filter\n",
    "    ret = np.log(closes).diff().iloc[1:]\n",
    "    values = ret.values\n",
    "    timestamps = ret.index\n",
    "\n",
    "    t_events_mask = np.zeros_like(values, dtype=bool)\n",
    "\n",
    "    cum_pos, cum_neg = 0.0, 0.0\n",
    "\n",
    "    for i in tqdm(range(len(values))):\n",
    "        cum_pos = max(0.0, cum_pos + values[i])\n",
    "        cum_neg = min(0.0, cum_neg + values[i])\n",
    "\n",
    "        if cum_pos > threshold:\n",
    "            t_events_mask[i] = True\n",
    "            cum_pos = 0.0\n",
    "        elif cum_neg < -threshold:\n",
    "            t_events_mask[i] = True\n",
    "            cum_neg = 0.0\n",
    "\n",
    "    return timestamps[t_events_mask]\n"
   ]
  },
  {
   "cell_type": "code",
   "execution_count": 120,
   "id": "35f0f7b6-3269-4201-ac13-168102e815e2",
   "metadata": {
    "scrolled": true
   },
   "outputs": [
    {
     "name": "stderr",
     "output_type": "stream",
     "text": [
      "100%|█████████████████████████████████████| 371235/371235 [00:00<00:00, 3144057.45it/s]"
     ]
    },
    {
     "name": "stdout",
     "output_type": "stream",
     "text": [
      "CPU times: user 125 ms, sys: 6.61 ms, total: 132 ms\n",
      "Wall time: 128 ms\n"
     ]
    },
    {
     "name": "stderr",
     "output_type": "stream",
     "text": [
      "\n"
     ]
    }
   ],
   "source": [
    "%%time\n",
    "\n",
    "t_events = cusum_filter(df['close'], threshold=THRESHOLD)"
   ]
  },
  {
   "cell_type": "code",
   "execution_count": 121,
   "id": "7622afbc-4d47-451d-81b6-fd890074bb72",
   "metadata": {
    "scrolled": true
   },
   "outputs": [
    {
     "data": {
      "text/plain": [
       "DatetimeIndex(['2024-01-02 01:57:00', '2024-01-02 02:12:00',\n",
       "               '2024-01-02 02:22:00', '2024-01-02 02:40:00',\n",
       "               '2024-01-02 02:53:00', '2024-01-02 03:09:00',\n",
       "               '2024-01-02 03:45:00', '2024-01-02 04:10:00',\n",
       "               '2024-01-02 04:42:00', '2024-01-02 04:58:00',\n",
       "               ...\n",
       "               '2024-12-30 20:31:00', '2024-12-30 20:57:00',\n",
       "               '2024-12-30 21:03:00', '2024-12-30 21:43:00',\n",
       "               '2024-12-30 21:58:00', '2024-12-30 22:05:00',\n",
       "               '2024-12-30 22:52:00', '2024-12-30 23:00:00',\n",
       "               '2024-12-30 23:15:00', '2024-12-30 23:36:00'],\n",
       "              dtype='datetime64[ns]', name='timestamp', length=29678, freq=None)"
      ]
     },
     "execution_count": 121,
     "metadata": {},
     "output_type": "execute_result"
    }
   ],
   "source": [
    "t_events"
   ]
  },
  {
   "cell_type": "code",
   "execution_count": 122,
   "id": "ba074337-74e5-4ac6-81c2-9f0d739b3c1f",
   "metadata": {},
   "outputs": [
    {
     "data": {
      "text/plain": [
       "PosixPath('../data/events/USDJPY-1m-20240101-20241231_CUSUM_0.00031.pkl')"
      ]
     },
     "execution_count": 122,
     "metadata": {},
     "output_type": "execute_result"
    }
   ],
   "source": [
    "EVENT_PATH"
   ]
  },
  {
   "cell_type": "code",
   "execution_count": 123,
   "id": "1f1e7c37-a6d3-40d0-92f9-e655c36a177a",
   "metadata": {},
   "outputs": [],
   "source": [
    "t_events.to_series().to_pickle(EVENT_PATH)"
   ]
  }
 ],
 "metadata": {
  "kernelspec": {
   "display_name": "Python 3 (ipykernel)",
   "language": "python",
   "name": "python3"
  },
  "language_info": {
   "codemirror_mode": {
    "name": "ipython",
    "version": 3
   },
   "file_extension": ".py",
   "mimetype": "text/x-python",
   "name": "python",
   "nbconvert_exporter": "python",
   "pygments_lexer": "ipython3",
   "version": "3.11.13"
  },
  "widgets": {
   "application/vnd.jupyter.widget-state+json": {
    "state": {},
    "version_major": 2,
    "version_minor": 0
   }
  }
 },
 "nbformat": 4,
 "nbformat_minor": 5
}
