{
 "cells": [
  {
   "cell_type": "code",
   "execution_count": 122,
   "id": "8c6d6f1f-0017-4810-9328-099f68c7c6e2",
   "metadata": {},
   "outputs": [],
   "source": [
    "import pandas as pd\n",
    "import numpy as np\n",
    "import matplotlib.pyplot as plt\n",
    "from matplotlib.ticker import FormatStrFormatter\n",
    "\n",
    "import os"
   ]
  },
  {
   "cell_type": "code",
   "execution_count": 123,
   "id": "bf14af0e-a692-419c-a591-5feaf1601bf9",
   "metadata": {},
   "outputs": [],
   "source": [
    "from pathlib import Path\n",
    "\n",
    "# Configurable parts\n",
    "SYMBOL = \"USDJPY\"\n",
    "SAMPLE_TYPE = \"time\"\n",
    "MINUTES = 1\n",
    "DOLLAR_THRESHOLD = \"115009542m\"\n",
    "EVENT_NAME = \"CUSUM\"\n",
    "EVENT_THRESHOLD = 1.69e-04\n",
    "LABEL_NAME = \"TB\"\n",
    "\n",
    "START_DATE = \"20240101\"\n",
    "END_DATE = \"20241231\"\n",
    "\n",
    "# Build base name\n",
    "if SAMPLE_TYPE == \"dollar\":\n",
    "    RESAMPLED_NAME = f\"{SYMBOL}-{DOLLAR_THRESHOLD}-dollar-{START_DATE}-{END_DATE}\"\n",
    "else:\n",
    "    RESAMPLED_NAME = f\"{SYMBOL}-{MINUTES}m-{START_DATE}-{END_DATE}\"\n",
    "\n",
    "# Base directories\n",
    "BASE_DIR = Path(\"../data\")\n",
    "RESAMPLED_DIR = BASE_DIR / \"resampled\"\n",
    "PROCESSED_DIR = BASE_DIR / \"processed\"\n",
    "EVENTS_DIR = BASE_DIR / \"events\"\n",
    "\n",
    "# Final paths\n",
    "RESAMPLED_FILE_PATH = RESAMPLED_DIR / f\"{RESAMPLED_NAME}.pkl\"\n",
    "PROCESSED_FILE_PATH = PROCESSED_DIR / f\"{RESAMPLED_NAME}-processed.pkl\"\n",
    "EVENT_FILE_PATH = EVENTS_DIR / f\"{RESAMPLED_NAME}-{EVENT_NAME}.pkl\""
   ]
  },
  {
   "cell_type": "code",
   "execution_count": 124,
   "id": "c95146f2-e32f-4954-a38e-afd492fa82be",
   "metadata": {},
   "outputs": [],
   "source": [
    "DIRECTION_LABEL_DIR = BASE_DIR / \"direction_labels\"\n",
    "DIRECTION_LABEL_DIR.mkdir(parents=True, exist_ok=True)\n",
    "DIRECTION_LABEL_FILE_PATH = DIRECTION_LABEL_DIR / f\"{RESAMPLED_NAME}-{EVENT_NAME}-{LABEL_NAME}.pkl\""
   ]
  },
  {
   "cell_type": "code",
   "execution_count": 125,
   "id": "79e659aa-5b8f-43d4-aa7f-3fe6cd7e5bd7",
   "metadata": {
    "scrolled": true
   },
   "outputs": [
    {
     "name": "stdout",
     "output_type": "stream",
     "text": [
      "CPU times: user 1.77 ms, sys: 46 ms, total: 47.7 ms\n",
      "Wall time: 63.2 ms\n"
     ]
    }
   ],
   "source": [
    "%%time\n",
    "df = pd.read_pickle(PROCESSED_FILE_PATH)\n",
    "t_events = pd.read_pickle(EVENT_FILE_PATH)"
   ]
  },
  {
   "cell_type": "code",
   "execution_count": 126,
   "id": "f347708b-c829-431f-83be-a98513d8e854",
   "metadata": {},
   "outputs": [
    {
     "data": {
      "text/plain": [
       "Index(['open', 'high', 'low', 'close', 'volume', 'spread', 'close_delta',\n",
       "       'close_return', 'close_log_return', 'ret_mean_5', 'ret_mean_10',\n",
       "       'ret_mean_15', 'ret_mean_20', 'log_volume', 'rv5', 'log_rv5',\n",
       "       'sqrt_rv5', 'rv15', 'log_rv15', 'sqrt_rv15', 'rv50', 'log_rv50',\n",
       "       'sqrt_rv50', 'ema5', 'ema5_slope', 'close_above_ema5', 'ema20',\n",
       "       'ema20_slope', 'close_above_ema20', 'ema50', 'ema50_slope',\n",
       "       'close_above_ema50', 'ema100', 'ema100_slope', 'close_above_ema100',\n",
       "       'atr14', 'atr60', 'atr120', 'log_atr14', 'atr14_percent',\n",
       "       'atr14_adjusted_return', 'log_atr60', 'atr60_percent',\n",
       "       'atr60_adjusted_return', 'log_atr120', 'atr120_percent',\n",
       "       'atr120_adjusted_return', 'adx14', 'plus_di14', 'minus_di14',\n",
       "       'bb_upper', 'bb_lower', 'bb_mavg', 'bb_width', 'bb_position',\n",
       "       'dc20_upper', 'dc20_lower', 'dc20_mid', 'dc20_width',\n",
       "       'close_above_dc20_mid', 'dc20_breakout', 'dc20_breakdown', 'dc50_upper',\n",
       "       'dc50_lower', 'dc50_mid', 'dc50_width', 'close_above_dc50_mid',\n",
       "       'dc50_breakout', 'dc50_breakdown', 'dc100_upper', 'dc100_lower',\n",
       "       'dc100_mid', 'dc100_width', 'close_above_dc100_mid', 'dc100_breakout',\n",
       "       'dc100_breakdown', 'stoch_k', 'stoch_d', 'rsi14', 'rsi14_slope',\n",
       "       'rsi25', 'rsi25_slope', 'rsi50', 'rsi50_slope', 'macd', 'macd_signal',\n",
       "       'macd_diff', 'unix_time', 'hour', 'dow', 'dom', 'month', 'hour_sin',\n",
       "       'hour_cos', 'dow_sin', 'dow_cos', 'dom_sin', 'dom_cos', 'month_sin',\n",
       "       'month_cos'],\n",
       "      dtype='object')"
      ]
     },
     "execution_count": 126,
     "metadata": {},
     "output_type": "execute_result"
    }
   ],
   "source": [
    "df.columns"
   ]
  },
  {
   "cell_type": "code",
   "execution_count": 127,
   "id": "0c4183f5-be41-413c-9747-61ea734787b2",
   "metadata": {},
   "outputs": [
    {
     "data": {
      "text/html": [
       "<div>\n",
       "<style scoped>\n",
       "    .dataframe tbody tr th:only-of-type {\n",
       "        vertical-align: middle;\n",
       "    }\n",
       "\n",
       "    .dataframe tbody tr th {\n",
       "        vertical-align: top;\n",
       "    }\n",
       "\n",
       "    .dataframe thead th {\n",
       "        text-align: right;\n",
       "    }\n",
       "</style>\n",
       "<table border=\"1\" class=\"dataframe\">\n",
       "  <thead>\n",
       "    <tr style=\"text-align: right;\">\n",
       "      <th></th>\n",
       "      <th>open</th>\n",
       "      <th>high</th>\n",
       "      <th>low</th>\n",
       "      <th>close</th>\n",
       "      <th>volume</th>\n",
       "      <th>spread</th>\n",
       "      <th>close_delta</th>\n",
       "      <th>close_return</th>\n",
       "      <th>close_log_return</th>\n",
       "      <th>ret_mean_5</th>\n",
       "      <th>...</th>\n",
       "      <th>dom</th>\n",
       "      <th>month</th>\n",
       "      <th>hour_sin</th>\n",
       "      <th>hour_cos</th>\n",
       "      <th>dow_sin</th>\n",
       "      <th>dow_cos</th>\n",
       "      <th>dom_sin</th>\n",
       "      <th>dom_cos</th>\n",
       "      <th>month_sin</th>\n",
       "      <th>month_cos</th>\n",
       "    </tr>\n",
       "    <tr>\n",
       "      <th>timestamp</th>\n",
       "      <th></th>\n",
       "      <th></th>\n",
       "      <th></th>\n",
       "      <th></th>\n",
       "      <th></th>\n",
       "      <th></th>\n",
       "      <th></th>\n",
       "      <th></th>\n",
       "      <th></th>\n",
       "      <th></th>\n",
       "      <th></th>\n",
       "      <th></th>\n",
       "      <th></th>\n",
       "      <th></th>\n",
       "      <th></th>\n",
       "      <th></th>\n",
       "      <th></th>\n",
       "      <th></th>\n",
       "      <th></th>\n",
       "      <th></th>\n",
       "      <th></th>\n",
       "    </tr>\n",
       "  </thead>\n",
       "  <tbody>\n",
       "    <tr>\n",
       "      <th>2024-01-02 01:57:00</th>\n",
       "      <td>1.103655</td>\n",
       "      <td>1.103660</td>\n",
       "      <td>1.103510</td>\n",
       "      <td>1.103510</td>\n",
       "      <td>1.431400e+11</td>\n",
       "      <td>0.000021</td>\n",
       "      <td>-0.000140</td>\n",
       "      <td>-0.000127</td>\n",
       "      <td>-0.000127</td>\n",
       "      <td>-0.000053</td>\n",
       "      <td>...</td>\n",
       "      <td>2</td>\n",
       "      <td>1</td>\n",
       "      <td>0.258819</td>\n",
       "      <td>0.965926</td>\n",
       "      <td>0.781831</td>\n",
       "      <td>0.62349</td>\n",
       "      <td>0.394356</td>\n",
       "      <td>0.918958</td>\n",
       "      <td>0.5</td>\n",
       "      <td>0.866025</td>\n",
       "    </tr>\n",
       "    <tr>\n",
       "      <th>2024-01-02 02:08:00</th>\n",
       "      <td>1.103350</td>\n",
       "      <td>1.103355</td>\n",
       "      <td>1.103155</td>\n",
       "      <td>1.103225</td>\n",
       "      <td>2.902600e+11</td>\n",
       "      <td>0.000026</td>\n",
       "      <td>-0.000130</td>\n",
       "      <td>-0.000118</td>\n",
       "      <td>-0.000118</td>\n",
       "      <td>-0.000050</td>\n",
       "      <td>...</td>\n",
       "      <td>2</td>\n",
       "      <td>1</td>\n",
       "      <td>0.500000</td>\n",
       "      <td>0.866025</td>\n",
       "      <td>0.781831</td>\n",
       "      <td>0.62349</td>\n",
       "      <td>0.394356</td>\n",
       "      <td>0.918958</td>\n",
       "      <td>0.5</td>\n",
       "      <td>0.866025</td>\n",
       "    </tr>\n",
       "    <tr>\n",
       "      <th>2024-01-02 02:15:00</th>\n",
       "      <td>1.103180</td>\n",
       "      <td>1.103180</td>\n",
       "      <td>1.102985</td>\n",
       "      <td>1.102985</td>\n",
       "      <td>4.581300e+11</td>\n",
       "      <td>0.000024</td>\n",
       "      <td>-0.000210</td>\n",
       "      <td>-0.000190</td>\n",
       "      <td>-0.000190</td>\n",
       "      <td>-0.000054</td>\n",
       "      <td>...</td>\n",
       "      <td>2</td>\n",
       "      <td>1</td>\n",
       "      <td>0.500000</td>\n",
       "      <td>0.866025</td>\n",
       "      <td>0.781831</td>\n",
       "      <td>0.62349</td>\n",
       "      <td>0.394356</td>\n",
       "      <td>0.918958</td>\n",
       "      <td>0.5</td>\n",
       "      <td>0.866025</td>\n",
       "    </tr>\n",
       "    <tr>\n",
       "      <th>2024-01-02 02:25:00</th>\n",
       "      <td>1.102730</td>\n",
       "      <td>1.102740</td>\n",
       "      <td>1.102685</td>\n",
       "      <td>1.102690</td>\n",
       "      <td>1.661900e+11</td>\n",
       "      <td>0.000023</td>\n",
       "      <td>-0.000050</td>\n",
       "      <td>-0.000045</td>\n",
       "      <td>-0.000045</td>\n",
       "      <td>-0.000052</td>\n",
       "      <td>...</td>\n",
       "      <td>2</td>\n",
       "      <td>1</td>\n",
       "      <td>0.500000</td>\n",
       "      <td>0.866025</td>\n",
       "      <td>0.781831</td>\n",
       "      <td>0.62349</td>\n",
       "      <td>0.394356</td>\n",
       "      <td>0.918958</td>\n",
       "      <td>0.5</td>\n",
       "      <td>0.866025</td>\n",
       "    </tr>\n",
       "    <tr>\n",
       "      <th>2024-01-02 02:40:00</th>\n",
       "      <td>1.102585</td>\n",
       "      <td>1.102595</td>\n",
       "      <td>1.102475</td>\n",
       "      <td>1.102475</td>\n",
       "      <td>3.856500e+11</td>\n",
       "      <td>0.000031</td>\n",
       "      <td>-0.000105</td>\n",
       "      <td>-0.000095</td>\n",
       "      <td>-0.000095</td>\n",
       "      <td>-0.000029</td>\n",
       "      <td>...</td>\n",
       "      <td>2</td>\n",
       "      <td>1</td>\n",
       "      <td>0.500000</td>\n",
       "      <td>0.866025</td>\n",
       "      <td>0.781831</td>\n",
       "      <td>0.62349</td>\n",
       "      <td>0.394356</td>\n",
       "      <td>0.918958</td>\n",
       "      <td>0.5</td>\n",
       "      <td>0.866025</td>\n",
       "    </tr>\n",
       "  </tbody>\n",
       "</table>\n",
       "<p>5 rows × 100 columns</p>\n",
       "</div>"
      ],
      "text/plain": [
       "                         open      high       low     close        volume  \\\n",
       "timestamp                                                                   \n",
       "2024-01-02 01:57:00  1.103655  1.103660  1.103510  1.103510  1.431400e+11   \n",
       "2024-01-02 02:08:00  1.103350  1.103355  1.103155  1.103225  2.902600e+11   \n",
       "2024-01-02 02:15:00  1.103180  1.103180  1.102985  1.102985  4.581300e+11   \n",
       "2024-01-02 02:25:00  1.102730  1.102740  1.102685  1.102690  1.661900e+11   \n",
       "2024-01-02 02:40:00  1.102585  1.102595  1.102475  1.102475  3.856500e+11   \n",
       "\n",
       "                       spread  close_delta  close_return  close_log_return  \\\n",
       "timestamp                                                                    \n",
       "2024-01-02 01:57:00  0.000021    -0.000140     -0.000127         -0.000127   \n",
       "2024-01-02 02:08:00  0.000026    -0.000130     -0.000118         -0.000118   \n",
       "2024-01-02 02:15:00  0.000024    -0.000210     -0.000190         -0.000190   \n",
       "2024-01-02 02:25:00  0.000023    -0.000050     -0.000045         -0.000045   \n",
       "2024-01-02 02:40:00  0.000031    -0.000105     -0.000095         -0.000095   \n",
       "\n",
       "                     ret_mean_5  ...  dom  month  hour_sin  hour_cos  \\\n",
       "timestamp                        ...                                   \n",
       "2024-01-02 01:57:00   -0.000053  ...    2      1  0.258819  0.965926   \n",
       "2024-01-02 02:08:00   -0.000050  ...    2      1  0.500000  0.866025   \n",
       "2024-01-02 02:15:00   -0.000054  ...    2      1  0.500000  0.866025   \n",
       "2024-01-02 02:25:00   -0.000052  ...    2      1  0.500000  0.866025   \n",
       "2024-01-02 02:40:00   -0.000029  ...    2      1  0.500000  0.866025   \n",
       "\n",
       "                      dow_sin  dow_cos   dom_sin   dom_cos  month_sin  \\\n",
       "timestamp                                                               \n",
       "2024-01-02 01:57:00  0.781831  0.62349  0.394356  0.918958        0.5   \n",
       "2024-01-02 02:08:00  0.781831  0.62349  0.394356  0.918958        0.5   \n",
       "2024-01-02 02:15:00  0.781831  0.62349  0.394356  0.918958        0.5   \n",
       "2024-01-02 02:25:00  0.781831  0.62349  0.394356  0.918958        0.5   \n",
       "2024-01-02 02:40:00  0.781831  0.62349  0.394356  0.918958        0.5   \n",
       "\n",
       "                     month_cos  \n",
       "timestamp                       \n",
       "2024-01-02 01:57:00   0.866025  \n",
       "2024-01-02 02:08:00   0.866025  \n",
       "2024-01-02 02:15:00   0.866025  \n",
       "2024-01-02 02:25:00   0.866025  \n",
       "2024-01-02 02:40:00   0.866025  \n",
       "\n",
       "[5 rows x 100 columns]"
      ]
     },
     "execution_count": 127,
     "metadata": {},
     "output_type": "execute_result"
    }
   ],
   "source": [
    "df.loc[t_events].head()"
   ]
  },
  {
   "cell_type": "markdown",
   "id": "6c93411b-4eac-441d-ba4b-13ac064fe2ea",
   "metadata": {},
   "source": [
    "## Calculate Target Volatility (trgt)\n",
    "This will be used for the calculation of dynamic TP/SL"
   ]
  },
  {
   "cell_type": "code",
   "execution_count": 128,
   "id": "df790074-e2bd-4e8b-94f0-06aaac5a92d5",
   "metadata": {},
   "outputs": [],
   "source": [
    "def get_daily_vol(close,span0=100):\n",
    "    # daily vol reindexed to close\n",
    "    df0=close.index.searchsorted(close.index-pd.Timedelta(days=1))\n",
    "    #bp()\n",
    "    df0=df0[df0>0]\n",
    "    #bp()\n",
    "    df0=(pd.Series(close.index[df0-1],\n",
    "                   index=close.index[close.shape[0]-df0.shape[0]:]))\n",
    "    #bp()\n",
    "    try:\n",
    "        df0=close.loc[df0.index]/close.loc[df0.values].values-1 # daily rets\n",
    "    except Exception as e:\n",
    "        print(e)\n",
    "        print('adjusting shape of close.loc[df0.index]')\n",
    "        cut = close.loc[df0.index].shape[0] - close.loc[df0.values].shape[0]\n",
    "        df0=close.loc[df0.index].iloc[:-cut]/close.loc[df0.values].values-1\n",
    "    df0=df0.ewm(span=span0).std().rename('dailyVol')\n",
    "    return df0"
   ]
  },
  {
   "cell_type": "code",
   "execution_count": 129,
   "id": "0eb0f22e-1ff3-4aeb-a943-feef9caa6687",
   "metadata": {},
   "outputs": [],
   "source": [
    "from ta.volatility import AverageTrueRange\n",
    "\n",
    "def get_atr(df, window=60):\n",
    "    atr = AverageTrueRange(high=df['high'], low=df['low'], close=df['close'], window=window)\n",
    "    return atr.average_true_range().rename(f\"atr{window}\")"
   ]
  },
  {
   "cell_type": "code",
   "execution_count": 130,
   "id": "9856f5e4-1f97-4e9a-a0c4-d971c1f91208",
   "metadata": {},
   "outputs": [],
   "source": [
    "trgt = get_daily_vol(df['close']).reindex(t_events, method='ffill')"
   ]
  },
  {
   "cell_type": "code",
   "execution_count": 131,
   "id": "585340eb-5012-4873-9826-9f9f7bc87edd",
   "metadata": {},
   "outputs": [],
   "source": [
    "alpha = 1.5  # 你要的寬度倍數\n",
    "atr = get_atr(df, window=20)                    # 價格單位\n",
    "atr_rel = (atr / df['close']).shift(1)          # 轉成相對幅度，並用前一根避免洩漏\n",
    "trgt = (alpha * atr_rel).reindex(t_events, method='ffill')  # 對齊事件"
   ]
  },
  {
   "cell_type": "code",
   "execution_count": 132,
   "id": "4a16f765-1c31-487d-b600-ed3f6dbd936b",
   "metadata": {
    "scrolled": true
   },
   "outputs": [
    {
     "data": {
      "text/plain": [
       "count    39038.000000\n",
       "mean         0.000244\n",
       "std          0.000151\n",
       "min          0.000000\n",
       "25%          0.000143\n",
       "50%          0.000205\n",
       "75%          0.000301\n",
       "max          0.001517\n",
       "dtype: float64"
      ]
     },
     "execution_count": 132,
     "metadata": {},
     "output_type": "execute_result"
    }
   ],
   "source": [
    "trgt.describe()"
   ]
  },
  {
   "cell_type": "markdown",
   "id": "21841f1a-8cbd-46bf-bd31-3662c1e904b1",
   "metadata": {},
   "source": [
    "## Apply Triple Barrier\n",
    "We use daily volatility to calculate TP/SL, and we set our T1 as 1day"
   ]
  },
  {
   "cell_type": "code",
   "execution_count": 133,
   "id": "228a82bd-4870-4c7c-bf0a-3456b9893997",
   "metadata": {},
   "outputs": [],
   "source": [
    "from concurrent.futures import ThreadPoolExecutor\n",
    "import numpy as np\n",
    "import pandas as pd\n",
    "\n",
    "def applyPtSlOnT1(close,events,ptSl,molecule):\n",
    "    # apply stop loss/profit taking, if it takes place before t1 (end of event)\n",
    "    events_=events.loc[molecule]\n",
    "    out=events_[['t1']].copy(deep=True)\n",
    "    \n",
    "    pt = ptSl[0] * events_['trgt'] if ptSl[0] > 0 else pd.Series(index=events.index)\n",
    "    sl = -ptSl[1] * events_['trgt'] if ptSl[1] > 0 else pd.Series(index=events.index)\n",
    "\n",
    "        \n",
    "    for loc, t1 in events_['t1'].fillna(close.index[-1]).items():\n",
    "        df0=close[loc:t1] # path prices\n",
    "        df0=(df0/close[loc]-1)*events_.at[loc,'side'] # path returns\n",
    "        out.loc[loc,'sl']=df0[df0<sl[loc]].index.min() # earliest stop loss\n",
    "        out.loc[loc,'pt']=df0[df0>pt[loc]].index.min() # earliest profit taking\n",
    "        \n",
    "    return out\n",
    "\n",
    "\n",
    "def parallel_apply(func, items, num_threads=4, **kwargs):\n",
    "    \n",
    "    def worker(molecule):\n",
    "        return func(molecule=molecule, **kwargs)\n",
    "\n",
    "    chunks = np.array_split(items, num_threads)\n",
    "    \n",
    "    with ThreadPoolExecutor(max_workers=num_threads) as executor:\n",
    "        results = list(executor.map(worker, chunks))\n",
    "\n",
    "    return pd.concat(results).sort_index()\n",
    "\n",
    "\n",
    "def getEvents(close, tEvents, ptSl, trgt, minTrgt, numThreads=4, t1=False, side=None):\n",
    "    # Step 1: Filter targets\n",
    "    trgt = trgt.loc[tEvents]\n",
    "    trgt = trgt[trgt > minTrgt]\n",
    "\n",
    "    # Step 2: Set vertical barrier (t1)\n",
    "    if t1 is False:\n",
    "        t1 = pd.Series(pd.NaT, index=tEvents)\n",
    "\n",
    "    # Step 3: Build events DataFrame\n",
    "    if side is None:\n",
    "        side_, ptSl_ = pd.Series(1., index=trgt.index), [ptSl[0], ptSl[0]]\n",
    "    else:\n",
    "        side_, ptSl_ = side.loc[trgt.index], ptSl[:2]\n",
    "\n",
    "    events = pd.concat({'t1': t1, 'trgt': trgt, 'side': side_}, axis=1).dropna(subset=['trgt'])\n",
    "\n",
    "    # Step 4: Apply barriers in parallel\n",
    "    df0 = parallel_apply(\n",
    "        func=applyPtSlOnT1,\n",
    "        items=events.index,\n",
    "        num_threads=numThreads,\n",
    "        close=close,\n",
    "        events=events,\n",
    "        ptSl=ptSl_\n",
    "    )\n",
    "\n",
    "    # Step 5: Choose the first touched barrier\n",
    "    events['t1'] = df0.dropna(how='all').min(axis=1)\n",
    "    \n",
    "    if side is None:\n",
    "        events = events.drop('side', axis=1)\n",
    "        \n",
    "    return events\n"
   ]
  },
  {
   "cell_type": "code",
   "execution_count": 134,
   "id": "1c4cb836-44c5-4ec8-a5bc-79982eb1daf8",
   "metadata": {},
   "outputs": [],
   "source": [
    "def get_vertical_barrier(t_events, close, delta=pd.Timedelta(minutes=60)):\n",
    "    \"\"\"\n",
    "    For each event in t_events, find the timestamp in close.index \n",
    "    that is at least delta later. Returns a pd.Series of t1.\n",
    "    \"\"\"\n",
    "    barrier_times = t_events + delta\n",
    "    t1_idx = close.index.searchsorted(barrier_times)\n",
    "    valid_idx = t1_idx[t1_idx < len(close)]\n",
    "    t1 = pd.Series(close.index[valid_idx], index=t_events[:len(valid_idx)])\n",
    "    return t1"
   ]
  },
  {
   "cell_type": "code",
   "execution_count": 135,
   "id": "c1c542ed-24cc-4403-b3ca-e01fd931484a",
   "metadata": {},
   "outputs": [],
   "source": [
    "t1 = get_vertical_barrier(t_events, df['close'], delta=pd.Timedelta(minutes=30))"
   ]
  },
  {
   "cell_type": "code",
   "execution_count": 136,
   "id": "2666c0a7-7347-427a-a815-6299967b7671",
   "metadata": {
    "scrolled": true
   },
   "outputs": [
    {
     "data": {
      "text/plain": [
       "timestamp\n",
       "2024-01-02 01:57:00   2024-01-02 02:27:00\n",
       "2024-01-02 02:08:00   2024-01-02 02:38:00\n",
       "2024-01-02 02:15:00   2024-01-02 02:45:00\n",
       "2024-01-02 02:25:00   2024-01-02 02:55:00\n",
       "2024-01-02 02:40:00   2024-01-02 03:10:00\n",
       "                              ...        \n",
       "2024-12-30 22:05:00   2024-12-30 22:35:00\n",
       "2024-12-30 22:50:00   2024-12-30 23:20:00\n",
       "2024-12-30 23:00:00   2024-12-30 23:30:00\n",
       "2024-12-30 23:09:00   2024-12-30 23:39:00\n",
       "2024-12-30 23:15:00   2024-12-30 23:45:00\n",
       "Name: timestamp, Length: 39037, dtype: datetime64[ns]"
      ]
     },
     "execution_count": 136,
     "metadata": {},
     "output_type": "execute_result"
    }
   ],
   "source": [
    "t1"
   ]
  },
  {
   "cell_type": "code",
   "execution_count": 137,
   "id": "eecf7e7f-ac8b-494b-8e37-e3def199856a",
   "metadata": {},
   "outputs": [
    {
     "data": {
      "text/plain": [
       "count    39038.000000\n",
       "mean         0.000244\n",
       "std          0.000151\n",
       "min          0.000000\n",
       "25%          0.000143\n",
       "50%          0.000205\n",
       "75%          0.000301\n",
       "max          0.001517\n",
       "dtype: float64"
      ]
     },
     "execution_count": 137,
     "metadata": {},
     "output_type": "execute_result"
    }
   ],
   "source": [
    "trgt.describe()"
   ]
  },
  {
   "cell_type": "code",
   "execution_count": 138,
   "id": "485d4f61-8f96-47ed-8df0-1da3d1e1f99d",
   "metadata": {},
   "outputs": [
    {
     "data": {
      "text/plain": [
       "np.float64(0.00015532707052898375)"
      ]
     },
     "execution_count": 138,
     "metadata": {},
     "output_type": "execute_result"
    }
   ],
   "source": [
    "minTrgt = trgt.quantile(.3)\n",
    "minTrgt"
   ]
  },
  {
   "cell_type": "code",
   "execution_count": 139,
   "id": "aad0bc6e-3302-45e5-b64b-bcebfab3db4c",
   "metadata": {},
   "outputs": [
    {
     "name": "stdout",
     "output_type": "stream",
     "text": [
      "CPU times: user 6.61 s, sys: 402 ms, total: 7.01 s\n",
      "Wall time: 6.67 s\n"
     ]
    }
   ],
   "source": [
    "%%time\n",
    "\n",
    "events = getEvents(\n",
    "    close=df['close'],\n",
    "    tEvents=t_events, \n",
    "    ptSl=[1,1], \n",
    "    trgt=trgt, \n",
    "    minTrgt=minTrgt, \n",
    "    numThreads=20, \n",
    "    t1=t1, \n",
    "    side=None\n",
    ")"
   ]
  },
  {
   "cell_type": "code",
   "execution_count": 140,
   "id": "9957def4-4cb8-40cf-a103-76098e8b739e",
   "metadata": {},
   "outputs": [
    {
     "data": {
      "text/html": [
       "<div>\n",
       "<style scoped>\n",
       "    .dataframe tbody tr th:only-of-type {\n",
       "        vertical-align: middle;\n",
       "    }\n",
       "\n",
       "    .dataframe tbody tr th {\n",
       "        vertical-align: top;\n",
       "    }\n",
       "\n",
       "    .dataframe thead th {\n",
       "        text-align: right;\n",
       "    }\n",
       "</style>\n",
       "<table border=\"1\" class=\"dataframe\">\n",
       "  <thead>\n",
       "    <tr style=\"text-align: right;\">\n",
       "      <th></th>\n",
       "      <th>t1</th>\n",
       "      <th>trgt</th>\n",
       "    </tr>\n",
       "    <tr>\n",
       "      <th>timestamp</th>\n",
       "      <th></th>\n",
       "      <th></th>\n",
       "    </tr>\n",
       "  </thead>\n",
       "  <tbody>\n",
       "    <tr>\n",
       "      <th>2024-01-02 07:07:00</th>\n",
       "      <td>2024-01-02 07:09:00</td>\n",
       "      <td>0.000179</td>\n",
       "    </tr>\n",
       "    <tr>\n",
       "      <th>2024-01-02 07:15:00</th>\n",
       "      <td>2024-01-02 07:24:00</td>\n",
       "      <td>0.000199</td>\n",
       "    </tr>\n",
       "    <tr>\n",
       "      <th>2024-01-02 07:23:00</th>\n",
       "      <td>2024-01-02 07:24:00</td>\n",
       "      <td>0.000213</td>\n",
       "    </tr>\n",
       "    <tr>\n",
       "      <th>2024-01-02 07:24:00</th>\n",
       "      <td>2024-01-02 07:41:00</td>\n",
       "      <td>0.000228</td>\n",
       "    </tr>\n",
       "    <tr>\n",
       "      <th>2024-01-02 07:40:00</th>\n",
       "      <td>2024-01-02 07:44:00</td>\n",
       "      <td>0.000240</td>\n",
       "    </tr>\n",
       "  </tbody>\n",
       "</table>\n",
       "</div>"
      ],
      "text/plain": [
       "                                     t1      trgt\n",
       "timestamp                                        \n",
       "2024-01-02 07:07:00 2024-01-02 07:09:00  0.000179\n",
       "2024-01-02 07:15:00 2024-01-02 07:24:00  0.000199\n",
       "2024-01-02 07:23:00 2024-01-02 07:24:00  0.000213\n",
       "2024-01-02 07:24:00 2024-01-02 07:41:00  0.000228\n",
       "2024-01-02 07:40:00 2024-01-02 07:44:00  0.000240"
      ]
     },
     "execution_count": 140,
     "metadata": {},
     "output_type": "execute_result"
    }
   ],
   "source": [
    "events.head()"
   ]
  },
  {
   "cell_type": "code",
   "execution_count": 141,
   "id": "4a5aeeb1-f536-4089-918f-b4b1f4722d53",
   "metadata": {},
   "outputs": [],
   "source": [
    "events = events.dropna().copy()"
   ]
  },
  {
   "cell_type": "markdown",
   "id": "8ee81137-c135-429c-8eb4-e119dd90e81b",
   "metadata": {},
   "source": [
    "# Keep only intraday events"
   ]
  },
  {
   "cell_type": "code",
   "execution_count": 142,
   "id": "5c86ef05-1f38-45c7-8a72-6bf47b0f0711",
   "metadata": {},
   "outputs": [],
   "source": [
    "events = events[events.index.date==events.t1.dt.date]"
   ]
  },
  {
   "cell_type": "markdown",
   "id": "aab67fbb-c308-49a4-b962-c683b44eaeee",
   "metadata": {},
   "source": [
    "## Create classification labels"
   ]
  },
  {
   "cell_type": "code",
   "execution_count": 143,
   "id": "418be389-de4d-4684-8817-239f42addbe3",
   "metadata": {},
   "outputs": [],
   "source": [
    "def getBins(events, close, minRet=0.0, t1=None):\n",
    "    '''\n",
    "    Compute event's outcome (including side information, if provided).\n",
    "    events is a DataFrame where:\n",
    "    -events.index is event's starttime\n",
    "    -events['t1'] is event's endtime\n",
    "    -events['trgt'] is event's target\n",
    "    -events['side'] (optional) implies the algo's position side\n",
    "    -t1 is original vertical barrier series\n",
    "    Case 1: ('side' not in events): bin in (-1,1) <-label by price action\n",
    "    Case 2: ('side' in events): bin in (0,1) <-label by pnl (meta-labeling)\n",
    "    '''\n",
    "    # 1) prices aligned with events\n",
    "    events_ = events.dropna(subset=['t1'])\n",
    "    px = events_.index.union(events_['t1'].values).drop_duplicates()\n",
    "    px = close.reindex(px, method='bfill')\n",
    "    # 2) create out object\n",
    "    out = pd.DataFrame(index=events_.index)\n",
    "    out['ret'] = px.loc[events_['t1'].values].values / px.loc[\n",
    "        events_.index] - 1\n",
    "    if 'side' in events_: out['ret'] *= events_['side']  # meta-labeling\n",
    "    out['bin'] = np.sign(out['ret'])\n",
    "\n",
    "    if 'side' not in events_:\n",
    "        # only applies when not meta-labeling.\n",
    "        # to update bin to 0 when vertical barrier is touched, we need the\n",
    "        # original vertical barrier series since the events['t1'] is the time\n",
    "        # of first touch of any barrier and not the vertical barrier\n",
    "        # specifically. The index of the intersection of the vertical barrier\n",
    "        # values and the events['t1'] values indicate which bin labels needs\n",
    "        # to be turned to 0.\n",
    "        vtouch_first_idx = events[events['t1'].isin(t1.values)].index\n",
    "        out.loc[vtouch_first_idx, 'bin'] = 0.\n",
    "\n",
    "    if 'side' in events_: out.loc[out['ret'] <= 0, 'bin'] = 0  # meta-labeling\n",
    "    out.loc[out['ret'].abs() < minRet, 'bin'] = 0. # 不做獲利過少的交易 (設為 0)\n",
    "    # out = out.loc[out['ret'].abs() >= minRet] # 過濾掉獲利過少的交易 (刪掉)\n",
    "    return out"
   ]
  },
  {
   "cell_type": "code",
   "execution_count": 144,
   "id": "b6456d95-60e3-4e68-9784-05d0c809d385",
   "metadata": {
    "scrolled": true
   },
   "outputs": [],
   "source": [
    "labels = getBins(events, df['close'], minRet=0.00018, t1=t1)"
   ]
  },
  {
   "cell_type": "code",
   "execution_count": 145,
   "id": "687c024c-3833-4172-9d78-97341326918f",
   "metadata": {},
   "outputs": [
    {
     "name": "stdout",
     "output_type": "stream",
     "text": [
      "count    27312.000000\n",
      "mean         0.000392\n",
      "std          0.000237\n",
      "min          0.000000\n",
      "25%          0.000247\n",
      "50%          0.000326\n",
      "75%          0.000461\n",
      "max          0.004929\n",
      "Name: ret, dtype: float64\n",
      "0.0002633689790202176\n"
     ]
    }
   ],
   "source": [
    "print(labels.ret.abs().describe())\n",
    "print(labels.ret.abs().quantile(.3))"
   ]
  },
  {
   "cell_type": "code",
   "execution_count": 146,
   "id": "77797461-e6ba-4f39-abe8-490d69bcbbdf",
   "metadata": {},
   "outputs": [
    {
     "data": {
      "text/plain": [
       "bin\n",
       " 1.0    10189\n",
       "-1.0    10184\n",
       " 0.0     6939\n",
       "Name: count, dtype: int64"
      ]
     },
     "execution_count": 146,
     "metadata": {},
     "output_type": "execute_result"
    }
   ],
   "source": [
    "labels.bin.value_counts()"
   ]
  },
  {
   "cell_type": "code",
   "execution_count": 147,
   "id": "acd4019c-4d46-4825-a78c-b89aa690a975",
   "metadata": {},
   "outputs": [],
   "source": [
    "labels[\"bin_class\"] = labels[\"bin\"] + 1"
   ]
  },
  {
   "cell_type": "code",
   "execution_count": 148,
   "id": "0a0bdb6d-6728-4e5b-81b5-37524fbd69bc",
   "metadata": {},
   "outputs": [],
   "source": [
    "labeled_events = events.join(labels, how='inner')"
   ]
  },
  {
   "cell_type": "code",
   "execution_count": 149,
   "id": "d98e772d-a880-4563-b0ba-669f05206956",
   "metadata": {},
   "outputs": [
    {
     "data": {
      "text/html": [
       "<div>\n",
       "<style scoped>\n",
       "    .dataframe tbody tr th:only-of-type {\n",
       "        vertical-align: middle;\n",
       "    }\n",
       "\n",
       "    .dataframe tbody tr th {\n",
       "        vertical-align: top;\n",
       "    }\n",
       "\n",
       "    .dataframe thead th {\n",
       "        text-align: right;\n",
       "    }\n",
       "</style>\n",
       "<table border=\"1\" class=\"dataframe\">\n",
       "  <thead>\n",
       "    <tr style=\"text-align: right;\">\n",
       "      <th></th>\n",
       "      <th>t1</th>\n",
       "      <th>trgt</th>\n",
       "      <th>ret</th>\n",
       "      <th>bin</th>\n",
       "      <th>bin_class</th>\n",
       "    </tr>\n",
       "    <tr>\n",
       "      <th>timestamp</th>\n",
       "      <th></th>\n",
       "      <th></th>\n",
       "      <th></th>\n",
       "      <th></th>\n",
       "      <th></th>\n",
       "    </tr>\n",
       "  </thead>\n",
       "  <tbody>\n",
       "    <tr>\n",
       "      <th>2024-01-02 07:07:00</th>\n",
       "      <td>2024-01-02 07:09:00</td>\n",
       "      <td>0.000179</td>\n",
       "      <td>-0.000186</td>\n",
       "      <td>-1.0</td>\n",
       "      <td>0.0</td>\n",
       "    </tr>\n",
       "    <tr>\n",
       "      <th>2024-01-02 07:15:00</th>\n",
       "      <td>2024-01-02 07:24:00</td>\n",
       "      <td>0.000199</td>\n",
       "      <td>0.000422</td>\n",
       "      <td>1.0</td>\n",
       "      <td>2.0</td>\n",
       "    </tr>\n",
       "    <tr>\n",
       "      <th>2024-01-02 07:23:00</th>\n",
       "      <td>2024-01-02 07:24:00</td>\n",
       "      <td>0.000213</td>\n",
       "      <td>0.000258</td>\n",
       "      <td>1.0</td>\n",
       "      <td>2.0</td>\n",
       "    </tr>\n",
       "    <tr>\n",
       "      <th>2024-01-02 07:24:00</th>\n",
       "      <td>2024-01-02 07:41:00</td>\n",
       "      <td>0.000228</td>\n",
       "      <td>-0.000272</td>\n",
       "      <td>-1.0</td>\n",
       "      <td>0.0</td>\n",
       "    </tr>\n",
       "    <tr>\n",
       "      <th>2024-01-02 07:40:00</th>\n",
       "      <td>2024-01-02 07:44:00</td>\n",
       "      <td>0.000240</td>\n",
       "      <td>-0.000349</td>\n",
       "      <td>-1.0</td>\n",
       "      <td>0.0</td>\n",
       "    </tr>\n",
       "  </tbody>\n",
       "</table>\n",
       "</div>"
      ],
      "text/plain": [
       "                                     t1      trgt       ret  bin  bin_class\n",
       "timestamp                                                                  \n",
       "2024-01-02 07:07:00 2024-01-02 07:09:00  0.000179 -0.000186 -1.0        0.0\n",
       "2024-01-02 07:15:00 2024-01-02 07:24:00  0.000199  0.000422  1.0        2.0\n",
       "2024-01-02 07:23:00 2024-01-02 07:24:00  0.000213  0.000258  1.0        2.0\n",
       "2024-01-02 07:24:00 2024-01-02 07:41:00  0.000228 -0.000272 -1.0        0.0\n",
       "2024-01-02 07:40:00 2024-01-02 07:44:00  0.000240 -0.000349 -1.0        0.0"
      ]
     },
     "execution_count": 149,
     "metadata": {},
     "output_type": "execute_result"
    }
   ],
   "source": [
    "labeled_events.head()"
   ]
  },
  {
   "cell_type": "markdown",
   "id": "3af8865a-8684-4dc0-b539-9fba6ad656e2",
   "metadata": {},
   "source": [
    "## Calculate Concurrency"
   ]
  },
  {
   "cell_type": "markdown",
   "id": "07744c36-c564-4cee-ba64-d3d1fc83c9fd",
   "metadata": {},
   "source": [
    "def get_concurrency(events, price_index):\n",
    "    \"\"\"\n",
    "    Calculate concurrency: number of overlapping events at each time.\n",
    "    \n",
    "    Args:\n",
    "        events (pd.DataFrame): Must have 't1' column with index as start time.\n",
    "        price_index (pd.DatetimeIndex): Full time index (e.g., from your OHLCV data).\n",
    "        \n",
    "    Returns:\n",
    "        pd.Series: concurrency count indexed by time.\n",
    "    \"\"\"\n",
    "    concurrency = pd.Series(0, index=price_index)\n",
    "\n",
    "    for start, end in events['t1'].items():\n",
    "        concurrency[start:end] += 1\n",
    "\n",
    "    return concurrency\n"
   ]
  },
  {
   "cell_type": "markdown",
   "id": "d784c54d-8874-4668-9061-529b0c4a26d8",
   "metadata": {
    "scrolled": true
   },
   "source": [
    "# Let's say your OHLCV data or close series has this index\n",
    "price_index = df.index  # or df_ohlcv.index\n",
    "\n",
    "concurrency = get_concurrency(events=labeled_events, price_index=price_index)"
   ]
  },
  {
   "cell_type": "markdown",
   "id": "1cce0c11-7177-4523-af3a-698ab6f018fe",
   "metadata": {
    "scrolled": true
   },
   "source": [
    "plt.hist(concurrency)"
   ]
  },
  {
   "cell_type": "markdown",
   "id": "04e1d417-f66b-4226-9405-b1a7aa139714",
   "metadata": {},
   "source": [
    "## Save events to disk"
   ]
  },
  {
   "cell_type": "code",
   "execution_count": 150,
   "id": "c0da0c87-e344-4aee-ad9c-f24b36ffaed5",
   "metadata": {},
   "outputs": [],
   "source": [
    "labeled_events.to_pickle(DIRECTION_LABEL_FILE_PATH)"
   ]
  },
  {
   "cell_type": "code",
   "execution_count": 151,
   "id": "7672bf3e-28cf-41fd-ac2c-f6b453930c77",
   "metadata": {},
   "outputs": [
    {
     "data": {
      "text/plain": [
       "PosixPath('../data/direction_labels/USDJPY-1m-20240101-20241231-CUSUM-TB.pkl')"
      ]
     },
     "execution_count": 151,
     "metadata": {},
     "output_type": "execute_result"
    }
   ],
   "source": [
    "DIRECTION_LABEL_FILE_PATH"
   ]
  }
 ],
 "metadata": {
  "kernelspec": {
   "display_name": "Python 3 (ipykernel)",
   "language": "python",
   "name": "python3"
  },
  "language_info": {
   "codemirror_mode": {
    "name": "ipython",
    "version": 3
   },
   "file_extension": ".py",
   "mimetype": "text/x-python",
   "name": "python",
   "nbconvert_exporter": "python",
   "pygments_lexer": "ipython3",
   "version": "3.11.13"
  },
  "widgets": {
   "application/vnd.jupyter.widget-state+json": {
    "state": {},
    "version_major": 2,
    "version_minor": 0
   }
  }
 },
 "nbformat": 4,
 "nbformat_minor": 5
}
