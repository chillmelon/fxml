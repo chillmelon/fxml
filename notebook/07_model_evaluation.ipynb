{
 "cells": [
  {
   "cell_type": "markdown",
   "id": "22aaf92a-192a-49af-a2ff-4daab47dcf18",
   "metadata": {},
   "source": [
    "## Loading Data"
   ]
  },
  {
   "cell_type": "code",
   "execution_count": 1,
   "id": "a3148e2f-72ca-436e-abb6-bcaa39532455",
   "metadata": {},
   "outputs": [],
   "source": [
    "import os\n",
    "import sys\n",
    "module_path = os.path.abspath(os.path.join('..'))\n",
    "if module_path not in sys.path:\n",
    "    sys.path.append(module_path)"
   ]
  },
  {
   "cell_type": "code",
   "execution_count": 2,
   "id": "f524fd20-0c4e-426c-97fd-d0e73f1bb6e1",
   "metadata": {},
   "outputs": [],
   "source": [
    "import pandas as pd\n",
    "from torch.utils.data import DataLoader\n",
    "from dataset.dataset import ForexDataset\n",
    "from utils import get_sequence_start_indices"
   ]
  },
  {
   "cell_type": "code",
   "execution_count": 3,
   "id": "e53f6b5a-d9f7-4b28-a1cb-24b4cbe240f2",
   "metadata": {},
   "outputs": [],
   "source": [
    "# === CONFIG ===\n",
    "CHECKPOINT_PATH = r'..\\lightning_logs\\gru_m5\\version_1\\checkpoints\\best_checkpoint.ckpt'\n",
    "\n",
    "DATA_PATH = \"../data/processed/usdjpy-bar-2025-01-01-2025-05-12_processed.pkl\"\n",
    "FEATURES_COLS = ['label']\n",
    "SEQUENCE_LENGTH = 6\n",
    "TARGET_COLS = ['label']\n",
    "HORIZON = 1\n",
    "STRIDE = 1"
   ]
  },
  {
   "cell_type": "code",
   "execution_count": 4,
   "id": "2caf8544-e853-49f4-ac59-68e9970b18d0",
   "metadata": {},
   "outputs": [],
   "source": [
    "df = pd.read_pickle(DATA_PATH)\n",
    "\n",
    "IDs = get_sequence_start_indices(\n",
    "    df,\n",
    "    sequence_length=SEQUENCE_LENGTH,\n",
    "    horizon=HORIZON,\n",
    "    stride=STRIDE,\n",
    "    group_col='time_group',\n",
    ")\n",
    "\n",
    "test_dataset = ForexDataset(\n",
    "    df, IDs, SEQUENCE_LENGTH, HORIZON, FEATURES_COLS, TARGET_COLS\n",
    ")\n",
    "\n",
    "test_loader = DataLoader(\n",
    "    test_dataset,\n",
    "    batch_size=1024,\n",
    "    shuffle=False\n",
    ")"
   ]
  },
  {
   "cell_type": "code",
   "execution_count": 15,
   "id": "424945b3-c753-4e75-829f-8ac4f3a4e9fd",
   "metadata": {},
   "outputs": [
    {
     "data": {
      "text/plain": [
       "9"
      ]
     },
     "execution_count": 15,
     "metadata": {},
     "output_type": "execute_result"
    }
   ],
   "source": [
    "idx = IDs[0]\n",
    "idx"
   ]
  },
  {
   "cell_type": "code",
   "execution_count": 16,
   "id": "2f1e9c59-84af-4a17-92a4-9e31c661efe0",
   "metadata": {},
   "outputs": [
    {
     "data": {
      "text/html": [
       "<div>\n",
       "<style scoped>\n",
       "    .dataframe tbody tr th:only-of-type {\n",
       "        vertical-align: middle;\n",
       "    }\n",
       "\n",
       "    .dataframe tbody tr th {\n",
       "        vertical-align: top;\n",
       "    }\n",
       "\n",
       "    .dataframe thead th {\n",
       "        text-align: right;\n",
       "    }\n",
       "</style>\n",
       "<table border=\"1\" class=\"dataframe\">\n",
       "  <thead>\n",
       "    <tr style=\"text-align: right;\">\n",
       "      <th></th>\n",
       "      <th>timestamp</th>\n",
       "      <th>open</th>\n",
       "      <th>high</th>\n",
       "      <th>low</th>\n",
       "      <th>close</th>\n",
       "      <th>volume</th>\n",
       "      <th>time_group</th>\n",
       "      <th>close_delta</th>\n",
       "      <th>close_return</th>\n",
       "      <th>close_direction</th>\n",
       "      <th>prob_down</th>\n",
       "      <th>prob_flat</th>\n",
       "      <th>prob_up</th>\n",
       "      <th>label</th>\n",
       "    </tr>\n",
       "  </thead>\n",
       "  <tbody>\n",
       "    <tr>\n",
       "      <th>9</th>\n",
       "      <td>2025-01-01 22:15:00</td>\n",
       "      <td>157.2400</td>\n",
       "      <td>157.240</td>\n",
       "      <td>157.2370</td>\n",
       "      <td>157.2375</td>\n",
       "      <td>12.000000</td>\n",
       "      <td>2</td>\n",
       "      <td>0.0000</td>\n",
       "      <td>0.000000</td>\n",
       "      <td>flat</td>\n",
       "      <td>0.0</td>\n",
       "      <td>1.0</td>\n",
       "      <td>0.0</td>\n",
       "      <td>1</td>\n",
       "    </tr>\n",
       "    <tr>\n",
       "      <th>10</th>\n",
       "      <td>2025-01-01 22:16:00</td>\n",
       "      <td>157.2400</td>\n",
       "      <td>157.240</td>\n",
       "      <td>157.2375</td>\n",
       "      <td>157.2400</td>\n",
       "      <td>32.400001</td>\n",
       "      <td>2</td>\n",
       "      <td>0.0025</td>\n",
       "      <td>0.000016</td>\n",
       "      <td>flat</td>\n",
       "      <td>0.0</td>\n",
       "      <td>1.0</td>\n",
       "      <td>0.0</td>\n",
       "      <td>1</td>\n",
       "    </tr>\n",
       "    <tr>\n",
       "      <th>11</th>\n",
       "      <td>2025-01-01 22:17:00</td>\n",
       "      <td>157.2390</td>\n",
       "      <td>157.240</td>\n",
       "      <td>157.2375</td>\n",
       "      <td>157.2400</td>\n",
       "      <td>14.400001</td>\n",
       "      <td>2</td>\n",
       "      <td>0.0000</td>\n",
       "      <td>0.000000</td>\n",
       "      <td>flat</td>\n",
       "      <td>0.0</td>\n",
       "      <td>1.0</td>\n",
       "      <td>0.0</td>\n",
       "      <td>1</td>\n",
       "    </tr>\n",
       "    <tr>\n",
       "      <th>12</th>\n",
       "      <td>2025-01-01 22:18:00</td>\n",
       "      <td>157.2375</td>\n",
       "      <td>157.240</td>\n",
       "      <td>157.2375</td>\n",
       "      <td>157.2375</td>\n",
       "      <td>6.600000</td>\n",
       "      <td>2</td>\n",
       "      <td>-0.0025</td>\n",
       "      <td>-0.000016</td>\n",
       "      <td>flat</td>\n",
       "      <td>0.0</td>\n",
       "      <td>1.0</td>\n",
       "      <td>0.0</td>\n",
       "      <td>1</td>\n",
       "    </tr>\n",
       "    <tr>\n",
       "      <th>13</th>\n",
       "      <td>2025-01-01 22:19:00</td>\n",
       "      <td>157.2400</td>\n",
       "      <td>157.240</td>\n",
       "      <td>157.2375</td>\n",
       "      <td>157.2395</td>\n",
       "      <td>19.200001</td>\n",
       "      <td>2</td>\n",
       "      <td>0.0020</td>\n",
       "      <td>0.000013</td>\n",
       "      <td>flat</td>\n",
       "      <td>0.0</td>\n",
       "      <td>1.0</td>\n",
       "      <td>0.0</td>\n",
       "      <td>1</td>\n",
       "    </tr>\n",
       "    <tr>\n",
       "      <th>14</th>\n",
       "      <td>2025-01-01 22:20:00</td>\n",
       "      <td>157.2400</td>\n",
       "      <td>157.268</td>\n",
       "      <td>157.2260</td>\n",
       "      <td>157.2595</td>\n",
       "      <td>71.700002</td>\n",
       "      <td>2</td>\n",
       "      <td>0.0200</td>\n",
       "      <td>0.000127</td>\n",
       "      <td>up</td>\n",
       "      <td>0.0</td>\n",
       "      <td>0.0</td>\n",
       "      <td>1.0</td>\n",
       "      <td>2</td>\n",
       "    </tr>\n",
       "    <tr>\n",
       "      <th>15</th>\n",
       "      <td>2025-01-01 22:21:00</td>\n",
       "      <td>157.2660</td>\n",
       "      <td>157.266</td>\n",
       "      <td>157.2585</td>\n",
       "      <td>157.2615</td>\n",
       "      <td>16.560000</td>\n",
       "      <td>2</td>\n",
       "      <td>0.0020</td>\n",
       "      <td>0.000013</td>\n",
       "      <td>flat</td>\n",
       "      <td>0.0</td>\n",
       "      <td>1.0</td>\n",
       "      <td>0.0</td>\n",
       "      <td>1</td>\n",
       "    </tr>\n",
       "  </tbody>\n",
       "</table>\n",
       "</div>"
      ],
      "text/plain": [
       "             timestamp      open     high       low     close     volume  \\\n",
       "9  2025-01-01 22:15:00  157.2400  157.240  157.2370  157.2375  12.000000   \n",
       "10 2025-01-01 22:16:00  157.2400  157.240  157.2375  157.2400  32.400001   \n",
       "11 2025-01-01 22:17:00  157.2390  157.240  157.2375  157.2400  14.400001   \n",
       "12 2025-01-01 22:18:00  157.2375  157.240  157.2375  157.2375   6.600000   \n",
       "13 2025-01-01 22:19:00  157.2400  157.240  157.2375  157.2395  19.200001   \n",
       "14 2025-01-01 22:20:00  157.2400  157.268  157.2260  157.2595  71.700002   \n",
       "15 2025-01-01 22:21:00  157.2660  157.266  157.2585  157.2615  16.560000   \n",
       "\n",
       "    time_group  close_delta  close_return close_direction  prob_down  \\\n",
       "9            2       0.0000      0.000000            flat        0.0   \n",
       "10           2       0.0025      0.000016            flat        0.0   \n",
       "11           2       0.0000      0.000000            flat        0.0   \n",
       "12           2      -0.0025     -0.000016            flat        0.0   \n",
       "13           2       0.0020      0.000013            flat        0.0   \n",
       "14           2       0.0200      0.000127              up        0.0   \n",
       "15           2       0.0020      0.000013            flat        0.0   \n",
       "\n",
       "    prob_flat  prob_up  label  \n",
       "9         1.0      0.0      1  \n",
       "10        1.0      0.0      1  \n",
       "11        1.0      0.0      1  \n",
       "12        1.0      0.0      1  \n",
       "13        1.0      0.0      1  \n",
       "14        0.0      1.0      2  \n",
       "15        1.0      0.0      1  "
      ]
     },
     "execution_count": 16,
     "metadata": {},
     "output_type": "execute_result"
    }
   ],
   "source": [
    "df.loc[idx:idx+6]"
   ]
  },
  {
   "cell_type": "code",
   "execution_count": 17,
   "id": "2039b36c-5ab7-485c-b8d5-cbbd2838af88",
   "metadata": {},
   "outputs": [
    {
     "data": {
      "text/plain": [
       "timestamp          2025-01-01 22:21:00\n",
       "open                           157.266\n",
       "high                           157.266\n",
       "low                           157.2585\n",
       "close                         157.2615\n",
       "volume                           16.56\n",
       "time_group                           2\n",
       "close_delta                      0.002\n",
       "close_return                  0.000013\n",
       "close_direction                   flat\n",
       "prob_down                          0.0\n",
       "prob_flat                          1.0\n",
       "prob_up                            0.0\n",
       "label                                1\n",
       "Name: 15, dtype: object"
      ]
     },
     "execution_count": 17,
     "metadata": {},
     "output_type": "execute_result"
    }
   ],
   "source": [
    "df.loc[idx+6+1-1]"
   ]
  },
  {
   "cell_type": "markdown",
   "id": "9c3a0dae-67f3-4f10-888b-94559bb7c558",
   "metadata": {},
   "source": [
    "## Loading Model"
   ]
  },
  {
   "cell_type": "code",
   "execution_count": 5,
   "id": "7d2a95fd-19d9-4cf4-8be6-1bd7dadcd371",
   "metadata": {},
   "outputs": [],
   "source": [
    "import torch\n",
    "from models.gru_model import GRUModule"
   ]
  },
  {
   "cell_type": "code",
   "execution_count": 6,
   "id": "39d41d56-67bf-44a9-8d8b-b26ade55a3e1",
   "metadata": {
    "scrolled": true
   },
   "outputs": [
    {
     "data": {
      "text/plain": [
       "GRUModule(\n",
       "  (model): GRUModel(\n",
       "    (gru): GRU(1, 64, num_layers=2, batch_first=True, dropout=0.3)\n",
       "    (linear): Linear(in_features=64, out_features=3, bias=True)\n",
       "    (softmax): Softmax(dim=1)\n",
       "  )\n",
       "  (criterion): CrossEntropyLoss()\n",
       ")"
      ]
     },
     "execution_count": 6,
     "metadata": {},
     "output_type": "execute_result"
    }
   ],
   "source": [
    "model = GRUModule.load_from_checkpoint(CHECKPOINT_PATH)\n",
    "model.to('cpu')"
   ]
  },
  {
   "cell_type": "markdown",
   "id": "b643e4a0-e9c8-4f0d-ab33-b4d767e7d2d3",
   "metadata": {},
   "source": [
    "## Plotting Predictions"
   ]
  },
  {
   "cell_type": "code",
   "execution_count": 7,
   "id": "c79528f4-de78-4cdc-b978-e985532763d6",
   "metadata": {},
   "outputs": [],
   "source": [
    "import matplotlib.pyplot as plt\n",
    "from sklearn.metrics import confusion_matrix, ConfusionMatrixDisplay"
   ]
  },
  {
   "cell_type": "code",
   "execution_count": 8,
   "id": "49bad536-17cc-4c0d-8250-3f0d34ebc98b",
   "metadata": {},
   "outputs": [],
   "source": [
    "def plot_confusion_matrix(y_true, y_pred, class_names=None):\n",
    "    cm = confusion_matrix(y_true, y_pred)\n",
    "    disp = ConfusionMatrixDisplay(confusion_matrix=cm, display_labels=class_names)\n",
    "    disp.plot(cmap='Blues')\n",
    "    plt.title(\"Confusion Matrix\")\n",
    "    plt.grid(False)\n",
    "    plt.tight_layout()\n",
    "    plt.show()"
   ]
  },
  {
   "cell_type": "code",
   "execution_count": 9,
   "id": "2350d5f3-5bf2-44fd-8533-1b0ede5b260b",
   "metadata": {},
   "outputs": [],
   "source": [
    "def plot_class_predictions(y_pred, y_true):\n",
    "    plt.figure(figsize=(12, 4))\n",
    "    plt.scatter(range(len(y_pred)), y_pred, label=\"Predicted\")\n",
    "    plt.scatter(range(len(y_true)), y_true, label=\"Ground Truth\")\n",
    "    plt.title(\"Classification Predictions vs Ground Truth\")\n",
    "    plt.xlabel(\"Sample Index\")\n",
    "    plt.ylabel(\"Class\")\n",
    "    plt.legend()\n",
    "    plt.grid(True)\n",
    "    plt.tight_layout()\n",
    "    plt.show()"
   ]
  },
  {
   "cell_type": "code",
   "execution_count": 10,
   "id": "1065de5c-48fc-4aa2-a5c4-8134c897e85e",
   "metadata": {},
   "outputs": [
    {
     "data": {
      "image/png": "[encoded data removed]",
      "text/plain": [
       "<Figure size 640x480 with 2 Axes>"
      ]
     },
     "metadata": {},
     "output_type": "display_data"
    }
   ],
   "source": [
    "y_pred = []\n",
    "y_true = []\n",
    "for x, y, _ in (iter(test_loader)):\n",
    "    with torch.no_grad():\n",
    "        _, probs = model(x)\n",
    "        pred_classes = torch.argmax(probs, dim=1)\n",
    "        y_pred.extend(pred_classes)\n",
    "        y_true.extend(y)\n",
    "plot_confusion_matrix(y_pred, y_true)"
   ]
  },
  {
   "cell_type": "code",
   "execution_count": 11,
   "id": "cd954afc-0393-4ec8-9f6e-bfa771aed03b",
   "metadata": {},
   "outputs": [
    {
     "name": "stdout",
     "output_type": "stream",
     "text": [
      "              precision    recall  f1-score   support\n",
      "\n",
      "        Sell       1.00      1.00      1.00        50\n",
      "        Hold       1.00      1.00      1.00        18\n",
      "         Buy       1.00      1.00      1.00        48\n",
      "\n",
      "    accuracy                           1.00       116\n",
      "   macro avg       1.00      1.00      1.00       116\n",
      "weighted avg       1.00      1.00      1.00       116\n",
      "\n"
     ]
    }
   ],
   "source": [
    "from sklearn.metrics import classification_report\n",
    "\n",
    "print(classification_report(y, pred_classes, target_names=[\"Sell\", \"Hold\", \"Buy\"]))"
   ]
  },
  {
   "cell_type": "code",
   "execution_count": null,
   "id": "c4931fd9-eee2-40b4-af11-5d983d7354b3",
   "metadata": {},
   "outputs": [],
   "source": []
  }
 ],
 "metadata": {
  "kernelspec": {
   "display_name": "Python 3 (ipykernel)",
   "language": "python",
   "name": "python3"
  },
  "language_info": {
   "codemirror_mode": {
    "name": "ipython",
    "version": 3
   },
   "file_extension": ".py",
   "mimetype": "text/x-python",
   "name": "python",
   "nbconvert_exporter": "python",
   "pygments_lexer": "ipython3",
   "version": "3.11.12"
  },
  "widgets": {
   "application/vnd.jupyter.widget-state+json": {
    "state": {},
    "version_major": 2,
    "version_minor": 0
   }
  }
 },
 "nbformat": 4,
 "nbformat_minor": 5
}
