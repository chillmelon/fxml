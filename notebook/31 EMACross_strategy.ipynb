{
 "cells": [
  {
   "cell_type": "code",
   "execution_count": 1,
   "id": "9b3eebce-f452-42bd-a39b-868bfed19d84",
   "metadata": {},
   "outputs": [],
   "source": [
    "import pandas as pd\n",
    "import numpy as np\n",
    "import matplotlib.pyplot as plt\n",
    "from matplotlib.ticker import FormatStrFormatter\n",
    "\n",
    "import os"
   ]
  },
  {
   "cell_type": "code",
   "execution_count": 30,
   "id": "ba59f33c-f22e-4162-b169-0cedb6269879",
   "metadata": {},
   "outputs": [],
   "source": [
    "from pathlib import Path\n",
    "\n",
    "# Configurable parts\n",
    "SYMBOL = \"USDJPY\"\n",
    "SAMPLE_TYPE = \"time\"\n",
    "MINUTES = 5\n",
    "\n",
    "START_DATE = \"20240101\"\n",
    "END_DATE = \"20241231\"\n",
    "\n",
    "# Build base name\n",
    "RESAMPLED_NAME = f\"{SYMBOL}-{MINUTES}m-{START_DATE}-{END_DATE}\"\n",
    "\n",
    "# Base directories\n",
    "BASE_DIR = Path(\"../data\")\n",
    "RESAMPLED_DIR = BASE_DIR / \"resampled\"\n",
    "PROCESSED_DIR = BASE_DIR / \"processed\"\n",
    "EVENTS_DIR = BASE_DIR / \"interm/events\"\n",
    "SIDES_DIR = BASE_DIR / \"interm/sides\"\n",
    "\n",
    "# Final paths\n",
    "RESAMPLED_FILE_PATH = RESAMPLED_DIR / f\"{RESAMPLED_NAME}.pkl\"\n",
    "PROCESSED_FILE_PATH = PROCESSED_DIR / f\"{RESAMPLED_NAME}_processed.pkl\""
   ]
  },
  {
   "cell_type": "markdown",
   "id": "9aa9b728-e0d7-495d-bcc3-501ee8e0a9eb",
   "metadata": {},
   "source": [
    "## Loading Data"
   ]
  },
  {
   "cell_type": "code",
   "execution_count": 3,
   "id": "79e659aa-5b8f-43d4-aa7f-3fe6cd7e5bd7",
   "metadata": {
    "scrolled": true
   },
   "outputs": [
    {
     "name": "stdout",
     "output_type": "stream",
     "text": [
      "CPU times: user 397 μs, sys: 1.15 ms, total: 1.54 ms\n",
      "Wall time: 2.59 ms\n"
     ]
    }
   ],
   "source": [
    "%%time\n",
    "df = pd.read_pickle(PROCESSED_FILE_PATH)"
   ]
  },
  {
   "cell_type": "code",
   "execution_count": 4,
   "id": "29b2da6f-1a60-4d08-9aee-a4c43083818c",
   "metadata": {},
   "outputs": [
    {
     "data": {
      "text/plain": [
       "(72013, 10)"
      ]
     },
     "execution_count": 4,
     "metadata": {},
     "output_type": "execute_result"
    }
   ],
   "source": [
    "df.shape"
   ]
  },
  {
   "cell_type": "code",
   "execution_count": 5,
   "id": "68bbc439-d03b-4275-af93-8b978a790a4b",
   "metadata": {},
   "outputs": [
    {
     "data": {
      "text/html": [
       "<div>\n",
       "<style scoped>\n",
       "    .dataframe tbody tr th:only-of-type {\n",
       "        vertical-align: middle;\n",
       "    }\n",
       "\n",
       "    .dataframe tbody tr th {\n",
       "        vertical-align: top;\n",
       "    }\n",
       "\n",
       "    .dataframe thead th {\n",
       "        text-align: right;\n",
       "    }\n",
       "</style>\n",
       "<table border=\"1\" class=\"dataframe\">\n",
       "  <thead>\n",
       "    <tr style=\"text-align: right;\">\n",
       "      <th></th>\n",
       "      <th>open</th>\n",
       "      <th>high</th>\n",
       "      <th>low</th>\n",
       "      <th>close</th>\n",
       "      <th>volume</th>\n",
       "      <th>spread</th>\n",
       "      <th>return</th>\n",
       "      <th>log_return</th>\n",
       "      <th>fd_return</th>\n",
       "      <th>log_fd_return</th>\n",
       "    </tr>\n",
       "    <tr>\n",
       "      <th>timestamp</th>\n",
       "      <th></th>\n",
       "      <th></th>\n",
       "      <th></th>\n",
       "      <th></th>\n",
       "      <th></th>\n",
       "      <th></th>\n",
       "      <th></th>\n",
       "      <th></th>\n",
       "      <th></th>\n",
       "      <th></th>\n",
       "    </tr>\n",
       "  </thead>\n",
       "  <tbody>\n",
       "    <tr>\n",
       "      <th>2024-01-15 06:35:00</th>\n",
       "      <td>1.096440</td>\n",
       "      <td>1.096615</td>\n",
       "      <td>1.096425</td>\n",
       "      <td>1.096595</td>\n",
       "      <td>9.697500e+11</td>\n",
       "      <td>0.000027</td>\n",
       "      <td>0.000160</td>\n",
       "      <td>0.000146</td>\n",
       "      <td>0.113814</td>\n",
       "      <td>0.009814</td>\n",
       "    </tr>\n",
       "    <tr>\n",
       "      <th>2024-01-15 06:40:00</th>\n",
       "      <td>1.096600</td>\n",
       "      <td>1.096620</td>\n",
       "      <td>1.096510</td>\n",
       "      <td>1.096595</td>\n",
       "      <td>5.448600e+11</td>\n",
       "      <td>0.000025</td>\n",
       "      <td>0.000000</td>\n",
       "      <td>0.000000</td>\n",
       "      <td>0.113773</td>\n",
       "      <td>0.009777</td>\n",
       "    </tr>\n",
       "    <tr>\n",
       "      <th>2024-01-15 06:45:00</th>\n",
       "      <td>1.096600</td>\n",
       "      <td>1.096605</td>\n",
       "      <td>1.096445</td>\n",
       "      <td>1.096525</td>\n",
       "      <td>7.287000e+11</td>\n",
       "      <td>0.000025</td>\n",
       "      <td>-0.000070</td>\n",
       "      <td>-0.000064</td>\n",
       "      <td>0.113687</td>\n",
       "      <td>0.009698</td>\n",
       "    </tr>\n",
       "    <tr>\n",
       "      <th>2024-01-15 06:50:00</th>\n",
       "      <td>1.096530</td>\n",
       "      <td>1.096625</td>\n",
       "      <td>1.096485</td>\n",
       "      <td>1.096545</td>\n",
       "      <td>8.230700e+11</td>\n",
       "      <td>0.000027</td>\n",
       "      <td>0.000020</td>\n",
       "      <td>0.000018</td>\n",
       "      <td>0.113715</td>\n",
       "      <td>0.009724</td>\n",
       "    </tr>\n",
       "    <tr>\n",
       "      <th>2024-01-15 06:55:00</th>\n",
       "      <td>1.096535</td>\n",
       "      <td>1.096545</td>\n",
       "      <td>1.096340</td>\n",
       "      <td>1.096400</td>\n",
       "      <td>9.327600e+11</td>\n",
       "      <td>0.000026</td>\n",
       "      <td>-0.000145</td>\n",
       "      <td>-0.000132</td>\n",
       "      <td>0.113565</td>\n",
       "      <td>0.009587</td>\n",
       "    </tr>\n",
       "  </tbody>\n",
       "</table>\n",
       "</div>"
      ],
      "text/plain": [
       "                         open      high       low     close        volume  \\\n",
       "timestamp                                                                   \n",
       "2024-01-15 06:35:00  1.096440  1.096615  1.096425  1.096595  9.697500e+11   \n",
       "2024-01-15 06:40:00  1.096600  1.096620  1.096510  1.096595  5.448600e+11   \n",
       "2024-01-15 06:45:00  1.096600  1.096605  1.096445  1.096525  7.287000e+11   \n",
       "2024-01-15 06:50:00  1.096530  1.096625  1.096485  1.096545  8.230700e+11   \n",
       "2024-01-15 06:55:00  1.096535  1.096545  1.096340  1.096400  9.327600e+11   \n",
       "\n",
       "                       spread    return  log_return  fd_return  log_fd_return  \n",
       "timestamp                                                                      \n",
       "2024-01-15 06:35:00  0.000027  0.000160    0.000146   0.113814       0.009814  \n",
       "2024-01-15 06:40:00  0.000025  0.000000    0.000000   0.113773       0.009777  \n",
       "2024-01-15 06:45:00  0.000025 -0.000070   -0.000064   0.113687       0.009698  \n",
       "2024-01-15 06:50:00  0.000027  0.000020    0.000018   0.113715       0.009724  \n",
       "2024-01-15 06:55:00  0.000026 -0.000145   -0.000132   0.113565       0.009587  "
      ]
     },
     "execution_count": 5,
     "metadata": {},
     "output_type": "execute_result"
    }
   ],
   "source": [
    "df.head()"
   ]
  },
  {
   "cell_type": "markdown",
   "id": "8b410248-50ab-4e94-bde5-fcd45b209f02",
   "metadata": {},
   "source": [
    "## Calculating EMA values"
   ]
  },
  {
   "cell_type": "code",
   "execution_count": 7,
   "id": "dc6c7fa8-7135-4619-afb7-328468c0e7be",
   "metadata": {},
   "outputs": [],
   "source": [
    "FAST = 9 #(45 min)\n",
    "SLOW = 36 #(180 min)"
   ]
  },
  {
   "cell_type": "code",
   "execution_count": 23,
   "id": "30fde39e-8d9b-4d80-abcf-cc0a98e49c1e",
   "metadata": {},
   "outputs": [],
   "source": [
    "SIDE_NAME = f\"EMACross_{FAST}_{SLOW}\""
   ]
  },
  {
   "cell_type": "code",
   "execution_count": 24,
   "id": "31a14056-3feb-4392-a5fe-9823bffc2c13",
   "metadata": {},
   "outputs": [],
   "source": [
    "import pandas_ta as ta"
   ]
  },
  {
   "cell_type": "code",
   "execution_count": 25,
   "id": "eb7f40a9-feef-4abd-8ba2-b5e71490c8e4",
   "metadata": {},
   "outputs": [
    {
     "data": {
      "text/plain": [
       "timestamp\n",
       "2024-01-15 06:35:00         NaN\n",
       "2024-01-15 06:40:00         NaN\n",
       "2024-01-15 06:45:00         NaN\n",
       "2024-01-15 06:50:00         NaN\n",
       "2024-01-15 06:55:00         NaN\n",
       "                         ...   \n",
       "2024-12-30 23:35:00    1.040267\n",
       "2024-12-30 23:40:00    1.040280\n",
       "2024-12-30 23:45:00    1.040289\n",
       "2024-12-30 23:50:00    1.040299\n",
       "2024-12-30 23:55:00    1.040314\n",
       "Name: EMA_36, Length: 72013, dtype: float64"
      ]
     },
     "execution_count": 25,
     "metadata": {},
     "output_type": "execute_result"
    }
   ],
   "source": [
    "df.ta.ema(length=FAST, append=True)\n",
    "df.ta.ema(length=SLOW, append=True)"
   ]
  },
  {
   "cell_type": "markdown",
   "id": "aba15b48-6b3e-4211-a8b1-41ce05aa2be7",
   "metadata": {},
   "source": [
    "## Finding Cross Points\n",
    "\n",
    "標記出快線與慢線的相對位置（ema_cross_flag）並找到跨越的時間點（t_events）"
   ]
  },
  {
   "cell_type": "code",
   "execution_count": 26,
   "id": "25d831c7-0968-4f24-92ec-c8ba869a2340",
   "metadata": {},
   "outputs": [
    {
     "data": {
      "text/html": [
       "<div>\n",
       "<style scoped>\n",
       "    .dataframe tbody tr th:only-of-type {\n",
       "        vertical-align: middle;\n",
       "    }\n",
       "\n",
       "    .dataframe tbody tr th {\n",
       "        vertical-align: top;\n",
       "    }\n",
       "\n",
       "    .dataframe thead th {\n",
       "        text-align: right;\n",
       "    }\n",
       "</style>\n",
       "<table border=\"1\" class=\"dataframe\">\n",
       "  <thead>\n",
       "    <tr style=\"text-align: right;\">\n",
       "      <th></th>\n",
       "      <th>open</th>\n",
       "      <th>high</th>\n",
       "      <th>low</th>\n",
       "      <th>close</th>\n",
       "      <th>volume</th>\n",
       "      <th>spread</th>\n",
       "      <th>return</th>\n",
       "      <th>log_return</th>\n",
       "      <th>fd_return</th>\n",
       "      <th>log_fd_return</th>\n",
       "      <th>EMA_9</th>\n",
       "      <th>EMA_36</th>\n",
       "      <th>ema_cross_flag</th>\n",
       "    </tr>\n",
       "    <tr>\n",
       "      <th>timestamp</th>\n",
       "      <th></th>\n",
       "      <th></th>\n",
       "      <th></th>\n",
       "      <th></th>\n",
       "      <th></th>\n",
       "      <th></th>\n",
       "      <th></th>\n",
       "      <th></th>\n",
       "      <th></th>\n",
       "      <th></th>\n",
       "      <th></th>\n",
       "      <th></th>\n",
       "      <th></th>\n",
       "    </tr>\n",
       "  </thead>\n",
       "  <tbody>\n",
       "    <tr>\n",
       "      <th>2024-01-15 06:35:00</th>\n",
       "      <td>1.096440</td>\n",
       "      <td>1.096615</td>\n",
       "      <td>1.096425</td>\n",
       "      <td>1.096595</td>\n",
       "      <td>9.697500e+11</td>\n",
       "      <td>0.000027</td>\n",
       "      <td>0.000160</td>\n",
       "      <td>0.000146</td>\n",
       "      <td>0.113814</td>\n",
       "      <td>0.009814</td>\n",
       "      <td>NaN</td>\n",
       "      <td>NaN</td>\n",
       "      <td>False</td>\n",
       "    </tr>\n",
       "    <tr>\n",
       "      <th>2024-01-15 06:40:00</th>\n",
       "      <td>1.096600</td>\n",
       "      <td>1.096620</td>\n",
       "      <td>1.096510</td>\n",
       "      <td>1.096595</td>\n",
       "      <td>5.448600e+11</td>\n",
       "      <td>0.000025</td>\n",
       "      <td>0.000000</td>\n",
       "      <td>0.000000</td>\n",
       "      <td>0.113773</td>\n",
       "      <td>0.009777</td>\n",
       "      <td>NaN</td>\n",
       "      <td>NaN</td>\n",
       "      <td>False</td>\n",
       "    </tr>\n",
       "    <tr>\n",
       "      <th>2024-01-15 06:45:00</th>\n",
       "      <td>1.096600</td>\n",
       "      <td>1.096605</td>\n",
       "      <td>1.096445</td>\n",
       "      <td>1.096525</td>\n",
       "      <td>7.287000e+11</td>\n",
       "      <td>0.000025</td>\n",
       "      <td>-0.000070</td>\n",
       "      <td>-0.000064</td>\n",
       "      <td>0.113687</td>\n",
       "      <td>0.009698</td>\n",
       "      <td>NaN</td>\n",
       "      <td>NaN</td>\n",
       "      <td>False</td>\n",
       "    </tr>\n",
       "    <tr>\n",
       "      <th>2024-01-15 06:50:00</th>\n",
       "      <td>1.096530</td>\n",
       "      <td>1.096625</td>\n",
       "      <td>1.096485</td>\n",
       "      <td>1.096545</td>\n",
       "      <td>8.230700e+11</td>\n",
       "      <td>0.000027</td>\n",
       "      <td>0.000020</td>\n",
       "      <td>0.000018</td>\n",
       "      <td>0.113715</td>\n",
       "      <td>0.009724</td>\n",
       "      <td>NaN</td>\n",
       "      <td>NaN</td>\n",
       "      <td>False</td>\n",
       "    </tr>\n",
       "    <tr>\n",
       "      <th>2024-01-15 06:55:00</th>\n",
       "      <td>1.096535</td>\n",
       "      <td>1.096545</td>\n",
       "      <td>1.096340</td>\n",
       "      <td>1.096400</td>\n",
       "      <td>9.327600e+11</td>\n",
       "      <td>0.000026</td>\n",
       "      <td>-0.000145</td>\n",
       "      <td>-0.000132</td>\n",
       "      <td>0.113565</td>\n",
       "      <td>0.009587</td>\n",
       "      <td>NaN</td>\n",
       "      <td>NaN</td>\n",
       "      <td>False</td>\n",
       "    </tr>\n",
       "  </tbody>\n",
       "</table>\n",
       "</div>"
      ],
      "text/plain": [
       "                         open      high       low     close        volume  \\\n",
       "timestamp                                                                   \n",
       "2024-01-15 06:35:00  1.096440  1.096615  1.096425  1.096595  9.697500e+11   \n",
       "2024-01-15 06:40:00  1.096600  1.096620  1.096510  1.096595  5.448600e+11   \n",
       "2024-01-15 06:45:00  1.096600  1.096605  1.096445  1.096525  7.287000e+11   \n",
       "2024-01-15 06:50:00  1.096530  1.096625  1.096485  1.096545  8.230700e+11   \n",
       "2024-01-15 06:55:00  1.096535  1.096545  1.096340  1.096400  9.327600e+11   \n",
       "\n",
       "                       spread    return  log_return  fd_return  log_fd_return  \\\n",
       "timestamp                                                                       \n",
       "2024-01-15 06:35:00  0.000027  0.000160    0.000146   0.113814       0.009814   \n",
       "2024-01-15 06:40:00  0.000025  0.000000    0.000000   0.113773       0.009777   \n",
       "2024-01-15 06:45:00  0.000025 -0.000070   -0.000064   0.113687       0.009698   \n",
       "2024-01-15 06:50:00  0.000027  0.000020    0.000018   0.113715       0.009724   \n",
       "2024-01-15 06:55:00  0.000026 -0.000145   -0.000132   0.113565       0.009587   \n",
       "\n",
       "                     EMA_9  EMA_36  ema_cross_flag  \n",
       "timestamp                                           \n",
       "2024-01-15 06:35:00    NaN     NaN           False  \n",
       "2024-01-15 06:40:00    NaN     NaN           False  \n",
       "2024-01-15 06:45:00    NaN     NaN           False  \n",
       "2024-01-15 06:50:00    NaN     NaN           False  \n",
       "2024-01-15 06:55:00    NaN     NaN           False  "
      ]
     },
     "execution_count": 26,
     "metadata": {},
     "output_type": "execute_result"
    }
   ],
   "source": [
    "df['ema_cross_flag'] = df[f'EMA_{FAST}'] > df[f'EMA_{SLOW}']\n",
    "df.head()"
   ]
  },
  {
   "cell_type": "code",
   "execution_count": 27,
   "id": "e512e1e1-bcec-4567-98ef-eb346424da71",
   "metadata": {},
   "outputs": [
    {
     "data": {
      "text/plain": [
       "DatetimeIndex(['2024-01-15 06:35:00', '2024-01-15 12:05:00',\n",
       "               '2024-01-15 14:05:00', '2024-01-15 15:55:00',\n",
       "               '2024-01-15 20:30:00', '2024-01-15 20:40:00',\n",
       "               '2024-01-15 22:00:00', '2024-01-16 07:00:00',\n",
       "               '2024-01-16 07:05:00', '2024-01-16 07:45:00',\n",
       "               ...\n",
       "               '2024-12-30 00:55:00', '2024-12-30 01:40:00',\n",
       "               '2024-12-30 01:55:00', '2024-12-30 05:15:00',\n",
       "               '2024-12-30 05:20:00', '2024-12-30 06:00:00',\n",
       "               '2024-12-30 07:25:00', '2024-12-30 09:50:00',\n",
       "               '2024-12-30 13:25:00', '2024-12-30 18:05:00'],\n",
       "              dtype='datetime64[ns]', name='timestamp', length=2558, freq=None)"
      ]
     },
     "execution_count": 27,
     "metadata": {},
     "output_type": "execute_result"
    }
   ],
   "source": [
    "t_events = df.index[df['ema_cross_flag'] != df['ema_cross_flag'].shift(1)]\n",
    "t_events"
   ]
  },
  {
   "cell_type": "markdown",
   "id": "0ddaaafa-f41b-4008-b1c9-999ea2b60969",
   "metadata": {},
   "source": [
    "## Labeling Sides\n",
    "\n",
    "黃金交叉與死亡交叉"
   ]
  },
  {
   "cell_type": "code",
   "execution_count": 33,
   "id": "5371e08c-9817-497a-9bbc-9461e34b202f",
   "metadata": {},
   "outputs": [
    {
     "data": {
      "text/plain": [
       "timestamp\n",
       "2024-01-15 06:35:00    0\n",
       "2024-01-15 12:05:00    1\n",
       "2024-01-15 14:05:00    0\n",
       "2024-01-15 15:55:00    1\n",
       "2024-01-15 20:30:00    0\n",
       "                      ..\n",
       "2024-12-30 06:00:00    1\n",
       "2024-12-30 07:25:00    0\n",
       "2024-12-30 09:50:00    1\n",
       "2024-12-30 13:25:00    0\n",
       "2024-12-30 18:05:00    1\n",
       "Name: ema_cross_flag, Length: 2558, dtype: int64"
      ]
     },
     "execution_count": 33,
     "metadata": {},
     "output_type": "execute_result"
    }
   ],
   "source": [
    "sides = pd.Series(df['ema_cross_flag'].loc[t_events].apply(lambda x: 1 if x else 0), index=t_events)\n",
    "sides"
   ]
  },
  {
   "cell_type": "markdown",
   "id": "ac7b16f8-d2ea-44f1-82da-6e65d2d7453e",
   "metadata": {},
   "source": [
    "## Saving to disk"
   ]
  },
  {
   "cell_type": "code",
   "execution_count": 31,
   "id": "3e752783-00ab-4cdb-b932-c4dfc27cb14b",
   "metadata": {},
   "outputs": [
    {
     "data": {
      "text/plain": [
       "PosixPath('../data/interm/sides/USDJPY-5m-20240101-20241231-EMACross_9_36.pkl')"
      ]
     },
     "execution_count": 31,
     "metadata": {},
     "output_type": "execute_result"
    }
   ],
   "source": [
    "SIDE_FILE_PATH = SIDES_DIR / f\"{RESAMPLED_NAME}-{SIDE_NAME}.pkl\"\n",
    "SIDE_FILE_PATH"
   ]
  },
  {
   "cell_type": "code",
   "execution_count": 34,
   "id": "e4d3a79e-562b-4a3a-93c2-03c2c4b98b9b",
   "metadata": {},
   "outputs": [],
   "source": [
    "sides.to_pickle(SIDE_FILE_PATH)"
   ]
  }
 ],
 "metadata": {
  "kernelspec": {
   "display_name": "Python 3 (ipykernel)",
   "language": "python",
   "name": "python3"
  },
  "language_info": {
   "codemirror_mode": {
    "name": "ipython",
    "version": 3
   },
   "file_extension": ".py",
   "mimetype": "text/x-python",
   "name": "python",
   "nbconvert_exporter": "python",
   "pygments_lexer": "ipython3",
   "version": "3.12.11"
  }
 },
 "nbformat": 4,
 "nbformat_minor": 5
}
