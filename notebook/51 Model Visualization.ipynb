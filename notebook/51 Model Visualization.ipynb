{
 "cells": [
  {
   "cell_type": "code",
   "execution_count": 91,
   "id": "1fda3dad-26ca-4bc9-8a9b-6bc84a7001d6",
   "metadata": {},
   "outputs": [],
   "source": [
    "import pandas as pd\n",
    "import matplotlib.pyplot as plt\n",
    "import seaborn as sns\n",
    "from sklearn.metrics import confusion_matrix"
   ]
  },
  {
   "cell_type": "code",
   "execution_count": 92,
   "id": "651489ba-af9c-47ef-832e-d99e29882ba7",
   "metadata": {},
   "outputs": [],
   "source": [
    "predictions_df = pd.read_pickle('../data/predictions/transformer_classifier_USDJPY-5m-20210101-20241231_NORM.pkl')"
   ]
  },
  {
   "cell_type": "code",
   "execution_count": 93,
   "id": "7c63cc84-d260-475d-9128-97c073ab3d01",
   "metadata": {},
   "outputs": [
    {
     "data": {
      "text/html": [
       "<div>\n",
       "<style scoped>\n",
       "    .dataframe tbody tr th:only-of-type {\n",
       "        vertical-align: middle;\n",
       "    }\n",
       "\n",
       "    .dataframe tbody tr th {\n",
       "        vertical-align: top;\n",
       "    }\n",
       "\n",
       "    .dataframe thead th {\n",
       "        text-align: right;\n",
       "    }\n",
       "</style>\n",
       "<table border=\"1\" class=\"dataframe\">\n",
       "  <thead>\n",
       "    <tr style=\"text-align: right;\">\n",
       "      <th></th>\n",
       "      <th>t1</th>\n",
       "      <th>trgt</th>\n",
       "      <th>ret</th>\n",
       "      <th>bin</th>\n",
       "      <th>bin_class</th>\n",
       "      <th>prob_0</th>\n",
       "      <th>prob_1</th>\n",
       "      <th>prob_2</th>\n",
       "      <th>prediction</th>\n",
       "      <th>pred_side</th>\n",
       "      <th>confidence</th>\n",
       "    </tr>\n",
       "    <tr>\n",
       "      <th>timestamp</th>\n",
       "      <th></th>\n",
       "      <th></th>\n",
       "      <th></th>\n",
       "      <th></th>\n",
       "      <th></th>\n",
       "      <th></th>\n",
       "      <th></th>\n",
       "      <th></th>\n",
       "      <th></th>\n",
       "      <th></th>\n",
       "      <th></th>\n",
       "    </tr>\n",
       "  </thead>\n",
       "  <tbody>\n",
       "    <tr>\n",
       "      <th>2021-01-07 09:10:00</th>\n",
       "      <td>2021-01-07 09:45:00</td>\n",
       "      <td>0.000432</td>\n",
       "      <td>0.000435</td>\n",
       "      <td>1.0</td>\n",
       "      <td>2.0</td>\n",
       "      <td>0.435936</td>\n",
       "      <td>0.095410</td>\n",
       "      <td>0.468654</td>\n",
       "      <td>2</td>\n",
       "      <td>1</td>\n",
       "      <td>0.468654</td>\n",
       "    </tr>\n",
       "    <tr>\n",
       "      <th>2021-01-07 09:50:00</th>\n",
       "      <td>2021-01-07 10:30:00</td>\n",
       "      <td>0.000422</td>\n",
       "      <td>0.000531</td>\n",
       "      <td>1.0</td>\n",
       "      <td>2.0</td>\n",
       "      <td>0.419995</td>\n",
       "      <td>0.110621</td>\n",
       "      <td>0.469384</td>\n",
       "      <td>2</td>\n",
       "      <td>1</td>\n",
       "      <td>0.469384</td>\n",
       "    </tr>\n",
       "    <tr>\n",
       "      <th>2021-01-07 10:35:00</th>\n",
       "      <td>2021-01-07 12:00:00</td>\n",
       "      <td>0.000411</td>\n",
       "      <td>0.000690</td>\n",
       "      <td>1.0</td>\n",
       "      <td>2.0</td>\n",
       "      <td>0.453976</td>\n",
       "      <td>0.088864</td>\n",
       "      <td>0.457160</td>\n",
       "      <td>2</td>\n",
       "      <td>1</td>\n",
       "      <td>0.457160</td>\n",
       "    </tr>\n",
       "    <tr>\n",
       "      <th>2021-01-07 12:00:00</th>\n",
       "      <td>2021-01-07 12:20:00</td>\n",
       "      <td>0.000446</td>\n",
       "      <td>-0.000603</td>\n",
       "      <td>-1.0</td>\n",
       "      <td>0.0</td>\n",
       "      <td>0.460023</td>\n",
       "      <td>0.082298</td>\n",
       "      <td>0.457678</td>\n",
       "      <td>0</td>\n",
       "      <td>-1</td>\n",
       "      <td>0.460023</td>\n",
       "    </tr>\n",
       "    <tr>\n",
       "      <th>2021-01-07 12:35:00</th>\n",
       "      <td>2021-01-07 13:10:00</td>\n",
       "      <td>0.000422</td>\n",
       "      <td>-0.000540</td>\n",
       "      <td>-1.0</td>\n",
       "      <td>0.0</td>\n",
       "      <td>0.449889</td>\n",
       "      <td>0.062247</td>\n",
       "      <td>0.487864</td>\n",
       "      <td>2</td>\n",
       "      <td>1</td>\n",
       "      <td>0.487864</td>\n",
       "    </tr>\n",
       "  </tbody>\n",
       "</table>\n",
       "</div>"
      ],
      "text/plain": [
       "                                     t1      trgt       ret  bin  bin_class  \\\n",
       "timestamp                                                                     \n",
       "2021-01-07 09:10:00 2021-01-07 09:45:00  0.000432  0.000435  1.0        2.0   \n",
       "2021-01-07 09:50:00 2021-01-07 10:30:00  0.000422  0.000531  1.0        2.0   \n",
       "2021-01-07 10:35:00 2021-01-07 12:00:00  0.000411  0.000690  1.0        2.0   \n",
       "2021-01-07 12:00:00 2021-01-07 12:20:00  0.000446 -0.000603 -1.0        0.0   \n",
       "2021-01-07 12:35:00 2021-01-07 13:10:00  0.000422 -0.000540 -1.0        0.0   \n",
       "\n",
       "                       prob_0    prob_1    prob_2  prediction  pred_side  \\\n",
       "timestamp                                                                  \n",
       "2021-01-07 09:10:00  0.435936  0.095410  0.468654           2          1   \n",
       "2021-01-07 09:50:00  0.419995  0.110621  0.469384           2          1   \n",
       "2021-01-07 10:35:00  0.453976  0.088864  0.457160           2          1   \n",
       "2021-01-07 12:00:00  0.460023  0.082298  0.457678           0         -1   \n",
       "2021-01-07 12:35:00  0.449889  0.062247  0.487864           2          1   \n",
       "\n",
       "                     confidence  \n",
       "timestamp                        \n",
       "2021-01-07 09:10:00    0.468654  \n",
       "2021-01-07 09:50:00    0.469384  \n",
       "2021-01-07 10:35:00    0.457160  \n",
       "2021-01-07 12:00:00    0.460023  \n",
       "2021-01-07 12:35:00    0.487864  "
      ]
     },
     "execution_count": 93,
     "metadata": {},
     "output_type": "execute_result"
    }
   ],
   "source": [
    "predictions_df.head()"
   ]
  },
  {
   "cell_type": "code",
   "execution_count": 101,
   "id": "930e110c-6c5a-43c5-813e-d8fcb4def44d",
   "metadata": {},
   "outputs": [
    {
     "data": {
      "text/plain": [
       "bin_class\n",
       "2.0    7040\n",
       "0.0    6791\n",
       "1.0    3181\n",
       "Name: count, dtype: int64"
      ]
     },
     "execution_count": 101,
     "metadata": {},
     "output_type": "execute_result"
    }
   ],
   "source": [
    "predictions_df['bin_class'].value_counts()"
   ]
  },
  {
   "cell_type": "code",
   "execution_count": 94,
   "id": "d811b665-f5f8-4397-abe5-76c518070977",
   "metadata": {},
   "outputs": [
    {
     "data": {
      "image/png": "[encoded data removed]",
      "text/plain": [
       "<Figure size 600x500 with 2 Axes>"
      ]
     },
     "metadata": {},
     "output_type": "display_data"
    }
   ],
   "source": [
    "# 將類別轉為整數型別\n",
    "y_true = predictions_df[\"bin_class\"].astype(int)\n",
    "y_pred = predictions_df[\"prediction\"].astype(int)\n",
    "\n",
    "# 計算混淆矩陣\n",
    "cm = confusion_matrix(y_true, y_pred, labels=[0, 1, 2])\n",
    "\n",
    "\n",
    "# 繪圖\n",
    "plt.figure(figsize=(6, 5))\n",
    "sns.heatmap(cm, annot=True, fmt=\"d\", cmap=\"Blues\")\n",
    "plt.xlabel(\"Predicted\")\n",
    "plt.ylabel(\"True\")\n",
    "plt.title(\"Confusion Matrix: bin_class vs pred_side\")\n",
    "plt.tight_layout()\n",
    "plt.show()\n"
   ]
  },
  {
   "cell_type": "code",
   "execution_count": 98,
   "id": "c606b972-0c49-498e-b86b-9fa2fb8e5207",
   "metadata": {},
   "outputs": [],
   "source": [
    "filter_df = predictions_df[predictions_df['confidence']>0.6]"
   ]
  },
  {
   "cell_type": "code",
   "execution_count": 99,
   "id": "436bba9f-ab1e-4439-b9b0-77806c7ade1c",
   "metadata": {},
   "outputs": [
    {
     "data": {
      "text/plain": [
       "bin_class\n",
       "1.0    121\n",
       "2.0     41\n",
       "0.0     30\n",
       "Name: count, dtype: int64"
      ]
     },
     "execution_count": 99,
     "metadata": {},
     "output_type": "execute_result"
    }
   ],
   "source": [
    "filter_df['bin_class'].value_counts()"
   ]
  },
  {
   "cell_type": "code",
   "execution_count": 100,
   "id": "7c22f557-7c28-4bb2-a8b4-7aa35b0669d8",
   "metadata": {},
   "outputs": [
    {
     "data": {
      "image/png": "[encoded data removed]",
      "text/plain": [
       "<Figure size 600x500 with 2 Axes>"
      ]
     },
     "metadata": {},
     "output_type": "display_data"
    }
   ],
   "source": [
    "# 將類別轉為整數型別\n",
    "y_true = filter_df[\"bin_class\"].astype(int)\n",
    "y_pred = filter_df[\"prediction\"].astype(int)\n",
    "\n",
    "# 計算混淆矩陣\n",
    "cm = confusion_matrix(y_true, y_pred, labels=[0, 1, 2])\n",
    "\n",
    "\n",
    "# 繪圖\n",
    "plt.figure(figsize=(6, 5))\n",
    "sns.heatmap(cm, annot=True, fmt=\"d\", cmap=\"Blues\")\n",
    "plt.xlabel(\"Predicted\")\n",
    "plt.ylabel(\"True\")\n",
    "plt.title(\"Confusion Matrix: bin_class vs pred_side\")\n",
    "plt.tight_layout()\n",
    "plt.show()\n"
   ]
  },
  {
   "cell_type": "code",
   "execution_count": null,
   "id": "fc6ec516-922d-49bd-8395-378c03874aba",
   "metadata": {},
   "outputs": [],
   "source": []
  }
 ],
 "metadata": {
  "kernelspec": {
   "display_name": "Python 3 (ipykernel)",
   "language": "python",
   "name": "python3"
  },
  "language_info": {
   "codemirror_mode": {
    "name": "ipython",
    "version": 3
   },
   "file_extension": ".py",
   "mimetype": "text/x-python",
   "name": "python",
   "nbconvert_exporter": "python",
   "pygments_lexer": "ipython3",
   "version": "3.12.11"
  }
 },
 "nbformat": 4,
 "nbformat_minor": 5
}
