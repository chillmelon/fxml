{
 "cells": [
  {
   "cell_type": "code",
   "execution_count": 49,
   "id": "1fda3dad-26ca-4bc9-8a9b-6bc84a7001d6",
   "metadata": {},
   "outputs": [],
   "source": [
    "import pandas as pd\n",
    "import matplotlib.pyplot as plt\n",
    "import seaborn as sns\n",
    "from sklearn.metrics import confusion_matrix"
   ]
  },
  {
   "cell_type": "code",
   "execution_count": 50,
   "id": "651489ba-af9c-47ef-832e-d99e29882ba7",
   "metadata": {},
   "outputs": [],
   "source": [
    "predictions_df = pd.read_pickle('../data/predictions/lstm_classifier_USDJPY-5m-20210101-20241231-CUSUM_0.001-TB.pkl')"
   ]
  },
  {
   "cell_type": "code",
   "execution_count": 51,
   "id": "7c63cc84-d260-475d-9128-97c073ab3d01",
   "metadata": {},
   "outputs": [
    {
     "data": {
      "text/html": [
       "<div>\n",
       "<style scoped>\n",
       "    .dataframe tbody tr th:only-of-type {\n",
       "        vertical-align: middle;\n",
       "    }\n",
       "\n",
       "    .dataframe tbody tr th {\n",
       "        vertical-align: top;\n",
       "    }\n",
       "\n",
       "    .dataframe thead th {\n",
       "        text-align: right;\n",
       "    }\n",
       "</style>\n",
       "<table border=\"1\" class=\"dataframe\">\n",
       "  <thead>\n",
       "    <tr style=\"text-align: right;\">\n",
       "      <th></th>\n",
       "      <th>t1</th>\n",
       "      <th>trgt</th>\n",
       "      <th>ret</th>\n",
       "      <th>bin</th>\n",
       "      <th>bin_class</th>\n",
       "      <th>prob_0</th>\n",
       "      <th>prob_1</th>\n",
       "      <th>prob_2</th>\n",
       "      <th>prediction</th>\n",
       "      <th>pred_side</th>\n",
       "      <th>confidence</th>\n",
       "    </tr>\n",
       "    <tr>\n",
       "      <th>timestamp</th>\n",
       "      <th></th>\n",
       "      <th></th>\n",
       "      <th></th>\n",
       "      <th></th>\n",
       "      <th></th>\n",
       "      <th></th>\n",
       "      <th></th>\n",
       "      <th></th>\n",
       "      <th></th>\n",
       "      <th></th>\n",
       "      <th></th>\n",
       "    </tr>\n",
       "  </thead>\n",
       "  <tbody>\n",
       "    <tr>\n",
       "      <th>2021-01-07 14:35:00</th>\n",
       "      <td>2021-01-07 15:05:00</td>\n",
       "      <td>0.000487</td>\n",
       "      <td>0.000573</td>\n",
       "      <td>1.0</td>\n",
       "      <td>2.0</td>\n",
       "      <td>0.381785</td>\n",
       "      <td>0.216151</td>\n",
       "      <td>0.402065</td>\n",
       "      <td>2.0</td>\n",
       "      <td>1.0</td>\n",
       "      <td>0.402065</td>\n",
       "    </tr>\n",
       "    <tr>\n",
       "      <th>2021-01-07 15:10:00</th>\n",
       "      <td>2021-01-07 15:15:00</td>\n",
       "      <td>0.000532</td>\n",
       "      <td>0.000611</td>\n",
       "      <td>1.0</td>\n",
       "      <td>2.0</td>\n",
       "      <td>0.381785</td>\n",
       "      <td>0.216151</td>\n",
       "      <td>0.402065</td>\n",
       "      <td>2.0</td>\n",
       "      <td>1.0</td>\n",
       "      <td>0.402065</td>\n",
       "    </tr>\n",
       "    <tr>\n",
       "      <th>2021-01-07 16:05:00</th>\n",
       "      <td>2021-01-07 17:00:00</td>\n",
       "      <td>0.000602</td>\n",
       "      <td>0.000679</td>\n",
       "      <td>1.0</td>\n",
       "      <td>2.0</td>\n",
       "      <td>0.381785</td>\n",
       "      <td>0.216151</td>\n",
       "      <td>0.402065</td>\n",
       "      <td>2.0</td>\n",
       "      <td>1.0</td>\n",
       "      <td>0.402065</td>\n",
       "    </tr>\n",
       "    <tr>\n",
       "      <th>2021-01-07 17:10:00</th>\n",
       "      <td>2021-01-07 17:25:00</td>\n",
       "      <td>0.000452</td>\n",
       "      <td>0.000582</td>\n",
       "      <td>1.0</td>\n",
       "      <td>2.0</td>\n",
       "      <td>0.381785</td>\n",
       "      <td>0.216151</td>\n",
       "      <td>0.402065</td>\n",
       "      <td>2.0</td>\n",
       "      <td>1.0</td>\n",
       "      <td>0.402065</td>\n",
       "    </tr>\n",
       "    <tr>\n",
       "      <th>2021-01-08 08:25:00</th>\n",
       "      <td>2021-01-08 09:00:00</td>\n",
       "      <td>0.000432</td>\n",
       "      <td>0.000529</td>\n",
       "      <td>1.0</td>\n",
       "      <td>2.0</td>\n",
       "      <td>0.381785</td>\n",
       "      <td>0.216151</td>\n",
       "      <td>0.402065</td>\n",
       "      <td>2.0</td>\n",
       "      <td>1.0</td>\n",
       "      <td>0.402065</td>\n",
       "    </tr>\n",
       "  </tbody>\n",
       "</table>\n",
       "</div>"
      ],
      "text/plain": [
       "                                     t1      trgt       ret  bin  bin_class  \\\n",
       "timestamp                                                                     \n",
       "2021-01-07 14:35:00 2021-01-07 15:05:00  0.000487  0.000573  1.0        2.0   \n",
       "2021-01-07 15:10:00 2021-01-07 15:15:00  0.000532  0.000611  1.0        2.0   \n",
       "2021-01-07 16:05:00 2021-01-07 17:00:00  0.000602  0.000679  1.0        2.0   \n",
       "2021-01-07 17:10:00 2021-01-07 17:25:00  0.000452  0.000582  1.0        2.0   \n",
       "2021-01-08 08:25:00 2021-01-08 09:00:00  0.000432  0.000529  1.0        2.0   \n",
       "\n",
       "                       prob_0    prob_1    prob_2  prediction  pred_side  \\\n",
       "timestamp                                                                  \n",
       "2021-01-07 14:35:00  0.381785  0.216151  0.402065         2.0        1.0   \n",
       "2021-01-07 15:10:00  0.381785  0.216151  0.402065         2.0        1.0   \n",
       "2021-01-07 16:05:00  0.381785  0.216151  0.402065         2.0        1.0   \n",
       "2021-01-07 17:10:00  0.381785  0.216151  0.402065         2.0        1.0   \n",
       "2021-01-08 08:25:00  0.381785  0.216151  0.402065         2.0        1.0   \n",
       "\n",
       "                     confidence  \n",
       "timestamp                        \n",
       "2021-01-07 14:35:00    0.402065  \n",
       "2021-01-07 15:10:00    0.402065  \n",
       "2021-01-07 16:05:00    0.402065  \n",
       "2021-01-07 17:10:00    0.402065  \n",
       "2021-01-08 08:25:00    0.402065  "
      ]
     },
     "execution_count": 51,
     "metadata": {},
     "output_type": "execute_result"
    }
   ],
   "source": [
    "predictions_df.head()"
   ]
  },
  {
   "cell_type": "code",
   "execution_count": 52,
   "id": "4111a8b6-9ace-48c4-bc75-f8f7382de39e",
   "metadata": {},
   "outputs": [
    {
     "data": {
      "text/plain": [
       "array([2., 0., 1.])"
      ]
     },
     "execution_count": 52,
     "metadata": {},
     "output_type": "execute_result"
    }
   ],
   "source": [
    "predictions_df['bin_class'].unique()"
   ]
  },
  {
   "cell_type": "code",
   "execution_count": 53,
   "id": "7c22f557-7c28-4bb2-a8b4-7aa35b0669d8",
   "metadata": {},
   "outputs": [
    {
     "data": {
      "image/png": "[encoded data removed]",
      "text/plain": [
       "<Figure size 600x500 with 2 Axes>"
      ]
     },
     "metadata": {},
     "output_type": "display_data"
    }
   ],
   "source": [
    "# 將類別轉為整數型別\n",
    "y_true = predictions_df[\"bin_class\"].astype(int)\n",
    "y_pred = predictions_df[\"prediction\"].astype(int)\n",
    "\n",
    "# 計算混淆矩陣\n",
    "cm = confusion_matrix(y_true, y_pred, labels=[0, 1, 2])\n",
    "\n",
    "\n",
    "# 繪圖\n",
    "plt.figure(figsize=(6, 5))\n",
    "sns.heatmap(cm, annot=True, fmt=\"d\", cmap=\"Blues\")\n",
    "plt.xlabel(\"Predicted\")\n",
    "plt.ylabel(\"True\")\n",
    "plt.title(\"Confusion Matrix: bin_class vs pred_side\")\n",
    "plt.tight_layout()\n",
    "plt.show()\n"
   ]
  },
  {
   "cell_type": "code",
   "execution_count": null,
   "id": "fc6ec516-922d-49bd-8395-378c03874aba",
   "metadata": {},
   "outputs": [],
   "source": []
  }
 ],
 "metadata": {
  "kernelspec": {
   "display_name": "Python 3 (ipykernel)",
   "language": "python",
   "name": "python3"
  },
  "language_info": {
   "codemirror_mode": {
    "name": "ipython",
    "version": 3
   },
   "file_extension": ".py",
   "mimetype": "text/x-python",
   "name": "python",
   "nbconvert_exporter": "python",
   "pygments_lexer": "ipython3",
   "version": "3.12.11"
  }
 },
 "nbformat": 4,
 "nbformat_minor": 5
}
