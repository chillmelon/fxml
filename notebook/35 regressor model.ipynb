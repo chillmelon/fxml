{
 "cells": [
  {
   "cell_type": "code",
   "execution_count": 88,
   "id": "9fa888e3-e350-4d2f-b07c-174a6186f0c9",
   "metadata": {},
   "outputs": [
    {
     "name": "stdout",
     "output_type": "stream",
     "text": [
      "The autoreload extension is already loaded. To reload it, use:\n",
      "  %reload_ext autoreload\n"
     ]
    }
   ],
   "source": [
    "import sys\n",
    "sys.path.append(\"..\")\n",
    "\n",
    "# Reload modules in /src/ when changed\n",
    "%load_ext autoreload\n",
    "%autoreload 2\n",
    "\n",
    "\n",
    "import pandas as pd\n",
    "import numpy as np\n",
    "import matplotlib.pyplot as plt\n",
    "# plt.rcParams[\"figure.figsize\"] = (12, 2)\n",
    "import seaborn as sns\n",
    "sns.set(style=\"ticks\", palette=\"tab10\")"
   ]
  },
  {
   "cell_type": "code",
   "execution_count": 89,
   "id": "85baeeea-6e07-4b48-a744-76d176cfcba4",
   "metadata": {},
   "outputs": [],
   "source": [
    "from torch.utils.data import Dataset\n",
    "import torch\n",
    "\n",
    "class NextReturnRegrDataset(Dataset):\n",
    "    def __init__(self, ohlcv: pd.DataFrame, lookback: int):\n",
    "\n",
    "        self.lookback = lookback\n",
    "        r = np.log(ohlcv[\"close\"]).diff().bfill().to_numpy()\n",
    "        # close = ohlcv[\"close\"].to_numpy()\n",
    "        \n",
    "        self.X = (\n",
    "            np.lib.stride_tricks.sliding_window_view(r, lookback)\n",
    "            .reshape((-1, lookback, 1))\n",
    "            .astype(np.float32)\n",
    "        )\n",
    "\n",
    "        self.y = np.array(r[lookback:], dtype=np.float32)\n",
    "\n",
    "    def __len__(self):\n",
    "        return len(self.y)\n",
    "\n",
    "    def __getitem__(self, i):\n",
    "        return (\n",
    "            torch.from_numpy(self.X[i]),\n",
    "            torch.tensor(self.y[i]),\n",
    "            i,\n",
    "        )\n"
   ]
  },
  {
   "cell_type": "code",
   "execution_count": 90,
   "id": "429d58fd-6d9a-4655-a98e-dc493cb13213",
   "metadata": {},
   "outputs": [],
   "source": [
    "data = pd.read_pickle('../data/processed/USDJPY-5m-20240101-20241231_FEATURES.pkl')"
   ]
  },
  {
   "cell_type": "code",
   "execution_count": 91,
   "id": "1faa2150-285d-48ab-b4f9-e2bc25510ea4",
   "metadata": {},
   "outputs": [
    {
     "data": {
      "text/plain": [
       "count    73782.000000\n",
       "mean         0.000001\n",
       "std          0.000390\n",
       "min         -0.013869\n",
       "25%         -0.000137\n",
       "50%          0.000003\n",
       "75%          0.000144\n",
       "max          0.011866\n",
       "Name: close_log_return, dtype: float64"
      ]
     },
     "execution_count": 91,
     "metadata": {},
     "output_type": "execute_result"
    }
   ],
   "source": [
    "data['close_log_return'].describe()"
   ]
  },
  {
   "cell_type": "code",
   "execution_count": 92,
   "id": "e80c999c-a105-4fb8-8d38-4334447b32cb",
   "metadata": {},
   "outputs": [],
   "source": [
    "from sklearn.preprocessing import StandardScaler, MinMaxScaler"
   ]
  },
  {
   "cell_type": "code",
   "execution_count": 93,
   "id": "03955d61-a71b-45c5-9873-e04e24dd683b",
   "metadata": {},
   "outputs": [],
   "source": [
    "scaler = MinMaxScaler(feature_range=(-1,1))"
   ]
  },
  {
   "cell_type": "code",
   "execution_count": 94,
   "id": "eb00813e-a565-4c00-9aec-94e929d7cf35",
   "metadata": {},
   "outputs": [],
   "source": [
    "data['close_log_return_norm'] = scaler.fit_transform(data['close_log_return'].values.reshape(-1, 1))"
   ]
  },
  {
   "cell_type": "code",
   "execution_count": 95,
   "id": "ef4a450a-14fe-4a0e-a7ac-7c67389917a4",
   "metadata": {},
   "outputs": [
    {
     "data": {
      "text/plain": [
       "count    73782.000000\n",
       "mean         0.077933\n",
       "std          0.030293\n",
       "min         -1.000000\n",
       "25%          0.067226\n",
       "50%          0.078095\n",
       "75%          0.089009\n",
       "max          1.000000\n",
       "Name: close_log_return_norm, dtype: float64"
      ]
     },
     "execution_count": 95,
     "metadata": {},
     "output_type": "execute_result"
    }
   ],
   "source": [
    "data['close_log_return_norm'].describe()"
   ]
  },
  {
   "cell_type": "code",
   "execution_count": 96,
   "id": "c49d50f9-80f9-4659-baa7-767cbefc3f02",
   "metadata": {},
   "outputs": [
    {
     "data": {
      "text/plain": [
       "<Axes: >"
      ]
     },
     "execution_count": 96,
     "metadata": {},
     "output_type": "execute_result"
    },
    {
     "data": {
      "image/png": "[encoded data removed]",
      "text/plain": [
       "<Figure size 640x480 with 1 Axes>"
      ]
     },
     "metadata": {},
     "output_type": "display_data"
    }
   ],
   "source": [
    "data['close_log_return_norm'].hist(bins=100)"
   ]
  },
  {
   "cell_type": "code",
   "execution_count": 87,
   "id": "bf401660-ba34-4b5a-bfb8-d6f95f839647",
   "metadata": {},
   "outputs": [],
   "source": [
    "dataset = NextReturnRegrDataset(data, lookback=24)"
   ]
  },
  {
   "cell_type": "code",
   "execution_count": null,
   "id": "a957e7aa-2268-4a5a-ad81-dfaa1e739582",
   "metadata": {},
   "outputs": [],
   "source": []
  }
 ],
 "metadata": {
  "kernelspec": {
   "display_name": "Python 3 (ipykernel)",
   "language": "python",
   "name": "python3"
  },
  "language_info": {
   "codemirror_mode": {
    "name": "ipython",
    "version": 3
   },
   "file_extension": ".py",
   "mimetype": "text/x-python",
   "name": "python",
   "nbconvert_exporter": "python",
   "pygments_lexer": "ipython3",
   "version": "3.12.11"
  }
 },
 "nbformat": 4,
 "nbformat_minor": 5
}
