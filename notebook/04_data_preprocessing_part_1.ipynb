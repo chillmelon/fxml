{
 "cells": [
  {
   "cell_type": "code",
   "execution_count": 1,
   "id": "c95108f9-e2e1-4313-aff0-74d765c01c4b",
   "metadata": {},
   "outputs": [],
   "source": [
    "import pandas as pd\n",
    "import matplotlib.pyplot as plt\n",
    "from matplotlib.ticker import FormatStrFormatter\n",
    "\n",
    "import os"
   ]
  },
  {
   "cell_type": "code",
   "execution_count": 2,
   "id": "34e4b11f-537a-4f0e-a457-32559834c007",
   "metadata": {},
   "outputs": [],
   "source": [
    "resampled_dir = \"../data/resampled/\"\n",
    "resampled_file_path = os.path.join(resampled_dir, \"usdjpy-bar-test-2020-01-01-2024-12-31.pkl\")\n",
    "# resampled_file_path = os.path.join(resampled_dir, \"usdjpy-bar-2020-01-01-2024-12-31.csv\")"
   ]
  },
  {
   "cell_type": "code",
   "execution_count": 3,
   "id": "01d9111d-0636-4b9a-8944-07840ef6fc46",
   "metadata": {
    "scrolled": true
   },
   "outputs": [
    {
     "data": {
      "text/html": [
       "<div>\n",
       "<style scoped>\n",
       "    .dataframe tbody tr th:only-of-type {\n",
       "        vertical-align: middle;\n",
       "    }\n",
       "\n",
       "    .dataframe tbody tr th {\n",
       "        vertical-align: top;\n",
       "    }\n",
       "\n",
       "    .dataframe thead th {\n",
       "        text-align: right;\n",
       "    }\n",
       "</style>\n",
       "<table border=\"1\" class=\"dataframe\">\n",
       "  <thead>\n",
       "    <tr style=\"text-align: right;\">\n",
       "      <th></th>\n",
       "      <th>timestamp</th>\n",
       "      <th>open</th>\n",
       "      <th>high</th>\n",
       "      <th>low</th>\n",
       "      <th>close</th>\n",
       "      <th>volume</th>\n",
       "    </tr>\n",
       "  </thead>\n",
       "  <tbody>\n",
       "    <tr>\n",
       "      <th>0</th>\n",
       "      <td>2020-01-01 22:00:00</td>\n",
       "      <td>108.7580</td>\n",
       "      <td>108.7600</td>\n",
       "      <td>108.7580</td>\n",
       "      <td>108.7590</td>\n",
       "      <td>9179.999948</td>\n",
       "    </tr>\n",
       "    <tr>\n",
       "      <th>1</th>\n",
       "      <td>2020-01-01 22:01:00</td>\n",
       "      <td>108.7570</td>\n",
       "      <td>108.7590</td>\n",
       "      <td>108.7495</td>\n",
       "      <td>108.7495</td>\n",
       "      <td>13300.000012</td>\n",
       "    </tr>\n",
       "    <tr>\n",
       "      <th>2</th>\n",
       "      <td>2020-01-01 22:02:00</td>\n",
       "      <td>108.7495</td>\n",
       "      <td>108.7535</td>\n",
       "      <td>108.7495</td>\n",
       "      <td>108.7535</td>\n",
       "      <td>4500.000000</td>\n",
       "    </tr>\n",
       "    <tr>\n",
       "      <th>3</th>\n",
       "      <td>2020-01-01 22:03:00</td>\n",
       "      <td>108.7540</td>\n",
       "      <td>108.7555</td>\n",
       "      <td>108.7535</td>\n",
       "      <td>108.7555</td>\n",
       "      <td>10490.000010</td>\n",
       "    </tr>\n",
       "    <tr>\n",
       "      <th>4</th>\n",
       "      <td>2020-01-01 22:04:00</td>\n",
       "      <td>108.7575</td>\n",
       "      <td>108.7650</td>\n",
       "      <td>108.7555</td>\n",
       "      <td>108.7650</td>\n",
       "      <td>11600.000024</td>\n",
       "    </tr>\n",
       "  </tbody>\n",
       "</table>\n",
       "</div>"
      ],
      "text/plain": [
       "            timestamp      open      high       low     close        volume\n",
       "0 2020-01-01 22:00:00  108.7580  108.7600  108.7580  108.7590   9179.999948\n",
       "1 2020-01-01 22:01:00  108.7570  108.7590  108.7495  108.7495  13300.000012\n",
       "2 2020-01-01 22:02:00  108.7495  108.7535  108.7495  108.7535   4500.000000\n",
       "3 2020-01-01 22:03:00  108.7540  108.7555  108.7535  108.7555  10490.000010\n",
       "4 2020-01-01 22:04:00  108.7575  108.7650  108.7555  108.7650  11600.000024"
      ]
     },
     "execution_count": 3,
     "metadata": {},
     "output_type": "execute_result"
    }
   ],
   "source": [
    "df = pd.read_pickle(resampled_file_path)\n",
    "df.head()"
   ]
  },
  {
   "cell_type": "markdown",
   "id": "eba95688-4eeb-45a5-9fb0-3fc72733258e",
   "metadata": {},
   "source": [
    "# Sample smaller dataset"
   ]
  },
  {
   "cell_type": "markdown",
   "id": "20ee1402-6705-49a3-8641-8b9fee8f742a",
   "metadata": {},
   "source": [
    "df = df[df['timestamp'].dt.year == 2024]\n",
    "df.shape"
   ]
  },
  {
   "cell_type": "markdown",
   "id": "fbb18f53-91b3-4f18-aac3-6eec15379f68",
   "metadata": {},
   "source": [
    "# Dealing with NaN value"
   ]
  },
  {
   "cell_type": "code",
   "execution_count": 4,
   "id": "c264b7ac-fb3d-4dc8-8ea2-d5dd6b685b31",
   "metadata": {
    "scrolled": true
   },
   "outputs": [
    {
     "data": {
      "text/plain": [
       "timestamp         0\n",
       "open         767480\n",
       "high         767480\n",
       "low          767480\n",
       "close        767480\n",
       "volume            0\n",
       "dtype: int64"
      ]
     },
     "execution_count": 4,
     "metadata": {},
     "output_type": "execute_result"
    }
   ],
   "source": [
    "df.isna().sum()"
   ]
  },
  {
   "cell_type": "code",
   "execution_count": 5,
   "id": "25bec660-ffd8-4294-87ad-1e0f405f0d5b",
   "metadata": {
    "scrolled": true
   },
   "outputs": [
    {
     "data": {
      "text/plain": [
       "timestamp    0\n",
       "open         0\n",
       "high         0\n",
       "low          0\n",
       "close        0\n",
       "volume       0\n",
       "dtype: int64"
      ]
     },
     "execution_count": 5,
     "metadata": {},
     "output_type": "execute_result"
    }
   ],
   "source": [
    "df = df.dropna()\n",
    "df.isna().sum()"
   ]
  },
  {
   "cell_type": "code",
   "execution_count": 6,
   "id": "b97ece5b-c0d5-420d-acfb-fa76966905a5",
   "metadata": {},
   "outputs": [
    {
     "data": {
      "text/plain": [
       "(1860640, 6)"
      ]
     },
     "execution_count": 6,
     "metadata": {},
     "output_type": "execute_result"
    }
   ],
   "source": [
    "df.shape"
   ]
  },
  {
   "cell_type": "markdown",
   "id": "54066eec-d605-4a93-8bfa-94a77567af2e",
   "metadata": {},
   "source": [
    "# Time grouping"
   ]
  },
  {
   "cell_type": "markdown",
   "id": "5c13e0d6-2b1b-4892-8da1-915878d061ce",
   "metadata": {},
   "source": [
    "By examining the data, we found that there are timeframes that only include Nan values. After clearing those NaN values, our time series data is no longer continuous, i.e. there're *time gaps*. Therefore, we need to group the data by checking their time continuity and assign *time_group* labels accordingly. This is a necessary process prior to the creation of sequences since *time gaps* can be huge and we don't want to create sequences or calculate indicators across them."
   ]
  },
  {
   "cell_type": "code",
   "execution_count": 7,
   "id": "589eeb9b-f2db-492b-a888-061f307ebfc1",
   "metadata": {
    "scrolled": true
   },
   "outputs": [],
   "source": [
    "# Ensure df is a copy (not a view)\n",
    "df = df.copy()\n",
    "\n",
    "# Then assign safely\n",
    "df.loc[:, 'timestamp'] = pd.to_datetime(df['timestamp'])\n",
    "df.loc[:, 'time_delta'] = df['timestamp'].diff().dt.total_seconds()\n",
    "df.loc[:, 'time_group'] = (df['time_delta'] != 60).cumsum().astype(int)\n",
    "df = df.drop(columns='time_delta')"
   ]
  },
  {
   "cell_type": "code",
   "execution_count": 8,
   "id": "7af07371-d445-411a-87d3-142b30a8ebe1",
   "metadata": {},
   "outputs": [
    {
     "data": {
      "text/plain": [
       "timestamp     0\n",
       "open          0\n",
       "high          0\n",
       "low           0\n",
       "close         0\n",
       "volume        0\n",
       "time_group    0\n",
       "dtype: int64"
      ]
     },
     "execution_count": 8,
     "metadata": {},
     "output_type": "execute_result"
    }
   ],
   "source": [
    "df.isna().sum()"
   ]
  },
  {
   "cell_type": "code",
   "execution_count": 9,
   "id": "c5a59c92-e360-4d48-9927-58e856992041",
   "metadata": {
    "scrolled": true
   },
   "outputs": [
    {
     "data": {
      "text/html": [
       "<div>\n",
       "<style scoped>\n",
       "    .dataframe tbody tr th:only-of-type {\n",
       "        vertical-align: middle;\n",
       "    }\n",
       "\n",
       "    .dataframe tbody tr th {\n",
       "        vertical-align: top;\n",
       "    }\n",
       "\n",
       "    .dataframe thead th {\n",
       "        text-align: right;\n",
       "    }\n",
       "</style>\n",
       "<table border=\"1\" class=\"dataframe\">\n",
       "  <thead>\n",
       "    <tr style=\"text-align: right;\">\n",
       "      <th></th>\n",
       "      <th>timestamp</th>\n",
       "      <th>time_group</th>\n",
       "    </tr>\n",
       "  </thead>\n",
       "  <tbody>\n",
       "    <tr>\n",
       "      <th>0</th>\n",
       "      <td>2020-01-01 22:00:00</td>\n",
       "      <td>1</td>\n",
       "    </tr>\n",
       "    <tr>\n",
       "      <th>1</th>\n",
       "      <td>2020-01-01 22:01:00</td>\n",
       "      <td>1</td>\n",
       "    </tr>\n",
       "    <tr>\n",
       "      <th>2</th>\n",
       "      <td>2020-01-01 22:02:00</td>\n",
       "      <td>1</td>\n",
       "    </tr>\n",
       "    <tr>\n",
       "      <th>3</th>\n",
       "      <td>2020-01-01 22:03:00</td>\n",
       "      <td>1</td>\n",
       "    </tr>\n",
       "    <tr>\n",
       "      <th>4</th>\n",
       "      <td>2020-01-01 22:04:00</td>\n",
       "      <td>1</td>\n",
       "    </tr>\n",
       "    <tr>\n",
       "      <th>...</th>\n",
       "      <td>...</td>\n",
       "      <td>...</td>\n",
       "    </tr>\n",
       "    <tr>\n",
       "      <th>2628115</th>\n",
       "      <td>2024-12-30 23:55:00</td>\n",
       "      <td>7375</td>\n",
       "    </tr>\n",
       "    <tr>\n",
       "      <th>2628116</th>\n",
       "      <td>2024-12-30 23:56:00</td>\n",
       "      <td>7375</td>\n",
       "    </tr>\n",
       "    <tr>\n",
       "      <th>2628117</th>\n",
       "      <td>2024-12-30 23:57:00</td>\n",
       "      <td>7375</td>\n",
       "    </tr>\n",
       "    <tr>\n",
       "      <th>2628118</th>\n",
       "      <td>2024-12-30 23:58:00</td>\n",
       "      <td>7375</td>\n",
       "    </tr>\n",
       "    <tr>\n",
       "      <th>2628119</th>\n",
       "      <td>2024-12-30 23:59:00</td>\n",
       "      <td>7375</td>\n",
       "    </tr>\n",
       "  </tbody>\n",
       "</table>\n",
       "<p>1860640 rows × 2 columns</p>\n",
       "</div>"
      ],
      "text/plain": [
       "                  timestamp  time_group\n",
       "0       2020-01-01 22:00:00           1\n",
       "1       2020-01-01 22:01:00           1\n",
       "2       2020-01-01 22:02:00           1\n",
       "3       2020-01-01 22:03:00           1\n",
       "4       2020-01-01 22:04:00           1\n",
       "...                     ...         ...\n",
       "2628115 2024-12-30 23:55:00        7375\n",
       "2628116 2024-12-30 23:56:00        7375\n",
       "2628117 2024-12-30 23:57:00        7375\n",
       "2628118 2024-12-30 23:58:00        7375\n",
       "2628119 2024-12-30 23:59:00        7375\n",
       "\n",
       "[1860640 rows x 2 columns]"
      ]
     },
     "execution_count": 9,
     "metadata": {},
     "output_type": "execute_result"
    }
   ],
   "source": [
    "df[['timestamp', 'time_group']]"
   ]
  },
  {
   "cell_type": "code",
   "execution_count": 10,
   "id": "f25d7de4-b9f5-4d15-b764-343857800b05",
   "metadata": {
    "scrolled": true
   },
   "outputs": [
    {
     "data": {
      "text/plain": [
       "time_group\n",
       "1       255\n",
       "2        50\n",
       "3         7\n",
       "4        58\n",
       "5         5\n",
       "       ... \n",
       "7371      1\n",
       "7372      1\n",
       "7373      1\n",
       "7374     28\n",
       "7375     35\n",
       "Name: count, Length: 7375, dtype: int64"
      ]
     },
     "execution_count": 10,
     "metadata": {},
     "output_type": "execute_result"
    }
   ],
   "source": [
    "df['time_group'].value_counts().sort_index()"
   ]
  },
  {
   "cell_type": "markdown",
   "id": "425a812f-4ece-4adf-9622-4ae75ec014a2",
   "metadata": {},
   "source": [
    "# Feature engineering"
   ]
  },
  {
   "cell_type": "markdown",
   "id": "65edf050-c6ba-41c3-acd9-46c050b1d629",
   "metadata": {},
   "source": [
    "## Add delta and return"
   ]
  },
  {
   "cell_type": "markdown",
   "id": "4da23689-53ad-4687-afcb-24ac64cd9a6c",
   "metadata": {},
   "source": [
    "The original price data is non-stationary, we can convert it into stationary data by calculating the difference between each timeframe as *delta* value.\n",
    "And we are also adding *return* values that indicates the percentage of grow/drop from the last timeframe.\n",
    "We will do the following process:\n",
    "1. calculate delta and returns within each timegroup, note that this will result in adding 1 NaN value for each time group and will be dropped later on.\n",
    "2. labeling the moving **direction** for each row based on the **return** and a given **threshold**\n",
    "    ```\n",
    "    'up' if x > threshold else ('down' if x < -threshold else 'flat')\n",
    "    ```\n",
    "3. use a global encoder to encode the **direction**, this column will later on be used as target to train our model."
   ]
  },
  {
   "cell_type": "code",
   "execution_count": 11,
   "id": "7ba2273a-a440-4d29-907b-772a8737f79e",
   "metadata": {},
   "outputs": [],
   "source": [
    "GROUP_COl = 'time_group'"
   ]
  },
  {
   "cell_type": "code",
   "execution_count": 12,
   "id": "7c8921aa-3944-4d60-9eab-e54cd8a18054",
   "metadata": {},
   "outputs": [],
   "source": [
    "import numpy as np\n",
    "\n",
    "def add_delta(df, price_col: str = 'close', group_col: str = 'time_group') -> pd.DataFrame:\n",
    "    df = df.copy()\n",
    "\n",
    "    def calc(group):\n",
    "        group[f\"{price_col}_delta\"] = group[price_col] - group[price_col].shift(1)\n",
    "        group[f\"{price_col}_return\"] = group[price_col] / group[price_col].shift(1) - 1\n",
    "        return group\n",
    "\n",
    "    df = df.groupby(group_col, group_keys=False).apply(calc)\n",
    "    df.replace([np.inf, -np.inf], np.nan, inplace=True)\n",
    "\n",
    "    return df.reset_index(drop=True)\n"
   ]
  },
  {
   "cell_type": "code",
   "execution_count": 13,
   "id": "d7c4f53f-895b-4b50-8fd6-dffd0ad8ac05",
   "metadata": {},
   "outputs": [
    {
     "name": "stderr",
     "output_type": "stream",
     "text": [
      "C:\\Users\\yoyo\\AppData\\Local\\Temp\\ipykernel_6076\\3694927910.py:11: DeprecationWarning: DataFrameGroupBy.apply operated on the grouping columns. This behavior is deprecated, and in a future version of pandas the grouping columns will be excluded from the operation. Either pass `include_groups=False` to exclude the groupings or explicitly select the grouping columns after groupby to silence this warning.\n",
      "  df = df.groupby(group_col, group_keys=False).apply(calc)\n"
     ]
    }
   ],
   "source": [
    "df = add_delta(df)"
   ]
  },
  {
   "cell_type": "code",
   "execution_count": 14,
   "id": "3a9dffbc-fef1-4594-a9e7-2ed750a5f677",
   "metadata": {},
   "outputs": [
    {
     "data": {
      "image/png": "[encoded data removed]",
      "text/plain": [
       "<Figure size 1000x500 with 1 Axes>"
      ]
     },
     "metadata": {},
     "output_type": "display_data"
    }
   ],
   "source": [
    "# Plot the delta\n",
    "plt.figure(figsize=(10, 5))\n",
    "plt.plot(df.index, df['close_delta'], label='Close Price Delta')\n",
    "plt.axhline(0, color='gray', linestyle='--')  # zero line\n",
    "plt.title('Delta of Close Prices')\n",
    "plt.xlabel('Time')\n",
    "plt.ylabel('Delta')\n",
    "plt.grid(True)\n",
    "plt.legend()\n",
    "plt.tight_layout()\n",
    "plt.show()"
   ]
  },
  {
   "cell_type": "code",
   "execution_count": 15,
   "id": "b87d2f81-bf12-4c34-a7d3-f9c0879bd1a8",
   "metadata": {},
   "outputs": [
    {
     "data": {
      "image/png": "[encoded data removed]",
      "text/plain": [
       "<Figure size 1000x500 with 1 Axes>"
      ]
     },
     "metadata": {},
     "output_type": "display_data"
    }
   ],
   "source": [
    "# Plot the return\n",
    "plt.figure(figsize=(10, 5))\n",
    "plt.plot(df.index, df['close_return'], label='Close Price Future Return')\n",
    "plt.axhline(0, color='gray', linestyle='--')  # zero line\n",
    "plt.title('Return of Close Prices')\n",
    "plt.xlabel('Time')\n",
    "plt.ylabel('Return')\n",
    "plt.grid(True)\n",
    "plt.legend()\n",
    "plt.tight_layout()\n",
    "plt.show()"
   ]
  },
  {
   "cell_type": "code",
   "execution_count": 16,
   "id": "b0126f3d-70f6-488c-ba62-002419b1b758",
   "metadata": {},
   "outputs": [
    {
     "data": {
      "text/html": [
       "<div>\n",
       "<style scoped>\n",
       "    .dataframe tbody tr th:only-of-type {\n",
       "        vertical-align: middle;\n",
       "    }\n",
       "\n",
       "    .dataframe tbody tr th {\n",
       "        vertical-align: top;\n",
       "    }\n",
       "\n",
       "    .dataframe thead th {\n",
       "        text-align: right;\n",
       "    }\n",
       "</style>\n",
       "<table border=\"1\" class=\"dataframe\">\n",
       "  <thead>\n",
       "    <tr style=\"text-align: right;\">\n",
       "      <th></th>\n",
       "      <th>timestamp</th>\n",
       "      <th>open</th>\n",
       "      <th>high</th>\n",
       "      <th>low</th>\n",
       "      <th>close</th>\n",
       "      <th>volume</th>\n",
       "      <th>time_group</th>\n",
       "      <th>close_delta</th>\n",
       "      <th>close_return</th>\n",
       "    </tr>\n",
       "  </thead>\n",
       "  <tbody>\n",
       "    <tr>\n",
       "      <th>100</th>\n",
       "      <td>2020-01-01 23:40:00</td>\n",
       "      <td>108.6825</td>\n",
       "      <td>108.6845</td>\n",
       "      <td>108.6760</td>\n",
       "      <td>108.6770</td>\n",
       "      <td>49959.999800</td>\n",
       "      <td>1</td>\n",
       "      <td>-0.0050</td>\n",
       "      <td>-0.000046</td>\n",
       "    </tr>\n",
       "    <tr>\n",
       "      <th>101</th>\n",
       "      <td>2020-01-01 23:41:00</td>\n",
       "      <td>108.6780</td>\n",
       "      <td>108.6820</td>\n",
       "      <td>108.6775</td>\n",
       "      <td>108.6820</td>\n",
       "      <td>27549.999714</td>\n",
       "      <td>1</td>\n",
       "      <td>0.0050</td>\n",
       "      <td>0.000046</td>\n",
       "    </tr>\n",
       "    <tr>\n",
       "      <th>102</th>\n",
       "      <td>2020-01-01 23:42:00</td>\n",
       "      <td>108.6820</td>\n",
       "      <td>108.6820</td>\n",
       "      <td>108.6815</td>\n",
       "      <td>108.6815</td>\n",
       "      <td>16609.999895</td>\n",
       "      <td>1</td>\n",
       "      <td>-0.0005</td>\n",
       "      <td>-0.000005</td>\n",
       "    </tr>\n",
       "    <tr>\n",
       "      <th>103</th>\n",
       "      <td>2020-01-01 23:43:00</td>\n",
       "      <td>108.6815</td>\n",
       "      <td>108.6820</td>\n",
       "      <td>108.6810</td>\n",
       "      <td>108.6820</td>\n",
       "      <td>11369.999886</td>\n",
       "      <td>1</td>\n",
       "      <td>0.0005</td>\n",
       "      <td>0.000005</td>\n",
       "    </tr>\n",
       "    <tr>\n",
       "      <th>104</th>\n",
       "      <td>2020-01-01 23:44:00</td>\n",
       "      <td>108.6805</td>\n",
       "      <td>108.6820</td>\n",
       "      <td>108.6760</td>\n",
       "      <td>108.6760</td>\n",
       "      <td>188209.999323</td>\n",
       "      <td>1</td>\n",
       "      <td>-0.0060</td>\n",
       "      <td>-0.000055</td>\n",
       "    </tr>\n",
       "  </tbody>\n",
       "</table>\n",
       "</div>"
      ],
      "text/plain": [
       "              timestamp      open      high       low     close  \\\n",
       "100 2020-01-01 23:40:00  108.6825  108.6845  108.6760  108.6770   \n",
       "101 2020-01-01 23:41:00  108.6780  108.6820  108.6775  108.6820   \n",
       "102 2020-01-01 23:42:00  108.6820  108.6820  108.6815  108.6815   \n",
       "103 2020-01-01 23:43:00  108.6815  108.6820  108.6810  108.6820   \n",
       "104 2020-01-01 23:44:00  108.6805  108.6820  108.6760  108.6760   \n",
       "\n",
       "            volume  time_group  close_delta  close_return  \n",
       "100   49959.999800           1      -0.0050     -0.000046  \n",
       "101   27549.999714           1       0.0050      0.000046  \n",
       "102   16609.999895           1      -0.0005     -0.000005  \n",
       "103   11369.999886           1       0.0005      0.000005  \n",
       "104  188209.999323           1      -0.0060     -0.000055  "
      ]
     },
     "execution_count": 16,
     "metadata": {},
     "output_type": "execute_result"
    }
   ],
   "source": [
    "df[100:105]"
   ]
  },
  {
   "cell_type": "code",
   "execution_count": 17,
   "id": "c80aca3a-c1ae-4414-9b79-2438fea4d274",
   "metadata": {},
   "outputs": [
    {
     "data": {
      "text/plain": [
       "time_group\n",
       "1       255\n",
       "2        50\n",
       "3         7\n",
       "4        58\n",
       "5         5\n",
       "       ... \n",
       "7371      1\n",
       "7372      1\n",
       "7373      1\n",
       "7374     28\n",
       "7375     35\n",
       "Name: count, Length: 7375, dtype: int64"
      ]
     },
     "execution_count": 17,
     "metadata": {},
     "output_type": "execute_result"
    }
   ],
   "source": [
    "df['time_group'].value_counts().sort_index()"
   ]
  },
  {
   "cell_type": "markdown",
   "id": "940bef2d-2bd9-43fe-b842-f26482540b47",
   "metadata": {},
   "source": [
    "## Plot histgram"
   ]
  },
  {
   "cell_type": "code",
   "execution_count": 18,
   "id": "56bd9399-ebda-475f-a585-0d004b221db0",
   "metadata": {},
   "outputs": [
    {
     "data": {
      "image/png": "[encoded data removed]",
      "text/plain": [
       "<Figure size 1000x500 with 1 Axes>"
      ]
     },
     "metadata": {},
     "output_type": "display_data"
    }
   ],
   "source": [
    "import seaborn as sns\n",
    "\n",
    "df_copy = df.copy()\n",
    "\n",
    "low, high = df_copy['close_delta'].quantile([0.025, 0.975])  # 95% range\n",
    "\n",
    "plt.figure(figsize=(10, 5))\n",
    "sns.histplot(df_copy['close_delta'])\n",
    "plt.title(\"Distribution of Close Price Delta(Zoomed)\")\n",
    "plt.xlabel(\"Close Price Delta\")\n",
    "plt.ylabel(\"Frequency\")\n",
    "plt.xlim(low, high)\n",
    "plt.tight_layout()\n",
    "plt.show()"
   ]
  },
  {
   "cell_type": "code",
   "execution_count": 19,
   "id": "97243611-39f8-4a4e-a2bf-2de5ec9449db",
   "metadata": {
    "scrolled": true
   },
   "outputs": [
    {
     "data": {
      "image/png": "[encoded data removed]",
      "text/plain": [
       "<Figure size 1000x500 with 1 Axes>"
      ]
     },
     "metadata": {},
     "output_type": "display_data"
    }
   ],
   "source": [
    "df_copy = df.copy()\n",
    "\n",
    "low, high = (df_copy['close_return']*1000).quantile([0.025, 0.975])  # 95% range\n",
    "\n",
    "plt.figure(figsize=(10, 5))\n",
    "sns.histplot(df_copy['close_return']*1000)\n",
    "plt.title(\"Distribution of Close Percentage Change (Zoomed)\")\n",
    "plt.xlabel(\"Close Price Percentage Change\")\n",
    "plt.ylabel(\"Frequency\")\n",
    "plt.xlim(low, high)\n",
    "plt.tight_layout()\n",
    "plt.show()\n",
    "\n"
   ]
  },
  {
   "cell_type": "code",
   "execution_count": 20,
   "id": "b089ffd6-f30c-4931-a0ef-0e3a2a64691a",
   "metadata": {},
   "outputs": [
    {
     "data": {
      "text/plain": [
       "timestamp          0\n",
       "open               0\n",
       "high               0\n",
       "low                0\n",
       "close              0\n",
       "volume             0\n",
       "time_group         0\n",
       "close_delta     7375\n",
       "close_return    7375\n",
       "dtype: int64"
      ]
     },
     "execution_count": 20,
     "metadata": {},
     "output_type": "execute_result"
    }
   ],
   "source": [
    "df.isna().sum()"
   ]
  },
  {
   "cell_type": "code",
   "execution_count": 21,
   "id": "107ebc5e-0428-416c-8711-30f3c90da784",
   "metadata": {},
   "outputs": [
    {
     "data": {
      "text/plain": [
       "timestamp       0\n",
       "open            0\n",
       "high            0\n",
       "low             0\n",
       "close           0\n",
       "volume          0\n",
       "time_group      0\n",
       "close_delta     0\n",
       "close_return    0\n",
       "dtype: int64"
      ]
     },
     "execution_count": 21,
     "metadata": {},
     "output_type": "execute_result"
    }
   ],
   "source": [
    "df = df.dropna()\n",
    "df.isna().sum()"
   ]
  },
  {
   "cell_type": "markdown",
   "id": "577bf8a5-29f1-4791-a0f8-f8c0f643e9a2",
   "metadata": {},
   "source": [
    "## Classification Labeling"
   ]
  },
  {
   "cell_type": "markdown",
   "id": "905715cf-0bd5-48e4-885e-8d07dae04781",
   "metadata": {},
   "source": [
    "## Add direction"
   ]
  },
  {
   "cell_type": "code",
   "execution_count": 22,
   "id": "189b1d21-054f-4d2f-9373-660f101b4640",
   "metadata": {},
   "outputs": [],
   "source": [
    "def add_direction(df, delta_columns=['close'], threshold=0.005):\n",
    "    \"\"\"\n",
    "    Add directional class labels based on deltas and a threshold.\n",
    "    \"\"\"\n",
    "    df = df.copy()\n",
    "    \n",
    "    for col in delta_columns:\n",
    "        df[f\"{col}_direction\"] =  df[f\"{col}_return\"].apply(lambda x: 'up' if x > threshold else ('down' if x < -threshold else 'flat'))\n",
    "    return df"
   ]
  },
  {
   "cell_type": "code",
   "execution_count": 23,
   "id": "47f45461-ab5b-4f74-8f1b-b44021863f8f",
   "metadata": {
    "scrolled": true
   },
   "outputs": [],
   "source": [
    "df = add_direction(df, threshold=3e-5)"
   ]
  },
  {
   "cell_type": "code",
   "execution_count": 24,
   "id": "43571273-0a31-426d-aaef-196f996e54c6",
   "metadata": {},
   "outputs": [
    {
     "data": {
      "text/plain": [
       "close_direction\n",
       "up      631189\n",
       "down    621124\n",
       "flat    600952\n",
       "Name: count, dtype: int64"
      ]
     },
     "execution_count": 24,
     "metadata": {},
     "output_type": "execute_result"
    }
   ],
   "source": [
    "df['close_direction'].value_counts()"
   ]
  },
  {
   "cell_type": "code",
   "execution_count": 25,
   "id": "ea329c7b-a841-41fd-99fb-286bb5ae50f4",
   "metadata": {},
   "outputs": [
    {
     "data": {
      "image/png": "[encoded data removed]",
      "text/plain": [
       "<Figure size 1000x500 with 1 Axes>"
      ]
     },
     "metadata": {},
     "output_type": "display_data"
    }
   ],
   "source": [
    "import matplotlib.pyplot as plt\n",
    "import matplotlib.patches as mpatches\n",
    "\n",
    "# Slice and shift for next movement direction\n",
    "df_filtered = df[-101:].copy()\n",
    "df_filtered['next_direction'] = df_filtered['close_direction'].shift(-1)\n",
    "df_filtered = df_filtered[:-1]  # Drop the last row where next_direction is NaN\n",
    "\n",
    "# Plot\n",
    "plt.figure(figsize=(10, 5))\n",
    "\n",
    "# Color map\n",
    "colors = df_filtered['next_direction'].map({'up': 'green', 'down': 'red', 'flat': 'gray'})\n",
    "\n",
    "# Plot scatter and line\n",
    "plt.scatter(df_filtered.index, df_filtered['close'], c=colors, s=15)\n",
    "plt.plot(df_filtered.index, df_filtered['close'], color='black', linewidth=0.5, alpha=0.5)\n",
    "\n",
    "# Create manual legend\n",
    "legend_patches = [\n",
    "    mpatches.Patch(color='green', label='Next Up'),\n",
    "    mpatches.Patch(color='red', label='Next Down'),\n",
    "    mpatches.Patch(color='gray', label='No Change'),\n",
    "]\n",
    "plt.legend(handles=legend_patches, title='Next Movement')\n",
    "\n",
    "# Final formatting\n",
    "plt.title('Close Price with Movement Direction')\n",
    "plt.xlabel('Time')\n",
    "plt.ylabel('Price')\n",
    "plt.grid(True)\n",
    "plt.tight_layout()\n",
    "plt.show()\n"
   ]
  },
  {
   "cell_type": "code",
   "execution_count": 26,
   "id": "446e8cfd-cacb-4284-82dc-6b6a9c1b1be3",
   "metadata": {
    "scrolled": true
   },
   "outputs": [
    {
     "data": {
      "text/html": [
       "<div>\n",
       "<style scoped>\n",
       "    .dataframe tbody tr th:only-of-type {\n",
       "        vertical-align: middle;\n",
       "    }\n",
       "\n",
       "    .dataframe tbody tr th {\n",
       "        vertical-align: top;\n",
       "    }\n",
       "\n",
       "    .dataframe thead th {\n",
       "        text-align: right;\n",
       "    }\n",
       "</style>\n",
       "<table border=\"1\" class=\"dataframe\">\n",
       "  <thead>\n",
       "    <tr style=\"text-align: right;\">\n",
       "      <th></th>\n",
       "      <th>timestamp</th>\n",
       "      <th>open</th>\n",
       "      <th>high</th>\n",
       "      <th>low</th>\n",
       "      <th>close</th>\n",
       "      <th>volume</th>\n",
       "      <th>time_group</th>\n",
       "      <th>close_delta</th>\n",
       "      <th>close_return</th>\n",
       "      <th>close_direction</th>\n",
       "    </tr>\n",
       "  </thead>\n",
       "  <tbody>\n",
       "    <tr>\n",
       "      <th>1</th>\n",
       "      <td>2020-01-01 22:01:00</td>\n",
       "      <td>108.7570</td>\n",
       "      <td>108.7590</td>\n",
       "      <td>108.7495</td>\n",
       "      <td>108.7495</td>\n",
       "      <td>13300.000012</td>\n",
       "      <td>1</td>\n",
       "      <td>-0.0095</td>\n",
       "      <td>-0.000087</td>\n",
       "      <td>down</td>\n",
       "    </tr>\n",
       "    <tr>\n",
       "      <th>2</th>\n",
       "      <td>2020-01-01 22:02:00</td>\n",
       "      <td>108.7495</td>\n",
       "      <td>108.7535</td>\n",
       "      <td>108.7495</td>\n",
       "      <td>108.7535</td>\n",
       "      <td>4500.000000</td>\n",
       "      <td>1</td>\n",
       "      <td>0.0040</td>\n",
       "      <td>0.000037</td>\n",
       "      <td>up</td>\n",
       "    </tr>\n",
       "    <tr>\n",
       "      <th>3</th>\n",
       "      <td>2020-01-01 22:03:00</td>\n",
       "      <td>108.7540</td>\n",
       "      <td>108.7555</td>\n",
       "      <td>108.7535</td>\n",
       "      <td>108.7555</td>\n",
       "      <td>10490.000010</td>\n",
       "      <td>1</td>\n",
       "      <td>0.0020</td>\n",
       "      <td>0.000018</td>\n",
       "      <td>flat</td>\n",
       "    </tr>\n",
       "    <tr>\n",
       "      <th>4</th>\n",
       "      <td>2020-01-01 22:04:00</td>\n",
       "      <td>108.7575</td>\n",
       "      <td>108.7650</td>\n",
       "      <td>108.7555</td>\n",
       "      <td>108.7650</td>\n",
       "      <td>11600.000024</td>\n",
       "      <td>1</td>\n",
       "      <td>0.0095</td>\n",
       "      <td>0.000087</td>\n",
       "      <td>up</td>\n",
       "    </tr>\n",
       "    <tr>\n",
       "      <th>5</th>\n",
       "      <td>2020-01-01 22:05:00</td>\n",
       "      <td>108.7700</td>\n",
       "      <td>108.7700</td>\n",
       "      <td>108.7690</td>\n",
       "      <td>108.7700</td>\n",
       "      <td>1059.999987</td>\n",
       "      <td>1</td>\n",
       "      <td>0.0050</td>\n",
       "      <td>0.000046</td>\n",
       "      <td>up</td>\n",
       "    </tr>\n",
       "  </tbody>\n",
       "</table>\n",
       "</div>"
      ],
      "text/plain": [
       "            timestamp      open      high       low     close        volume  \\\n",
       "1 2020-01-01 22:01:00  108.7570  108.7590  108.7495  108.7495  13300.000012   \n",
       "2 2020-01-01 22:02:00  108.7495  108.7535  108.7495  108.7535   4500.000000   \n",
       "3 2020-01-01 22:03:00  108.7540  108.7555  108.7535  108.7555  10490.000010   \n",
       "4 2020-01-01 22:04:00  108.7575  108.7650  108.7555  108.7650  11600.000024   \n",
       "5 2020-01-01 22:05:00  108.7700  108.7700  108.7690  108.7700   1059.999987   \n",
       "\n",
       "   time_group  close_delta  close_return close_direction  \n",
       "1           1      -0.0095     -0.000087            down  \n",
       "2           1       0.0040      0.000037              up  \n",
       "3           1       0.0020      0.000018            flat  \n",
       "4           1       0.0095      0.000087              up  \n",
       "5           1       0.0050      0.000046              up  "
      ]
     },
     "execution_count": 26,
     "metadata": {},
     "output_type": "execute_result"
    }
   ],
   "source": [
    "df.head()"
   ]
  },
  {
   "cell_type": "markdown",
   "id": "ab937282-fed1-4ee2-b4b0-f1eedfd3aa7c",
   "metadata": {},
   "source": [
    "## Label encoding"
   ]
  },
  {
   "cell_type": "markdown",
   "id": "3e00ab6f-27a7-4661-8a60-fc18205a2654",
   "metadata": {},
   "source": [
    "## One Hot Encoding"
   ]
  },
  {
   "cell_type": "code",
   "execution_count": 30,
   "id": "592cf3fa-24e8-46eb-a72f-9508858548fe",
   "metadata": {},
   "outputs": [
    {
     "data": {
      "text/plain": [
       "<bound method NDFrame.head of                   timestamp      open      high       low     close  \\\n",
       "1       2020-01-01 22:01:00  108.7570  108.7590  108.7495  108.7495   \n",
       "2       2020-01-01 22:02:00  108.7495  108.7535  108.7495  108.7535   \n",
       "3       2020-01-01 22:03:00  108.7540  108.7555  108.7535  108.7555   \n",
       "4       2020-01-01 22:04:00  108.7575  108.7650  108.7555  108.7650   \n",
       "5       2020-01-01 22:05:00  108.7700  108.7700  108.7690  108.7700   \n",
       "...                     ...       ...       ...       ...       ...   \n",
       "1860635 2024-12-30 23:55:00  157.0100  157.0110  157.0075  157.0080   \n",
       "1860636 2024-12-30 23:56:00  157.0075  157.0090  157.0075  157.0075   \n",
       "1860637 2024-12-30 23:57:00  157.0035  157.0095  156.9900  157.0070   \n",
       "1860638 2024-12-30 23:58:00  157.0080  157.0080  157.0000  157.0015   \n",
       "1860639 2024-12-30 23:59:00  157.0010  157.0085  156.9980  157.0085   \n",
       "\n",
       "                volume  time_group  close_delta  close_return close_direction  \\\n",
       "1         13300.000012           1      -0.0095     -0.000087            down   \n",
       "2          4500.000000           1       0.0040      0.000037              up   \n",
       "3         10490.000010           1       0.0020      0.000018            flat   \n",
       "4         11600.000024           1       0.0095      0.000087              up   \n",
       "5          1059.999987           1       0.0050      0.000046              up   \n",
       "...                ...         ...          ...           ...             ...   \n",
       "1860635  206939.997196        7375      -0.0045     -0.000029            flat   \n",
       "1860636  127200.000405        7375      -0.0005     -0.000003            flat   \n",
       "1860637  234090.000987        7375      -0.0005     -0.000003            flat   \n",
       "1860638  317940.000176        7375      -0.0055     -0.000035            down   \n",
       "1860639  273299.999237        7375       0.0070      0.000045              up   \n",
       "\n",
       "         prob_down  prob_flat  prob_up  \n",
       "1              1.0        0.0      0.0  \n",
       "2              0.0        0.0      1.0  \n",
       "3              0.0        1.0      0.0  \n",
       "4              0.0        0.0      1.0  \n",
       "5              0.0        0.0      1.0  \n",
       "...            ...        ...      ...  \n",
       "1860635        0.0        1.0      0.0  \n",
       "1860636        0.0        1.0      0.0  \n",
       "1860637        0.0        1.0      0.0  \n",
       "1860638        1.0        0.0      0.0  \n",
       "1860639        0.0        0.0      1.0  \n",
       "\n",
       "[1853265 rows x 13 columns]>"
      ]
     },
     "execution_count": 30,
     "metadata": {},
     "output_type": "execute_result"
    }
   ],
   "source": [
    "# One-hot encode with get_dummies\n",
    "one_hot = pd.get_dummies(df['close_direction'], prefix='prob').astype('float32')\n",
    "\n",
    "df = df.join(one_hot)\n",
    "\n",
    "df.head"
   ]
  },
  {
   "cell_type": "code",
   "execution_count": 31,
   "id": "9f1513b9-dfee-4920-89f6-710f11927cb4",
   "metadata": {},
   "outputs": [],
   "source": [
    "from sklearn.preprocessing import LabelEncoder\n",
    "\n",
    "def add_label(df, class_col='direction'):\n",
    "    \"\"\"\n",
    "    Add directional class labels based on deltas and a threshold.\n",
    "    \"\"\"\n",
    "    df = df.copy()\n",
    "    \n",
    "    label_encoder = LabelEncoder()\n",
    "    df[\"label\"] = label_encoder.fit_transform(df[class_col])\n",
    "    direction_counts = df[\"label\"].value_counts()\n",
    "    print(direction_counts)\n",
    "    print(label_encoder.classes_)\n",
    "    return df, label_encoder"
   ]
  },
  {
   "cell_type": "code",
   "execution_count": 32,
   "id": "b0e7137a-ec54-4136-88dc-708f2c0a64fb",
   "metadata": {},
   "outputs": [
    {
     "name": "stdout",
     "output_type": "stream",
     "text": [
      "label\n",
      "2    631189\n",
      "0    621124\n",
      "1    600952\n",
      "Name: count, dtype: int64\n",
      "['down' 'flat' 'up']\n"
     ]
    }
   ],
   "source": [
    "df, encoder = add_label(df, class_col='close_direction')"
   ]
  },
  {
   "cell_type": "code",
   "execution_count": 33,
   "id": "5bf92cf9-9035-4f5a-b339-4116927545c5",
   "metadata": {},
   "outputs": [
    {
     "data": {
      "text/plain": [
       "['../data/processed/label_encoder.pkl']"
      ]
     },
     "execution_count": 33,
     "metadata": {},
     "output_type": "execute_result"
    }
   ],
   "source": [
    "import joblib\n",
    "\n",
    "ENCODER_PATH = '../data/processed/label_encoder.pkl'\n",
    "\n",
    "joblib.dump(encoder, ENCODER_PATH)"
   ]
  },
  {
   "cell_type": "code",
   "execution_count": 34,
   "id": "f64a7841-18f9-4857-957b-dd3ae7d8e357",
   "metadata": {
    "scrolled": true
   },
   "outputs": [
    {
     "data": {
      "text/html": [
       "<div>\n",
       "<style scoped>\n",
       "    .dataframe tbody tr th:only-of-type {\n",
       "        vertical-align: middle;\n",
       "    }\n",
       "\n",
       "    .dataframe tbody tr th {\n",
       "        vertical-align: top;\n",
       "    }\n",
       "\n",
       "    .dataframe thead th {\n",
       "        text-align: right;\n",
       "    }\n",
       "</style>\n",
       "<table border=\"1\" class=\"dataframe\">\n",
       "  <thead>\n",
       "    <tr style=\"text-align: right;\">\n",
       "      <th></th>\n",
       "      <th>timestamp</th>\n",
       "      <th>open</th>\n",
       "      <th>high</th>\n",
       "      <th>low</th>\n",
       "      <th>close</th>\n",
       "      <th>volume</th>\n",
       "      <th>time_group</th>\n",
       "      <th>close_delta</th>\n",
       "      <th>close_return</th>\n",
       "      <th>close_direction</th>\n",
       "      <th>prob_down</th>\n",
       "      <th>prob_flat</th>\n",
       "      <th>prob_up</th>\n",
       "      <th>label</th>\n",
       "    </tr>\n",
       "  </thead>\n",
       "  <tbody>\n",
       "    <tr>\n",
       "      <th>1</th>\n",
       "      <td>2020-01-01 22:01:00</td>\n",
       "      <td>108.7570</td>\n",
       "      <td>108.7590</td>\n",
       "      <td>108.7495</td>\n",
       "      <td>108.7495</td>\n",
       "      <td>13300.000012</td>\n",
       "      <td>1</td>\n",
       "      <td>-0.0095</td>\n",
       "      <td>-0.000087</td>\n",
       "      <td>down</td>\n",
       "      <td>1.0</td>\n",
       "      <td>0.0</td>\n",
       "      <td>0.0</td>\n",
       "      <td>0</td>\n",
       "    </tr>\n",
       "    <tr>\n",
       "      <th>2</th>\n",
       "      <td>2020-01-01 22:02:00</td>\n",
       "      <td>108.7495</td>\n",
       "      <td>108.7535</td>\n",
       "      <td>108.7495</td>\n",
       "      <td>108.7535</td>\n",
       "      <td>4500.000000</td>\n",
       "      <td>1</td>\n",
       "      <td>0.0040</td>\n",
       "      <td>0.000037</td>\n",
       "      <td>up</td>\n",
       "      <td>0.0</td>\n",
       "      <td>0.0</td>\n",
       "      <td>1.0</td>\n",
       "      <td>2</td>\n",
       "    </tr>\n",
       "    <tr>\n",
       "      <th>3</th>\n",
       "      <td>2020-01-01 22:03:00</td>\n",
       "      <td>108.7540</td>\n",
       "      <td>108.7555</td>\n",
       "      <td>108.7535</td>\n",
       "      <td>108.7555</td>\n",
       "      <td>10490.000010</td>\n",
       "      <td>1</td>\n",
       "      <td>0.0020</td>\n",
       "      <td>0.000018</td>\n",
       "      <td>flat</td>\n",
       "      <td>0.0</td>\n",
       "      <td>1.0</td>\n",
       "      <td>0.0</td>\n",
       "      <td>1</td>\n",
       "    </tr>\n",
       "    <tr>\n",
       "      <th>4</th>\n",
       "      <td>2020-01-01 22:04:00</td>\n",
       "      <td>108.7575</td>\n",
       "      <td>108.7650</td>\n",
       "      <td>108.7555</td>\n",
       "      <td>108.7650</td>\n",
       "      <td>11600.000024</td>\n",
       "      <td>1</td>\n",
       "      <td>0.0095</td>\n",
       "      <td>0.000087</td>\n",
       "      <td>up</td>\n",
       "      <td>0.0</td>\n",
       "      <td>0.0</td>\n",
       "      <td>1.0</td>\n",
       "      <td>2</td>\n",
       "    </tr>\n",
       "    <tr>\n",
       "      <th>5</th>\n",
       "      <td>2020-01-01 22:05:00</td>\n",
       "      <td>108.7700</td>\n",
       "      <td>108.7700</td>\n",
       "      <td>108.7690</td>\n",
       "      <td>108.7700</td>\n",
       "      <td>1059.999987</td>\n",
       "      <td>1</td>\n",
       "      <td>0.0050</td>\n",
       "      <td>0.000046</td>\n",
       "      <td>up</td>\n",
       "      <td>0.0</td>\n",
       "      <td>0.0</td>\n",
       "      <td>1.0</td>\n",
       "      <td>2</td>\n",
       "    </tr>\n",
       "  </tbody>\n",
       "</table>\n",
       "</div>"
      ],
      "text/plain": [
       "            timestamp      open      high       low     close        volume  \\\n",
       "1 2020-01-01 22:01:00  108.7570  108.7590  108.7495  108.7495  13300.000012   \n",
       "2 2020-01-01 22:02:00  108.7495  108.7535  108.7495  108.7535   4500.000000   \n",
       "3 2020-01-01 22:03:00  108.7540  108.7555  108.7535  108.7555  10490.000010   \n",
       "4 2020-01-01 22:04:00  108.7575  108.7650  108.7555  108.7650  11600.000024   \n",
       "5 2020-01-01 22:05:00  108.7700  108.7700  108.7690  108.7700   1059.999987   \n",
       "\n",
       "   time_group  close_delta  close_return close_direction  prob_down  \\\n",
       "1           1      -0.0095     -0.000087            down        1.0   \n",
       "2           1       0.0040      0.000037              up        0.0   \n",
       "3           1       0.0020      0.000018            flat        0.0   \n",
       "4           1       0.0095      0.000087              up        0.0   \n",
       "5           1       0.0050      0.000046              up        0.0   \n",
       "\n",
       "   prob_flat  prob_up  label  \n",
       "1        0.0      0.0      0  \n",
       "2        0.0      1.0      2  \n",
       "3        1.0      0.0      1  \n",
       "4        0.0      1.0      2  \n",
       "5        0.0      1.0      2  "
      ]
     },
     "execution_count": 34,
     "metadata": {},
     "output_type": "execute_result"
    }
   ],
   "source": [
    "df.head()"
   ]
  },
  {
   "cell_type": "markdown",
   "id": "a56bee68-2308-4021-a855-2ca0a84bcb1d",
   "metadata": {},
   "source": [
    "# Timegroup Filtering"
   ]
  },
  {
   "cell_type": "markdown",
   "id": "7ad7da48-0d6e-483b-8500-3d85540a6861",
   "metadata": {},
   "source": [
    "Before creating sequences, we have to make sure every **time group** have enough data to create at least **1** sequence.\n",
    "Given the sequence length is X, horizon is H, each time group must have at least X + H timeframes. "
   ]
  },
  {
   "cell_type": "code",
   "execution_count": 35,
   "id": "fd3de7d8-8405-46fc-93da-b79bca9c5daa",
   "metadata": {},
   "outputs": [],
   "source": [
    "SEQ_LEN = 30\n",
    "HORIZON = 1\n",
    "\n",
    "min_len = SEQ_LEN + HORIZON\n",
    "df = df.groupby(\"time_group\").filter(lambda g: len(g) >= min_len)"
   ]
  },
  {
   "cell_type": "code",
   "execution_count": 36,
   "id": "d0e5f32f-f82a-4e8d-a078-9ecb684d6f7f",
   "metadata": {},
   "outputs": [
    {
     "data": {
      "text/plain": [
       "2894"
      ]
     },
     "execution_count": 36,
     "metadata": {},
     "output_type": "execute_result"
    }
   ],
   "source": [
    "df['time_group'].nunique()"
   ]
  },
  {
   "cell_type": "code",
   "execution_count": 37,
   "id": "6c779bd1-436d-4d45-b99c-d178b875afef",
   "metadata": {},
   "outputs": [
    {
     "data": {
      "text/plain": [
       "time_group\n",
       "164     7199\n",
       "158     6659\n",
       "4142    5763\n",
       "6396    5703\n",
       "6448    4370\n",
       "        ... \n",
       "5901      31\n",
       "1547      31\n",
       "1595      31\n",
       "5830      31\n",
       "3800      31\n",
       "Name: count, Length: 2894, dtype: int64"
      ]
     },
     "execution_count": 37,
     "metadata": {},
     "output_type": "execute_result"
    }
   ],
   "source": [
    "df['time_group'].value_counts()"
   ]
  },
  {
   "cell_type": "markdown",
   "id": "01b515dd-1971-435e-a5a6-9fa7ebe4d717",
   "metadata": {},
   "source": [
    "# Saving the file"
   ]
  },
  {
   "cell_type": "code",
   "execution_count": 38,
   "id": "c30eddbe-d6bf-4141-bc78-6246cb506b13",
   "metadata": {},
   "outputs": [],
   "source": [
    "PROCESSED_DIR = \"../data/processed/\"\n",
    "PROCESSED_FILENAME = \"usdjpy-bar-2020-01-01-2024-12-31_processed.pkl\"\n",
    "PROCESSED_FILE_PATH = os.path.join(PROCESSED_DIR, PROCESSED_FILENAME)\n",
    "\n",
    "df.to_pickle(PROCESSED_FILE_PATH)"
   ]
  },
  {
   "cell_type": "code",
   "execution_count": null,
   "id": "0425bb59-989d-44ff-8d5f-db33f3ed9b0e",
   "metadata": {},
   "outputs": [],
   "source": []
  }
 ],
 "metadata": {
  "kernelspec": {
   "display_name": "Python 3 (ipykernel)",
   "language": "python",
   "name": "python3"
  },
  "language_info": {
   "codemirror_mode": {
    "name": "ipython",
    "version": 3
   },
   "file_extension": ".py",
   "mimetype": "text/x-python",
   "name": "python",
   "nbconvert_exporter": "python",
   "pygments_lexer": "ipython3",
   "version": "3.11.12"
  },
  "widgets": {
   "application/vnd.jupyter.widget-state+json": {
    "state": {},
    "version_major": 2,
    "version_minor": 0
   }
  }
 },
 "nbformat": 4,
 "nbformat_minor": 5
}
