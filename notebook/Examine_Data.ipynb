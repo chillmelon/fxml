{
 "cells": [
  {
   "cell_type": "code",
   "execution_count": 8,
   "id": "a78f3bd5-09ca-4800-8f78-896604c7cc2e",
   "metadata": {},
   "outputs": [],
   "source": [
    "import pandas as pd\n",
    "import matplotlib.pyplot as plt\n",
    "from matplotlib.ticker import FormatStrFormatter\n",
    "\n",
    "import os"
   ]
  },
  {
   "cell_type": "code",
   "execution_count": 9,
   "id": "8574e25b-c12e-4131-8550-3dec3d2ba63b",
   "metadata": {},
   "outputs": [],
   "source": [
    "from pathlib import Path\n",
    "\n",
    "# Configurable parts\n",
    "SYMBOL = \"USDJPY\"\n",
    "SAMPLE_TYPE = \"time\"\n",
    "MINUTES = 1\n",
    "DOLLAR_THRESHOLD = \"115009542m\"\n",
    "EVENT_NAME = \"CUSUM\"\n",
    "EVENT_THRESHOLD = 2.52e-04\n",
    "\n",
    "START_DATE = \"20210101\"\n",
    "END_DATE = \"20241231\"\n",
    "\n",
    "# Build base name\n",
    "if SAMPLE_TYPE == \"dollar\":\n",
    "    RESAMPLED_NAME = f\"{SYMBOL}-{DOLLAR_THRESHOLD}-dollar-{START_DATE}-{END_DATE}\"\n",
    "else:\n",
    "    RESAMPLED_NAME = f\"{SYMBOL}-{MINUTES}m-{START_DATE}-{END_DATE}\"\n",
    "\n",
    "# Base directories\n",
    "BASE_DIR = Path(\"../data\")\n",
    "RESAMPLED_DIR = BASE_DIR / \"resampled\"\n",
    "PROCESSED_DIR = BASE_DIR / \"processed\"\n",
    "NORMALIZED_DIR = BASE_DIR / \"normalized\"\n",
    "SCALER_DIR = BASE_DIR / \"scalers\"\n",
    "EVENTS_DIR = BASE_DIR / \"events\"\n",
    "\n",
    "# Final paths\n",
    "PROCESSED_FILE_PATH = PROCESSED_DIR / f\"{RESAMPLED_NAME}-processed.pkl\"\n",
    "NORMALIZED_FILE_PATH = NORMALIZED_DIR / f\"{RESAMPLED_NAME}-normalized.pkl\"\n",
    "STD_SCALER_PATH = SCALER_DIR / f\"{RESAMPLED_NAME}_standard_scaler.pkl\"\n",
    "MINMAX_SCALER_PATH = SCALER_DIR / f\"{RESAMPLED_NAME}_minmax_scaler.pkl\"\n",
    "EVENT_FILE_PATH = EVENTS_DIR / f\"{RESAMPLED_NAME}_{EVENT_NAME}_{EVENT_THRESHOLD:.2e}.pkl\""
   ]
  },
  {
   "cell_type": "code",
   "execution_count": 10,
   "id": "bbc257f3-deb6-477e-ab68-20edf00764fb",
   "metadata": {},
   "outputs": [],
   "source": [
    "df = pd.read_pickle(NORMALIZED_FILE_PATH)"
   ]
  },
  {
   "cell_type": "code",
   "execution_count": 11,
   "id": "5c7ca659-3f4f-4a30-8512-4e2b8da4b23a",
   "metadata": {},
   "outputs": [
    {
     "data": {
      "text/plain": [
       "Index(['open', 'high', 'low', 'close', 'volume', 'spread', 'close_delta',\n",
       "       'close_return', 'close_log_return', 'ret_mean_5', 'ret_mean_10',\n",
       "       'ret_mean_15', 'ret_mean_20', 'log_volume', 'ema5', 'ema5_slope',\n",
       "       'ema20', 'ema20_slope', 'ema100', 'ema100_slope', 'atr14', 'atr20',\n",
       "       'atr50', 'vol_adj_return', 'close_to_atr', 'adx14', 'plus_di14',\n",
       "       'minus_di14', 'bb_upper', 'bb_lower', 'bb_mavg', 'bb_width',\n",
       "       'bb_position', 'donchian_upper', 'donchian_lower', 'donchian_mid',\n",
       "       'donchian_width', 'stoch_k', 'stoch_d', 'rsi14', 'macd', 'macd_signal',\n",
       "       'macd_diff', 'unix_time', 'hour', 'dow', 'dom', 'month', 'hour_sin',\n",
       "       'hour_cos', 'dow_sin', 'dow_cos', 'dom_sin', 'dom_cos', 'month_sin',\n",
       "       'month_cos'],\n",
       "      dtype='object')"
      ]
     },
     "execution_count": 11,
     "metadata": {},
     "output_type": "execute_result"
    }
   ],
   "source": [
    "df.columns"
   ]
  },
  {
   "cell_type": "code",
   "execution_count": 6,
   "id": "fabb8c9f-d09d-4192-8e83-5cea94701134",
   "metadata": {},
   "outputs": [
    {
     "data": {
      "text/plain": [
       "open                1.675033e+01\n",
       "high                1.675294e+01\n",
       "low                 1.674764e+01\n",
       "close               1.675032e+01\n",
       "volume              4.804410e+11\n",
       "spread              1.000000e+00\n",
       "close_delta         2.215723e-02\n",
       "close_return        1.595155e-04\n",
       "close_log_return    1.000000e+00\n",
       "ret_mean_5          1.000000e+00\n",
       "ret_mean_10         1.000000e+00\n",
       "ret_mean_15         1.000000e+00\n",
       "ret_mean_20         1.000000e+00\n",
       "log_volume          1.000000e+00\n",
       "ema5                1.000000e+00\n",
       "ema5_slope          1.000000e+00\n",
       "ema20               1.000000e+00\n",
       "ema20_slope         1.000000e+00\n",
       "ema100              1.000000e+00\n",
       "ema100_slope        1.000000e+00\n",
       "atr14               1.000000e+00\n",
       "atr20               1.000000e+00\n",
       "atr50               1.000000e+00\n",
       "vol_adj_return      1.000000e+00\n",
       "close_to_atr        1.000000e+00\n",
       "adx14               1.210136e-01\n",
       "plus_di14           9.559819e-02\n",
       "minus_di14          1.016198e-01\n",
       "bb_upper            1.000000e+00\n",
       "bb_lower            1.000000e+00\n",
       "bb_mavg             1.000000e+00\n",
       "bb_width            1.000000e+00\n",
       "bb_position         1.000000e+00\n",
       "donchian_upper      1.000000e+00\n",
       "donchian_lower      1.000000e+00\n",
       "donchian_mid        1.000000e+00\n",
       "donchian_width      1.000000e+00\n",
       "stoch_k             1.000000e+00\n",
       "stoch_d             1.000000e+00\n",
       "rsi14               1.236219e-01\n",
       "macd                1.000000e+00\n",
       "macd_signal         1.000000e+00\n",
       "macd_diff           1.000000e+00\n",
       "unix_time           3.631040e+07\n",
       "hour                6.907115e+00\n",
       "dow                 1.499560e+00\n",
       "dom                 8.772841e+00\n",
       "month               3.434481e+00\n",
       "hour_sin            7.071630e-01\n",
       "hour_cos            7.070359e-01\n",
       "dow_sin             5.273599e-01\n",
       "dow_cos             7.751618e-01\n",
       "dom_sin             7.139905e-01\n",
       "dom_cos             6.997911e-01\n",
       "month_sin           7.077813e-01\n",
       "month_cos           7.063824e-01\n",
       "dtype: float64"
      ]
     },
     "execution_count": 6,
     "metadata": {},
     "output_type": "execute_result"
    }
   ],
   "source": [
    "df.mean()"
   ]
  },
  {
   "cell_type": "code",
   "execution_count": 7,
   "id": "e36ddb94-6d5d-4d2a-9ffd-7573126e6b03",
   "metadata": {},
   "outputs": [
    {
     "data": {
      "text/plain": [
       "open                1.675033e+01\n",
       "high                1.675294e+01\n",
       "low                 1.674764e+01\n",
       "close               1.675032e+01\n",
       "volume              4.804410e+11\n",
       "spread              1.000000e+00\n",
       "close_delta         2.215723e-02\n",
       "close_return        1.595155e-04\n",
       "close_log_return    1.000000e+00\n",
       "ret_mean_5          1.000000e+00\n",
       "ret_mean_10         1.000000e+00\n",
       "ret_mean_15         1.000000e+00\n",
       "ret_mean_20         1.000000e+00\n",
       "log_volume          1.000000e+00\n",
       "ema5                1.000000e+00\n",
       "ema5_slope          1.000000e+00\n",
       "ema20               1.000000e+00\n",
       "ema20_slope         1.000000e+00\n",
       "ema100              1.000000e+00\n",
       "ema100_slope        1.000000e+00\n",
       "atr14               1.000000e+00\n",
       "atr20               1.000000e+00\n",
       "atr50               1.000000e+00\n",
       "vol_adj_return      1.000000e+00\n",
       "close_to_atr        1.000000e+00\n",
       "adx14               1.210136e-01\n",
       "plus_di14           9.559819e-02\n",
       "minus_di14          1.016198e-01\n",
       "bb_upper            1.000000e+00\n",
       "bb_lower            1.000000e+00\n",
       "bb_mavg             1.000000e+00\n",
       "bb_width            1.000000e+00\n",
       "bb_position         1.000000e+00\n",
       "donchian_upper      1.000000e+00\n",
       "donchian_lower      1.000000e+00\n",
       "donchian_mid        1.000000e+00\n",
       "donchian_width      1.000000e+00\n",
       "stoch_k             1.000000e+00\n",
       "stoch_d             1.000000e+00\n",
       "rsi14               1.236219e-01\n",
       "macd                1.000000e+00\n",
       "macd_signal         1.000000e+00\n",
       "macd_diff           1.000000e+00\n",
       "unix_time           3.631040e+07\n",
       "hour                6.907115e+00\n",
       "dow                 1.499560e+00\n",
       "dom                 8.772841e+00\n",
       "month               3.434481e+00\n",
       "hour_sin            7.071630e-01\n",
       "hour_cos            7.070359e-01\n",
       "dow_sin             5.273599e-01\n",
       "dow_cos             7.751618e-01\n",
       "dom_sin             7.139905e-01\n",
       "dom_cos             6.997911e-01\n",
       "month_sin           7.077813e-01\n",
       "month_cos           7.063824e-01\n",
       "dtype: float64"
      ]
     },
     "execution_count": 7,
     "metadata": {},
     "output_type": "execute_result"
    }
   ],
   "source": [
    "df.std()"
   ]
  }
 ],
 "metadata": {
  "kernelspec": {
   "display_name": "Python 3 (ipykernel)",
   "language": "python",
   "name": "python3"
  },
  "language_info": {
   "codemirror_mode": {
    "name": "ipython",
    "version": 3
   },
   "file_extension": ".py",
   "mimetype": "text/x-python",
   "name": "python",
   "nbconvert_exporter": "python",
   "pygments_lexer": "ipython3",
   "version": "3.11.13"
  }
 },
 "nbformat": 4,
 "nbformat_minor": 5
}
