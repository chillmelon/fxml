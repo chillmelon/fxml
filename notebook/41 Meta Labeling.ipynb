{
 "cells": [
  {
   "cell_type": "code",
   "execution_count": 149,
   "id": "c7d6a9bb-391e-497c-9868-ee8142dfadfc",
   "metadata": {},
   "outputs": [],
   "source": [
    "import pandas as pd\n",
    "import numpy as np\n",
    "import matplotlib.pyplot as plt\n",
    "from matplotlib.ticker import FormatStrFormatter\n",
    "\n",
    "import os"
   ]
  },
  {
   "cell_type": "code",
   "execution_count": 150,
   "id": "2da4c0d2-73d3-488d-95a9-13ed2f07b494",
   "metadata": {},
   "outputs": [],
   "source": [
    "from pathlib import Path\n",
    "\n",
    "# Configurable parts\n",
    "SYMBOL = \"USDJPY\"\n",
    "SAMPLE_TYPE = \"time\"\n",
    "MINUTES = 5\n",
    "DOLLAR_THRESHOLD = \"115009542m\"\n",
    "EVENT_NAME = 'Z-SCORE-W100-1Z'\n",
    "LABEL_NAME = \"TB\"\n",
    "\n",
    "START_DATE = \"20240101\"\n",
    "END_DATE = \"20241231\"\n",
    "\n",
    "RESAMPLED_NAME = f\"{SYMBOL}-{MINUTES}m-{START_DATE}-{END_DATE}\"\n",
    "\n",
    "# Base directories\n",
    "BASE_DIR = Path(\"../data\")\n",
    "RESAMPLED_DIR = BASE_DIR / \"interm/resampled\"\n",
    "PROCESSED_DIR = BASE_DIR / \"processed\"\n",
    "SIDES_DIR = BASE_DIR / \"interm/sides\"\n",
    "META_LABELS_DIR = BASE_DIR / \"processed/meta_labels\"\n",
    "\n",
    "# Final paths\n",
    "RESAMPLED_FILE_PATH = RESAMPLED_DIR / f\"{RESAMPLED_NAME}.pkl\""
   ]
  },
  {
   "cell_type": "code",
   "execution_count": 151,
   "id": "580ce206-75d1-45ba-a88e-64aea9e5f1da",
   "metadata": {},
   "outputs": [],
   "source": [
    "SIDE_NAME = \"EMACross_9_36\"\n",
    "SIDE_FILE_PATH = SIDES_DIR / f\"{RESAMPLED_NAME}-{SIDE_NAME}.pkl\""
   ]
  },
  {
   "cell_type": "code",
   "execution_count": 152,
   "id": "765b5835-7780-4ace-a641-edb3d759cc00",
   "metadata": {
    "scrolled": true
   },
   "outputs": [
    {
     "name": "stdout",
     "output_type": "stream",
     "text": [
      "CPU times: user 1.15 ms, sys: 2.13 ms, total: 3.28 ms\n",
      "Wall time: 2.29 ms\n"
     ]
    }
   ],
   "source": [
    "%%time\n",
    "df = pd.read_pickle(RESAMPLED_FILE_PATH)\n",
    "sides = pd.read_pickle(SIDE_FILE_PATH)"
   ]
  },
  {
   "cell_type": "code",
   "execution_count": 153,
   "id": "4c2e723d-0d3b-4147-a449-22f39218c1cf",
   "metadata": {},
   "outputs": [
    {
     "data": {
      "text/html": [
       "<div>\n",
       "<style scoped>\n",
       "    .dataframe tbody tr th:only-of-type {\n",
       "        vertical-align: middle;\n",
       "    }\n",
       "\n",
       "    .dataframe tbody tr th {\n",
       "        vertical-align: top;\n",
       "    }\n",
       "\n",
       "    .dataframe thead th {\n",
       "        text-align: right;\n",
       "    }\n",
       "</style>\n",
       "<table border=\"1\" class=\"dataframe\">\n",
       "  <thead>\n",
       "    <tr style=\"text-align: right;\">\n",
       "      <th></th>\n",
       "      <th>open</th>\n",
       "      <th>high</th>\n",
       "      <th>low</th>\n",
       "      <th>close</th>\n",
       "      <th>volume</th>\n",
       "      <th>spread</th>\n",
       "    </tr>\n",
       "    <tr>\n",
       "      <th>timestamp</th>\n",
       "      <th></th>\n",
       "      <th></th>\n",
       "      <th></th>\n",
       "      <th></th>\n",
       "      <th></th>\n",
       "      <th></th>\n",
       "    </tr>\n",
       "  </thead>\n",
       "  <tbody>\n",
       "    <tr>\n",
       "      <th>2024-01-01 22:00:00</th>\n",
       "      <td>1.104540</td>\n",
       "      <td>1.104555</td>\n",
       "      <td>1.104505</td>\n",
       "      <td>1.104525</td>\n",
       "      <td>1.414000e+11</td>\n",
       "      <td>0.000510</td>\n",
       "    </tr>\n",
       "    <tr>\n",
       "      <th>2024-01-01 22:05:00</th>\n",
       "      <td>1.104515</td>\n",
       "      <td>1.104595</td>\n",
       "      <td>1.104515</td>\n",
       "      <td>1.104565</td>\n",
       "      <td>1.971000e+11</td>\n",
       "      <td>0.000595</td>\n",
       "    </tr>\n",
       "    <tr>\n",
       "      <th>2024-01-01 22:10:00</th>\n",
       "      <td>1.104555</td>\n",
       "      <td>1.104595</td>\n",
       "      <td>1.104545</td>\n",
       "      <td>1.104585</td>\n",
       "      <td>1.624500e+11</td>\n",
       "      <td>0.000573</td>\n",
       "    </tr>\n",
       "    <tr>\n",
       "      <th>2024-01-01 22:15:00</th>\n",
       "      <td>1.104580</td>\n",
       "      <td>1.104595</td>\n",
       "      <td>1.104545</td>\n",
       "      <td>1.104545</td>\n",
       "      <td>3.600000e+10</td>\n",
       "      <td>0.000577</td>\n",
       "    </tr>\n",
       "    <tr>\n",
       "      <th>2024-01-01 22:20:00</th>\n",
       "      <td>1.104585</td>\n",
       "      <td>1.104585</td>\n",
       "      <td>1.104440</td>\n",
       "      <td>1.104505</td>\n",
       "      <td>1.530000e+11</td>\n",
       "      <td>0.000441</td>\n",
       "    </tr>\n",
       "  </tbody>\n",
       "</table>\n",
       "</div>"
      ],
      "text/plain": [
       "                         open      high       low     close        volume  \\\n",
       "timestamp                                                                   \n",
       "2024-01-01 22:00:00  1.104540  1.104555  1.104505  1.104525  1.414000e+11   \n",
       "2024-01-01 22:05:00  1.104515  1.104595  1.104515  1.104565  1.971000e+11   \n",
       "2024-01-01 22:10:00  1.104555  1.104595  1.104545  1.104585  1.624500e+11   \n",
       "2024-01-01 22:15:00  1.104580  1.104595  1.104545  1.104545  3.600000e+10   \n",
       "2024-01-01 22:20:00  1.104585  1.104585  1.104440  1.104505  1.530000e+11   \n",
       "\n",
       "                       spread  \n",
       "timestamp                      \n",
       "2024-01-01 22:00:00  0.000510  \n",
       "2024-01-01 22:05:00  0.000595  \n",
       "2024-01-01 22:10:00  0.000573  \n",
       "2024-01-01 22:15:00  0.000577  \n",
       "2024-01-01 22:20:00  0.000441  "
      ]
     },
     "execution_count": 153,
     "metadata": {},
     "output_type": "execute_result"
    }
   ],
   "source": [
    "df['timestamp'] = pd.to_datetime(df['timestamp'], unit='ms')\n",
    "df = df.set_index('timestamp')\n",
    "df.head()"
   ]
  },
  {
   "cell_type": "code",
   "execution_count": 154,
   "id": "d9ab672c-ea12-4bcc-93e2-0a42a1448805",
   "metadata": {
    "scrolled": true
   },
   "outputs": [
    {
     "data": {
      "text/html": [
       "<div>\n",
       "<style scoped>\n",
       "    .dataframe tbody tr th:only-of-type {\n",
       "        vertical-align: middle;\n",
       "    }\n",
       "\n",
       "    .dataframe tbody tr th {\n",
       "        vertical-align: top;\n",
       "    }\n",
       "\n",
       "    .dataframe thead th {\n",
       "        text-align: right;\n",
       "    }\n",
       "</style>\n",
       "<table border=\"1\" class=\"dataframe\">\n",
       "  <thead>\n",
       "    <tr style=\"text-align: right;\">\n",
       "      <th></th>\n",
       "      <th>open</th>\n",
       "      <th>high</th>\n",
       "      <th>low</th>\n",
       "      <th>close</th>\n",
       "      <th>volume</th>\n",
       "      <th>spread</th>\n",
       "    </tr>\n",
       "    <tr>\n",
       "      <th>timestamp</th>\n",
       "      <th></th>\n",
       "      <th></th>\n",
       "      <th></th>\n",
       "      <th></th>\n",
       "      <th></th>\n",
       "      <th></th>\n",
       "    </tr>\n",
       "  </thead>\n",
       "  <tbody>\n",
       "    <tr>\n",
       "      <th>2024-01-15 06:35:00</th>\n",
       "      <td>1.096440</td>\n",
       "      <td>1.096615</td>\n",
       "      <td>1.096425</td>\n",
       "      <td>1.096595</td>\n",
       "      <td>9.697500e+11</td>\n",
       "      <td>0.000027</td>\n",
       "    </tr>\n",
       "    <tr>\n",
       "      <th>2024-01-15 12:05:00</th>\n",
       "      <td>1.094830</td>\n",
       "      <td>1.095140</td>\n",
       "      <td>1.094830</td>\n",
       "      <td>1.095130</td>\n",
       "      <td>1.951750e+12</td>\n",
       "      <td>0.000029</td>\n",
       "    </tr>\n",
       "    <tr>\n",
       "      <th>2024-01-15 14:05:00</th>\n",
       "      <td>1.094640</td>\n",
       "      <td>1.094670</td>\n",
       "      <td>1.093940</td>\n",
       "      <td>1.094110</td>\n",
       "      <td>2.123980e+12</td>\n",
       "      <td>0.000022</td>\n",
       "    </tr>\n",
       "    <tr>\n",
       "      <th>2024-01-15 15:55:00</th>\n",
       "      <td>1.094930</td>\n",
       "      <td>1.095095</td>\n",
       "      <td>1.094800</td>\n",
       "      <td>1.094975</td>\n",
       "      <td>2.287020e+12</td>\n",
       "      <td>0.000022</td>\n",
       "    </tr>\n",
       "    <tr>\n",
       "      <th>2024-01-15 20:30:00</th>\n",
       "      <td>1.095035</td>\n",
       "      <td>1.095040</td>\n",
       "      <td>1.094935</td>\n",
       "      <td>1.094990</td>\n",
       "      <td>2.535200e+11</td>\n",
       "      <td>0.000029</td>\n",
       "    </tr>\n",
       "  </tbody>\n",
       "</table>\n",
       "</div>"
      ],
      "text/plain": [
       "                         open      high       low     close        volume  \\\n",
       "timestamp                                                                   \n",
       "2024-01-15 06:35:00  1.096440  1.096615  1.096425  1.096595  9.697500e+11   \n",
       "2024-01-15 12:05:00  1.094830  1.095140  1.094830  1.095130  1.951750e+12   \n",
       "2024-01-15 14:05:00  1.094640  1.094670  1.093940  1.094110  2.123980e+12   \n",
       "2024-01-15 15:55:00  1.094930  1.095095  1.094800  1.094975  2.287020e+12   \n",
       "2024-01-15 20:30:00  1.095035  1.095040  1.094935  1.094990  2.535200e+11   \n",
       "\n",
       "                       spread  \n",
       "timestamp                      \n",
       "2024-01-15 06:35:00  0.000027  \n",
       "2024-01-15 12:05:00  0.000029  \n",
       "2024-01-15 14:05:00  0.000022  \n",
       "2024-01-15 15:55:00  0.000022  \n",
       "2024-01-15 20:30:00  0.000029  "
      ]
     },
     "execution_count": 154,
     "metadata": {},
     "output_type": "execute_result"
    }
   ],
   "source": [
    "t_events = sides.index\n",
    "df.loc[t_events].head()"
   ]
  },
  {
   "cell_type": "markdown",
   "id": "e2f8b5b9-cbf4-4ae3-94c1-2f099c41525b",
   "metadata": {},
   "source": [
    "## Calculate Target Volatility (trgt)\n",
    "This will be used for the calculation of dynamic TP/SL"
   ]
  },
  {
   "cell_type": "code",
   "execution_count": 155,
   "id": "a20407bf-84ba-48f2-8489-6c4a8e4d0bcf",
   "metadata": {},
   "outputs": [],
   "source": [
    "import pandas_ta as ta"
   ]
  },
  {
   "cell_type": "code",
   "execution_count": 156,
   "id": "0eced2e6-d3d2-4b99-8ca5-adfc3109d690",
   "metadata": {},
   "outputs": [
    {
     "data": {
      "text/html": [
       "<div>\n",
       "<style scoped>\n",
       "    .dataframe tbody tr th:only-of-type {\n",
       "        vertical-align: middle;\n",
       "    }\n",
       "\n",
       "    .dataframe tbody tr th {\n",
       "        vertical-align: top;\n",
       "    }\n",
       "\n",
       "    .dataframe thead th {\n",
       "        text-align: right;\n",
       "    }\n",
       "</style>\n",
       "<table border=\"1\" class=\"dataframe\">\n",
       "  <thead>\n",
       "    <tr style=\"text-align: right;\">\n",
       "      <th></th>\n",
       "      <th>open</th>\n",
       "      <th>high</th>\n",
       "      <th>low</th>\n",
       "      <th>close</th>\n",
       "      <th>volume</th>\n",
       "      <th>spread</th>\n",
       "      <th>ATRr_9</th>\n",
       "      <th>ATRr_9_PERC</th>\n",
       "    </tr>\n",
       "    <tr>\n",
       "      <th>timestamp</th>\n",
       "      <th></th>\n",
       "      <th></th>\n",
       "      <th></th>\n",
       "      <th></th>\n",
       "      <th></th>\n",
       "      <th></th>\n",
       "      <th></th>\n",
       "      <th></th>\n",
       "    </tr>\n",
       "  </thead>\n",
       "  <tbody>\n",
       "    <tr>\n",
       "      <th>2024-01-01 23:10:00</th>\n",
       "      <td>1.104040</td>\n",
       "      <td>1.104045</td>\n",
       "      <td>1.103845</td>\n",
       "      <td>1.103845</td>\n",
       "      <td>3.608200e+11</td>\n",
       "      <td>0.000036</td>\n",
       "      <td>0.000122</td>\n",
       "      <td>0.009900</td>\n",
       "    </tr>\n",
       "    <tr>\n",
       "      <th>2024-01-01 23:15:00</th>\n",
       "      <td>1.103840</td>\n",
       "      <td>1.103845</td>\n",
       "      <td>1.103735</td>\n",
       "      <td>1.103735</td>\n",
       "      <td>2.821800e+11</td>\n",
       "      <td>0.000037</td>\n",
       "      <td>0.000120</td>\n",
       "      <td>0.009906</td>\n",
       "    </tr>\n",
       "    <tr>\n",
       "      <th>2024-01-01 23:20:00</th>\n",
       "      <td>1.103745</td>\n",
       "      <td>1.103820</td>\n",
       "      <td>1.103725</td>\n",
       "      <td>1.103775</td>\n",
       "      <td>5.239900e+11</td>\n",
       "      <td>0.000043</td>\n",
       "      <td>0.000118</td>\n",
       "      <td>0.009813</td>\n",
       "    </tr>\n",
       "    <tr>\n",
       "      <th>2024-01-01 23:25:00</th>\n",
       "      <td>1.103770</td>\n",
       "      <td>1.103835</td>\n",
       "      <td>1.103735</td>\n",
       "      <td>1.103775</td>\n",
       "      <td>3.200500e+11</td>\n",
       "      <td>0.000035</td>\n",
       "      <td>0.000116</td>\n",
       "      <td>0.009759</td>\n",
       "    </tr>\n",
       "    <tr>\n",
       "      <th>2024-01-01 23:30:00</th>\n",
       "      <td>1.103780</td>\n",
       "      <td>1.103790</td>\n",
       "      <td>1.103630</td>\n",
       "      <td>1.103675</td>\n",
       "      <td>2.934700e+11</td>\n",
       "      <td>0.000028</td>\n",
       "      <td>0.000121</td>\n",
       "      <td>0.010098</td>\n",
       "    </tr>\n",
       "  </tbody>\n",
       "</table>\n",
       "</div>"
      ],
      "text/plain": [
       "                         open      high       low     close        volume  \\\n",
       "timestamp                                                                   \n",
       "2024-01-01 23:10:00  1.104040  1.104045  1.103845  1.103845  3.608200e+11   \n",
       "2024-01-01 23:15:00  1.103840  1.103845  1.103735  1.103735  2.821800e+11   \n",
       "2024-01-01 23:20:00  1.103745  1.103820  1.103725  1.103775  5.239900e+11   \n",
       "2024-01-01 23:25:00  1.103770  1.103835  1.103735  1.103775  3.200500e+11   \n",
       "2024-01-01 23:30:00  1.103780  1.103790  1.103630  1.103675  2.934700e+11   \n",
       "\n",
       "                       spread    ATRr_9  ATRr_9_PERC  \n",
       "timestamp                                             \n",
       "2024-01-01 23:10:00  0.000036  0.000122     0.009900  \n",
       "2024-01-01 23:15:00  0.000037  0.000120     0.009906  \n",
       "2024-01-01 23:20:00  0.000043  0.000118     0.009813  \n",
       "2024-01-01 23:25:00  0.000035  0.000116     0.009759  \n",
       "2024-01-01 23:30:00  0.000028  0.000121     0.010098  "
      ]
     },
     "execution_count": 156,
     "metadata": {},
     "output_type": "execute_result"
    }
   ],
   "source": [
    "df.ta.atr(length=9, append=True)\n",
    "df['ATRr_9_PERC'] = df.ta.atr(length=0, percent=True)\n",
    "df.dropna(inplace=True)\n",
    "df.head()"
   ]
  },
  {
   "cell_type": "code",
   "execution_count": 157,
   "id": "1f7e8061-144c-4c04-90e0-b3cf804e8156",
   "metadata": {},
   "outputs": [],
   "source": [
    "trgt = df['ATRr_9_PERC'].reindex(t_events)"
   ]
  },
  {
   "cell_type": "code",
   "execution_count": 158,
   "id": "c8684303-6cb7-42c5-807b-37b9476f30e6",
   "metadata": {
    "scrolled": true
   },
   "outputs": [
    {
     "data": {
      "text/plain": [
       "count    2558.000000\n",
       "mean        0.025420\n",
       "std         0.014600\n",
       "min         0.004569\n",
       "25%         0.014902\n",
       "50%         0.022162\n",
       "75%         0.031466\n",
       "max         0.124161\n",
       "Name: ATRr_9_PERC, dtype: float64"
      ]
     },
     "execution_count": 158,
     "metadata": {},
     "output_type": "execute_result"
    }
   ],
   "source": [
    "trgt.describe()"
   ]
  },
  {
   "cell_type": "markdown",
   "id": "46535556-2923-43bd-8ca9-d4b739d04b2f",
   "metadata": {},
   "source": [
    "## Apply Triple Barrier\n",
    "We use daily volatility to calculate TP/SL, and we set our T1 as 1day"
   ]
  },
  {
   "cell_type": "code",
   "execution_count": 159,
   "id": "aaca7324-2922-4527-ad13-190452f70912",
   "metadata": {},
   "outputs": [],
   "source": [
    "from concurrent.futures import ThreadPoolExecutor\n",
    "import numpy as np\n",
    "import pandas as pd\n",
    "\n",
    "def applyPtSlOnT1(close,events,ptSl,molecule):\n",
    "    # apply stop loss/profit taking, if it takes place before t1 (end of event)\n",
    "    events_=events.loc[molecule]\n",
    "    out=events_[['t1']].copy(deep=True)\n",
    "    \n",
    "    pt = ptSl[0] * events_['trgt'] if ptSl[0] > 0 else pd.Series(index=events.index)\n",
    "    sl = -ptSl[1] * events_['trgt'] if ptSl[1] > 0 else pd.Series(index=events.index)\n",
    "\n",
    "        \n",
    "    for loc, t1 in events_['t1'].fillna(close.index[-1]).items():\n",
    "        df0=close[loc:t1] # path prices, i.e. price[t0:t1]\n",
    "        df0=(df0/close[loc]-1)*events_.at[loc,'side'] # path returns\n",
    "        out.loc[loc,'sl']=df0[df0<sl[loc]].index.min() # earliest stop loss\n",
    "        out.loc[loc,'pt']=df0[df0>pt[loc]].index.min() # earliest profit taking\n",
    "    return out\n",
    "\n",
    "\n",
    "def parallel_apply(func, items, num_threads=4, **kwargs):\n",
    "    \n",
    "    def worker(molecule):\n",
    "        return func(molecule=molecule, **kwargs)\n",
    "\n",
    "    chunks = np.array_split(items, num_threads)\n",
    "    \n",
    "    with ThreadPoolExecutor(max_workers=num_threads) as executor:\n",
    "        results = list(executor.map(worker, chunks))\n",
    "\n",
    "    return pd.concat(results).sort_index()\n",
    "\n",
    "\n",
    "def getEvents(close, tEvents, ptSl, trgt, minTrgt, numThreads=4, t1=False, side=None):\n",
    "    # Step 1: Filter targets\n",
    "    trgt = trgt.loc[tEvents]\n",
    "    trgt = trgt[trgt > minTrgt]\n",
    "\n",
    "    # Step 2: Set vertical barrier (t1)\n",
    "    if t1 is False:\n",
    "        t1 = pd.Series(pd.NaT, index=tEvents)\n",
    "\n",
    "    # Step 3: Build events DataFrame\n",
    "    if side is None:\n",
    "        side_, ptSl_ = pd.Series(1., index=trgt.index), [ptSl[0], ptSl[0]]\n",
    "    else:\n",
    "        side_, ptSl_ = side.loc[trgt.index], ptSl[:2]\n",
    "\n",
    "    events = pd.concat({'t1': t1, 'trgt': trgt, 'side': side_}, axis=1).dropna(subset=['trgt'])\n",
    "\n",
    "    # Step 4: Apply barriers in parallel\n",
    "    df0 = parallel_apply(\n",
    "        func=applyPtSlOnT1,\n",
    "        items=events.index,\n",
    "        num_threads=numThreads,\n",
    "        close=close,\n",
    "        events=events,\n",
    "        ptSl=ptSl_\n",
    "    )\n",
    "\n",
    "    # Step 5: Choose the first touched barrier\n",
    "    events['t1'] = df0.dropna(how='all').min(axis=1)\n",
    "    \n",
    "    if side is None:\n",
    "        events = events.drop('side', axis=1)\n",
    "        \n",
    "    return events\n"
   ]
  },
  {
   "cell_type": "code",
   "execution_count": 160,
   "id": "b9de899b-4836-42f6-bc62-a95e19e936eb",
   "metadata": {},
   "outputs": [],
   "source": [
    "def get_vertical_barrier(t_events, close, delta=pd.Timedelta(minutes=60)):\n",
    "    \"\"\"\n",
    "    For each event in t_events, find the timestamp in close.index \n",
    "    that is at least delta later. Returns a pd.Series of t1.\n",
    "    \"\"\"\n",
    "    barrier_times = t_events + delta\n",
    "    t1_idx = close.index.searchsorted(barrier_times)\n",
    "    valid_idx = t1_idx[t1_idx < len(close)]\n",
    "    t1 = pd.Series(close.index[valid_idx], index=t_events[:len(valid_idx)])\n",
    "    return t1"
   ]
  },
  {
   "cell_type": "code",
   "execution_count": 161,
   "id": "462bc69a-b2b7-4dda-b477-15643db3e0e6",
   "metadata": {},
   "outputs": [],
   "source": [
    "t1 = get_vertical_barrier(t_events, df['close'], delta=pd.Timedelta(minutes=180))"
   ]
  },
  {
   "cell_type": "code",
   "execution_count": 162,
   "id": "1c70a7fc-0bf6-4e62-8b97-649f0ac67e71",
   "metadata": {
    "scrolled": true
   },
   "outputs": [
    {
     "data": {
      "text/plain": [
       "timestamp\n",
       "2024-01-15 06:35:00   2024-01-15 09:35:00\n",
       "2024-01-15 12:05:00   2024-01-15 15:05:00\n",
       "2024-01-15 14:05:00   2024-01-15 17:05:00\n",
       "2024-01-15 15:55:00   2024-01-15 18:55:00\n",
       "2024-01-15 20:30:00   2024-01-15 23:30:00\n",
       "                              ...        \n",
       "2024-12-30 06:00:00   2024-12-30 09:00:00\n",
       "2024-12-30 07:25:00   2024-12-30 10:25:00\n",
       "2024-12-30 09:50:00   2024-12-30 12:50:00\n",
       "2024-12-30 13:25:00   2024-12-30 16:25:00\n",
       "2024-12-30 18:05:00   2024-12-30 21:05:00\n",
       "Name: timestamp, Length: 2558, dtype: datetime64[ns]"
      ]
     },
     "execution_count": 162,
     "metadata": {},
     "output_type": "execute_result"
    }
   ],
   "source": [
    "t1"
   ]
  },
  {
   "cell_type": "code",
   "execution_count": 163,
   "id": "ebd86514-28e4-40ba-9ccb-03a2b7a188f2",
   "metadata": {},
   "outputs": [
    {
     "data": {
      "text/plain": [
       "count    2558.000000\n",
       "mean        0.025420\n",
       "std         0.014600\n",
       "min         0.004569\n",
       "25%         0.014902\n",
       "50%         0.022162\n",
       "75%         0.031466\n",
       "max         0.124161\n",
       "Name: ATRr_9_PERC, dtype: float64"
      ]
     },
     "execution_count": 163,
     "metadata": {},
     "output_type": "execute_result"
    }
   ],
   "source": [
    "trgt.describe()"
   ]
  },
  {
   "cell_type": "code",
   "execution_count": 164,
   "id": "7f13366b-2910-4f9a-a0cc-150f45074095",
   "metadata": {},
   "outputs": [],
   "source": [
    "minTrgt = trgt.quantile(.3)\n",
    "minTrgt = 0"
   ]
  },
  {
   "cell_type": "code",
   "execution_count": 165,
   "id": "4045f63a-46bc-487d-af26-d4f911eef4f4",
   "metadata": {},
   "outputs": [
    {
     "name": "stdout",
     "output_type": "stream",
     "text": [
      "CPU times: user 571 ms, sys: 7.67 ms, total: 579 ms\n",
      "Wall time: 574 ms\n"
     ]
    }
   ],
   "source": [
    "%%time\n",
    "\n",
    "events = getEvents(\n",
    "    close=df['close'],\n",
    "    tEvents=t_events, \n",
    "    ptSl=[.5,.5], \n",
    "    trgt=trgt, \n",
    "    minTrgt=minTrgt, \n",
    "    numThreads=20, \n",
    "    t1=t1, \n",
    "    side=sides\n",
    ")"
   ]
  },
  {
   "cell_type": "code",
   "execution_count": 166,
   "id": "24de35a3-011a-4da9-a9af-7b9a9edc5f50",
   "metadata": {},
   "outputs": [
    {
     "data": {
      "text/html": [
       "<div>\n",
       "<style scoped>\n",
       "    .dataframe tbody tr th:only-of-type {\n",
       "        vertical-align: middle;\n",
       "    }\n",
       "\n",
       "    .dataframe tbody tr th {\n",
       "        vertical-align: top;\n",
       "    }\n",
       "\n",
       "    .dataframe thead th {\n",
       "        text-align: right;\n",
       "    }\n",
       "</style>\n",
       "<table border=\"1\" class=\"dataframe\">\n",
       "  <thead>\n",
       "    <tr style=\"text-align: right;\">\n",
       "      <th></th>\n",
       "      <th>t1</th>\n",
       "      <th>trgt</th>\n",
       "      <th>side</th>\n",
       "    </tr>\n",
       "    <tr>\n",
       "      <th>timestamp</th>\n",
       "      <th></th>\n",
       "      <th></th>\n",
       "      <th></th>\n",
       "    </tr>\n",
       "  </thead>\n",
       "  <tbody>\n",
       "    <tr>\n",
       "      <th>2024-01-15 06:35:00</th>\n",
       "      <td>2024-01-15 09:35:00</td>\n",
       "      <td>0.014592</td>\n",
       "      <td>0</td>\n",
       "    </tr>\n",
       "    <tr>\n",
       "      <th>2024-01-15 12:05:00</th>\n",
       "      <td>2024-01-15 15:05:00</td>\n",
       "      <td>0.031122</td>\n",
       "      <td>1</td>\n",
       "    </tr>\n",
       "    <tr>\n",
       "      <th>2024-01-15 14:05:00</th>\n",
       "      <td>2024-01-15 17:05:00</td>\n",
       "      <td>0.038892</td>\n",
       "      <td>0</td>\n",
       "    </tr>\n",
       "    <tr>\n",
       "      <th>2024-01-15 15:55:00</th>\n",
       "      <td>2024-01-15 18:55:00</td>\n",
       "      <td>0.032986</td>\n",
       "      <td>1</td>\n",
       "    </tr>\n",
       "    <tr>\n",
       "      <th>2024-01-15 20:30:00</th>\n",
       "      <td>2024-01-15 23:30:00</td>\n",
       "      <td>0.009128</td>\n",
       "      <td>0</td>\n",
       "    </tr>\n",
       "  </tbody>\n",
       "</table>\n",
       "</div>"
      ],
      "text/plain": [
       "                                     t1      trgt  side\n",
       "timestamp                                              \n",
       "2024-01-15 06:35:00 2024-01-15 09:35:00  0.014592     0\n",
       "2024-01-15 12:05:00 2024-01-15 15:05:00  0.031122     1\n",
       "2024-01-15 14:05:00 2024-01-15 17:05:00  0.038892     0\n",
       "2024-01-15 15:55:00 2024-01-15 18:55:00  0.032986     1\n",
       "2024-01-15 20:30:00 2024-01-15 23:30:00  0.009128     0"
      ]
     },
     "execution_count": 166,
     "metadata": {},
     "output_type": "execute_result"
    }
   ],
   "source": [
    "events.head()"
   ]
  },
  {
   "cell_type": "code",
   "execution_count": 167,
   "id": "f1077233-7f18-48ee-808f-d2771bdbb183",
   "metadata": {},
   "outputs": [],
   "source": [
    "events = events.dropna().copy()"
   ]
  },
  {
   "cell_type": "markdown",
   "id": "8bc470ac-b693-4b0e-aff6-d57a46025b59",
   "metadata": {},
   "source": [
    "# Keep only intraday events"
   ]
  },
  {
   "cell_type": "code",
   "execution_count": 168,
   "id": "06eec05e-6873-4ae8-8ff7-71c22b598b73",
   "metadata": {},
   "outputs": [],
   "source": [
    "events = events[events.index.date==events.t1.dt.date]"
   ]
  },
  {
   "cell_type": "markdown",
   "id": "8b34deb2-4762-4fa1-8f88-87bd4419ca10",
   "metadata": {},
   "source": [
    "## Create classification labels"
   ]
  },
  {
   "cell_type": "code",
   "execution_count": 169,
   "id": "87c84302-8f0f-4f3f-bb02-7d85f1a1d732",
   "metadata": {},
   "outputs": [],
   "source": [
    "def getBins(events, close, minRet=0.0, t1=None):\n",
    "    '''\n",
    "    Compute event's outcome (including side information, if provided).\n",
    "    events is a DataFrame where:\n",
    "    -events.index is event's starttime\n",
    "    -events['t1'] is event's endtime\n",
    "    -events['trgt'] is event's target\n",
    "    -events['side'] (optional) implies the algo's position side\n",
    "    -t1 is original vertical barrier series\n",
    "    Case 1: ('side' not in events): bin in (-1,1) <-label by price action\n",
    "    Case 2: ('side' in events): bin in (0,1) <-label by pnl (meta-labeling)\n",
    "    '''\n",
    "    # 1) prices aligned with events\n",
    "    events_ = events.dropna(subset=['t1'])\n",
    "    px = events_.index.union(events_['t1'].values).drop_duplicates()\n",
    "    px = close.reindex(px, method='bfill')\n",
    "    # 2) create out object\n",
    "    out = pd.DataFrame(index=events_.index)\n",
    "    out['ret'] = px.loc[events_['t1'].values].values / px.loc[\n",
    "        events_.index] - 1\n",
    "    if 'side' in events_: out['ret'] *= events_['side']  # meta-labeling\n",
    "    out['bin'] = np.sign(out['ret'])\n",
    "\n",
    "    if 'side' not in events_:\n",
    "        # only applies when not meta-labeling.\n",
    "        # to update bin to 0 when vertical barrier is touched, we need the\n",
    "        # original vertical barrier series since the events['t1'] is the time\n",
    "        # of first touch of any barrier and not the vertical barrier\n",
    "        # specifically. The index of the intersection of the vertical barrier\n",
    "        # values and the events['t1'] values indicate which bin labels needs\n",
    "        # to be turned to 0.\n",
    "        vtouch_first_idx = events[events['t1'].isin(t1.values)].index\n",
    "        out.loc[vtouch_first_idx, 'bin'] = 0.\n",
    "\n",
    "    if 'side' in events_: out.loc[out['ret'] <= 0, 'bin'] = 0  # meta-labeling\n",
    "    # out.loc[out['ret'].abs() < minRet, 'bin'] = 0. # 不做獲利過少的交易 (設為 0)\n",
    "    # out = out.loc[out['ret'].abs() >= minRet] # 過濾掉獲利過少的交易 (刪掉)\n",
    "    return out"
   ]
  },
  {
   "cell_type": "code",
   "execution_count": 170,
   "id": "5e9add65-b183-41aa-b792-31292b518b2c",
   "metadata": {
    "scrolled": true
   },
   "outputs": [],
   "source": [
    "labels = getBins(events, df['close'], minRet=0, t1=t1)"
   ]
  },
  {
   "cell_type": "code",
   "execution_count": 171,
   "id": "f7d80935-b839-472c-9cd4-2d89fa7c2b74",
   "metadata": {},
   "outputs": [
    {
     "data": {
      "text/plain": [
       "bin\n",
       "0.0    1626\n",
       "1.0     567\n",
       "Name: count, dtype: int64"
      ]
     },
     "execution_count": 171,
     "metadata": {},
     "output_type": "execute_result"
    }
   ],
   "source": [
    "labels.bin.value_counts()"
   ]
  },
  {
   "cell_type": "code",
   "execution_count": 185,
   "id": "22fdeb4f-f6d0-45a8-a085-4552b8f3207c",
   "metadata": {},
   "outputs": [],
   "source": [
    "labels = labels.join(events)"
   ]
  },
  {
   "cell_type": "code",
   "execution_count": 186,
   "id": "f73abed8-9033-4d92-8a86-395de41cd875",
   "metadata": {},
   "outputs": [],
   "source": [
    "LABELS_FILE_PATH = META_LABELS_DIR / f\"{RESAMPLED_NAME}-{SIDE_NAME}-meta.pkl\""
   ]
  },
  {
   "cell_type": "code",
   "execution_count": 188,
   "id": "70468228-64bd-486a-b0c7-0018cd8e4ebe",
   "metadata": {},
   "outputs": [],
   "source": [
    "labels.to_pickle(LABELS_FILE_PATH)"
   ]
  }
 ],
 "metadata": {
  "kernelspec": {
   "display_name": "Python 3 (ipykernel)",
   "language": "python",
   "name": "python3"
  },
  "language_info": {
   "codemirror_mode": {
    "name": "ipython",
    "version": 3
   },
   "file_extension": ".py",
   "mimetype": "text/x-python",
   "name": "python",
   "nbconvert_exporter": "python",
   "pygments_lexer": "ipython3",
   "version": "3.12.11"
  }
 },
 "nbformat": 4,
 "nbformat_minor": 5
}
