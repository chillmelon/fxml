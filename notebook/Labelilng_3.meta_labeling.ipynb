{
 "cells": [
  {
   "cell_type": "code",
   "execution_count": 2,
   "id": "601263f8-a7e1-47b2-9b5f-ad9ccc8e4bc7",
   "metadata": {},
   "outputs": [],
   "source": [
    "import pandas as pd\n",
    "import matplotlib.pyplot as plt\n",
    "from matplotlib.ticker import FormatStrFormatter\n",
    "\n",
    "import os\n",
    "import sys\n",
    "module_path = os.path.abspath(os.path.join('..'))\n",
    "if module_path not in sys.path:\n",
    "    sys.path.append(module_path)"
   ]
  },
  {
   "cell_type": "code",
   "execution_count": 3,
   "id": "9504524c-b25f-42e5-b93b-64b4ecf9ad49",
   "metadata": {},
   "outputs": [],
   "source": [
    "MODEL_NAME = \"t2v+transformer\"\n",
    "V_NUM = 22\n",
    "SOURCE = \"dukascopy\"\n",
    "SYMBOL = \"usdjpy\"\n",
    "MINUTES = 1\n",
    "EVENT = '58m-dollar'\n",
    "START_DATE = \"2020-01-01\"\n",
    "END_DATE = \"2024-12-31\"\n",
    "EVENT_NAME = \"cusum_filter\"\n",
    "SEQUENCE_LENGTH = 120\n",
    "TIME_COLS = [\n",
    "    # 'timestamp',\n",
    "    \"hour\",\n",
    "    \"dow\",\n",
    "    \"dom\",\n",
    "    \"month\",\n",
    "    # \"open\",\n",
    "    # \"high\",\n",
    "    # \"low\",\n",
    "    # \"close\",\n",
    "]\n",
    "FEATURES_COLS = [\n",
    "    # Basic Data\n",
    "    \"close_log_return\",\n",
    "    \"ret_mean_5\",\n",
    "    \"ret_mean_10\",\n",
    "    \"log_volume\",\n",
    "    \"ema5_slope\",\n",
    "    \"ema20_slope\",\n",
    "    \"atr20\",\n",
    "    \"vol_adj_return\",\n",
    "    \"close_to_atr\",\n",
    "    \"macd_diff\",\n",
    "    \"bb_width\",\n",
    "    \"bb_position\",\n",
    "    \"donchian_width\"\n",
    "]\n",
    "TARGET_COL = \"bin_class\""
   ]
  },
  {
   "cell_type": "code",
   "execution_count": 4,
   "id": "8a3a96c4-ffb8-4a68-9adc-a340fe3ab49b",
   "metadata": {},
   "outputs": [],
   "source": [
    "from pathlib import Path\n",
    "\n",
    "# Build base name\n",
    "BASE_NAME = f\"{SOURCE}-{SYMBOL}-tick-{START_DATE}-{END_DATE}\"\n",
    "RESAMPLED_NAME = f\"{SOURCE}-{SYMBOL}-{MINUTES}m-{START_DATE}-{END_DATE}\"\n",
    "RESAMPLED_NAME = f\"{SOURCE}-{SYMBOL}-{EVENT}-{START_DATE}-{END_DATE}\"\n",
    "LABEL_NAME = f\"{RESAMPLED_NAME}-{EVENT_NAME}\"\n",
    "# Base directories\n",
    "BASE_DIR = Path(\"../data\")\n",
    "RESAMPLED_DIR = BASE_DIR / \"resampled\"\n",
    "LABEL_DIR = BASE_DIR / \"labels\"\n",
    "PROCESSED_DIR = BASE_DIR / \"processed\"\n",
    "NORMALIZED_DIR = BASE_DIR / \"normalized\"\n",
    "DIRECTION_LABEL_DIR = BASE_DIR / \"direction_labels\"\n",
    "\n",
    "# Final paths\n",
    "PROCESSED_FILE_PATH = PROCESSED_DIR / f\"{RESAMPLED_NAME}_processed.pkl\"\n",
    "NORMALIZED_FILE_PATH = NORMALIZED_DIR / f\"{RESAMPLED_NAME}_normalized.pkl\"\n",
    "DIRECTION_LABEL_FILE_PATH = DIRECTION_LABEL_DIR / f\"{RESAMPLED_NAME}-{EVENT_NAME}.pkl\""
   ]
  },
  {
   "cell_type": "code",
   "execution_count": 5,
   "id": "1a8b032d-ffc4-40ce-8ed0-30b6276a7196",
   "metadata": {},
   "outputs": [],
   "source": [
    "MODEL_PATH = f'../lightning_logs/{MODEL_NAME}-{EVENT}-{EVENT_NAME}/version_{V_NUM}/checkpoints/best_checkpoint.ckpt'"
   ]
  },
  {
   "cell_type": "code",
   "execution_count": 6,
   "id": "9b841255-94fc-480f-8ca3-bdfbf2a13e00",
   "metadata": {},
   "outputs": [],
   "source": [
    "SIDE_NAME = 'transformer_sides'\n",
    "\n",
    "META_LABEL_DIR = BASE_DIR / \"meta_labels\"\n",
    "META_LABEL_DIR.mkdir(parents=True, exist_ok=True)\n",
    "META_LABEL_FILE_PATH = META_LABEL_DIR / f\"{RESAMPLED_NAME}-{EVENT_NAME}-{SIDE_NAME}.pkl\""
   ]
  },
  {
   "cell_type": "code",
   "execution_count": 7,
   "id": "58f0f35f-e374-403b-896a-bd180e81d411",
   "metadata": {
    "scrolled": true
   },
   "outputs": [
    {
     "name": "stdout",
     "output_type": "stream",
     "text": [
      "CPU times: user 3.31 ms, sys: 124 ms, total: 128 ms\n",
      "Wall time: 198 ms\n"
     ]
    }
   ],
   "source": [
    "%%time\n",
    "df = pd.read_pickle(NORMALIZED_FILE_PATH)\n",
    "labels_df = pd.read_pickle(DIRECTION_LABEL_FILE_PATH)"
   ]
  },
  {
   "cell_type": "code",
   "execution_count": 8,
   "id": "936583e8-7b12-4feb-86dc-662d897ba3de",
   "metadata": {},
   "outputs": [],
   "source": [
    "t_events = labels_df.index"
   ]
  },
  {
   "cell_type": "code",
   "execution_count": 9,
   "id": "d5dc1ece-8bdf-4557-b2eb-51bcf4023553",
   "metadata": {},
   "outputs": [
    {
     "data": {
      "text/plain": [
       "DatetimeIndex([], dtype='datetime64[ns]', name='timestamp', freq=None)"
      ]
     },
     "execution_count": 9,
     "metadata": {},
     "output_type": "execute_result"
    }
   ],
   "source": [
    "missing = t_events.difference(df.index)\n",
    "missing"
   ]
  },
  {
   "cell_type": "markdown",
   "id": "3e912d82-cf6a-49de-9ec5-0544a4eb36b9",
   "metadata": {},
   "source": [
    "### Load Model"
   ]
  },
  {
   "cell_type": "code",
   "execution_count": 10,
   "id": "6bfb86dd-b268-4f44-ab32-4c5a807379f3",
   "metadata": {},
   "outputs": [],
   "source": [
    "from models.classification.t2v_transformer_model import T2VTransformerModule"
   ]
  },
  {
   "cell_type": "code",
   "execution_count": 11,
   "id": "2d363202-730c-4f75-b63e-3fec9698ce43",
   "metadata": {
    "scrolled": true
   },
   "outputs": [],
   "source": [
    "model = T2VTransformerModule.load_from_checkpoint(MODEL_PATH)"
   ]
  },
  {
   "cell_type": "markdown",
   "id": "3c964763-419d-465a-9a48-f4efbec074b2",
   "metadata": {},
   "source": [
    "## Get Side from Trained Model"
   ]
  },
  {
   "cell_type": "code",
   "execution_count": 12,
   "id": "d4dffa4b-b572-4bfb-9b3e-4abb398afc8b",
   "metadata": {
    "scrolled": true
   },
   "outputs": [],
   "source": [
    "features = df[TIME_COLS + FEATURES_COLS]"
   ]
  },
  {
   "cell_type": "code",
   "execution_count": 13,
   "id": "125998d5-a7cf-447a-a5e5-aade6aa58300",
   "metadata": {},
   "outputs": [],
   "source": [
    "from sklearn.linear_model import LinearRegression\n",
    "import pandas as pd\n",
    "import numpy as np\n",
    "import torch\n",
    "\n",
    "def get_side_from_model(model, data: pd.DataFrame, labels: pd.DataFrame, lookback: int = 24, device: str = 'cpu'):\n",
    "    \"\"\"\n",
    "    Create a 'side' signal using linear regression trendline logic.\n",
    "    \n",
    "    Args:\n",
    "        close (pd.Series): Close price series (indexed by datetime)\n",
    "        t_events (pd.Index): Event timestamps (e.g., from MACD or CUSUM)\n",
    "        lookback (int): Number of past bars to fit linear trend\n",
    "    \n",
    "    Returns:\n",
    "        pd.Series: side signal indexed by t_events (1 = long, -1 = short)\n",
    "    \"\"\"\n",
    "    \n",
    "    model.eval()\n",
    "    model.to(device)\n",
    "    t_events = labels.index\n",
    "    side = pd.Series(index=t_events, dtype='float32')\n",
    "\n",
    "    for t in t_events:\n",
    "        if t not in data.index:\n",
    "            print(f\"{t} is not in data index\")\n",
    "            continue\n",
    "        try:\n",
    "            end_loc = data.index.get_loc(t)\n",
    "            start_loc = end_loc - lookback\n",
    "            if start_loc < 0:\n",
    "                print(f\"{start_loc}, {end_loc} is out of range\")\n",
    "                continue  # not enough lookback\n",
    "            seq = data.iloc[start_loc:end_loc].values.astype(np.float32)\n",
    "            if seq.shape[0] != lookback:\n",
    "                print('sequence length wrong')\n",
    "                continue\n",
    "            x_tensor = torch.tensor(seq).unsqueeze(0).to(device)\n",
    "            with torch.no_grad():\n",
    "                logits = model(x_tensor)\n",
    "                \n",
    "                pred_class = int(torch.argmax(logits, dim=1).cpu().item())\n",
    "                probs = torch.softmax(logits, dim=1).cpu().numpy()[0]\n",
    "                # print(f\"Probabilities: {probs} → Predicted class: {pred_class}\")\n",
    "\n",
    "            side[t] = pred_class\n",
    "\n",
    "        except Exception as e:\n",
    "            print(e)\n",
    "            continue\n",
    "        \n",
    "\n",
    "    return side.dropna()\n"
   ]
  },
  {
   "cell_type": "code",
   "execution_count": 14,
   "id": "44f699e2-9f37-4fd0-883f-b60dd1641794",
   "metadata": {
    "scrolled": true
   },
   "outputs": [
    {
     "name": "stdout",
     "output_type": "stream",
     "text": [
      "-53, 67 is out of range\n",
      "-11, 109 is out of range\n",
      "CPU times: user 1min 13s, sys: 1min 5s, total: 2min 18s\n",
      "Wall time: 1min 1s\n"
     ]
    },
    {
     "data": {
      "text/plain": [
       "(2.0    24918\n",
       " 1.0    14246\n",
       " 0.0    12662\n",
       " Name: count, dtype: int64,\n",
       " np.int64(0))"
      ]
     },
     "execution_count": 14,
     "metadata": {},
     "output_type": "execute_result"
    }
   ],
   "source": [
    "%%time\n",
    "predicted_sides = get_side_from_model(model=model, data=features,labels=labels_df, lookback=SEQUENCE_LENGTH, device='cpu')\n",
    "predicted_sides.value_counts(), predicted_sides.isna().sum()"
   ]
  },
  {
   "cell_type": "code",
   "execution_count": 15,
   "id": "8f40ebbb-df85-45f6-bafd-6d7ad54f3a5d",
   "metadata": {},
   "outputs": [],
   "source": [
    "labels_df = labels_df.join(predicted_sides.rename(\"pred_class\"))"
   ]
  },
  {
   "cell_type": "code",
   "execution_count": 16,
   "id": "007854ed-31f6-4a5a-ab70-a0ba9587d654",
   "metadata": {},
   "outputs": [
    {
     "data": {
      "text/plain": [
       "(51828, 7)"
      ]
     },
     "execution_count": 16,
     "metadata": {},
     "output_type": "execute_result"
    }
   ],
   "source": [
    "labels_df.shape"
   ]
  },
  {
   "cell_type": "code",
   "execution_count": 17,
   "id": "694a1af3-327d-45b5-8ff9-6aad56aa23ac",
   "metadata": {},
   "outputs": [
    {
     "data": {
      "text/plain": [
       "t1            0\n",
       "trgt          0\n",
       "duration      0\n",
       "ret           0\n",
       "bin           0\n",
       "bin_class     0\n",
       "pred_class    2\n",
       "dtype: int64"
      ]
     },
     "execution_count": 17,
     "metadata": {},
     "output_type": "execute_result"
    }
   ],
   "source": [
    "labels_df.isna().sum()"
   ]
  },
  {
   "cell_type": "code",
   "execution_count": 18,
   "id": "73f05dfc-6a3a-410d-897f-7cf50c6258b5",
   "metadata": {},
   "outputs": [
    {
     "data": {
      "text/html": [
       "<div>\n",
       "<style scoped>\n",
       "    .dataframe tbody tr th:only-of-type {\n",
       "        vertical-align: middle;\n",
       "    }\n",
       "\n",
       "    .dataframe tbody tr th {\n",
       "        vertical-align: top;\n",
       "    }\n",
       "\n",
       "    .dataframe thead th {\n",
       "        text-align: right;\n",
       "    }\n",
       "</style>\n",
       "<table border=\"1\" class=\"dataframe\">\n",
       "  <thead>\n",
       "    <tr style=\"text-align: right;\">\n",
       "      <th></th>\n",
       "      <th>t1</th>\n",
       "      <th>trgt</th>\n",
       "      <th>duration</th>\n",
       "      <th>ret</th>\n",
       "      <th>bin</th>\n",
       "      <th>bin_class</th>\n",
       "      <th>pred_class</th>\n",
       "    </tr>\n",
       "    <tr>\n",
       "      <th>timestamp</th>\n",
       "      <th></th>\n",
       "      <th></th>\n",
       "      <th></th>\n",
       "      <th></th>\n",
       "      <th></th>\n",
       "      <th></th>\n",
       "      <th></th>\n",
       "    </tr>\n",
       "  </thead>\n",
       "  <tbody>\n",
       "    <tr>\n",
       "      <th>2020-01-02 09:39:45.692</th>\n",
       "      <td>2020-01-02 10:12:00.594</td>\n",
       "      <td>0.000523</td>\n",
       "      <td>0 days 00:32:14.902000</td>\n",
       "      <td>0.000193</td>\n",
       "      <td>0.0</td>\n",
       "      <td>1.0</td>\n",
       "      <td>NaN</td>\n",
       "    </tr>\n",
       "    <tr>\n",
       "      <th>2020-01-02 13:20:20.277</th>\n",
       "      <td>2020-01-02 13:40:53.939</td>\n",
       "      <td>0.000486</td>\n",
       "      <td>0 days 00:20:33.662000</td>\n",
       "      <td>-0.000598</td>\n",
       "      <td>-1.0</td>\n",
       "      <td>0.0</td>\n",
       "      <td>NaN</td>\n",
       "    </tr>\n",
       "  </tbody>\n",
       "</table>\n",
       "</div>"
      ],
      "text/plain": [
       "                                             t1      trgt  \\\n",
       "timestamp                                                   \n",
       "2020-01-02 09:39:45.692 2020-01-02 10:12:00.594  0.000523   \n",
       "2020-01-02 13:20:20.277 2020-01-02 13:40:53.939  0.000486   \n",
       "\n",
       "                                      duration       ret  bin  bin_class  \\\n",
       "timestamp                                                                  \n",
       "2020-01-02 09:39:45.692 0 days 00:32:14.902000  0.000193  0.0        1.0   \n",
       "2020-01-02 13:20:20.277 0 days 00:20:33.662000 -0.000598 -1.0        0.0   \n",
       "\n",
       "                         pred_class  \n",
       "timestamp                            \n",
       "2020-01-02 09:39:45.692         NaN  \n",
       "2020-01-02 13:20:20.277         NaN  "
      ]
     },
     "execution_count": 18,
     "metadata": {},
     "output_type": "execute_result"
    }
   ],
   "source": [
    "labels_df.loc[labels_df['pred_class'].isna()]"
   ]
  },
  {
   "cell_type": "code",
   "execution_count": 19,
   "id": "af726a7d-6d65-4394-8ec8-6a16c59641cb",
   "metadata": {},
   "outputs": [],
   "source": [
    "labels_df = labels_df.dropna()"
   ]
  },
  {
   "cell_type": "code",
   "execution_count": 21,
   "id": "228a82bd-4870-4c7c-bf0a-3456b9893997",
   "metadata": {},
   "outputs": [],
   "source": [
    "from concurrent.futures import ThreadPoolExecutor\n",
    "import numpy as np\n",
    "import pandas as pd\n",
    "\n",
    "def applyPtSlOnT1(close,events,ptSl,molecule):\n",
    "    # apply stop loss/profit taking, if it takes place before t1 (end of event)\n",
    "    events_=events.loc[molecule]\n",
    "    out=events_[['t1']].copy(deep=True)\n",
    "    if ptSl[0]>0: pt=ptSl[0]*events_['trgt']\n",
    "    else: pt=pd.Series(index=events.index) # NaNs\n",
    "    if ptSl[1]>0: sl=-ptSl[1]*events_['trgt']\n",
    "    else: sl=pd.Series(index=events.index) # NaNs\n",
    "    for loc, t1 in events_['t1'].fillna(close.index[-1]).items():\n",
    "        df0=close[loc:t1] # path prices\n",
    "        df0=(df0/close[loc]-1)*events_.at[loc,'side'] # path returns\n",
    "        out.loc[loc,'sl']=df0[df0<sl[loc]].index.min() # earliest stop loss\n",
    "        out.loc[loc,'pt']=df0[df0>pt[loc]].index.min() # earliest profit taking\n",
    "    return out\n",
    "\n",
    "\n",
    "def parallel_apply(func, items, num_threads=4, **kwargs):\n",
    "    def worker(molecule):\n",
    "        return func(molecule=molecule, **kwargs)\n",
    "\n",
    "    chunks = np.array_split(items, num_threads)\n",
    "    with ThreadPoolExecutor(max_workers=num_threads) as executor:\n",
    "        results = list(executor.map(worker, chunks))\n",
    "\n",
    "    return pd.concat(results).sort_index()\n",
    "\n",
    "\n",
    "def getEvents(close, tEvents, ptSl, trgt, minRet, numThreads=4, t1=False, side=None):\n",
    "    # Step 1: Filter targets\n",
    "    trgt = trgt.loc[tEvents]\n",
    "    trgt = trgt[trgt > minRet]\n",
    "\n",
    "    # Step 2: Set vertical barrier (t1)\n",
    "    if t1 is False:\n",
    "        t1 = pd.Series(pd.NaT, index=tEvents)\n",
    "\n",
    "    # Step 3: Build events DataFrame\n",
    "    if side is None:\n",
    "        side_, ptSl_ = pd.Series(1., index=trgt.index), [ptSl[0], ptSl[0]]\n",
    "    else:\n",
    "        side_, ptSl_ = side.loc[trgt.index], ptSl[:2]\n",
    "\n",
    "    events = pd.concat({'t1': t1, 'trgt': trgt, 'side': side_}, axis=1).dropna(subset=['trgt'])\n",
    "\n",
    "    # Step 4: Apply barriers in parallel\n",
    "    df0 = parallel_apply(\n",
    "        func=applyPtSlOnT1,\n",
    "        items=events.index,\n",
    "        num_threads=numThreads,\n",
    "        close=close,\n",
    "        events=events,\n",
    "        ptSl=ptSl_\n",
    "    )\n",
    "\n",
    "    # Step 5: Choose the first touched barrier\n",
    "    events['t1'] = df0.dropna(how='all').min(axis=1)\n",
    "    if side is None:\n",
    "        events = events.drop('side', axis=1)\n",
    "    return events\n"
   ]
  },
  {
   "cell_type": "code",
   "execution_count": 27,
   "id": "3daf7f75-5522-45b8-b44b-1d37e659dfa3",
   "metadata": {},
   "outputs": [
    {
     "name": "stdout",
     "output_type": "stream",
     "text": [
      "CPU times: user 13.9 s, sys: 1.29 s, total: 15.2 s\n",
      "Wall time: 14.2 s\n"
     ]
    }
   ],
   "source": [
    "%%time\n",
    "\n",
    "events = getEvents(df['close'], tEvents=labels_df.index, ptSl=[1,1], trgt=labels_df.trgt, minRet=0, numThreads=8, t1=labels_df.t1, side=predicted_sides)"
   ]
  },
  {
   "cell_type": "code",
   "execution_count": 28,
   "id": "fabe2ce8-5475-4fe8-b6dc-04afdb44fdfe",
   "metadata": {},
   "outputs": [
    {
     "data": {
      "text/html": [
       "<div>\n",
       "<style scoped>\n",
       "    .dataframe tbody tr th:only-of-type {\n",
       "        vertical-align: middle;\n",
       "    }\n",
       "\n",
       "    .dataframe tbody tr th {\n",
       "        vertical-align: top;\n",
       "    }\n",
       "\n",
       "    .dataframe thead th {\n",
       "        text-align: right;\n",
       "    }\n",
       "</style>\n",
       "<table border=\"1\" class=\"dataframe\">\n",
       "  <thead>\n",
       "    <tr style=\"text-align: right;\">\n",
       "      <th></th>\n",
       "      <th>t1</th>\n",
       "      <th>trgt</th>\n",
       "      <th>side</th>\n",
       "    </tr>\n",
       "    <tr>\n",
       "      <th>timestamp</th>\n",
       "      <th></th>\n",
       "      <th></th>\n",
       "      <th></th>\n",
       "    </tr>\n",
       "  </thead>\n",
       "  <tbody>\n",
       "    <tr>\n",
       "      <th>2020-01-02 15:12:25.452</th>\n",
       "      <td>2020-01-02 15:13:50.102</td>\n",
       "      <td>0.000352</td>\n",
       "      <td>2.0</td>\n",
       "    </tr>\n",
       "    <tr>\n",
       "      <th>2020-01-02 15:20:27.753</th>\n",
       "      <td>2020-01-02 15:23:24.339</td>\n",
       "      <td>0.000375</td>\n",
       "      <td>2.0</td>\n",
       "    </tr>\n",
       "    <tr>\n",
       "      <th>2020-01-02 15:27:08.082</th>\n",
       "      <td>2020-01-02 15:30:51.020</td>\n",
       "      <td>0.000456</td>\n",
       "      <td>2.0</td>\n",
       "    </tr>\n",
       "    <tr>\n",
       "      <th>2020-01-02 15:33:18.152</th>\n",
       "      <td>2020-01-02 15:36:26.386</td>\n",
       "      <td>0.000481</td>\n",
       "      <td>2.0</td>\n",
       "    </tr>\n",
       "    <tr>\n",
       "      <th>2020-01-02 16:14:52.893</th>\n",
       "      <td>2020-01-02 16:39:57.573</td>\n",
       "      <td>0.000419</td>\n",
       "      <td>2.0</td>\n",
       "    </tr>\n",
       "    <tr>\n",
       "      <th>...</th>\n",
       "      <td>...</td>\n",
       "      <td>...</td>\n",
       "      <td>...</td>\n",
       "    </tr>\n",
       "    <tr>\n",
       "      <th>2024-12-30 18:36:06.406</th>\n",
       "      <td>2024-12-30 18:39:30.082</td>\n",
       "      <td>0.000345</td>\n",
       "      <td>2.0</td>\n",
       "    </tr>\n",
       "    <tr>\n",
       "      <th>2024-12-30 19:58:40.522</th>\n",
       "      <td>2024-12-30 20:04:11.854</td>\n",
       "      <td>0.000382</td>\n",
       "      <td>1.0</td>\n",
       "    </tr>\n",
       "    <tr>\n",
       "      <th>2024-12-30 20:33:36.881</th>\n",
       "      <td>2024-12-30 20:36:57.321</td>\n",
       "      <td>0.000330</td>\n",
       "      <td>1.0</td>\n",
       "    </tr>\n",
       "    <tr>\n",
       "      <th>2024-12-30 21:24:11.892</th>\n",
       "      <td>2024-12-30 21:46:12.738</td>\n",
       "      <td>0.000417</td>\n",
       "      <td>1.0</td>\n",
       "    </tr>\n",
       "    <tr>\n",
       "      <th>2024-12-30 23:08:12.101</th>\n",
       "      <td>2024-12-30 23:13:31.707</td>\n",
       "      <td>0.000416</td>\n",
       "      <td>2.0</td>\n",
       "    </tr>\n",
       "  </tbody>\n",
       "</table>\n",
       "<p>51826 rows × 3 columns</p>\n",
       "</div>"
      ],
      "text/plain": [
       "                                             t1      trgt  side\n",
       "timestamp                                                      \n",
       "2020-01-02 15:12:25.452 2020-01-02 15:13:50.102  0.000352   2.0\n",
       "2020-01-02 15:20:27.753 2020-01-02 15:23:24.339  0.000375   2.0\n",
       "2020-01-02 15:27:08.082 2020-01-02 15:30:51.020  0.000456   2.0\n",
       "2020-01-02 15:33:18.152 2020-01-02 15:36:26.386  0.000481   2.0\n",
       "2020-01-02 16:14:52.893 2020-01-02 16:39:57.573  0.000419   2.0\n",
       "...                                         ...       ...   ...\n",
       "2024-12-30 18:36:06.406 2024-12-30 18:39:30.082  0.000345   2.0\n",
       "2024-12-30 19:58:40.522 2024-12-30 20:04:11.854  0.000382   1.0\n",
       "2024-12-30 20:33:36.881 2024-12-30 20:36:57.321  0.000330   1.0\n",
       "2024-12-30 21:24:11.892 2024-12-30 21:46:12.738  0.000417   1.0\n",
       "2024-12-30 23:08:12.101 2024-12-30 23:13:31.707  0.000416   2.0\n",
       "\n",
       "[51826 rows x 3 columns]"
      ]
     },
     "execution_count": 28,
     "metadata": {},
     "output_type": "execute_result"
    }
   ],
   "source": [
    "events"
   ]
  },
  {
   "cell_type": "code",
   "execution_count": 29,
   "id": "418be389-de4d-4684-8817-239f42addbe3",
   "metadata": {},
   "outputs": [],
   "source": [
    "def getBins(events, close, t1=None):\n",
    "    '''\n",
    "    Compute event's outcome (including side information, if provided).\n",
    "    events is a DataFrame where:\n",
    "    -events.index is event's starttime\n",
    "    -events['t1'] is event's endtime\n",
    "    -events['trgt'] is event's target\n",
    "    -events['side'] (optional) implies the algo's position side\n",
    "    -t1 is original vertical barrier series\n",
    "    Case 1: ('side' not in events): bin in (-1,1) <-label by price action\n",
    "    Case 2: ('side' in events): bin in (0,1) <-label by pnl (meta-labeling)\n",
    "    '''\n",
    "    # 1) prices aligned with events\n",
    "    events_ = events.dropna(subset=['t1'])\n",
    "    px = events_.index.union(events_['t1'].values).drop_duplicates()\n",
    "    px = close.reindex(px, method='bfill')\n",
    "    # 2) create out object\n",
    "    out = pd.DataFrame(index=events_.index)\n",
    "    out['ret'] = px.loc[events_['t1'].values].values / px.loc[\n",
    "        events_.index] - 1\n",
    "    if 'side' in events_: out['ret'] *= events_['side']  # meta-labeling\n",
    "    out['bin'] = np.sign(out['ret'])\n",
    "\n",
    "    if 'side' not in events_:\n",
    "        # only applies when not meta-labeling.\n",
    "        # to update bin to 0 when vertical barrier is touched, we need the\n",
    "        # original vertical barrier series since the events['t1'] is the time\n",
    "        # of first touch of any barrier and not the vertical barrier\n",
    "        # specifically. The index of the intersection of the vertical barrier\n",
    "        # values and the events['t1'] values indicate which bin labels needs\n",
    "        # to be turned to 0.\n",
    "        vtouch_first_idx = events[events['t1'].isin(t1.values)].index\n",
    "        out.loc[vtouch_first_idx, 'bin'] = 0.\n",
    "\n",
    "    if 'side' in events_: out.loc[out['ret'] <= 0, 'bin'] = 0  # meta-labeling\n",
    "    return out"
   ]
  },
  {
   "cell_type": "code",
   "execution_count": 31,
   "id": "24b6225e-c69b-4822-a57c-982271fbe454",
   "metadata": {
    "scrolled": true
   },
   "outputs": [
    {
     "data": {
      "text/html": [
       "<div>\n",
       "<style scoped>\n",
       "    .dataframe tbody tr th:only-of-type {\n",
       "        vertical-align: middle;\n",
       "    }\n",
       "\n",
       "    .dataframe tbody tr th {\n",
       "        vertical-align: top;\n",
       "    }\n",
       "\n",
       "    .dataframe thead th {\n",
       "        text-align: right;\n",
       "    }\n",
       "</style>\n",
       "<table border=\"1\" class=\"dataframe\">\n",
       "  <thead>\n",
       "    <tr style=\"text-align: right;\">\n",
       "      <th></th>\n",
       "      <th>ret</th>\n",
       "      <th>bin</th>\n",
       "    </tr>\n",
       "    <tr>\n",
       "      <th>timestamp</th>\n",
       "      <th></th>\n",
       "      <th></th>\n",
       "    </tr>\n",
       "  </thead>\n",
       "  <tbody>\n",
       "    <tr>\n",
       "      <th>2020-01-02 15:12:25.452</th>\n",
       "      <td>-0.000644</td>\n",
       "      <td>0.0</td>\n",
       "    </tr>\n",
       "    <tr>\n",
       "      <th>2020-01-02 15:20:27.753</th>\n",
       "      <td>-0.000461</td>\n",
       "      <td>0.0</td>\n",
       "    </tr>\n",
       "    <tr>\n",
       "      <th>2020-01-02 15:27:08.082</th>\n",
       "      <td>-0.000618</td>\n",
       "      <td>0.0</td>\n",
       "    </tr>\n",
       "    <tr>\n",
       "      <th>2020-01-02 15:33:18.152</th>\n",
       "      <td>0.000489</td>\n",
       "      <td>1.0</td>\n",
       "    </tr>\n",
       "    <tr>\n",
       "      <th>2020-01-02 16:14:52.893</th>\n",
       "      <td>0.000618</td>\n",
       "      <td>1.0</td>\n",
       "    </tr>\n",
       "    <tr>\n",
       "      <th>...</th>\n",
       "      <td>...</td>\n",
       "      <td>...</td>\n",
       "    </tr>\n",
       "    <tr>\n",
       "      <th>2024-12-30 18:36:06.406</th>\n",
       "      <td>0.000357</td>\n",
       "      <td>1.0</td>\n",
       "    </tr>\n",
       "    <tr>\n",
       "      <th>2024-12-30 19:58:40.522</th>\n",
       "      <td>-0.000391</td>\n",
       "      <td>0.0</td>\n",
       "    </tr>\n",
       "    <tr>\n",
       "      <th>2024-12-30 20:33:36.881</th>\n",
       "      <td>-0.000338</td>\n",
       "      <td>0.0</td>\n",
       "    </tr>\n",
       "    <tr>\n",
       "      <th>2024-12-30 21:24:11.892</th>\n",
       "      <td>0.000593</td>\n",
       "      <td>1.0</td>\n",
       "    </tr>\n",
       "    <tr>\n",
       "      <th>2024-12-30 23:08:12.101</th>\n",
       "      <td>0.000924</td>\n",
       "      <td>1.0</td>\n",
       "    </tr>\n",
       "  </tbody>\n",
       "</table>\n",
       "<p>51826 rows × 2 columns</p>\n",
       "</div>"
      ],
      "text/plain": [
       "                              ret  bin\n",
       "timestamp                             \n",
       "2020-01-02 15:12:25.452 -0.000644  0.0\n",
       "2020-01-02 15:20:27.753 -0.000461  0.0\n",
       "2020-01-02 15:27:08.082 -0.000618  0.0\n",
       "2020-01-02 15:33:18.152  0.000489  1.0\n",
       "2020-01-02 16:14:52.893  0.000618  1.0\n",
       "...                           ...  ...\n",
       "2024-12-30 18:36:06.406  0.000357  1.0\n",
       "2024-12-30 19:58:40.522 -0.000391  0.0\n",
       "2024-12-30 20:33:36.881 -0.000338  0.0\n",
       "2024-12-30 21:24:11.892  0.000593  1.0\n",
       "2024-12-30 23:08:12.101  0.000924  1.0\n",
       "\n",
       "[51826 rows x 2 columns]"
      ]
     },
     "execution_count": 31,
     "metadata": {},
     "output_type": "execute_result"
    }
   ],
   "source": [
    "labels = getBins(events, df['close'], t1=labels_df.t1)\n",
    "labels"
   ]
  },
  {
   "cell_type": "code",
   "execution_count": 32,
   "id": "77797461-e6ba-4f39-abe8-490d69bcbbdf",
   "metadata": {},
   "outputs": [
    {
     "data": {
      "text/plain": [
       "bin\n",
       "0.0    31708\n",
       "1.0    20118\n",
       "Name: count, dtype: int64"
      ]
     },
     "execution_count": 32,
     "metadata": {},
     "output_type": "execute_result"
    }
   ],
   "source": [
    "labels.bin.value_counts()"
   ]
  },
  {
   "cell_type": "code",
   "execution_count": 33,
   "id": "0a0bdb6d-6728-4e5b-81b5-37524fbd69bc",
   "metadata": {},
   "outputs": [],
   "source": [
    "labeled_events = events.join(labels, how='inner')"
   ]
  },
  {
   "cell_type": "code",
   "execution_count": 34,
   "id": "ef7eb2f9-fcc5-4de1-953f-423b160cb7c7",
   "metadata": {},
   "outputs": [
    {
     "data": {
      "text/html": [
       "<div>\n",
       "<style scoped>\n",
       "    .dataframe tbody tr th:only-of-type {\n",
       "        vertical-align: middle;\n",
       "    }\n",
       "\n",
       "    .dataframe tbody tr th {\n",
       "        vertical-align: top;\n",
       "    }\n",
       "\n",
       "    .dataframe thead th {\n",
       "        text-align: right;\n",
       "    }\n",
       "</style>\n",
       "<table border=\"1\" class=\"dataframe\">\n",
       "  <thead>\n",
       "    <tr style=\"text-align: right;\">\n",
       "      <th></th>\n",
       "      <th>t1</th>\n",
       "      <th>trgt</th>\n",
       "      <th>side</th>\n",
       "      <th>ret</th>\n",
       "      <th>bin</th>\n",
       "    </tr>\n",
       "    <tr>\n",
       "      <th>timestamp</th>\n",
       "      <th></th>\n",
       "      <th></th>\n",
       "      <th></th>\n",
       "      <th></th>\n",
       "      <th></th>\n",
       "    </tr>\n",
       "  </thead>\n",
       "  <tbody>\n",
       "    <tr>\n",
       "      <th>2020-01-02 15:12:25.452</th>\n",
       "      <td>2020-01-02 15:13:50.102</td>\n",
       "      <td>0.000352</td>\n",
       "      <td>2.0</td>\n",
       "      <td>-0.000644</td>\n",
       "      <td>0.0</td>\n",
       "    </tr>\n",
       "    <tr>\n",
       "      <th>2020-01-02 15:20:27.753</th>\n",
       "      <td>2020-01-02 15:23:24.339</td>\n",
       "      <td>0.000375</td>\n",
       "      <td>2.0</td>\n",
       "      <td>-0.000461</td>\n",
       "      <td>0.0</td>\n",
       "    </tr>\n",
       "    <tr>\n",
       "      <th>2020-01-02 15:27:08.082</th>\n",
       "      <td>2020-01-02 15:30:51.020</td>\n",
       "      <td>0.000456</td>\n",
       "      <td>2.0</td>\n",
       "      <td>-0.000618</td>\n",
       "      <td>0.0</td>\n",
       "    </tr>\n",
       "    <tr>\n",
       "      <th>2020-01-02 15:33:18.152</th>\n",
       "      <td>2020-01-02 15:36:26.386</td>\n",
       "      <td>0.000481</td>\n",
       "      <td>2.0</td>\n",
       "      <td>0.000489</td>\n",
       "      <td>1.0</td>\n",
       "    </tr>\n",
       "    <tr>\n",
       "      <th>2020-01-02 16:14:52.893</th>\n",
       "      <td>2020-01-02 16:39:57.573</td>\n",
       "      <td>0.000419</td>\n",
       "      <td>2.0</td>\n",
       "      <td>0.000618</td>\n",
       "      <td>1.0</td>\n",
       "    </tr>\n",
       "    <tr>\n",
       "      <th>...</th>\n",
       "      <td>...</td>\n",
       "      <td>...</td>\n",
       "      <td>...</td>\n",
       "      <td>...</td>\n",
       "      <td>...</td>\n",
       "    </tr>\n",
       "    <tr>\n",
       "      <th>2024-12-30 18:36:06.406</th>\n",
       "      <td>2024-12-30 18:39:30.082</td>\n",
       "      <td>0.000345</td>\n",
       "      <td>2.0</td>\n",
       "      <td>0.000357</td>\n",
       "      <td>1.0</td>\n",
       "    </tr>\n",
       "    <tr>\n",
       "      <th>2024-12-30 19:58:40.522</th>\n",
       "      <td>2024-12-30 20:04:11.854</td>\n",
       "      <td>0.000382</td>\n",
       "      <td>1.0</td>\n",
       "      <td>-0.000391</td>\n",
       "      <td>0.0</td>\n",
       "    </tr>\n",
       "    <tr>\n",
       "      <th>2024-12-30 20:33:36.881</th>\n",
       "      <td>2024-12-30 20:36:57.321</td>\n",
       "      <td>0.000330</td>\n",
       "      <td>1.0</td>\n",
       "      <td>-0.000338</td>\n",
       "      <td>0.0</td>\n",
       "    </tr>\n",
       "    <tr>\n",
       "      <th>2024-12-30 21:24:11.892</th>\n",
       "      <td>2024-12-30 21:46:12.738</td>\n",
       "      <td>0.000417</td>\n",
       "      <td>1.0</td>\n",
       "      <td>0.000593</td>\n",
       "      <td>1.0</td>\n",
       "    </tr>\n",
       "    <tr>\n",
       "      <th>2024-12-30 23:08:12.101</th>\n",
       "      <td>2024-12-30 23:13:31.707</td>\n",
       "      <td>0.000416</td>\n",
       "      <td>2.0</td>\n",
       "      <td>0.000924</td>\n",
       "      <td>1.0</td>\n",
       "    </tr>\n",
       "  </tbody>\n",
       "</table>\n",
       "<p>51826 rows × 5 columns</p>\n",
       "</div>"
      ],
      "text/plain": [
       "                                             t1      trgt  side       ret  bin\n",
       "timestamp                                                                     \n",
       "2020-01-02 15:12:25.452 2020-01-02 15:13:50.102  0.000352   2.0 -0.000644  0.0\n",
       "2020-01-02 15:20:27.753 2020-01-02 15:23:24.339  0.000375   2.0 -0.000461  0.0\n",
       "2020-01-02 15:27:08.082 2020-01-02 15:30:51.020  0.000456   2.0 -0.000618  0.0\n",
       "2020-01-02 15:33:18.152 2020-01-02 15:36:26.386  0.000481   2.0  0.000489  1.0\n",
       "2020-01-02 16:14:52.893 2020-01-02 16:39:57.573  0.000419   2.0  0.000618  1.0\n",
       "...                                         ...       ...   ...       ...  ...\n",
       "2024-12-30 18:36:06.406 2024-12-30 18:39:30.082  0.000345   2.0  0.000357  1.0\n",
       "2024-12-30 19:58:40.522 2024-12-30 20:04:11.854  0.000382   1.0 -0.000391  0.0\n",
       "2024-12-30 20:33:36.881 2024-12-30 20:36:57.321  0.000330   1.0 -0.000338  0.0\n",
       "2024-12-30 21:24:11.892 2024-12-30 21:46:12.738  0.000417   1.0  0.000593  1.0\n",
       "2024-12-30 23:08:12.101 2024-12-30 23:13:31.707  0.000416   2.0  0.000924  1.0\n",
       "\n",
       "[51826 rows x 5 columns]"
      ]
     },
     "execution_count": 34,
     "metadata": {},
     "output_type": "execute_result"
    }
   ],
   "source": [
    "labeled_events"
   ]
  },
  {
   "cell_type": "code",
   "execution_count": 35,
   "id": "bbd84e56-c1e5-42f4-bc67-f11b0ea6724c",
   "metadata": {},
   "outputs": [],
   "source": [
    "labeled_events.to_pickle(META_LABEL_FILE_PATH)"
   ]
  }
 ],
 "metadata": {
  "kernelspec": {
   "display_name": "Python 3 (ipykernel)",
   "language": "python",
   "name": "python3"
  },
  "language_info": {
   "codemirror_mode": {
    "name": "ipython",
    "version": 3
   },
   "file_extension": ".py",
   "mimetype": "text/x-python",
   "name": "python",
   "nbconvert_exporter": "python",
   "pygments_lexer": "ipython3",
   "version": "3.11.13"
  },
  "widgets": {
   "application/vnd.jupyter.widget-state+json": {
    "state": {},
    "version_major": 2,
    "version_minor": 0
   }
  }
 },
 "nbformat": 4,
 "nbformat_minor": 5
}
