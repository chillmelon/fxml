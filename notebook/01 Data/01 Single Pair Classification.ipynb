{
 "cells": [
  {
   "cell_type": "code",
   "execution_count": 1,
   "id": "781a8d78-d902-4188-a599-970bbd2a0b18",
   "metadata": {},
   "outputs": [],
   "source": [
    "import sys\n",
    "sys.path.append(\"..\")\n",
    "\n",
    "# Reload modules in /src/ when changed\n",
    "%load_ext autoreload\n",
    "%autoreload 2\n",
    "\n",
    "from fxml.data.labeling.barrier_method import BarrierMethod\n",
    "\n",
    "import pandas as pd\n",
    "import numpy as np\n",
    "import matplotlib.pyplot as plt\n",
    "from sklearn.preprocessing import MinMaxScaler, StandardScaler\n",
    "from sklearn.model_selection import train_test_split\n",
    "# plt.rcParams[\"figure.figsize\"] = (12, 2)\n",
    "import seaborn as sns\n",
    "sns.set(style=\"ticks\", palette=\"tab10\")"
   ]
  },
  {
   "cell_type": "code",
   "execution_count": 2,
   "id": "93c582f5-5462-4038-af34-8bc2faf00e07",
   "metadata": {},
   "outputs": [],
   "source": [
    "data = pd.read_pickle('../../data/processed/USDJPY-15m-20210101-20241231_TBM.pkl')"
   ]
  },
  {
   "cell_type": "code",
   "execution_count": 3,
   "id": "725b0212-c27c-4226-9399-1805daebcc6c",
   "metadata": {},
   "outputs": [
    {
     "data": {
      "text/plain": [
       "Index(['open', 'high', 'low', 'close', 'volume', 'spread', 'close_pct_return',\n",
       "       'close_return', 'close_log_return', 'close_fd_return',\n",
       "       'close_log_fd_return', 'EMA_5', 'EMA_9', 'EMA_20', 'EMA_24', 'EMA_36',\n",
       "       'EMA_50', 'EMA_100', 'ATRr_14', 'ATRr_60', 'ATRr_120', 'ADX_14',\n",
       "       'ADXR_14_2', 'DMP_14', 'DMN_14', 'RSI_14', 'RSI_25', 'RSI_50',\n",
       "       'BBL_5_2.0_2.0', 'BBM_5_2.0_2.0', 'BBU_5_2.0_2.0', 'BBB_5_2.0_2.0',\n",
       "       'BBP_5_2.0_2.0', 'BBL_10_2.0_2.0', 'BBM_10_2.0_2.0', 'BBU_10_2.0_2.0',\n",
       "       'BBB_10_2.0_2.0', 'BBP_10_2.0_2.0', 'BBL_15_2.0_2.0', 'BBM_15_2.0_2.0',\n",
       "       'BBU_15_2.0_2.0', 'BBB_15_2.0_2.0', 'BBP_15_2.0_2.0', 'BBL_20_2.0_2.0',\n",
       "       'BBM_20_2.0_2.0', 'BBU_20_2.0_2.0', 'BBB_20_2.0_2.0', 'BBP_20_2.0_2.0',\n",
       "       'MACD_8_17_9', 'MACDh_8_17_9', 'MACDs_8_17_9', 'MACD_12_26_9',\n",
       "       'MACDh_12_26_9', 'MACDs_12_26_9', 'unix_time', 'minute', 'hour', 'dow',\n",
       "       'dom', 'month', 'minute_sin', 'minute_cos', 'hour_sin', 'hour_cos',\n",
       "       'dow_sin', 'dow_cos', 'dom_sin', 'dom_cos', 'month_sin', 'month_cos',\n",
       "       'label'],\n",
       "      dtype='object')"
      ]
     },
     "execution_count": 3,
     "metadata": {},
     "output_type": "execute_result"
    }
   ],
   "source": [
    "data.columns"
   ]
  },
  {
   "cell_type": "code",
   "execution_count": 4,
   "id": "57ac93c4-01ad-4ef1-a861-0f97d8aa16c5",
   "metadata": {},
   "outputs": [
    {
     "data": {
      "text/plain": [
       "timestamp\n",
       "2022    24958\n",
       "2023    24895\n",
       "2024    24791\n",
       "2021    24031\n",
       "Name: count, dtype: int64"
      ]
     },
     "execution_count": 4,
     "metadata": {},
     "output_type": "execute_result"
    }
   ],
   "source": [
    "data.index.year.value_counts()"
   ]
  },
  {
   "cell_type": "code",
   "execution_count": 5,
   "id": "fe9f977f-fa47-4f4e-9b1c-8c59f154c35b",
   "metadata": {},
   "outputs": [],
   "source": [
    "train_data = data[data.index.year < 2024]\n",
    "temp_data = data[data.index.year >= 2024]"
   ]
  },
  {
   "cell_type": "code",
   "execution_count": 6,
   "id": "fa89b35b-b7b7-44dd-adb4-dd0dd3290c7b",
   "metadata": {},
   "outputs": [
    {
     "data": {
      "text/plain": [
       "(73884, 71)"
      ]
     },
     "execution_count": 6,
     "metadata": {},
     "output_type": "execute_result"
    }
   ],
   "source": [
    "train_data.shape"
   ]
  },
  {
   "cell_type": "code",
   "execution_count": 7,
   "id": "11b8ad05-3c3e-434e-84c0-5372b4c8c4ce",
   "metadata": {},
   "outputs": [
    {
     "data": {
      "text/plain": [
       "(24791, 71)"
      ]
     },
     "execution_count": 7,
     "metadata": {},
     "output_type": "execute_result"
    }
   ],
   "source": [
    "temp_data.shape"
   ]
  },
  {
   "cell_type": "code",
   "execution_count": 8,
   "id": "1cc47f2a-f537-425c-a434-fa6c2453dcfd",
   "metadata": {},
   "outputs": [],
   "source": [
    "lookback = 30\n",
    "len_df = data.shape[0]\n",
    "feature_cols = ['open', 'high', 'low', 'close']\n",
    "target_col = 'label'"
   ]
  },
  {
   "cell_type": "code",
   "execution_count": 30,
   "id": "3745903d-a73e-4544-8c33-f3f0981f7b45",
   "metadata": {},
   "outputs": [],
   "source": [
    "def create_sequences(df, lookback, feat_cols, target_col): \n",
    "    len_df = df.shape[0]\n",
    "    feature_values = df[feat_cols].values\n",
    "    target_values = df[target_col].values\n",
    "    X = []\n",
    "    y = []\n",
    "    for i in range(0, len_df - lookback):\n",
    "        idx_start, idx_end = i, i + lookback # i ~ i+lookback-1\n",
    "        X.append(feature_values[idx_start:idx_end])\n",
    "    for i in range(lookback, len_df):\n",
    "        y.append(target_values[i])\n",
    "    \n",
    "    return np.array(X), np.array(y)"
   ]
  },
  {
   "cell_type": "code",
   "execution_count": 31,
   "id": "1717421f-5516-4da0-b911-22c9a9faabf1",
   "metadata": {},
   "outputs": [
    {
     "data": {
      "text/plain": [
       "((73854, 30, 4), (73854,))"
      ]
     },
     "execution_count": 31,
     "metadata": {},
     "output_type": "execute_result"
    }
   ],
   "source": [
    "X_train, y_train = create_sequences(train_data, lookback, feature_cols, target_col)\n",
    "X_train.shape, y_train.shape"
   ]
  },
  {
   "cell_type": "code",
   "execution_count": 32,
   "id": "4d2be6f1-9e77-4281-8a78-abd3c12804af",
   "metadata": {},
   "outputs": [],
   "source": [
    "from sklearn.preprocessing import MinMaxScaler, StandardScaler"
   ]
  },
  {
   "cell_type": "code",
   "execution_count": 33,
   "id": "84a78980-a266-4c44-97f2-ed5f94b9883b",
   "metadata": {},
   "outputs": [],
   "source": [
    "scaler = MinMaxScaler()"
   ]
  },
  {
   "cell_type": "code",
   "execution_count": 34,
   "id": "3da6a66e-44a8-41cd-b6e0-fb996712f7ba",
   "metadata": {},
   "outputs": [],
   "source": [
    "train_data.loc[:,feature_cols] = scaler.fit_transform(train_data[feature_cols].values)\n",
    "temp_data.loc[:,feature_cols] = scaler.transform(temp_data[feature_cols].values)"
   ]
  },
  {
   "cell_type": "code",
   "execution_count": 35,
   "id": "e0f4d001-494a-42fe-818d-38662a1dfa70",
   "metadata": {},
   "outputs": [
    {
     "data": {
      "text/plain": [
       "((73854, 30, 4), (73854,))"
      ]
     },
     "execution_count": 35,
     "metadata": {},
     "output_type": "execute_result"
    }
   ],
   "source": [
    "X_train, y_train = create_sequences(train_data, lookback, feature_cols, target_col)\n",
    "X_train.shape, y_train.shape"
   ]
  },
  {
   "cell_type": "code",
   "execution_count": 36,
   "id": "289f70a2-a879-4635-a3d1-cd5215fe77f8",
   "metadata": {},
   "outputs": [
    {
     "data": {
      "text/plain": [
       "((24761, 30, 4), (24761,))"
      ]
     },
     "execution_count": 36,
     "metadata": {},
     "output_type": "execute_result"
    }
   ],
   "source": [
    "X_test, y_test = create_sequences(temp_data, lookback, feature_cols, target_col)\n",
    "X_test.shape, y_test.shape"
   ]
  },
  {
   "cell_type": "code",
   "execution_count": 37,
   "id": "6277fb9f-d249-44b9-add5-e641ff0d1c14",
   "metadata": {},
   "outputs": [],
   "source": [
    "from sklearn.model_selection import train_test_split"
   ]
  },
  {
   "cell_type": "code",
   "execution_count": 38,
   "id": "59ea06b5-36ec-4e55-82e3-af375fc32e2e",
   "metadata": {},
   "outputs": [],
   "source": [
    "X_val, X_test, y_val, y_test = train_test_split(X_test, y_test, test_size=0.50, random_state=42)"
   ]
  }
 ],
 "metadata": {
  "kernelspec": {
   "display_name": "Python 3 (ipykernel)",
   "language": "python",
   "name": "python3"
  },
  "language_info": {
   "codemirror_mode": {
    "name": "ipython",
    "version": 3
   },
   "file_extension": ".py",
   "mimetype": "text/x-python",
   "name": "python",
   "nbconvert_exporter": "python",
   "pygments_lexer": "ipython3",
   "version": "3.12.11"
  }
 },
 "nbformat": 4,
 "nbformat_minor": 5
}
