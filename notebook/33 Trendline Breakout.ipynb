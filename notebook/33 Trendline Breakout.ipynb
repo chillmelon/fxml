{
 "cells": [
  {
   "cell_type": "code",
   "execution_count": 6,
   "id": "9537f15f-84f2-41a0-8542-c3345d02af57",
   "metadata": {},
   "outputs": [
    {
     "name": "stdout",
     "output_type": "stream",
     "text": [
      "The autoreload extension is already loaded. To reload it, use:\n",
      "  %reload_ext autoreload\n"
     ]
    }
   ],
   "source": [
    "import sys\n",
    "sys.path.append(\"..\")\n",
    "\n",
    "# Reload modules in /src/ when changed\n",
    "%load_ext autoreload\n",
    "%autoreload 2"
   ]
  },
  {
   "cell_type": "code",
   "execution_count": 7,
   "id": "9f74af64-682b-4ea6-a456-76960c5af8a7",
   "metadata": {},
   "outputs": [],
   "source": [
    "import matplotlib.pyplot as plt\n",
    "import numpy as np\n",
    "import pandas as pd\n",
    "\n",
    "from fxml.trading.strategies.trendline_breakout.trendline_automation import fit_trendlines_single, fit_trendlines_high_low"
   ]
  },
  {
   "cell_type": "code",
   "execution_count": 8,
   "id": "d0ef9733-33d2-45ca-808f-2c243292dc90",
   "metadata": {},
   "outputs": [
    {
     "data": {
      "text/html": [
       "<div>\n",
       "<style scoped>\n",
       "    .dataframe tbody tr th:only-of-type {\n",
       "        vertical-align: middle;\n",
       "    }\n",
       "\n",
       "    .dataframe tbody tr th {\n",
       "        vertical-align: top;\n",
       "    }\n",
       "\n",
       "    .dataframe thead th {\n",
       "        text-align: right;\n",
       "    }\n",
       "</style>\n",
       "<table border=\"1\" class=\"dataframe\">\n",
       "  <thead>\n",
       "    <tr style=\"text-align: right;\">\n",
       "      <th></th>\n",
       "      <th>open</th>\n",
       "      <th>high</th>\n",
       "      <th>low</th>\n",
       "      <th>close</th>\n",
       "      <th>volume</th>\n",
       "      <th>spread</th>\n",
       "    </tr>\n",
       "    <tr>\n",
       "      <th>timestamp</th>\n",
       "      <th></th>\n",
       "      <th></th>\n",
       "      <th></th>\n",
       "      <th></th>\n",
       "      <th></th>\n",
       "      <th></th>\n",
       "    </tr>\n",
       "  </thead>\n",
       "  <tbody>\n",
       "    <tr>\n",
       "      <th>2021-01-03 22:00:00</th>\n",
       "      <td>1.224035</td>\n",
       "      <td>1.224260</td>\n",
       "      <td>1.223160</td>\n",
       "      <td>1.223435</td>\n",
       "      <td>3.329510e+12</td>\n",
       "      <td>0.000152</td>\n",
       "    </tr>\n",
       "    <tr>\n",
       "      <th>2021-01-03 23:00:00</th>\n",
       "      <td>1.223415</td>\n",
       "      <td>1.225280</td>\n",
       "      <td>1.223115</td>\n",
       "      <td>1.225015</td>\n",
       "      <td>1.089952e+13</td>\n",
       "      <td>0.000075</td>\n",
       "    </tr>\n",
       "    <tr>\n",
       "      <th>2021-01-04 00:00:00</th>\n",
       "      <td>1.225010</td>\n",
       "      <td>1.225010</td>\n",
       "      <td>1.223875</td>\n",
       "      <td>1.224080</td>\n",
       "      <td>1.429532e+13</td>\n",
       "      <td>0.000039</td>\n",
       "    </tr>\n",
       "    <tr>\n",
       "      <th>2021-01-04 01:00:00</th>\n",
       "      <td>1.224090</td>\n",
       "      <td>1.225580</td>\n",
       "      <td>1.224000</td>\n",
       "      <td>1.225270</td>\n",
       "      <td>1.800660e+13</td>\n",
       "      <td>0.000039</td>\n",
       "    </tr>\n",
       "    <tr>\n",
       "      <th>2021-01-04 02:00:00</th>\n",
       "      <td>1.225265</td>\n",
       "      <td>1.225865</td>\n",
       "      <td>1.224955</td>\n",
       "      <td>1.225400</td>\n",
       "      <td>1.490831e+13</td>\n",
       "      <td>0.000037</td>\n",
       "    </tr>\n",
       "  </tbody>\n",
       "</table>\n",
       "</div>"
      ],
      "text/plain": [
       "                         open      high       low     close        volume  \\\n",
       "timestamp                                                                   \n",
       "2021-01-03 22:00:00  1.224035  1.224260  1.223160  1.223435  3.329510e+12   \n",
       "2021-01-03 23:00:00  1.223415  1.225280  1.223115  1.225015  1.089952e+13   \n",
       "2021-01-04 00:00:00  1.225010  1.225010  1.223875  1.224080  1.429532e+13   \n",
       "2021-01-04 01:00:00  1.224090  1.225580  1.224000  1.225270  1.800660e+13   \n",
       "2021-01-04 02:00:00  1.225265  1.225865  1.224955  1.225400  1.490831e+13   \n",
       "\n",
       "                       spread  \n",
       "timestamp                      \n",
       "2021-01-03 22:00:00  0.000152  \n",
       "2021-01-03 23:00:00  0.000075  \n",
       "2021-01-04 00:00:00  0.000039  \n",
       "2021-01-04 01:00:00  0.000039  \n",
       "2021-01-04 02:00:00  0.000037  "
      ]
     },
     "execution_count": 8,
     "metadata": {},
     "output_type": "execute_result"
    }
   ],
   "source": [
    "# Load data\n",
    "data = pd.read_pickle(\"../data/resampled/EURUSD-60m-20210101-20241231.pkl\")\n",
    "data[\"timestamp\"] = data[\"timestamp\"].astype(\"datetime64[s]\")\n",
    "data = data.set_index(\"timestamp\")\n",
    "data.head()"
   ]
  },
  {
   "cell_type": "code",
   "execution_count": 9,
   "id": "fe646364-0a99-43f0-be41-0f8f327cc4d8",
   "metadata": {},
   "outputs": [],
   "source": [
    "def trendline_breakout(high, low, close: np.array, lookback:int):\n",
    "    s_tl = np.zeros(len(close))\n",
    "    s_tl[:] = np.nan\n",
    "\n",
    "    r_tl = np.zeros(len(close))\n",
    "    r_tl[:] = np.nan\n",
    "\n",
    "    sig = np.zeros(len(close))\n",
    "\n",
    "    for i in range(lookback, len(close)):\n",
    "        # NOTE window does NOT include the current candle\n",
    "        high_window = high[i - lookback: i]\n",
    "        low_window = low[i - lookback: i]\n",
    "        close_window = close[i - lookback: i]\n",
    "\n",
    "        s_coefs, r_coefs = fit_trendlines_high_low(high_window, low_window, close_window)\n",
    "\n",
    "        # Find current value of line, projected forward to current bar\n",
    "        s_val = s_coefs[1] + lookback * s_coefs[0] \n",
    "        r_val = r_coefs[1] + lookback * r_coefs[0] \n",
    "\n",
    "        s_tl[i] = s_val\n",
    "        r_tl[i] = r_val\n",
    "\n",
    "        if close[i] > r_val:\n",
    "            sig[i] = 1.0\n",
    "        elif close[i] < s_val:\n",
    "            sig[i] = -1.0\n",
    "        else:\n",
    "            sig[i] = sig[i - 1]\n",
    "\n",
    "    return s_tl, r_tl, sig"
   ]
  },
  {
   "cell_type": "code",
   "execution_count": 13,
   "id": "8185b233-8d5c-4aa6-bfec-22b74d0276fb",
   "metadata": {},
   "outputs": [
    {
     "name": "stderr",
     "output_type": "stream",
     "text": [
      "/Users/yoyo/personal/fxml/fxml/trading/strategies/trendline_breakout/trendline_automation.py:11: FutureWarning: Series.__getitem__ treating keys as positions is deprecated. In a future version, integer keys will always be treated as labels (consistent with DataFrame behavior). To access a value by position, use `ser.iloc[pos]`\n",
      "  intercept = -slope * pivot + y[pivot]\n",
      "/Users/yoyo/personal/fxml/fxml/trading/strategies/trendline_breakout/trendline_automation.py:81: FutureWarning: Series.__getitem__ treating keys as positions is deprecated. In a future version, integer keys will always be treated as labels (consistent with DataFrame behavior). To access a value by position, use `ser.iloc[pos]`\n",
      "  return (best_slope, -best_slope * pivot + y[pivot])\n"
     ]
    },
    {
     "name": "stdout",
     "output_type": "stream",
     "text": [
      "Profit Factor 24 0.976450778709106\n"
     ]
    },
    {
     "name": "stderr",
     "output_type": "stream",
     "text": [
      "/Users/yoyo/personal/fxml/fxml/trading/strategies/trendline_breakout/trendline_automation.py:11: FutureWarning: Series.__getitem__ treating keys as positions is deprecated. In a future version, integer keys will always be treated as labels (consistent with DataFrame behavior). To access a value by position, use `ser.iloc[pos]`\n",
      "  intercept = -slope * pivot + y[pivot]\n",
      "/Users/yoyo/personal/fxml/fxml/trading/strategies/trendline_breakout/trendline_automation.py:81: FutureWarning: Series.__getitem__ treating keys as positions is deprecated. In a future version, integer keys will always be treated as labels (consistent with DataFrame behavior). To access a value by position, use `ser.iloc[pos]`\n",
      "  return (best_slope, -best_slope * pivot + y[pivot])\n"
     ]
    },
    {
     "name": "stdout",
     "output_type": "stream",
     "text": [
      "Profit Factor 26 0.9717363305814275\n"
     ]
    },
    {
     "name": "stderr",
     "output_type": "stream",
     "text": [
      "/Users/yoyo/personal/fxml/fxml/trading/strategies/trendline_breakout/trendline_automation.py:11: FutureWarning: Series.__getitem__ treating keys as positions is deprecated. In a future version, integer keys will always be treated as labels (consistent with DataFrame behavior). To access a value by position, use `ser.iloc[pos]`\n",
      "  intercept = -slope * pivot + y[pivot]\n",
      "/Users/yoyo/personal/fxml/fxml/trading/strategies/trendline_breakout/trendline_automation.py:81: FutureWarning: Series.__getitem__ treating keys as positions is deprecated. In a future version, integer keys will always be treated as labels (consistent with DataFrame behavior). To access a value by position, use `ser.iloc[pos]`\n",
      "  return (best_slope, -best_slope * pivot + y[pivot])\n"
     ]
    },
    {
     "name": "stdout",
     "output_type": "stream",
     "text": [
      "Profit Factor 28 0.9727832294325471\n"
     ]
    },
    {
     "name": "stderr",
     "output_type": "stream",
     "text": [
      "/Users/yoyo/personal/fxml/fxml/trading/strategies/trendline_breakout/trendline_automation.py:11: FutureWarning: Series.__getitem__ treating keys as positions is deprecated. In a future version, integer keys will always be treated as labels (consistent with DataFrame behavior). To access a value by position, use `ser.iloc[pos]`\n",
      "  intercept = -slope * pivot + y[pivot]\n",
      "/Users/yoyo/personal/fxml/fxml/trading/strategies/trendline_breakout/trendline_automation.py:81: FutureWarning: Series.__getitem__ treating keys as positions is deprecated. In a future version, integer keys will always be treated as labels (consistent with DataFrame behavior). To access a value by position, use `ser.iloc[pos]`\n",
      "  return (best_slope, -best_slope * pivot + y[pivot])\n"
     ]
    },
    {
     "name": "stdout",
     "output_type": "stream",
     "text": [
      "Profit Factor 30 0.9743896568577757\n"
     ]
    },
    {
     "name": "stderr",
     "output_type": "stream",
     "text": [
      "/Users/yoyo/personal/fxml/fxml/trading/strategies/trendline_breakout/trendline_automation.py:11: FutureWarning: Series.__getitem__ treating keys as positions is deprecated. In a future version, integer keys will always be treated as labels (consistent with DataFrame behavior). To access a value by position, use `ser.iloc[pos]`\n",
      "  intercept = -slope * pivot + y[pivot]\n",
      "/Users/yoyo/personal/fxml/fxml/trading/strategies/trendline_breakout/trendline_automation.py:81: FutureWarning: Series.__getitem__ treating keys as positions is deprecated. In a future version, integer keys will always be treated as labels (consistent with DataFrame behavior). To access a value by position, use `ser.iloc[pos]`\n",
      "  return (best_slope, -best_slope * pivot + y[pivot])\n"
     ]
    },
    {
     "name": "stdout",
     "output_type": "stream",
     "text": [
      "Profit Factor 32 0.9706938106000844\n"
     ]
    },
    {
     "name": "stderr",
     "output_type": "stream",
     "text": [
      "/Users/yoyo/personal/fxml/fxml/trading/strategies/trendline_breakout/trendline_automation.py:11: FutureWarning: Series.__getitem__ treating keys as positions is deprecated. In a future version, integer keys will always be treated as labels (consistent with DataFrame behavior). To access a value by position, use `ser.iloc[pos]`\n",
      "  intercept = -slope * pivot + y[pivot]\n",
      "/Users/yoyo/personal/fxml/fxml/trading/strategies/trendline_breakout/trendline_automation.py:81: FutureWarning: Series.__getitem__ treating keys as positions is deprecated. In a future version, integer keys will always be treated as labels (consistent with DataFrame behavior). To access a value by position, use `ser.iloc[pos]`\n",
      "  return (best_slope, -best_slope * pivot + y[pivot])\n"
     ]
    },
    {
     "name": "stdout",
     "output_type": "stream",
     "text": [
      "Profit Factor 34 0.9679436027692413\n"
     ]
    },
    {
     "name": "stderr",
     "output_type": "stream",
     "text": [
      "/Users/yoyo/personal/fxml/fxml/trading/strategies/trendline_breakout/trendline_automation.py:11: FutureWarning: Series.__getitem__ treating keys as positions is deprecated. In a future version, integer keys will always be treated as labels (consistent with DataFrame behavior). To access a value by position, use `ser.iloc[pos]`\n",
      "  intercept = -slope * pivot + y[pivot]\n",
      "/Users/yoyo/personal/fxml/fxml/trading/strategies/trendline_breakout/trendline_automation.py:81: FutureWarning: Series.__getitem__ treating keys as positions is deprecated. In a future version, integer keys will always be treated as labels (consistent with DataFrame behavior). To access a value by position, use `ser.iloc[pos]`\n",
      "  return (best_slope, -best_slope * pivot + y[pivot])\n"
     ]
    },
    {
     "name": "stdout",
     "output_type": "stream",
     "text": [
      "Profit Factor 36 0.9749060287407078\n"
     ]
    },
    {
     "name": "stderr",
     "output_type": "stream",
     "text": [
      "/Users/yoyo/personal/fxml/fxml/trading/strategies/trendline_breakout/trendline_automation.py:11: FutureWarning: Series.__getitem__ treating keys as positions is deprecated. In a future version, integer keys will always be treated as labels (consistent with DataFrame behavior). To access a value by position, use `ser.iloc[pos]`\n",
      "  intercept = -slope * pivot + y[pivot]\n",
      "/Users/yoyo/personal/fxml/fxml/trading/strategies/trendline_breakout/trendline_automation.py:81: FutureWarning: Series.__getitem__ treating keys as positions is deprecated. In a future version, integer keys will always be treated as labels (consistent with DataFrame behavior). To access a value by position, use `ser.iloc[pos]`\n",
      "  return (best_slope, -best_slope * pivot + y[pivot])\n"
     ]
    },
    {
     "name": "stdout",
     "output_type": "stream",
     "text": [
      "Profit Factor 38 0.9700264317604769\n"
     ]
    },
    {
     "name": "stderr",
     "output_type": "stream",
     "text": [
      "/Users/yoyo/personal/fxml/fxml/trading/strategies/trendline_breakout/trendline_automation.py:11: FutureWarning: Series.__getitem__ treating keys as positions is deprecated. In a future version, integer keys will always be treated as labels (consistent with DataFrame behavior). To access a value by position, use `ser.iloc[pos]`\n",
      "  intercept = -slope * pivot + y[pivot]\n",
      "/Users/yoyo/personal/fxml/fxml/trading/strategies/trendline_breakout/trendline_automation.py:81: FutureWarning: Series.__getitem__ treating keys as positions is deprecated. In a future version, integer keys will always be treated as labels (consistent with DataFrame behavior). To access a value by position, use `ser.iloc[pos]`\n",
      "  return (best_slope, -best_slope * pivot + y[pivot])\n"
     ]
    },
    {
     "name": "stdout",
     "output_type": "stream",
     "text": [
      "Profit Factor 40 0.9579245398288505\n"
     ]
    },
    {
     "name": "stderr",
     "output_type": "stream",
     "text": [
      "/Users/yoyo/personal/fxml/fxml/trading/strategies/trendline_breakout/trendline_automation.py:11: FutureWarning: Series.__getitem__ treating keys as positions is deprecated. In a future version, integer keys will always be treated as labels (consistent with DataFrame behavior). To access a value by position, use `ser.iloc[pos]`\n",
      "  intercept = -slope * pivot + y[pivot]\n",
      "/Users/yoyo/personal/fxml/fxml/trading/strategies/trendline_breakout/trendline_automation.py:81: FutureWarning: Series.__getitem__ treating keys as positions is deprecated. In a future version, integer keys will always be treated as labels (consistent with DataFrame behavior). To access a value by position, use `ser.iloc[pos]`\n",
      "  return (best_slope, -best_slope * pivot + y[pivot])\n"
     ]
    },
    {
     "name": "stdout",
     "output_type": "stream",
     "text": [
      "Profit Factor 42 0.9671430776640352\n"
     ]
    },
    {
     "name": "stderr",
     "output_type": "stream",
     "text": [
      "/Users/yoyo/personal/fxml/fxml/trading/strategies/trendline_breakout/trendline_automation.py:11: FutureWarning: Series.__getitem__ treating keys as positions is deprecated. In a future version, integer keys will always be treated as labels (consistent with DataFrame behavior). To access a value by position, use `ser.iloc[pos]`\n",
      "  intercept = -slope * pivot + y[pivot]\n",
      "/Users/yoyo/personal/fxml/fxml/trading/strategies/trendline_breakout/trendline_automation.py:81: FutureWarning: Series.__getitem__ treating keys as positions is deprecated. In a future version, integer keys will always be treated as labels (consistent with DataFrame behavior). To access a value by position, use `ser.iloc[pos]`\n",
      "  return (best_slope, -best_slope * pivot + y[pivot])\n"
     ]
    },
    {
     "name": "stdout",
     "output_type": "stream",
     "text": [
      "Profit Factor 44 0.9617291279552166\n"
     ]
    },
    {
     "name": "stderr",
     "output_type": "stream",
     "text": [
      "/Users/yoyo/personal/fxml/fxml/trading/strategies/trendline_breakout/trendline_automation.py:11: FutureWarning: Series.__getitem__ treating keys as positions is deprecated. In a future version, integer keys will always be treated as labels (consistent with DataFrame behavior). To access a value by position, use `ser.iloc[pos]`\n",
      "  intercept = -slope * pivot + y[pivot]\n",
      "/Users/yoyo/personal/fxml/fxml/trading/strategies/trendline_breakout/trendline_automation.py:81: FutureWarning: Series.__getitem__ treating keys as positions is deprecated. In a future version, integer keys will always be treated as labels (consistent with DataFrame behavior). To access a value by position, use `ser.iloc[pos]`\n",
      "  return (best_slope, -best_slope * pivot + y[pivot])\n"
     ]
    },
    {
     "name": "stdout",
     "output_type": "stream",
     "text": [
      "Profit Factor 46 0.9669114231774997\n"
     ]
    },
    {
     "name": "stderr",
     "output_type": "stream",
     "text": [
      "/Users/yoyo/personal/fxml/fxml/trading/strategies/trendline_breakout/trendline_automation.py:11: FutureWarning: Series.__getitem__ treating keys as positions is deprecated. In a future version, integer keys will always be treated as labels (consistent with DataFrame behavior). To access a value by position, use `ser.iloc[pos]`\n",
      "  intercept = -slope * pivot + y[pivot]\n",
      "/Users/yoyo/personal/fxml/fxml/trading/strategies/trendline_breakout/trendline_automation.py:81: FutureWarning: Series.__getitem__ treating keys as positions is deprecated. In a future version, integer keys will always be treated as labels (consistent with DataFrame behavior). To access a value by position, use `ser.iloc[pos]`\n",
      "  return (best_slope, -best_slope * pivot + y[pivot])\n"
     ]
    },
    {
     "name": "stdout",
     "output_type": "stream",
     "text": [
      "Profit Factor 48 0.9761816326481609\n"
     ]
    },
    {
     "name": "stderr",
     "output_type": "stream",
     "text": [
      "/Users/yoyo/personal/fxml/fxml/trading/strategies/trendline_breakout/trendline_automation.py:11: FutureWarning: Series.__getitem__ treating keys as positions is deprecated. In a future version, integer keys will always be treated as labels (consistent with DataFrame behavior). To access a value by position, use `ser.iloc[pos]`\n",
      "  intercept = -slope * pivot + y[pivot]\n",
      "/Users/yoyo/personal/fxml/fxml/trading/strategies/trendline_breakout/trendline_automation.py:81: FutureWarning: Series.__getitem__ treating keys as positions is deprecated. In a future version, integer keys will always be treated as labels (consistent with DataFrame behavior). To access a value by position, use `ser.iloc[pos]`\n",
      "  return (best_slope, -best_slope * pivot + y[pivot])\n"
     ]
    },
    {
     "name": "stdout",
     "output_type": "stream",
     "text": [
      "Profit Factor 50 0.9816001062897635\n"
     ]
    },
    {
     "name": "stderr",
     "output_type": "stream",
     "text": [
      "/Users/yoyo/personal/fxml/fxml/trading/strategies/trendline_breakout/trendline_automation.py:11: FutureWarning: Series.__getitem__ treating keys as positions is deprecated. In a future version, integer keys will always be treated as labels (consistent with DataFrame behavior). To access a value by position, use `ser.iloc[pos]`\n",
      "  intercept = -slope * pivot + y[pivot]\n",
      "/Users/yoyo/personal/fxml/fxml/trading/strategies/trendline_breakout/trendline_automation.py:81: FutureWarning: Series.__getitem__ treating keys as positions is deprecated. In a future version, integer keys will always be treated as labels (consistent with DataFrame behavior). To access a value by position, use `ser.iloc[pos]`\n",
      "  return (best_slope, -best_slope * pivot + y[pivot])\n"
     ]
    },
    {
     "name": "stdout",
     "output_type": "stream",
     "text": [
      "Profit Factor 52 0.9664370038892237\n"
     ]
    },
    {
     "name": "stderr",
     "output_type": "stream",
     "text": [
      "/Users/yoyo/personal/fxml/fxml/trading/strategies/trendline_breakout/trendline_automation.py:11: FutureWarning: Series.__getitem__ treating keys as positions is deprecated. In a future version, integer keys will always be treated as labels (consistent with DataFrame behavior). To access a value by position, use `ser.iloc[pos]`\n",
      "  intercept = -slope * pivot + y[pivot]\n",
      "/Users/yoyo/personal/fxml/fxml/trading/strategies/trendline_breakout/trendline_automation.py:81: FutureWarning: Series.__getitem__ treating keys as positions is deprecated. In a future version, integer keys will always be treated as labels (consistent with DataFrame behavior). To access a value by position, use `ser.iloc[pos]`\n",
      "  return (best_slope, -best_slope * pivot + y[pivot])\n"
     ]
    },
    {
     "name": "stdout",
     "output_type": "stream",
     "text": [
      "Profit Factor 54 0.9714575170480695\n"
     ]
    },
    {
     "name": "stderr",
     "output_type": "stream",
     "text": [
      "/Users/yoyo/personal/fxml/fxml/trading/strategies/trendline_breakout/trendline_automation.py:11: FutureWarning: Series.__getitem__ treating keys as positions is deprecated. In a future version, integer keys will always be treated as labels (consistent with DataFrame behavior). To access a value by position, use `ser.iloc[pos]`\n",
      "  intercept = -slope * pivot + y[pivot]\n",
      "/Users/yoyo/personal/fxml/fxml/trading/strategies/trendline_breakout/trendline_automation.py:81: FutureWarning: Series.__getitem__ treating keys as positions is deprecated. In a future version, integer keys will always be treated as labels (consistent with DataFrame behavior). To access a value by position, use `ser.iloc[pos]`\n",
      "  return (best_slope, -best_slope * pivot + y[pivot])\n"
     ]
    },
    {
     "name": "stdout",
     "output_type": "stream",
     "text": [
      "Profit Factor 56 0.981637310793233\n"
     ]
    },
    {
     "name": "stderr",
     "output_type": "stream",
     "text": [
      "/Users/yoyo/personal/fxml/fxml/trading/strategies/trendline_breakout/trendline_automation.py:11: FutureWarning: Series.__getitem__ treating keys as positions is deprecated. In a future version, integer keys will always be treated as labels (consistent with DataFrame behavior). To access a value by position, use `ser.iloc[pos]`\n",
      "  intercept = -slope * pivot + y[pivot]\n",
      "/Users/yoyo/personal/fxml/fxml/trading/strategies/trendline_breakout/trendline_automation.py:81: FutureWarning: Series.__getitem__ treating keys as positions is deprecated. In a future version, integer keys will always be treated as labels (consistent with DataFrame behavior). To access a value by position, use `ser.iloc[pos]`\n",
      "  return (best_slope, -best_slope * pivot + y[pivot])\n"
     ]
    },
    {
     "name": "stdout",
     "output_type": "stream",
     "text": [
      "Profit Factor 58 0.9899622541683912\n"
     ]
    },
    {
     "name": "stderr",
     "output_type": "stream",
     "text": [
      "/Users/yoyo/personal/fxml/fxml/trading/strategies/trendline_breakout/trendline_automation.py:11: FutureWarning: Series.__getitem__ treating keys as positions is deprecated. In a future version, integer keys will always be treated as labels (consistent with DataFrame behavior). To access a value by position, use `ser.iloc[pos]`\n",
      "  intercept = -slope * pivot + y[pivot]\n",
      "/Users/yoyo/personal/fxml/fxml/trading/strategies/trendline_breakout/trendline_automation.py:81: FutureWarning: Series.__getitem__ treating keys as positions is deprecated. In a future version, integer keys will always be treated as labels (consistent with DataFrame behavior). To access a value by position, use `ser.iloc[pos]`\n",
      "  return (best_slope, -best_slope * pivot + y[pivot])\n"
     ]
    },
    {
     "name": "stdout",
     "output_type": "stream",
     "text": [
      "Profit Factor 60 0.9813162706812938\n"
     ]
    },
    {
     "name": "stderr",
     "output_type": "stream",
     "text": [
      "/Users/yoyo/personal/fxml/fxml/trading/strategies/trendline_breakout/trendline_automation.py:11: FutureWarning: Series.__getitem__ treating keys as positions is deprecated. In a future version, integer keys will always be treated as labels (consistent with DataFrame behavior). To access a value by position, use `ser.iloc[pos]`\n",
      "  intercept = -slope * pivot + y[pivot]\n",
      "/Users/yoyo/personal/fxml/fxml/trading/strategies/trendline_breakout/trendline_automation.py:81: FutureWarning: Series.__getitem__ treating keys as positions is deprecated. In a future version, integer keys will always be treated as labels (consistent with DataFrame behavior). To access a value by position, use `ser.iloc[pos]`\n",
      "  return (best_slope, -best_slope * pivot + y[pivot])\n"
     ]
    },
    {
     "name": "stdout",
     "output_type": "stream",
     "text": [
      "Profit Factor 62 0.9878845533728161\n"
     ]
    },
    {
     "name": "stderr",
     "output_type": "stream",
     "text": [
      "/Users/yoyo/personal/fxml/fxml/trading/strategies/trendline_breakout/trendline_automation.py:11: FutureWarning: Series.__getitem__ treating keys as positions is deprecated. In a future version, integer keys will always be treated as labels (consistent with DataFrame behavior). To access a value by position, use `ser.iloc[pos]`\n",
      "  intercept = -slope * pivot + y[pivot]\n",
      "/Users/yoyo/personal/fxml/fxml/trading/strategies/trendline_breakout/trendline_automation.py:81: FutureWarning: Series.__getitem__ treating keys as positions is deprecated. In a future version, integer keys will always be treated as labels (consistent with DataFrame behavior). To access a value by position, use `ser.iloc[pos]`\n",
      "  return (best_slope, -best_slope * pivot + y[pivot])\n"
     ]
    },
    {
     "name": "stdout",
     "output_type": "stream",
     "text": [
      "Profit Factor 64 0.9823318939755507\n"
     ]
    },
    {
     "name": "stderr",
     "output_type": "stream",
     "text": [
      "/Users/yoyo/personal/fxml/fxml/trading/strategies/trendline_breakout/trendline_automation.py:11: FutureWarning: Series.__getitem__ treating keys as positions is deprecated. In a future version, integer keys will always be treated as labels (consistent with DataFrame behavior). To access a value by position, use `ser.iloc[pos]`\n",
      "  intercept = -slope * pivot + y[pivot]\n",
      "/Users/yoyo/personal/fxml/fxml/trading/strategies/trendline_breakout/trendline_automation.py:81: FutureWarning: Series.__getitem__ treating keys as positions is deprecated. In a future version, integer keys will always be treated as labels (consistent with DataFrame behavior). To access a value by position, use `ser.iloc[pos]`\n",
      "  return (best_slope, -best_slope * pivot + y[pivot])\n"
     ]
    },
    {
     "name": "stdout",
     "output_type": "stream",
     "text": [
      "Profit Factor 66 0.9956997168001932\n"
     ]
    },
    {
     "name": "stderr",
     "output_type": "stream",
     "text": [
      "/Users/yoyo/personal/fxml/fxml/trading/strategies/trendline_breakout/trendline_automation.py:11: FutureWarning: Series.__getitem__ treating keys as positions is deprecated. In a future version, integer keys will always be treated as labels (consistent with DataFrame behavior). To access a value by position, use `ser.iloc[pos]`\n",
      "  intercept = -slope * pivot + y[pivot]\n",
      "/Users/yoyo/personal/fxml/fxml/trading/strategies/trendline_breakout/trendline_automation.py:81: FutureWarning: Series.__getitem__ treating keys as positions is deprecated. In a future version, integer keys will always be treated as labels (consistent with DataFrame behavior). To access a value by position, use `ser.iloc[pos]`\n",
      "  return (best_slope, -best_slope * pivot + y[pivot])\n"
     ]
    },
    {
     "name": "stdout",
     "output_type": "stream",
     "text": [
      "Profit Factor 68 0.9872564268931745\n"
     ]
    },
    {
     "name": "stderr",
     "output_type": "stream",
     "text": [
      "/Users/yoyo/personal/fxml/fxml/trading/strategies/trendline_breakout/trendline_automation.py:11: FutureWarning: Series.__getitem__ treating keys as positions is deprecated. In a future version, integer keys will always be treated as labels (consistent with DataFrame behavior). To access a value by position, use `ser.iloc[pos]`\n",
      "  intercept = -slope * pivot + y[pivot]\n",
      "/Users/yoyo/personal/fxml/fxml/trading/strategies/trendline_breakout/trendline_automation.py:81: FutureWarning: Series.__getitem__ treating keys as positions is deprecated. In a future version, integer keys will always be treated as labels (consistent with DataFrame behavior). To access a value by position, use `ser.iloc[pos]`\n",
      "  return (best_slope, -best_slope * pivot + y[pivot])\n"
     ]
    },
    {
     "name": "stdout",
     "output_type": "stream",
     "text": [
      "Profit Factor 70 0.982838016114758\n"
     ]
    },
    {
     "name": "stderr",
     "output_type": "stream",
     "text": [
      "/Users/yoyo/personal/fxml/fxml/trading/strategies/trendline_breakout/trendline_automation.py:11: FutureWarning: Series.__getitem__ treating keys as positions is deprecated. In a future version, integer keys will always be treated as labels (consistent with DataFrame behavior). To access a value by position, use `ser.iloc[pos]`\n",
      "  intercept = -slope * pivot + y[pivot]\n",
      "/Users/yoyo/personal/fxml/fxml/trading/strategies/trendline_breakout/trendline_automation.py:81: FutureWarning: Series.__getitem__ treating keys as positions is deprecated. In a future version, integer keys will always be treated as labels (consistent with DataFrame behavior). To access a value by position, use `ser.iloc[pos]`\n",
      "  return (best_slope, -best_slope * pivot + y[pivot])\n"
     ]
    },
    {
     "name": "stdout",
     "output_type": "stream",
     "text": [
      "Profit Factor 72 0.9828813087888368\n"
     ]
    },
    {
     "name": "stderr",
     "output_type": "stream",
     "text": [
      "/Users/yoyo/personal/fxml/fxml/trading/strategies/trendline_breakout/trendline_automation.py:11: FutureWarning: Series.__getitem__ treating keys as positions is deprecated. In a future version, integer keys will always be treated as labels (consistent with DataFrame behavior). To access a value by position, use `ser.iloc[pos]`\n",
      "  intercept = -slope * pivot + y[pivot]\n",
      "/Users/yoyo/personal/fxml/fxml/trading/strategies/trendline_breakout/trendline_automation.py:81: FutureWarning: Series.__getitem__ treating keys as positions is deprecated. In a future version, integer keys will always be treated as labels (consistent with DataFrame behavior). To access a value by position, use `ser.iloc[pos]`\n",
      "  return (best_slope, -best_slope * pivot + y[pivot])\n"
     ]
    },
    {
     "name": "stdout",
     "output_type": "stream",
     "text": [
      "Profit Factor 74 0.9900393985894358\n"
     ]
    },
    {
     "name": "stderr",
     "output_type": "stream",
     "text": [
      "/Users/yoyo/personal/fxml/fxml/trading/strategies/trendline_breakout/trendline_automation.py:11: FutureWarning: Series.__getitem__ treating keys as positions is deprecated. In a future version, integer keys will always be treated as labels (consistent with DataFrame behavior). To access a value by position, use `ser.iloc[pos]`\n",
      "  intercept = -slope * pivot + y[pivot]\n",
      "/Users/yoyo/personal/fxml/fxml/trading/strategies/trendline_breakout/trendline_automation.py:81: FutureWarning: Series.__getitem__ treating keys as positions is deprecated. In a future version, integer keys will always be treated as labels (consistent with DataFrame behavior). To access a value by position, use `ser.iloc[pos]`\n",
      "  return (best_slope, -best_slope * pivot + y[pivot])\n"
     ]
    },
    {
     "name": "stdout",
     "output_type": "stream",
     "text": [
      "Profit Factor 76 0.9924759327480738\n"
     ]
    },
    {
     "name": "stderr",
     "output_type": "stream",
     "text": [
      "/Users/yoyo/personal/fxml/fxml/trading/strategies/trendline_breakout/trendline_automation.py:11: FutureWarning: Series.__getitem__ treating keys as positions is deprecated. In a future version, integer keys will always be treated as labels (consistent with DataFrame behavior). To access a value by position, use `ser.iloc[pos]`\n",
      "  intercept = -slope * pivot + y[pivot]\n",
      "/Users/yoyo/personal/fxml/fxml/trading/strategies/trendline_breakout/trendline_automation.py:81: FutureWarning: Series.__getitem__ treating keys as positions is deprecated. In a future version, integer keys will always be treated as labels (consistent with DataFrame behavior). To access a value by position, use `ser.iloc[pos]`\n",
      "  return (best_slope, -best_slope * pivot + y[pivot])\n"
     ]
    },
    {
     "name": "stdout",
     "output_type": "stream",
     "text": [
      "Profit Factor 78 0.9951348512767407\n"
     ]
    },
    {
     "name": "stderr",
     "output_type": "stream",
     "text": [
      "/Users/yoyo/personal/fxml/fxml/trading/strategies/trendline_breakout/trendline_automation.py:11: FutureWarning: Series.__getitem__ treating keys as positions is deprecated. In a future version, integer keys will always be treated as labels (consistent with DataFrame behavior). To access a value by position, use `ser.iloc[pos]`\n",
      "  intercept = -slope * pivot + y[pivot]\n",
      "/Users/yoyo/personal/fxml/fxml/trading/strategies/trendline_breakout/trendline_automation.py:81: FutureWarning: Series.__getitem__ treating keys as positions is deprecated. In a future version, integer keys will always be treated as labels (consistent with DataFrame behavior). To access a value by position, use `ser.iloc[pos]`\n",
      "  return (best_slope, -best_slope * pivot + y[pivot])\n"
     ]
    },
    {
     "name": "stdout",
     "output_type": "stream",
     "text": [
      "Profit Factor 80 0.9996763075557308\n"
     ]
    },
    {
     "name": "stderr",
     "output_type": "stream",
     "text": [
      "/Users/yoyo/personal/fxml/fxml/trading/strategies/trendline_breakout/trendline_automation.py:11: FutureWarning: Series.__getitem__ treating keys as positions is deprecated. In a future version, integer keys will always be treated as labels (consistent with DataFrame behavior). To access a value by position, use `ser.iloc[pos]`\n",
      "  intercept = -slope * pivot + y[pivot]\n",
      "/Users/yoyo/personal/fxml/fxml/trading/strategies/trendline_breakout/trendline_automation.py:81: FutureWarning: Series.__getitem__ treating keys as positions is deprecated. In a future version, integer keys will always be treated as labels (consistent with DataFrame behavior). To access a value by position, use `ser.iloc[pos]`\n",
      "  return (best_slope, -best_slope * pivot + y[pivot])\n"
     ]
    },
    {
     "name": "stdout",
     "output_type": "stream",
     "text": [
      "Profit Factor 82 0.9968377817411107\n"
     ]
    },
    {
     "name": "stderr",
     "output_type": "stream",
     "text": [
      "/Users/yoyo/personal/fxml/fxml/trading/strategies/trendline_breakout/trendline_automation.py:11: FutureWarning: Series.__getitem__ treating keys as positions is deprecated. In a future version, integer keys will always be treated as labels (consistent with DataFrame behavior). To access a value by position, use `ser.iloc[pos]`\n",
      "  intercept = -slope * pivot + y[pivot]\n",
      "/Users/yoyo/personal/fxml/fxml/trading/strategies/trendline_breakout/trendline_automation.py:81: FutureWarning: Series.__getitem__ treating keys as positions is deprecated. In a future version, integer keys will always be treated as labels (consistent with DataFrame behavior). To access a value by position, use `ser.iloc[pos]`\n",
      "  return (best_slope, -best_slope * pivot + y[pivot])\n"
     ]
    },
    {
     "name": "stdout",
     "output_type": "stream",
     "text": [
      "Profit Factor 84 0.9956421506930276\n"
     ]
    },
    {
     "name": "stderr",
     "output_type": "stream",
     "text": [
      "/Users/yoyo/personal/fxml/fxml/trading/strategies/trendline_breakout/trendline_automation.py:11: FutureWarning: Series.__getitem__ treating keys as positions is deprecated. In a future version, integer keys will always be treated as labels (consistent with DataFrame behavior). To access a value by position, use `ser.iloc[pos]`\n",
      "  intercept = -slope * pivot + y[pivot]\n",
      "/Users/yoyo/personal/fxml/fxml/trading/strategies/trendline_breakout/trendline_automation.py:81: FutureWarning: Series.__getitem__ treating keys as positions is deprecated. In a future version, integer keys will always be treated as labels (consistent with DataFrame behavior). To access a value by position, use `ser.iloc[pos]`\n",
      "  return (best_slope, -best_slope * pivot + y[pivot])\n"
     ]
    },
    {
     "name": "stdout",
     "output_type": "stream",
     "text": [
      "Profit Factor 86 0.9904850111528987\n"
     ]
    },
    {
     "name": "stderr",
     "output_type": "stream",
     "text": [
      "/Users/yoyo/personal/fxml/fxml/trading/strategies/trendline_breakout/trendline_automation.py:11: FutureWarning: Series.__getitem__ treating keys as positions is deprecated. In a future version, integer keys will always be treated as labels (consistent with DataFrame behavior). To access a value by position, use `ser.iloc[pos]`\n",
      "  intercept = -slope * pivot + y[pivot]\n",
      "/Users/yoyo/personal/fxml/fxml/trading/strategies/trendline_breakout/trendline_automation.py:81: FutureWarning: Series.__getitem__ treating keys as positions is deprecated. In a future version, integer keys will always be treated as labels (consistent with DataFrame behavior). To access a value by position, use `ser.iloc[pos]`\n",
      "  return (best_slope, -best_slope * pivot + y[pivot])\n"
     ]
    },
    {
     "name": "stdout",
     "output_type": "stream",
     "text": [
      "Profit Factor 88 0.9862574503271359\n"
     ]
    },
    {
     "name": "stderr",
     "output_type": "stream",
     "text": [
      "/Users/yoyo/personal/fxml/fxml/trading/strategies/trendline_breakout/trendline_automation.py:11: FutureWarning: Series.__getitem__ treating keys as positions is deprecated. In a future version, integer keys will always be treated as labels (consistent with DataFrame behavior). To access a value by position, use `ser.iloc[pos]`\n",
      "  intercept = -slope * pivot + y[pivot]\n",
      "/Users/yoyo/personal/fxml/fxml/trading/strategies/trendline_breakout/trendline_automation.py:81: FutureWarning: Series.__getitem__ treating keys as positions is deprecated. In a future version, integer keys will always be treated as labels (consistent with DataFrame behavior). To access a value by position, use `ser.iloc[pos]`\n",
      "  return (best_slope, -best_slope * pivot + y[pivot])\n"
     ]
    },
    {
     "name": "stdout",
     "output_type": "stream",
     "text": [
      "Profit Factor 90 0.9875128864436624\n"
     ]
    },
    {
     "name": "stderr",
     "output_type": "stream",
     "text": [
      "/Users/yoyo/personal/fxml/fxml/trading/strategies/trendline_breakout/trendline_automation.py:11: FutureWarning: Series.__getitem__ treating keys as positions is deprecated. In a future version, integer keys will always be treated as labels (consistent with DataFrame behavior). To access a value by position, use `ser.iloc[pos]`\n",
      "  intercept = -slope * pivot + y[pivot]\n",
      "/Users/yoyo/personal/fxml/fxml/trading/strategies/trendline_breakout/trendline_automation.py:81: FutureWarning: Series.__getitem__ treating keys as positions is deprecated. In a future version, integer keys will always be treated as labels (consistent with DataFrame behavior). To access a value by position, use `ser.iloc[pos]`\n",
      "  return (best_slope, -best_slope * pivot + y[pivot])\n"
     ]
    },
    {
     "name": "stdout",
     "output_type": "stream",
     "text": [
      "Profit Factor 92 0.9826675491561565\n"
     ]
    },
    {
     "name": "stderr",
     "output_type": "stream",
     "text": [
      "/Users/yoyo/personal/fxml/fxml/trading/strategies/trendline_breakout/trendline_automation.py:11: FutureWarning: Series.__getitem__ treating keys as positions is deprecated. In a future version, integer keys will always be treated as labels (consistent with DataFrame behavior). To access a value by position, use `ser.iloc[pos]`\n",
      "  intercept = -slope * pivot + y[pivot]\n",
      "/Users/yoyo/personal/fxml/fxml/trading/strategies/trendline_breakout/trendline_automation.py:81: FutureWarning: Series.__getitem__ treating keys as positions is deprecated. In a future version, integer keys will always be treated as labels (consistent with DataFrame behavior). To access a value by position, use `ser.iloc[pos]`\n",
      "  return (best_slope, -best_slope * pivot + y[pivot])\n"
     ]
    },
    {
     "name": "stdout",
     "output_type": "stream",
     "text": [
      "Profit Factor 94 0.9808252540249168\n"
     ]
    },
    {
     "name": "stderr",
     "output_type": "stream",
     "text": [
      "/Users/yoyo/personal/fxml/fxml/trading/strategies/trendline_breakout/trendline_automation.py:11: FutureWarning: Series.__getitem__ treating keys as positions is deprecated. In a future version, integer keys will always be treated as labels (consistent with DataFrame behavior). To access a value by position, use `ser.iloc[pos]`\n",
      "  intercept = -slope * pivot + y[pivot]\n",
      "/Users/yoyo/personal/fxml/fxml/trading/strategies/trendline_breakout/trendline_automation.py:81: FutureWarning: Series.__getitem__ treating keys as positions is deprecated. In a future version, integer keys will always be treated as labels (consistent with DataFrame behavior). To access a value by position, use `ser.iloc[pos]`\n",
      "  return (best_slope, -best_slope * pivot + y[pivot])\n"
     ]
    },
    {
     "name": "stdout",
     "output_type": "stream",
     "text": [
      "Profit Factor 96 0.9798537777274471\n"
     ]
    },
    {
     "name": "stderr",
     "output_type": "stream",
     "text": [
      "/Users/yoyo/personal/fxml/fxml/trading/strategies/trendline_breakout/trendline_automation.py:11: FutureWarning: Series.__getitem__ treating keys as positions is deprecated. In a future version, integer keys will always be treated as labels (consistent with DataFrame behavior). To access a value by position, use `ser.iloc[pos]`\n",
      "  intercept = -slope * pivot + y[pivot]\n",
      "/Users/yoyo/personal/fxml/fxml/trading/strategies/trendline_breakout/trendline_automation.py:81: FutureWarning: Series.__getitem__ treating keys as positions is deprecated. In a future version, integer keys will always be treated as labels (consistent with DataFrame behavior). To access a value by position, use `ser.iloc[pos]`\n",
      "  return (best_slope, -best_slope * pivot + y[pivot])\n"
     ]
    },
    {
     "name": "stdout",
     "output_type": "stream",
     "text": [
      "Profit Factor 98 0.9798273092123362\n"
     ]
    },
    {
     "name": "stderr",
     "output_type": "stream",
     "text": [
      "/Users/yoyo/personal/fxml/fxml/trading/strategies/trendline_breakout/trendline_automation.py:11: FutureWarning: Series.__getitem__ treating keys as positions is deprecated. In a future version, integer keys will always be treated as labels (consistent with DataFrame behavior). To access a value by position, use `ser.iloc[pos]`\n",
      "  intercept = -slope * pivot + y[pivot]\n",
      "/Users/yoyo/personal/fxml/fxml/trading/strategies/trendline_breakout/trendline_automation.py:81: FutureWarning: Series.__getitem__ treating keys as positions is deprecated. In a future version, integer keys will always be treated as labels (consistent with DataFrame behavior). To access a value by position, use `ser.iloc[pos]`\n",
      "  return (best_slope, -best_slope * pivot + y[pivot])\n"
     ]
    },
    {
     "name": "stdout",
     "output_type": "stream",
     "text": [
      "Profit Factor 100 0.9853448562520082\n"
     ]
    },
    {
     "name": "stderr",
     "output_type": "stream",
     "text": [
      "/Users/yoyo/personal/fxml/fxml/trading/strategies/trendline_breakout/trendline_automation.py:11: FutureWarning: Series.__getitem__ treating keys as positions is deprecated. In a future version, integer keys will always be treated as labels (consistent with DataFrame behavior). To access a value by position, use `ser.iloc[pos]`\n",
      "  intercept = -slope * pivot + y[pivot]\n",
      "/Users/yoyo/personal/fxml/fxml/trading/strategies/trendline_breakout/trendline_automation.py:81: FutureWarning: Series.__getitem__ treating keys as positions is deprecated. In a future version, integer keys will always be treated as labels (consistent with DataFrame behavior). To access a value by position, use `ser.iloc[pos]`\n",
      "  return (best_slope, -best_slope * pivot + y[pivot])\n"
     ]
    },
    {
     "name": "stdout",
     "output_type": "stream",
     "text": [
      "Profit Factor 102 0.9821657573739225\n"
     ]
    },
    {
     "name": "stderr",
     "output_type": "stream",
     "text": [
      "/Users/yoyo/personal/fxml/fxml/trading/strategies/trendline_breakout/trendline_automation.py:11: FutureWarning: Series.__getitem__ treating keys as positions is deprecated. In a future version, integer keys will always be treated as labels (consistent with DataFrame behavior). To access a value by position, use `ser.iloc[pos]`\n",
      "  intercept = -slope * pivot + y[pivot]\n",
      "/Users/yoyo/personal/fxml/fxml/trading/strategies/trendline_breakout/trendline_automation.py:81: FutureWarning: Series.__getitem__ treating keys as positions is deprecated. In a future version, integer keys will always be treated as labels (consistent with DataFrame behavior). To access a value by position, use `ser.iloc[pos]`\n",
      "  return (best_slope, -best_slope * pivot + y[pivot])\n"
     ]
    },
    {
     "name": "stdout",
     "output_type": "stream",
     "text": [
      "Profit Factor 104 0.9714721823792055\n"
     ]
    },
    {
     "name": "stderr",
     "output_type": "stream",
     "text": [
      "/Users/yoyo/personal/fxml/fxml/trading/strategies/trendline_breakout/trendline_automation.py:11: FutureWarning: Series.__getitem__ treating keys as positions is deprecated. In a future version, integer keys will always be treated as labels (consistent with DataFrame behavior). To access a value by position, use `ser.iloc[pos]`\n",
      "  intercept = -slope * pivot + y[pivot]\n",
      "/Users/yoyo/personal/fxml/fxml/trading/strategies/trendline_breakout/trendline_automation.py:81: FutureWarning: Series.__getitem__ treating keys as positions is deprecated. In a future version, integer keys will always be treated as labels (consistent with DataFrame behavior). To access a value by position, use `ser.iloc[pos]`\n",
      "  return (best_slope, -best_slope * pivot + y[pivot])\n"
     ]
    },
    {
     "name": "stdout",
     "output_type": "stream",
     "text": [
      "Profit Factor 106 0.9650800205923243\n"
     ]
    },
    {
     "name": "stderr",
     "output_type": "stream",
     "text": [
      "/Users/yoyo/personal/fxml/fxml/trading/strategies/trendline_breakout/trendline_automation.py:11: FutureWarning: Series.__getitem__ treating keys as positions is deprecated. In a future version, integer keys will always be treated as labels (consistent with DataFrame behavior). To access a value by position, use `ser.iloc[pos]`\n",
      "  intercept = -slope * pivot + y[pivot]\n",
      "/Users/yoyo/personal/fxml/fxml/trading/strategies/trendline_breakout/trendline_automation.py:81: FutureWarning: Series.__getitem__ treating keys as positions is deprecated. In a future version, integer keys will always be treated as labels (consistent with DataFrame behavior). To access a value by position, use `ser.iloc[pos]`\n",
      "  return (best_slope, -best_slope * pivot + y[pivot])\n"
     ]
    },
    {
     "name": "stdout",
     "output_type": "stream",
     "text": [
      "Profit Factor 108 0.9666138761262962\n"
     ]
    },
    {
     "name": "stderr",
     "output_type": "stream",
     "text": [
      "/Users/yoyo/personal/fxml/fxml/trading/strategies/trendline_breakout/trendline_automation.py:11: FutureWarning: Series.__getitem__ treating keys as positions is deprecated. In a future version, integer keys will always be treated as labels (consistent with DataFrame behavior). To access a value by position, use `ser.iloc[pos]`\n",
      "  intercept = -slope * pivot + y[pivot]\n",
      "/Users/yoyo/personal/fxml/fxml/trading/strategies/trendline_breakout/trendline_automation.py:81: FutureWarning: Series.__getitem__ treating keys as positions is deprecated. In a future version, integer keys will always be treated as labels (consistent with DataFrame behavior). To access a value by position, use `ser.iloc[pos]`\n",
      "  return (best_slope, -best_slope * pivot + y[pivot])\n"
     ]
    },
    {
     "name": "stdout",
     "output_type": "stream",
     "text": [
      "Profit Factor 110 0.9662449211121711\n"
     ]
    },
    {
     "name": "stderr",
     "output_type": "stream",
     "text": [
      "/Users/yoyo/personal/fxml/fxml/trading/strategies/trendline_breakout/trendline_automation.py:11: FutureWarning: Series.__getitem__ treating keys as positions is deprecated. In a future version, integer keys will always be treated as labels (consistent with DataFrame behavior). To access a value by position, use `ser.iloc[pos]`\n",
      "  intercept = -slope * pivot + y[pivot]\n",
      "/Users/yoyo/personal/fxml/fxml/trading/strategies/trendline_breakout/trendline_automation.py:81: FutureWarning: Series.__getitem__ treating keys as positions is deprecated. In a future version, integer keys will always be treated as labels (consistent with DataFrame behavior). To access a value by position, use `ser.iloc[pos]`\n",
      "  return (best_slope, -best_slope * pivot + y[pivot])\n"
     ]
    },
    {
     "name": "stdout",
     "output_type": "stream",
     "text": [
      "Profit Factor 112 0.9666955022512951\n"
     ]
    },
    {
     "name": "stderr",
     "output_type": "stream",
     "text": [
      "/Users/yoyo/personal/fxml/fxml/trading/strategies/trendline_breakout/trendline_automation.py:11: FutureWarning: Series.__getitem__ treating keys as positions is deprecated. In a future version, integer keys will always be treated as labels (consistent with DataFrame behavior). To access a value by position, use `ser.iloc[pos]`\n",
      "  intercept = -slope * pivot + y[pivot]\n",
      "/Users/yoyo/personal/fxml/fxml/trading/strategies/trendline_breakout/trendline_automation.py:81: FutureWarning: Series.__getitem__ treating keys as positions is deprecated. In a future version, integer keys will always be treated as labels (consistent with DataFrame behavior). To access a value by position, use `ser.iloc[pos]`\n",
      "  return (best_slope, -best_slope * pivot + y[pivot])\n"
     ]
    },
    {
     "name": "stdout",
     "output_type": "stream",
     "text": [
      "Profit Factor 114 0.9708372353265686\n"
     ]
    },
    {
     "name": "stderr",
     "output_type": "stream",
     "text": [
      "/Users/yoyo/personal/fxml/fxml/trading/strategies/trendline_breakout/trendline_automation.py:11: FutureWarning: Series.__getitem__ treating keys as positions is deprecated. In a future version, integer keys will always be treated as labels (consistent with DataFrame behavior). To access a value by position, use `ser.iloc[pos]`\n",
      "  intercept = -slope * pivot + y[pivot]\n",
      "/Users/yoyo/personal/fxml/fxml/trading/strategies/trendline_breakout/trendline_automation.py:81: FutureWarning: Series.__getitem__ treating keys as positions is deprecated. In a future version, integer keys will always be treated as labels (consistent with DataFrame behavior). To access a value by position, use `ser.iloc[pos]`\n",
      "  return (best_slope, -best_slope * pivot + y[pivot])\n"
     ]
    },
    {
     "name": "stdout",
     "output_type": "stream",
     "text": [
      "Profit Factor 116 0.9675906661910411\n"
     ]
    },
    {
     "name": "stderr",
     "output_type": "stream",
     "text": [
      "/Users/yoyo/personal/fxml/fxml/trading/strategies/trendline_breakout/trendline_automation.py:11: FutureWarning: Series.__getitem__ treating keys as positions is deprecated. In a future version, integer keys will always be treated as labels (consistent with DataFrame behavior). To access a value by position, use `ser.iloc[pos]`\n",
      "  intercept = -slope * pivot + y[pivot]\n",
      "/Users/yoyo/personal/fxml/fxml/trading/strategies/trendline_breakout/trendline_automation.py:81: FutureWarning: Series.__getitem__ treating keys as positions is deprecated. In a future version, integer keys will always be treated as labels (consistent with DataFrame behavior). To access a value by position, use `ser.iloc[pos]`\n",
      "  return (best_slope, -best_slope * pivot + y[pivot])\n"
     ]
    },
    {
     "name": "stdout",
     "output_type": "stream",
     "text": [
      "Profit Factor 118 0.9628821227947215\n"
     ]
    },
    {
     "name": "stderr",
     "output_type": "stream",
     "text": [
      "/Users/yoyo/personal/fxml/fxml/trading/strategies/trendline_breakout/trendline_automation.py:11: FutureWarning: Series.__getitem__ treating keys as positions is deprecated. In a future version, integer keys will always be treated as labels (consistent with DataFrame behavior). To access a value by position, use `ser.iloc[pos]`\n",
      "  intercept = -slope * pivot + y[pivot]\n",
      "/Users/yoyo/personal/fxml/fxml/trading/strategies/trendline_breakout/trendline_automation.py:81: FutureWarning: Series.__getitem__ treating keys as positions is deprecated. In a future version, integer keys will always be treated as labels (consistent with DataFrame behavior). To access a value by position, use `ser.iloc[pos]`\n",
      "  return (best_slope, -best_slope * pivot + y[pivot])\n"
     ]
    },
    {
     "name": "stdout",
     "output_type": "stream",
     "text": [
      "Profit Factor 120 0.9656267832075789\n"
     ]
    },
    {
     "name": "stderr",
     "output_type": "stream",
     "text": [
      "/Users/yoyo/personal/fxml/fxml/trading/strategies/trendline_breakout/trendline_automation.py:11: FutureWarning: Series.__getitem__ treating keys as positions is deprecated. In a future version, integer keys will always be treated as labels (consistent with DataFrame behavior). To access a value by position, use `ser.iloc[pos]`\n",
      "  intercept = -slope * pivot + y[pivot]\n",
      "/Users/yoyo/personal/fxml/fxml/trading/strategies/trendline_breakout/trendline_automation.py:81: FutureWarning: Series.__getitem__ treating keys as positions is deprecated. In a future version, integer keys will always be treated as labels (consistent with DataFrame behavior). To access a value by position, use `ser.iloc[pos]`\n",
      "  return (best_slope, -best_slope * pivot + y[pivot])\n"
     ]
    },
    {
     "name": "stdout",
     "output_type": "stream",
     "text": [
      "Profit Factor 122 0.9706433057594188\n"
     ]
    },
    {
     "name": "stderr",
     "output_type": "stream",
     "text": [
      "/Users/yoyo/personal/fxml/fxml/trading/strategies/trendline_breakout/trendline_automation.py:11: FutureWarning: Series.__getitem__ treating keys as positions is deprecated. In a future version, integer keys will always be treated as labels (consistent with DataFrame behavior). To access a value by position, use `ser.iloc[pos]`\n",
      "  intercept = -slope * pivot + y[pivot]\n",
      "/Users/yoyo/personal/fxml/fxml/trading/strategies/trendline_breakout/trendline_automation.py:81: FutureWarning: Series.__getitem__ treating keys as positions is deprecated. In a future version, integer keys will always be treated as labels (consistent with DataFrame behavior). To access a value by position, use `ser.iloc[pos]`\n",
      "  return (best_slope, -best_slope * pivot + y[pivot])\n"
     ]
    },
    {
     "name": "stdout",
     "output_type": "stream",
     "text": [
      "Profit Factor 124 0.9704200029639982\n"
     ]
    },
    {
     "name": "stderr",
     "output_type": "stream",
     "text": [
      "/Users/yoyo/personal/fxml/fxml/trading/strategies/trendline_breakout/trendline_automation.py:11: FutureWarning: Series.__getitem__ treating keys as positions is deprecated. In a future version, integer keys will always be treated as labels (consistent with DataFrame behavior). To access a value by position, use `ser.iloc[pos]`\n",
      "  intercept = -slope * pivot + y[pivot]\n",
      "/Users/yoyo/personal/fxml/fxml/trading/strategies/trendline_breakout/trendline_automation.py:81: FutureWarning: Series.__getitem__ treating keys as positions is deprecated. In a future version, integer keys will always be treated as labels (consistent with DataFrame behavior). To access a value by position, use `ser.iloc[pos]`\n",
      "  return (best_slope, -best_slope * pivot + y[pivot])\n"
     ]
    },
    {
     "name": "stdout",
     "output_type": "stream",
     "text": [
      "Profit Factor 126 0.9694045205971814\n"
     ]
    },
    {
     "name": "stderr",
     "output_type": "stream",
     "text": [
      "/Users/yoyo/personal/fxml/fxml/trading/strategies/trendline_breakout/trendline_automation.py:11: FutureWarning: Series.__getitem__ treating keys as positions is deprecated. In a future version, integer keys will always be treated as labels (consistent with DataFrame behavior). To access a value by position, use `ser.iloc[pos]`\n",
      "  intercept = -slope * pivot + y[pivot]\n",
      "/Users/yoyo/personal/fxml/fxml/trading/strategies/trendline_breakout/trendline_automation.py:81: FutureWarning: Series.__getitem__ treating keys as positions is deprecated. In a future version, integer keys will always be treated as labels (consistent with DataFrame behavior). To access a value by position, use `ser.iloc[pos]`\n",
      "  return (best_slope, -best_slope * pivot + y[pivot])\n"
     ]
    },
    {
     "name": "stdout",
     "output_type": "stream",
     "text": [
      "Profit Factor 128 0.9740046260092513\n"
     ]
    },
    {
     "name": "stderr",
     "output_type": "stream",
     "text": [
      "/Users/yoyo/personal/fxml/fxml/trading/strategies/trendline_breakout/trendline_automation.py:11: FutureWarning: Series.__getitem__ treating keys as positions is deprecated. In a future version, integer keys will always be treated as labels (consistent with DataFrame behavior). To access a value by position, use `ser.iloc[pos]`\n",
      "  intercept = -slope * pivot + y[pivot]\n",
      "/Users/yoyo/personal/fxml/fxml/trading/strategies/trendline_breakout/trendline_automation.py:81: FutureWarning: Series.__getitem__ treating keys as positions is deprecated. In a future version, integer keys will always be treated as labels (consistent with DataFrame behavior). To access a value by position, use `ser.iloc[pos]`\n",
      "  return (best_slope, -best_slope * pivot + y[pivot])\n"
     ]
    },
    {
     "name": "stdout",
     "output_type": "stream",
     "text": [
      "Profit Factor 130 0.9775811529122065\n"
     ]
    },
    {
     "name": "stderr",
     "output_type": "stream",
     "text": [
      "/Users/yoyo/personal/fxml/fxml/trading/strategies/trendline_breakout/trendline_automation.py:11: FutureWarning: Series.__getitem__ treating keys as positions is deprecated. In a future version, integer keys will always be treated as labels (consistent with DataFrame behavior). To access a value by position, use `ser.iloc[pos]`\n",
      "  intercept = -slope * pivot + y[pivot]\n",
      "/Users/yoyo/personal/fxml/fxml/trading/strategies/trendline_breakout/trendline_automation.py:81: FutureWarning: Series.__getitem__ treating keys as positions is deprecated. In a future version, integer keys will always be treated as labels (consistent with DataFrame behavior). To access a value by position, use `ser.iloc[pos]`\n",
      "  return (best_slope, -best_slope * pivot + y[pivot])\n"
     ]
    },
    {
     "name": "stdout",
     "output_type": "stream",
     "text": [
      "Profit Factor 132 0.9721504398266431\n"
     ]
    },
    {
     "name": "stderr",
     "output_type": "stream",
     "text": [
      "/Users/yoyo/personal/fxml/fxml/trading/strategies/trendline_breakout/trendline_automation.py:11: FutureWarning: Series.__getitem__ treating keys as positions is deprecated. In a future version, integer keys will always be treated as labels (consistent with DataFrame behavior). To access a value by position, use `ser.iloc[pos]`\n",
      "  intercept = -slope * pivot + y[pivot]\n",
      "/Users/yoyo/personal/fxml/fxml/trading/strategies/trendline_breakout/trendline_automation.py:81: FutureWarning: Series.__getitem__ treating keys as positions is deprecated. In a future version, integer keys will always be treated as labels (consistent with DataFrame behavior). To access a value by position, use `ser.iloc[pos]`\n",
      "  return (best_slope, -best_slope * pivot + y[pivot])\n"
     ]
    },
    {
     "name": "stdout",
     "output_type": "stream",
     "text": [
      "Profit Factor 134 0.9802284926669849\n"
     ]
    },
    {
     "name": "stderr",
     "output_type": "stream",
     "text": [
      "/Users/yoyo/personal/fxml/fxml/trading/strategies/trendline_breakout/trendline_automation.py:11: FutureWarning: Series.__getitem__ treating keys as positions is deprecated. In a future version, integer keys will always be treated as labels (consistent with DataFrame behavior). To access a value by position, use `ser.iloc[pos]`\n",
      "  intercept = -slope * pivot + y[pivot]\n",
      "/Users/yoyo/personal/fxml/fxml/trading/strategies/trendline_breakout/trendline_automation.py:81: FutureWarning: Series.__getitem__ treating keys as positions is deprecated. In a future version, integer keys will always be treated as labels (consistent with DataFrame behavior). To access a value by position, use `ser.iloc[pos]`\n",
      "  return (best_slope, -best_slope * pivot + y[pivot])\n"
     ]
    },
    {
     "name": "stdout",
     "output_type": "stream",
     "text": [
      "Profit Factor 136 0.9835858587592139\n"
     ]
    },
    {
     "name": "stderr",
     "output_type": "stream",
     "text": [
      "/Users/yoyo/personal/fxml/fxml/trading/strategies/trendline_breakout/trendline_automation.py:11: FutureWarning: Series.__getitem__ treating keys as positions is deprecated. In a future version, integer keys will always be treated as labels (consistent with DataFrame behavior). To access a value by position, use `ser.iloc[pos]`\n",
      "  intercept = -slope * pivot + y[pivot]\n",
      "/Users/yoyo/personal/fxml/fxml/trading/strategies/trendline_breakout/trendline_automation.py:81: FutureWarning: Series.__getitem__ treating keys as positions is deprecated. In a future version, integer keys will always be treated as labels (consistent with DataFrame behavior). To access a value by position, use `ser.iloc[pos]`\n",
      "  return (best_slope, -best_slope * pivot + y[pivot])\n",
      "IOStream.flush timed out\n",
      "IOStream.flush timed out\n"
     ]
    },
    {
     "name": "stdout",
     "output_type": "stream",
     "text": [
      "Profit Factor 138 0.9811613041238656\n"
     ]
    },
    {
     "name": "stderr",
     "output_type": "stream",
     "text": [
      "/Users/yoyo/personal/fxml/fxml/trading/strategies/trendline_breakout/trendline_automation.py:11: FutureWarning: Series.__getitem__ treating keys as positions is deprecated. In a future version, integer keys will always be treated as labels (consistent with DataFrame behavior). To access a value by position, use `ser.iloc[pos]`\n",
      "  intercept = -slope * pivot + y[pivot]\n",
      "/Users/yoyo/personal/fxml/fxml/trading/strategies/trendline_breakout/trendline_automation.py:81: FutureWarning: Series.__getitem__ treating keys as positions is deprecated. In a future version, integer keys will always be treated as labels (consistent with DataFrame behavior). To access a value by position, use `ser.iloc[pos]`\n",
      "  return (best_slope, -best_slope * pivot + y[pivot])\n"
     ]
    },
    {
     "name": "stdout",
     "output_type": "stream",
     "text": [
      "Profit Factor 140 0.9793950159190689\n"
     ]
    },
    {
     "name": "stderr",
     "output_type": "stream",
     "text": [
      "/Users/yoyo/personal/fxml/fxml/trading/strategies/trendline_breakout/trendline_automation.py:11: FutureWarning: Series.__getitem__ treating keys as positions is deprecated. In a future version, integer keys will always be treated as labels (consistent with DataFrame behavior). To access a value by position, use `ser.iloc[pos]`\n",
      "  intercept = -slope * pivot + y[pivot]\n",
      "/Users/yoyo/personal/fxml/fxml/trading/strategies/trendline_breakout/trendline_automation.py:81: FutureWarning: Series.__getitem__ treating keys as positions is deprecated. In a future version, integer keys will always be treated as labels (consistent with DataFrame behavior). To access a value by position, use `ser.iloc[pos]`\n",
      "  return (best_slope, -best_slope * pivot + y[pivot])\n"
     ]
    },
    {
     "name": "stdout",
     "output_type": "stream",
     "text": [
      "Profit Factor 142 0.9813906712767991\n"
     ]
    },
    {
     "name": "stderr",
     "output_type": "stream",
     "text": [
      "/Users/yoyo/personal/fxml/fxml/trading/strategies/trendline_breakout/trendline_automation.py:11: FutureWarning: Series.__getitem__ treating keys as positions is deprecated. In a future version, integer keys will always be treated as labels (consistent with DataFrame behavior). To access a value by position, use `ser.iloc[pos]`\n",
      "  intercept = -slope * pivot + y[pivot]\n",
      "/Users/yoyo/personal/fxml/fxml/trading/strategies/trendline_breakout/trendline_automation.py:81: FutureWarning: Series.__getitem__ treating keys as positions is deprecated. In a future version, integer keys will always be treated as labels (consistent with DataFrame behavior). To access a value by position, use `ser.iloc[pos]`\n",
      "  return (best_slope, -best_slope * pivot + y[pivot])\n"
     ]
    },
    {
     "name": "stdout",
     "output_type": "stream",
     "text": [
      "Profit Factor 144 0.9815733353528431\n"
     ]
    },
    {
     "name": "stderr",
     "output_type": "stream",
     "text": [
      "/Users/yoyo/personal/fxml/fxml/trading/strategies/trendline_breakout/trendline_automation.py:11: FutureWarning: Series.__getitem__ treating keys as positions is deprecated. In a future version, integer keys will always be treated as labels (consistent with DataFrame behavior). To access a value by position, use `ser.iloc[pos]`\n",
      "  intercept = -slope * pivot + y[pivot]\n",
      "/Users/yoyo/personal/fxml/fxml/trading/strategies/trendline_breakout/trendline_automation.py:81: FutureWarning: Series.__getitem__ treating keys as positions is deprecated. In a future version, integer keys will always be treated as labels (consistent with DataFrame behavior). To access a value by position, use `ser.iloc[pos]`\n",
      "  return (best_slope, -best_slope * pivot + y[pivot])\n"
     ]
    },
    {
     "name": "stdout",
     "output_type": "stream",
     "text": [
      "Profit Factor 146 0.9858518673875365\n"
     ]
    },
    {
     "name": "stderr",
     "output_type": "stream",
     "text": [
      "/Users/yoyo/personal/fxml/fxml/trading/strategies/trendline_breakout/trendline_automation.py:11: FutureWarning: Series.__getitem__ treating keys as positions is deprecated. In a future version, integer keys will always be treated as labels (consistent with DataFrame behavior). To access a value by position, use `ser.iloc[pos]`\n",
      "  intercept = -slope * pivot + y[pivot]\n",
      "/Users/yoyo/personal/fxml/fxml/trading/strategies/trendline_breakout/trendline_automation.py:81: FutureWarning: Series.__getitem__ treating keys as positions is deprecated. In a future version, integer keys will always be treated as labels (consistent with DataFrame behavior). To access a value by position, use `ser.iloc[pos]`\n",
      "  return (best_slope, -best_slope * pivot + y[pivot])\n"
     ]
    },
    {
     "name": "stdout",
     "output_type": "stream",
     "text": [
      "Profit Factor 148 0.9841224665675943\n"
     ]
    },
    {
     "name": "stderr",
     "output_type": "stream",
     "text": [
      "/Users/yoyo/personal/fxml/fxml/trading/strategies/trendline_breakout/trendline_automation.py:11: FutureWarning: Series.__getitem__ treating keys as positions is deprecated. In a future version, integer keys will always be treated as labels (consistent with DataFrame behavior). To access a value by position, use `ser.iloc[pos]`\n",
      "  intercept = -slope * pivot + y[pivot]\n",
      "/Users/yoyo/personal/fxml/fxml/trading/strategies/trendline_breakout/trendline_automation.py:81: FutureWarning: Series.__getitem__ treating keys as positions is deprecated. In a future version, integer keys will always be treated as labels (consistent with DataFrame behavior). To access a value by position, use `ser.iloc[pos]`\n",
      "  return (best_slope, -best_slope * pivot + y[pivot])\n"
     ]
    },
    {
     "name": "stdout",
     "output_type": "stream",
     "text": [
      "Profit Factor 150 0.982858009319583\n"
     ]
    },
    {
     "name": "stderr",
     "output_type": "stream",
     "text": [
      "/Users/yoyo/personal/fxml/fxml/trading/strategies/trendline_breakout/trendline_automation.py:11: FutureWarning: Series.__getitem__ treating keys as positions is deprecated. In a future version, integer keys will always be treated as labels (consistent with DataFrame behavior). To access a value by position, use `ser.iloc[pos]`\n",
      "  intercept = -slope * pivot + y[pivot]\n",
      "/Users/yoyo/personal/fxml/fxml/trading/strategies/trendline_breakout/trendline_automation.py:81: FutureWarning: Series.__getitem__ treating keys as positions is deprecated. In a future version, integer keys will always be treated as labels (consistent with DataFrame behavior). To access a value by position, use `ser.iloc[pos]`\n",
      "  return (best_slope, -best_slope * pivot + y[pivot])\n"
     ]
    },
    {
     "name": "stdout",
     "output_type": "stream",
     "text": [
      "Profit Factor 152 0.9847625116650184\n"
     ]
    },
    {
     "name": "stderr",
     "output_type": "stream",
     "text": [
      "/Users/yoyo/personal/fxml/fxml/trading/strategies/trendline_breakout/trendline_automation.py:11: FutureWarning: Series.__getitem__ treating keys as positions is deprecated. In a future version, integer keys will always be treated as labels (consistent with DataFrame behavior). To access a value by position, use `ser.iloc[pos]`\n",
      "  intercept = -slope * pivot + y[pivot]\n",
      "/Users/yoyo/personal/fxml/fxml/trading/strategies/trendline_breakout/trendline_automation.py:81: FutureWarning: Series.__getitem__ treating keys as positions is deprecated. In a future version, integer keys will always be treated as labels (consistent with DataFrame behavior). To access a value by position, use `ser.iloc[pos]`\n",
      "  return (best_slope, -best_slope * pivot + y[pivot])\n"
     ]
    },
    {
     "name": "stdout",
     "output_type": "stream",
     "text": [
      "Profit Factor 154 0.9833422135584777\n"
     ]
    },
    {
     "name": "stderr",
     "output_type": "stream",
     "text": [
      "/Users/yoyo/personal/fxml/fxml/trading/strategies/trendline_breakout/trendline_automation.py:11: FutureWarning: Series.__getitem__ treating keys as positions is deprecated. In a future version, integer keys will always be treated as labels (consistent with DataFrame behavior). To access a value by position, use `ser.iloc[pos]`\n",
      "  intercept = -slope * pivot + y[pivot]\n",
      "/Users/yoyo/personal/fxml/fxml/trading/strategies/trendline_breakout/trendline_automation.py:81: FutureWarning: Series.__getitem__ treating keys as positions is deprecated. In a future version, integer keys will always be treated as labels (consistent with DataFrame behavior). To access a value by position, use `ser.iloc[pos]`\n",
      "  return (best_slope, -best_slope * pivot + y[pivot])\n"
     ]
    },
    {
     "name": "stdout",
     "output_type": "stream",
     "text": [
      "Profit Factor 156 0.9850248476731771\n"
     ]
    },
    {
     "name": "stderr",
     "output_type": "stream",
     "text": [
      "/Users/yoyo/personal/fxml/fxml/trading/strategies/trendline_breakout/trendline_automation.py:11: FutureWarning: Series.__getitem__ treating keys as positions is deprecated. In a future version, integer keys will always be treated as labels (consistent with DataFrame behavior). To access a value by position, use `ser.iloc[pos]`\n",
      "  intercept = -slope * pivot + y[pivot]\n",
      "/Users/yoyo/personal/fxml/fxml/trading/strategies/trendline_breakout/trendline_automation.py:81: FutureWarning: Series.__getitem__ treating keys as positions is deprecated. In a future version, integer keys will always be treated as labels (consistent with DataFrame behavior). To access a value by position, use `ser.iloc[pos]`\n",
      "  return (best_slope, -best_slope * pivot + y[pivot])\n"
     ]
    },
    {
     "name": "stdout",
     "output_type": "stream",
     "text": [
      "Profit Factor 158 0.9845865591716965\n"
     ]
    },
    {
     "name": "stderr",
     "output_type": "stream",
     "text": [
      "/Users/yoyo/personal/fxml/fxml/trading/strategies/trendline_breakout/trendline_automation.py:11: FutureWarning: Series.__getitem__ treating keys as positions is deprecated. In a future version, integer keys will always be treated as labels (consistent with DataFrame behavior). To access a value by position, use `ser.iloc[pos]`\n",
      "  intercept = -slope * pivot + y[pivot]\n",
      "/Users/yoyo/personal/fxml/fxml/trading/strategies/trendline_breakout/trendline_automation.py:81: FutureWarning: Series.__getitem__ treating keys as positions is deprecated. In a future version, integer keys will always be treated as labels (consistent with DataFrame behavior). To access a value by position, use `ser.iloc[pos]`\n",
      "  return (best_slope, -best_slope * pivot + y[pivot])\n"
     ]
    },
    {
     "name": "stdout",
     "output_type": "stream",
     "text": [
      "Profit Factor 160 0.9893522220766876\n"
     ]
    },
    {
     "name": "stderr",
     "output_type": "stream",
     "text": [
      "/Users/yoyo/personal/fxml/fxml/trading/strategies/trendline_breakout/trendline_automation.py:11: FutureWarning: Series.__getitem__ treating keys as positions is deprecated. In a future version, integer keys will always be treated as labels (consistent with DataFrame behavior). To access a value by position, use `ser.iloc[pos]`\n",
      "  intercept = -slope * pivot + y[pivot]\n",
      "/Users/yoyo/personal/fxml/fxml/trading/strategies/trendline_breakout/trendline_automation.py:81: FutureWarning: Series.__getitem__ treating keys as positions is deprecated. In a future version, integer keys will always be treated as labels (consistent with DataFrame behavior). To access a value by position, use `ser.iloc[pos]`\n",
      "  return (best_slope, -best_slope * pivot + y[pivot])\n"
     ]
    },
    {
     "name": "stdout",
     "output_type": "stream",
     "text": [
      "Profit Factor 162 0.988097607983509\n"
     ]
    },
    {
     "name": "stderr",
     "output_type": "stream",
     "text": [
      "/Users/yoyo/personal/fxml/fxml/trading/strategies/trendline_breakout/trendline_automation.py:11: FutureWarning: Series.__getitem__ treating keys as positions is deprecated. In a future version, integer keys will always be treated as labels (consistent with DataFrame behavior). To access a value by position, use `ser.iloc[pos]`\n",
      "  intercept = -slope * pivot + y[pivot]\n",
      "/Users/yoyo/personal/fxml/fxml/trading/strategies/trendline_breakout/trendline_automation.py:81: FutureWarning: Series.__getitem__ treating keys as positions is deprecated. In a future version, integer keys will always be treated as labels (consistent with DataFrame behavior). To access a value by position, use `ser.iloc[pos]`\n",
      "  return (best_slope, -best_slope * pivot + y[pivot])\n"
     ]
    },
    {
     "name": "stdout",
     "output_type": "stream",
     "text": [
      "Profit Factor 164 0.9878845566744602\n"
     ]
    },
    {
     "name": "stderr",
     "output_type": "stream",
     "text": [
      "/Users/yoyo/personal/fxml/fxml/trading/strategies/trendline_breakout/trendline_automation.py:11: FutureWarning: Series.__getitem__ treating keys as positions is deprecated. In a future version, integer keys will always be treated as labels (consistent with DataFrame behavior). To access a value by position, use `ser.iloc[pos]`\n",
      "  intercept = -slope * pivot + y[pivot]\n",
      "/Users/yoyo/personal/fxml/fxml/trading/strategies/trendline_breakout/trendline_automation.py:81: FutureWarning: Series.__getitem__ treating keys as positions is deprecated. In a future version, integer keys will always be treated as labels (consistent with DataFrame behavior). To access a value by position, use `ser.iloc[pos]`\n",
      "  return (best_slope, -best_slope * pivot + y[pivot])\n"
     ]
    },
    {
     "name": "stdout",
     "output_type": "stream",
     "text": [
      "Profit Factor 166 0.9916828249742285\n"
     ]
    },
    {
     "name": "stderr",
     "output_type": "stream",
     "text": [
      "/Users/yoyo/personal/fxml/fxml/trading/strategies/trendline_breakout/trendline_automation.py:11: FutureWarning: Series.__getitem__ treating keys as positions is deprecated. In a future version, integer keys will always be treated as labels (consistent with DataFrame behavior). To access a value by position, use `ser.iloc[pos]`\n",
      "  intercept = -slope * pivot + y[pivot]\n",
      "/Users/yoyo/personal/fxml/fxml/trading/strategies/trendline_breakout/trendline_automation.py:81: FutureWarning: Series.__getitem__ treating keys as positions is deprecated. In a future version, integer keys will always be treated as labels (consistent with DataFrame behavior). To access a value by position, use `ser.iloc[pos]`\n",
      "  return (best_slope, -best_slope * pivot + y[pivot])\n"
     ]
    },
    {
     "name": "stdout",
     "output_type": "stream",
     "text": [
      "Profit Factor 168 0.9971803031320533\n",
      "CPU times: user 1h 5min 15s, sys: 4min 29s, total: 1h 9min 45s\n",
      "Wall time: 1h 5min 53s\n"
     ]
    },
    {
     "data": {
      "text/plain": [
       "<matplotlib.lines.Line2D at 0x1189d4d10>"
      ]
     },
     "execution_count": 13,
     "metadata": {},
     "output_type": "execute_result"
    },
    {
     "data": {
      "image/png": "[encoded data removed]",
      "text/plain": [
       "<Figure size 640x480 with 1 Axes>"
      ]
     },
     "metadata": {},
     "output_type": "display_data"
    }
   ],
   "source": [
    "## Parameter Sweep\n",
    "\n",
    "lookbacks = list(range(24, 169, 2))\n",
    "pfs = []\n",
    "\n",
    "lookback_returns = pd.DataFrame()\n",
    "for lookback in lookbacks:\n",
    "    support, resist, signal = trendline_breakout(data[\"high\"], data[\"low\"], data[\"close\"].to_numpy(), lookback)\n",
    "    data[\"signal\"] = signal\n",
    "\n",
    "    data[\"r\"] = np.log(data[\"close\"]).diff().shift(-1)\n",
    "    strat_r = data[\"signal\"] * data[\"r\"]\n",
    "\n",
    "    pf = strat_r[strat_r > 0].sum() / strat_r[strat_r < 0].abs().sum()\n",
    "    print(\"Profit Factor\", lookback, pf)\n",
    "    pfs.append(pf)\n",
    "\n",
    "    lookback_returns[lookback] = strat_r\n",
    "\n",
    "plt.style.use(\"dark_background\")\n",
    "x = pd.Series(pfs, index=lookbacks)\n",
    "x.plot()\n",
    "plt.ylabel(\"Profit Factor\")\n",
    "plt.xlabel(\"Trendline Lookback\")\n",
    "plt.axhline(1.0, color=\"white\")"
   ]
  },
  {
   "cell_type": "code",
   "execution_count": null,
   "id": "54faa538-7e1e-4685-88e6-678ff3c385c7",
   "metadata": {},
   "outputs": [],
   "source": [
    "lookback = 74"
   ]
  },
  {
   "cell_type": "code",
   "execution_count": 11,
   "id": "d8b2a323-c972-4e3a-aaf3-042f028c62fd",
   "metadata": {},
   "outputs": [],
   "source": [
    "support, resist, signal = trendline_breakout(data[\"close\"].to_numpy(), lookback)\n",
    "data[\"support\"] = support\n",
    "data[\"resist\"] = resist\n",
    "data[\"signal\"] = signal"
   ]
  },
  {
   "cell_type": "code",
   "execution_count": 13,
   "id": "d8f2071f-1494-441c-88ce-6d6428dd88ba",
   "metadata": {},
   "outputs": [
    {
     "name": "stdout",
     "output_type": "stream",
     "text": [
      "Profit Factor 74 1.0321017810757913\n"
     ]
    },
    {
     "data": {
      "image/png": "[encoded data removed]",
      "text/plain": [
       "<Figure size 640x480 with 1 Axes>"
      ]
     },
     "metadata": {},
     "output_type": "display_data"
    }
   ],
   "source": [
    "data[\"r\"] = np.log(data[\"close\"]).diff().shift(-1)\n",
    "strat_r = data[\"signal\"] * data[\"r\"]\n",
    "\n",
    "pf = strat_r[strat_r > 0].sum() / strat_r[strat_r < 0].abs().sum()\n",
    "print(\"Profit Factor\", lookback, pf)\n",
    "\n",
    "strat_r.cumsum().plot()\n",
    "plt.ylabel(\"Cumulative Log Return\")\n",
    "plt.show()"
   ]
  },
  {
   "cell_type": "code",
   "execution_count": 16,
   "id": "6856b84b-b200-425a-ab4f-4e111ff6efa3",
   "metadata": {},
   "outputs": [
    {
     "data": {
      "text/plain": [
       "DatetimeIndex(['2024-01-01 22:00:00', '2024-01-05 00:00:00',\n",
       "               '2024-01-09 09:00:00', '2024-01-10 15:00:00',\n",
       "               '2024-01-12 11:00:00', '2024-01-17 17:00:00',\n",
       "               '2024-01-22 14:00:00', '2024-01-23 06:00:00',\n",
       "               '2024-01-23 10:00:00', '2024-01-24 13:00:00',\n",
       "               ...\n",
       "               '2024-11-24 22:00:00', '2024-11-29 09:00:00',\n",
       "               '2024-12-03 13:00:00', '2024-12-06 14:00:00',\n",
       "               '2024-12-11 13:00:00', '2024-12-17 08:00:00',\n",
       "               '2024-12-20 08:00:00', '2024-12-24 02:00:00',\n",
       "               '2024-12-26 03:00:00', '2024-12-30 05:00:00'],\n",
       "              dtype='datetime64[s]', name='timestamp', length=147, freq=None)"
      ]
     },
     "execution_count": 16,
     "metadata": {},
     "output_type": "execute_result"
    }
   ],
   "source": [
    "data[data[\"signal\"] != data[\"signal\"].shift()].index"
   ]
  }
 ],
 "metadata": {
  "kernelspec": {
   "display_name": "Python 3 (ipykernel)",
   "language": "python",
   "name": "python3"
  },
  "language_info": {
   "codemirror_mode": {
    "name": "ipython",
    "version": 3
   },
   "file_extension": ".py",
   "mimetype": "text/x-python",
   "name": "python",
   "nbconvert_exporter": "python",
   "pygments_lexer": "ipython3",
   "version": "3.12.11"
  }
 },
 "nbformat": 4,
 "nbformat_minor": 5
}
