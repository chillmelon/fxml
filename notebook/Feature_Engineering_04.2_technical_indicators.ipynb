{
 "cells": [
  {
   "cell_type": "code",
   "execution_count": 1,
   "id": "c95108f9-e2e1-4313-aff0-74d765c01c4b",
   "metadata": {},
   "outputs": [],
   "source": [
    "import pandas as pd\n",
    "import matplotlib.pyplot as plt\n",
    "from matplotlib.ticker import FormatStrFormatter\n",
    "\n",
    "import os"
   ]
  },
  {
   "cell_type": "code",
   "execution_count": 2,
   "id": "34e4b11f-537a-4f0e-a457-32559834c007",
   "metadata": {},
   "outputs": [],
   "source": [
    "from pathlib import Path\n",
    "\n",
    "# Configurable parts\n",
    "SOURCE = \"dukascopy\"\n",
    "SYMBOL = \"USDJPY\"\n",
    "MINUTES = 1\n",
    "EVENT = '58m-dollar'\n",
    "START_DATE = \"20210101\"\n",
    "END_DATE = \"20241231\"\n",
    "\n",
    "# Build base name\n",
    "RESAMPLED_NAME = f\"{SYMBOL}-{MINUTES}m-{START_DATE}-{END_DATE}\"\n",
    "# RESAMPLED_NAME = f\"{SOURCE}-{SYMBOL}-{EVENT}-{START_DATE}-{END_DATE}\"\n",
    "\n",
    "# Base directories\n",
    "BASE_DIR = Path(\"../data\")\n",
    "RESAMPLED_DIR = BASE_DIR / \"resampled\"\n",
    "PROCESSED_DIR = BASE_DIR / \"processed\"\n",
    "\n",
    "# Final paths\n",
    "RESAMPLED_FILE_PATH = RESAMPLED_DIR / f\"{RESAMPLED_NAME}.pkl\"\n",
    "PROCESSED_FILE_PATH = PROCESSED_DIR / f\"{RESAMPLED_NAME}_processed.pkl\""
   ]
  },
  {
   "cell_type": "code",
   "execution_count": 3,
   "id": "01d9111d-0636-4b9a-8944-07840ef6fc46",
   "metadata": {},
   "outputs": [
    {
     "data": {
      "text/html": [
       "<div>\n",
       "<style scoped>\n",
       "    .dataframe tbody tr th:only-of-type {\n",
       "        vertical-align: middle;\n",
       "    }\n",
       "\n",
       "    .dataframe tbody tr th {\n",
       "        vertical-align: top;\n",
       "    }\n",
       "\n",
       "    .dataframe thead th {\n",
       "        text-align: right;\n",
       "    }\n",
       "</style>\n",
       "<table border=\"1\" class=\"dataframe\">\n",
       "  <thead>\n",
       "    <tr style=\"text-align: right;\">\n",
       "      <th></th>\n",
       "      <th>open</th>\n",
       "      <th>high</th>\n",
       "      <th>low</th>\n",
       "      <th>close</th>\n",
       "      <th>volume</th>\n",
       "      <th>spread</th>\n",
       "      <th>log_volume</th>\n",
       "      <th>close_delta</th>\n",
       "      <th>close_return</th>\n",
       "      <th>close_log_return</th>\n",
       "      <th>ret_mean_5</th>\n",
       "      <th>ret_mean_10</th>\n",
       "    </tr>\n",
       "    <tr>\n",
       "      <th>timestamp</th>\n",
       "      <th></th>\n",
       "      <th></th>\n",
       "      <th></th>\n",
       "      <th></th>\n",
       "      <th></th>\n",
       "      <th></th>\n",
       "      <th></th>\n",
       "      <th></th>\n",
       "      <th></th>\n",
       "      <th></th>\n",
       "      <th></th>\n",
       "      <th></th>\n",
       "    </tr>\n",
       "  </thead>\n",
       "  <tbody>\n",
       "    <tr>\n",
       "      <th>2021-01-03 22:10:00</th>\n",
       "      <td>103.2270</td>\n",
       "      <td>103.2355</td>\n",
       "      <td>103.2270</td>\n",
       "      <td>103.2270</td>\n",
       "      <td>6.870000e+09</td>\n",
       "      <td>0.023000</td>\n",
       "      <td>22.650430</td>\n",
       "      <td>0.0045</td>\n",
       "      <td>0.000044</td>\n",
       "      <td>0.000044</td>\n",
       "      <td>3.197094e-05</td>\n",
       "      <td>0.000053</td>\n",
       "    </tr>\n",
       "    <tr>\n",
       "      <th>2021-01-03 22:11:00</th>\n",
       "      <td>103.2270</td>\n",
       "      <td>103.2280</td>\n",
       "      <td>103.2270</td>\n",
       "      <td>103.2280</td>\n",
       "      <td>7.900000e+09</td>\n",
       "      <td>0.028667</td>\n",
       "      <td>22.790129</td>\n",
       "      <td>0.0010</td>\n",
       "      <td>0.000010</td>\n",
       "      <td>0.000010</td>\n",
       "      <td>3.874955e-06</td>\n",
       "      <td>0.000052</td>\n",
       "    </tr>\n",
       "    <tr>\n",
       "      <th>2021-01-03 22:12:00</th>\n",
       "      <td>103.2280</td>\n",
       "      <td>103.2280</td>\n",
       "      <td>103.2255</td>\n",
       "      <td>103.2255</td>\n",
       "      <td>8.750000e+09</td>\n",
       "      <td>0.027250</td>\n",
       "      <td>22.892320</td>\n",
       "      <td>-0.0025</td>\n",
       "      <td>-0.000024</td>\n",
       "      <td>-0.000024</td>\n",
       "      <td>5.812602e-06</td>\n",
       "      <td>-0.000007</td>\n",
       "    </tr>\n",
       "    <tr>\n",
       "      <th>2021-01-03 22:13:00</th>\n",
       "      <td>103.2275</td>\n",
       "      <td>103.2275</td>\n",
       "      <td>103.2275</td>\n",
       "      <td>103.2275</td>\n",
       "      <td>2.000000e+09</td>\n",
       "      <td>0.029000</td>\n",
       "      <td>21.416413</td>\n",
       "      <td>0.0020</td>\n",
       "      <td>0.000019</td>\n",
       "      <td>0.000019</td>\n",
       "      <td>-9.687318e-07</td>\n",
       "      <td>0.000031</td>\n",
       "    </tr>\n",
       "    <tr>\n",
       "      <th>2021-01-03 22:14:00</th>\n",
       "      <td>103.2280</td>\n",
       "      <td>103.2280</td>\n",
       "      <td>103.2280</td>\n",
       "      <td>103.2280</td>\n",
       "      <td>2.000000e+09</td>\n",
       "      <td>0.030000</td>\n",
       "      <td>21.416413</td>\n",
       "      <td>0.0005</td>\n",
       "      <td>0.000005</td>\n",
       "      <td>0.000005</td>\n",
       "      <td>1.065631e-05</td>\n",
       "      <td>0.000020</td>\n",
       "    </tr>\n",
       "  </tbody>\n",
       "</table>\n",
       "</div>"
      ],
      "text/plain": [
       "                         open      high       low     close        volume  \\\n",
       "timestamp                                                                   \n",
       "2021-01-03 22:10:00  103.2270  103.2355  103.2270  103.2270  6.870000e+09   \n",
       "2021-01-03 22:11:00  103.2270  103.2280  103.2270  103.2280  7.900000e+09   \n",
       "2021-01-03 22:12:00  103.2280  103.2280  103.2255  103.2255  8.750000e+09   \n",
       "2021-01-03 22:13:00  103.2275  103.2275  103.2275  103.2275  2.000000e+09   \n",
       "2021-01-03 22:14:00  103.2280  103.2280  103.2280  103.2280  2.000000e+09   \n",
       "\n",
       "                       spread  log_volume  close_delta  close_return  \\\n",
       "timestamp                                                              \n",
       "2021-01-03 22:10:00  0.023000   22.650430       0.0045      0.000044   \n",
       "2021-01-03 22:11:00  0.028667   22.790129       0.0010      0.000010   \n",
       "2021-01-03 22:12:00  0.027250   22.892320      -0.0025     -0.000024   \n",
       "2021-01-03 22:13:00  0.029000   21.416413       0.0020      0.000019   \n",
       "2021-01-03 22:14:00  0.030000   21.416413       0.0005      0.000005   \n",
       "\n",
       "                     close_log_return    ret_mean_5  ret_mean_10  \n",
       "timestamp                                                         \n",
       "2021-01-03 22:10:00          0.000044  3.197094e-05     0.000053  \n",
       "2021-01-03 22:11:00          0.000010  3.874955e-06     0.000052  \n",
       "2021-01-03 22:12:00         -0.000024  5.812602e-06    -0.000007  \n",
       "2021-01-03 22:13:00          0.000019 -9.687318e-07     0.000031  \n",
       "2021-01-03 22:14:00          0.000005  1.065631e-05     0.000020  "
      ]
     },
     "execution_count": 3,
     "metadata": {},
     "output_type": "execute_result"
    }
   ],
   "source": [
    "df = pd.read_pickle(PROCESSED_FILE_PATH)\n",
    "df.head()"
   ]
  },
  {
   "cell_type": "markdown",
   "id": "6c23044d-e909-42fb-9f07-92f8f0a4562a",
   "metadata": {},
   "source": [
    "### Reset Timestamp into Column"
   ]
  },
  {
   "cell_type": "code",
   "execution_count": 4,
   "id": "2109c0d6-1233-441f-b4bf-d05d043380f3",
   "metadata": {},
   "outputs": [],
   "source": [
    "df = df.reset_index()"
   ]
  },
  {
   "cell_type": "markdown",
   "id": "425a812f-4ece-4adf-9622-4ae75ec014a2",
   "metadata": {},
   "source": [
    "# Techinical Indicator"
   ]
  },
  {
   "cell_type": "code",
   "execution_count": 5,
   "id": "23bb1a58-441c-48d7-8a78-98e9806ffeec",
   "metadata": {},
   "outputs": [],
   "source": [
    "import numpy as np\n",
    "from ta.volatility import AverageTrueRange, BollingerBands, DonchianChannel\n",
    "from ta.momentum import StochasticOscillator, RSIIndicator\n",
    "from ta.trend import MACD, EMAIndicator, SMAIndicator"
   ]
  },
  {
   "cell_type": "markdown",
   "id": "b413fef6-46c2-40ef-a745-2de82f769663",
   "metadata": {},
   "source": [
    "### EMA & SMA"
   ]
  },
  {
   "cell_type": "code",
   "execution_count": 6,
   "id": "fa960fce-e27a-4d7e-8cf1-a9d18048a7d9",
   "metadata": {},
   "outputs": [],
   "source": [
    "# 5-period EMA\n",
    "ema5 = EMAIndicator(close=df['close'], window=5)\n",
    "df['ema5'] = ema5.ema_indicator()\n",
    "ema5_slope = df['ema5'].diff()\n",
    "df['ema5_slope'] = ema5_slope\n",
    "# 20-period EMA\n",
    "ema20 = EMAIndicator(close=df['close'], window=20)\n",
    "df['ema20'] = ema20.ema_indicator()\n",
    "ema20_slope = df['ema20'].diff()\n",
    "df['ema20_slope'] = ema20_slope"
   ]
  },
  {
   "cell_type": "markdown",
   "id": "7eef76c3-5400-4ee3-8012-6582400393b1",
   "metadata": {},
   "source": [
    "### ATR"
   ]
  },
  {
   "cell_type": "code",
   "execution_count": 7,
   "id": "030dbf92-639e-4e6a-b83c-b35b4edd5af7",
   "metadata": {},
   "outputs": [],
   "source": [
    "atr14 = AverageTrueRange(\n",
    "    high=df['high'],\n",
    "    low=df['low'],\n",
    "    close=df['close'],\n",
    "    window=14\n",
    ")\n",
    "df['atr14'] = atr14.average_true_range()\n",
    "\n",
    "atr20 = AverageTrueRange(\n",
    "    high=df['high'],\n",
    "    low=df['low'],\n",
    "    close=df['close'],\n",
    "    window=20\n",
    ")\n",
    "df['atr20'] = atr20.average_true_range()\n",
    "df['vol_adj_return'] = df['close_log_return'] / df['atr20']\n",
    "df['close_to_atr'] = df['close_delta'] / df['atr20']"
   ]
  },
  {
   "cell_type": "markdown",
   "id": "bb574788-5b18-41f3-b7bc-f66f5282671b",
   "metadata": {},
   "source": [
    "### BollingerBands"
   ]
  },
  {
   "cell_type": "code",
   "execution_count": 8,
   "id": "1b203661-2ed9-4cf1-a402-07be1b5f9c93",
   "metadata": {},
   "outputs": [],
   "source": [
    "bb = BollingerBands(\n",
    "    close=df['close'],\n",
    "    window=20,\n",
    "    window_dev=2\n",
    ")\n",
    "df['bb_upper'] = bb.bollinger_hband()\n",
    "df['bb_lower'] = bb.bollinger_lband()\n",
    "df['bb_mavg'] = bb.bollinger_mavg()\n",
    "df['bb_width'] = df['bb_upper'] - df['bb_lower']\n",
    "df['bb_position'] = (df['close'] - df['bb_lower']) / df['bb_width']"
   ]
  },
  {
   "cell_type": "markdown",
   "id": "160ad120-6704-4d97-9875-cc4ae5e93d70",
   "metadata": {},
   "source": [
    "### Donchian Channel"
   ]
  },
  {
   "cell_type": "code",
   "execution_count": 9,
   "id": "341698d4-417c-4a24-bec1-aac4672a1689",
   "metadata": {},
   "outputs": [],
   "source": [
    "dc = DonchianChannel(\n",
    "    high=df['high'],\n",
    "    low=df['low'],\n",
    "    close=df['close'],\n",
    "    window=20\n",
    ")\n",
    "df['donchian_upper'] = dc.donchian_channel_hband()\n",
    "df['donchian_lower'] = dc.donchian_channel_lband()\n",
    "df['donchian_mid'] = dc.donchian_channel_mband()\n",
    "df['donchian_width'] = df['donchian_upper'] - df['donchian_lower']"
   ]
  },
  {
   "cell_type": "markdown",
   "id": "c3265f69-c74a-4b59-9fba-8806cf38d4ce",
   "metadata": {},
   "source": [
    "### Stochastic Oscillator"
   ]
  },
  {
   "cell_type": "code",
   "execution_count": 10,
   "id": "1764e1d2-ce98-41bc-8721-cb7f994f1510",
   "metadata": {},
   "outputs": [],
   "source": [
    "stoch = StochasticOscillator(\n",
    "    high=df['high'],\n",
    "    low=df['low'],\n",
    "    close=df['close'],\n",
    "    window=14,\n",
    "    smooth_window=3\n",
    ")\n",
    "df['stoch_k'] = stoch.stoch()\n",
    "df['stoch_d'] = stoch.stoch_signal()"
   ]
  },
  {
   "cell_type": "markdown",
   "id": "8b0aa4fc-0b06-4245-bfef-c3fd71d9fbc2",
   "metadata": {},
   "source": [
    "### RSI (Relative Strength Index)"
   ]
  },
  {
   "cell_type": "code",
   "execution_count": 11,
   "id": "8e3595db-9721-4b5b-802c-78c331f5906a",
   "metadata": {},
   "outputs": [],
   "source": [
    "rsi = RSIIndicator(close=df['close'], window=14)\n",
    "df['rsi14'] = rsi.rsi()\n"
   ]
  },
  {
   "cell_type": "markdown",
   "id": "71be1a51-0d7a-42c5-8eb4-507d4ac9f0a6",
   "metadata": {},
   "source": [
    "### MACD"
   ]
  },
  {
   "cell_type": "code",
   "execution_count": 12,
   "id": "e8a05523-d757-470b-8fda-a280e9f986ca",
   "metadata": {},
   "outputs": [],
   "source": [
    "macd = MACD(close=df['close'], window_slow=26, window_fast=12, window_sign=9)\n",
    "df['macd'] = macd.macd()\n",
    "df['macd_signal'] = macd.macd_signal()\n",
    "df['macd_diff'] = macd.macd_diff()"
   ]
  },
  {
   "cell_type": "markdown",
   "id": "33c34b41-4699-4f12-bd99-8595950d57f6",
   "metadata": {},
   "source": [
    "# Time Features"
   ]
  },
  {
   "cell_type": "code",
   "execution_count": 13,
   "id": "d97cc162-93df-4ab9-869a-32c2be357139",
   "metadata": {},
   "outputs": [],
   "source": [
    "df['unix_time'] = df['timestamp'].astype('int64') / 1e9"
   ]
  },
  {
   "cell_type": "code",
   "execution_count": 14,
   "id": "d478d07b-5103-4a94-a427-53058a7ca207",
   "metadata": {},
   "outputs": [],
   "source": [
    "df['hour'] = df['timestamp'].dt.hour\n",
    "df['hour_sin'] = np.sin(2 * np.pi * df['hour'] / 24)\n",
    "df['hour_cos'] = np.cos(2 * np.pi * df['hour'] / 24)"
   ]
  },
  {
   "cell_type": "code",
   "execution_count": 15,
   "id": "02517286-0492-4fb6-9bcc-6b3f216fcd12",
   "metadata": {},
   "outputs": [],
   "source": [
    "df['dow'] = df['timestamp'].dt.dayofweek  # Monday=0\n",
    "df['dow_sin'] = np.sin(2 * np.pi * df['dow'] / 7)\n",
    "df['dow_cos'] = np.cos(2 * np.pi * df['dow'] / 7)"
   ]
  },
  {
   "cell_type": "code",
   "execution_count": 16,
   "id": "a4cdd64c-f862-48f8-8e12-90269d180573",
   "metadata": {},
   "outputs": [],
   "source": [
    "df['dom'] = df['timestamp'].dt.day\n",
    "df['dom_sin'] = np.sin(2 * np.pi * df['dom'] / 31)\n",
    "df['dom_cos'] = np.cos(2 * np.pi * df['dom'] / 31)"
   ]
  },
  {
   "cell_type": "code",
   "execution_count": 17,
   "id": "c40b25bb-9ae4-4b30-b183-3258d6866e5a",
   "metadata": {},
   "outputs": [],
   "source": [
    "df['month'] = df['timestamp'].dt.month\n",
    "df['month_sin'] = np.sin(2 * np.pi * df['month'] / 12)\n",
    "df['month_cos'] = np.cos(2 * np.pi * df['month'] / 12)"
   ]
  },
  {
   "cell_type": "markdown",
   "id": "b2909266-b99a-4def-a483-83af71c0c47c",
   "metadata": {},
   "source": [
    "## Drop NaN"
   ]
  },
  {
   "cell_type": "code",
   "execution_count": 18,
   "id": "b089ffd6-f30c-4931-a0ef-0e3a2a64691a",
   "metadata": {},
   "outputs": [
    {
     "data": {
      "text/plain": [
       "timestamp            0\n",
       "open                 0\n",
       "high                 0\n",
       "low                  0\n",
       "close                0\n",
       "volume               0\n",
       "spread               0\n",
       "log_volume           0\n",
       "close_delta          0\n",
       "close_return         0\n",
       "close_log_return     0\n",
       "ret_mean_5           0\n",
       "ret_mean_10          0\n",
       "ema5                 4\n",
       "ema5_slope           5\n",
       "ema20               19\n",
       "ema20_slope         20\n",
       "atr14                0\n",
       "atr20                0\n",
       "vol_adj_return       2\n",
       "close_to_atr         2\n",
       "bb_upper            19\n",
       "bb_lower            19\n",
       "bb_mavg             19\n",
       "bb_width            19\n",
       "bb_position         19\n",
       "donchian_upper      19\n",
       "donchian_lower      19\n",
       "donchian_mid        19\n",
       "donchian_width      19\n",
       "stoch_k             13\n",
       "stoch_d             15\n",
       "rsi14               13\n",
       "macd                25\n",
       "macd_signal         33\n",
       "macd_diff           33\n",
       "unix_time            0\n",
       "hour                 0\n",
       "hour_sin             0\n",
       "hour_cos             0\n",
       "dow                  0\n",
       "dow_sin              0\n",
       "dow_cos              0\n",
       "dom                  0\n",
       "dom_sin              0\n",
       "dom_cos              0\n",
       "month                0\n",
       "month_sin            0\n",
       "month_cos            0\n",
       "dtype: int64"
      ]
     },
     "execution_count": 18,
     "metadata": {},
     "output_type": "execute_result"
    }
   ],
   "source": [
    "df.isna().sum()"
   ]
  },
  {
   "cell_type": "code",
   "execution_count": 19,
   "id": "107ebc5e-0428-416c-8711-30f3c90da784",
   "metadata": {},
   "outputs": [
    {
     "data": {
      "text/plain": [
       "timestamp           0\n",
       "open                0\n",
       "high                0\n",
       "low                 0\n",
       "close               0\n",
       "volume              0\n",
       "spread              0\n",
       "log_volume          0\n",
       "close_delta         0\n",
       "close_return        0\n",
       "close_log_return    0\n",
       "ret_mean_5          0\n",
       "ret_mean_10         0\n",
       "ema5                0\n",
       "ema5_slope          0\n",
       "ema20               0\n",
       "ema20_slope         0\n",
       "atr14               0\n",
       "atr20               0\n",
       "vol_adj_return      0\n",
       "close_to_atr        0\n",
       "bb_upper            0\n",
       "bb_lower            0\n",
       "bb_mavg             0\n",
       "bb_width            0\n",
       "bb_position         0\n",
       "donchian_upper      0\n",
       "donchian_lower      0\n",
       "donchian_mid        0\n",
       "donchian_width      0\n",
       "stoch_k             0\n",
       "stoch_d             0\n",
       "rsi14               0\n",
       "macd                0\n",
       "macd_signal         0\n",
       "macd_diff           0\n",
       "unix_time           0\n",
       "hour                0\n",
       "hour_sin            0\n",
       "hour_cos            0\n",
       "dow                 0\n",
       "dow_sin             0\n",
       "dow_cos             0\n",
       "dom                 0\n",
       "dom_sin             0\n",
       "dom_cos             0\n",
       "month               0\n",
       "month_sin           0\n",
       "month_cos           0\n",
       "dtype: int64"
      ]
     },
     "execution_count": 19,
     "metadata": {},
     "output_type": "execute_result"
    }
   ],
   "source": [
    "df = df.dropna()\n",
    "df.isna().sum()"
   ]
  },
  {
   "cell_type": "code",
   "execution_count": 20,
   "id": "5e197998-b68c-4669-b3e4-50e397142e94",
   "metadata": {},
   "outputs": [],
   "source": [
    "df = df.set_index('timestamp')"
   ]
  },
  {
   "cell_type": "code",
   "execution_count": 21,
   "id": "e63cb341-9c6a-403b-a8c5-74568cc08d37",
   "metadata": {},
   "outputs": [
    {
     "data": {
      "text/html": [
       "<div>\n",
       "<style scoped>\n",
       "    .dataframe tbody tr th:only-of-type {\n",
       "        vertical-align: middle;\n",
       "    }\n",
       "\n",
       "    .dataframe tbody tr th {\n",
       "        vertical-align: top;\n",
       "    }\n",
       "\n",
       "    .dataframe thead th {\n",
       "        text-align: right;\n",
       "    }\n",
       "</style>\n",
       "<table border=\"1\" class=\"dataframe\">\n",
       "  <thead>\n",
       "    <tr style=\"text-align: right;\">\n",
       "      <th></th>\n",
       "      <th>open</th>\n",
       "      <th>high</th>\n",
       "      <th>low</th>\n",
       "      <th>close</th>\n",
       "      <th>volume</th>\n",
       "      <th>spread</th>\n",
       "      <th>log_volume</th>\n",
       "      <th>close_delta</th>\n",
       "      <th>close_return</th>\n",
       "      <th>close_log_return</th>\n",
       "      <th>...</th>\n",
       "      <th>hour_cos</th>\n",
       "      <th>dow</th>\n",
       "      <th>dow_sin</th>\n",
       "      <th>dow_cos</th>\n",
       "      <th>dom</th>\n",
       "      <th>dom_sin</th>\n",
       "      <th>dom_cos</th>\n",
       "      <th>month</th>\n",
       "      <th>month_sin</th>\n",
       "      <th>month_cos</th>\n",
       "    </tr>\n",
       "    <tr>\n",
       "      <th>timestamp</th>\n",
       "      <th></th>\n",
       "      <th></th>\n",
       "      <th></th>\n",
       "      <th></th>\n",
       "      <th></th>\n",
       "      <th></th>\n",
       "      <th></th>\n",
       "      <th></th>\n",
       "      <th></th>\n",
       "      <th></th>\n",
       "      <th></th>\n",
       "      <th></th>\n",
       "      <th></th>\n",
       "      <th></th>\n",
       "      <th></th>\n",
       "      <th></th>\n",
       "      <th></th>\n",
       "      <th></th>\n",
       "      <th></th>\n",
       "      <th></th>\n",
       "      <th></th>\n",
       "    </tr>\n",
       "  </thead>\n",
       "  <tbody>\n",
       "    <tr>\n",
       "      <th>2021-01-03 22:47:00</th>\n",
       "      <td>103.2105</td>\n",
       "      <td>103.2165</td>\n",
       "      <td>103.2045</td>\n",
       "      <td>103.2135</td>\n",
       "      <td>3.689000e+10</td>\n",
       "      <td>0.031562</td>\n",
       "      <td>24.331206</td>\n",
       "      <td>0.0000</td>\n",
       "      <td>0.000000</td>\n",
       "      <td>0.000000</td>\n",
       "      <td>...</td>\n",
       "      <td>0.866025</td>\n",
       "      <td>6</td>\n",
       "      <td>-0.781831</td>\n",
       "      <td>0.62349</td>\n",
       "      <td>3</td>\n",
       "      <td>0.571268</td>\n",
       "      <td>0.820763</td>\n",
       "      <td>1</td>\n",
       "      <td>0.5</td>\n",
       "      <td>0.866025</td>\n",
       "    </tr>\n",
       "    <tr>\n",
       "      <th>2021-01-03 22:48:00</th>\n",
       "      <td>103.2155</td>\n",
       "      <td>103.2175</td>\n",
       "      <td>103.2095</td>\n",
       "      <td>103.2160</td>\n",
       "      <td>5.710000e+10</td>\n",
       "      <td>0.028810</td>\n",
       "      <td>24.768070</td>\n",
       "      <td>0.0025</td>\n",
       "      <td>0.000024</td>\n",
       "      <td>0.000024</td>\n",
       "      <td>...</td>\n",
       "      <td>0.866025</td>\n",
       "      <td>6</td>\n",
       "      <td>-0.781831</td>\n",
       "      <td>0.62349</td>\n",
       "      <td>3</td>\n",
       "      <td>0.571268</td>\n",
       "      <td>0.820763</td>\n",
       "      <td>1</td>\n",
       "      <td>0.5</td>\n",
       "      <td>0.866025</td>\n",
       "    </tr>\n",
       "    <tr>\n",
       "      <th>2021-01-03 22:49:00</th>\n",
       "      <td>103.2120</td>\n",
       "      <td>103.2140</td>\n",
       "      <td>103.2105</td>\n",
       "      <td>103.2120</td>\n",
       "      <td>5.791000e+10</td>\n",
       "      <td>0.037950</td>\n",
       "      <td>24.782156</td>\n",
       "      <td>-0.0040</td>\n",
       "      <td>-0.000039</td>\n",
       "      <td>-0.000039</td>\n",
       "      <td>...</td>\n",
       "      <td>0.866025</td>\n",
       "      <td>6</td>\n",
       "      <td>-0.781831</td>\n",
       "      <td>0.62349</td>\n",
       "      <td>3</td>\n",
       "      <td>0.571268</td>\n",
       "      <td>0.820763</td>\n",
       "      <td>1</td>\n",
       "      <td>0.5</td>\n",
       "      <td>0.866025</td>\n",
       "    </tr>\n",
       "    <tr>\n",
       "      <th>2021-01-03 22:50:00</th>\n",
       "      <td>103.2105</td>\n",
       "      <td>103.2135</td>\n",
       "      <td>103.2105</td>\n",
       "      <td>103.2120</td>\n",
       "      <td>2.859000e+10</td>\n",
       "      <td>0.037818</td>\n",
       "      <td>24.076323</td>\n",
       "      <td>0.0000</td>\n",
       "      <td>0.000000</td>\n",
       "      <td>0.000000</td>\n",
       "      <td>...</td>\n",
       "      <td>0.866025</td>\n",
       "      <td>6</td>\n",
       "      <td>-0.781831</td>\n",
       "      <td>0.62349</td>\n",
       "      <td>3</td>\n",
       "      <td>0.571268</td>\n",
       "      <td>0.820763</td>\n",
       "      <td>1</td>\n",
       "      <td>0.5</td>\n",
       "      <td>0.866025</td>\n",
       "    </tr>\n",
       "    <tr>\n",
       "      <th>2021-01-03 22:51:00</th>\n",
       "      <td>103.2070</td>\n",
       "      <td>103.2135</td>\n",
       "      <td>103.2045</td>\n",
       "      <td>103.2115</td>\n",
       "      <td>2.205000e+10</td>\n",
       "      <td>0.034875</td>\n",
       "      <td>23.816578</td>\n",
       "      <td>-0.0005</td>\n",
       "      <td>-0.000005</td>\n",
       "      <td>-0.000005</td>\n",
       "      <td>...</td>\n",
       "      <td>0.866025</td>\n",
       "      <td>6</td>\n",
       "      <td>-0.781831</td>\n",
       "      <td>0.62349</td>\n",
       "      <td>3</td>\n",
       "      <td>0.571268</td>\n",
       "      <td>0.820763</td>\n",
       "      <td>1</td>\n",
       "      <td>0.5</td>\n",
       "      <td>0.866025</td>\n",
       "    </tr>\n",
       "  </tbody>\n",
       "</table>\n",
       "<p>5 rows × 48 columns</p>\n",
       "</div>"
      ],
      "text/plain": [
       "                         open      high       low     close        volume  \\\n",
       "timestamp                                                                   \n",
       "2021-01-03 22:47:00  103.2105  103.2165  103.2045  103.2135  3.689000e+10   \n",
       "2021-01-03 22:48:00  103.2155  103.2175  103.2095  103.2160  5.710000e+10   \n",
       "2021-01-03 22:49:00  103.2120  103.2140  103.2105  103.2120  5.791000e+10   \n",
       "2021-01-03 22:50:00  103.2105  103.2135  103.2105  103.2120  2.859000e+10   \n",
       "2021-01-03 22:51:00  103.2070  103.2135  103.2045  103.2115  2.205000e+10   \n",
       "\n",
       "                       spread  log_volume  close_delta  close_return  \\\n",
       "timestamp                                                              \n",
       "2021-01-03 22:47:00  0.031562   24.331206       0.0000      0.000000   \n",
       "2021-01-03 22:48:00  0.028810   24.768070       0.0025      0.000024   \n",
       "2021-01-03 22:49:00  0.037950   24.782156      -0.0040     -0.000039   \n",
       "2021-01-03 22:50:00  0.037818   24.076323       0.0000      0.000000   \n",
       "2021-01-03 22:51:00  0.034875   23.816578      -0.0005     -0.000005   \n",
       "\n",
       "                     close_log_return  ...  hour_cos  dow   dow_sin  dow_cos  \\\n",
       "timestamp                              ...                                     \n",
       "2021-01-03 22:47:00          0.000000  ...  0.866025    6 -0.781831  0.62349   \n",
       "2021-01-03 22:48:00          0.000024  ...  0.866025    6 -0.781831  0.62349   \n",
       "2021-01-03 22:49:00         -0.000039  ...  0.866025    6 -0.781831  0.62349   \n",
       "2021-01-03 22:50:00          0.000000  ...  0.866025    6 -0.781831  0.62349   \n",
       "2021-01-03 22:51:00         -0.000005  ...  0.866025    6 -0.781831  0.62349   \n",
       "\n",
       "                     dom   dom_sin   dom_cos  month  month_sin  month_cos  \n",
       "timestamp                                                                  \n",
       "2021-01-03 22:47:00    3  0.571268  0.820763      1        0.5   0.866025  \n",
       "2021-01-03 22:48:00    3  0.571268  0.820763      1        0.5   0.866025  \n",
       "2021-01-03 22:49:00    3  0.571268  0.820763      1        0.5   0.866025  \n",
       "2021-01-03 22:50:00    3  0.571268  0.820763      1        0.5   0.866025  \n",
       "2021-01-03 22:51:00    3  0.571268  0.820763      1        0.5   0.866025  \n",
       "\n",
       "[5 rows x 48 columns]"
      ]
     },
     "execution_count": 21,
     "metadata": {},
     "output_type": "execute_result"
    }
   ],
   "source": [
    "df.head()"
   ]
  },
  {
   "cell_type": "code",
   "execution_count": 22,
   "id": "74231f16-928b-4693-938e-c591cef02621",
   "metadata": {},
   "outputs": [
    {
     "data": {
      "text/plain": [
       "Index(['open', 'high', 'low', 'close', 'volume', 'spread', 'log_volume',\n",
       "       'close_delta', 'close_return', 'close_log_return', 'ret_mean_5',\n",
       "       'ret_mean_10', 'ema5', 'ema5_slope', 'ema20', 'ema20_slope', 'atr14',\n",
       "       'atr20', 'vol_adj_return', 'close_to_atr', 'bb_upper', 'bb_lower',\n",
       "       'bb_mavg', 'bb_width', 'bb_position', 'donchian_upper',\n",
       "       'donchian_lower', 'donchian_mid', 'donchian_width', 'stoch_k',\n",
       "       'stoch_d', 'rsi14', 'macd', 'macd_signal', 'macd_diff', 'unix_time',\n",
       "       'hour', 'hour_sin', 'hour_cos', 'dow', 'dow_sin', 'dow_cos', 'dom',\n",
       "       'dom_sin', 'dom_cos', 'month', 'month_sin', 'month_cos'],\n",
       "      dtype='object')"
      ]
     },
     "execution_count": 22,
     "metadata": {},
     "output_type": "execute_result"
    }
   ],
   "source": [
    "df.columns"
   ]
  },
  {
   "cell_type": "markdown",
   "id": "01b515dd-1971-435e-a5a6-9fa7ebe4d717",
   "metadata": {},
   "source": [
    "# Saving the file"
   ]
  },
  {
   "cell_type": "code",
   "execution_count": 23,
   "id": "c30eddbe-d6bf-4141-bc78-6246cb506b13",
   "metadata": {},
   "outputs": [],
   "source": [
    "df.to_pickle(PROCESSED_FILE_PATH)"
   ]
  }
 ],
 "metadata": {
  "kernelspec": {
   "display_name": "Python 3 (ipykernel)",
   "language": "python",
   "name": "python3"
  },
  "language_info": {
   "codemirror_mode": {
    "name": "ipython",
    "version": 3
   },
   "file_extension": ".py",
   "mimetype": "text/x-python",
   "name": "python",
   "nbconvert_exporter": "python",
   "pygments_lexer": "ipython3",
   "version": "3.11.13"
  },
  "widgets": {
   "application/vnd.jupyter.widget-state+json": {
    "state": {},
    "version_major": 2,
    "version_minor": 0
   }
  }
 },
 "nbformat": 4,
 "nbformat_minor": 5
}
