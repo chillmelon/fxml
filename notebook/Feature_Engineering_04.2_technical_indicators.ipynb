{
 "cells": [
  {
   "cell_type": "code",
   "execution_count": 4,
   "id": "c95108f9-e2e1-4313-aff0-74d765c01c4b",
   "metadata": {},
   "outputs": [],
   "source": [
    "import pandas as pd\n",
    "import matplotlib.pyplot as plt\n",
    "from matplotlib.ticker import FormatStrFormatter\n",
    "\n",
    "import os"
   ]
  },
  {
   "cell_type": "code",
   "execution_count": 5,
   "id": "34e4b11f-537a-4f0e-a457-32559834c007",
   "metadata": {},
   "outputs": [],
   "source": [
    "from pathlib import Path\n",
    "\n",
    "# Configurable parts\n",
    "SOURCE = \"dukascopy\"\n",
    "SYMBOL = \"USDJPY\"\n",
    "MINUTES = 1\n",
    "EVENT = '58m-dollar'\n",
    "START_DATE = \"20210101\"\n",
    "END_DATE = \"20241231\"\n",
    "\n",
    "# Build base name\n",
    "RESAMPLED_NAME = f\"{SYMBOL}-{MINUTES}m-{START_DATE}-{END_DATE}\"\n",
    "# RESAMPLED_NAME = f\"{SOURCE}-{SYMBOL}-{EVENT}-{START_DATE}-{END_DATE}\"\n",
    "\n",
    "# Base directories\n",
    "BASE_DIR = Path(\"../data\")\n",
    "RESAMPLED_DIR = BASE_DIR / \"resampled\"\n",
    "PROCESSED_DIR = BASE_DIR / \"processed\"\n",
    "\n",
    "# Final paths\n",
    "RESAMPLED_FILE_PATH = RESAMPLED_DIR / f\"{RESAMPLED_NAME}.pkl\"\n",
    "PROCESSED_FILE_PATH = PROCESSED_DIR / f\"{RESAMPLED_NAME}-processed.pkl\""
   ]
  },
  {
   "cell_type": "code",
   "execution_count": 6,
   "id": "01d9111d-0636-4b9a-8944-07840ef6fc46",
   "metadata": {},
   "outputs": [
    {
     "data": {
      "text/html": [
       "<div>\n",
       "<style scoped>\n",
       "    .dataframe tbody tr th:only-of-type {\n",
       "        vertical-align: middle;\n",
       "    }\n",
       "\n",
       "    .dataframe tbody tr th {\n",
       "        vertical-align: top;\n",
       "    }\n",
       "\n",
       "    .dataframe thead th {\n",
       "        text-align: right;\n",
       "    }\n",
       "</style>\n",
       "<table border=\"1\" class=\"dataframe\">\n",
       "  <thead>\n",
       "    <tr style=\"text-align: right;\">\n",
       "      <th></th>\n",
       "      <th>open</th>\n",
       "      <th>high</th>\n",
       "      <th>low</th>\n",
       "      <th>close</th>\n",
       "      <th>volume</th>\n",
       "      <th>spread</th>\n",
       "      <th>close_delta</th>\n",
       "      <th>close_return</th>\n",
       "      <th>close_log_return</th>\n",
       "      <th>ret_mean_5</th>\n",
       "      <th>...</th>\n",
       "      <th>dom</th>\n",
       "      <th>month</th>\n",
       "      <th>hour_sin</th>\n",
       "      <th>hour_cos</th>\n",
       "      <th>dow_sin</th>\n",
       "      <th>dow_cos</th>\n",
       "      <th>dom_sin</th>\n",
       "      <th>dom_cos</th>\n",
       "      <th>month_sin</th>\n",
       "      <th>month_cos</th>\n",
       "    </tr>\n",
       "    <tr>\n",
       "      <th>timestamp</th>\n",
       "      <th></th>\n",
       "      <th></th>\n",
       "      <th></th>\n",
       "      <th></th>\n",
       "      <th></th>\n",
       "      <th></th>\n",
       "      <th></th>\n",
       "      <th></th>\n",
       "      <th></th>\n",
       "      <th></th>\n",
       "      <th></th>\n",
       "      <th></th>\n",
       "      <th></th>\n",
       "      <th></th>\n",
       "      <th></th>\n",
       "      <th></th>\n",
       "      <th></th>\n",
       "      <th></th>\n",
       "      <th></th>\n",
       "      <th></th>\n",
       "      <th></th>\n",
       "    </tr>\n",
       "  </thead>\n",
       "  <tbody>\n",
       "    <tr>\n",
       "      <th>2021-01-04 12:40:00</th>\n",
       "      <td>102.9310</td>\n",
       "      <td>102.9360</td>\n",
       "      <td>102.9015</td>\n",
       "      <td>102.9045</td>\n",
       "      <td>4.435300e+11</td>\n",
       "      <td>0.002134</td>\n",
       "      <td>-0.0270</td>\n",
       "      <td>-0.000262</td>\n",
       "      <td>-0.000262</td>\n",
       "      <td>0.000017</td>\n",
       "      <td>...</td>\n",
       "      <td>4</td>\n",
       "      <td>1</td>\n",
       "      <td>1.224647e-16</td>\n",
       "      <td>-1.0</td>\n",
       "      <td>0.0</td>\n",
       "      <td>1.0</td>\n",
       "      <td>0.724793</td>\n",
       "      <td>0.688967</td>\n",
       "      <td>0.5</td>\n",
       "      <td>0.866025</td>\n",
       "    </tr>\n",
       "    <tr>\n",
       "      <th>2021-01-04 12:41:00</th>\n",
       "      <td>102.9040</td>\n",
       "      <td>102.9125</td>\n",
       "      <td>102.8875</td>\n",
       "      <td>102.8915</td>\n",
       "      <td>2.647700e+11</td>\n",
       "      <td>0.002636</td>\n",
       "      <td>-0.0130</td>\n",
       "      <td>-0.000126</td>\n",
       "      <td>-0.000126</td>\n",
       "      <td>-0.000028</td>\n",
       "      <td>...</td>\n",
       "      <td>4</td>\n",
       "      <td>1</td>\n",
       "      <td>1.224647e-16</td>\n",
       "      <td>-1.0</td>\n",
       "      <td>0.0</td>\n",
       "      <td>1.0</td>\n",
       "      <td>0.724793</td>\n",
       "      <td>0.688967</td>\n",
       "      <td>0.5</td>\n",
       "      <td>0.866025</td>\n",
       "    </tr>\n",
       "    <tr>\n",
       "      <th>2021-01-04 12:42:00</th>\n",
       "      <td>102.8910</td>\n",
       "      <td>102.8945</td>\n",
       "      <td>102.8840</td>\n",
       "      <td>102.8910</td>\n",
       "      <td>2.431300e+11</td>\n",
       "      <td>0.002603</td>\n",
       "      <td>-0.0005</td>\n",
       "      <td>-0.000005</td>\n",
       "      <td>-0.000005</td>\n",
       "      <td>-0.000067</td>\n",
       "      <td>...</td>\n",
       "      <td>4</td>\n",
       "      <td>1</td>\n",
       "      <td>1.224647e-16</td>\n",
       "      <td>-1.0</td>\n",
       "      <td>0.0</td>\n",
       "      <td>1.0</td>\n",
       "      <td>0.724793</td>\n",
       "      <td>0.688967</td>\n",
       "      <td>0.5</td>\n",
       "      <td>0.866025</td>\n",
       "    </tr>\n",
       "    <tr>\n",
       "      <th>2021-01-04 12:43:00</th>\n",
       "      <td>102.8920</td>\n",
       "      <td>102.8920</td>\n",
       "      <td>102.8865</td>\n",
       "      <td>102.8890</td>\n",
       "      <td>9.203000e+10</td>\n",
       "      <td>0.003040</td>\n",
       "      <td>-0.0020</td>\n",
       "      <td>-0.000019</td>\n",
       "      <td>-0.000019</td>\n",
       "      <td>-0.000077</td>\n",
       "      <td>...</td>\n",
       "      <td>4</td>\n",
       "      <td>1</td>\n",
       "      <td>1.224647e-16</td>\n",
       "      <td>-1.0</td>\n",
       "      <td>0.0</td>\n",
       "      <td>1.0</td>\n",
       "      <td>0.724793</td>\n",
       "      <td>0.688967</td>\n",
       "      <td>0.5</td>\n",
       "      <td>0.866025</td>\n",
       "    </tr>\n",
       "    <tr>\n",
       "      <th>2021-01-04 12:44:00</th>\n",
       "      <td>102.8875</td>\n",
       "      <td>102.9025</td>\n",
       "      <td>102.8875</td>\n",
       "      <td>102.9025</td>\n",
       "      <td>9.773000e+10</td>\n",
       "      <td>0.002312</td>\n",
       "      <td>0.0135</td>\n",
       "      <td>0.000131</td>\n",
       "      <td>0.000131</td>\n",
       "      <td>-0.000056</td>\n",
       "      <td>...</td>\n",
       "      <td>4</td>\n",
       "      <td>1</td>\n",
       "      <td>1.224647e-16</td>\n",
       "      <td>-1.0</td>\n",
       "      <td>0.0</td>\n",
       "      <td>1.0</td>\n",
       "      <td>0.724793</td>\n",
       "      <td>0.688967</td>\n",
       "      <td>0.5</td>\n",
       "      <td>0.866025</td>\n",
       "    </tr>\n",
       "  </tbody>\n",
       "</table>\n",
       "<p>5 rows × 100 columns</p>\n",
       "</div>"
      ],
      "text/plain": [
       "                         open      high       low     close        volume  \\\n",
       "timestamp                                                                   \n",
       "2021-01-04 12:40:00  102.9310  102.9360  102.9015  102.9045  4.435300e+11   \n",
       "2021-01-04 12:41:00  102.9040  102.9125  102.8875  102.8915  2.647700e+11   \n",
       "2021-01-04 12:42:00  102.8910  102.8945  102.8840  102.8910  2.431300e+11   \n",
       "2021-01-04 12:43:00  102.8920  102.8920  102.8865  102.8890  9.203000e+10   \n",
       "2021-01-04 12:44:00  102.8875  102.9025  102.8875  102.9025  9.773000e+10   \n",
       "\n",
       "                       spread  close_delta  close_return  close_log_return  \\\n",
       "timestamp                                                                    \n",
       "2021-01-04 12:40:00  0.002134      -0.0270     -0.000262         -0.000262   \n",
       "2021-01-04 12:41:00  0.002636      -0.0130     -0.000126         -0.000126   \n",
       "2021-01-04 12:42:00  0.002603      -0.0005     -0.000005         -0.000005   \n",
       "2021-01-04 12:43:00  0.003040      -0.0020     -0.000019         -0.000019   \n",
       "2021-01-04 12:44:00  0.002312       0.0135      0.000131          0.000131   \n",
       "\n",
       "                     ret_mean_5  ...  dom  month      hour_sin  hour_cos  \\\n",
       "timestamp                        ...                                       \n",
       "2021-01-04 12:40:00    0.000017  ...    4      1  1.224647e-16      -1.0   \n",
       "2021-01-04 12:41:00   -0.000028  ...    4      1  1.224647e-16      -1.0   \n",
       "2021-01-04 12:42:00   -0.000067  ...    4      1  1.224647e-16      -1.0   \n",
       "2021-01-04 12:43:00   -0.000077  ...    4      1  1.224647e-16      -1.0   \n",
       "2021-01-04 12:44:00   -0.000056  ...    4      1  1.224647e-16      -1.0   \n",
       "\n",
       "                     dow_sin  dow_cos   dom_sin   dom_cos  month_sin  \\\n",
       "timestamp                                                              \n",
       "2021-01-04 12:40:00      0.0      1.0  0.724793  0.688967        0.5   \n",
       "2021-01-04 12:41:00      0.0      1.0  0.724793  0.688967        0.5   \n",
       "2021-01-04 12:42:00      0.0      1.0  0.724793  0.688967        0.5   \n",
       "2021-01-04 12:43:00      0.0      1.0  0.724793  0.688967        0.5   \n",
       "2021-01-04 12:44:00      0.0      1.0  0.724793  0.688967        0.5   \n",
       "\n",
       "                     month_cos  \n",
       "timestamp                       \n",
       "2021-01-04 12:40:00   0.866025  \n",
       "2021-01-04 12:41:00   0.866025  \n",
       "2021-01-04 12:42:00   0.866025  \n",
       "2021-01-04 12:43:00   0.866025  \n",
       "2021-01-04 12:44:00   0.866025  \n",
       "\n",
       "[5 rows x 100 columns]"
      ]
     },
     "execution_count": 6,
     "metadata": {},
     "output_type": "execute_result"
    }
   ],
   "source": [
    "df = pd.read_pickle(PROCESSED_FILE_PATH)\n",
    "df.head()"
   ]
  },
  {
   "cell_type": "markdown",
   "id": "6c23044d-e909-42fb-9f07-92f8f0a4562a",
   "metadata": {},
   "source": [
    "### Reset Timestamp into Column"
   ]
  },
  {
   "cell_type": "code",
   "execution_count": 7,
   "id": "2109c0d6-1233-441f-b4bf-d05d043380f3",
   "metadata": {},
   "outputs": [],
   "source": [
    "df = df.reset_index()"
   ]
  },
  {
   "cell_type": "code",
   "execution_count": 7,
   "id": "0b49c951-a13b-473e-8834-3cefb90ababa",
   "metadata": {},
   "outputs": [
    {
     "data": {
      "text/html": [
       "<div>\n",
       "<style scoped>\n",
       "    .dataframe tbody tr th:only-of-type {\n",
       "        vertical-align: middle;\n",
       "    }\n",
       "\n",
       "    .dataframe tbody tr th {\n",
       "        vertical-align: top;\n",
       "    }\n",
       "\n",
       "    .dataframe thead th {\n",
       "        text-align: right;\n",
       "    }\n",
       "</style>\n",
       "<table border=\"1\" class=\"dataframe\">\n",
       "  <thead>\n",
       "    <tr style=\"text-align: right;\">\n",
       "      <th></th>\n",
       "      <th>timestamp</th>\n",
       "      <th>open</th>\n",
       "      <th>high</th>\n",
       "      <th>low</th>\n",
       "      <th>close</th>\n",
       "      <th>volume</th>\n",
       "      <th>spread</th>\n",
       "      <th>close_delta</th>\n",
       "      <th>close_return</th>\n",
       "      <th>close_log_return</th>\n",
       "      <th>...</th>\n",
       "      <th>dom</th>\n",
       "      <th>month</th>\n",
       "      <th>hour_sin</th>\n",
       "      <th>hour_cos</th>\n",
       "      <th>dow_sin</th>\n",
       "      <th>dow_cos</th>\n",
       "      <th>dom_sin</th>\n",
       "      <th>dom_cos</th>\n",
       "      <th>month_sin</th>\n",
       "      <th>month_cos</th>\n",
       "    </tr>\n",
       "  </thead>\n",
       "  <tbody>\n",
       "    <tr>\n",
       "      <th>0</th>\n",
       "      <td>2021-01-03 23:44:00</td>\n",
       "      <td>103.2920</td>\n",
       "      <td>103.3005</td>\n",
       "      <td>103.2875</td>\n",
       "      <td>103.2890</td>\n",
       "      <td>1.147400e+11</td>\n",
       "      <td>0.003725</td>\n",
       "      <td>-0.0030</td>\n",
       "      <td>-0.000029</td>\n",
       "      <td>-0.000029</td>\n",
       "      <td>...</td>\n",
       "      <td>3</td>\n",
       "      <td>1</td>\n",
       "      <td>-0.258819</td>\n",
       "      <td>0.965926</td>\n",
       "      <td>-0.781831</td>\n",
       "      <td>0.62349</td>\n",
       "      <td>0.571268</td>\n",
       "      <td>0.820763</td>\n",
       "      <td>0.5</td>\n",
       "      <td>0.866025</td>\n",
       "    </tr>\n",
       "    <tr>\n",
       "      <th>1</th>\n",
       "      <td>2021-01-03 23:45:00</td>\n",
       "      <td>103.2860</td>\n",
       "      <td>103.3090</td>\n",
       "      <td>103.2835</td>\n",
       "      <td>103.3040</td>\n",
       "      <td>2.637000e+11</td>\n",
       "      <td>0.004039</td>\n",
       "      <td>0.0150</td>\n",
       "      <td>0.000145</td>\n",
       "      <td>0.000145</td>\n",
       "      <td>...</td>\n",
       "      <td>3</td>\n",
       "      <td>1</td>\n",
       "      <td>-0.258819</td>\n",
       "      <td>0.965926</td>\n",
       "      <td>-0.781831</td>\n",
       "      <td>0.62349</td>\n",
       "      <td>0.571268</td>\n",
       "      <td>0.820763</td>\n",
       "      <td>0.5</td>\n",
       "      <td>0.866025</td>\n",
       "    </tr>\n",
       "    <tr>\n",
       "      <th>2</th>\n",
       "      <td>2021-01-03 23:46:00</td>\n",
       "      <td>103.3045</td>\n",
       "      <td>103.3180</td>\n",
       "      <td>103.2980</td>\n",
       "      <td>103.2980</td>\n",
       "      <td>1.622600e+11</td>\n",
       "      <td>0.003704</td>\n",
       "      <td>-0.0060</td>\n",
       "      <td>-0.000058</td>\n",
       "      <td>-0.000058</td>\n",
       "      <td>...</td>\n",
       "      <td>3</td>\n",
       "      <td>1</td>\n",
       "      <td>-0.258819</td>\n",
       "      <td>0.965926</td>\n",
       "      <td>-0.781831</td>\n",
       "      <td>0.62349</td>\n",
       "      <td>0.571268</td>\n",
       "      <td>0.820763</td>\n",
       "      <td>0.5</td>\n",
       "      <td>0.866025</td>\n",
       "    </tr>\n",
       "    <tr>\n",
       "      <th>3</th>\n",
       "      <td>2021-01-03 23:47:00</td>\n",
       "      <td>103.3010</td>\n",
       "      <td>103.3015</td>\n",
       "      <td>103.2805</td>\n",
       "      <td>103.2895</td>\n",
       "      <td>1.991100e+11</td>\n",
       "      <td>0.003133</td>\n",
       "      <td>-0.0085</td>\n",
       "      <td>-0.000082</td>\n",
       "      <td>-0.000082</td>\n",
       "      <td>...</td>\n",
       "      <td>3</td>\n",
       "      <td>1</td>\n",
       "      <td>-0.258819</td>\n",
       "      <td>0.965926</td>\n",
       "      <td>-0.781831</td>\n",
       "      <td>0.62349</td>\n",
       "      <td>0.571268</td>\n",
       "      <td>0.820763</td>\n",
       "      <td>0.5</td>\n",
       "      <td>0.866025</td>\n",
       "    </tr>\n",
       "    <tr>\n",
       "      <th>4</th>\n",
       "      <td>2021-01-03 23:48:00</td>\n",
       "      <td>103.2855</td>\n",
       "      <td>103.2855</td>\n",
       "      <td>103.2690</td>\n",
       "      <td>103.2825</td>\n",
       "      <td>1.275100e+11</td>\n",
       "      <td>0.002381</td>\n",
       "      <td>-0.0070</td>\n",
       "      <td>-0.000068</td>\n",
       "      <td>-0.000068</td>\n",
       "      <td>...</td>\n",
       "      <td>3</td>\n",
       "      <td>1</td>\n",
       "      <td>-0.258819</td>\n",
       "      <td>0.965926</td>\n",
       "      <td>-0.781831</td>\n",
       "      <td>0.62349</td>\n",
       "      <td>0.571268</td>\n",
       "      <td>0.820763</td>\n",
       "      <td>0.5</td>\n",
       "      <td>0.866025</td>\n",
       "    </tr>\n",
       "  </tbody>\n",
       "</table>\n",
       "<p>5 rows × 59 columns</p>\n",
       "</div>"
      ],
      "text/plain": [
       "            timestamp      open      high       low     close        volume  \\\n",
       "0 2021-01-03 23:44:00  103.2920  103.3005  103.2875  103.2890  1.147400e+11   \n",
       "1 2021-01-03 23:45:00  103.2860  103.3090  103.2835  103.3040  2.637000e+11   \n",
       "2 2021-01-03 23:46:00  103.3045  103.3180  103.2980  103.2980  1.622600e+11   \n",
       "3 2021-01-03 23:47:00  103.3010  103.3015  103.2805  103.2895  1.991100e+11   \n",
       "4 2021-01-03 23:48:00  103.2855  103.2855  103.2690  103.2825  1.275100e+11   \n",
       "\n",
       "     spread  close_delta  close_return  close_log_return  ...  dom  month  \\\n",
       "0  0.003725      -0.0030     -0.000029         -0.000029  ...    3      1   \n",
       "1  0.004039       0.0150      0.000145          0.000145  ...    3      1   \n",
       "2  0.003704      -0.0060     -0.000058         -0.000058  ...    3      1   \n",
       "3  0.003133      -0.0085     -0.000082         -0.000082  ...    3      1   \n",
       "4  0.002381      -0.0070     -0.000068         -0.000068  ...    3      1   \n",
       "\n",
       "   hour_sin  hour_cos   dow_sin  dow_cos   dom_sin   dom_cos  month_sin  \\\n",
       "0 -0.258819  0.965926 -0.781831  0.62349  0.571268  0.820763        0.5   \n",
       "1 -0.258819  0.965926 -0.781831  0.62349  0.571268  0.820763        0.5   \n",
       "2 -0.258819  0.965926 -0.781831  0.62349  0.571268  0.820763        0.5   \n",
       "3 -0.258819  0.965926 -0.781831  0.62349  0.571268  0.820763        0.5   \n",
       "4 -0.258819  0.965926 -0.781831  0.62349  0.571268  0.820763        0.5   \n",
       "\n",
       "   month_cos  \n",
       "0   0.866025  \n",
       "1   0.866025  \n",
       "2   0.866025  \n",
       "3   0.866025  \n",
       "4   0.866025  \n",
       "\n",
       "[5 rows x 59 columns]"
      ]
     },
     "execution_count": 7,
     "metadata": {},
     "output_type": "execute_result"
    }
   ],
   "source": [
    "df.head()"
   ]
  },
  {
   "cell_type": "markdown",
   "id": "425a812f-4ece-4adf-9622-4ae75ec014a2",
   "metadata": {},
   "source": [
    "# Techinical Indicator"
   ]
  },
  {
   "cell_type": "code",
   "execution_count": 9,
   "id": "23bb1a58-441c-48d7-8a78-98e9806ffeec",
   "metadata": {},
   "outputs": [],
   "source": [
    "import numpy as np\n",
    "import pandas_ta as pdta\n",
    "from ta.volatility import AverageTrueRange, BollingerBands, DonchianChannel\n",
    "from ta.momentum import StochasticOscillator, RSIIndicator\n",
    "from ta.trend import MACD, EMAIndicator, SMAIndicator"
   ]
  },
  {
   "cell_type": "code",
   "execution_count": 25,
   "id": "697e4d94-2231-48a9-bd67-5d8e58254223",
   "metadata": {},
   "outputs": [
    {
     "name": "stdout",
     "output_type": "stream",
     "text": [
      "Pandas TA - Technical Analysis Indicators - v0.4.71b0\n",
      "\n",
      "Indicators and Utilities [154]:\n",
      "    aberration, accbands, ad, adosc, adx, alligator, alma, alphatrend, amat, ao, aobv, apo, aroon, atr, atrts, bbands, bias, bop, brar, cci, cdl_pattern, cdl_z, cfo, cg, chandelier_exit, chop, cksp, cmf, cmo, coppock, crsi, cti, decay, decreasing, dema, dm, donchian, dpo, ebsw, efi, ema, entropy, eom, er, eri, exhc, fisher, fwma, ha, hilo, hl2, hlc3, hma, ht_trendline, hwc, hwma, ichimoku, increasing, inertia, jma, kama, kc, kdj, kst, kurtosis, kvo, linreg, log_return, long_run, macd, mad, mama, massi, mcgd, median, mfi, midpoint, midprice, mom, natr, nvi, obv, ohlc4, pdist, percent_return, pgo, pivots, ppo, psar, psl, pvi, pvo, pvol, pvr, pvt, pwma, qqe, qstick, quantile, reflex, rma, roc, rsi, rsx, rvgi, rvi, rwi, short_run, sinwma, skew, slope, sma, smc, smi, smma, squeeze, squeeze_pro, ssf, ssf3, stc, stdev, stoch, stochf, stochrsi, supertrend, swma, t3, tema, thermo, tmo, tos_stdevall, trendflex, trima, trix, true_range, tsi, tsignals, tsv, ui, uo, variance, vhf, vhm, vidya, vortex, vwap, vwma, wcp, willr, wma, xsignals, zigzag, zlma, zscore\n",
      "\n",
      "Candle Patterns [62]:\n",
      "    2crows, 3blackcrows, 3inside, 3linestrike, 3outside, 3starsinsouth, 3whitesoldiers, abandonedbaby, advanceblock, belthold, breakaway, closingmarubozu, concealbabyswall, counterattack, darkcloudcover, doji, dojistar, dragonflydoji, engulfing, eveningdojistar, eveningstar, gapsidesidewhite, gravestonedoji, hammer, hangingman, harami, haramicross, highwave, hikkake, hikkakemod, homingpigeon, identical3crows, inneck, inside, invertedhammer, kicking, kickingbylength, ladderbottom, longleggeddoji, longline, marubozu, matchinglow, mathold, morningdojistar, morningstar, onneck, piercing, rickshawman, risefall3methods, separatinglines, shootingstar, shortline, spinningtop, stalledpattern, sticksandwich, takuri, tasukigap, thrusting, tristar, unique3river, upsidegap2crows, xsidegap3methods\n",
      "\n",
      "Total Candles, Indicators and Utilities: 216\n",
      "None\n"
     ]
    }
   ],
   "source": [
    "print(df.ta.indicators())\n"
   ]
  },
  {
   "cell_type": "markdown",
   "id": "b413fef6-46c2-40ef-a745-2de82f769663",
   "metadata": {},
   "source": [
    "### EMA & SMA"
   ]
  },
  {
   "cell_type": "code",
   "execution_count": 26,
   "id": "b62b50a8-5c01-4ada-b326-d4647a411286",
   "metadata": {},
   "outputs": [
    {
     "data": {
      "text/plain": [
       "0         NaN\n",
       "1         NaN\n",
       "2         NaN\n",
       "3         NaN\n",
       "4         NaN\n",
       "           ..\n",
       "1486413   NaN\n",
       "1486414   NaN\n",
       "1486415   NaN\n",
       "1486416   NaN\n",
       "1486417   NaN\n",
       "Name: EMA_10, Length: 2972836, dtype: float64"
      ]
     },
     "execution_count": 26,
     "metadata": {},
     "output_type": "execute_result"
    }
   ],
   "source": []
  },
  {
   "cell_type": "code",
   "execution_count": 10,
   "id": "fa960fce-e27a-4d7e-8cf1-a9d18048a7d9",
   "metadata": {},
   "outputs": [],
   "source": [
    "# 5-period EMA\n",
    "ema5 = EMAIndicator(close=df['close'], window=5)\n",
    "df['ema5'] = ema5.ema_indicator()\n",
    "ema5_slope = df['ema5'].diff()\n",
    "df['ema5_slope'] = ema5_slope\n",
    "# 20-period EMA\n",
    "ema20 = EMAIndicator(close=df['close'], window=20)\n",
    "df['ema20'] = ema20.ema_indicator()\n",
    "ema20_slope = df['ema20'].diff()\n",
    "df['ema20_slope'] = ema20_slope"
   ]
  },
  {
   "cell_type": "code",
   "execution_count": 12,
   "id": "0ffdc30c-63a1-420a-9263-6786b2566e1a",
   "metadata": {},
   "outputs": [
    {
     "data": {
      "text/plain": [
       "0                 NaN\n",
       "1                 NaN\n",
       "2                 NaN\n",
       "3                 NaN\n",
       "4                 NaN\n",
       "              ...    \n",
       "1486413    157.004414\n",
       "1486414    157.004975\n",
       "1486415    157.005343\n",
       "1486416    157.004645\n",
       "1486417    157.005346\n",
       "Name: EMA_10, Length: 1486418, dtype: float64"
      ]
     },
     "execution_count": 12,
     "metadata": {},
     "output_type": "execute_result"
    }
   ],
   "source": [
    "pdta.ema(df.close, window=5)"
   ]
  },
  {
   "cell_type": "markdown",
   "id": "7eef76c3-5400-4ee3-8012-6582400393b1",
   "metadata": {},
   "source": [
    "### ATR"
   ]
  },
  {
   "cell_type": "code",
   "execution_count": 17,
   "id": "a07883f0-4335-4bd7-8e5f-cbc73d04c955",
   "metadata": {},
   "outputs": [
    {
     "data": {
      "text/plain": [
       "0               NaN\n",
       "1               NaN\n",
       "2               NaN\n",
       "3               NaN\n",
       "4               NaN\n",
       "             ...   \n",
       "1486413    0.013912\n",
       "1486414    0.013025\n",
       "1486415    0.013488\n",
       "1486416    0.013096\n",
       "1486417    0.012910\n",
       "Name: ATRr_14, Length: 1486418, dtype: float64"
      ]
     },
     "execution_count": 17,
     "metadata": {},
     "output_type": "execute_result"
    }
   ],
   "source": [
    "df['atr14'] = pdta.atr(\n",
    "    df.high,\n",
    "    df.low,\n",
    "    df.close,\n",
    "    length=14,\n",
    ")"
   ]
  },
  {
   "cell_type": "code",
   "execution_count": 18,
   "id": "374dd243-a605-4f43-bf24-b7fc673118b1",
   "metadata": {},
   "outputs": [
    {
     "data": {
      "text/plain": [
       "0               NaN\n",
       "1               NaN\n",
       "2               NaN\n",
       "3               NaN\n",
       "4               NaN\n",
       "             ...   \n",
       "1486413    0.014480\n",
       "1486414    0.013831\n",
       "1486415    0.014114\n",
       "1486416    0.013808\n",
       "1486417    0.013643\n",
       "Name: ATRr_20, Length: 1486418, dtype: float64"
      ]
     },
     "execution_count": 18,
     "metadata": {},
     "output_type": "execute_result"
    }
   ],
   "source": [
    "df['atr20'] = pdta.atr(\n",
    "    df.high,\n",
    "    df.low,\n",
    "    df.close,\n",
    "    length=20,\n",
    ")"
   ]
  },
  {
   "cell_type": "code",
   "execution_count": 32,
   "id": "030dbf92-639e-4e6a-b83c-b35b4edd5af7",
   "metadata": {},
   "outputs": [],
   "source": [
    "df['close_to_atr'] = df['close_delta'] / df['atr20']"
   ]
  },
  {
   "cell_type": "markdown",
   "id": "bb574788-5b18-41f3-b7bc-f66f5282671b",
   "metadata": {},
   "source": [
    "### BollingerBands"
   ]
  },
  {
   "cell_type": "code",
   "execution_count": 19,
   "id": "f67e343c-c1da-45db-a047-3a0a1b859aa9",
   "metadata": {},
   "outputs": [
    {
     "name": "stdout",
     "output_type": "stream",
     "text": [
      "Help on function bbands in module pandas_ta.volatility.bbands:\n",
      "\n",
      "bbands(close: pandas.core.series.Series, length: Union[int, numpy.integer] = None, lower_std: Union[int, numpy.integer, float, numpy.floating] = None, upper_std: Union[int, numpy.integer, float, numpy.floating] = None, ddof: Union[int, numpy.integer] = None, mamode: str = None, talib: bool = None, offset: Union[int, numpy.integer] = None, **kwargs: Optional[dict]) -> pandas.core.frame.DataFrame\n",
      "    Bollinger Bands\n",
      "\n",
      "    This indicator, by John Bollinger, attempts to quantify volatility by\n",
      "    creating lower and upper bands centered around a moving average.\n",
      "\n",
      "    Sources:\n",
      "        * [tradingview](https://www.tradingview.com/wiki/Bollinger_Bands_(BB))\n",
      "\n",
      "    Parameters:\n",
      "        close (Series): ```close``` Series\n",
      "        length (int): The period. Default: ```5```\n",
      "        lower_std (IntFloat): Lower standard deviation. Default: ```2.0```\n",
      "        upper_std (IntFloat): Upper standard deviation. Default: ```2.0```\n",
      "        ddof (int): Degrees of Freedom to use. Default: ```0```\n",
      "        mamode (str): See ```help(ta.ma)```. Default: ```\"sma\"```\n",
      "        talib (bool): If installed, use TA Lib. Default: ```True```\n",
      "        ddof (int): By default, uses Pandas ```ddof=1```.\n",
      "            For Numpy calculation, use ```0```. Default: ```1```\n",
      "        offset (int): Post shift. Default: ```0```\n",
      "\n",
      "    Other Parameters:\n",
      "        fillna (value): ```pd.DataFrame.fillna(value)```\n",
      "\n",
      "    Returns:\n",
      "        (DataFrame): 5 columns\n",
      "\n",
      "    Note:\n",
      "        * TA Lib does not have a ```ddof``` parameter.\n",
      "        * The divisor used in calculations is: ```N - ddof```, where ```N```\n",
      "          is the number of elements. To use ```ddof```, set ```talib=False```.\n",
      "\n"
     ]
    }
   ],
   "source": [
    "help(pdta.bbands)"
   ]
  },
  {
   "cell_type": "code",
   "execution_count": 23,
   "id": "6c53ac2e-011b-40a4-a119-512eaee651bc",
   "metadata": {},
   "outputs": [],
   "source": [
    "df = pd.concat([\n",
    "    df,\n",
    "    pdta.bbands(\n",
    "        df.close,\n",
    "        length=5,\n",
    "    )\n",
    "])"
   ]
  },
  {
   "cell_type": "code",
   "execution_count": null,
   "id": "1b203661-2ed9-4cf1-a402-07be1b5f9c93",
   "metadata": {},
   "outputs": [],
   "source": [
    "bb = BollingerBands(\n",
    "    close=df['close'],\n",
    "    window=20,\n",
    "    window_dev=2\n",
    ")\n",
    "df['bb_upper'] = bb.bollinger_hband()\n",
    "df['bb_lower'] = bb.bollinger_lband()\n",
    "df['bb_mavg'] = bb.bollinger_mavg()\n",
    "df['bb_width'] = df['bb_upper'] - df['bb_lower']\n",
    "df['bb_position'] = (df['close'] - df['bb_lower']) / df['bb_width']"
   ]
  },
  {
   "cell_type": "markdown",
   "id": "160ad120-6704-4d97-9875-cc4ae5e93d70",
   "metadata": {},
   "source": [
    "### Donchian Channel"
   ]
  },
  {
   "cell_type": "code",
   "execution_count": null,
   "id": "341698d4-417c-4a24-bec1-aac4672a1689",
   "metadata": {},
   "outputs": [],
   "source": [
    "dc = DonchianChannel(\n",
    "    high=df['high'],\n",
    "    low=df['low'],\n",
    "    close=df['close'],\n",
    "    window=20\n",
    ")\n",
    "df['donchian_upper'] = dc.donchian_channel_hband()\n",
    "df['donchian_lower'] = dc.donchian_channel_lband()\n",
    "df['donchian_mid'] = dc.donchian_channel_mband()\n",
    "df['donchian_width'] = df['donchian_upper'] - df['donchian_lower']"
   ]
  },
  {
   "cell_type": "markdown",
   "id": "c3265f69-c74a-4b59-9fba-8806cf38d4ce",
   "metadata": {},
   "source": [
    "### Stochastic Oscillator"
   ]
  },
  {
   "cell_type": "code",
   "execution_count": null,
   "id": "1764e1d2-ce98-41bc-8721-cb7f994f1510",
   "metadata": {},
   "outputs": [],
   "source": [
    "stoch = StochasticOscillator(\n",
    "    high=df['high'],\n",
    "    low=df['low'],\n",
    "    close=df['close'],\n",
    "    window=14,\n",
    "    smooth_window=3\n",
    ")\n",
    "df['stoch_k'] = stoch.stoch()\n",
    "df['stoch_d'] = stoch.stoch_signal()"
   ]
  },
  {
   "cell_type": "markdown",
   "id": "8b0aa4fc-0b06-4245-bfef-c3fd71d9fbc2",
   "metadata": {},
   "source": [
    "### RSI (Relative Strength Index)"
   ]
  },
  {
   "cell_type": "code",
   "execution_count": 22,
   "id": "8e3595db-9721-4b5b-802c-78c331f5906a",
   "metadata": {},
   "outputs": [],
   "source": [
    "rsi = RSIIndicator(close=df['close'], window=14)\n",
    "df['rsi14'] = rsi.rsi()\n",
    "df['rsi14_slope'] = df['rsi14'].diff()"
   ]
  },
  {
   "cell_type": "code",
   "execution_count": null,
   "id": "d2a333fc-0327-467c-a499-b4b7d6b2e0a1",
   "metadata": {},
   "outputs": [],
   "source": [
    "df['rsi14']"
   ]
  },
  {
   "cell_type": "markdown",
   "id": "71be1a51-0d7a-42c5-8eb4-507d4ac9f0a6",
   "metadata": {},
   "source": [
    "### MACD"
   ]
  },
  {
   "cell_type": "code",
   "execution_count": null,
   "id": "e8a05523-d757-470b-8fda-a280e9f986ca",
   "metadata": {},
   "outputs": [],
   "source": [
    "macd = MACD(close=df['close'], window_slow=26, window_fast=12, window_sign=9)\n",
    "df['macd'] = macd.macd()\n",
    "df['macd_signal'] = macd.macd_signal()\n",
    "df['macd_diff'] = macd.macd_diff()"
   ]
  },
  {
   "cell_type": "markdown",
   "id": "a40ada13-1508-41b3-8659-3df53783e5c0",
   "metadata": {},
   "source": [
    "### ADX"
   ]
  },
  {
   "cell_type": "code",
   "execution_count": null,
   "id": "a880b40c-1887-4b5b-b2e3-97f027fbe504",
   "metadata": {},
   "outputs": [],
   "source": [
    "from ta.trend import ADXIndicator\n",
    "# 建立 ADX 指標\n",
    "adx14 = ADXIndicator(\n",
    "    high=df[\"high\"], \n",
    "    low=df[\"low\"], \n",
    "    close=df[\"close\"], \n",
    "    window=14,         # 與 ta-lib 的 timeperiod 對應\n",
    "    fillna=False\n",
    ")\n",
    "\n",
    "# ADX 值\n",
    "df[\"adx14\"] = adx14.adx()\n",
    "\n",
    "# +DI / -DI\n",
    "df[\"plus_di14\"] = adx14.adx_pos()\n",
    "df[\"minus_di14\"] = adx14.adx_neg()"
   ]
  },
  {
   "cell_type": "markdown",
   "id": "68491f04-bd80-4b5a-8470-dc1fede458ba",
   "metadata": {},
   "source": [
    "### Pandas TA"
   ]
  },
  {
   "cell_type": "code",
   "execution_count": 8,
   "id": "f96bd62f-6df1-40a9-b871-307d213218ff",
   "metadata": {},
   "outputs": [
    {
     "data": {
      "text/html": [
       "<div>\n",
       "<style scoped>\n",
       "    .dataframe tbody tr th:only-of-type {\n",
       "        vertical-align: middle;\n",
       "    }\n",
       "\n",
       "    .dataframe tbody tr th {\n",
       "        vertical-align: top;\n",
       "    }\n",
       "\n",
       "    .dataframe thead th {\n",
       "        text-align: right;\n",
       "    }\n",
       "</style>\n",
       "<table border=\"1\" class=\"dataframe\">\n",
       "  <thead>\n",
       "    <tr style=\"text-align: right;\">\n",
       "      <th></th>\n",
       "      <th>ADX_14</th>\n",
       "      <th>ADXR_14_2</th>\n",
       "      <th>DMP_14</th>\n",
       "      <th>DMN_14</th>\n",
       "    </tr>\n",
       "  </thead>\n",
       "  <tbody>\n",
       "    <tr>\n",
       "      <th>0</th>\n",
       "      <td>NaN</td>\n",
       "      <td>NaN</td>\n",
       "      <td>NaN</td>\n",
       "      <td>NaN</td>\n",
       "    </tr>\n",
       "    <tr>\n",
       "      <th>1</th>\n",
       "      <td>NaN</td>\n",
       "      <td>NaN</td>\n",
       "      <td>NaN</td>\n",
       "      <td>NaN</td>\n",
       "    </tr>\n",
       "    <tr>\n",
       "      <th>2</th>\n",
       "      <td>NaN</td>\n",
       "      <td>NaN</td>\n",
       "      <td>NaN</td>\n",
       "      <td>NaN</td>\n",
       "    </tr>\n",
       "    <tr>\n",
       "      <th>3</th>\n",
       "      <td>NaN</td>\n",
       "      <td>NaN</td>\n",
       "      <td>NaN</td>\n",
       "      <td>NaN</td>\n",
       "    </tr>\n",
       "    <tr>\n",
       "      <th>4</th>\n",
       "      <td>NaN</td>\n",
       "      <td>NaN</td>\n",
       "      <td>NaN</td>\n",
       "      <td>NaN</td>\n",
       "    </tr>\n",
       "    <tr>\n",
       "      <th>...</th>\n",
       "      <td>...</td>\n",
       "      <td>...</td>\n",
       "      <td>...</td>\n",
       "      <td>...</td>\n",
       "    </tr>\n",
       "    <tr>\n",
       "      <th>1486413</th>\n",
       "      <td>23.224865</td>\n",
       "      <td>24.001608</td>\n",
       "      <td>0.043640</td>\n",
       "      <td>0.057263</td>\n",
       "    </tr>\n",
       "    <tr>\n",
       "      <th>1486414</th>\n",
       "      <td>22.530317</td>\n",
       "      <td>23.251579</td>\n",
       "      <td>0.040523</td>\n",
       "      <td>0.053173</td>\n",
       "    </tr>\n",
       "    <tr>\n",
       "      <th>1486415</th>\n",
       "      <td>22.920023</td>\n",
       "      <td>23.072444</td>\n",
       "      <td>0.037628</td>\n",
       "      <td>0.066875</td>\n",
       "    </tr>\n",
       "    <tr>\n",
       "      <th>1486416</th>\n",
       "      <td>23.281893</td>\n",
       "      <td>22.906105</td>\n",
       "      <td>0.034941</td>\n",
       "      <td>0.062098</td>\n",
       "    </tr>\n",
       "    <tr>\n",
       "      <th>1486417</th>\n",
       "      <td>23.729607</td>\n",
       "      <td>23.324815</td>\n",
       "      <td>0.032445</td>\n",
       "      <td>0.059662</td>\n",
       "    </tr>\n",
       "  </tbody>\n",
       "</table>\n",
       "<p>1486418 rows × 4 columns</p>\n",
       "</div>"
      ],
      "text/plain": [
       "            ADX_14  ADXR_14_2    DMP_14    DMN_14\n",
       "0              NaN        NaN       NaN       NaN\n",
       "1              NaN        NaN       NaN       NaN\n",
       "2              NaN        NaN       NaN       NaN\n",
       "3              NaN        NaN       NaN       NaN\n",
       "4              NaN        NaN       NaN       NaN\n",
       "...            ...        ...       ...       ...\n",
       "1486413  23.224865  24.001608  0.043640  0.057263\n",
       "1486414  22.530317  23.251579  0.040523  0.053173\n",
       "1486415  22.920023  23.072444  0.037628  0.066875\n",
       "1486416  23.281893  22.906105  0.034941  0.062098\n",
       "1486417  23.729607  23.324815  0.032445  0.059662\n",
       "\n",
       "[1486418 rows x 4 columns]"
      ]
     },
     "execution_count": 8,
     "metadata": {},
     "output_type": "execute_result"
    }
   ],
   "source": [
    "pdta.adx(    \n",
    "    high=df[\"high\"], \n",
    "    low=df[\"low\"], \n",
    "    close=df[\"close\"], \n",
    "    window=14,  \n",
    ")"
   ]
  },
  {
   "cell_type": "markdown",
   "id": "33c34b41-4699-4f12-bd99-8595950d57f6",
   "metadata": {},
   "source": [
    "# Time Features"
   ]
  },
  {
   "cell_type": "code",
   "execution_count": null,
   "id": "d97cc162-93df-4ab9-869a-32c2be357139",
   "metadata": {},
   "outputs": [],
   "source": [
    "df['unix_time'] = df['timestamp'].astype('int64') / 1e9"
   ]
  },
  {
   "cell_type": "code",
   "execution_count": null,
   "id": "d478d07b-5103-4a94-a427-53058a7ca207",
   "metadata": {},
   "outputs": [],
   "source": [
    "df['hour'] = df['timestamp'].dt.hour\n",
    "df['hour_sin'] = np.sin(2 * np.pi * df['hour'] / 24)\n",
    "df['hour_cos'] = np.cos(2 * np.pi * df['hour'] / 24)"
   ]
  },
  {
   "cell_type": "code",
   "execution_count": null,
   "id": "02517286-0492-4fb6-9bcc-6b3f216fcd12",
   "metadata": {},
   "outputs": [],
   "source": [
    "df['dow'] = df['timestamp'].dt.dayofweek  # Monday=0\n",
    "df['dow_sin'] = np.sin(2 * np.pi * df['dow'] / 7)\n",
    "df['dow_cos'] = np.cos(2 * np.pi * df['dow'] / 7)"
   ]
  },
  {
   "cell_type": "code",
   "execution_count": null,
   "id": "a4cdd64c-f862-48f8-8e12-90269d180573",
   "metadata": {},
   "outputs": [],
   "source": [
    "df['dom'] = df['timestamp'].dt.day\n",
    "df['dom_sin'] = np.sin(2 * np.pi * df['dom'] / 31)\n",
    "df['dom_cos'] = np.cos(2 * np.pi * df['dom'] / 31)"
   ]
  },
  {
   "cell_type": "code",
   "execution_count": null,
   "id": "c40b25bb-9ae4-4b30-b183-3258d6866e5a",
   "metadata": {},
   "outputs": [],
   "source": [
    "df['month'] = df['timestamp'].dt.month\n",
    "df['month_sin'] = np.sin(2 * np.pi * df['month'] / 12)\n",
    "df['month_cos'] = np.cos(2 * np.pi * df['month'] / 12)"
   ]
  },
  {
   "cell_type": "markdown",
   "id": "b2909266-b99a-4def-a483-83af71c0c47c",
   "metadata": {},
   "source": [
    "## Drop NaN"
   ]
  },
  {
   "cell_type": "code",
   "execution_count": null,
   "id": "b089ffd6-f30c-4931-a0ef-0e3a2a64691a",
   "metadata": {},
   "outputs": [],
   "source": [
    "df.isna().sum()"
   ]
  },
  {
   "cell_type": "code",
   "execution_count": null,
   "id": "107ebc5e-0428-416c-8711-30f3c90da784",
   "metadata": {},
   "outputs": [],
   "source": [
    "df = df.dropna()\n",
    "df.isna().sum()"
   ]
  },
  {
   "cell_type": "code",
   "execution_count": null,
   "id": "5e197998-b68c-4669-b3e4-50e397142e94",
   "metadata": {},
   "outputs": [],
   "source": [
    "df = df.set_index('timestamp')"
   ]
  },
  {
   "cell_type": "code",
   "execution_count": null,
   "id": "e63cb341-9c6a-403b-a8c5-74568cc08d37",
   "metadata": {},
   "outputs": [],
   "source": [
    "df.head()"
   ]
  },
  {
   "cell_type": "code",
   "execution_count": null,
   "id": "74231f16-928b-4693-938e-c591cef02621",
   "metadata": {},
   "outputs": [],
   "source": [
    "df.columns"
   ]
  },
  {
   "cell_type": "markdown",
   "id": "01b515dd-1971-435e-a5a6-9fa7ebe4d717",
   "metadata": {},
   "source": [
    "# Saving the file"
   ]
  },
  {
   "cell_type": "code",
   "execution_count": null,
   "id": "c30eddbe-d6bf-4141-bc78-6246cb506b13",
   "metadata": {},
   "outputs": [],
   "source": [
    "df.to_pickle(PROCESSED_FILE_PATH)"
   ]
  }
 ],
 "metadata": {
  "kernelspec": {
   "display_name": "Python 3 (ipykernel)",
   "language": "python",
   "name": "python3"
  },
  "language_info": {
   "codemirror_mode": {
    "name": "ipython",
    "version": 3
   },
   "file_extension": ".py",
   "mimetype": "text/x-python",
   "name": "python",
   "nbconvert_exporter": "python",
   "pygments_lexer": "ipython3",
   "version": "3.12.11"
  },
  "widgets": {
   "application/vnd.jupyter.widget-state+json": {
    "state": {},
    "version_major": 2,
    "version_minor": 0
   }
  }
 },
 "nbformat": 4,
 "nbformat_minor": 5
}
