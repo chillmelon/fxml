{
 "cells": [
  {
   "cell_type": "code",
   "execution_count": 104,
   "id": "1fda3dad-26ca-4bc9-8a9b-6bc84a7001d6",
   "metadata": {},
   "outputs": [
    {
     "name": "stdout",
     "output_type": "stream",
     "text": [
      "The autoreload extension is already loaded. To reload it, use:\n",
      "  %reload_ext autoreload\n"
     ]
    }
   ],
   "source": [
    "import sys\n",
    "sys.path.append(\"..\")\n",
    "\n",
    "# Reload modules in /src/ when changed\n",
    "%load_ext autoreload\n",
    "%autoreload 2\n",
    "\n",
    "import pandas as pd\n",
    "import numpy as np\n",
    "import matplotlib.pyplot as plt\n",
    "# plt.rcParams[\"figure.figsize\"] = (12, 2)\n",
    "import seaborn as sns\n",
    "sns.set(style=\"ticks\", palette=\"tab10\")"
   ]
  },
  {
   "cell_type": "code",
   "execution_count": 105,
   "id": "048683f0-d017-419b-b453-f642a3de44c8",
   "metadata": {},
   "outputs": [],
   "source": [
    "from fxml.data.datamodules.multistep_regr_datamodule import MultiStepRegrDataModule\n",
    "from fxml.models.t2v_transformer_regr.model import T2VTransformerRegressorModule\n",
    "from fxml.data.normalize_data import denorm\n",
    "\n",
    "import joblib\n",
    "from pathlib import Path\n",
    "from numpy.lib.stride_tricks import sliding_window_view\n",
    "import torch"
   ]
  },
  {
   "cell_type": "code",
   "execution_count": 106,
   "id": "708410d0-f910-4414-b48f-45064a391970",
   "metadata": {
    "scrolled": true
   },
   "outputs": [
    {
     "name": "stdout",
     "output_type": "stream",
     "text": [
      "data:\n",
      "  train_path: data/processed/USDJPY-15m-20210101-20231231_FEATURES_NORM.pkl\n",
      "  test_path: data/processed/USDJPY-15m-20240101-20241231_FEATURES_NORM.pkl\n",
      "  time_features:\n",
      "  - open\n",
      "  - high\n",
      "  - low\n",
      "  - close\n",
      "  features:\n",
      "  - volume\n",
      "  - close_log_fd_return\n",
      "  - close_log_return\n",
      "  - EMA_5\n",
      "  - EMA_9\n",
      "  - EMA_20\n",
      "  - EMA_24\n",
      "  - EMA_36\n",
      "  - EMA_50\n",
      "  - EMA_100\n",
      "  - EMA_5_slope\n",
      "  - EMA_9_slope\n",
      "  - EMA_20_slope\n",
      "  - EMA_24_slope\n",
      "  - EMA_36_slope\n",
      "  - EMA_50_slope\n",
      "  - EMA_100_slope\n",
      "  - ATRr_14\n",
      "  - ATRr_60\n",
      "  - ATRr_120\n",
      "  - RSI_14\n",
      "  target:\n",
      "  - close\n",
      "  lookback: 60\n",
      "  lookforward: 5\n",
      "model:\n",
      "  name: t2v_transformer_regr\n",
      "  kernel_size: 2\n",
      "  d_model: 128\n",
      "  nhead: 4\n",
      "  n_layers: 2\n",
      "  dim_feedforward: 512\n",
      "  dropout: 0.2\n",
      "  pool: cls\n",
      "  lr: 0.0003\n",
      "  use_positional_encoding: true\n",
      "training:\n",
      "  batch_size: 1024\n",
      "  num_epochs: 100\n",
      "  num_workers: 0\n",
      "  val_split: 0.5\n",
      "  shuffle: true\n",
      "\n",
      "data:\n",
      "  train_data_path: data/processed/USDJPY-15m-20210101-20231231_FEATURES.pkl\n",
      "  test_data_path: data/processed/USDJPY-15m-20240101-20241231_FEATURES.pkl\n",
      "minutes:\n",
      "- 15\n",
      "date:\n",
      "- from: 20210101\n",
      "  to: 20231231\n",
      "- from: 20240101\n",
      "  to: 20241231\n",
      "symbol:\n",
      "  raw_path: data/raw/usdjpy-tick-2021-01-01-2024-12-31.csv\n",
      "  symbol: USDJPY\n",
      "features:\n",
      "  returns:\n",
      "    price_cols:\n",
      "    - close\n",
      "    d_value: 0.5\n",
      "  technical_indicators:\n",
      "    rv_windows:\n",
      "    - 5\n",
      "    - 15\n",
      "    - 50\n",
      "    ema_windows:\n",
      "    - 5\n",
      "    - 9\n",
      "    - 20\n",
      "    - 24\n",
      "    - 36\n",
      "    - 50\n",
      "    - 100\n",
      "    atr_windows:\n",
      "    - 14\n",
      "    - 60\n",
      "    - 120\n",
      "    adx_windows:\n",
      "    - 14\n",
      "    rsi_windows:\n",
      "    - 14\n",
      "    - 25\n",
      "    - 50\n",
      "    bb_windows:\n",
      "    - 5\n",
      "    - 10\n",
      "    - 15\n",
      "    - 20\n",
      "    macd:\n",
      "    - fast: 8\n",
      "      slow: 17\n",
      "      signal: 9\n",
      "    - fast: 12\n",
      "      slow: 26\n",
      "      signal: 9\n",
      "scaler:\n",
      "  open:\n",
      "    type: minmax\n",
      "  high:\n",
      "    type: minmax\n",
      "  low:\n",
      "    type: minmax\n",
      "  close:\n",
      "    type: minmax\n",
      "  volume:\n",
      "    type: robust\n",
      "  spread:\n",
      "    type: std\n",
      "  tick:\n",
      "    type: robust\n",
      "  close_pct_return:\n",
      "    type: std\n",
      "  close_return:\n",
      "    type: std\n",
      "  close_log_return:\n",
      "    type: std\n",
      "  close_fd_return:\n",
      "    type: std\n",
      "  close_log_fd_return:\n",
      "    type: std\n",
      "  EMA_5:\n",
      "    type: std\n",
      "  EMA_5_slope:\n",
      "    type: std\n",
      "  EMA_9:\n",
      "    type: std\n",
      "  EMA_9_slope:\n",
      "    type: std\n",
      "  EMA_20:\n",
      "    type: std\n",
      "  EMA_20_slope:\n",
      "    type: std\n",
      "  EMA_24:\n",
      "    type: std\n",
      "  EMA_24_slope:\n",
      "    type: std\n",
      "  EMA_36:\n",
      "    type: std\n",
      "  EMA_36_slope:\n",
      "    type: std\n",
      "  EMA_50:\n",
      "    type: std\n",
      "  EMA_50_slope:\n",
      "    type: std\n",
      "  EMA_100:\n",
      "    type: std\n",
      "  EMA_100_slope:\n",
      "    type: std\n",
      "  ATRr_14:\n",
      "    type: minmax\n",
      "  ATRr_60:\n",
      "    type: minmax\n",
      "  ATRr_120:\n",
      "    type: minmax\n",
      "  ADX_14:\n",
      "    type: minmax\n",
      "  ADXR_14_2:\n",
      "    type: none\n",
      "  DMP_14:\n",
      "    type: none\n",
      "  DMN_14:\n",
      "    type: none\n",
      "  RSI_14:\n",
      "    type: minmax\n",
      "  RSI_25:\n",
      "    type: minmax\n",
      "  RSI_50:\n",
      "    type: minmax\n",
      "  BBL_5_2.0_2.0:\n",
      "    type: none\n",
      "  BBM_5_2.0_2.0:\n",
      "    type: none\n",
      "  BBU_5_2.0_2.0:\n",
      "    type: none\n",
      "  BBB_5_2.0_2.0:\n",
      "    type: std\n",
      "  BBP_5_2.0_2.0:\n",
      "    type: none\n",
      "  BBL_10_2.0_2.0:\n",
      "    type: none\n",
      "  BBM_10_2.0_2.0:\n",
      "    type: none\n",
      "  BBU_10_2.0_2.0:\n",
      "    type: none\n",
      "  BBB_10_2.0_2.0:\n",
      "    type: std\n",
      "  BBP_10_2.0_2.0:\n",
      "    type: none\n",
      "  BBL_15_2.0_2.0:\n",
      "    type: none\n",
      "  BBM_15_2.0_2.0:\n",
      "    type: none\n",
      "  BBU_15_2.0_2.0:\n",
      "    type: none\n",
      "  BBB_15_2.0_2.0:\n",
      "    type: std\n",
      "  BBP_15_2.0_2.0:\n",
      "    type: none\n",
      "  BBL_20_2.0_2.0:\n",
      "    type: none\n",
      "  BBM_20_2.0_2.0:\n",
      "    type: none\n",
      "  BBU_20_2.0_2.0:\n",
      "    type: none\n",
      "  BBB_20_2.0_2.0:\n",
      "    type: std\n",
      "  BBP_20_2.0_2.0:\n",
      "    type: none\n",
      "  MACD_8_17_9:\n",
      "    type: std\n",
      "  MACDh_8_17_9:\n",
      "    type: std\n",
      "  MACDs_8_17_9:\n",
      "    type: std\n",
      "  MACD_12_26_9:\n",
      "    type: std\n",
      "  MACDh_12_26_9:\n",
      "    type: std\n",
      "  MACDs_12_26_9:\n",
      "    type: std\n",
      "  unix_time:\n",
      "    type: none\n",
      "  minute:\n",
      "    type: none\n",
      "  hour:\n",
      "    type: none\n",
      "  dow:\n",
      "    type: none\n",
      "  dom:\n",
      "    type: none\n",
      "  month:\n",
      "    type: none\n",
      "  minute_sin:\n",
      "    type: none\n",
      "  minute_cos:\n",
      "    type: none\n",
      "  hour_sin:\n",
      "    type: none\n",
      "  hour_cos:\n",
      "    type: none\n",
      "  dow_sin:\n",
      "    type: none\n",
      "  dow_cos:\n",
      "    type: none\n",
      "  dom_sin:\n",
      "    type: none\n",
      "  dom_cos:\n",
      "    type: none\n",
      "  month_sin:\n",
      "    type: none\n",
      "  month_cos:\n",
      "    type: none\n",
      "\n"
     ]
    }
   ],
   "source": [
    "from hydra import compose, initialize\n",
    "from omegaconf import OmegaConf\n",
    "\n",
    "# global initialization\n",
    "with initialize(version_base=None, config_path=\"../configs\", job_name=\"test_app\"):\n",
    "    exp_cfg = compose(config_name=\"tune_t2v_xfmr\")\n",
    "    data_cfg = compose(config_name=\"preprocessing\")\n",
    "    print(OmegaConf.to_yaml(exp_cfg))\n",
    "    print(OmegaConf.to_yaml(data_cfg))"
   ]
  },
  {
   "cell_type": "code",
   "execution_count": 107,
   "id": "712ee56c-a501-49e5-b3a4-9caa7a25febd",
   "metadata": {},
   "outputs": [],
   "source": [
    "root_dir = Path('..')\n",
    "data = pd.read_pickle('../data/processed/USDJPY-15m-20240101-20241231_FEATURES.pkl') # original data"
   ]
  },
  {
   "cell_type": "markdown",
   "id": "f2895cfd-7cc4-48c2-ad67-d512e6b7023d",
   "metadata": {},
   "source": [
    "# Normalize features"
   ]
  },
  {
   "cell_type": "code",
   "execution_count": 108,
   "id": "f187c867-8bc9-47e4-adc0-f02235ea67ae",
   "metadata": {},
   "outputs": [],
   "source": [
    "from fxml.data.normalize_data import normalize\n",
    "from fxml.data.datamodules.multistep_regr_datamodule import create_multistep_sequences"
   ]
  },
  {
   "cell_type": "code",
   "execution_count": 109,
   "id": "88dd28c6-ae40-49e5-ae7a-7a00318f9cce",
   "metadata": {},
   "outputs": [],
   "source": [
    "scaler_cfg = data_cfg.scaler\n",
    "norm_df = data.copy()"
   ]
  },
  {
   "cell_type": "code",
   "execution_count": 110,
   "id": "29be52f4-3acd-41a5-aebe-1bd615ce7f11",
   "metadata": {},
   "outputs": [],
   "source": [
    "norm_df = normalize(\n",
    "    data=norm_df,\n",
    "    data_name='USDJPY-15m-20210101-20231231_FEATURES',\n",
    "    scaler_cfg=scaler_cfg,\n",
    "    scaler_dir='../data/processed/scalers'\n",
    ")"
   ]
  },
  {
   "cell_type": "markdown",
   "id": "84b33780-e21e-4de2-a0a1-6f9dbc83db4d",
   "metadata": {},
   "source": [
    "# Create Sequences"
   ]
  },
  {
   "cell_type": "code",
   "execution_count": 111,
   "id": "37840056-c683-416c-a1bf-7413fc817340",
   "metadata": {},
   "outputs": [],
   "source": [
    "lookback = 60\n",
    "lookforward = 5\n",
    "idx = 20000\n",
    "\n",
    "feat_cols = exp_cfg.data.time_features + exp_cfg.data.features "
   ]
  },
  {
   "cell_type": "code",
   "execution_count": 112,
   "id": "f5d2a0ce-ac2d-43e0-9737-b41d3754cc9a",
   "metadata": {},
   "outputs": [],
   "source": [
    "_, target_windows = create_multistep_sequences(\n",
    "    data,\n",
    "    lookback,\n",
    "    lookforward,\n",
    "    feat_cols,\n",
    "    target_col=['close'],\n",
    ")\n",
    "\n",
    "feature_windows, _ = create_multistep_sequences(\n",
    "    norm_df,\n",
    "    lookback,\n",
    "    lookforward,\n",
    "    feat_cols,\n",
    "    target_col=['close'],\n",
    ")"
   ]
  },
  {
   "cell_type": "code",
   "execution_count": 113,
   "id": "661a07ca-132e-44cb-b633-db9b281b22d3",
   "metadata": {},
   "outputs": [
    {
     "name": "stdout",
     "output_type": "stream",
     "text": [
      "(23918, 60, 25) (23918, 5)\n"
     ]
    }
   ],
   "source": [
    "print(feature_windows.shape, target_windows.shape)"
   ]
  },
  {
   "cell_type": "markdown",
   "id": "f685cfc0-87fb-403c-823f-9f6f7e36c99b",
   "metadata": {},
   "source": [
    "## Predict Sequences"
   ]
  },
  {
   "cell_type": "code",
   "execution_count": 114,
   "id": "cd242160-2a8f-48fa-9623-846cf664fd81",
   "metadata": {},
   "outputs": [],
   "source": [
    "X = torch.tensor(feature_windows[idx], dtype=torch.float32)"
   ]
  },
  {
   "cell_type": "code",
   "execution_count": 115,
   "id": "b586ee43-c71a-467b-a165-135e3a659473",
   "metadata": {},
   "outputs": [
    {
     "data": {
      "text/plain": [
       "torch.Size([1, 60, 25])"
      ]
     },
     "execution_count": 115,
     "metadata": {},
     "output_type": "execute_result"
    }
   ],
   "source": [
    "X = X.unsqueeze(0)\n",
    "X.shape"
   ]
  },
  {
   "cell_type": "code",
   "execution_count": 116,
   "id": "f7410414-e794-4f6b-b2a7-3d9b1806160b",
   "metadata": {},
   "outputs": [],
   "source": [
    "model = T2VTransformerRegressorModule.load_from_checkpoint('../lightning_logs/t2v_transformer_regr_USDJPY-15m-20210101-20231231_FEATURES_NORM/version_3/checkpoints/best_checkpoint.ckpt')"
   ]
  },
  {
   "cell_type": "code",
   "execution_count": 117,
   "id": "9b0111ce-ecbf-4641-b23f-49046b2c735a",
   "metadata": {},
   "outputs": [],
   "source": [
    "model = model.to('cpu')"
   ]
  },
  {
   "cell_type": "code",
   "execution_count": 118,
   "id": "b55af59c-494f-42e1-96bf-c5bc77e0c9c4",
   "metadata": {},
   "outputs": [
    {
     "data": {
      "text/plain": [
       "(5, 1)"
      ]
     },
     "execution_count": 118,
     "metadata": {},
     "output_type": "execute_result"
    }
   ],
   "source": [
    "with torch.no_grad():\n",
    "    model.eval()\n",
    "    pred = model(X).numpy().reshape(-1, 1)\n",
    "\n",
    "pred.shape"
   ]
  },
  {
   "cell_type": "markdown",
   "id": "d02c30ed-e17e-4ef6-be0b-9faf53e33422",
   "metadata": {},
   "source": [
    "# De-Normalize Prediction"
   ]
  },
  {
   "cell_type": "code",
   "execution_count": 119,
   "id": "9edb6aad-fe1b-4c4d-bc0b-7feb993a4890",
   "metadata": {},
   "outputs": [],
   "source": [
    "scaler = joblib.load('../data/processed/scalers/USDJPY-15m-20210101-20231231_FEATURES/close_std.pkl')"
   ]
  },
  {
   "cell_type": "code",
   "execution_count": 120,
   "id": "6f53fbca-c7e5-477d-bd90-5d7352829424",
   "metadata": {},
   "outputs": [],
   "source": [
    "y_true = target_windows[idx]"
   ]
  },
  {
   "cell_type": "code",
   "execution_count": 121,
   "id": "94aa46e4-228f-441d-9de2-686f97269370",
   "metadata": {},
   "outputs": [
    {
     "data": {
      "text/plain": [
       "array([142.64977, 142.75356, 142.6453 , 142.74011, 142.6802 ],\n",
       "      dtype=float32)"
      ]
     },
     "execution_count": 121,
     "metadata": {},
     "output_type": "execute_result"
    }
   ],
   "source": [
    "y_pred = scaler.inverse_transform(pred).squeeze()\n",
    "y_pred"
   ]
  },
  {
   "cell_type": "code",
   "execution_count": 122,
   "id": "b40557d9-2c5e-4e65-8043-2b8efe2eac99",
   "metadata": {},
   "outputs": [
    {
     "name": "stdout",
     "output_type": "stream",
     "text": [
      "[152.69   151.9265 152.0385 152.0325 152.2555]\n"
     ]
    }
   ],
   "source": [
    "print(y_true)"
   ]
  },
  {
   "cell_type": "code",
   "execution_count": 123,
   "id": "d8264c94-4cbf-402f-9f0b-6495a6296160",
   "metadata": {},
   "outputs": [
    {
     "data": {
      "image/png": "[encoded data removed]",
      "text/plain": [
       "<Figure size 1200x500 with 1 Axes>"
      ]
     },
     "metadata": {},
     "output_type": "display_data"
    }
   ],
   "source": [
    "import matplotlib.pyplot as plt\n",
    "import numpy as np\n",
    "\n",
    "\n",
    "\n",
    "past = data['close'][idx - lookback : idx]                       # 模型預測（長度同 lookforward）\n",
    "\n",
    "plt.figure(figsize=(12,5))\n",
    "plt.plot(range(-lookback, 0), past, label=\"Past Data\", color=\"gray\")\n",
    "plt.plot(range(0, lookforward), y_true, label=\"Ground Truth\", color=\"lime\")\n",
    "plt.plot(range(0, lookforward), y_pred, label=\"Prediction\", color=\"orange\", linestyle=\"--\")\n",
    "\n",
    "plt.axvline(0, color=\"white\", linestyle=\":\")\n",
    "plt.title(f\"Forecast Visualization (sample #{idx})\")\n",
    "plt.xlabel(\"Time steps (relative)\")\n",
    "plt.ylabel(\"Close price\")\n",
    "plt.legend()\n",
    "plt.grid(True, alpha=0.3)\n",
    "plt.show()\n"
   ]
  }
 ],
 "metadata": {
  "kernelspec": {
   "display_name": "Python 3 (ipykernel)",
   "language": "python",
   "name": "python3"
  },
  "language_info": {
   "codemirror_mode": {
    "name": "ipython",
    "version": 3
   },
   "file_extension": ".py",
   "mimetype": "text/x-python",
   "name": "python",
   "nbconvert_exporter": "python",
   "pygments_lexer": "ipython3",
   "version": "3.12.11"
  }
 },
 "nbformat": 4,
 "nbformat_minor": 5
}
