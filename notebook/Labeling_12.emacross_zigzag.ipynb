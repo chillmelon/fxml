{
 "cells": [
  {
   "cell_type": "code",
   "execution_count": 1,
   "id": "b22522c2-3ce9-432c-a370-236223a0c331",
   "metadata": {},
   "outputs": [],
   "source": [
    "import pandas as pd\n",
    "import numpy as np\n",
    "import matplotlib.pyplot as plt\n",
    "from matplotlib.ticker import FormatStrFormatter\n",
    "\n",
    "import os"
   ]
  },
  {
   "cell_type": "code",
   "execution_count": 2,
   "id": "3a5953ea-b758-4f32-a593-951b2142a1fb",
   "metadata": {},
   "outputs": [],
   "source": [
    "from pathlib import Path\n",
    "\n",
    "# Configurable parts\n",
    "SYMBOL = \"USDJPY\"\n",
    "SAMPLE_TYPE = \"time\"\n",
    "MINUTES = 15\n",
    "\n",
    "START_DATE = \"20240101\"\n",
    "END_DATE = \"20241231\"\n",
    "\n",
    "# Build base name\n",
    "RESAMPLED_NAME = f\"{SYMBOL}-{MINUTES}m-{START_DATE}-{END_DATE}\"\n",
    "\n",
    "# Base directories\n",
    "BASE_DIR = Path(\"../data\")\n",
    "RESAMPLED_DIR = BASE_DIR / \"resampled\"\n",
    "PROCESSED_DIR = BASE_DIR / \"processed\"\n",
    "EVENTS_DIR = BASE_DIR / \"events\"\n",
    "\n",
    "# Final paths\n",
    "RESAMPLED_FILE_PATH = RESAMPLED_DIR / f\"{RESAMPLED_NAME}.pkl\"\n",
    "PROCESSED_FILE_PATH = PROCESSED_DIR / f\"{RESAMPLED_NAME}_processed.pkl\""
   ]
  },
  {
   "cell_type": "markdown",
   "id": "3aaf09ec-365d-4f18-9b7a-2e902db85008",
   "metadata": {},
   "source": [
    "## Load Data"
   ]
  },
  {
   "cell_type": "code",
   "execution_count": 3,
   "id": "3326c3fe-adce-4e2c-9993-676263db90f1",
   "metadata": {},
   "outputs": [],
   "source": [
    "df = pd.read_pickle(PROCESSED_FILE_PATH)"
   ]
  },
  {
   "cell_type": "code",
   "execution_count": 4,
   "id": "09f4dbd8-e1be-40b6-bec3-227577da1f5f",
   "metadata": {},
   "outputs": [],
   "source": [
    "FAST = 8\n",
    "SLOW = 34\n",
    "EMACROSS_EVENT_PATH = EVENTS_DIR / f\"{RESAMPLED_NAME}_EMA_CROSS_{FAST}_{SLOW}.pkl\""
   ]
  },
  {
   "cell_type": "code",
   "execution_count": 5,
   "id": "b5517386-43ab-40b4-9666-9829426fb7c4",
   "metadata": {},
   "outputs": [],
   "source": [
    "ema_cross_events = pd.read_pickle(EMACROSS_EVENT_PATH)"
   ]
  },
  {
   "cell_type": "code",
   "execution_count": 6,
   "id": "80e55039-aca3-4c2b-b33b-48a91b434ed3",
   "metadata": {},
   "outputs": [],
   "source": [
    "LEGS = 5\n",
    "THRESHOLD = .1\n",
    "ZIGZAG_EVENT_PATH = EVENTS_DIR / f\"{RESAMPLED_NAME}_ZIGZAGs_{THRESHOLD}%_{LEGS}.pkl\""
   ]
  },
  {
   "cell_type": "code",
   "execution_count": 7,
   "id": "69a3394f-b6e9-48a2-a9e9-e73f18b3b953",
   "metadata": {},
   "outputs": [],
   "source": [
    "zigzag_events = pd.read_pickle(ZIGZAG_EVENT_PATH)"
   ]
  },
  {
   "cell_type": "code",
   "execution_count": 8,
   "id": "4bcb0d16-48c6-4f65-ba49-795ffd771f69",
   "metadata": {},
   "outputs": [
    {
     "data": {
      "text/html": [
       "<div>\n",
       "<style scoped>\n",
       "    .dataframe tbody tr th:only-of-type {\n",
       "        vertical-align: middle;\n",
       "    }\n",
       "\n",
       "    .dataframe tbody tr th {\n",
       "        vertical-align: top;\n",
       "    }\n",
       "\n",
       "    .dataframe thead th {\n",
       "        text-align: right;\n",
       "    }\n",
       "</style>\n",
       "<table border=\"1\" class=\"dataframe\">\n",
       "  <thead>\n",
       "    <tr style=\"text-align: right;\">\n",
       "      <th></th>\n",
       "      <th>open</th>\n",
       "      <th>high</th>\n",
       "      <th>low</th>\n",
       "      <th>close</th>\n",
       "      <th>volume</th>\n",
       "      <th>spread</th>\n",
       "      <th>return</th>\n",
       "      <th>log_return</th>\n",
       "      <th>fd_return</th>\n",
       "      <th>log_fd_return</th>\n",
       "    </tr>\n",
       "    <tr>\n",
       "      <th>timestamp</th>\n",
       "      <th></th>\n",
       "      <th></th>\n",
       "      <th></th>\n",
       "      <th></th>\n",
       "      <th></th>\n",
       "      <th></th>\n",
       "      <th></th>\n",
       "      <th></th>\n",
       "      <th></th>\n",
       "      <th></th>\n",
       "    </tr>\n",
       "  </thead>\n",
       "  <tbody>\n",
       "    <tr>\n",
       "      <th>2024-02-18 23:00:00</th>\n",
       "      <td>1.077570</td>\n",
       "      <td>1.078030</td>\n",
       "      <td>1.077555</td>\n",
       "      <td>1.078015</td>\n",
       "      <td>1.784510e+12</td>\n",
       "      <td>0.000069</td>\n",
       "      <td>0.000435</td>\n",
       "      <td>0.000404</td>\n",
       "      <td>0.167941</td>\n",
       "      <td>0.011969</td>\n",
       "    </tr>\n",
       "    <tr>\n",
       "      <th>2024-02-18 23:15:00</th>\n",
       "      <td>1.078010</td>\n",
       "      <td>1.078175</td>\n",
       "      <td>1.077955</td>\n",
       "      <td>1.078170</td>\n",
       "      <td>9.272000e+11</td>\n",
       "      <td>0.000032</td>\n",
       "      <td>0.000155</td>\n",
       "      <td>0.000144</td>\n",
       "      <td>0.168000</td>\n",
       "      <td>0.012025</td>\n",
       "    </tr>\n",
       "    <tr>\n",
       "      <th>2024-02-18 23:30:00</th>\n",
       "      <td>1.078155</td>\n",
       "      <td>1.078230</td>\n",
       "      <td>1.078055</td>\n",
       "      <td>1.078230</td>\n",
       "      <td>1.681190e+12</td>\n",
       "      <td>0.000031</td>\n",
       "      <td>0.000060</td>\n",
       "      <td>0.000056</td>\n",
       "      <td>0.167989</td>\n",
       "      <td>0.012014</td>\n",
       "    </tr>\n",
       "    <tr>\n",
       "      <th>2024-02-18 23:45:00</th>\n",
       "      <td>1.078225</td>\n",
       "      <td>1.078515</td>\n",
       "      <td>1.078195</td>\n",
       "      <td>1.078415</td>\n",
       "      <td>1.629270e+12</td>\n",
       "      <td>0.000030</td>\n",
       "      <td>0.000185</td>\n",
       "      <td>0.000172</td>\n",
       "      <td>0.168124</td>\n",
       "      <td>0.012139</td>\n",
       "    </tr>\n",
       "    <tr>\n",
       "      <th>2024-02-19 00:00:00</th>\n",
       "      <td>1.078395</td>\n",
       "      <td>1.078780</td>\n",
       "      <td>1.078380</td>\n",
       "      <td>1.078775</td>\n",
       "      <td>2.773220e+12</td>\n",
       "      <td>0.000030</td>\n",
       "      <td>0.000360</td>\n",
       "      <td>0.000334</td>\n",
       "      <td>0.168415</td>\n",
       "      <td>0.012409</td>\n",
       "    </tr>\n",
       "  </tbody>\n",
       "</table>\n",
       "</div>"
      ],
      "text/plain": [
       "                         open      high       low     close        volume  \\\n",
       "timestamp                                                                   \n",
       "2024-02-18 23:00:00  1.077570  1.078030  1.077555  1.078015  1.784510e+12   \n",
       "2024-02-18 23:15:00  1.078010  1.078175  1.077955  1.078170  9.272000e+11   \n",
       "2024-02-18 23:30:00  1.078155  1.078230  1.078055  1.078230  1.681190e+12   \n",
       "2024-02-18 23:45:00  1.078225  1.078515  1.078195  1.078415  1.629270e+12   \n",
       "2024-02-19 00:00:00  1.078395  1.078780  1.078380  1.078775  2.773220e+12   \n",
       "\n",
       "                       spread    return  log_return  fd_return  log_fd_return  \n",
       "timestamp                                                                      \n",
       "2024-02-18 23:00:00  0.000069  0.000435    0.000404   0.167941       0.011969  \n",
       "2024-02-18 23:15:00  0.000032  0.000155    0.000144   0.168000       0.012025  \n",
       "2024-02-18 23:30:00  0.000031  0.000060    0.000056   0.167989       0.012014  \n",
       "2024-02-18 23:45:00  0.000030  0.000185    0.000172   0.168124       0.012139  \n",
       "2024-02-19 00:00:00  0.000030  0.000360    0.000334   0.168415       0.012409  "
      ]
     },
     "execution_count": 8,
     "metadata": {},
     "output_type": "execute_result"
    }
   ],
   "source": [
    "df.head()"
   ]
  },
  {
   "cell_type": "code",
   "execution_count": 9,
   "id": "62170e9c-6dca-46ec-9e9d-80f4596fbc86",
   "metadata": {},
   "outputs": [
    {
     "data": {
      "text/plain": [
       "timestamp\n",
       "2024-02-19 07:15:00   2024-02-19 07:15:00\n",
       "2024-02-19 09:00:00   2024-02-19 09:00:00\n",
       "2024-02-19 18:00:00   2024-02-19 18:00:00\n",
       "2024-02-20 00:00:00   2024-02-20 00:00:00\n",
       "2024-02-20 07:00:00   2024-02-20 07:00:00\n",
       "                              ...        \n",
       "2024-12-30 06:15:00   2024-12-30 06:15:00\n",
       "2024-12-30 08:00:00   2024-12-30 08:00:00\n",
       "2024-12-30 10:00:00   2024-12-30 10:00:00\n",
       "2024-12-30 13:45:00   2024-12-30 13:45:00\n",
       "2024-12-30 23:45:00   2024-12-30 23:45:00\n",
       "Name: timestamp, Length: 813, dtype: datetime64[ns]"
      ]
     },
     "execution_count": 9,
     "metadata": {},
     "output_type": "execute_result"
    }
   ],
   "source": [
    "ema_cross_events"
   ]
  },
  {
   "cell_type": "code",
   "execution_count": 10,
   "id": "3c801856-3747-464b-b90b-d07774e56999",
   "metadata": {},
   "outputs": [
    {
     "data": {
      "text/plain": [
       "timestamp\n",
       "2024-02-19 00:30:00   2024-02-19 00:30:00\n",
       "2024-02-19 07:15:00   2024-02-19 07:15:00\n",
       "2024-02-19 18:15:00   2024-02-19 18:15:00\n",
       "2024-02-20 10:30:00   2024-02-20 10:30:00\n",
       "2024-02-20 14:30:00   2024-02-20 14:30:00\n",
       "                              ...        \n",
       "2024-12-30 12:00:00   2024-12-30 12:00:00\n",
       "2024-12-30 13:00:00   2024-12-30 13:00:00\n",
       "2024-12-30 14:45:00   2024-12-30 14:45:00\n",
       "2024-12-30 18:45:00   2024-12-30 18:45:00\n",
       "2024-12-30 23:00:00   2024-12-30 23:00:00\n",
       "Name: timestamp, Length: 927, dtype: datetime64[ns]"
      ]
     },
     "execution_count": 10,
     "metadata": {},
     "output_type": "execute_result"
    }
   ],
   "source": [
    "zigzag_events"
   ]
  },
  {
   "cell_type": "markdown",
   "id": "04293e07-17ad-408c-b589-dad89a6d6a72",
   "metadata": {},
   "source": [
    "## Locate ZigZag prices"
   ]
  },
  {
   "cell_type": "code",
   "execution_count": 11,
   "id": "669c99eb-b436-4e16-8d7f-ff18c718f7c6",
   "metadata": {},
   "outputs": [],
   "source": [
    "df['next_zigzag'] = df['close'].loc[zigzag_events]"
   ]
  },
  {
   "cell_type": "code",
   "execution_count": 12,
   "id": "4b0aedbe-d09b-436c-85ae-4566fa76edbf",
   "metadata": {
    "scrolled": true
   },
   "outputs": [
    {
     "data": {
      "text/plain": [
       "timestamp\n",
       "2024-02-18 23:00:00        NaN\n",
       "2024-02-18 23:15:00        NaN\n",
       "2024-02-18 23:30:00        NaN\n",
       "2024-02-18 23:45:00        NaN\n",
       "2024-02-19 00:00:00        NaN\n",
       "                        ...   \n",
       "2024-12-30 22:45:00        NaN\n",
       "2024-12-30 23:00:00    1.04013\n",
       "2024-12-30 23:15:00        NaN\n",
       "2024-12-30 23:30:00        NaN\n",
       "2024-12-30 23:45:00        NaN\n",
       "Name: next_zigzag, Length: 21642, dtype: float64"
      ]
     },
     "execution_count": 12,
     "metadata": {},
     "output_type": "execute_result"
    }
   ],
   "source": [
    "df['next_zigzag']"
   ]
  },
  {
   "cell_type": "markdown",
   "id": "ae2a1624-b4e6-4a40-a521-6afb8a4cbbde",
   "metadata": {},
   "source": [
    "We've find the price at each zigzag point, and filled into **next_zigzag** column.\n",
    "\n",
    "Now we need to backfill price, so the price at each timestamp represents the next zigzag price"
   ]
  },
  {
   "cell_type": "code",
   "execution_count": 13,
   "id": "2f9951d2-b2eb-45cd-ab29-214f2e942506",
   "metadata": {},
   "outputs": [],
   "source": [
    "df['next_zigzag'].bfill(inplace=True)"
   ]
  },
  {
   "cell_type": "markdown",
   "id": "6734cc0a-ea44-4edf-b26e-b83d2dec4202",
   "metadata": {},
   "source": [
    "## Labeling for regression task"
   ]
  },
  {
   "cell_type": "markdown",
   "id": "88f04df7-c97f-464b-a522-24607478f6a0",
   "metadata": {},
   "source": [
    "We can use next ZigZag price as a target to train regressor models to predict where the price might go."
   ]
  },
  {
   "cell_type": "code",
   "execution_count": 14,
   "id": "94455658-f4e2-4f91-b63d-efb39ab4a941",
   "metadata": {},
   "outputs": [],
   "source": [
    "label = pd.DataFrame(df['next_zigzag'], index=ema_cross_events)"
   ]
  },
  {
   "cell_type": "code",
   "execution_count": 15,
   "id": "29e565f9-5b9f-4664-8450-a8f6ccb608dc",
   "metadata": {},
   "outputs": [],
   "source": [
    "label.dropna(inplace=True)"
   ]
  },
  {
   "cell_type": "markdown",
   "id": "ea313e45-cbc0-48a6-a7f9-8b1858199ff7",
   "metadata": {},
   "source": [
    "## Labeling for classfication task"
   ]
  },
  {
   "cell_type": "code",
   "execution_count": 16,
   "id": "fdfe07ae-29f7-40c8-89cb-0936d0f384e0",
   "metadata": {},
   "outputs": [],
   "source": [
    "label = pd.DataFrame(df[['close', 'next_zigzag']], index=ema_cross_events)"
   ]
  },
  {
   "cell_type": "code",
   "execution_count": 17,
   "id": "2779a0dc-cb30-4bb8-97b3-782025278037",
   "metadata": {},
   "outputs": [
    {
     "data": {
      "text/html": [
       "<div>\n",
       "<style scoped>\n",
       "    .dataframe tbody tr th:only-of-type {\n",
       "        vertical-align: middle;\n",
       "    }\n",
       "\n",
       "    .dataframe tbody tr th {\n",
       "        vertical-align: top;\n",
       "    }\n",
       "\n",
       "    .dataframe thead th {\n",
       "        text-align: right;\n",
       "    }\n",
       "</style>\n",
       "<table border=\"1\" class=\"dataframe\">\n",
       "  <thead>\n",
       "    <tr style=\"text-align: right;\">\n",
       "      <th></th>\n",
       "      <th>close</th>\n",
       "      <th>next_zigzag</th>\n",
       "    </tr>\n",
       "    <tr>\n",
       "      <th>timestamp</th>\n",
       "      <th></th>\n",
       "      <th></th>\n",
       "    </tr>\n",
       "  </thead>\n",
       "  <tbody>\n",
       "    <tr>\n",
       "      <th>2024-02-19 07:15:00</th>\n",
       "      <td>1.078685</td>\n",
       "      <td>1.078685</td>\n",
       "    </tr>\n",
       "    <tr>\n",
       "      <th>2024-02-19 09:00:00</th>\n",
       "      <td>1.077720</td>\n",
       "      <td>1.078060</td>\n",
       "    </tr>\n",
       "    <tr>\n",
       "      <th>2024-02-19 18:00:00</th>\n",
       "      <td>1.077980</td>\n",
       "      <td>1.078060</td>\n",
       "    </tr>\n",
       "    <tr>\n",
       "      <th>2024-02-20 00:00:00</th>\n",
       "      <td>1.077310</td>\n",
       "      <td>1.080525</td>\n",
       "    </tr>\n",
       "    <tr>\n",
       "      <th>2024-02-20 07:00:00</th>\n",
       "      <td>1.077360</td>\n",
       "      <td>1.080525</td>\n",
       "    </tr>\n",
       "    <tr>\n",
       "      <th>...</th>\n",
       "      <td>...</td>\n",
       "      <td>...</td>\n",
       "    </tr>\n",
       "    <tr>\n",
       "      <th>2024-12-30 06:15:00</th>\n",
       "      <td>1.042935</td>\n",
       "      <td>1.042855</td>\n",
       "    </tr>\n",
       "    <tr>\n",
       "      <th>2024-12-30 08:00:00</th>\n",
       "      <td>1.042380</td>\n",
       "      <td>1.045740</td>\n",
       "    </tr>\n",
       "    <tr>\n",
       "      <th>2024-12-30 10:00:00</th>\n",
       "      <td>1.044170</td>\n",
       "      <td>1.045740</td>\n",
       "    </tr>\n",
       "    <tr>\n",
       "      <th>2024-12-30 13:45:00</th>\n",
       "      <td>1.038800</td>\n",
       "      <td>1.040535</td>\n",
       "    </tr>\n",
       "    <tr>\n",
       "      <th>2024-12-30 23:45:00</th>\n",
       "      <td>1.040580</td>\n",
       "      <td>NaN</td>\n",
       "    </tr>\n",
       "  </tbody>\n",
       "</table>\n",
       "<p>813 rows × 2 columns</p>\n",
       "</div>"
      ],
      "text/plain": [
       "                        close  next_zigzag\n",
       "timestamp                                 \n",
       "2024-02-19 07:15:00  1.078685     1.078685\n",
       "2024-02-19 09:00:00  1.077720     1.078060\n",
       "2024-02-19 18:00:00  1.077980     1.078060\n",
       "2024-02-20 00:00:00  1.077310     1.080525\n",
       "2024-02-20 07:00:00  1.077360     1.080525\n",
       "...                       ...          ...\n",
       "2024-12-30 06:15:00  1.042935     1.042855\n",
       "2024-12-30 08:00:00  1.042380     1.045740\n",
       "2024-12-30 10:00:00  1.044170     1.045740\n",
       "2024-12-30 13:45:00  1.038800     1.040535\n",
       "2024-12-30 23:45:00  1.040580          NaN\n",
       "\n",
       "[813 rows x 2 columns]"
      ]
     },
     "execution_count": 17,
     "metadata": {},
     "output_type": "execute_result"
    }
   ],
   "source": [
    "label"
   ]
  },
  {
   "cell_type": "code",
   "execution_count": 18,
   "id": "3bea57a1-aa17-4c81-b2b3-a07574782c73",
   "metadata": {},
   "outputs": [],
   "source": [
    "conditions = [\n",
    "    label['next_zigzag'] < label['close'],  # 跌\n",
    "    label['next_zigzag'] == label['close'],  # 坪\n",
    "    label['next_zigzag'] > label['close']  # 漲\n",
    "]\n",
    "\n",
    "choices = [0, 1, 2]\n",
    "label['class'] = np.select(conditions, choices)"
   ]
  },
  {
   "cell_type": "code",
   "execution_count": 19,
   "id": "92de2d99-8917-4189-a347-4c98f9ef4d3a",
   "metadata": {},
   "outputs": [],
   "source": [
    "label.drop(columns=['close', 'next_zigzag'], inplace=True)"
   ]
  },
  {
   "cell_type": "code",
   "execution_count": 20,
   "id": "a9c31b7b-f6db-4e31-b958-a13b770a6398",
   "metadata": {},
   "outputs": [
    {
     "data": {
      "text/html": [
       "<div>\n",
       "<style scoped>\n",
       "    .dataframe tbody tr th:only-of-type {\n",
       "        vertical-align: middle;\n",
       "    }\n",
       "\n",
       "    .dataframe tbody tr th {\n",
       "        vertical-align: top;\n",
       "    }\n",
       "\n",
       "    .dataframe thead th {\n",
       "        text-align: right;\n",
       "    }\n",
       "</style>\n",
       "<table border=\"1\" class=\"dataframe\">\n",
       "  <thead>\n",
       "    <tr style=\"text-align: right;\">\n",
       "      <th></th>\n",
       "      <th>class</th>\n",
       "    </tr>\n",
       "    <tr>\n",
       "      <th>timestamp</th>\n",
       "      <th></th>\n",
       "    </tr>\n",
       "  </thead>\n",
       "  <tbody>\n",
       "    <tr>\n",
       "      <th>2024-02-19 07:15:00</th>\n",
       "      <td>1</td>\n",
       "    </tr>\n",
       "    <tr>\n",
       "      <th>2024-02-19 09:00:00</th>\n",
       "      <td>2</td>\n",
       "    </tr>\n",
       "    <tr>\n",
       "      <th>2024-02-19 18:00:00</th>\n",
       "      <td>2</td>\n",
       "    </tr>\n",
       "    <tr>\n",
       "      <th>2024-02-20 00:00:00</th>\n",
       "      <td>2</td>\n",
       "    </tr>\n",
       "    <tr>\n",
       "      <th>2024-02-20 07:00:00</th>\n",
       "      <td>2</td>\n",
       "    </tr>\n",
       "    <tr>\n",
       "      <th>...</th>\n",
       "      <td>...</td>\n",
       "    </tr>\n",
       "    <tr>\n",
       "      <th>2024-12-30 06:15:00</th>\n",
       "      <td>0</td>\n",
       "    </tr>\n",
       "    <tr>\n",
       "      <th>2024-12-30 08:00:00</th>\n",
       "      <td>2</td>\n",
       "    </tr>\n",
       "    <tr>\n",
       "      <th>2024-12-30 10:00:00</th>\n",
       "      <td>2</td>\n",
       "    </tr>\n",
       "    <tr>\n",
       "      <th>2024-12-30 13:45:00</th>\n",
       "      <td>2</td>\n",
       "    </tr>\n",
       "    <tr>\n",
       "      <th>2024-12-30 23:45:00</th>\n",
       "      <td>0</td>\n",
       "    </tr>\n",
       "  </tbody>\n",
       "</table>\n",
       "<p>813 rows × 1 columns</p>\n",
       "</div>"
      ],
      "text/plain": [
       "                     class\n",
       "timestamp                 \n",
       "2024-02-19 07:15:00      1\n",
       "2024-02-19 09:00:00      2\n",
       "2024-02-19 18:00:00      2\n",
       "2024-02-20 00:00:00      2\n",
       "2024-02-20 07:00:00      2\n",
       "...                    ...\n",
       "2024-12-30 06:15:00      0\n",
       "2024-12-30 08:00:00      2\n",
       "2024-12-30 10:00:00      2\n",
       "2024-12-30 13:45:00      2\n",
       "2024-12-30 23:45:00      0\n",
       "\n",
       "[813 rows x 1 columns]"
      ]
     },
     "execution_count": 20,
     "metadata": {},
     "output_type": "execute_result"
    }
   ],
   "source": [
    "label"
   ]
  },
  {
   "cell_type": "code",
   "execution_count": 21,
   "id": "ac65798e-49d4-4a7d-a052-e825d757aa5d",
   "metadata": {},
   "outputs": [
    {
     "data": {
      "text/plain": [
       "class\n",
       "2        569\n",
       "0        196\n",
       "1         48\n",
       "Name: count, dtype: int64"
      ]
     },
     "execution_count": 21,
     "metadata": {},
     "output_type": "execute_result"
    }
   ],
   "source": [
    "label.value_counts()"
   ]
  }
 ],
 "metadata": {
  "kernelspec": {
   "display_name": "Python 3 (ipykernel)",
   "language": "python",
   "name": "python3"
  },
  "language_info": {
   "codemirror_mode": {
    "name": "ipython",
    "version": 3
   },
   "file_extension": ".py",
   "mimetype": "text/x-python",
   "name": "python",
   "nbconvert_exporter": "python",
   "pygments_lexer": "ipython3",
   "version": "3.12.11"
  }
 },
 "nbformat": 4,
 "nbformat_minor": 5
}
