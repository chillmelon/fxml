{
 "cells": [
  {
   "cell_type": "code",
   "execution_count": 2,
   "id": "178f3e04-07b4-4131-affa-64fde8c27ef1",
   "metadata": {},
   "outputs": [],
   "source": [
    "import torch\n",
    "import pandas as pd\n",
    "import numpy as np\n",
    "import lightning as L"
   ]
  },
  {
   "cell_type": "markdown",
   "id": "4bd652e3-ebaf-412c-af38-f49020d8eb25",
   "metadata": {},
   "source": [
    "## Data Module"
   ]
  },
  {
   "cell_type": "code",
   "execution_count": 3,
   "id": "f39f3f72-41cc-41bc-8367-e552719897ff",
   "metadata": {},
   "outputs": [
    {
     "ename": "ModuleNotFoundError",
     "evalue": "No module named 'dataset'",
     "output_type": "error",
     "traceback": [
      "\u001b[31m---------------------------------------------------------------------------\u001b[39m",
      "\u001b[31mModuleNotFoundError\u001b[39m                       Traceback (most recent call last)",
      "\u001b[36mCell\u001b[39m\u001b[36m \u001b[39m\u001b[32mIn[3]\u001b[39m\u001b[32m, line 9\u001b[39m\n\u001b[32m      6\u001b[39m \u001b[38;5;28;01mimport\u001b[39;00m\u001b[38;5;250m \u001b[39m\u001b[34;01mjoblib\u001b[39;00m\n\u001b[32m      7\u001b[39m \u001b[38;5;28;01mfrom\u001b[39;00m\u001b[38;5;250m \u001b[39m\u001b[34;01msklearn\u001b[39;00m\u001b[34;01m.\u001b[39;00m\u001b[34;01mpreprocessing\u001b[39;00m\u001b[38;5;250m \u001b[39m\u001b[38;5;28;01mimport\u001b[39;00m StandardScaler\n\u001b[32m----> \u001b[39m\u001b[32m9\u001b[39m \u001b[38;5;28;01mfrom\u001b[39;00m\u001b[38;5;250m \u001b[39m\u001b[34;01mdataset\u001b[39;00m\u001b[34;01m.\u001b[39;00m\u001b[34;01mforex_clas_dataset\u001b[39;00m\u001b[38;5;250m \u001b[39m\u001b[38;5;28;01mimport\u001b[39;00m ForexClassificationDataset\n\u001b[32m     10\u001b[39m \u001b[38;5;28;01mfrom\u001b[39;00m\u001b[38;5;250m \u001b[39m\u001b[34;01mdataset\u001b[39;00m\u001b[34;01m.\u001b[39;00m\u001b[34;01mforex_regr_dataset\u001b[39;00m\u001b[38;5;250m \u001b[39m\u001b[38;5;28;01mimport\u001b[39;00m ForexRegressionDataset\n\u001b[32m     11\u001b[39m \u001b[38;5;28;01mfrom\u001b[39;00m\u001b[38;5;250m \u001b[39m\u001b[34;01mdataset\u001b[39;00m\u001b[34;01m.\u001b[39;00m\u001b[34;01msplitter\u001b[39;00m\u001b[38;5;250m \u001b[39m\u001b[38;5;28;01mimport\u001b[39;00m Splitter\n",
      "\u001b[31mModuleNotFoundError\u001b[39m: No module named 'dataset'"
     ]
    }
   ],
   "source": [
    "from os import cpu_count\n",
    "import pandas as pd\n",
    "import torch\n",
    "from torch.utils.data import DataLoader, Subset\n",
    "import lightning as L\n",
    "import joblib\n",
    "from sklearn.preprocessing import StandardScaler\n",
    "\n",
    "from dataset.forex_clas_dataset import ForexClassificationDataset\n",
    "from dataset.forex_regr_dataset import ForexRegressionDataset\n",
    "from dataset.splitter import Splitter\n",
    "\n",
    "\n",
    "class ForexRegressionDataModule(L.LightningDataModule):\n",
    "    def __init__(\n",
    "        self,\n",
    "        data_path: str,\n",
    "        sequence_length: int = 30,\n",
    "        target: str = \"label\",\n",
    "        features: list = [\"close_return\"],\n",
    "        target_horizon: int = 1,\n",
    "        batch_size: int = 64,\n",
    "        split_method = None,\n",
    "        val_split: float = 0.2,\n",
    "        num_workers: int = 0,\n",
    "    ):\n",
    "        super().__init__()\n",
    "        self.data_path = data_path\n",
    "        self.sequence_length = sequence_length\n",
    "        self.target = target\n",
    "        self.features = features\n",
    "        self.target_horizon = target_horizon\n",
    "        self.batch_size = batch_size\n",
    "        self.val_split = val_split\n",
    "        self.split_method = split_method\n",
    "        self.num_workers = num_workers\n",
    "        self.persistent_workers = (True if num_workers > 0 else False)\n",
    "        self.save_hyperparameters()\n",
    "\n",
    "    def prepare_data(self):\n",
    "        self.df = pd.read_pickle(self.data_path)\n",
    "\n",
    "    def setup(self, stage=None):\n",
    "        # Now create dataset\n",
    "        dataset = ForexRegressionDataset(\n",
    "            data=self.df,\n",
    "            sequence_length=self.sequence_length,\n",
    "            horizon=self.target_horizon,\n",
    "            features=self.features,\n",
    "            target=self.target,\n",
    "            group_col='time_group'\n",
    "        )\n",
    "\n",
    "        IDs = dataset.IDs\n",
    "\n",
    "        splitter = Splitter(\n",
    "            df=dataset.data,\n",
    "            IDs=IDs,\n",
    "            sequence_length=self.sequence_length,\n",
    "            horizon=self.target_horizon,\n",
    "            target_col=self.target,\n",
    "            method=self.split_method,\n",
    "            test_size=self.val_split,\n",
    "            random_state=42\n",
    "        )\n",
    "        train_indices, val_indices = splitter.split()\n",
    "\n",
    "        self.train_dataset = Subset(dataset, train_indices)\n",
    "        self.val_dataset = Subset(dataset, val_indices)\n",
    "\n",
    "\n",
    "    def train_dataloader(self):\n",
    "        return DataLoader(\n",
    "            self.train_dataset,\n",
    "            batch_size=self.batch_size,\n",
    "            num_workers=self.num_workers,\n",
    "            persistent_workers=self.persistent_workers,\n",
    "            pin_memory=True,\n",
    "            shuffle=True\n",
    "        )\n",
    "\n",
    "    def val_dataloader(self):\n",
    "        return DataLoader(\n",
    "            self.val_dataset,\n",
    "            batch_size=self.batch_size,\n",
    "            num_workers=self.num_workers,\n",
    "            persistent_workers=self.persistent_workers,\n",
    "            pin_memory=True,\n",
    "            shuffle=False\n",
    "        )\n",
    "\n",
    "    def test_dataloader(self):\n",
    "        return DataLoader(\n",
    "            self.val_dataset,\n",
    "            batch_size=self.batch_size,\n",
    "            num_workers=self.num_workers,\n",
    "            persistent_workers=self.persistent_workers,\n",
    "            pin_memory=True,\n",
    "            shuffle=False\n",
    "        )\n"
   ]
  }
 ],
 "metadata": {
  "kernelspec": {
   "display_name": "Python 3 (ipykernel)",
   "language": "python",
   "name": "python3"
  },
  "language_info": {
   "codemirror_mode": {
    "name": "ipython",
    "version": 3
   },
   "file_extension": ".py",
   "mimetype": "text/x-python",
   "name": "python",
   "nbconvert_exporter": "python",
   "pygments_lexer": "ipython3",
   "version": "3.11.12"
  },
  "widgets": {
   "application/vnd.jupyter.widget-state+json": {
    "state": {},
    "version_major": 2,
    "version_minor": 0
   }
  }
 },
 "nbformat": 4,
 "nbformat_minor": 5
}
