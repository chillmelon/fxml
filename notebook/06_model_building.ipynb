{
 "cells": [
  {
   "cell_type": "code",
   "execution_count": 1,
   "id": "6dd9993c-0ca7-47b6-a0b4-c045bb19421e",
   "metadata": {},
   "outputs": [],
   "source": [
    "import os\n",
    "import sys\n",
    "module_path = os.path.abspath(os.path.join('..'))\n",
    "if module_path not in sys.path:\n",
    "    sys.path.append(module_path)"
   ]
  },
  {
   "cell_type": "code",
   "execution_count": 2,
   "id": "178f3e04-07b4-4131-affa-64fde8c27ef1",
   "metadata": {},
   "outputs": [],
   "source": [
    "import torch\n",
    "import pandas as pd\n",
    "import numpy as np\n",
    "import lightning as L"
   ]
  },
  {
   "cell_type": "markdown",
   "id": "4bd652e3-ebaf-412c-af38-f49020d8eb25",
   "metadata": {},
   "source": [
    "## Data Module"
   ]
  },
  {
   "cell_type": "code",
   "execution_count": 3,
   "id": "f39f3f72-41cc-41bc-8367-e552719897ff",
   "metadata": {},
   "outputs": [],
   "source": [
    "from torch.utils.data import DataLoader, Subset\n",
    "from sklearn.model_selection import train_test_split\n",
    "\n",
    "from dataset.dataset import ForexDataset\n",
    "\n",
    "class ForexDataModule(L.LightningDataModule):\n",
    "    def __init__(\n",
    "        self,\n",
    "        data,\n",
    "        IDs: list,\n",
    "        sequence_length: int,\n",
    "        horizon: int,\n",
    "        features: list,\n",
    "        target: list,\n",
    "        batch_size: int = 64,\n",
    "        num_workers: int = 0,\n",
    "        val_split: float = 0.2,\n",
    "        shuffle: bool = True,\n",
    "        random_state: int = 42\n",
    "    ):\n",
    "        super().__init__()\n",
    "        self.data = data\n",
    "        self.IDs = IDs\n",
    "        self.sequence_length = sequence_length\n",
    "        self.horizon = horizon\n",
    "        self.features = features\n",
    "        self.target = target\n",
    "        self.batch_size = batch_size\n",
    "        self.num_workers = num_workers\n",
    "        self.val_split = val_split\n",
    "        self.shuffle = shuffle\n",
    "        self.random_state = random_state\n",
    "\n",
    "    def setup(self, stage=None):\n",
    "\n",
    "        train_idx, val_idx = train_test_split(\n",
    "            self.IDs,\n",
    "            test_size=self.val_split,\n",
    "            shuffle=self.shuffle,\n",
    "            random_state=self.random_state\n",
    "        )\n",
    "\n",
    "        self.train_dataset = ForexDataset(\n",
    "            self.data, train_idx, self.sequence_length, self.horizon, self.features, self.target\n",
    "        )\n",
    "\n",
    "        self.val_dataset = ForexDataset(\n",
    "            self.data, val_idx, self.sequence_length, self.horizon, self.features, self.target\n",
    "        )\n",
    "\n",
    "    def train_dataloader(self):\n",
    "        return DataLoader(\n",
    "            self.train_dataset,\n",
    "            batch_size=self.batch_size,\n",
    "            shuffle=True,\n",
    "            num_workers=self.num_workers,\n",
    "            pin_memory=True\n",
    "        )\n",
    "\n",
    "    def val_dataloader(self):\n",
    "        return DataLoader(\n",
    "            self.val_dataset,\n",
    "            batch_size=self.batch_size,\n",
    "            shuffle=False,\n",
    "            num_workers=self.num_workers,\n",
    "            pin_memory=True\n",
    "        )\n",
    "\n",
    "    def test_dataloader(self):\n",
    "        return DataLoader(\n",
    "            self.val_dataset,\n",
    "            batch_size=self.batch_size,\n",
    "            shuffle=False,\n",
    "            num_workers=self.num_workers,\n",
    "            pin_memory=True\n",
    "        )\n"
   ]
  },
  {
   "cell_type": "markdown",
   "id": "090c331a-8cee-46a1-9fa5-2d1f298ac2c1",
   "metadata": {},
   "source": [
    "# GRU classification Model"
   ]
  },
  {
   "cell_type": "markdown",
   "id": "45fa4ba8-ce9d-43b6-adeb-910f66a8f391",
   "metadata": {},
   "source": [
    "We've tried different criterion.\n",
    "    a. softmax + mse\n",
    "    b. raw logits + cross entropy\n",
    "We found that cross entropy performs better when using pytorch"
   ]
  },
  {
   "cell_type": "code",
   "execution_count": 4,
   "id": "cd35020a-5543-4710-a54b-50b6649c433b",
   "metadata": {},
   "outputs": [],
   "source": [
    "import torch\n",
    "from torch import nn\n",
    "import lightning as L\n",
    "from torchmetrics.classification import MulticlassAccuracy\n",
    "\n",
    "\n",
    "class GRUModel(nn.Module):\n",
    "    def __init__(self, n_features, output_size, n_hidden, n_layers, dropout):\n",
    "        super().__init__()\n",
    "\n",
    "        self.gru = nn.GRU(\n",
    "            input_size=n_features,\n",
    "            hidden_size=n_hidden,\n",
    "            num_layers=n_layers,\n",
    "            batch_first=True,\n",
    "            dropout=dropout\n",
    "        )\n",
    "        self.linear = nn.Linear(n_hidden, output_size)\n",
    "        self.softmax = nn.Softmax(1)\n",
    "        \n",
    "\n",
    "    def forward(self, x):\n",
    "        self.gru.flatten_parameters()\n",
    "        _, hidden = self.gru(x)\n",
    "        logits = self.linear(hidden[-1])\n",
    "        # return self.softmax(logits)\n",
    "        return logits\n",
    "\n",
    "\n",
    "class GRUModule(L.LightningModule):\n",
    "    def __init__(self, n_features=1, output_size=1, n_hidden=64, n_layers=2, dropout=0.0):\n",
    "        super().__init__()\n",
    "        self.save_hyperparameters()\n",
    "\n",
    "        self.model = GRUModel(\n",
    "            n_features=self.hparams.n_features,\n",
    "            output_size=self.hparams.output_size,\n",
    "            n_hidden=self.hparams.n_hidden,\n",
    "            n_layers=self.hparams.n_layers,\n",
    "            dropout=self.hparams.dropout,\n",
    "        )\n",
    "\n",
    "        self.criterion = nn.CrossEntropyLoss()\n",
    "        self.test_accuracy = MulticlassAccuracy(num_classes=output_size)\n",
    "\n",
    "    def forward(self, x, labels=None):\n",
    "        output = self.model(x)\n",
    "        loss = 0\n",
    "        if labels is not None:\n",
    "            labels = labels.squeeze().long()\n",
    "            loss = self.criterion(output, labels)\n",
    "        return loss, output\n",
    "\n",
    "    def training_step(self, batch, batch_idx):\n",
    "        x, y, _ = batch\n",
    "        loss, out = self(x, y)\n",
    "\n",
    "        self.log('train_loss', loss, prog_bar=True, logger=True)\n",
    "        return {\n",
    "            'loss': loss\n",
    "        }\n",
    "\n",
    "    def validation_step(self, batch, batch_idx):\n",
    "        x, y, _ = batch\n",
    "        loss, out = self(x, y)\n",
    "\n",
    "        self.log('val_loss', loss, prog_bar=True, logger=True)\n",
    "        return {\n",
    "            'loss': loss\n",
    "        }\n",
    "\n",
    "    def test_step(self, batch, batch_idx):\n",
    "        x, y, _ = batch\n",
    "        loss, out = self(x, y)\n",
    "\n",
    "        y = y.squeeze().long()\n",
    "        preds = torch.argmax(out, dim=1)\n",
    "        acc = self.test_accuracy(preds, y)\n",
    "\n",
    "        self.log('test_loss', loss, prog_bar=True, logger=True)\n",
    "        self.log('test_acc', acc, prog_bar=True, logger=True)\n",
    "        return {'loss': loss, 'acc': acc}\n",
    "\n",
    "    def configure_optimizers(self):\n",
    "        optimizer = torch.optim.Adam(self.parameters(), lr=1e-4)\n",
    "        scheduler = torch.optim.lr_scheduler.StepLR(optimizer, step_size=10, gamma=0.1)\n",
    "        return [optimizer], [scheduler]\n"
   ]
  },
  {
   "cell_type": "markdown",
   "id": "2d794773-edea-49cd-afcd-bb072229ac63",
   "metadata": {},
   "source": [
    "Now we've defined all the classes we need for the training.\n",
    "The following steps will use these to train a classification model to predict future movement of USDJPY close price"
   ]
  },
  {
   "cell_type": "code",
   "execution_count": 5,
   "id": "0d6cfdeb-6390-4c01-871f-d0a4cbc02ff6",
   "metadata": {},
   "outputs": [],
   "source": [
    "PKL_PATH = '../data/processed/usdjpy-bar-2020-01-01-2024-12-31_processed.pkl'\n",
    "SEQUENCE_LENGTH=30\n",
    "HORIZON=1 # The next nth timeframe to predict\n",
    "STRIDE=5 # Non-overlapping timeframe\n",
    "FEATURES_COLS = ['close_return']\n",
    "TARGET_COLS = ['label']"
   ]
  },
  {
   "cell_type": "markdown",
   "id": "6fe1d993-f830-4d42-ace9-4a3c4fa75591",
   "metadata": {},
   "source": [
    "## Read data"
   ]
  },
  {
   "cell_type": "code",
   "execution_count": 6,
   "id": "25c72791-c104-4e47-8e46-ae2aeaaf4ad6",
   "metadata": {},
   "outputs": [],
   "source": [
    "import pandas as pd"
   ]
  },
  {
   "cell_type": "code",
   "execution_count": 7,
   "id": "568c5d3a-873c-4a97-9c69-d1023d02e97c",
   "metadata": {},
   "outputs": [
    {
     "data": {
      "text/html": [
       "<div>\n",
       "<style scoped>\n",
       "    .dataframe tbody tr th:only-of-type {\n",
       "        vertical-align: middle;\n",
       "    }\n",
       "\n",
       "    .dataframe tbody tr th {\n",
       "        vertical-align: top;\n",
       "    }\n",
       "\n",
       "    .dataframe thead th {\n",
       "        text-align: right;\n",
       "    }\n",
       "</style>\n",
       "<table border=\"1\" class=\"dataframe\">\n",
       "  <thead>\n",
       "    <tr style=\"text-align: right;\">\n",
       "      <th></th>\n",
       "      <th>timestamp</th>\n",
       "      <th>open</th>\n",
       "      <th>high</th>\n",
       "      <th>low</th>\n",
       "      <th>close</th>\n",
       "      <th>volume</th>\n",
       "      <th>time_group</th>\n",
       "      <th>close_delta</th>\n",
       "      <th>close_return</th>\n",
       "      <th>close_direction</th>\n",
       "      <th>prob_down</th>\n",
       "      <th>prob_flat</th>\n",
       "      <th>prob_up</th>\n",
       "      <th>label</th>\n",
       "    </tr>\n",
       "  </thead>\n",
       "  <tbody>\n",
       "    <tr>\n",
       "      <th>1</th>\n",
       "      <td>2020-01-01 22:01:00</td>\n",
       "      <td>108.7570</td>\n",
       "      <td>108.7590</td>\n",
       "      <td>108.7495</td>\n",
       "      <td>108.7495</td>\n",
       "      <td>13300.000012</td>\n",
       "      <td>1</td>\n",
       "      <td>-0.0095</td>\n",
       "      <td>-0.000087</td>\n",
       "      <td>down</td>\n",
       "      <td>1.0</td>\n",
       "      <td>0.0</td>\n",
       "      <td>0.0</td>\n",
       "      <td>0</td>\n",
       "    </tr>\n",
       "    <tr>\n",
       "      <th>2</th>\n",
       "      <td>2020-01-01 22:02:00</td>\n",
       "      <td>108.7495</td>\n",
       "      <td>108.7535</td>\n",
       "      <td>108.7495</td>\n",
       "      <td>108.7535</td>\n",
       "      <td>4500.000000</td>\n",
       "      <td>1</td>\n",
       "      <td>0.0040</td>\n",
       "      <td>0.000037</td>\n",
       "      <td>up</td>\n",
       "      <td>0.0</td>\n",
       "      <td>0.0</td>\n",
       "      <td>1.0</td>\n",
       "      <td>2</td>\n",
       "    </tr>\n",
       "    <tr>\n",
       "      <th>3</th>\n",
       "      <td>2020-01-01 22:03:00</td>\n",
       "      <td>108.7540</td>\n",
       "      <td>108.7555</td>\n",
       "      <td>108.7535</td>\n",
       "      <td>108.7555</td>\n",
       "      <td>10490.000010</td>\n",
       "      <td>1</td>\n",
       "      <td>0.0020</td>\n",
       "      <td>0.000018</td>\n",
       "      <td>flat</td>\n",
       "      <td>0.0</td>\n",
       "      <td>1.0</td>\n",
       "      <td>0.0</td>\n",
       "      <td>1</td>\n",
       "    </tr>\n",
       "    <tr>\n",
       "      <th>4</th>\n",
       "      <td>2020-01-01 22:04:00</td>\n",
       "      <td>108.7575</td>\n",
       "      <td>108.7650</td>\n",
       "      <td>108.7555</td>\n",
       "      <td>108.7650</td>\n",
       "      <td>11600.000024</td>\n",
       "      <td>1</td>\n",
       "      <td>0.0095</td>\n",
       "      <td>0.000087</td>\n",
       "      <td>up</td>\n",
       "      <td>0.0</td>\n",
       "      <td>0.0</td>\n",
       "      <td>1.0</td>\n",
       "      <td>2</td>\n",
       "    </tr>\n",
       "    <tr>\n",
       "      <th>5</th>\n",
       "      <td>2020-01-01 22:05:00</td>\n",
       "      <td>108.7700</td>\n",
       "      <td>108.7700</td>\n",
       "      <td>108.7690</td>\n",
       "      <td>108.7700</td>\n",
       "      <td>1059.999987</td>\n",
       "      <td>1</td>\n",
       "      <td>0.0050</td>\n",
       "      <td>0.000046</td>\n",
       "      <td>up</td>\n",
       "      <td>0.0</td>\n",
       "      <td>0.0</td>\n",
       "      <td>1.0</td>\n",
       "      <td>2</td>\n",
       "    </tr>\n",
       "  </tbody>\n",
       "</table>\n",
       "</div>"
      ],
      "text/plain": [
       "            timestamp      open      high       low     close        volume  \\\n",
       "1 2020-01-01 22:01:00  108.7570  108.7590  108.7495  108.7495  13300.000012   \n",
       "2 2020-01-01 22:02:00  108.7495  108.7535  108.7495  108.7535   4500.000000   \n",
       "3 2020-01-01 22:03:00  108.7540  108.7555  108.7535  108.7555  10490.000010   \n",
       "4 2020-01-01 22:04:00  108.7575  108.7650  108.7555  108.7650  11600.000024   \n",
       "5 2020-01-01 22:05:00  108.7700  108.7700  108.7690  108.7700   1059.999987   \n",
       "\n",
       "   time_group  close_delta  close_return close_direction  prob_down  \\\n",
       "1           1      -0.0095     -0.000087            down        1.0   \n",
       "2           1       0.0040      0.000037              up        0.0   \n",
       "3           1       0.0020      0.000018            flat        0.0   \n",
       "4           1       0.0095      0.000087              up        0.0   \n",
       "5           1       0.0050      0.000046              up        0.0   \n",
       "\n",
       "   prob_flat  prob_up  label  \n",
       "1        0.0      0.0      0  \n",
       "2        0.0      1.0      2  \n",
       "3        1.0      0.0      1  \n",
       "4        0.0      1.0      2  \n",
       "5        0.0      1.0      2  "
      ]
     },
     "execution_count": 7,
     "metadata": {},
     "output_type": "execute_result"
    }
   ],
   "source": [
    "df = pd.read_pickle(PKL_PATH)\n",
    "df.head()"
   ]
  },
  {
   "cell_type": "markdown",
   "id": "aa1afda6-b0fa-490c-a303-10fbf2b12162",
   "metadata": {},
   "source": [
    "## Create Datamodule"
   ]
  },
  {
   "cell_type": "code",
   "execution_count": 8,
   "id": "e3a5af5d-47df-4a22-8f5f-36233abe2010",
   "metadata": {},
   "outputs": [],
   "source": [
    "from utils import get_sequence_start_indices"
   ]
  },
  {
   "cell_type": "code",
   "execution_count": 9,
   "id": "a1f6e4b8-512a-4b41-9b01-2e87405f58ff",
   "metadata": {},
   "outputs": [],
   "source": [
    "## get valid indices that wont create sequences crossing time gaps\n",
    "IDs = get_sequence_start_indices(\n",
    "    df,\n",
    "    sequence_length=SEQUENCE_LENGTH,\n",
    "    horizon=HORIZON,\n",
    "    stride=STRIDE,\n",
    "    group_col='time_group',\n",
    ")\n",
    "# Initialize Data Module\n",
    "dm = ForexDataModule(\n",
    "    data=df,\n",
    "    IDs=IDs,\n",
    "    sequence_length=SEQUENCE_LENGTH,\n",
    "    target=TARGET_COLS,\n",
    "    features=FEATURES_COLS,\n",
    "    horizon=HORIZON,\n",
    "    batch_size=64,\n",
    "    val_split=0.2,\n",
    "    num_workers=0,\n",
    ")"
   ]
  },
  {
   "cell_type": "code",
   "execution_count": 10,
   "id": "6814c3e7-8895-4797-a4bb-ba690afe1850",
   "metadata": {},
   "outputs": [],
   "source": [
    "model = GRUModule(\n",
    "    n_features=len(FEATURES_COLS),\n",
    "    output_size=3,\n",
    "    n_hidden=256,\n",
    "    n_layers=3,\n",
    "    dropout=0.3,\n",
    ")"
   ]
  },
  {
   "cell_type": "markdown",
   "id": "649ae8aa-7cdd-4de0-879e-bb0ff2c83463",
   "metadata": {},
   "source": [
    "# Training Script"
   ]
  },
  {
   "cell_type": "code",
   "execution_count": 11,
   "id": "02ad62b8-148d-44f4-b85c-28371fe6fd2d",
   "metadata": {},
   "outputs": [],
   "source": [
    "from lightning.pytorch import Trainer\n",
    "from lightning.pytorch.callbacks import EarlyStopping\n",
    "from lightning.pytorch.callbacks.model_checkpoint import ModelCheckpoint\n",
    "from lightning.pytorch.loggers import TensorBoardLogger\n",
    "from lightning.pytorch.profilers import SimpleProfiler"
   ]
  },
  {
   "cell_type": "markdown",
   "id": "8f564291-d188-4a82-9ee7-f410cf7ebbc9",
   "metadata": {},
   "source": [
    "### Logging"
   ]
  },
  {
   "cell_type": "code",
   "execution_count": 12,
   "id": "19a7ebf8-027b-49d9-b832-1faeb7e8554b",
   "metadata": {},
   "outputs": [],
   "source": [
    "logger = TensorBoardLogger(\"lightning_logs\", name=\"prob_gru\")"
   ]
  },
  {
   "cell_type": "code",
   "execution_count": 13,
   "id": "b0532979-2b4d-4e4b-b749-64b8d970f485",
   "metadata": {},
   "outputs": [],
   "source": [
    "profiler = SimpleProfiler(filename='profiler')"
   ]
  },
  {
   "cell_type": "markdown",
   "id": "c875bac5-bf76-47f1-9747-db83ee2e8c85",
   "metadata": {},
   "source": [
    "### Earlystopping"
   ]
  },
  {
   "cell_type": "code",
   "execution_count": 14,
   "id": "53b0a7f4-2390-4a73-87b2-b5fba3544d60",
   "metadata": {},
   "outputs": [],
   "source": [
    "early_stopping = EarlyStopping(\n",
    "    monitor='val_loss',\n",
    "    mode='min',\n",
    "    patience=5,\n",
    "    verbose=True\n",
    ")"
   ]
  },
  {
   "cell_type": "markdown",
   "id": "396d16e5-6736-436f-bce5-208ff3312c8e",
   "metadata": {},
   "source": [
    "### Checkpoint"
   ]
  },
  {
   "cell_type": "code",
   "execution_count": 15,
   "id": "975aad1e-8076-4729-9408-57a099ff8616",
   "metadata": {},
   "outputs": [],
   "source": [
    "checkpoint_callback = ModelCheckpoint(\n",
    "    filename='best_checkpoint',\n",
    "    save_top_k=1,\n",
    "    save_last=True,\n",
    "    verbose=True,\n",
    "    monitor='val_loss',\n",
    "    mode='min'\n",
    ")"
   ]
  },
  {
   "cell_type": "markdown",
   "id": "0c7699cd-305d-4561-bd2d-d24e937448ef",
   "metadata": {},
   "source": [
    "### Trainer"
   ]
  },
  {
   "cell_type": "code",
   "execution_count": 16,
   "id": "c97795a9-791e-4255-9a19-8ddeba6ea771",
   "metadata": {},
   "outputs": [
    {
     "name": "stderr",
     "output_type": "stream",
     "text": [
      "GPU available: True (cuda), used: True\n",
      "TPU available: False, using: 0 TPU cores\n",
      "HPU available: False, using: 0 HPUs\n"
     ]
    }
   ],
   "source": [
    "trainer = Trainer(\n",
    "    # accelerator=\"gpu\",\n",
    "    # precision='16-mixed',\n",
    "    profiler=profiler,\n",
    "    callbacks=[checkpoint_callback, early_stopping],\n",
    "    max_epochs=200,\n",
    "    logger=logger,\n",
    "    gradient_clip_val=1.0\n",
    "    # num_sanity_val_steps=0,\n",
    ")"
   ]
  },
  {
   "cell_type": "code",
   "execution_count": 17,
   "id": "512481df-990b-4c2e-905b-4c8cab59a7bb",
   "metadata": {},
   "outputs": [
    {
     "name": "stderr",
     "output_type": "stream",
     "text": [
      "You are using a CUDA device ('NVIDIA GeForce RTX 4060 Ti') that has Tensor Cores. To properly utilize them, you should set `torch.set_float32_matmul_precision('medium' | 'high')` which will trade-off precision for performance. For more details, read https://pytorch.org/docs/stable/generated/torch.set_float32_matmul_precision.html#torch.set_float32_matmul_precision\n",
      "LOCAL_RANK: 0 - CUDA_VISIBLE_DEVICES: [0]\n",
      "\n",
      "  | Name          | Type               | Params | Mode \n",
      "-------------------------------------------------------------\n",
      "0 | model         | GRUModel           | 989 K  | train\n",
      "1 | criterion     | CrossEntropyLoss   | 0      | train\n",
      "2 | test_accuracy | MulticlassAccuracy | 0      | train\n",
      "-------------------------------------------------------------\n",
      "989 K     Trainable params\n",
      "0         Non-trainable params\n",
      "989 K     Total params\n",
      "3.957     Total estimated model params size (MB)\n",
      "6         Modules in train mode\n",
      "0         Modules in eval mode\n"
     ]
    },
    {
     "data": {
      "application/vnd.jupyter.widget-view+json": {
       "model_id": "45c0046fe8df408ca7d29cbf4f782025",
       "version_major": 2,
       "version_minor": 0
      },
      "text/plain": [
       "Sanity Checking: |                                                         | 0/? [00:00<?, ?it/s]"
      ]
     },
     "metadata": {},
     "output_type": "display_data"
    },
    {
     "name": "stderr",
     "output_type": "stream",
     "text": [
      "C:\\Users\\yoyo\\miniconda3\\envs\\fxml\\Lib\\site-packages\\lightning\\pytorch\\trainer\\connectors\\data_connector.py:425: The 'val_dataloader' does not have many workers which may be a bottleneck. Consider increasing the value of the `num_workers` argument` to `num_workers=19` in the `DataLoader` to improve performance.\n",
      "C:\\Users\\yoyo\\miniconda3\\envs\\fxml\\Lib\\site-packages\\lightning\\pytorch\\trainer\\connectors\\data_connector.py:425: The 'train_dataloader' does not have many workers which may be a bottleneck. Consider increasing the value of the `num_workers` argument` to `num_workers=19` in the `DataLoader` to improve performance.\n"
     ]
    },
    {
     "data": {
      "application/vnd.jupyter.widget-view+json": {
       "model_id": "0524a18f01d24ebb998c351f0cc556e8",
       "version_major": 2,
       "version_minor": 0
      },
      "text/plain": [
       "Training: |                                                                | 0/? [00:00<?, ?it/s]"
      ]
     },
     "metadata": {},
     "output_type": "display_data"
    },
    {
     "data": {
      "application/vnd.jupyter.widget-view+json": {
       "model_id": "fe94f67ef7f943928db61725f0138af4",
       "version_major": 2,
       "version_minor": 0
      },
      "text/plain": [
       "Validation: |                                                              | 0/? [00:00<?, ?it/s]"
      ]
     },
     "metadata": {},
     "output_type": "display_data"
    },
    {
     "name": "stderr",
     "output_type": "stream",
     "text": [
      "Metric val_loss improved. New best score: 1.097\n",
      "Epoch 0, global step 4345: 'val_loss' reached 1.09682 (best 1.09682), saving model to 'lightning_logs\\\\prob_gru\\\\version_3\\\\checkpoints\\\\best_checkpoint.ckpt' as top 1\n"
     ]
    },
    {
     "data": {
      "application/vnd.jupyter.widget-view+json": {
       "model_id": "6015d9462c0145228efb45ff78feeb9e",
       "version_major": 2,
       "version_minor": 0
      },
      "text/plain": [
       "Validation: |                                                              | 0/? [00:00<?, ?it/s]"
      ]
     },
     "metadata": {},
     "output_type": "display_data"
    },
    {
     "name": "stderr",
     "output_type": "stream",
     "text": [
      "Epoch 1, global step 8690: 'val_loss' was not in top 1\n"
     ]
    },
    {
     "data": {
      "application/vnd.jupyter.widget-view+json": {
       "model_id": "61a6df2e599d431c9871ce38164cdb70",
       "version_major": 2,
       "version_minor": 0
      },
      "text/plain": [
       "Validation: |                                                              | 0/? [00:00<?, ?it/s]"
      ]
     },
     "metadata": {},
     "output_type": "display_data"
    },
    {
     "name": "stderr",
     "output_type": "stream",
     "text": [
      "Metric val_loss improved by 0.008 >= min_delta = 0.0. New best score: 1.089\n",
      "Epoch 2, global step 13035: 'val_loss' reached 1.08859 (best 1.08859), saving model to 'lightning_logs\\\\prob_gru\\\\version_3\\\\checkpoints\\\\best_checkpoint.ckpt' as top 1\n"
     ]
    },
    {
     "data": {
      "application/vnd.jupyter.widget-view+json": {
       "model_id": "73bbfb31150842349e7e8c2aa0cf2afd",
       "version_major": 2,
       "version_minor": 0
      },
      "text/plain": [
       "Validation: |                                                              | 0/? [00:00<?, ?it/s]"
      ]
     },
     "metadata": {},
     "output_type": "display_data"
    },
    {
     "name": "stderr",
     "output_type": "stream",
     "text": [
      "Metric val_loss improved by 0.578 >= min_delta = 0.0. New best score: 0.511\n",
      "Epoch 3, global step 17380: 'val_loss' reached 0.51069 (best 0.51069), saving model to 'lightning_logs\\\\prob_gru\\\\version_3\\\\checkpoints\\\\best_checkpoint.ckpt' as top 1\n"
     ]
    },
    {
     "data": {
      "application/vnd.jupyter.widget-view+json": {
       "model_id": "57c0d6c44d6c4d2abd832d6f10f46dd0",
       "version_major": 2,
       "version_minor": 0
      },
      "text/plain": [
       "Validation: |                                                              | 0/? [00:00<?, ?it/s]"
      ]
     },
     "metadata": {},
     "output_type": "display_data"
    },
    {
     "name": "stderr",
     "output_type": "stream",
     "text": [
      "Metric val_loss improved by 0.293 >= min_delta = 0.0. New best score: 0.218\n",
      "Epoch 4, global step 21725: 'val_loss' reached 0.21796 (best 0.21796), saving model to 'lightning_logs\\\\prob_gru\\\\version_3\\\\checkpoints\\\\best_checkpoint.ckpt' as top 1\n"
     ]
    },
    {
     "data": {
      "application/vnd.jupyter.widget-view+json": {
       "model_id": "441f69de99e74de3adbe766ee3df55fb",
       "version_major": 2,
       "version_minor": 0
      },
      "text/plain": [
       "Validation: |                                                              | 0/? [00:00<?, ?it/s]"
      ]
     },
     "metadata": {},
     "output_type": "display_data"
    },
    {
     "name": "stderr",
     "output_type": "stream",
     "text": [
      "Metric val_loss improved by 0.095 >= min_delta = 0.0. New best score: 0.123\n",
      "Epoch 5, global step 26070: 'val_loss' reached 0.12309 (best 0.12309), saving model to 'lightning_logs\\\\prob_gru\\\\version_3\\\\checkpoints\\\\best_checkpoint.ckpt' as top 1\n"
     ]
    },
    {
     "data": {
      "application/vnd.jupyter.widget-view+json": {
       "model_id": "cce22df7237f4f09bf20e8eb117394f7",
       "version_major": 2,
       "version_minor": 0
      },
      "text/plain": [
       "Validation: |                                                              | 0/? [00:00<?, ?it/s]"
      ]
     },
     "metadata": {},
     "output_type": "display_data"
    },
    {
     "name": "stderr",
     "output_type": "stream",
     "text": [
      "Epoch 6, global step 30415: 'val_loss' was not in top 1\n"
     ]
    },
    {
     "data": {
      "application/vnd.jupyter.widget-view+json": {
       "model_id": "ecbdc4a1f0d042968cb7978b2532d693",
       "version_major": 2,
       "version_minor": 0
      },
      "text/plain": [
       "Validation: |                                                              | 0/? [00:00<?, ?it/s]"
      ]
     },
     "metadata": {},
     "output_type": "display_data"
    },
    {
     "name": "stderr",
     "output_type": "stream",
     "text": [
      "Epoch 7, global step 34760: 'val_loss' was not in top 1\n"
     ]
    },
    {
     "data": {
      "application/vnd.jupyter.widget-view+json": {
       "model_id": "45a9322c7b224e4392904f44643bce97",
       "version_major": 2,
       "version_minor": 0
      },
      "text/plain": [
       "Validation: |                                                              | 0/? [00:00<?, ?it/s]"
      ]
     },
     "metadata": {},
     "output_type": "display_data"
    },
    {
     "name": "stderr",
     "output_type": "stream",
     "text": [
      "Epoch 8, global step 39105: 'val_loss' was not in top 1\n"
     ]
    },
    {
     "data": {
      "application/vnd.jupyter.widget-view+json": {
       "model_id": "e4ca376ad3b74bbe8f9bb2af69d3e6d1",
       "version_major": 2,
       "version_minor": 0
      },
      "text/plain": [
       "Validation: |                                                              | 0/? [00:00<?, ?it/s]"
      ]
     },
     "metadata": {},
     "output_type": "display_data"
    },
    {
     "name": "stderr",
     "output_type": "stream",
     "text": [
      "Metric val_loss improved by 0.005 >= min_delta = 0.0. New best score: 0.118\n",
      "Epoch 9, global step 43450: 'val_loss' reached 0.11817 (best 0.11817), saving model to 'lightning_logs\\\\prob_gru\\\\version_3\\\\checkpoints\\\\best_checkpoint.ckpt' as top 1\n"
     ]
    },
    {
     "data": {
      "application/vnd.jupyter.widget-view+json": {
       "model_id": "a4a180d0c6574575ab156a44fedc3cbb",
       "version_major": 2,
       "version_minor": 0
      },
      "text/plain": [
       "Validation: |                                                              | 0/? [00:00<?, ?it/s]"
      ]
     },
     "metadata": {},
     "output_type": "display_data"
    },
    {
     "name": "stderr",
     "output_type": "stream",
     "text": [
      "Metric val_loss improved by 0.072 >= min_delta = 0.0. New best score: 0.046\n",
      "Epoch 10, global step 47795: 'val_loss' reached 0.04648 (best 0.04648), saving model to 'lightning_logs\\\\prob_gru\\\\version_3\\\\checkpoints\\\\best_checkpoint.ckpt' as top 1\n"
     ]
    },
    {
     "data": {
      "application/vnd.jupyter.widget-view+json": {
       "model_id": "755f31e619e949fab8f70a6d1612133c",
       "version_major": 2,
       "version_minor": 0
      },
      "text/plain": [
       "Validation: |                                                              | 0/? [00:00<?, ?it/s]"
      ]
     },
     "metadata": {},
     "output_type": "display_data"
    },
    {
     "name": "stderr",
     "output_type": "stream",
     "text": [
      "Metric val_loss improved by 0.003 >= min_delta = 0.0. New best score: 0.043\n",
      "Epoch 11, global step 52140: 'val_loss' reached 0.04303 (best 0.04303), saving model to 'lightning_logs\\\\prob_gru\\\\version_3\\\\checkpoints\\\\best_checkpoint.ckpt' as top 1\n"
     ]
    },
    {
     "data": {
      "application/vnd.jupyter.widget-view+json": {
       "model_id": "43651bb401d54fd2b3f7fc3c24ca73cf",
       "version_major": 2,
       "version_minor": 0
      },
      "text/plain": [
       "Validation: |                                                              | 0/? [00:00<?, ?it/s]"
      ]
     },
     "metadata": {},
     "output_type": "display_data"
    },
    {
     "name": "stderr",
     "output_type": "stream",
     "text": [
      "Epoch 12, global step 56485: 'val_loss' was not in top 1\n"
     ]
    },
    {
     "data": {
      "application/vnd.jupyter.widget-view+json": {
       "model_id": "6ad0d8ef7c794b57aa78bf9ea64fd268",
       "version_major": 2,
       "version_minor": 0
      },
      "text/plain": [
       "Validation: |                                                              | 0/? [00:00<?, ?it/s]"
      ]
     },
     "metadata": {},
     "output_type": "display_data"
    },
    {
     "name": "stderr",
     "output_type": "stream",
     "text": [
      "Metric val_loss improved by 0.001 >= min_delta = 0.0. New best score: 0.042\n",
      "Epoch 13, global step 60830: 'val_loss' reached 0.04192 (best 0.04192), saving model to 'lightning_logs\\\\prob_gru\\\\version_3\\\\checkpoints\\\\best_checkpoint.ckpt' as top 1\n"
     ]
    },
    {
     "data": {
      "application/vnd.jupyter.widget-view+json": {
       "model_id": "f503974900a84521bde4e028a3198b69",
       "version_major": 2,
       "version_minor": 0
      },
      "text/plain": [
       "Validation: |                                                              | 0/? [00:00<?, ?it/s]"
      ]
     },
     "metadata": {},
     "output_type": "display_data"
    },
    {
     "name": "stderr",
     "output_type": "stream",
     "text": [
      "Metric val_loss improved by 0.002 >= min_delta = 0.0. New best score: 0.040\n",
      "Epoch 14, global step 65175: 'val_loss' reached 0.04037 (best 0.04037), saving model to 'lightning_logs\\\\prob_gru\\\\version_3\\\\checkpoints\\\\best_checkpoint.ckpt' as top 1\n"
     ]
    },
    {
     "data": {
      "application/vnd.jupyter.widget-view+json": {
       "model_id": "fa5221d069f34fa1b3e9fa359df2d9ff",
       "version_major": 2,
       "version_minor": 0
      },
      "text/plain": [
       "Validation: |                                                              | 0/? [00:00<?, ?it/s]"
      ]
     },
     "metadata": {},
     "output_type": "display_data"
    },
    {
     "name": "stderr",
     "output_type": "stream",
     "text": [
      "Metric val_loss improved by 0.001 >= min_delta = 0.0. New best score: 0.040\n",
      "Epoch 15, global step 69520: 'val_loss' reached 0.03973 (best 0.03973), saving model to 'lightning_logs\\\\prob_gru\\\\version_3\\\\checkpoints\\\\best_checkpoint.ckpt' as top 1\n"
     ]
    },
    {
     "data": {
      "application/vnd.jupyter.widget-view+json": {
       "model_id": "80de89e2c0d0484ca99c4359b7ec23c3",
       "version_major": 2,
       "version_minor": 0
      },
      "text/plain": [
       "Validation: |                                                              | 0/? [00:00<?, ?it/s]"
      ]
     },
     "metadata": {},
     "output_type": "display_data"
    },
    {
     "name": "stderr",
     "output_type": "stream",
     "text": [
      "Epoch 16, global step 73865: 'val_loss' was not in top 1\n"
     ]
    },
    {
     "data": {
      "application/vnd.jupyter.widget-view+json": {
       "model_id": "81cd5139a5ab4dc1945eda75bd52e548",
       "version_major": 2,
       "version_minor": 0
      },
      "text/plain": [
       "Validation: |                                                              | 0/? [00:00<?, ?it/s]"
      ]
     },
     "metadata": {},
     "output_type": "display_data"
    },
    {
     "name": "stderr",
     "output_type": "stream",
     "text": [
      "Epoch 17, global step 78210: 'val_loss' was not in top 1\n"
     ]
    },
    {
     "data": {
      "application/vnd.jupyter.widget-view+json": {
       "model_id": "8c5a71772fbb453585e4383a477f97c1",
       "version_major": 2,
       "version_minor": 0
      },
      "text/plain": [
       "Validation: |                                                              | 0/? [00:00<?, ?it/s]"
      ]
     },
     "metadata": {},
     "output_type": "display_data"
    },
    {
     "name": "stderr",
     "output_type": "stream",
     "text": [
      "Metric val_loss improved by 0.007 >= min_delta = 0.0. New best score: 0.032\n",
      "Epoch 18, global step 82555: 'val_loss' reached 0.03247 (best 0.03247), saving model to 'lightning_logs\\\\prob_gru\\\\version_3\\\\checkpoints\\\\best_checkpoint.ckpt' as top 1\n"
     ]
    },
    {
     "data": {
      "application/vnd.jupyter.widget-view+json": {
       "model_id": "c138f00d5b194917bbc0f9387a531c45",
       "version_major": 2,
       "version_minor": 0
      },
      "text/plain": [
       "Validation: |                                                              | 0/? [00:00<?, ?it/s]"
      ]
     },
     "metadata": {},
     "output_type": "display_data"
    },
    {
     "name": "stderr",
     "output_type": "stream",
     "text": [
      "Epoch 19, global step 86900: 'val_loss' was not in top 1\n"
     ]
    },
    {
     "data": {
      "application/vnd.jupyter.widget-view+json": {
       "model_id": "28e243cfe19b42c586f84df0c2d048fc",
       "version_major": 2,
       "version_minor": 0
      },
      "text/plain": [
       "Validation: |                                                              | 0/? [00:00<?, ?it/s]"
      ]
     },
     "metadata": {},
     "output_type": "display_data"
    },
    {
     "name": "stderr",
     "output_type": "stream",
     "text": [
      "Metric val_loss improved by 0.001 >= min_delta = 0.0. New best score: 0.031\n",
      "Epoch 20, global step 91245: 'val_loss' reached 0.03106 (best 0.03106), saving model to 'lightning_logs\\\\prob_gru\\\\version_3\\\\checkpoints\\\\best_checkpoint.ckpt' as top 1\n"
     ]
    },
    {
     "data": {
      "application/vnd.jupyter.widget-view+json": {
       "model_id": "a25b6fbd4f0b41a8b766191eff3fac3c",
       "version_major": 2,
       "version_minor": 0
      },
      "text/plain": [
       "Validation: |                                                              | 0/? [00:00<?, ?it/s]"
      ]
     },
     "metadata": {},
     "output_type": "display_data"
    },
    {
     "name": "stderr",
     "output_type": "stream",
     "text": [
      "Metric val_loss improved by 0.001 >= min_delta = 0.0. New best score: 0.030\n",
      "Epoch 21, global step 95590: 'val_loss' reached 0.03026 (best 0.03026), saving model to 'lightning_logs\\\\prob_gru\\\\version_3\\\\checkpoints\\\\best_checkpoint.ckpt' as top 1\n"
     ]
    },
    {
     "data": {
      "application/vnd.jupyter.widget-view+json": {
       "model_id": "004fe9e284b04fd2b8893936a64f6c24",
       "version_major": 2,
       "version_minor": 0
      },
      "text/plain": [
       "Validation: |                                                              | 0/? [00:00<?, ?it/s]"
      ]
     },
     "metadata": {},
     "output_type": "display_data"
    },
    {
     "name": "stderr",
     "output_type": "stream",
     "text": [
      "Epoch 22, global step 99935: 'val_loss' was not in top 1\n"
     ]
    },
    {
     "data": {
      "application/vnd.jupyter.widget-view+json": {
       "model_id": "15dce517602a4ca6ad73061eaff3e183",
       "version_major": 2,
       "version_minor": 0
      },
      "text/plain": [
       "Validation: |                                                              | 0/? [00:00<?, ?it/s]"
      ]
     },
     "metadata": {},
     "output_type": "display_data"
    },
    {
     "name": "stderr",
     "output_type": "stream",
     "text": [
      "Metric val_loss improved by 0.001 >= min_delta = 0.0. New best score: 0.030\n",
      "Epoch 23, global step 104280: 'val_loss' reached 0.02972 (best 0.02972), saving model to 'lightning_logs\\\\prob_gru\\\\version_3\\\\checkpoints\\\\best_checkpoint.ckpt' as top 1\n"
     ]
    },
    {
     "data": {
      "application/vnd.jupyter.widget-view+json": {
       "model_id": "a903d8fca0bc40748cbdbf0e2e776e00",
       "version_major": 2,
       "version_minor": 0
      },
      "text/plain": [
       "Validation: |                                                              | 0/? [00:00<?, ?it/s]"
      ]
     },
     "metadata": {},
     "output_type": "display_data"
    },
    {
     "name": "stderr",
     "output_type": "stream",
     "text": [
      "Epoch 24, global step 108625: 'val_loss' was not in top 1\n"
     ]
    },
    {
     "data": {
      "application/vnd.jupyter.widget-view+json": {
       "model_id": "d8206510f54345d4ae2662e7e3337373",
       "version_major": 2,
       "version_minor": 0
      },
      "text/plain": [
       "Validation: |                                                              | 0/? [00:00<?, ?it/s]"
      ]
     },
     "metadata": {},
     "output_type": "display_data"
    },
    {
     "name": "stderr",
     "output_type": "stream",
     "text": [
      "Epoch 25, global step 112970: 'val_loss' was not in top 1\n"
     ]
    },
    {
     "data": {
      "application/vnd.jupyter.widget-view+json": {
       "model_id": "c676536a20a94473b82312e7da1536dd",
       "version_major": 2,
       "version_minor": 0
      },
      "text/plain": [
       "Validation: |                                                              | 0/? [00:00<?, ?it/s]"
      ]
     },
     "metadata": {},
     "output_type": "display_data"
    },
    {
     "name": "stderr",
     "output_type": "stream",
     "text": [
      "Epoch 26, global step 117315: 'val_loss' was not in top 1\n"
     ]
    },
    {
     "data": {
      "application/vnd.jupyter.widget-view+json": {
       "model_id": "322e1fa2a6794a18bc81f192726d82b4",
       "version_major": 2,
       "version_minor": 0
      },
      "text/plain": [
       "Validation: |                                                              | 0/? [00:00<?, ?it/s]"
      ]
     },
     "metadata": {},
     "output_type": "display_data"
    },
    {
     "name": "stderr",
     "output_type": "stream",
     "text": [
      "Metric val_loss improved by 0.000 >= min_delta = 0.0. New best score: 0.030\n",
      "Epoch 27, global step 121660: 'val_loss' reached 0.02951 (best 0.02951), saving model to 'lightning_logs\\\\prob_gru\\\\version_3\\\\checkpoints\\\\best_checkpoint.ckpt' as top 1\n"
     ]
    },
    {
     "data": {
      "application/vnd.jupyter.widget-view+json": {
       "model_id": "57a27cdc68294e01bc25996af9a172f1",
       "version_major": 2,
       "version_minor": 0
      },
      "text/plain": [
       "Validation: |                                                              | 0/? [00:00<?, ?it/s]"
      ]
     },
     "metadata": {},
     "output_type": "display_data"
    },
    {
     "name": "stderr",
     "output_type": "stream",
     "text": [
      "Epoch 28, global step 126005: 'val_loss' was not in top 1\n"
     ]
    },
    {
     "data": {
      "application/vnd.jupyter.widget-view+json": {
       "model_id": "26d370d9a11744acab909b45db7839a3",
       "version_major": 2,
       "version_minor": 0
      },
      "text/plain": [
       "Validation: |                                                              | 0/? [00:00<?, ?it/s]"
      ]
     },
     "metadata": {},
     "output_type": "display_data"
    },
    {
     "name": "stderr",
     "output_type": "stream",
     "text": [
      "Metric val_loss improved by 0.000 >= min_delta = 0.0. New best score: 0.029\n",
      "Epoch 29, global step 130350: 'val_loss' reached 0.02949 (best 0.02949), saving model to 'lightning_logs\\\\prob_gru\\\\version_3\\\\checkpoints\\\\best_checkpoint.ckpt' as top 1\n"
     ]
    },
    {
     "data": {
      "application/vnd.jupyter.widget-view+json": {
       "model_id": "1ff94ab3c66f43809b0d049af84b0e0e",
       "version_major": 2,
       "version_minor": 0
      },
      "text/plain": [
       "Validation: |                                                              | 0/? [00:00<?, ?it/s]"
      ]
     },
     "metadata": {},
     "output_type": "display_data"
    },
    {
     "name": "stderr",
     "output_type": "stream",
     "text": [
      "Metric val_loss improved by 0.000 >= min_delta = 0.0. New best score: 0.029\n",
      "Epoch 30, global step 134695: 'val_loss' reached 0.02931 (best 0.02931), saving model to 'lightning_logs\\\\prob_gru\\\\version_3\\\\checkpoints\\\\best_checkpoint.ckpt' as top 1\n"
     ]
    },
    {
     "data": {
      "application/vnd.jupyter.widget-view+json": {
       "model_id": "ef307d1440f94add990f808458aa708e",
       "version_major": 2,
       "version_minor": 0
      },
      "text/plain": [
       "Validation: |                                                              | 0/? [00:00<?, ?it/s]"
      ]
     },
     "metadata": {},
     "output_type": "display_data"
    },
    {
     "name": "stderr",
     "output_type": "stream",
     "text": [
      "Epoch 31, global step 139040: 'val_loss' was not in top 1\n"
     ]
    },
    {
     "data": {
      "application/vnd.jupyter.widget-view+json": {
       "model_id": "de91d3cfb9744e7db3ae0737cf83bf4c",
       "version_major": 2,
       "version_minor": 0
      },
      "text/plain": [
       "Validation: |                                                              | 0/? [00:00<?, ?it/s]"
      ]
     },
     "metadata": {},
     "output_type": "display_data"
    },
    {
     "name": "stderr",
     "output_type": "stream",
     "text": [
      "Metric val_loss improved by 0.000 >= min_delta = 0.0. New best score: 0.029\n",
      "Epoch 32, global step 143385: 'val_loss' reached 0.02927 (best 0.02927), saving model to 'lightning_logs\\\\prob_gru\\\\version_3\\\\checkpoints\\\\best_checkpoint.ckpt' as top 1\n"
     ]
    },
    {
     "data": {
      "application/vnd.jupyter.widget-view+json": {
       "model_id": "72da778f13114edf973560a64a2fa1ac",
       "version_major": 2,
       "version_minor": 0
      },
      "text/plain": [
       "Validation: |                                                              | 0/? [00:00<?, ?it/s]"
      ]
     },
     "metadata": {},
     "output_type": "display_data"
    },
    {
     "name": "stderr",
     "output_type": "stream",
     "text": [
      "Metric val_loss improved by 0.000 >= min_delta = 0.0. New best score: 0.029\n",
      "Epoch 33, global step 147730: 'val_loss' reached 0.02921 (best 0.02921), saving model to 'lightning_logs\\\\prob_gru\\\\version_3\\\\checkpoints\\\\best_checkpoint.ckpt' as top 1\n"
     ]
    },
    {
     "data": {
      "application/vnd.jupyter.widget-view+json": {
       "model_id": "31badd6862104edea569f219a5819cac",
       "version_major": 2,
       "version_minor": 0
      },
      "text/plain": [
       "Validation: |                                                              | 0/? [00:00<?, ?it/s]"
      ]
     },
     "metadata": {},
     "output_type": "display_data"
    },
    {
     "name": "stderr",
     "output_type": "stream",
     "text": [
      "Epoch 34, global step 152075: 'val_loss' was not in top 1\n"
     ]
    },
    {
     "data": {
      "application/vnd.jupyter.widget-view+json": {
       "model_id": "b5e6042baef94cdc8f87692841790aba",
       "version_major": 2,
       "version_minor": 0
      },
      "text/plain": [
       "Validation: |                                                              | 0/? [00:00<?, ?it/s]"
      ]
     },
     "metadata": {},
     "output_type": "display_data"
    },
    {
     "name": "stderr",
     "output_type": "stream",
     "text": [
      "Metric val_loss improved by 0.000 >= min_delta = 0.0. New best score: 0.029\n",
      "Epoch 35, global step 156420: 'val_loss' reached 0.02919 (best 0.02919), saving model to 'lightning_logs\\\\prob_gru\\\\version_3\\\\checkpoints\\\\best_checkpoint.ckpt' as top 1\n"
     ]
    },
    {
     "data": {
      "application/vnd.jupyter.widget-view+json": {
       "model_id": "28acf78d20074b14bd7400b2b715481c",
       "version_major": 2,
       "version_minor": 0
      },
      "text/plain": [
       "Validation: |                                                              | 0/? [00:00<?, ?it/s]"
      ]
     },
     "metadata": {},
     "output_type": "display_data"
    },
    {
     "name": "stderr",
     "output_type": "stream",
     "text": [
      "Epoch 36, global step 160765: 'val_loss' was not in top 1\n"
     ]
    },
    {
     "data": {
      "application/vnd.jupyter.widget-view+json": {
       "model_id": "7be83f75d24e484e8b8c50fd2c4ec2f9",
       "version_major": 2,
       "version_minor": 0
      },
      "text/plain": [
       "Validation: |                                                              | 0/? [00:00<?, ?it/s]"
      ]
     },
     "metadata": {},
     "output_type": "display_data"
    },
    {
     "name": "stderr",
     "output_type": "stream",
     "text": [
      "Epoch 37, global step 165110: 'val_loss' was not in top 1\n"
     ]
    },
    {
     "data": {
      "application/vnd.jupyter.widget-view+json": {
       "model_id": "db623ee392d74da7a21e6bf4b45907e7",
       "version_major": 2,
       "version_minor": 0
      },
      "text/plain": [
       "Validation: |                                                              | 0/? [00:00<?, ?it/s]"
      ]
     },
     "metadata": {},
     "output_type": "display_data"
    },
    {
     "name": "stderr",
     "output_type": "stream",
     "text": [
      "Metric val_loss improved by 0.000 >= min_delta = 0.0. New best score: 0.029\n",
      "Epoch 38, global step 169455: 'val_loss' reached 0.02911 (best 0.02911), saving model to 'lightning_logs\\\\prob_gru\\\\version_3\\\\checkpoints\\\\best_checkpoint.ckpt' as top 1\n"
     ]
    },
    {
     "data": {
      "application/vnd.jupyter.widget-view+json": {
       "model_id": "c87609e6b42f4bc59fb7813170bb43d6",
       "version_major": 2,
       "version_minor": 0
      },
      "text/plain": [
       "Validation: |                                                              | 0/? [00:00<?, ?it/s]"
      ]
     },
     "metadata": {},
     "output_type": "display_data"
    },
    {
     "name": "stderr",
     "output_type": "stream",
     "text": [
      "Epoch 39, global step 173800: 'val_loss' was not in top 1\n"
     ]
    },
    {
     "data": {
      "application/vnd.jupyter.widget-view+json": {
       "model_id": "e9fcdf64f35a411e87fe9757da4f0a75",
       "version_major": 2,
       "version_minor": 0
      },
      "text/plain": [
       "Validation: |                                                              | 0/? [00:00<?, ?it/s]"
      ]
     },
     "metadata": {},
     "output_type": "display_data"
    },
    {
     "name": "stderr",
     "output_type": "stream",
     "text": [
      "Epoch 40, global step 178145: 'val_loss' was not in top 1\n"
     ]
    },
    {
     "data": {
      "application/vnd.jupyter.widget-view+json": {
       "model_id": "e247c011438144bf8972e73442f13aeb",
       "version_major": 2,
       "version_minor": 0
      },
      "text/plain": [
       "Validation: |                                                              | 0/? [00:00<?, ?it/s]"
      ]
     },
     "metadata": {},
     "output_type": "display_data"
    },
    {
     "name": "stderr",
     "output_type": "stream",
     "text": [
      "Epoch 41, global step 182490: 'val_loss' was not in top 1\n"
     ]
    },
    {
     "data": {
      "application/vnd.jupyter.widget-view+json": {
       "model_id": "51ce224509094899b4073097b922dbc1",
       "version_major": 2,
       "version_minor": 0
      },
      "text/plain": [
       "Validation: |                                                              | 0/? [00:00<?, ?it/s]"
      ]
     },
     "metadata": {},
     "output_type": "display_data"
    },
    {
     "name": "stderr",
     "output_type": "stream",
     "text": [
      "Epoch 42, global step 186835: 'val_loss' was not in top 1\n"
     ]
    },
    {
     "data": {
      "application/vnd.jupyter.widget-view+json": {
       "model_id": "9be51fd1b7ba476c902a6cf499c8abe3",
       "version_major": 2,
       "version_minor": 0
      },
      "text/plain": [
       "Validation: |                                                              | 0/? [00:00<?, ?it/s]"
      ]
     },
     "metadata": {},
     "output_type": "display_data"
    },
    {
     "name": "stderr",
     "output_type": "stream",
     "text": [
      "Monitored metric val_loss did not improve in the last 5 records. Best score: 0.029. Signaling Trainer to stop.\n",
      "Epoch 43, global step 191180: 'val_loss' was not in top 1\n"
     ]
    }
   ],
   "source": [
    "trainer.fit(model, datamodule=dm)"
   ]
  },
  {
   "cell_type": "code",
   "execution_count": 18,
   "id": "638751b6-d431-4396-8030-0c98aba2faed",
   "metadata": {
    "scrolled": true
   },
   "outputs": [
    {
     "name": "stderr",
     "output_type": "stream",
     "text": [
      "LOCAL_RANK: 0 - CUDA_VISIBLE_DEVICES: [0]\n",
      "C:\\Users\\yoyo\\miniconda3\\envs\\fxml\\Lib\\site-packages\\lightning\\pytorch\\trainer\\connectors\\data_connector.py:425: The 'test_dataloader' does not have many workers which may be a bottleneck. Consider increasing the value of the `num_workers` argument` to `num_workers=19` in the `DataLoader` to improve performance.\n"
     ]
    },
    {
     "data": {
      "application/vnd.jupyter.widget-view+json": {
       "model_id": "8a6b50e8a3cb491199c507e18bbae430",
       "version_major": 2,
       "version_minor": 0
      },
      "text/plain": [
       "Testing: |                                                                 | 0/? [00:00<?, ?it/s]"
      ]
     },
     "metadata": {},
     "output_type": "display_data"
    },
    {
     "name": "stdout",
     "output_type": "stream",
     "text": [
      "──────────────────────────────────────────────────────────────────────────────────────────────────\n",
      "       Test metric             DataLoader 0\n",
      "──────────────────────────────────────────────────────────────────────────────────────────────────\n",
      "        test_acc            0.9914924502372742\n",
      "        test_loss          0.029169786721467972\n",
      "──────────────────────────────────────────────────────────────────────────────────────────────────\n"
     ]
    },
    {
     "data": {
      "text/plain": [
       "[{'test_loss': 0.029169786721467972, 'test_acc': 0.9914924502372742}]"
      ]
     },
     "execution_count": 18,
     "metadata": {},
     "output_type": "execute_result"
    }
   ],
   "source": [
    "trainer.test(model, datamodule=dm)"
   ]
  }
 ],
 "metadata": {
  "kernelspec": {
   "display_name": "Python 3 (ipykernel)",
   "language": "python",
   "name": "python3"
  },
  "language_info": {
   "codemirror_mode": {
    "name": "ipython",
    "version": 3
   },
   "file_extension": ".py",
   "mimetype": "text/x-python",
   "name": "python",
   "nbconvert_exporter": "python",
   "pygments_lexer": "ipython3",
   "version": "3.11.12"
  },
  "widgets": {
   "application/vnd.jupyter.widget-state+json": {
    "state": {
     "004082c5393d40a0856f6141037ae8e5": {
      "model_module": "@jupyter-widgets/controls",
      "model_module_version": "2.0.0",
      "model_name": "ProgressStyleModel",
      "state": {
       "description_width": ""
      }
     },
     "01ea14ec5af540419afebf11eb8f7bd8": {
      "model_module": "@jupyter-widgets/base",
      "model_module_version": "2.0.0",
      "model_name": "LayoutModel",
      "state": {}
     },
     "02510d22b0c54b4cada8da87f829e5fc": {
      "model_module": "@jupyter-widgets/base",
      "model_module_version": "2.0.0",
      "model_name": "LayoutModel",
      "state": {
       "flex": "2"
      }
     },
     "02a19b040f6d4327b3ecf51c54c4f045": {
      "model_module": "@jupyter-widgets/controls",
      "model_module_version": "2.0.0",
      "model_name": "HTMLStyleModel",
      "state": {
       "description_width": "",
       "font_size": null,
       "text_color": null
      }
     },
     "0318b058d6f04229b79de76b02629971": {
      "model_module": "@jupyter-widgets/base",
      "model_module_version": "2.0.0",
      "model_name": "LayoutModel",
      "state": {
       "display": "inline-flex",
       "flex_flow": "row wrap",
       "visibility": "hidden",
       "width": "100%"
      }
     },
     "03be7a73f5ce491eb1d9427f1abd98f5": {
      "model_module": "@jupyter-widgets/base",
      "model_module_version": "2.0.0",
      "model_name": "LayoutModel",
      "state": {
       "display": "inline-flex",
       "flex_flow": "row wrap",
       "visibility": "hidden",
       "width": "100%"
      }
     },
     "03d7f062d08f419cb1d5e9b0799b0bee": {
      "model_module": "@jupyter-widgets/controls",
      "model_module_version": "2.0.0",
      "model_name": "HTMLStyleModel",
      "state": {
       "description_width": "",
       "font_size": null,
       "text_color": null
      }
     },
     "048bcad59ac740c28bd547e463bae674": {
      "model_module": "@jupyter-widgets/controls",
      "model_module_version": "2.0.0",
      "model_name": "ProgressStyleModel",
      "state": {
       "description_width": ""
      }
     },
     "0524a18f01d24ebb998c351f0cc556e8": {
      "model_module": "@jupyter-widgets/controls",
      "model_module_version": "2.0.0",
      "model_name": "HBoxModel",
      "state": {
       "children": [
        "IPY_MODEL_bf6c0282decc4bb9a19cf6b9cdb5b201",
        "IPY_MODEL_d71e689986724813969c494c39086be3",
        "IPY_MODEL_b839ee0c260c43e69ad9c79630cb8af8"
       ],
       "layout": "IPY_MODEL_69c6c2822aab4f5684a2009eaee42eec"
      }
     },
     "054accf94ec04039bc399853c2ba3291": {
      "model_module": "@jupyter-widgets/base",
      "model_module_version": "2.0.0",
      "model_name": "LayoutModel",
      "state": {}
     },
     "05fb5dc8ea4c4637be328efd567f1ec8": {
      "model_module": "@jupyter-widgets/base",
      "model_module_version": "2.0.0",
      "model_name": "LayoutModel",
      "state": {
       "flex": "2"
      }
     },
     "0635ff9318a74cc287993e84da81595b": {
      "model_module": "@jupyter-widgets/controls",
      "model_module_version": "2.0.0",
      "model_name": "HTMLModel",
      "state": {
       "layout": "IPY_MODEL_1f48a6d8c8494966ba0a81ef4f0fe729",
       "style": "IPY_MODEL_b683b6211553415689ee719d5b386122",
       "value": "Validation DataLoader 0: 100%"
      }
     },
     "07ee92a6a37a41ccaec1a0a537abce5e": {
      "model_module": "@jupyter-widgets/base",
      "model_module_version": "2.0.0",
      "model_name": "LayoutModel",
      "state": {
       "display": "inline-flex",
       "flex_flow": "row wrap",
       "visibility": "hidden",
       "width": "100%"
      }
     },
     "097957c650664db4a147c2accf9c1140": {
      "model_module": "@jupyter-widgets/controls",
      "model_module_version": "2.0.0",
      "model_name": "ProgressStyleModel",
      "state": {
       "description_width": ""
      }
     },
     "0b10b5ef05f74d70b53b943883a78b29": {
      "model_module": "@jupyter-widgets/base",
      "model_module_version": "2.0.0",
      "model_name": "LayoutModel",
      "state": {}
     },
     "0b1c27b1b97f45a19ea790a6ffa4460f": {
      "model_module": "@jupyter-widgets/base",
      "model_module_version": "2.0.0",
      "model_name": "LayoutModel",
      "state": {}
     },
     "0b86aacbf0fe4cac8fc9432ffe33cb72": {
      "model_module": "@jupyter-widgets/base",
      "model_module_version": "2.0.0",
      "model_name": "LayoutModel",
      "state": {
       "display": "inline-flex",
       "flex_flow": "row wrap",
       "visibility": "hidden",
       "width": "100%"
      }
     },
     "0cba7971dcfe444797bd0cf40c853ea5": {
      "model_module": "@jupyter-widgets/base",
      "model_module_version": "2.0.0",
      "model_name": "LayoutModel",
      "state": {}
     },
     "0ce871b1e17b4e0288a764db910836fc": {
      "model_module": "@jupyter-widgets/controls",
      "model_module_version": "2.0.0",
      "model_name": "HTMLModel",
      "state": {
       "layout": "IPY_MODEL_8d6b13979e4e4dd99882fe6b71388a89",
       "style": "IPY_MODEL_bd534211456e41e49422b6583b7f78dd",
       "value": "Validation DataLoader 0: 100%"
      }
     },
     "0d3ffb9e18cd4189a741db1aac6a62f3": {
      "model_module": "@jupyter-widgets/controls",
      "model_module_version": "2.0.0",
      "model_name": "HTMLStyleModel",
      "state": {
       "description_width": "",
       "font_size": null,
       "text_color": null
      }
     },
     "0d834a6cc6b747a79fef3ddacb247a15": {
      "model_module": "@jupyter-widgets/base",
      "model_module_version": "2.0.0",
      "model_name": "LayoutModel",
      "state": {
       "flex": "2"
      }
     },
     "0ffc2b4f1a534b74aa732f1dcedf9744": {
      "model_module": "@jupyter-widgets/controls",
      "model_module_version": "2.0.0",
      "model_name": "HTMLModel",
      "state": {
       "layout": "IPY_MODEL_e543a3e51bea411484044619a198f3ba",
       "style": "IPY_MODEL_74c91e9ee6fa486796e5ab0d53142d15",
       "value": "Validation DataLoader 0: 100%"
      }
     },
     "10d3a53ecc8640669985c33e14595c11": {
      "model_module": "@jupyter-widgets/controls",
      "model_module_version": "2.0.0",
      "model_name": "HTMLStyleModel",
      "state": {
       "description_width": "",
       "font_size": null,
       "text_color": null
      }
     },
     "11717bbadb894e839e80d618e7e1d2e2": {
      "model_module": "@jupyter-widgets/controls",
      "model_module_version": "2.0.0",
      "model_name": "ProgressStyleModel",
      "state": {
       "description_width": ""
      }
     },
     "118befbe513240debb0bbc06b762e00c": {
      "model_module": "@jupyter-widgets/controls",
      "model_module_version": "2.0.0",
      "model_name": "HTMLModel",
      "state": {
       "layout": "IPY_MODEL_ce2b4d75fd1a40878a5c53bf4a69ad94",
       "style": "IPY_MODEL_fc67ab9b3ebc4db999e827429bfe2e28",
       "value": "Validation DataLoader 0: 100%"
      }
     },
     "11a3ec4de80b4039875f17dbbd06eb06": {
      "model_module": "@jupyter-widgets/controls",
      "model_module_version": "2.0.0",
      "model_name": "ProgressStyleModel",
      "state": {
       "description_width": ""
      }
     },
     "11d367e158f340468c517955ba8a306c": {
      "model_module": "@jupyter-widgets/controls",
      "model_module_version": "2.0.0",
      "model_name": "HTMLStyleModel",
      "state": {
       "description_width": "",
       "font_size": null,
       "text_color": null
      }
     },
     "1208d0c71ec04119bf8be8321204c87f": {
      "model_module": "@jupyter-widgets/base",
      "model_module_version": "2.0.0",
      "model_name": "LayoutModel",
      "state": {}
     },
     "131d9f23a2a74fa781c3292cad1b0b75": {
      "model_module": "@jupyter-widgets/controls",
      "model_module_version": "2.0.0",
      "model_name": "HTMLStyleModel",
      "state": {
       "description_width": "",
       "font_size": null,
       "text_color": null
      }
     },
     "13517f5341ff4739885b52403a6dd4b3": {
      "model_module": "@jupyter-widgets/base",
      "model_module_version": "2.0.0",
      "model_name": "LayoutModel",
      "state": {}
     },
     "138c139cda6d4ff0ac13cbf7e5646a5a": {
      "model_module": "@jupyter-widgets/base",
      "model_module_version": "2.0.0",
      "model_name": "LayoutModel",
      "state": {
       "display": "inline-flex",
       "flex_flow": "row wrap",
       "visibility": "hidden",
       "width": "100%"
      }
     },
     "14dbac7652c34f95a36599f46c432fe8": {
      "model_module": "@jupyter-widgets/controls",
      "model_module_version": "2.0.0",
      "model_name": "ProgressStyleModel",
      "state": {
       "description_width": ""
      }
     },
     "14e9858473c3421eb77ad0f0c30579f0": {
      "model_module": "@jupyter-widgets/controls",
      "model_module_version": "2.0.0",
      "model_name": "HTMLModel",
      "state": {
       "layout": "IPY_MODEL_22a05d8c01c942e49971956f052ddc88",
       "style": "IPY_MODEL_7feb270c92884f24b7ab9d26938a0a2b",
       "value": " 1087/1087 [00:07&lt;00:00, 136.49it/s]"
      }
     },
     "14fa53a102c64f42946655ca77899be1": {
      "model_module": "@jupyter-widgets/base",
      "model_module_version": "2.0.0",
      "model_name": "LayoutModel",
      "state": {
       "flex": "2"
      }
     },
     "1561f6b2811646968b07c61d150e8e73": {
      "model_module": "@jupyter-widgets/controls",
      "model_module_version": "2.0.0",
      "model_name": "HTMLModel",
      "state": {
       "layout": "IPY_MODEL_3e1018c29b2f4adb95254c18ee9e2fdc",
       "style": "IPY_MODEL_c61487af813a402c83b43f5a1434435a",
       "value": "Validation DataLoader 0: 100%"
      }
     },
     "1592ee4ddb0642f28d2d300e0fee10ae": {
      "model_module": "@jupyter-widgets/controls",
      "model_module_version": "2.0.0",
      "model_name": "ProgressStyleModel",
      "state": {
       "description_width": ""
      }
     },
     "15a5ef0fdff84af1883dae128107bcb3": {
      "model_module": "@jupyter-widgets/controls",
      "model_module_version": "2.0.0",
      "model_name": "HTMLStyleModel",
      "state": {
       "description_width": "",
       "font_size": null,
       "text_color": null
      }
     },
     "16a39a31801249f3ae51d74839da36df": {
      "model_module": "@jupyter-widgets/controls",
      "model_module_version": "2.0.0",
      "model_name": "HTMLModel",
      "state": {
       "layout": "IPY_MODEL_e2b39f9b31644a45b6368815a292c009",
       "style": "IPY_MODEL_f9e7e8799864451aad565fd13b020254",
       "value": " 1087/1087 [00:07&lt;00:00, 142.70it/s]"
      }
     },
     "1a169fb2daf449689d312f01d4bfd4dd": {
      "model_module": "@jupyter-widgets/base",
      "model_module_version": "2.0.0",
      "model_name": "LayoutModel",
      "state": {}
     },
     "1a2c3fd585e84a88b666a971b2988d48": {
      "model_module": "@jupyter-widgets/controls",
      "model_module_version": "2.0.0",
      "model_name": "HTMLModel",
      "state": {
       "layout": "IPY_MODEL_b7f8b8ff3c424dfa9a2555ad3885ebef",
       "style": "IPY_MODEL_f5b399226c964ecfab27833dda5ce9eb",
       "value": " 1087/1087 [00:07&lt;00:00, 137.02it/s]"
      }
     },
     "1adc0d00fb534f9ab0fb7cb6b76d301e": {
      "model_module": "@jupyter-widgets/controls",
      "model_module_version": "2.0.0",
      "model_name": "HTMLModel",
      "state": {
       "layout": "IPY_MODEL_3d8eef32e942484b844ba039824bec14",
       "style": "IPY_MODEL_4437cba06523454dafac28791cccbd0d",
       "value": " 1087/1087 [00:07&lt;00:00, 139.83it/s]"
      }
     },
     "1b4607959f5846ffbf32b0dc88400140": {
      "model_module": "@jupyter-widgets/controls",
      "model_module_version": "2.0.0",
      "model_name": "HTMLModel",
      "state": {
       "layout": "IPY_MODEL_df53c3861a9b402fb6b70a209109ccf1",
       "style": "IPY_MODEL_9ce77ebadadc40f287823389733307b4",
       "value": "Validation DataLoader 0: 100%"
      }
     },
     "1bb9cca06568452e884a3d3d842d297d": {
      "model_module": "@jupyter-widgets/controls",
      "model_module_version": "2.0.0",
      "model_name": "HTMLModel",
      "state": {
       "layout": "IPY_MODEL_1a169fb2daf449689d312f01d4bfd4dd",
       "style": "IPY_MODEL_657d3da968354677b80d58aeecba2df2",
       "value": " 1087/1087 [00:07&lt;00:00, 137.92it/s]"
      }
     },
     "1c45e34d79374601879d0bc1cfe91114": {
      "model_module": "@jupyter-widgets/base",
      "model_module_version": "2.0.0",
      "model_name": "LayoutModel",
      "state": {
       "display": "inline-flex",
       "flex_flow": "row wrap",
       "visibility": "hidden",
       "width": "100%"
      }
     },
     "1c969c274d68484aaab8f382915945b8": {
      "model_module": "@jupyter-widgets/base",
      "model_module_version": "2.0.0",
      "model_name": "LayoutModel",
      "state": {
       "flex": "2"
      }
     },
     "1c98ac65cc954b9bb1e4cfdcadaffc17": {
      "model_module": "@jupyter-widgets/base",
      "model_module_version": "2.0.0",
      "model_name": "LayoutModel",
      "state": {
       "display": "inline-flex",
       "flex_flow": "row wrap",
       "visibility": "hidden",
       "width": "100%"
      }
     },
     "1cd2a218a9764ba0b02cbcadf951f9bd": {
      "model_module": "@jupyter-widgets/controls",
      "model_module_version": "2.0.0",
      "model_name": "FloatProgressModel",
      "state": {
       "bar_style": "success",
       "layout": "IPY_MODEL_598e1a2b8b984408aa49ea97045629a6",
       "max": 1087,
       "style": "IPY_MODEL_097957c650664db4a147c2accf9c1140",
       "value": 1087
      }
     },
     "1cfd51cd07b2457085c093ccc0fbd2d0": {
      "model_module": "@jupyter-widgets/controls",
      "model_module_version": "2.0.0",
      "model_name": "ProgressStyleModel",
      "state": {
       "description_width": ""
      }
     },
     "1d18c268b0c44406ad0a50d1bcce965d": {
      "model_module": "@jupyter-widgets/controls",
      "model_module_version": "2.0.0",
      "model_name": "ProgressStyleModel",
      "state": {
       "description_width": ""
      }
     },
     "1d3f1668f012499ba3a8985a704deeb8": {
      "model_module": "@jupyter-widgets/controls",
      "model_module_version": "2.0.0",
      "model_name": "HTMLStyleModel",
      "state": {
       "description_width": "",
       "font_size": null,
       "text_color": null
      }
     },
     "1e0b5f166e484c32809d6a4f2c04fe76": {
      "model_module": "@jupyter-widgets/controls",
      "model_module_version": "2.0.0",
      "model_name": "HTMLModel",
      "state": {
       "layout": "IPY_MODEL_785a0e6f206a44938485a867f47a3a14",
       "style": "IPY_MODEL_fbf183e04faa4d8588e9c6937d5934b0",
       "value": " 1087/1087 [00:07&lt;00:00, 136.28it/s]"
      }
     },
     "1e4ed81c969c4212a7ec60a584ef709e": {
      "model_module": "@jupyter-widgets/base",
      "model_module_version": "2.0.0",
      "model_name": "LayoutModel",
      "state": {
       "display": "inline-flex",
       "flex_flow": "row wrap",
       "visibility": "hidden",
       "width": "100%"
      }
     },
     "1f48a6d8c8494966ba0a81ef4f0fe729": {
      "model_module": "@jupyter-widgets/base",
      "model_module_version": "2.0.0",
      "model_name": "LayoutModel",
      "state": {}
     },
     "1f86d0d754374ff4b7000d30d33b8843": {
      "model_module": "@jupyter-widgets/base",
      "model_module_version": "2.0.0",
      "model_name": "LayoutModel",
      "state": {}
     },
     "2093b7a5d4bb430dab5f450736a40ebf": {
      "model_module": "@jupyter-widgets/controls",
      "model_module_version": "2.0.0",
      "model_name": "FloatProgressModel",
      "state": {
       "layout": "IPY_MODEL_66a7968db05a4d8f83e8b03f2dde7e77",
       "max": 1087,
       "style": "IPY_MODEL_385e2c36ffb84921a86245ef1f4b48cf",
       "value": 1087
      }
     },
     "226763fdb3a849cabf1a45d0d12d97bd": {
      "model_module": "@jupyter-widgets/controls",
      "model_module_version": "2.0.0",
      "model_name": "HTMLModel",
      "state": {
       "layout": "IPY_MODEL_245243f1636844d9816b0d0d36300fbf",
       "style": "IPY_MODEL_43642d411c7f4e83825063e33968e7f5",
       "value": "Validation DataLoader 0: 100%"
      }
     },
     "22a05d8c01c942e49971956f052ddc88": {
      "model_module": "@jupyter-widgets/base",
      "model_module_version": "2.0.0",
      "model_name": "LayoutModel",
      "state": {}
     },
     "22cccf5e31614902a3d644a9f644dc14": {
      "model_module": "@jupyter-widgets/controls",
      "model_module_version": "2.0.0",
      "model_name": "ProgressStyleModel",
      "state": {
       "description_width": ""
      }
     },
     "2369fe75c1f9497d9c1fd79fda98083c": {
      "model_module": "@jupyter-widgets/controls",
      "model_module_version": "2.0.0",
      "model_name": "HTMLModel",
      "state": {
       "layout": "IPY_MODEL_8ac32c1cc9264ec58cb36041e67f38ab",
       "style": "IPY_MODEL_4777409f0cc84138b4589c0549a91d04",
       "value": " 1087/1087 [00:07&lt;00:00, 143.56it/s]"
      }
     },
     "2374472cf2bd484d822cfb5662f7fa3f": {
      "model_module": "@jupyter-widgets/base",
      "model_module_version": "2.0.0",
      "model_name": "LayoutModel",
      "state": {}
     },
     "245243f1636844d9816b0d0d36300fbf": {
      "model_module": "@jupyter-widgets/base",
      "model_module_version": "2.0.0",
      "model_name": "LayoutModel",
      "state": {}
     },
     "25bc72a8045f4d318b0942662155f157": {
      "model_module": "@jupyter-widgets/controls",
      "model_module_version": "2.0.0",
      "model_name": "HTMLModel",
      "state": {
       "layout": "IPY_MODEL_96e137d7b1d94de583aebc756d7bd978",
       "style": "IPY_MODEL_abfa6a653cf74acca5fda0a8f8ebbf3f",
       "value": " 1087/1087 [00:08&lt;00:00, 135.37it/s]"
      }
     },
     "26985a0d711f411094885d89a8ae7dbd": {
      "model_module": "@jupyter-widgets/controls",
      "model_module_version": "2.0.0",
      "model_name": "HTMLModel",
      "state": {
       "layout": "IPY_MODEL_4479825701804256937b9169eeb7b687",
       "style": "IPY_MODEL_9e4e038d626449c497bdd350990bd3e5",
       "value": "Validation DataLoader 0: 100%"
      }
     },
     "26e986839dd94e94983d23dff148db76": {
      "model_module": "@jupyter-widgets/controls",
      "model_module_version": "2.0.0",
      "model_name": "HTMLModel",
      "state": {
       "layout": "IPY_MODEL_313567e980914a539b6def06d48a6a62",
       "style": "IPY_MODEL_cdd4f968ec2c484c89232040eb524ae1",
       "value": "Validation DataLoader 0: 100%"
      }
     },
     "273561d0aedb446eb59041b780beb16f": {
      "model_module": "@jupyter-widgets/controls",
      "model_module_version": "2.0.0",
      "model_name": "HTMLStyleModel",
      "state": {
       "description_width": "",
       "font_size": null,
       "text_color": null
      }
     },
     "28619323170343498d3a4d93917370a4": {
      "model_module": "@jupyter-widgets/base",
      "model_module_version": "2.0.0",
      "model_name": "LayoutModel",
      "state": {
       "flex": "2"
      }
     },
     "29489c2d326045268c2e16bec9a25801": {
      "model_module": "@jupyter-widgets/base",
      "model_module_version": "2.0.0",
      "model_name": "LayoutModel",
      "state": {}
     },
     "2a02a63c56764e948580b77035fbc7b9": {
      "model_module": "@jupyter-widgets/controls",
      "model_module_version": "2.0.0",
      "model_name": "HTMLModel",
      "state": {
       "layout": "IPY_MODEL_13517f5341ff4739885b52403a6dd4b3",
       "style": "IPY_MODEL_aa3426effbe84ca78a9f64964b229638",
       "value": " 1087/1087 [00:07&lt;00:00, 143.69it/s]"
      }
     },
     "2a4917b218524b15bbc337e8f344e4e4": {
      "model_module": "@jupyter-widgets/controls",
      "model_module_version": "2.0.0",
      "model_name": "HTMLModel",
      "state": {
       "layout": "IPY_MODEL_cfca68df1be84037a5b74d8c448294c1",
       "style": "IPY_MODEL_768d988938204cdc906bc8ec80dc0160",
       "value": " 1087/1087 [00:08&lt;00:00, 130.65it/s]"
      }
     },
     "2ad0eb2f128e49f2ac7553972be2ae64": {
      "model_module": "@jupyter-widgets/base",
      "model_module_version": "2.0.0",
      "model_name": "LayoutModel",
      "state": {
       "display": "inline-flex",
       "flex_flow": "row wrap",
       "visibility": "hidden",
       "width": "100%"
      }
     },
     "2aeb94cbc90b496c8e339081a6b3be78": {
      "model_module": "@jupyter-widgets/controls",
      "model_module_version": "2.0.0",
      "model_name": "HTMLModel",
      "state": {
       "layout": "IPY_MODEL_7981e9d22c9f46948def0cad57e234fc",
       "style": "IPY_MODEL_a95df633a4e3447b9b65379974db47b6",
       "value": "Validation DataLoader 0: 100%"
      }
     },
     "2c2c439619de40e4b39c56608e0fd24c": {
      "model_module": "@jupyter-widgets/controls",
      "model_module_version": "2.0.0",
      "model_name": "ProgressStyleModel",
      "state": {
       "description_width": ""
      }
     },
     "2cd76950a5834b728614bf3da0bd080a": {
      "model_module": "@jupyter-widgets/controls",
      "model_module_version": "2.0.0",
      "model_name": "FloatProgressModel",
      "state": {
       "layout": "IPY_MODEL_3362434beb6f466ea13965c43f97aab5",
       "max": 1087,
       "style": "IPY_MODEL_11a3ec4de80b4039875f17dbbd06eb06",
       "value": 1087
      }
     },
     "2d163f09716d4ce6b12a6bd6a92f84c1": {
      "model_module": "@jupyter-widgets/controls",
      "model_module_version": "2.0.0",
      "model_name": "HTMLStyleModel",
      "state": {
       "description_width": "",
       "font_size": null,
       "text_color": null
      }
     },
     "2ebae8b4f74b48a8b509263642d04ad8": {
      "model_module": "@jupyter-widgets/controls",
      "model_module_version": "2.0.0",
      "model_name": "ProgressStyleModel",
      "state": {
       "description_width": ""
      }
     },
     "2effcb65717243749e57324122633933": {
      "model_module": "@jupyter-widgets/controls",
      "model_module_version": "2.0.0",
      "model_name": "HTMLStyleModel",
      "state": {
       "description_width": "",
       "font_size": null,
       "text_color": null
      }
     },
     "309a354fac7a4d61bc0181409a853baa": {
      "model_module": "@jupyter-widgets/controls",
      "model_module_version": "2.0.0",
      "model_name": "ProgressStyleModel",
      "state": {
       "description_width": ""
      }
     },
     "3107d1e5740e46bb9c1f312826148492": {
      "model_module": "@jupyter-widgets/base",
      "model_module_version": "2.0.0",
      "model_name": "LayoutModel",
      "state": {}
     },
     "313567e980914a539b6def06d48a6a62": {
      "model_module": "@jupyter-widgets/base",
      "model_module_version": "2.0.0",
      "model_name": "LayoutModel",
      "state": {}
     },
     "314acd9dd5944c78a7afeb3f5daa4e53": {
      "model_module": "@jupyter-widgets/base",
      "model_module_version": "2.0.0",
      "model_name": "LayoutModel",
      "state": {}
     },
     "31fd243481984dfe9a256d6130e3681d": {
      "model_module": "@jupyter-widgets/base",
      "model_module_version": "2.0.0",
      "model_name": "LayoutModel",
      "state": {}
     },
     "325feb30dfc04a1f9955d48629167d7f": {
      "model_module": "@jupyter-widgets/controls",
      "model_module_version": "2.0.0",
      "model_name": "HTMLModel",
      "state": {
       "layout": "IPY_MODEL_f1ad3e00537647d8a7f4867efcdaccd9",
       "style": "IPY_MODEL_929195b79f7943b39eb19bbe35c31dad",
       "value": " 1087/1087 [00:07&lt;00:00, 152.20it/s]"
      }
     },
     "32a9bffe88334a66aeb0d4cf8741be85": {
      "model_module": "@jupyter-widgets/base",
      "model_module_version": "2.0.0",
      "model_name": "LayoutModel",
      "state": {
       "display": "inline-flex",
       "flex_flow": "row wrap",
       "visibility": "hidden",
       "width": "100%"
      }
     },
     "3362434beb6f466ea13965c43f97aab5": {
      "model_module": "@jupyter-widgets/base",
      "model_module_version": "2.0.0",
      "model_name": "LayoutModel",
      "state": {
       "flex": "2"
      }
     },
     "33994f6a89944002869f24999969765f": {
      "model_module": "@jupyter-widgets/base",
      "model_module_version": "2.0.0",
      "model_name": "LayoutModel",
      "state": {
       "flex": "2"
      }
     },
     "33a65f90d94b4e08812884a1e3b44505": {
      "model_module": "@jupyter-widgets/controls",
      "model_module_version": "2.0.0",
      "model_name": "HTMLModel",
      "state": {
       "layout": "IPY_MODEL_54d67c975b7f4feb95d812e93f382a77",
       "style": "IPY_MODEL_a2da03fc39a441198889b586ff265aef",
       "value": "Validation DataLoader 0: 100%"
      }
     },
     "3425183b06da4563a9318cee39550564": {
      "model_module": "@jupyter-widgets/controls",
      "model_module_version": "2.0.0",
      "model_name": "HTMLStyleModel",
      "state": {
       "description_width": "",
       "font_size": null,
       "text_color": null
      }
     },
     "34be6907209e4612bd40002c84e3132d": {
      "model_module": "@jupyter-widgets/base",
      "model_module_version": "2.0.0",
      "model_name": "LayoutModel",
      "state": {
       "flex": "2"
      }
     },
     "3592a69b14b544af93cedfd33160005a": {
      "model_module": "@jupyter-widgets/controls",
      "model_module_version": "2.0.0",
      "model_name": "ProgressStyleModel",
      "state": {
       "description_width": ""
      }
     },
     "35cd03069fef437698a9ba8b5e1e2c3f": {
      "model_module": "@jupyter-widgets/controls",
      "model_module_version": "2.0.0",
      "model_name": "HTMLStyleModel",
      "state": {
       "description_width": "",
       "font_size": null,
       "text_color": null
      }
     },
     "35ffcf74739e4da8ad3685ef4a161805": {
      "model_module": "@jupyter-widgets/controls",
      "model_module_version": "2.0.0",
      "model_name": "HTMLModel",
      "state": {
       "layout": "IPY_MODEL_871145e84e6443dfbb17a60d13665d80",
       "style": "IPY_MODEL_11d367e158f340468c517955ba8a306c",
       "value": "Testing DataLoader 0: 100%"
      }
     },
     "366e2a0ff1d24b6ca8e4010f91533849": {
      "model_module": "@jupyter-widgets/controls",
      "model_module_version": "2.0.0",
      "model_name": "HTMLModel",
      "state": {
       "layout": "IPY_MODEL_ed1ae829bcda4d348a53f9f9fc46654a",
       "style": "IPY_MODEL_f97ae41e3ce846b69991aa4661bd8e74",
       "value": "Validation DataLoader 0: 100%"
      }
     },
     "36bd36a1262e4f3ead11ac6ae88879ce": {
      "model_module": "@jupyter-widgets/base",
      "model_module_version": "2.0.0",
      "model_name": "LayoutModel",
      "state": {}
     },
     "36d83d8fe1b9410d8abf2eae9451f502": {
      "model_module": "@jupyter-widgets/controls",
      "model_module_version": "2.0.0",
      "model_name": "HTMLModel",
      "state": {
       "layout": "IPY_MODEL_4b1b3754b8254de5b81229a45c7083b0",
       "style": "IPY_MODEL_b79b1d447a2a4a9b92e1cfa695fb46bb",
       "value": "Validation DataLoader 0: 100%"
      }
     },
     "37119bb03b2c44e79b1f3733ead3f39c": {
      "model_module": "@jupyter-widgets/controls",
      "model_module_version": "2.0.0",
      "model_name": "HTMLStyleModel",
      "state": {
       "description_width": "",
       "font_size": null,
       "text_color": null
      }
     },
     "385e2c36ffb84921a86245ef1f4b48cf": {
      "model_module": "@jupyter-widgets/controls",
      "model_module_version": "2.0.0",
      "model_name": "ProgressStyleModel",
      "state": {
       "description_width": ""
      }
     },
     "39507780984047739ed19cf494fd1dee": {
      "model_module": "@jupyter-widgets/base",
      "model_module_version": "2.0.0",
      "model_name": "LayoutModel",
      "state": {
       "display": "inline-flex",
       "flex_flow": "row wrap",
       "visibility": "hidden",
       "width": "100%"
      }
     },
     "39e53bc845754eb2a40e203654a4bf96": {
      "model_module": "@jupyter-widgets/controls",
      "model_module_version": "2.0.0",
      "model_name": "HTMLModel",
      "state": {
       "layout": "IPY_MODEL_2374472cf2bd484d822cfb5662f7fa3f",
       "style": "IPY_MODEL_c3ed711b85204e6886c842c82152e979",
       "value": " 1087/1087 [00:08&lt;00:00, 126.86it/s]"
      }
     },
     "3a6a24150e614dad8acd7dee2c6ed47b": {
      "model_module": "@jupyter-widgets/controls",
      "model_module_version": "2.0.0",
      "model_name": "HTMLModel",
      "state": {
       "layout": "IPY_MODEL_1208d0c71ec04119bf8be8321204c87f",
       "style": "IPY_MODEL_debbb1c1401e418e8b90ac05ad8cba0f",
       "value": "Validation DataLoader 0: 100%"
      }
     },
     "3aa5de61f8024bd496d9907d728557c5": {
      "model_module": "@jupyter-widgets/controls",
      "model_module_version": "2.0.0",
      "model_name": "HTMLStyleModel",
      "state": {
       "description_width": "",
       "font_size": null,
       "text_color": null
      }
     },
     "3af07ae0b3ac400da007287c67cbb829": {
      "model_module": "@jupyter-widgets/controls",
      "model_module_version": "2.0.0",
      "model_name": "FloatProgressModel",
      "state": {
       "layout": "IPY_MODEL_765ead1692f943e28930d341ea31c7c6",
       "max": 1087,
       "style": "IPY_MODEL_92cd129959cf4652a51cbbb3c9306591",
       "value": 1087
      }
     },
     "3c8f199d244d40ffb812baa8c2adf4e8": {
      "model_module": "@jupyter-widgets/base",
      "model_module_version": "2.0.0",
      "model_name": "LayoutModel",
      "state": {
       "display": "inline-flex",
       "flex_flow": "row wrap",
       "visibility": "hidden",
       "width": "100%"
      }
     },
     "3d0471b3f6834ab79bf0f4a4b9998a77": {
      "model_module": "@jupyter-widgets/controls",
      "model_module_version": "2.0.0",
      "model_name": "HTMLModel",
      "state": {
       "layout": "IPY_MODEL_f3a76027c1ff48f1a3099dd260621d5a",
       "style": "IPY_MODEL_9e613ff444bc422b8ce7f994d67aea8c",
       "value": " 1087/1087 [00:07&lt;00:00, 151.26it/s]"
      }
     },
     "3d8eef32e942484b844ba039824bec14": {
      "model_module": "@jupyter-widgets/base",
      "model_module_version": "2.0.0",
      "model_name": "LayoutModel",
      "state": {}
     },
     "3e1018c29b2f4adb95254c18ee9e2fdc": {
      "model_module": "@jupyter-widgets/base",
      "model_module_version": "2.0.0",
      "model_name": "LayoutModel",
      "state": {}
     },
     "3e68ec4975864f77a97deb392c0cfb98": {
      "model_module": "@jupyter-widgets/controls",
      "model_module_version": "2.0.0",
      "model_name": "HTMLStyleModel",
      "state": {
       "description_width": "",
       "font_size": null,
       "text_color": null
      }
     },
     "3eb5b2ce7b994053a4ae879a8de156ef": {
      "model_module": "@jupyter-widgets/controls",
      "model_module_version": "2.0.0",
      "model_name": "HTMLModel",
      "state": {
       "layout": "IPY_MODEL_8ddbd46ca95e4489bc90d656f6373223",
       "style": "IPY_MODEL_c1985ff494464a9fa26d3c41593844c5",
       "value": "Validation DataLoader 0: 100%"
      }
     },
     "3eca22101b7d411892411129d2a13b1f": {
      "model_module": "@jupyter-widgets/base",
      "model_module_version": "2.0.0",
      "model_name": "LayoutModel",
      "state": {}
     },
     "3f188fe2cce24d1980229e6b13b68b46": {
      "model_module": "@jupyter-widgets/base",
      "model_module_version": "2.0.0",
      "model_name": "LayoutModel",
      "state": {}
     },
     "3fbff6b48507405aa0e47961ad8759ba": {
      "model_module": "@jupyter-widgets/controls",
      "model_module_version": "2.0.0",
      "model_name": "HTMLStyleModel",
      "state": {
       "description_width": "",
       "font_size": null,
       "text_color": null
      }
     },
     "406c98c168ac4e8bae37697c1eae1048": {
      "model_module": "@jupyter-widgets/controls",
      "model_module_version": "2.0.0",
      "model_name": "FloatProgressModel",
      "state": {
       "layout": "IPY_MODEL_d8db40d37b8945cea173c59bd4982a61",
       "max": 1087,
       "style": "IPY_MODEL_c961f62d42c24344a2c904cbae663f97",
       "value": 1087
      }
     },
     "410128b0d02b471b947d9afaa20091fc": {
      "model_module": "@jupyter-widgets/controls",
      "model_module_version": "2.0.0",
      "model_name": "ProgressStyleModel",
      "state": {
       "description_width": ""
      }
     },
     "41beaa1b24c74426b937fe68fe81c475": {
      "model_module": "@jupyter-widgets/controls",
      "model_module_version": "2.0.0",
      "model_name": "HTMLModel",
      "state": {
       "layout": "IPY_MODEL_746b72d2b3504cc49a17b2c0a1b1773b",
       "style": "IPY_MODEL_a64debd7367e482188298a793f84cb3f",
       "value": " 1087/1087 [00:07&lt;00:00, 138.54it/s]"
      }
     },
     "42c23038e1dd4150bf362176c91bbdeb": {
      "model_module": "@jupyter-widgets/controls",
      "model_module_version": "2.0.0",
      "model_name": "HTMLModel",
      "state": {
       "layout": "IPY_MODEL_758fd8652b5a4ff0bb23bf27ad4d6167",
       "style": "IPY_MODEL_78ead0fbff98432b880cfc99186ef5ce",
       "value": " 1087/1087 [00:07&lt;00:00, 152.06it/s]"
      }
     },
     "43642d411c7f4e83825063e33968e7f5": {
      "model_module": "@jupyter-widgets/controls",
      "model_module_version": "2.0.0",
      "model_name": "HTMLStyleModel",
      "state": {
       "description_width": "",
       "font_size": null,
       "text_color": null
      }
     },
     "43696b65795d4c6dbccb4c2bbf3e96f8": {
      "model_module": "@jupyter-widgets/base",
      "model_module_version": "2.0.0",
      "model_name": "LayoutModel",
      "state": {
       "flex": "2"
      }
     },
     "441a767d6e79408b9f75581520ef5fb9": {
      "model_module": "@jupyter-widgets/controls",
      "model_module_version": "2.0.0",
      "model_name": "HTMLModel",
      "state": {
       "layout": "IPY_MODEL_0b10b5ef05f74d70b53b943883a78b29",
       "style": "IPY_MODEL_eea760b8f2eb4f75b44ef81334580a50",
       "value": "Validation DataLoader 0: 100%"
      }
     },
     "4437cba06523454dafac28791cccbd0d": {
      "model_module": "@jupyter-widgets/controls",
      "model_module_version": "2.0.0",
      "model_name": "HTMLStyleModel",
      "state": {
       "description_width": "",
       "font_size": null,
       "text_color": null
      }
     },
     "4479825701804256937b9169eeb7b687": {
      "model_module": "@jupyter-widgets/base",
      "model_module_version": "2.0.0",
      "model_name": "LayoutModel",
      "state": {}
     },
     "452b97dbd3484d44a152ad0aa6be4905": {
      "model_module": "@jupyter-widgets/controls",
      "model_module_version": "2.0.0",
      "model_name": "HTMLStyleModel",
      "state": {
       "description_width": "",
       "font_size": null,
       "text_color": null
      }
     },
     "46deba31fb5b4d7da15af4b2f2f2cda4": {
      "model_module": "@jupyter-widgets/base",
      "model_module_version": "2.0.0",
      "model_name": "LayoutModel",
      "state": {}
     },
     "47034724c2114a65accddcda66117bf4": {
      "model_module": "@jupyter-widgets/base",
      "model_module_version": "2.0.0",
      "model_name": "LayoutModel",
      "state": {
       "display": "inline-flex",
       "flex_flow": "row wrap",
       "visibility": "hidden",
       "width": "100%"
      }
     },
     "471f1e1bcada4e24b851bebc95266b05": {
      "model_module": "@jupyter-widgets/controls",
      "model_module_version": "2.0.0",
      "model_name": "ProgressStyleModel",
      "state": {
       "description_width": ""
      }
     },
     "4777409f0cc84138b4589c0549a91d04": {
      "model_module": "@jupyter-widgets/controls",
      "model_module_version": "2.0.0",
      "model_name": "HTMLStyleModel",
      "state": {
       "description_width": "",
       "font_size": null,
       "text_color": null
      }
     },
     "480fca4474b1405d8f165eb4f20afa88": {
      "model_module": "@jupyter-widgets/controls",
      "model_module_version": "2.0.0",
      "model_name": "HTMLStyleModel",
      "state": {
       "description_width": "",
       "font_size": null,
       "text_color": null
      }
     },
     "4864196ebab141ef9c7e54af3b99afdc": {
      "model_module": "@jupyter-widgets/base",
      "model_module_version": "2.0.0",
      "model_name": "LayoutModel",
      "state": {}
     },
     "48b69100d8ac4940a052766a084aea9a": {
      "model_module": "@jupyter-widgets/controls",
      "model_module_version": "2.0.0",
      "model_name": "HTMLStyleModel",
      "state": {
       "description_width": "",
       "font_size": null,
       "text_color": null
      }
     },
     "48d8a9433b334900bbe2568330a92f36": {
      "model_module": "@jupyter-widgets/controls",
      "model_module_version": "2.0.0",
      "model_name": "HTMLStyleModel",
      "state": {
       "description_width": "",
       "font_size": null,
       "text_color": null
      }
     },
     "4a377001ea654df490913e8d658e82f7": {
      "model_module": "@jupyter-widgets/base",
      "model_module_version": "2.0.0",
      "model_name": "LayoutModel",
      "state": {
       "display": "inline-flex",
       "flex_flow": "row wrap",
       "visibility": "hidden",
       "width": "100%"
      }
     },
     "4aae42ea0611477f9817a1288c491cec": {
      "model_module": "@jupyter-widgets/controls",
      "model_module_version": "2.0.0",
      "model_name": "FloatProgressModel",
      "state": {
       "layout": "IPY_MODEL_d972e48f16e345c78afa438403859db3",
       "max": 1087,
       "style": "IPY_MODEL_ae22ddcd94964f0c9c39a8d58d015b5c",
       "value": 1087
      }
     },
     "4b1b3754b8254de5b81229a45c7083b0": {
      "model_module": "@jupyter-widgets/base",
      "model_module_version": "2.0.0",
      "model_name": "LayoutModel",
      "state": {}
     },
     "4c8e6eeb430b4d24a5afce296bbee3f7": {
      "model_module": "@jupyter-widgets/base",
      "model_module_version": "2.0.0",
      "model_name": "LayoutModel",
      "state": {
       "display": "inline-flex",
       "flex_flow": "row wrap",
       "visibility": "hidden",
       "width": "100%"
      }
     },
     "4d0407b8453f4e4dbfde85c185a6d080": {
      "model_module": "@jupyter-widgets/controls",
      "model_module_version": "2.0.0",
      "model_name": "HTMLStyleModel",
      "state": {
       "description_width": "",
       "font_size": null,
       "text_color": null
      }
     },
     "4d61df8e279f4aa89e1e997fa33f106c": {
      "model_module": "@jupyter-widgets/controls",
      "model_module_version": "2.0.0",
      "model_name": "ProgressStyleModel",
      "state": {
       "description_width": ""
      }
     },
     "4dbc1fc9cd4447218d089e96d45f7d3e": {
      "model_module": "@jupyter-widgets/controls",
      "model_module_version": "2.0.0",
      "model_name": "ProgressStyleModel",
      "state": {
       "description_width": ""
      }
     },
     "4df32023facd4547b4df75cde417f8e1": {
      "model_module": "@jupyter-widgets/controls",
      "model_module_version": "2.0.0",
      "model_name": "HTMLStyleModel",
      "state": {
       "description_width": "",
       "font_size": null,
       "text_color": null
      }
     },
     "4f6e9c025744430d885f81bad846270e": {
      "model_module": "@jupyter-widgets/base",
      "model_module_version": "2.0.0",
      "model_name": "LayoutModel",
      "state": {
       "flex": "2"
      }
     },
     "4fc517f9718d4bbfa1106260e2529806": {
      "model_module": "@jupyter-widgets/base",
      "model_module_version": "2.0.0",
      "model_name": "LayoutModel",
      "state": {
       "display": "inline-flex",
       "flex_flow": "row wrap",
       "visibility": "hidden",
       "width": "100%"
      }
     },
     "50b5fcbb428c48fa83539a906653adc5": {
      "model_module": "@jupyter-widgets/controls",
      "model_module_version": "2.0.0",
      "model_name": "HTMLStyleModel",
      "state": {
       "description_width": "",
       "font_size": null,
       "text_color": null
      }
     },
     "50f0be2cfe6b4ff28e790f207cbb3e65": {
      "model_module": "@jupyter-widgets/controls",
      "model_module_version": "2.0.0",
      "model_name": "FloatProgressModel",
      "state": {
       "layout": "IPY_MODEL_df48b7b2121442139de063eba4fc2214",
       "max": 1087,
       "style": "IPY_MODEL_e55a88b06f3a4aa8b5154d6cd09c141a",
       "value": 1087
      }
     },
     "5134cfecf2d74962ac037af69ac09175": {
      "model_module": "@jupyter-widgets/base",
      "model_module_version": "2.0.0",
      "model_name": "LayoutModel",
      "state": {
       "display": "inline-flex",
       "flex_flow": "row wrap",
       "visibility": "hidden",
       "width": "100%"
      }
     },
     "5138b5fa26b347d3931226f31ab31914": {
      "model_module": "@jupyter-widgets/controls",
      "model_module_version": "2.0.0",
      "model_name": "HTMLModel",
      "state": {
       "layout": "IPY_MODEL_c4a5e288fa81474380b352c08d3d69be",
       "style": "IPY_MODEL_10d3a53ecc8640669985c33e14595c11",
       "value": " 1087/1087 [00:07&lt;00:00, 141.36it/s]"
      }
     },
     "516264413f9e46488640aa459eb82103": {
      "model_module": "@jupyter-widgets/controls",
      "model_module_version": "2.0.0",
      "model_name": "FloatProgressModel",
      "state": {
       "layout": "IPY_MODEL_5309cef75e234dbe9d18726e254b2bde",
       "max": 1087,
       "style": "IPY_MODEL_a74dc4784f4945c6908712f7f3fee4d7",
       "value": 1087
      }
     },
     "522cf46c57e84c549cc59387495cc7ac": {
      "model_module": "@jupyter-widgets/base",
      "model_module_version": "2.0.0",
      "model_name": "LayoutModel",
      "state": {
       "display": "inline-flex",
       "flex_flow": "row wrap",
       "visibility": "hidden",
       "width": "100%"
      }
     },
     "52584252315941048588603a5c699e28": {
      "model_module": "@jupyter-widgets/base",
      "model_module_version": "2.0.0",
      "model_name": "LayoutModel",
      "state": {
       "display": "inline-flex",
       "flex_flow": "row wrap",
       "visibility": "hidden",
       "width": "100%"
      }
     },
     "5309cef75e234dbe9d18726e254b2bde": {
      "model_module": "@jupyter-widgets/base",
      "model_module_version": "2.0.0",
      "model_name": "LayoutModel",
      "state": {
       "flex": "2"
      }
     },
     "54115b725ac548b2a124dde84d27f7b0": {
      "model_module": "@jupyter-widgets/controls",
      "model_module_version": "2.0.0",
      "model_name": "FloatProgressModel",
      "state": {
       "layout": "IPY_MODEL_02510d22b0c54b4cada8da87f829e5fc",
       "max": 1087,
       "style": "IPY_MODEL_a0c925621ce3472e8d7b37801f22fdd9",
       "value": 1087
      }
     },
     "54524d004b9f4f1585e1594cef027ec4": {
      "model_module": "@jupyter-widgets/controls",
      "model_module_version": "2.0.0",
      "model_name": "FloatProgressModel",
      "state": {
       "layout": "IPY_MODEL_7cb5487cc7434004953512ce61e2f11c",
       "max": 1087,
       "style": "IPY_MODEL_471f1e1bcada4e24b851bebc95266b05",
       "value": 1087
      }
     },
     "54b9f7f433b9475d83543a559dfda694": {
      "model_module": "@jupyter-widgets/controls",
      "model_module_version": "2.0.0",
      "model_name": "ProgressStyleModel",
      "state": {
       "description_width": ""
      }
     },
     "54d67c975b7f4feb95d812e93f382a77": {
      "model_module": "@jupyter-widgets/base",
      "model_module_version": "2.0.0",
      "model_name": "LayoutModel",
      "state": {}
     },
     "55034d6c6b33436aab411a36f1c8bd17": {
      "model_module": "@jupyter-widgets/controls",
      "model_module_version": "2.0.0",
      "model_name": "FloatProgressModel",
      "state": {
       "layout": "IPY_MODEL_34be6907209e4612bd40002c84e3132d",
       "max": 1087,
       "style": "IPY_MODEL_1d18c268b0c44406ad0a50d1bcce965d",
       "value": 1087
      }
     },
     "55b0a28e4f4d447faed48a1e9ad677b7": {
      "model_module": "@jupyter-widgets/base",
      "model_module_version": "2.0.0",
      "model_name": "LayoutModel",
      "state": {}
     },
     "55b2117cca114fcab12ac545ff953a1d": {
      "model_module": "@jupyter-widgets/base",
      "model_module_version": "2.0.0",
      "model_name": "LayoutModel",
      "state": {}
     },
     "55e1fb2ceb5f4585a4f9f9a7d72aa1a6": {
      "model_module": "@jupyter-widgets/controls",
      "model_module_version": "2.0.0",
      "model_name": "FloatProgressModel",
      "state": {
       "layout": "IPY_MODEL_f3df08b0ef9d48a4bf8ebedd0e38cc36",
       "max": 1087,
       "style": "IPY_MODEL_1cfd51cd07b2457085c093ccc0fbd2d0",
       "value": 1087
      }
     },
     "56835366d7b44be0a99bb0ba651cce43": {
      "model_module": "@jupyter-widgets/controls",
      "model_module_version": "2.0.0",
      "model_name": "FloatProgressModel",
      "state": {
       "layout": "IPY_MODEL_b282e0fcb85b4b5097212ace54ff2edb",
       "max": 1087,
       "style": "IPY_MODEL_e2b64a4f4fe04bd4a24d50566d2c2a99",
       "value": 1087
      }
     },
     "56936759ee434e4cbd991873f0ab5206": {
      "model_module": "@jupyter-widgets/base",
      "model_module_version": "2.0.0",
      "model_name": "LayoutModel",
      "state": {
       "display": "inline-flex",
       "flex_flow": "row wrap",
       "visibility": "hidden",
       "width": "100%"
      }
     },
     "5754ba1cfb8f4788b7fac2e3c270d574": {
      "model_module": "@jupyter-widgets/base",
      "model_module_version": "2.0.0",
      "model_name": "LayoutModel",
      "state": {
       "display": "inline-flex",
       "flex_flow": "row wrap",
       "visibility": "hidden",
       "width": "100%"
      }
     },
     "5789b21dd7244401bc046e9e45b9dcd7": {
      "model_module": "@jupyter-widgets/controls",
      "model_module_version": "2.0.0",
      "model_name": "HTMLModel",
      "state": {
       "layout": "IPY_MODEL_b2ee883b0cd04304923178d40f2fca98",
       "style": "IPY_MODEL_4d0407b8453f4e4dbfde85c185a6d080",
       "value": " 1087/1087 [00:07&lt;00:00, 148.62it/s]"
      }
     },
     "5846dc067475448697fe11d4a7e1b922": {
      "model_module": "@jupyter-widgets/controls",
      "model_module_version": "2.0.0",
      "model_name": "HTMLStyleModel",
      "state": {
       "description_width": "",
       "font_size": null,
       "text_color": null
      }
     },
     "584801158ad74b3e84b7ff324b147998": {
      "model_module": "@jupyter-widgets/base",
      "model_module_version": "2.0.0",
      "model_name": "LayoutModel",
      "state": {
       "display": "inline-flex",
       "flex_flow": "row wrap",
       "visibility": "hidden",
       "width": "100%"
      }
     },
     "58683b490d3a46b4ae115040c066b57a": {
      "model_module": "@jupyter-widgets/base",
      "model_module_version": "2.0.0",
      "model_name": "LayoutModel",
      "state": {}
     },
     "58b49e9046884ef19287887d26b4497f": {
      "model_module": "@jupyter-widgets/controls",
      "model_module_version": "2.0.0",
      "model_name": "HTMLStyleModel",
      "state": {
       "description_width": "",
       "font_size": null,
       "text_color": null
      }
     },
     "59096c06c8eb48ddb56c71d497056086": {
      "model_module": "@jupyter-widgets/controls",
      "model_module_version": "2.0.0",
      "model_name": "HTMLStyleModel",
      "state": {
       "description_width": "",
       "font_size": null,
       "text_color": null
      }
     },
     "598e1a2b8b984408aa49ea97045629a6": {
      "model_module": "@jupyter-widgets/base",
      "model_module_version": "2.0.0",
      "model_name": "LayoutModel",
      "state": {
       "flex": "2"
      }
     },
     "59cb62aac935482f8391af4c8ee86894": {
      "model_module": "@jupyter-widgets/controls",
      "model_module_version": "2.0.0",
      "model_name": "HTMLModel",
      "state": {
       "layout": "IPY_MODEL_62bb192c2ba74107bd882e0d61190528",
       "style": "IPY_MODEL_ac478ad034724b5293b8dad0501bc93c",
       "value": " 1087/1087 [00:07&lt;00:00, 137.78it/s]"
      }
     },
     "59fa6879f57249a2a0a97c8f4f32ac63": {
      "model_module": "@jupyter-widgets/base",
      "model_module_version": "2.0.0",
      "model_name": "LayoutModel",
      "state": {
       "display": "inline-flex",
       "flex_flow": "row wrap",
       "visibility": "hidden",
       "width": "100%"
      }
     },
     "5b7f0c0f1568418aa6d5f977391c28ef": {
      "model_module": "@jupyter-widgets/controls",
      "model_module_version": "2.0.0",
      "model_name": "HTMLModel",
      "state": {
       "layout": "IPY_MODEL_46deba31fb5b4d7da15af4b2f2f2cda4",
       "style": "IPY_MODEL_61edb965c9314722bd6e584ecf9ba6e1",
       "value": " 1087/1087 [00:08&lt;00:00, 133.09it/s]"
      }
     },
     "5bc5a89f16c14bea99c661995481a6c1": {
      "model_module": "@jupyter-widgets/controls",
      "model_module_version": "2.0.0",
      "model_name": "HTMLStyleModel",
      "state": {
       "description_width": "",
       "font_size": null,
       "text_color": null
      }
     },
     "5be59e1700684f10a88d4d89e3c890d4": {
      "model_module": "@jupyter-widgets/base",
      "model_module_version": "2.0.0",
      "model_name": "LayoutModel",
      "state": {
       "flex": "2"
      }
     },
     "5c481981778c4f45953e55549d8f556c": {
      "model_module": "@jupyter-widgets/controls",
      "model_module_version": "2.0.0",
      "model_name": "HTMLStyleModel",
      "state": {
       "description_width": "",
       "font_size": null,
       "text_color": null
      }
     },
     "5c7bb011b4d644c8bf2c239280d987bf": {
      "model_module": "@jupyter-widgets/base",
      "model_module_version": "2.0.0",
      "model_name": "LayoutModel",
      "state": {}
     },
     "5ca0f6daecd048c58c5bef26c3a8116c": {
      "model_module": "@jupyter-widgets/base",
      "model_module_version": "2.0.0",
      "model_name": "LayoutModel",
      "state": {}
     },
     "5d6b9258e4a34ecd92c5b9ca4e3042ba": {
      "model_module": "@jupyter-widgets/base",
      "model_module_version": "2.0.0",
      "model_name": "LayoutModel",
      "state": {
       "display": "inline-flex",
       "flex_flow": "row wrap",
       "visibility": "hidden",
       "width": "100%"
      }
     },
     "5e196be07a8246659130e94b2b84b882": {
      "model_module": "@jupyter-widgets/base",
      "model_module_version": "2.0.0",
      "model_name": "LayoutModel",
      "state": {
       "flex": "2"
      }
     },
     "5f2a263421424b5a9365c018dc857582": {
      "model_module": "@jupyter-widgets/controls",
      "model_module_version": "2.0.0",
      "model_name": "FloatProgressModel",
      "state": {
       "layout": "IPY_MODEL_9da6c327577d4a838029dbfec60f1bfa",
       "max": 1087,
       "style": "IPY_MODEL_be726480c92a40a6b6cc67ea5eb85118",
       "value": 1087
      }
     },
     "5f9284f0c166480b8753ab93a545706e": {
      "model_module": "@jupyter-widgets/base",
      "model_module_version": "2.0.0",
      "model_name": "LayoutModel",
      "state": {
       "display": "inline-flex",
       "flex_flow": "row wrap",
       "visibility": "hidden",
       "width": "100%"
      }
     },
     "5fcbefdbad0847eeb525a3f8eeff73e6": {
      "model_module": "@jupyter-widgets/controls",
      "model_module_version": "2.0.0",
      "model_name": "FloatProgressModel",
      "state": {
       "layout": "IPY_MODEL_ac13436be352450ebf03249b14e86951",
       "max": 1087,
       "style": "IPY_MODEL_68f8ed6c62bc44da9b95e42660fcfc51",
       "value": 1087
      }
     },
     "60e567eafcb64f8f83162bb60d464e9e": {
      "model_module": "@jupyter-widgets/base",
      "model_module_version": "2.0.0",
      "model_name": "LayoutModel",
      "state": {
       "flex": "2"
      }
     },
     "61173df51e634784bb3db25a21c74378": {
      "model_module": "@jupyter-widgets/base",
      "model_module_version": "2.0.0",
      "model_name": "LayoutModel",
      "state": {}
     },
     "6137338d712b498bacaa86fbbcbd83bc": {
      "model_module": "@jupyter-widgets/controls",
      "model_module_version": "2.0.0",
      "model_name": "FloatProgressModel",
      "state": {
       "layout": "IPY_MODEL_7123eaa5accb4cadaa752e17c4cababc",
       "max": 1087,
       "style": "IPY_MODEL_4dbc1fc9cd4447218d089e96d45f7d3e",
       "value": 1087
      }
     },
     "619bf74067164713a3afa71348ec77bc": {
      "model_module": "@jupyter-widgets/controls",
      "model_module_version": "2.0.0",
      "model_name": "HTMLModel",
      "state": {
       "layout": "IPY_MODEL_729e6de4c02744d89e05b80320978372",
       "style": "IPY_MODEL_48b69100d8ac4940a052766a084aea9a",
       "value": "Validation DataLoader 0: 100%"
      }
     },
     "61db52c3dc3f468e86ad21ca5af11152": {
      "model_module": "@jupyter-widgets/controls",
      "model_module_version": "2.0.0",
      "model_name": "HTMLStyleModel",
      "state": {
       "description_width": "",
       "font_size": null,
       "text_color": null
      }
     },
     "61edb965c9314722bd6e584ecf9ba6e1": {
      "model_module": "@jupyter-widgets/controls",
      "model_module_version": "2.0.0",
      "model_name": "HTMLStyleModel",
      "state": {
       "description_width": "",
       "font_size": null,
       "text_color": null
      }
     },
     "62bb192c2ba74107bd882e0d61190528": {
      "model_module": "@jupyter-widgets/base",
      "model_module_version": "2.0.0",
      "model_name": "LayoutModel",
      "state": {}
     },
     "632ea55f0ec74067adeddf3c2f36aa4b": {
      "model_module": "@jupyter-widgets/controls",
      "model_module_version": "2.0.0",
      "model_name": "HTMLModel",
      "state": {
       "layout": "IPY_MODEL_6505734b5a224991bbc22f9d1a6731bb",
       "style": "IPY_MODEL_9a42d0154fe04472a43cb042738f0dcf",
       "value": "Validation DataLoader 0: 100%"
      }
     },
     "6334d1589efc4ba8a1437904147afb03": {
      "model_module": "@jupyter-widgets/base",
      "model_module_version": "2.0.0",
      "model_name": "LayoutModel",
      "state": {}
     },
     "633c6ca45bf24a44809e45b5e0b4ab28": {
      "model_module": "@jupyter-widgets/controls",
      "model_module_version": "2.0.0",
      "model_name": "ProgressStyleModel",
      "state": {
       "description_width": ""
      }
     },
     "64139dec5dde4433ad2c2ce40151ff56": {
      "model_module": "@jupyter-widgets/controls",
      "model_module_version": "2.0.0",
      "model_name": "HTMLStyleModel",
      "state": {
       "description_width": "",
       "font_size": null,
       "text_color": null
      }
     },
     "64b2538813e44ecc965e54db1a44d44f": {
      "model_module": "@jupyter-widgets/controls",
      "model_module_version": "2.0.0",
      "model_name": "HTMLStyleModel",
      "state": {
       "description_width": "",
       "font_size": null,
       "text_color": null
      }
     },
     "6505734b5a224991bbc22f9d1a6731bb": {
      "model_module": "@jupyter-widgets/base",
      "model_module_version": "2.0.0",
      "model_name": "LayoutModel",
      "state": {}
     },
     "657d3da968354677b80d58aeecba2df2": {
      "model_module": "@jupyter-widgets/controls",
      "model_module_version": "2.0.0",
      "model_name": "HTMLStyleModel",
      "state": {
       "description_width": "",
       "font_size": null,
       "text_color": null
      }
     },
     "66008a761dbe476f9c8739c4f9436f8a": {
      "model_module": "@jupyter-widgets/base",
      "model_module_version": "2.0.0",
      "model_name": "LayoutModel",
      "state": {
       "display": "inline-flex",
       "flex_flow": "row wrap",
       "visibility": "hidden",
       "width": "100%"
      }
     },
     "668913cf816e4ed6b905c88d727fc692": {
      "model_module": "@jupyter-widgets/base",
      "model_module_version": "2.0.0",
      "model_name": "LayoutModel",
      "state": {
       "display": "inline-flex",
       "flex_flow": "row wrap",
       "visibility": "hidden",
       "width": "100%"
      }
     },
     "66a7968db05a4d8f83e8b03f2dde7e77": {
      "model_module": "@jupyter-widgets/base",
      "model_module_version": "2.0.0",
      "model_name": "LayoutModel",
      "state": {
       "flex": "2"
      }
     },
     "66dc2781a0a14e60bedcc182bdd6f8d2": {
      "model_module": "@jupyter-widgets/controls",
      "model_module_version": "2.0.0",
      "model_name": "HTMLStyleModel",
      "state": {
       "description_width": "",
       "font_size": null,
       "text_color": null
      }
     },
     "670b8ffb93cd405081d21c932f93892a": {
      "model_module": "@jupyter-widgets/controls",
      "model_module_version": "2.0.0",
      "model_name": "HTMLModel",
      "state": {
       "layout": "IPY_MODEL_eb2fbb0440b944c395e2a062e3e0849b",
       "style": "IPY_MODEL_c04e26165fab49a6857d3deb85c2f45e",
       "value": " 1087/1087 [00:08&lt;00:00, 129.15it/s]"
      }
     },
     "67a3268471a04afbb03182b797aa3a47": {
      "model_module": "@jupyter-widgets/controls",
      "model_module_version": "2.0.0",
      "model_name": "FloatProgressModel",
      "state": {
       "layout": "IPY_MODEL_1c969c274d68484aaab8f382915945b8",
       "max": 1087,
       "style": "IPY_MODEL_a4ac5b541bf44669995e9f1452fb5965",
       "value": 1087
      }
     },
     "67d1928e509a4d9eb066b10f98aac45d": {
      "model_module": "@jupyter-widgets/controls",
      "model_module_version": "2.0.0",
      "model_name": "HTMLStyleModel",
      "state": {
       "description_width": "",
       "font_size": null,
       "text_color": null
      }
     },
     "68f8ed6c62bc44da9b95e42660fcfc51": {
      "model_module": "@jupyter-widgets/controls",
      "model_module_version": "2.0.0",
      "model_name": "ProgressStyleModel",
      "state": {
       "description_width": ""
      }
     },
     "69c6c2822aab4f5684a2009eaee42eec": {
      "model_module": "@jupyter-widgets/base",
      "model_module_version": "2.0.0",
      "model_name": "LayoutModel",
      "state": {
       "display": "inline-flex",
       "flex_flow": "row wrap",
       "width": "100%"
      }
     },
     "6b70c757fa8241f8a02951068c75ecb6": {
      "model_module": "@jupyter-widgets/base",
      "model_module_version": "2.0.0",
      "model_name": "LayoutModel",
      "state": {}
     },
     "6c3e5770a8d646b4b28d38fdd2139cbb": {
      "model_module": "@jupyter-widgets/controls",
      "model_module_version": "2.0.0",
      "model_name": "FloatProgressModel",
      "state": {
       "layout": "IPY_MODEL_c9535a72c2b44d9192b2f347e8d49d15",
       "max": 1087,
       "style": "IPY_MODEL_309a354fac7a4d61bc0181409a853baa",
       "value": 1087
      }
     },
     "6cc2442ea989475084c8a21eaa312fa0": {
      "model_module": "@jupyter-widgets/controls",
      "model_module_version": "2.0.0",
      "model_name": "HTMLModel",
      "state": {
       "layout": "IPY_MODEL_d971a781a10f4e9b9ea20a2dba03fc11",
       "style": "IPY_MODEL_bf112b4d48a0478d9761c09c63032c25",
       "value": "Validation DataLoader 0: 100%"
      }
     },
     "6cc9ad16633a41e98f0bc8b1a2319f34": {
      "model_module": "@jupyter-widgets/controls",
      "model_module_version": "2.0.0",
      "model_name": "FloatProgressModel",
      "state": {
       "layout": "IPY_MODEL_8da4a3a81c6846b681464d4cc9a4df97",
       "max": 1087,
       "style": "IPY_MODEL_c753aba8846646e9b79d6c73b89d9466",
       "value": 1087
      }
     },
     "6cdde88ada7b4d7b9e5c21941ead63f1": {
      "model_module": "@jupyter-widgets/controls",
      "model_module_version": "2.0.0",
      "model_name": "HTMLModel",
      "state": {
       "layout": "IPY_MODEL_55b2117cca114fcab12ac545ff953a1d",
       "style": "IPY_MODEL_5c481981778c4f45953e55549d8f556c",
       "value": "Validation DataLoader 0: 100%"
      }
     },
     "6d5d47bd4c0e463f96b31d3ff1e4dff8": {
      "model_module": "@jupyter-widgets/base",
      "model_module_version": "2.0.0",
      "model_name": "LayoutModel",
      "state": {}
     },
     "6de2bf00c35c4132a07a3509f0947e94": {
      "model_module": "@jupyter-widgets/controls",
      "model_module_version": "2.0.0",
      "model_name": "HTMLModel",
      "state": {
       "layout": "IPY_MODEL_cd87aaa69b9d48e8a9adf6d6bb9ee712",
       "style": "IPY_MODEL_02a19b040f6d4327b3ecf51c54c4f045",
       "value": " 1087/1087 [00:07&lt;00:00, 147.84it/s]"
      }
     },
     "6e357cc82f52493db369a93042b4f199": {
      "model_module": "@jupyter-widgets/controls",
      "model_module_version": "2.0.0",
      "model_name": "HTMLStyleModel",
      "state": {
       "description_width": "",
       "font_size": null,
       "text_color": null
      }
     },
     "6e6899a60a3241bca1d9bb7edc2f0d2a": {
      "model_module": "@jupyter-widgets/controls",
      "model_module_version": "2.0.0",
      "model_name": "ProgressStyleModel",
      "state": {
       "description_width": ""
      }
     },
     "6f9ddddf20784c009ae2a1ec82561019": {
      "model_module": "@jupyter-widgets/base",
      "model_module_version": "2.0.0",
      "model_name": "LayoutModel",
      "state": {}
     },
     "702f82594b7c4df291bf5fef324cefc2": {
      "model_module": "@jupyter-widgets/base",
      "model_module_version": "2.0.0",
      "model_name": "LayoutModel",
      "state": {
       "display": "inline-flex",
       "flex_flow": "row wrap",
       "visibility": "hidden",
       "width": "100%"
      }
     },
     "70b6a36ede2447f29055659f956cc569": {
      "model_module": "@jupyter-widgets/controls",
      "model_module_version": "2.0.0",
      "model_name": "HTMLStyleModel",
      "state": {
       "description_width": "",
       "font_size": null,
       "text_color": null
      }
     },
     "7123eaa5accb4cadaa752e17c4cababc": {
      "model_module": "@jupyter-widgets/base",
      "model_module_version": "2.0.0",
      "model_name": "LayoutModel",
      "state": {
       "flex": "2"
      }
     },
     "71c1350571eb42189648e611717fe17a": {
      "model_module": "@jupyter-widgets/controls",
      "model_module_version": "2.0.0",
      "model_name": "HTMLModel",
      "state": {
       "layout": "IPY_MODEL_89a8da3b95274bf0b125c684e72902f8",
       "style": "IPY_MODEL_273561d0aedb446eb59041b780beb16f",
       "value": "Validation DataLoader 0: 100%"
      }
     },
     "729e6de4c02744d89e05b80320978372": {
      "model_module": "@jupyter-widgets/base",
      "model_module_version": "2.0.0",
      "model_name": "LayoutModel",
      "state": {}
     },
     "72d42c44a1294e97abf128bb6b6f97e6": {
      "model_module": "@jupyter-widgets/base",
      "model_module_version": "2.0.0",
      "model_name": "LayoutModel",
      "state": {
       "display": "inline-flex",
       "flex_flow": "row wrap",
       "visibility": "hidden",
       "width": "100%"
      }
     },
     "73a468fc4b994591a90f16dbdc34415c": {
      "model_module": "@jupyter-widgets/base",
      "model_module_version": "2.0.0",
      "model_name": "LayoutModel",
      "state": {
       "display": "inline-flex",
       "flex_flow": "row wrap",
       "visibility": "hidden",
       "width": "100%"
      }
     },
     "746b72d2b3504cc49a17b2c0a1b1773b": {
      "model_module": "@jupyter-widgets/base",
      "model_module_version": "2.0.0",
      "model_name": "LayoutModel",
      "state": {}
     },
     "74a538b2d1ba4c0096e08a4ba1dcec7e": {
      "model_module": "@jupyter-widgets/controls",
      "model_module_version": "2.0.0",
      "model_name": "HTMLModel",
      "state": {
       "layout": "IPY_MODEL_cfde01993f33430c8c76903ca10889d8",
       "style": "IPY_MODEL_9e19762f89d24d8aaa436bc76f5de7b6",
       "value": " 1087/1087 [00:07&lt;00:00, 136.39it/s]"
      }
     },
     "74c91e9ee6fa486796e5ab0d53142d15": {
      "model_module": "@jupyter-widgets/controls",
      "model_module_version": "2.0.0",
      "model_name": "HTMLStyleModel",
      "state": {
       "description_width": "",
       "font_size": null,
       "text_color": null
      }
     },
     "758fd8652b5a4ff0bb23bf27ad4d6167": {
      "model_module": "@jupyter-widgets/base",
      "model_module_version": "2.0.0",
      "model_name": "LayoutModel",
      "state": {}
     },
     "75d4500db4b14b54b033744bd305cfed": {
      "model_module": "@jupyter-widgets/controls",
      "model_module_version": "2.0.0",
      "model_name": "HTMLStyleModel",
      "state": {
       "description_width": "",
       "font_size": null,
       "text_color": null
      }
     },
     "760ecac07d26457ca81cea0ce3a58fca": {
      "model_module": "@jupyter-widgets/controls",
      "model_module_version": "2.0.0",
      "model_name": "HTMLModel",
      "state": {
       "layout": "IPY_MODEL_6f9ddddf20784c009ae2a1ec82561019",
       "style": "IPY_MODEL_a46e19ce47e84f5ca8e5547d0ac4e8e5",
       "value": "Validation DataLoader 0: 100%"
      }
     },
     "765ead1692f943e28930d341ea31c7c6": {
      "model_module": "@jupyter-widgets/base",
      "model_module_version": "2.0.0",
      "model_name": "LayoutModel",
      "state": {
       "flex": "2"
      }
     },
     "768d988938204cdc906bc8ec80dc0160": {
      "model_module": "@jupyter-widgets/controls",
      "model_module_version": "2.0.0",
      "model_name": "HTMLStyleModel",
      "state": {
       "description_width": "",
       "font_size": null,
       "text_color": null
      }
     },
     "77f862c4d19844aea176ccc2c64368bb": {
      "model_module": "@jupyter-widgets/base",
      "model_module_version": "2.0.0",
      "model_name": "LayoutModel",
      "state": {
       "display": "inline-flex",
       "flex_flow": "row wrap",
       "visibility": "hidden",
       "width": "100%"
      }
     },
     "785a0e6f206a44938485a867f47a3a14": {
      "model_module": "@jupyter-widgets/base",
      "model_module_version": "2.0.0",
      "model_name": "LayoutModel",
      "state": {}
     },
     "78ead0fbff98432b880cfc99186ef5ce": {
      "model_module": "@jupyter-widgets/controls",
      "model_module_version": "2.0.0",
      "model_name": "HTMLStyleModel",
      "state": {
       "description_width": "",
       "font_size": null,
       "text_color": null
      }
     },
     "790d9e5f6e3c421f9f574c8c92a5231d": {
      "model_module": "@jupyter-widgets/base",
      "model_module_version": "2.0.0",
      "model_name": "LayoutModel",
      "state": {}
     },
     "7981e9d22c9f46948def0cad57e234fc": {
      "model_module": "@jupyter-widgets/base",
      "model_module_version": "2.0.0",
      "model_name": "LayoutModel",
      "state": {}
     },
     "79b46b501ba4435a9ab52ebc57cdd556": {
      "model_module": "@jupyter-widgets/base",
      "model_module_version": "2.0.0",
      "model_name": "LayoutModel",
      "state": {}
     },
     "7a196f641d3e4e38932bc897ecdd8024": {
      "model_module": "@jupyter-widgets/controls",
      "model_module_version": "2.0.0",
      "model_name": "ProgressStyleModel",
      "state": {
       "description_width": ""
      }
     },
     "7b0191bf81544041a72d7160c069d3b1": {
      "model_module": "@jupyter-widgets/controls",
      "model_module_version": "2.0.0",
      "model_name": "FloatProgressModel",
      "state": {
       "layout": "IPY_MODEL_91460dda5acf49b8b1a1c854de965adc",
       "max": 1087,
       "style": "IPY_MODEL_004082c5393d40a0856f6141037ae8e5",
       "value": 1087
      }
     },
     "7c41ad6beaa04160963c87fbe66784da": {
      "model_module": "@jupyter-widgets/base",
      "model_module_version": "2.0.0",
      "model_name": "LayoutModel",
      "state": {
       "flex": "2"
      }
     },
     "7cb5487cc7434004953512ce61e2f11c": {
      "model_module": "@jupyter-widgets/base",
      "model_module_version": "2.0.0",
      "model_name": "LayoutModel",
      "state": {
       "flex": "2"
      }
     },
     "7d090fb9ad3b4b8eb90859642edf7790": {
      "model_module": "@jupyter-widgets/controls",
      "model_module_version": "2.0.0",
      "model_name": "HTMLModel",
      "state": {
       "layout": "IPY_MODEL_790d9e5f6e3c421f9f574c8c92a5231d",
       "style": "IPY_MODEL_35cd03069fef437698a9ba8b5e1e2c3f",
       "value": " 1087/1087 [00:07&lt;00:00, 145.32it/s]"
      }
     },
     "7d6d929c8a5b41f9985687fb38be4520": {
      "model_module": "@jupyter-widgets/base",
      "model_module_version": "2.0.0",
      "model_name": "LayoutModel",
      "state": {
       "display": "inline-flex",
       "flex_flow": "row wrap",
       "visibility": "hidden",
       "width": "100%"
      }
     },
     "7e4c00ffb0044ff68884f0611fc31e2b": {
      "model_module": "@jupyter-widgets/base",
      "model_module_version": "2.0.0",
      "model_name": "LayoutModel",
      "state": {
       "display": "inline-flex",
       "flex_flow": "row wrap",
       "visibility": "hidden",
       "width": "100%"
      }
     },
     "7ee05f73dc2f4570b9b2ec08cdaf6671": {
      "model_module": "@jupyter-widgets/controls",
      "model_module_version": "2.0.0",
      "model_name": "HTMLStyleModel",
      "state": {
       "description_width": "",
       "font_size": null,
       "text_color": null
      }
     },
     "7fb068c11df64641aaf02a2249babeee": {
      "model_module": "@jupyter-widgets/controls",
      "model_module_version": "2.0.0",
      "model_name": "HTMLModel",
      "state": {
       "layout": "IPY_MODEL_d0ea1e885a414089b93ebcbb9cecf0d1",
       "style": "IPY_MODEL_0d3ffb9e18cd4189a741db1aac6a62f3",
       "value": "Validation DataLoader 0: 100%"
      }
     },
     "7feb270c92884f24b7ab9d26938a0a2b": {
      "model_module": "@jupyter-widgets/controls",
      "model_module_version": "2.0.0",
      "model_name": "HTMLStyleModel",
      "state": {
       "description_width": "",
       "font_size": null,
       "text_color": null
      }
     },
     "8026147a91ac48e5997f68f6a71bc3aa": {
      "model_module": "@jupyter-widgets/controls",
      "model_module_version": "2.0.0",
      "model_name": "ProgressStyleModel",
      "state": {
       "description_width": ""
      }
     },
     "802a81d5c52e44d48de9068394d7a5da": {
      "model_module": "@jupyter-widgets/controls",
      "model_module_version": "2.0.0",
      "model_name": "ProgressStyleModel",
      "state": {
       "description_width": ""
      }
     },
     "805a5170266c44ebb4c5ea898ab10b26": {
      "model_module": "@jupyter-widgets/controls",
      "model_module_version": "2.0.0",
      "model_name": "ProgressStyleModel",
      "state": {
       "description_width": ""
      }
     },
     "821e9b6b578541f8bd4d5bcf9b2c272b": {
      "model_module": "@jupyter-widgets/base",
      "model_module_version": "2.0.0",
      "model_name": "LayoutModel",
      "state": {
       "flex": "2"
      }
     },
     "82ab614265cb4b28ad3e9ea6265da0dd": {
      "model_module": "@jupyter-widgets/controls",
      "model_module_version": "2.0.0",
      "model_name": "HTMLModel",
      "state": {
       "layout": "IPY_MODEL_b53afee1b20c468da73a02f85a35fab6",
       "style": "IPY_MODEL_5bc5a89f16c14bea99c661995481a6c1",
       "value": "Validation DataLoader 0: 100%"
      }
     },
     "841c06efcb77497292e5556b6a1be49f": {
      "model_module": "@jupyter-widgets/base",
      "model_module_version": "2.0.0",
      "model_name": "LayoutModel",
      "state": {}
     },
     "86718c844e2b479c902a62d35b1c42f7": {
      "model_module": "@jupyter-widgets/base",
      "model_module_version": "2.0.0",
      "model_name": "LayoutModel",
      "state": {}
     },
     "86befce517b44565acb62dddb5fd41d8": {
      "model_module": "@jupyter-widgets/base",
      "model_module_version": "2.0.0",
      "model_name": "LayoutModel",
      "state": {}
     },
     "871145e84e6443dfbb17a60d13665d80": {
      "model_module": "@jupyter-widgets/base",
      "model_module_version": "2.0.0",
      "model_name": "LayoutModel",
      "state": {}
     },
     "89a8da3b95274bf0b125c684e72902f8": {
      "model_module": "@jupyter-widgets/base",
      "model_module_version": "2.0.0",
      "model_name": "LayoutModel",
      "state": {}
     },
     "8a6b50e8a3cb491199c507e18bbae430": {
      "model_module": "@jupyter-widgets/controls",
      "model_module_version": "2.0.0",
      "model_name": "HBoxModel",
      "state": {
       "children": [
        "IPY_MODEL_35ffcf74739e4da8ad3685ef4a161805",
        "IPY_MODEL_1cd2a218a9764ba0b02cbcadf951f9bd",
        "IPY_MODEL_e27efe952b734276bf4416c9fcd4a3d1"
       ],
       "layout": "IPY_MODEL_9fbf0d967ceb4b5e8f3c843b1cb5795f"
      }
     },
     "8ac32c1cc9264ec58cb36041e67f38ab": {
      "model_module": "@jupyter-widgets/base",
      "model_module_version": "2.0.0",
      "model_name": "LayoutModel",
      "state": {}
     },
     "8b3dc2a16ff24b99b60cd48fc4c95481": {
      "model_module": "@jupyter-widgets/controls",
      "model_module_version": "2.0.0",
      "model_name": "HTMLModel",
      "state": {
       "layout": "IPY_MODEL_61173df51e634784bb3db25a21c74378",
       "style": "IPY_MODEL_4df32023facd4547b4df75cde417f8e1",
       "value": "Validation DataLoader 0: 100%"
      }
     },
     "8baf1144f53847fc8c386d5ffdf6c278": {
      "model_module": "@jupyter-widgets/controls",
      "model_module_version": "2.0.0",
      "model_name": "FloatProgressModel",
      "state": {
       "layout": "IPY_MODEL_7c41ad6beaa04160963c87fbe66784da",
       "max": 1087,
       "style": "IPY_MODEL_410128b0d02b471b947d9afaa20091fc",
       "value": 1087
      }
     },
     "8c8bf1d353a4499da222fa6f7175ac38": {
      "model_module": "@jupyter-widgets/controls",
      "model_module_version": "2.0.0",
      "model_name": "HTMLModel",
      "state": {
       "layout": "IPY_MODEL_9807133202344eb489a8042b2f797cce",
       "style": "IPY_MODEL_59096c06c8eb48ddb56c71d497056086",
       "value": " 1087/1087 [00:08&lt;00:00, 133.55it/s]"
      }
     },
     "8c988a09b9dd426e8da7297e8b571414": {
      "model_module": "@jupyter-widgets/base",
      "model_module_version": "2.0.0",
      "model_name": "LayoutModel",
      "state": {
       "flex": "2"
      }
     },
     "8d53048f0cb84badb92bf465dba94c0d": {
      "model_module": "@jupyter-widgets/base",
      "model_module_version": "2.0.0",
      "model_name": "LayoutModel",
      "state": {
       "display": "inline-flex",
       "flex_flow": "row wrap",
       "visibility": "hidden",
       "width": "100%"
      }
     },
     "8d6b13979e4e4dd99882fe6b71388a89": {
      "model_module": "@jupyter-widgets/base",
      "model_module_version": "2.0.0",
      "model_name": "LayoutModel",
      "state": {}
     },
     "8da4a3a81c6846b681464d4cc9a4df97": {
      "model_module": "@jupyter-widgets/base",
      "model_module_version": "2.0.0",
      "model_name": "LayoutModel",
      "state": {
       "flex": "2"
      }
     },
     "8ddbd46ca95e4489bc90d656f6373223": {
      "model_module": "@jupyter-widgets/base",
      "model_module_version": "2.0.0",
      "model_name": "LayoutModel",
      "state": {}
     },
     "8ed7c85104ac4f049fef9f53eb032744": {
      "model_module": "@jupyter-widgets/controls",
      "model_module_version": "2.0.0",
      "model_name": "HTMLModel",
      "state": {
       "layout": "IPY_MODEL_841c06efcb77497292e5556b6a1be49f",
       "style": "IPY_MODEL_98b5afabf0ef4e4cb2530f19f2afcd11",
       "value": " 1087/1087 [00:08&lt;00:00, 134.90it/s]"
      }
     },
     "8f0eab5f031b42ac9820d33a3d717a4a": {
      "model_module": "@jupyter-widgets/controls",
      "model_module_version": "2.0.0",
      "model_name": "FloatProgressModel",
      "state": {
       "layout": "IPY_MODEL_bfead2f9530c4459abf4d55f65d5c454",
       "max": 1087,
       "style": "IPY_MODEL_22cccf5e31614902a3d644a9f644dc14",
       "value": 1087
      }
     },
     "8fe32745b0224bc281a30287278f2a46": {
      "model_module": "@jupyter-widgets/controls",
      "model_module_version": "2.0.0",
      "model_name": "FloatProgressModel",
      "state": {
       "layout": "IPY_MODEL_cfab750b061240539208ca60ebcb2fb5",
       "max": 1087,
       "style": "IPY_MODEL_14dbac7652c34f95a36599f46c432fe8",
       "value": 1087
      }
     },
     "91460dda5acf49b8b1a1c854de965adc": {
      "model_module": "@jupyter-widgets/base",
      "model_module_version": "2.0.0",
      "model_name": "LayoutModel",
      "state": {
       "flex": "2"
      }
     },
     "915a2673c44d40bbafa14176e763459c": {
      "model_module": "@jupyter-widgets/controls",
      "model_module_version": "2.0.0",
      "model_name": "HTMLModel",
      "state": {
       "layout": "IPY_MODEL_5ca0f6daecd048c58c5bef26c3a8116c",
       "style": "IPY_MODEL_ac49a543ad664e4c9644b92d490c5c21",
       "value": " 1087/1087 [00:07&lt;00:00, 137.97it/s]"
      }
     },
     "92318dd5b74a4bdb81ce2025ea7afb9a": {
      "model_module": "@jupyter-widgets/controls",
      "model_module_version": "2.0.0",
      "model_name": "HTMLStyleModel",
      "state": {
       "description_width": "",
       "font_size": null,
       "text_color": null
      }
     },
     "929195b79f7943b39eb19bbe35c31dad": {
      "model_module": "@jupyter-widgets/controls",
      "model_module_version": "2.0.0",
      "model_name": "HTMLStyleModel",
      "state": {
       "description_width": "",
       "font_size": null,
       "text_color": null
      }
     },
     "92cd129959cf4652a51cbbb3c9306591": {
      "model_module": "@jupyter-widgets/controls",
      "model_module_version": "2.0.0",
      "model_name": "ProgressStyleModel",
      "state": {
       "description_width": ""
      }
     },
     "93527074258c45409bd45f7044135d3b": {
      "model_module": "@jupyter-widgets/controls",
      "model_module_version": "2.0.0",
      "model_name": "FloatProgressModel",
      "state": {
       "layout": "IPY_MODEL_43696b65795d4c6dbccb4c2bbf3e96f8",
       "max": 1087,
       "style": "IPY_MODEL_6e6899a60a3241bca1d9bb7edc2f0d2a",
       "value": 1087
      }
     },
     "93b86845e4ec4eee91d8f9494ef1f247": {
      "model_module": "@jupyter-widgets/controls",
      "model_module_version": "2.0.0",
      "model_name": "HTMLModel",
      "state": {
       "layout": "IPY_MODEL_86befce517b44565acb62dddb5fd41d8",
       "style": "IPY_MODEL_15a5ef0fdff84af1883dae128107bcb3",
       "value": "Validation DataLoader 0: 100%"
      }
     },
     "93ed47b95d2340b28e5785fc40d9dcc8": {
      "model_module": "@jupyter-widgets/controls",
      "model_module_version": "2.0.0",
      "model_name": "FloatProgressModel",
      "state": {
       "layout": "IPY_MODEL_f40f92128a0148f38b0bfe8608cecd91",
       "max": 1087,
       "style": "IPY_MODEL_3592a69b14b544af93cedfd33160005a",
       "value": 1087
      }
     },
     "940b368b23034abeb19853a9a4818b9b": {
      "model_module": "@jupyter-widgets/controls",
      "model_module_version": "2.0.0",
      "model_name": "HTMLModel",
      "state": {
       "layout": "IPY_MODEL_3eca22101b7d411892411129d2a13b1f",
       "style": "IPY_MODEL_3aa5de61f8024bd496d9907d728557c5",
       "value": "Validation DataLoader 0: 100%"
      }
     },
     "9597d9139fdc472b94481bfeb72b0c6b": {
      "model_module": "@jupyter-widgets/controls",
      "model_module_version": "2.0.0",
      "model_name": "FloatProgressModel",
      "state": {
       "layout": "IPY_MODEL_a61ba8d3f305448f82f185b951cefbf0",
       "max": 1087,
       "style": "IPY_MODEL_11717bbadb894e839e80d618e7e1d2e2",
       "value": 1087
      }
     },
     "963e650311b94c33972b4a1082295518": {
      "model_module": "@jupyter-widgets/controls",
      "model_module_version": "2.0.0",
      "model_name": "HTMLModel",
      "state": {
       "layout": "IPY_MODEL_4864196ebab141ef9c7e54af3b99afdc",
       "style": "IPY_MODEL_03d7f062d08f419cb1d5e9b0799b0bee",
       "value": "Validation DataLoader 0: 100%"
      }
     },
     "9640e1e1a7bb4df0879616a0fad78684": {
      "model_module": "@jupyter-widgets/controls",
      "model_module_version": "2.0.0",
      "model_name": "HTMLModel",
      "state": {
       "layout": "IPY_MODEL_c1a6a138db4e49bfa9257fbca91a9432",
       "style": "IPY_MODEL_480fca4474b1405d8f165eb4f20afa88",
       "value": " 1087/1087 [00:07&lt;00:00, 148.45it/s]"
      }
     },
     "96e137d7b1d94de583aebc756d7bd978": {
      "model_module": "@jupyter-widgets/base",
      "model_module_version": "2.0.0",
      "model_name": "LayoutModel",
      "state": {}
     },
     "972d950b83944f25a76ddf5ed493c86c": {
      "model_module": "@jupyter-widgets/controls",
      "model_module_version": "2.0.0",
      "model_name": "HTMLModel",
      "state": {
       "layout": "IPY_MODEL_86718c844e2b479c902a62d35b1c42f7",
       "style": "IPY_MODEL_70b6a36ede2447f29055659f956cc569",
       "value": " 1087/1087 [00:07&lt;00:00, 142.70it/s]"
      }
     },
     "9765eb93ddf04a86a2c67cb382752bb7": {
      "model_module": "@jupyter-widgets/controls",
      "model_module_version": "2.0.0",
      "model_name": "HTMLModel",
      "state": {
       "layout": "IPY_MODEL_6d5d47bd4c0e463f96b31d3ff1e4dff8",
       "style": "IPY_MODEL_3425183b06da4563a9318cee39550564",
       "value": "Validation DataLoader 0: 100%"
      }
     },
     "97a3f09add2446098c764e94adc5d9ea": {
      "model_module": "@jupyter-widgets/controls",
      "model_module_version": "2.0.0",
      "model_name": "ProgressStyleModel",
      "state": {
       "description_width": ""
      }
     },
     "9807133202344eb489a8042b2f797cce": {
      "model_module": "@jupyter-widgets/base",
      "model_module_version": "2.0.0",
      "model_name": "LayoutModel",
      "state": {}
     },
     "98b5afabf0ef4e4cb2530f19f2afcd11": {
      "model_module": "@jupyter-widgets/controls",
      "model_module_version": "2.0.0",
      "model_name": "HTMLStyleModel",
      "state": {
       "description_width": "",
       "font_size": null,
       "text_color": null
      }
     },
     "993e0b23ca274680b0184d6ae046dee1": {
      "model_module": "@jupyter-widgets/controls",
      "model_module_version": "2.0.0",
      "model_name": "HTMLModel",
      "state": {
       "layout": "IPY_MODEL_c48327b5362b4c2b8a31ecb575b792a8",
       "style": "IPY_MODEL_a4354aede25e4d2583f3e9448966ed4d",
       "value": "Validation DataLoader 0: 100%"
      }
     },
     "99e7d1eaa9c24ee09101065a10bbcfba": {
      "model_module": "@jupyter-widgets/controls",
      "model_module_version": "2.0.0",
      "model_name": "ProgressStyleModel",
      "state": {
       "description_width": ""
      }
     },
     "9a42d0154fe04472a43cb042738f0dcf": {
      "model_module": "@jupyter-widgets/controls",
      "model_module_version": "2.0.0",
      "model_name": "HTMLStyleModel",
      "state": {
       "description_width": "",
       "font_size": null,
       "text_color": null
      }
     },
     "9a8670ae3bca4df1bd645e0d694737e5": {
      "model_module": "@jupyter-widgets/controls",
      "model_module_version": "2.0.0",
      "model_name": "HTMLModel",
      "state": {
       "layout": "IPY_MODEL_1f86d0d754374ff4b7000d30d33b8843",
       "style": "IPY_MODEL_fbfd52eeac88404a896c3dd836312023",
       "value": "Validation DataLoader 0: 100%"
      }
     },
     "9ce77ebadadc40f287823389733307b4": {
      "model_module": "@jupyter-widgets/controls",
      "model_module_version": "2.0.0",
      "model_name": "HTMLStyleModel",
      "state": {
       "description_width": "",
       "font_size": null,
       "text_color": null
      }
     },
     "9d2fc520d54e4c908e6e756026e1eaaa": {
      "model_module": "@jupyter-widgets/controls",
      "model_module_version": "2.0.0",
      "model_name": "HTMLModel",
      "state": {
       "layout": "IPY_MODEL_b92b521d8e43466a8a841b5902c2d5be",
       "style": "IPY_MODEL_1d3f1668f012499ba3a8985a704deeb8",
       "value": " 1087/1087 [00:07&lt;00:00, 137.09it/s]"
      }
     },
     "9da6c327577d4a838029dbfec60f1bfa": {
      "model_module": "@jupyter-widgets/base",
      "model_module_version": "2.0.0",
      "model_name": "LayoutModel",
      "state": {
       "flex": "2"
      }
     },
     "9db342ecee354a7baeb19c5080555e31": {
      "model_module": "@jupyter-widgets/controls",
      "model_module_version": "2.0.0",
      "model_name": "HTMLModel",
      "state": {
       "layout": "IPY_MODEL_36bd36a1262e4f3ead11ac6ae88879ce",
       "style": "IPY_MODEL_37119bb03b2c44e79b1f3733ead3f39c",
       "value": " 1087/1087 [00:08&lt;00:00, 131.64it/s]"
      }
     },
     "9db4307ff96c4130a7583e98e7796a52": {
      "model_module": "@jupyter-widgets/controls",
      "model_module_version": "2.0.0",
      "model_name": "FloatProgressModel",
      "state": {
       "layout": "IPY_MODEL_14fa53a102c64f42946655ca77899be1",
       "max": 1087,
       "style": "IPY_MODEL_802a81d5c52e44d48de9068394d7a5da",
       "value": 1087
      }
     },
     "9dc346f4a2844509a185e7f399b09774": {
      "model_module": "@jupyter-widgets/controls",
      "model_module_version": "2.0.0",
      "model_name": "HTMLStyleModel",
      "state": {
       "description_width": "",
       "font_size": null,
       "text_color": null
      }
     },
     "9e19762f89d24d8aaa436bc76f5de7b6": {
      "model_module": "@jupyter-widgets/controls",
      "model_module_version": "2.0.0",
      "model_name": "HTMLStyleModel",
      "state": {
       "description_width": "",
       "font_size": null,
       "text_color": null
      }
     },
     "9e4e038d626449c497bdd350990bd3e5": {
      "model_module": "@jupyter-widgets/controls",
      "model_module_version": "2.0.0",
      "model_name": "HTMLStyleModel",
      "state": {
       "description_width": "",
       "font_size": null,
       "text_color": null
      }
     },
     "9e53358ad42246d1b32230a375e07649": {
      "model_module": "@jupyter-widgets/controls",
      "model_module_version": "2.0.0",
      "model_name": "HTMLModel",
      "state": {
       "layout": "IPY_MODEL_de173cc9a0be464c835d44afd3e6fa4d",
       "style": "IPY_MODEL_66dc2781a0a14e60bedcc182bdd6f8d2",
       "value": "Validation DataLoader 0: 100%"
      }
     },
     "9e613ff444bc422b8ce7f994d67aea8c": {
      "model_module": "@jupyter-widgets/controls",
      "model_module_version": "2.0.0",
      "model_name": "HTMLStyleModel",
      "state": {
       "description_width": "",
       "font_size": null,
       "text_color": null
      }
     },
     "9eb5753bec9c40f4894a222e9e8934cc": {
      "model_module": "@jupyter-widgets/base",
      "model_module_version": "2.0.0",
      "model_name": "LayoutModel",
      "state": {
       "display": "inline-flex",
       "flex_flow": "row wrap",
       "visibility": "hidden",
       "width": "100%"
      }
     },
     "9f2ef05f335440c989d3bbd85369098a": {
      "model_module": "@jupyter-widgets/controls",
      "model_module_version": "2.0.0",
      "model_name": "FloatProgressModel",
      "state": {
       "layout": "IPY_MODEL_c2aa0e8f112f46838b29a3c5450e073e",
       "max": 1087,
       "style": "IPY_MODEL_2c2c439619de40e4b39c56608e0fd24c",
       "value": 1087
      }
     },
     "9f78f9d98d134438b8c130af2b6b5037": {
      "model_module": "@jupyter-widgets/base",
      "model_module_version": "2.0.0",
      "model_name": "LayoutModel",
      "state": {}
     },
     "9fb76a232871420e94ab389dd7aded8b": {
      "model_module": "@jupyter-widgets/controls",
      "model_module_version": "2.0.0",
      "model_name": "HTMLModel",
      "state": {
       "layout": "IPY_MODEL_a2ee2c73dace4145a805bbb212b2b336",
       "style": "IPY_MODEL_92318dd5b74a4bdb81ce2025ea7afb9a",
       "value": " 1087/1087 [00:07&lt;00:00, 138.64it/s]"
      }
     },
     "9fbf0d967ceb4b5e8f3c843b1cb5795f": {
      "model_module": "@jupyter-widgets/base",
      "model_module_version": "2.0.0",
      "model_name": "LayoutModel",
      "state": {
       "display": "inline-flex",
       "flex_flow": "row wrap",
       "width": "100%"
      }
     },
     "a007be5487e54762967f953351768a2e": {
      "model_module": "@jupyter-widgets/base",
      "model_module_version": "2.0.0",
      "model_name": "LayoutModel",
      "state": {}
     },
     "a031b516f7dd4934b0b74ae40a5e97f0": {
      "model_module": "@jupyter-widgets/controls",
      "model_module_version": "2.0.0",
      "model_name": "HTMLModel",
      "state": {
       "layout": "IPY_MODEL_6b70c757fa8241f8a02951068c75ecb6",
       "style": "IPY_MODEL_e941c94a224d46cda1b923e4fc03bb99",
       "value": " 1087/1087 [00:08&lt;00:00, 133.96it/s]"
      }
     },
     "a0c925621ce3472e8d7b37801f22fdd9": {
      "model_module": "@jupyter-widgets/controls",
      "model_module_version": "2.0.0",
      "model_name": "ProgressStyleModel",
      "state": {
       "description_width": ""
      }
     },
     "a14a801eb73f49fe9e0236c1b7d2c320": {
      "model_module": "@jupyter-widgets/base",
      "model_module_version": "2.0.0",
      "model_name": "LayoutModel",
      "state": {
       "display": "inline-flex",
       "flex_flow": "row wrap",
       "visibility": "hidden",
       "width": "100%"
      }
     },
     "a17010f35879451ebb59f5b4232a093b": {
      "model_module": "@jupyter-widgets/controls",
      "model_module_version": "2.0.0",
      "model_name": "ProgressStyleModel",
      "state": {
       "description_width": ""
      }
     },
     "a189cb0f4b4b4a94812bfe14bc055f17": {
      "model_module": "@jupyter-widgets/controls",
      "model_module_version": "2.0.0",
      "model_name": "HTMLModel",
      "state": {
       "layout": "IPY_MODEL_79b46b501ba4435a9ab52ebc57cdd556",
       "style": "IPY_MODEL_50b5fcbb428c48fa83539a906653adc5",
       "value": "Validation DataLoader 0: 100%"
      }
     },
     "a1ca3357294544a3b4d2c4a3bd6f8d31": {
      "model_module": "@jupyter-widgets/base",
      "model_module_version": "2.0.0",
      "model_name": "LayoutModel",
      "state": {
       "display": "inline-flex",
       "flex_flow": "row wrap",
       "visibility": "hidden",
       "width": "100%"
      }
     },
     "a24c07eee6f74504b969284cc75775cf": {
      "model_module": "@jupyter-widgets/controls",
      "model_module_version": "2.0.0",
      "model_name": "FloatProgressModel",
      "state": {
       "layout": "IPY_MODEL_c0ecbb3334224fa68491b2019c613baf",
       "max": 1087,
       "style": "IPY_MODEL_b67de715dfda4b23ac50674311be6c2b",
       "value": 1087
      }
     },
     "a2b3065ca2334d0b82436e26890af462": {
      "model_module": "@jupyter-widgets/controls",
      "model_module_version": "2.0.0",
      "model_name": "FloatProgressModel",
      "state": {
       "layout": "IPY_MODEL_d2474c28a0444004b1bd23596ce134a5",
       "max": 1087,
       "style": "IPY_MODEL_54b9f7f433b9475d83543a559dfda694",
       "value": 1087
      }
     },
     "a2da03fc39a441198889b586ff265aef": {
      "model_module": "@jupyter-widgets/controls",
      "model_module_version": "2.0.0",
      "model_name": "HTMLStyleModel",
      "state": {
       "description_width": "",
       "font_size": null,
       "text_color": null
      }
     },
     "a2ee2c73dace4145a805bbb212b2b336": {
      "model_module": "@jupyter-widgets/base",
      "model_module_version": "2.0.0",
      "model_name": "LayoutModel",
      "state": {}
     },
     "a352bc46e1f249998ab1b1b52f59e02c": {
      "model_module": "@jupyter-widgets/controls",
      "model_module_version": "2.0.0",
      "model_name": "HTMLStyleModel",
      "state": {
       "description_width": "",
       "font_size": null,
       "text_color": null
      }
     },
     "a38afb048cc94d77b162f72c3414342b": {
      "model_module": "@jupyter-widgets/controls",
      "model_module_version": "2.0.0",
      "model_name": "HTMLModel",
      "state": {
       "layout": "IPY_MODEL_29489c2d326045268c2e16bec9a25801",
       "style": "IPY_MODEL_2d163f09716d4ce6b12a6bd6a92f84c1",
       "value": " 1087/1087 [00:07&lt;00:00, 145.95it/s]"
      }
     },
     "a4354aede25e4d2583f3e9448966ed4d": {
      "model_module": "@jupyter-widgets/controls",
      "model_module_version": "2.0.0",
      "model_name": "HTMLStyleModel",
      "state": {
       "description_width": "",
       "font_size": null,
       "text_color": null
      }
     },
     "a46e19ce47e84f5ca8e5547d0ac4e8e5": {
      "model_module": "@jupyter-widgets/controls",
      "model_module_version": "2.0.0",
      "model_name": "HTMLStyleModel",
      "state": {
       "description_width": "",
       "font_size": null,
       "text_color": null
      }
     },
     "a4ac5b541bf44669995e9f1452fb5965": {
      "model_module": "@jupyter-widgets/controls",
      "model_module_version": "2.0.0",
      "model_name": "ProgressStyleModel",
      "state": {
       "description_width": ""
      }
     },
     "a53b0af5bbde45399f455665bb1c9db2": {
      "model_module": "@jupyter-widgets/controls",
      "model_module_version": "2.0.0",
      "model_name": "ProgressStyleModel",
      "state": {
       "description_width": ""
      }
     },
     "a584d62d4f67472997715e19835aa310": {
      "model_module": "@jupyter-widgets/controls",
      "model_module_version": "2.0.0",
      "model_name": "FloatProgressModel",
      "state": {
       "layout": "IPY_MODEL_821e9b6b578541f8bd4d5bcf9b2c272b",
       "max": 1087,
       "style": "IPY_MODEL_a17010f35879451ebb59f5b4232a093b",
       "value": 1087
      }
     },
     "a61ba8d3f305448f82f185b951cefbf0": {
      "model_module": "@jupyter-widgets/base",
      "model_module_version": "2.0.0",
      "model_name": "LayoutModel",
      "state": {
       "flex": "2"
      }
     },
     "a64debd7367e482188298a793f84cb3f": {
      "model_module": "@jupyter-widgets/controls",
      "model_module_version": "2.0.0",
      "model_name": "HTMLStyleModel",
      "state": {
       "description_width": "",
       "font_size": null,
       "text_color": null
      }
     },
     "a652000cb1fe44aa9b550f7003187589": {
      "model_module": "@jupyter-widgets/controls",
      "model_module_version": "2.0.0",
      "model_name": "FloatProgressModel",
      "state": {
       "layout": "IPY_MODEL_afe6992b187649f2a2a1153ed5ac8bc7",
       "max": 1087,
       "style": "IPY_MODEL_eaa27c2c9758493ba9cfbace53772177",
       "value": 1087
      }
     },
     "a68b352dad7245cdba9c0c96ecd3ab51": {
      "model_module": "@jupyter-widgets/base",
      "model_module_version": "2.0.0",
      "model_name": "LayoutModel",
      "state": {
       "display": "inline-flex",
       "flex_flow": "row wrap",
       "visibility": "hidden",
       "width": "100%"
      }
     },
     "a6da215f35484735a04758a805012c6c": {
      "model_module": "@jupyter-widgets/base",
      "model_module_version": "2.0.0",
      "model_name": "LayoutModel",
      "state": {}
     },
     "a74dc4784f4945c6908712f7f3fee4d7": {
      "model_module": "@jupyter-widgets/controls",
      "model_module_version": "2.0.0",
      "model_name": "ProgressStyleModel",
      "state": {
       "description_width": ""
      }
     },
     "a7eddfa0bc264cec8f97409b4d233737": {
      "model_module": "@jupyter-widgets/controls",
      "model_module_version": "2.0.0",
      "model_name": "HTMLModel",
      "state": {
       "layout": "IPY_MODEL_d0e58cffa62f4766b64cc0611e58271e",
       "style": "IPY_MODEL_3e68ec4975864f77a97deb392c0cfb98",
       "value": "Validation DataLoader 0: 100%"
      }
     },
     "a7fc3f357e334d87aeeb4ee1e0b0518c": {
      "model_module": "@jupyter-widgets/controls",
      "model_module_version": "2.0.0",
      "model_name": "FloatProgressModel",
      "state": {
       "layout": "IPY_MODEL_e02ebe6b87a14f6a9ed158cdcadf2b94",
       "max": 1087,
       "style": "IPY_MODEL_4d61df8e279f4aa89e1e997fa33f106c",
       "value": 1087
      }
     },
     "a8a1bba1376b43c5b393610a0a412c16": {
      "model_module": "@jupyter-widgets/base",
      "model_module_version": "2.0.0",
      "model_name": "LayoutModel",
      "state": {
       "display": "inline-flex",
       "flex_flow": "row wrap",
       "visibility": "hidden",
       "width": "100%"
      }
     },
     "a917bfdf0552440683d304a0c61fbe81": {
      "model_module": "@jupyter-widgets/controls",
      "model_module_version": "2.0.0",
      "model_name": "FloatProgressModel",
      "state": {
       "layout": "IPY_MODEL_0d834a6cc6b747a79fef3ddacb247a15",
       "max": 1087,
       "style": "IPY_MODEL_7a196f641d3e4e38932bc897ecdd8024",
       "value": 1087
      }
     },
     "a9425cc379ba46e890bd63df5a7892ef": {
      "model_module": "@jupyter-widgets/controls",
      "model_module_version": "2.0.0",
      "model_name": "HTMLModel",
      "state": {
       "layout": "IPY_MODEL_d314c3a5af3d4c24a20ff12473a9f7a8",
       "style": "IPY_MODEL_58b49e9046884ef19287887d26b4497f",
       "value": "Validation DataLoader 0: 100%"
      }
     },
     "a95df633a4e3447b9b65379974db47b6": {
      "model_module": "@jupyter-widgets/controls",
      "model_module_version": "2.0.0",
      "model_name": "HTMLStyleModel",
      "state": {
       "description_width": "",
       "font_size": null,
       "text_color": null
      }
     },
     "a9e8ff321ff040f3a543e698799dd94f": {
      "model_module": "@jupyter-widgets/controls",
      "model_module_version": "2.0.0",
      "model_name": "HTMLModel",
      "state": {
       "layout": "IPY_MODEL_6334d1589efc4ba8a1437904147afb03",
       "style": "IPY_MODEL_b2390a6215814dbd9e2a91015a8da210",
       "value": "Validation DataLoader 0: 100%"
      }
     },
     "aa3426effbe84ca78a9f64964b229638": {
      "model_module": "@jupyter-widgets/controls",
      "model_module_version": "2.0.0",
      "model_name": "HTMLStyleModel",
      "state": {
       "description_width": "",
       "font_size": null,
       "text_color": null
      }
     },
     "aa3a342998db44dfb81ea4c784a7bf17": {
      "model_module": "@jupyter-widgets/controls",
      "model_module_version": "2.0.0",
      "model_name": "HTMLModel",
      "state": {
       "layout": "IPY_MODEL_d958ccf7c8cc49908c925513e907a399",
       "style": "IPY_MODEL_9dc346f4a2844509a185e7f399b09774",
       "value": " 2/2 [00:00&lt;00:00, 10.39it/s]"
      }
     },
     "abfa6a653cf74acca5fda0a8f8ebbf3f": {
      "model_module": "@jupyter-widgets/controls",
      "model_module_version": "2.0.0",
      "model_name": "HTMLStyleModel",
      "state": {
       "description_width": "",
       "font_size": null,
       "text_color": null
      }
     },
     "ac13436be352450ebf03249b14e86951": {
      "model_module": "@jupyter-widgets/base",
      "model_module_version": "2.0.0",
      "model_name": "LayoutModel",
      "state": {
       "flex": "2"
      }
     },
     "ac478ad034724b5293b8dad0501bc93c": {
      "model_module": "@jupyter-widgets/controls",
      "model_module_version": "2.0.0",
      "model_name": "HTMLStyleModel",
      "state": {
       "description_width": "",
       "font_size": null,
       "text_color": null
      }
     },
     "ac49a543ad664e4c9644b92d490c5c21": {
      "model_module": "@jupyter-widgets/controls",
      "model_module_version": "2.0.0",
      "model_name": "HTMLStyleModel",
      "state": {
       "description_width": "",
       "font_size": null,
       "text_color": null
      }
     },
     "ae22ddcd94964f0c9c39a8d58d015b5c": {
      "model_module": "@jupyter-widgets/controls",
      "model_module_version": "2.0.0",
      "model_name": "ProgressStyleModel",
      "state": {
       "description_width": ""
      }
     },
     "aeceb298eb2b4f75b91c888305959bb0": {
      "model_module": "@jupyter-widgets/base",
      "model_module_version": "2.0.0",
      "model_name": "LayoutModel",
      "state": {
       "display": "inline-flex",
       "flex_flow": "row wrap",
       "visibility": "hidden",
       "width": "100%"
      }
     },
     "afe6992b187649f2a2a1153ed5ac8bc7": {
      "model_module": "@jupyter-widgets/base",
      "model_module_version": "2.0.0",
      "model_name": "LayoutModel",
      "state": {
       "flex": "2"
      }
     },
     "b0d149ec6ee34c84b2393f0d069cd1e6": {
      "model_module": "@jupyter-widgets/base",
      "model_module_version": "2.0.0",
      "model_name": "LayoutModel",
      "state": {
       "display": "inline-flex",
       "flex_flow": "row wrap",
       "visibility": "hidden",
       "width": "100%"
      }
     },
     "b1e1a81eed0741228f81f2c0d5026c61": {
      "model_module": "@jupyter-widgets/controls",
      "model_module_version": "2.0.0",
      "model_name": "FloatProgressModel",
      "state": {
       "layout": "IPY_MODEL_5e196be07a8246659130e94b2b84b882",
       "max": 2,
       "style": "IPY_MODEL_ea2d54863fc84319b9cffe08d2a78d2a",
       "value": 2
      }
     },
     "b2172ffd5bcc417eb4329f0a5675e011": {
      "model_module": "@jupyter-widgets/controls",
      "model_module_version": "2.0.0",
      "model_name": "HTMLModel",
      "state": {
       "layout": "IPY_MODEL_314acd9dd5944c78a7afeb3f5daa4e53",
       "style": "IPY_MODEL_b94363064f3b4b8f899bc9a5db63bb43",
       "value": "Sanity Checking DataLoader 0: 100%"
      }
     },
     "b2390a6215814dbd9e2a91015a8da210": {
      "model_module": "@jupyter-widgets/controls",
      "model_module_version": "2.0.0",
      "model_name": "HTMLStyleModel",
      "state": {
       "description_width": "",
       "font_size": null,
       "text_color": null
      }
     },
     "b282e0fcb85b4b5097212ace54ff2edb": {
      "model_module": "@jupyter-widgets/base",
      "model_module_version": "2.0.0",
      "model_name": "LayoutModel",
      "state": {
       "flex": "2"
      }
     },
     "b2ee883b0cd04304923178d40f2fca98": {
      "model_module": "@jupyter-widgets/base",
      "model_module_version": "2.0.0",
      "model_name": "LayoutModel",
      "state": {}
     },
     "b4f84a1a86be440ba6b399c5aa9d7a2c": {
      "model_module": "@jupyter-widgets/controls",
      "model_module_version": "2.0.0",
      "model_name": "ProgressStyleModel",
      "state": {
       "description_width": ""
      }
     },
     "b514c508d30b459c819793d657b9fde3": {
      "model_module": "@jupyter-widgets/controls",
      "model_module_version": "2.0.0",
      "model_name": "HTMLStyleModel",
      "state": {
       "description_width": "",
       "font_size": null,
       "text_color": null
      }
     },
     "b53a0f8dca9c44f690554f0520ff56d5": {
      "model_module": "@jupyter-widgets/controls",
      "model_module_version": "2.0.0",
      "model_name": "HTMLStyleModel",
      "state": {
       "description_width": "",
       "font_size": null,
       "text_color": null
      }
     },
     "b53afee1b20c468da73a02f85a35fab6": {
      "model_module": "@jupyter-widgets/base",
      "model_module_version": "2.0.0",
      "model_name": "LayoutModel",
      "state": {}
     },
     "b619b5aa8e3940b3b9ab7d19ecd8078d": {
      "model_module": "@jupyter-widgets/controls",
      "model_module_version": "2.0.0",
      "model_name": "HTMLModel",
      "state": {
       "layout": "IPY_MODEL_0b1c27b1b97f45a19ea790a6ffa4460f",
       "style": "IPY_MODEL_7ee05f73dc2f4570b9b2ec08cdaf6671",
       "value": "Validation DataLoader 0: 100%"
      }
     },
     "b67de715dfda4b23ac50674311be6c2b": {
      "model_module": "@jupyter-widgets/controls",
      "model_module_version": "2.0.0",
      "model_name": "ProgressStyleModel",
      "state": {
       "description_width": ""
      }
     },
     "b683b6211553415689ee719d5b386122": {
      "model_module": "@jupyter-widgets/controls",
      "model_module_version": "2.0.0",
      "model_name": "HTMLStyleModel",
      "state": {
       "description_width": "",
       "font_size": null,
       "text_color": null
      }
     },
     "b6f11c1ea53745d8b38c0f40a6773b05": {
      "model_module": "@jupyter-widgets/controls",
      "model_module_version": "2.0.0",
      "model_name": "HTMLModel",
      "state": {
       "layout": "IPY_MODEL_55b0a28e4f4d447faed48a1e9ad677b7",
       "style": "IPY_MODEL_48d8a9433b334900bbe2568330a92f36",
       "value": " 1087/1087 [00:08&lt;00:00, 131.20it/s]"
      }
     },
     "b79b1d447a2a4a9b92e1cfa695fb46bb": {
      "model_module": "@jupyter-widgets/controls",
      "model_module_version": "2.0.0",
      "model_name": "HTMLStyleModel",
      "state": {
       "description_width": "",
       "font_size": null,
       "text_color": null
      }
     },
     "b7f8b8ff3c424dfa9a2555ad3885ebef": {
      "model_module": "@jupyter-widgets/base",
      "model_module_version": "2.0.0",
      "model_name": "LayoutModel",
      "state": {}
     },
     "b839ee0c260c43e69ad9c79630cb8af8": {
      "model_module": "@jupyter-widgets/controls",
      "model_module_version": "2.0.0",
      "model_name": "HTMLModel",
      "state": {
       "layout": "IPY_MODEL_c702061cab9b4222ac3d6a012198016e",
       "style": "IPY_MODEL_bcd71fdda0ce4c62a1a80d9386891a30",
       "value": " 4345/4345 [00:56&lt;00:00, 76.47it/s, v_num=3, train_loss=0.0325, val_loss=0.0292]"
      }
     },
     "b92b521d8e43466a8a841b5902c2d5be": {
      "model_module": "@jupyter-widgets/base",
      "model_module_version": "2.0.0",
      "model_name": "LayoutModel",
      "state": {}
     },
     "b94363064f3b4b8f899bc9a5db63bb43": {
      "model_module": "@jupyter-widgets/controls",
      "model_module_version": "2.0.0",
      "model_name": "HTMLStyleModel",
      "state": {
       "description_width": "",
       "font_size": null,
       "text_color": null
      }
     },
     "babcb44c719b40569db0e19bba16112a": {
      "model_module": "@jupyter-widgets/controls",
      "model_module_version": "2.0.0",
      "model_name": "FloatProgressModel",
      "state": {
       "layout": "IPY_MODEL_e074dd66e3924c45be6fe1953a9d559c",
       "max": 1087,
       "style": "IPY_MODEL_99e7d1eaa9c24ee09101065a10bbcfba",
       "value": 1087
      }
     },
     "bb6d4254b6dd4ef9b3c4448e7dc476f8": {
      "model_module": "@jupyter-widgets/controls",
      "model_module_version": "2.0.0",
      "model_name": "HTMLModel",
      "state": {
       "layout": "IPY_MODEL_5c7bb011b4d644c8bf2c239280d987bf",
       "style": "IPY_MODEL_64139dec5dde4433ad2c2ce40151ff56",
       "value": "Validation DataLoader 0: 100%"
      }
     },
     "bcd71fdda0ce4c62a1a80d9386891a30": {
      "model_module": "@jupyter-widgets/controls",
      "model_module_version": "2.0.0",
      "model_name": "HTMLStyleModel",
      "state": {
       "description_width": "",
       "font_size": null,
       "text_color": null
      }
     },
     "bd534211456e41e49422b6583b7f78dd": {
      "model_module": "@jupyter-widgets/controls",
      "model_module_version": "2.0.0",
      "model_name": "HTMLStyleModel",
      "state": {
       "description_width": "",
       "font_size": null,
       "text_color": null
      }
     },
     "bd75c6acf21e467297cc4f46c86f4e16": {
      "model_module": "@jupyter-widgets/controls",
      "model_module_version": "2.0.0",
      "model_name": "ProgressStyleModel",
      "state": {
       "description_width": ""
      }
     },
     "be726480c92a40a6b6cc67ea5eb85118": {
      "model_module": "@jupyter-widgets/controls",
      "model_module_version": "2.0.0",
      "model_name": "ProgressStyleModel",
      "state": {
       "description_width": ""
      }
     },
     "be94fe9078024c81938c5bf05ed59d42": {
      "model_module": "@jupyter-widgets/controls",
      "model_module_version": "2.0.0",
      "model_name": "HTMLStyleModel",
      "state": {
       "description_width": "",
       "font_size": null,
       "text_color": null
      }
     },
     "befc2e8b37544ec088df425481f52a28": {
      "model_module": "@jupyter-widgets/controls",
      "model_module_version": "2.0.0",
      "model_name": "HTMLStyleModel",
      "state": {
       "description_width": "",
       "font_size": null,
       "text_color": null
      }
     },
     "bf112b4d48a0478d9761c09c63032c25": {
      "model_module": "@jupyter-widgets/controls",
      "model_module_version": "2.0.0",
      "model_name": "HTMLStyleModel",
      "state": {
       "description_width": "",
       "font_size": null,
       "text_color": null
      }
     },
     "bf6c0282decc4bb9a19cf6b9cdb5b201": {
      "model_module": "@jupyter-widgets/controls",
      "model_module_version": "2.0.0",
      "model_name": "HTMLModel",
      "state": {
       "layout": "IPY_MODEL_31fd243481984dfe9a256d6130e3681d",
       "style": "IPY_MODEL_5846dc067475448697fe11d4a7e1b922",
       "value": "Epoch 43: 100%"
      }
     },
     "bfead2f9530c4459abf4d55f65d5c454": {
      "model_module": "@jupyter-widgets/base",
      "model_module_version": "2.0.0",
      "model_name": "LayoutModel",
      "state": {
       "flex": "2"
      }
     },
     "c04e26165fab49a6857d3deb85c2f45e": {
      "model_module": "@jupyter-widgets/controls",
      "model_module_version": "2.0.0",
      "model_name": "HTMLStyleModel",
      "state": {
       "description_width": "",
       "font_size": null,
       "text_color": null
      }
     },
     "c0823834b6cf4110a8652d3f1aafffc4": {
      "model_module": "@jupyter-widgets/base",
      "model_module_version": "2.0.0",
      "model_name": "LayoutModel",
      "state": {}
     },
     "c0ecbb3334224fa68491b2019c613baf": {
      "model_module": "@jupyter-widgets/base",
      "model_module_version": "2.0.0",
      "model_name": "LayoutModel",
      "state": {
       "flex": "2"
      }
     },
     "c17c2d8aca784fab98de73518ab017a3": {
      "model_module": "@jupyter-widgets/base",
      "model_module_version": "2.0.0",
      "model_name": "LayoutModel",
      "state": {}
     },
     "c1985ff494464a9fa26d3c41593844c5": {
      "model_module": "@jupyter-widgets/controls",
      "model_module_version": "2.0.0",
      "model_name": "HTMLStyleModel",
      "state": {
       "description_width": "",
       "font_size": null,
       "text_color": null
      }
     },
     "c1a6a138db4e49bfa9257fbca91a9432": {
      "model_module": "@jupyter-widgets/base",
      "model_module_version": "2.0.0",
      "model_name": "LayoutModel",
      "state": {}
     },
     "c1ffe5ca1cd34363bb4da0a1b08adf48": {
      "model_module": "@jupyter-widgets/controls",
      "model_module_version": "2.0.0",
      "model_name": "FloatProgressModel",
      "state": {
       "layout": "IPY_MODEL_c8c546f5ae59476abf15885fc9d0bf75",
       "max": 1087,
       "style": "IPY_MODEL_b4f84a1a86be440ba6b399c5aa9d7a2c",
       "value": 1087
      }
     },
     "c2aa0e8f112f46838b29a3c5450e073e": {
      "model_module": "@jupyter-widgets/base",
      "model_module_version": "2.0.0",
      "model_name": "LayoutModel",
      "state": {
       "flex": "2"
      }
     },
     "c33a9b869d1340a081c41775021c9924": {
      "model_module": "@jupyter-widgets/controls",
      "model_module_version": "2.0.0",
      "model_name": "HTMLModel",
      "state": {
       "layout": "IPY_MODEL_054accf94ec04039bc399853c2ba3291",
       "style": "IPY_MODEL_3fbff6b48507405aa0e47961ad8759ba",
       "value": "Validation DataLoader 0: 100%"
      }
     },
     "c3ed711b85204e6886c842c82152e979": {
      "model_module": "@jupyter-widgets/controls",
      "model_module_version": "2.0.0",
      "model_name": "HTMLStyleModel",
      "state": {
       "description_width": "",
       "font_size": null,
       "text_color": null
      }
     },
     "c43f09ac8309419c9444297429361b49": {
      "model_module": "@jupyter-widgets/controls",
      "model_module_version": "2.0.0",
      "model_name": "FloatProgressModel",
      "state": {
       "layout": "IPY_MODEL_5be59e1700684f10a88d4d89e3c890d4",
       "max": 1087,
       "style": "IPY_MODEL_1592ee4ddb0642f28d2d300e0fee10ae",
       "value": 1087
      }
     },
     "c48327b5362b4c2b8a31ecb575b792a8": {
      "model_module": "@jupyter-widgets/base",
      "model_module_version": "2.0.0",
      "model_name": "LayoutModel",
      "state": {}
     },
     "c4a5e288fa81474380b352c08d3d69be": {
      "model_module": "@jupyter-widgets/base",
      "model_module_version": "2.0.0",
      "model_name": "LayoutModel",
      "state": {}
     },
     "c61487af813a402c83b43f5a1434435a": {
      "model_module": "@jupyter-widgets/controls",
      "model_module_version": "2.0.0",
      "model_name": "HTMLStyleModel",
      "state": {
       "description_width": "",
       "font_size": null,
       "text_color": null
      }
     },
     "c6753b6d81cb4884bc7a2f94f10991d2": {
      "model_module": "@jupyter-widgets/base",
      "model_module_version": "2.0.0",
      "model_name": "LayoutModel",
      "state": {
       "display": "inline-flex",
       "flex_flow": "row wrap",
       "visibility": "hidden",
       "width": "100%"
      }
     },
     "c68d2c73b38a418f92553d2529f36499": {
      "model_module": "@jupyter-widgets/base",
      "model_module_version": "2.0.0",
      "model_name": "LayoutModel",
      "state": {}
     },
     "c6e300178cbc47dcba621a5bf79c9d6d": {
      "model_module": "@jupyter-widgets/controls",
      "model_module_version": "2.0.0",
      "model_name": "HTMLModel",
      "state": {
       "layout": "IPY_MODEL_c17c2d8aca784fab98de73518ab017a3",
       "style": "IPY_MODEL_75d4500db4b14b54b033744bd305cfed",
       "value": " 1087/1087 [00:07&lt;00:00, 149.81it/s]"
      }
     },
     "c702061cab9b4222ac3d6a012198016e": {
      "model_module": "@jupyter-widgets/base",
      "model_module_version": "2.0.0",
      "model_name": "LayoutModel",
      "state": {}
     },
     "c74d2f77e7784e159893b61eaf435dd7": {
      "model_module": "@jupyter-widgets/controls",
      "model_module_version": "2.0.0",
      "model_name": "HTMLModel",
      "state": {
       "layout": "IPY_MODEL_dc0f459af22e4bcba669da08cacfacbe",
       "style": "IPY_MODEL_fca2afd3499a4aa69db2e4cbff13b4de",
       "value": " 1087/1087 [00:07&lt;00:00, 141.28it/s]"
      }
     },
     "c753aba8846646e9b79d6c73b89d9466": {
      "model_module": "@jupyter-widgets/controls",
      "model_module_version": "2.0.0",
      "model_name": "ProgressStyleModel",
      "state": {
       "description_width": ""
      }
     },
     "c8c546f5ae59476abf15885fc9d0bf75": {
      "model_module": "@jupyter-widgets/base",
      "model_module_version": "2.0.0",
      "model_name": "LayoutModel",
      "state": {
       "flex": "2"
      }
     },
     "c9535a72c2b44d9192b2f347e8d49d15": {
      "model_module": "@jupyter-widgets/base",
      "model_module_version": "2.0.0",
      "model_name": "LayoutModel",
      "state": {
       "flex": "2"
      }
     },
     "c961f62d42c24344a2c904cbae663f97": {
      "model_module": "@jupyter-widgets/controls",
      "model_module_version": "2.0.0",
      "model_name": "ProgressStyleModel",
      "state": {
       "description_width": ""
      }
     },
     "cb39303afc7041b391d9c9fe4c0d60a2": {
      "model_module": "@jupyter-widgets/controls",
      "model_module_version": "2.0.0",
      "model_name": "FloatProgressModel",
      "state": {
       "layout": "IPY_MODEL_e199db3251e2470383f7575fe1282cb2",
       "max": 1087,
       "style": "IPY_MODEL_048bcad59ac740c28bd547e463bae674",
       "value": 1087
      }
     },
     "cbc1797065ce4712a56e387c341493ec": {
      "model_module": "@jupyter-widgets/controls",
      "model_module_version": "2.0.0",
      "model_name": "FloatProgressModel",
      "state": {
       "layout": "IPY_MODEL_8c988a09b9dd426e8da7297e8b571414",
       "max": 1087,
       "style": "IPY_MODEL_bd75c6acf21e467297cc4f46c86f4e16",
       "value": 1087
      }
     },
     "cd87aaa69b9d48e8a9adf6d6bb9ee712": {
      "model_module": "@jupyter-widgets/base",
      "model_module_version": "2.0.0",
      "model_name": "LayoutModel",
      "state": {}
     },
     "cdd4f968ec2c484c89232040eb524ae1": {
      "model_module": "@jupyter-widgets/controls",
      "model_module_version": "2.0.0",
      "model_name": "HTMLStyleModel",
      "state": {
       "description_width": "",
       "font_size": null,
       "text_color": null
      }
     },
     "ce2b4d75fd1a40878a5c53bf4a69ad94": {
      "model_module": "@jupyter-widgets/base",
      "model_module_version": "2.0.0",
      "model_name": "LayoutModel",
      "state": {}
     },
     "cfab750b061240539208ca60ebcb2fb5": {
      "model_module": "@jupyter-widgets/base",
      "model_module_version": "2.0.0",
      "model_name": "LayoutModel",
      "state": {
       "flex": "2"
      }
     },
     "cfca68df1be84037a5b74d8c448294c1": {
      "model_module": "@jupyter-widgets/base",
      "model_module_version": "2.0.0",
      "model_name": "LayoutModel",
      "state": {}
     },
     "cfde01993f33430c8c76903ca10889d8": {
      "model_module": "@jupyter-widgets/base",
      "model_module_version": "2.0.0",
      "model_name": "LayoutModel",
      "state": {}
     },
     "d0e58cffa62f4766b64cc0611e58271e": {
      "model_module": "@jupyter-widgets/base",
      "model_module_version": "2.0.0",
      "model_name": "LayoutModel",
      "state": {}
     },
     "d0ea1e885a414089b93ebcbb9cecf0d1": {
      "model_module": "@jupyter-widgets/base",
      "model_module_version": "2.0.0",
      "model_name": "LayoutModel",
      "state": {}
     },
     "d2474c28a0444004b1bd23596ce134a5": {
      "model_module": "@jupyter-widgets/base",
      "model_module_version": "2.0.0",
      "model_name": "LayoutModel",
      "state": {
       "flex": "2"
      }
     },
     "d27efa126c78425a8d56307d32c06db4": {
      "model_module": "@jupyter-widgets/controls",
      "model_module_version": "2.0.0",
      "model_name": "HTMLModel",
      "state": {
       "layout": "IPY_MODEL_daedd54506604da0ab544883dd576c51",
       "style": "IPY_MODEL_be94fe9078024c81938c5bf05ed59d42",
       "value": " 1087/1087 [00:08&lt;00:00, 128.35it/s]"
      }
     },
     "d314c3a5af3d4c24a20ff12473a9f7a8": {
      "model_module": "@jupyter-widgets/base",
      "model_module_version": "2.0.0",
      "model_name": "LayoutModel",
      "state": {}
     },
     "d43eef7910f4408690ec47550709ba48": {
      "model_module": "@jupyter-widgets/base",
      "model_module_version": "2.0.0",
      "model_name": "LayoutModel",
      "state": {
       "display": "inline-flex",
       "flex_flow": "row wrap",
       "visibility": "hidden",
       "width": "100%"
      }
     },
     "d5573376b427423b91bb52b32d8ade08": {
      "model_module": "@jupyter-widgets/controls",
      "model_module_version": "2.0.0",
      "model_name": "HTMLModel",
      "state": {
       "layout": "IPY_MODEL_e91555be10f74e9a91d9aef5aa283ff9",
       "style": "IPY_MODEL_a352bc46e1f249998ab1b1b52f59e02c",
       "value": " 1087/1087 [00:08&lt;00:00, 132.69it/s]"
      }
     },
     "d71e689986724813969c494c39086be3": {
      "model_module": "@jupyter-widgets/controls",
      "model_module_version": "2.0.0",
      "model_name": "FloatProgressModel",
      "state": {
       "bar_style": "success",
       "layout": "IPY_MODEL_05fb5dc8ea4c4637be328efd567f1ec8",
       "max": 4345,
       "style": "IPY_MODEL_805a5170266c44ebb4c5ea898ab10b26",
       "value": 4345
      }
     },
     "d8db40d37b8945cea173c59bd4982a61": {
      "model_module": "@jupyter-widgets/base",
      "model_module_version": "2.0.0",
      "model_name": "LayoutModel",
      "state": {
       "flex": "2"
      }
     },
     "d92f5696c00a4a6e8ee835e13678c176": {
      "model_module": "@jupyter-widgets/controls",
      "model_module_version": "2.0.0",
      "model_name": "FloatProgressModel",
      "state": {
       "layout": "IPY_MODEL_eab95c5d36a14145b06f37aad66944c8",
       "max": 1087,
       "style": "IPY_MODEL_2ebae8b4f74b48a8b509263642d04ad8",
       "value": 1087
      }
     },
     "d958ccf7c8cc49908c925513e907a399": {
      "model_module": "@jupyter-widgets/base",
      "model_module_version": "2.0.0",
      "model_name": "LayoutModel",
      "state": {}
     },
     "d971a781a10f4e9b9ea20a2dba03fc11": {
      "model_module": "@jupyter-widgets/base",
      "model_module_version": "2.0.0",
      "model_name": "LayoutModel",
      "state": {}
     },
     "d972e48f16e345c78afa438403859db3": {
      "model_module": "@jupyter-widgets/base",
      "model_module_version": "2.0.0",
      "model_name": "LayoutModel",
      "state": {
       "flex": "2"
      }
     },
     "dac2ad98f61c4f11b8b725af3e4fa456": {
      "model_module": "@jupyter-widgets/controls",
      "model_module_version": "2.0.0",
      "model_name": "HTMLModel",
      "state": {
       "layout": "IPY_MODEL_3107d1e5740e46bb9c1f312826148492",
       "style": "IPY_MODEL_ed4f0d91aa9945ce9242fe939228b13f",
       "value": "Validation DataLoader 0: 100%"
      }
     },
     "daedd54506604da0ab544883dd576c51": {
      "model_module": "@jupyter-widgets/base",
      "model_module_version": "2.0.0",
      "model_name": "LayoutModel",
      "state": {}
     },
     "dc0f459af22e4bcba669da08cacfacbe": {
      "model_module": "@jupyter-widgets/base",
      "model_module_version": "2.0.0",
      "model_name": "LayoutModel",
      "state": {}
     },
     "dc43d8395c52456bacf038bd734f1521": {
      "model_module": "@jupyter-widgets/base",
      "model_module_version": "2.0.0",
      "model_name": "LayoutModel",
      "state": {}
     },
     "de173cc9a0be464c835d44afd3e6fa4d": {
      "model_module": "@jupyter-widgets/base",
      "model_module_version": "2.0.0",
      "model_name": "LayoutModel",
      "state": {}
     },
     "debbb1c1401e418e8b90ac05ad8cba0f": {
      "model_module": "@jupyter-widgets/controls",
      "model_module_version": "2.0.0",
      "model_name": "HTMLStyleModel",
      "state": {
       "description_width": "",
       "font_size": null,
       "text_color": null
      }
     },
     "df48b7b2121442139de063eba4fc2214": {
      "model_module": "@jupyter-widgets/base",
      "model_module_version": "2.0.0",
      "model_name": "LayoutModel",
      "state": {
       "flex": "2"
      }
     },
     "df53c3861a9b402fb6b70a209109ccf1": {
      "model_module": "@jupyter-widgets/base",
      "model_module_version": "2.0.0",
      "model_name": "LayoutModel",
      "state": {}
     },
     "df7056561c484d31af36b8f3cf6333d5": {
      "model_module": "@jupyter-widgets/controls",
      "model_module_version": "2.0.0",
      "model_name": "FloatProgressModel",
      "state": {
       "layout": "IPY_MODEL_28619323170343498d3a4d93917370a4",
       "max": 1087,
       "style": "IPY_MODEL_8026147a91ac48e5997f68f6a71bc3aa",
       "value": 1087
      }
     },
     "e0051975de644f30846a4cf98179c968": {
      "model_module": "@jupyter-widgets/controls",
      "model_module_version": "2.0.0",
      "model_name": "HTMLModel",
      "state": {
       "layout": "IPY_MODEL_58683b490d3a46b4ae115040c066b57a",
       "style": "IPY_MODEL_67d1928e509a4d9eb066b10f98aac45d",
       "value": " 1087/1087 [00:07&lt;00:00, 140.71it/s]"
      }
     },
     "e02ebe6b87a14f6a9ed158cdcadf2b94": {
      "model_module": "@jupyter-widgets/base",
      "model_module_version": "2.0.0",
      "model_name": "LayoutModel",
      "state": {
       "flex": "2"
      }
     },
     "e074dd66e3924c45be6fe1953a9d559c": {
      "model_module": "@jupyter-widgets/base",
      "model_module_version": "2.0.0",
      "model_name": "LayoutModel",
      "state": {
       "flex": "2"
      }
     },
     "e199db3251e2470383f7575fe1282cb2": {
      "model_module": "@jupyter-widgets/base",
      "model_module_version": "2.0.0",
      "model_name": "LayoutModel",
      "state": {
       "flex": "2"
      }
     },
     "e27efe952b734276bf4416c9fcd4a3d1": {
      "model_module": "@jupyter-widgets/controls",
      "model_module_version": "2.0.0",
      "model_name": "HTMLModel",
      "state": {
       "layout": "IPY_MODEL_9f78f9d98d134438b8c130af2b6b5037",
       "style": "IPY_MODEL_452b97dbd3484d44a152ad0aa6be4905",
       "value": " 1087/1087 [00:11&lt;00:00, 98.02it/s]"
      }
     },
     "e2b39f9b31644a45b6368815a292c009": {
      "model_module": "@jupyter-widgets/base",
      "model_module_version": "2.0.0",
      "model_name": "LayoutModel",
      "state": {}
     },
     "e2b64a4f4fe04bd4a24d50566d2c2a99": {
      "model_module": "@jupyter-widgets/controls",
      "model_module_version": "2.0.0",
      "model_name": "ProgressStyleModel",
      "state": {
       "description_width": ""
      }
     },
     "e37ffc1a8f024228b1c640ade04ccd31": {
      "model_module": "@jupyter-widgets/controls",
      "model_module_version": "2.0.0",
      "model_name": "FloatProgressModel",
      "state": {
       "layout": "IPY_MODEL_60e567eafcb64f8f83162bb60d464e9e",
       "max": 1087,
       "style": "IPY_MODEL_97a3f09add2446098c764e94adc5d9ea",
       "value": 1087
      }
     },
     "e47e215f1bef48b39850088503cdb2b6": {
      "model_module": "@jupyter-widgets/controls",
      "model_module_version": "2.0.0",
      "model_name": "HTMLModel",
      "state": {
       "layout": "IPY_MODEL_0cba7971dcfe444797bd0cf40c853ea5",
       "style": "IPY_MODEL_befc2e8b37544ec088df425481f52a28",
       "value": "Validation DataLoader 0: 100%"
      }
     },
     "e543a3e51bea411484044619a198f3ba": {
      "model_module": "@jupyter-widgets/base",
      "model_module_version": "2.0.0",
      "model_name": "LayoutModel",
      "state": {}
     },
     "e55a88b06f3a4aa8b5154d6cd09c141a": {
      "model_module": "@jupyter-widgets/controls",
      "model_module_version": "2.0.0",
      "model_name": "ProgressStyleModel",
      "state": {
       "description_width": ""
      }
     },
     "e6e688e1142648d7b9263f8136f62dac": {
      "model_module": "@jupyter-widgets/controls",
      "model_module_version": "2.0.0",
      "model_name": "FloatProgressModel",
      "state": {
       "layout": "IPY_MODEL_ee2e384d675f4cf7952441f553b46482",
       "max": 1087,
       "style": "IPY_MODEL_a53b0af5bbde45399f455665bb1c9db2",
       "value": 1087
      }
     },
     "e8a307cecc15453d983ba1ae816d93cb": {
      "model_module": "@jupyter-widgets/controls",
      "model_module_version": "2.0.0",
      "model_name": "FloatProgressModel",
      "state": {
       "layout": "IPY_MODEL_4f6e9c025744430d885f81bad846270e",
       "max": 1087,
       "style": "IPY_MODEL_f19b88de426c48669b342a4701ccc48e",
       "value": 1087
      }
     },
     "e8c29d310eaa4774857aee9c9d9fcb39": {
      "model_module": "@jupyter-widgets/controls",
      "model_module_version": "2.0.0",
      "model_name": "HTMLModel",
      "state": {
       "layout": "IPY_MODEL_a6da215f35484735a04758a805012c6c",
       "style": "IPY_MODEL_2effcb65717243749e57324122633933",
       "value": " 1087/1087 [00:07&lt;00:00, 139.48it/s]"
      }
     },
     "e91555be10f74e9a91d9aef5aa283ff9": {
      "model_module": "@jupyter-widgets/base",
      "model_module_version": "2.0.0",
      "model_name": "LayoutModel",
      "state": {}
     },
     "e941c94a224d46cda1b923e4fc03bb99": {
      "model_module": "@jupyter-widgets/controls",
      "model_module_version": "2.0.0",
      "model_name": "HTMLStyleModel",
      "state": {
       "description_width": "",
       "font_size": null,
       "text_color": null
      }
     },
     "e96f0d61a7a14a6297ef14d4d090c423": {
      "model_module": "@jupyter-widgets/controls",
      "model_module_version": "2.0.0",
      "model_name": "HTMLModel",
      "state": {
       "layout": "IPY_MODEL_f467bca56b8144dcabc155889869824a",
       "style": "IPY_MODEL_b53a0f8dca9c44f690554f0520ff56d5",
       "value": " 1087/1087 [00:07&lt;00:00, 139.54it/s]"
      }
     },
     "e9b194f8f2c74233aba11b6e3b84ca0b": {
      "model_module": "@jupyter-widgets/controls",
      "model_module_version": "2.0.0",
      "model_name": "HTMLStyleModel",
      "state": {
       "description_width": "",
       "font_size": null,
       "text_color": null
      }
     },
     "ea2d54863fc84319b9cffe08d2a78d2a": {
      "model_module": "@jupyter-widgets/controls",
      "model_module_version": "2.0.0",
      "model_name": "ProgressStyleModel",
      "state": {
       "description_width": ""
      }
     },
     "ea75650e0fd847f384af8c05b829571c": {
      "model_module": "@jupyter-widgets/controls",
      "model_module_version": "2.0.0",
      "model_name": "HTMLModel",
      "state": {
       "layout": "IPY_MODEL_dc43d8395c52456bacf038bd734f1521",
       "style": "IPY_MODEL_131d9f23a2a74fa781c3292cad1b0b75",
       "value": " 1087/1087 [00:08&lt;00:00, 130.21it/s]"
      }
     },
     "eaa27c2c9758493ba9cfbace53772177": {
      "model_module": "@jupyter-widgets/controls",
      "model_module_version": "2.0.0",
      "model_name": "ProgressStyleModel",
      "state": {
       "description_width": ""
      }
     },
     "eab95c5d36a14145b06f37aad66944c8": {
      "model_module": "@jupyter-widgets/base",
      "model_module_version": "2.0.0",
      "model_name": "LayoutModel",
      "state": {
       "flex": "2"
      }
     },
     "eb2fbb0440b944c395e2a062e3e0849b": {
      "model_module": "@jupyter-widgets/base",
      "model_module_version": "2.0.0",
      "model_name": "LayoutModel",
      "state": {}
     },
     "ebb550eb66d2499ba1213155677514f2": {
      "model_module": "@jupyter-widgets/controls",
      "model_module_version": "2.0.0",
      "model_name": "HTMLModel",
      "state": {
       "layout": "IPY_MODEL_c0823834b6cf4110a8652d3f1aafffc4",
       "style": "IPY_MODEL_e9b194f8f2c74233aba11b6e3b84ca0b",
       "value": " 1087/1087 [00:07&lt;00:00, 138.98it/s]"
      }
     },
     "ed1ae829bcda4d348a53f9f9fc46654a": {
      "model_module": "@jupyter-widgets/base",
      "model_module_version": "2.0.0",
      "model_name": "LayoutModel",
      "state": {}
     },
     "ed4f0d91aa9945ce9242fe939228b13f": {
      "model_module": "@jupyter-widgets/controls",
      "model_module_version": "2.0.0",
      "model_name": "HTMLStyleModel",
      "state": {
       "description_width": "",
       "font_size": null,
       "text_color": null
      }
     },
     "ee2e384d675f4cf7952441f553b46482": {
      "model_module": "@jupyter-widgets/base",
      "model_module_version": "2.0.0",
      "model_name": "LayoutModel",
      "state": {
       "flex": "2"
      }
     },
     "eea760b8f2eb4f75b44ef81334580a50": {
      "model_module": "@jupyter-widgets/controls",
      "model_module_version": "2.0.0",
      "model_name": "HTMLStyleModel",
      "state": {
       "description_width": "",
       "font_size": null,
       "text_color": null
      }
     },
     "f19b88de426c48669b342a4701ccc48e": {
      "model_module": "@jupyter-widgets/controls",
      "model_module_version": "2.0.0",
      "model_name": "ProgressStyleModel",
      "state": {
       "description_width": ""
      }
     },
     "f1ad3e00537647d8a7f4867efcdaccd9": {
      "model_module": "@jupyter-widgets/base",
      "model_module_version": "2.0.0",
      "model_name": "LayoutModel",
      "state": {}
     },
     "f2143bf76cf54ee7842f6fc24ef8261c": {
      "model_module": "@jupyter-widgets/controls",
      "model_module_version": "2.0.0",
      "model_name": "HTMLModel",
      "state": {
       "layout": "IPY_MODEL_01ea14ec5af540419afebf11eb8f7bd8",
       "style": "IPY_MODEL_64b2538813e44ecc965e54db1a44d44f",
       "value": "Validation DataLoader 0: 100%"
      }
     },
     "f3a76027c1ff48f1a3099dd260621d5a": {
      "model_module": "@jupyter-widgets/base",
      "model_module_version": "2.0.0",
      "model_name": "LayoutModel",
      "state": {}
     },
     "f3df08b0ef9d48a4bf8ebedd0e38cc36": {
      "model_module": "@jupyter-widgets/base",
      "model_module_version": "2.0.0",
      "model_name": "LayoutModel",
      "state": {
       "flex": "2"
      }
     },
     "f3ec0264a557427986d36a0440da8dc1": {
      "model_module": "@jupyter-widgets/controls",
      "model_module_version": "2.0.0",
      "model_name": "HTMLModel",
      "state": {
       "layout": "IPY_MODEL_c68d2c73b38a418f92553d2529f36499",
       "style": "IPY_MODEL_b514c508d30b459c819793d657b9fde3",
       "value": " 1087/1087 [00:08&lt;00:00, 130.14it/s]"
      }
     },
     "f40f92128a0148f38b0bfe8608cecd91": {
      "model_module": "@jupyter-widgets/base",
      "model_module_version": "2.0.0",
      "model_name": "LayoutModel",
      "state": {
       "flex": "2"
      }
     },
     "f467bca56b8144dcabc155889869824a": {
      "model_module": "@jupyter-widgets/base",
      "model_module_version": "2.0.0",
      "model_name": "LayoutModel",
      "state": {}
     },
     "f4db713da69043d1806cff8f061640c6": {
      "model_module": "@jupyter-widgets/base",
      "model_module_version": "2.0.0",
      "model_name": "LayoutModel",
      "state": {
       "display": "inline-flex",
       "flex_flow": "row wrap",
       "visibility": "hidden",
       "width": "100%"
      }
     },
     "f5b399226c964ecfab27833dda5ce9eb": {
      "model_module": "@jupyter-widgets/controls",
      "model_module_version": "2.0.0",
      "model_name": "HTMLStyleModel",
      "state": {
       "description_width": "",
       "font_size": null,
       "text_color": null
      }
     },
     "f7578626dfe647fab76e34160707a749": {
      "model_module": "@jupyter-widgets/base",
      "model_module_version": "2.0.0",
      "model_name": "LayoutModel",
      "state": {
       "display": "inline-flex",
       "flex_flow": "row wrap",
       "visibility": "hidden",
       "width": "100%"
      }
     },
     "f8eb80fbd020425a90e8b0eaecd1fa14": {
      "model_module": "@jupyter-widgets/controls",
      "model_module_version": "2.0.0",
      "model_name": "HTMLModel",
      "state": {
       "layout": "IPY_MODEL_a007be5487e54762967f953351768a2e",
       "style": "IPY_MODEL_6e357cc82f52493db369a93042b4f199",
       "value": "Validation DataLoader 0: 100%"
      }
     },
     "f97ae41e3ce846b69991aa4661bd8e74": {
      "model_module": "@jupyter-widgets/controls",
      "model_module_version": "2.0.0",
      "model_name": "HTMLStyleModel",
      "state": {
       "description_width": "",
       "font_size": null,
       "text_color": null
      }
     },
     "f9d55c3ff5544002bf918b9d5622486a": {
      "model_module": "@jupyter-widgets/controls",
      "model_module_version": "2.0.0",
      "model_name": "HTMLModel",
      "state": {
       "layout": "IPY_MODEL_3f188fe2cce24d1980229e6b13b68b46",
       "style": "IPY_MODEL_61db52c3dc3f468e86ad21ca5af11152",
       "value": "Validation DataLoader 0: 100%"
      }
     },
     "f9e7e8799864451aad565fd13b020254": {
      "model_module": "@jupyter-widgets/controls",
      "model_module_version": "2.0.0",
      "model_name": "HTMLStyleModel",
      "state": {
       "description_width": "",
       "font_size": null,
       "text_color": null
      }
     },
     "fbf183e04faa4d8588e9c6937d5934b0": {
      "model_module": "@jupyter-widgets/controls",
      "model_module_version": "2.0.0",
      "model_name": "HTMLStyleModel",
      "state": {
       "description_width": "",
       "font_size": null,
       "text_color": null
      }
     },
     "fbfd52eeac88404a896c3dd836312023": {
      "model_module": "@jupyter-widgets/controls",
      "model_module_version": "2.0.0",
      "model_name": "HTMLStyleModel",
      "state": {
       "description_width": "",
       "font_size": null,
       "text_color": null
      }
     },
     "fc67ab9b3ebc4db999e827429bfe2e28": {
      "model_module": "@jupyter-widgets/controls",
      "model_module_version": "2.0.0",
      "model_name": "HTMLStyleModel",
      "state": {
       "description_width": "",
       "font_size": null,
       "text_color": null
      }
     },
     "fca2afd3499a4aa69db2e4cbff13b4de": {
      "model_module": "@jupyter-widgets/controls",
      "model_module_version": "2.0.0",
      "model_name": "HTMLStyleModel",
      "state": {
       "description_width": "",
       "font_size": null,
       "text_color": null
      }
     },
     "ff236ac03d714613b941eb3870326653": {
      "model_module": "@jupyter-widgets/controls",
      "model_module_version": "2.0.0",
      "model_name": "FloatProgressModel",
      "state": {
       "layout": "IPY_MODEL_33994f6a89944002869f24999969765f",
       "max": 1087,
       "style": "IPY_MODEL_633c6ca45bf24a44809e45b5e0b4ab28",
       "value": 1087
      }
     }
    },
    "version_major": 2,
    "version_minor": 0
   }
  }
 },
 "nbformat": 4,
 "nbformat_minor": 5
}
