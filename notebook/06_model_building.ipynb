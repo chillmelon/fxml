{
 "cells": [
  {
   "cell_type": "code",
   "execution_count": 1,
   "id": "6dd9993c-0ca7-47b6-a0b4-c045bb19421e",
   "metadata": {},
   "outputs": [],
   "source": [
    "import os\n",
    "import sys\n",
    "module_path = os.path.abspath(os.path.join('..'))\n",
    "if module_path not in sys.path:\n",
    "    sys.path.append(module_path)"
   ]
  },
  {
   "cell_type": "code",
   "execution_count": 2,
   "id": "178f3e04-07b4-4131-affa-64fde8c27ef1",
   "metadata": {},
   "outputs": [],
   "source": [
    "import torch\n",
    "import pandas as pd\n",
    "import numpy as np\n",
    "import lightning as L"
   ]
  },
  {
   "cell_type": "markdown",
   "id": "4bd652e3-ebaf-412c-af38-f49020d8eb25",
   "metadata": {},
   "source": [
    "## Data Module"
   ]
  },
  {
   "cell_type": "code",
   "execution_count": 3,
   "id": "f39f3f72-41cc-41bc-8367-e552719897ff",
   "metadata": {},
   "outputs": [],
   "source": [
    "from torch.utils.data import DataLoader, Subset\n",
    "from sklearn.model_selection import train_test_split\n",
    "\n",
    "from dataset.dataset import ForexDataset\n",
    "\n",
    "class ForexDataModule(L.LightningDataModule):\n",
    "    def __init__(\n",
    "        self,\n",
    "        data,\n",
    "        IDs: list,\n",
    "        sequence_length: int,\n",
    "        horizon: int,\n",
    "        features: list,\n",
    "        target: list,\n",
    "        batch_size: int = 64,\n",
    "        num_workers: int = 0,\n",
    "        val_split: float = 0.2,\n",
    "        shuffle: bool = True,\n",
    "        random_state: int = 42\n",
    "    ):\n",
    "        super().__init__()\n",
    "        self.data = data\n",
    "        self.IDs = IDs\n",
    "        self.sequence_length = sequence_length\n",
    "        self.horizon = horizon\n",
    "        self.features = features\n",
    "        self.target = target\n",
    "        self.batch_size = batch_size\n",
    "        self.num_workers = num_workers\n",
    "        self.val_split = val_split\n",
    "        self.shuffle = shuffle\n",
    "        self.random_state = random_state\n",
    "\n",
    "    def setup(self, stage=None):\n",
    "\n",
    "        train_idx, val_idx = train_test_split(\n",
    "            self.IDs,\n",
    "            test_size=self.val_split,\n",
    "            shuffle=self.shuffle,\n",
    "            random_state=self.random_state\n",
    "        )\n",
    "\n",
    "        self.train_dataset = ForexDataset(\n",
    "            self.data, train_idx, self.sequence_length, self.horizon, self.features, self.target\n",
    "        )\n",
    "\n",
    "        self.val_dataset = ForexDataset(\n",
    "            self.data, val_idx, self.sequence_length, self.horizon, self.features, self.target\n",
    "        )\n",
    "\n",
    "    def train_dataloader(self):\n",
    "        return DataLoader(\n",
    "            self.train_dataset,\n",
    "            batch_size=self.batch_size,\n",
    "            shuffle=True,\n",
    "            num_workers=self.num_workers,\n",
    "            pin_memory=True\n",
    "        )\n",
    "\n",
    "    def val_dataloader(self):\n",
    "        return DataLoader(\n",
    "            self.val_dataset,\n",
    "            batch_size=self.batch_size,\n",
    "            shuffle=False,\n",
    "            num_workers=self.num_workers,\n",
    "            pin_memory=True\n",
    "        )\n",
    "\n",
    "    def test_dataloader(self):\n",
    "        return DataLoader(\n",
    "            self.val_dataset,\n",
    "            batch_size=self.batch_size,\n",
    "            shuffle=False,\n",
    "            num_workers=self.num_workers,\n",
    "            pin_memory=True\n",
    "        )\n"
   ]
  },
  {
   "cell_type": "markdown",
   "id": "090c331a-8cee-46a1-9fa5-2d1f298ac2c1",
   "metadata": {},
   "source": [
    "# GRU classification Model"
   ]
  },
  {
   "cell_type": "markdown",
   "id": "45fa4ba8-ce9d-43b6-adeb-910f66a8f391",
   "metadata": {},
   "source": [
    "We've tried different criterion.\n",
    "    a. softmax + mse\n",
    "    b. raw logits + cross entropy\n",
    "We found that cross entropy performs better when using pytorch"
   ]
  },
  {
   "cell_type": "code",
   "execution_count": 4,
   "id": "cd35020a-5543-4710-a54b-50b6649c433b",
   "metadata": {},
   "outputs": [],
   "source": [
    "import torch\n",
    "from torch import nn\n",
    "import lightning as L\n",
    "from torchmetrics.classification import MulticlassAccuracy\n",
    "\n",
    "\n",
    "class GRUModel(nn.Module):\n",
    "    def __init__(self, n_features, output_size, n_hidden, n_layers, dropout):\n",
    "        super().__init__()\n",
    "\n",
    "        self.gru = nn.GRU(\n",
    "            input_size=n_features,\n",
    "            hidden_size=n_hidden,\n",
    "            num_layers=n_layers,\n",
    "            batch_first=True,\n",
    "            dropout=dropout\n",
    "        )\n",
    "        self.linear = nn.Linear(n_hidden, output_size)\n",
    "        self.softmax = nn.Softmax(1)\n",
    "        \n",
    "\n",
    "    def forward(self, x):\n",
    "        self.gru.flatten_parameters()\n",
    "        _, hidden = self.gru(x)\n",
    "        logits = self.linear(hidden[-1])\n",
    "        # return self.softmax(logits)\n",
    "        return logits\n",
    "\n",
    "\n",
    "class GRUModule(L.LightningModule):\n",
    "    def __init__(self, n_features=1, output_size=1, n_hidden=64, n_layers=2, dropout=0.0):\n",
    "        super().__init__()\n",
    "        self.save_hyperparameters()\n",
    "\n",
    "        self.model = GRUModel(\n",
    "            n_features=self.hparams.n_features,\n",
    "            output_size=self.hparams.output_size,\n",
    "            n_hidden=self.hparams.n_hidden,\n",
    "            n_layers=self.hparams.n_layers,\n",
    "            dropout=self.hparams.dropout,\n",
    "        )\n",
    "\n",
    "        self.criterion = nn.CrossEntropyLoss()\n",
    "        self.test_accuracy = MulticlassAccuracy(num_classes=output_size)\n",
    "\n",
    "    def forward(self, x, labels=None):\n",
    "        output = self.model(x)\n",
    "        loss = 0\n",
    "        if labels is not None:\n",
    "            labels = labels.squeeze().long()\n",
    "            loss = self.criterion(output, labels)\n",
    "        return loss, output\n",
    "\n",
    "    def training_step(self, batch, batch_idx):\n",
    "        x, y, _ = batch\n",
    "        loss, out = self(x, y)\n",
    "\n",
    "        self.log('train_loss', loss, prog_bar=True, logger=True)\n",
    "        return {\n",
    "            'loss': loss\n",
    "        }\n",
    "\n",
    "    def validation_step(self, batch, batch_idx):\n",
    "        x, y, _ = batch\n",
    "        loss, out = self(x, y)\n",
    "\n",
    "        self.log('val_loss', loss, prog_bar=True, logger=True)\n",
    "        return {\n",
    "            'loss': loss\n",
    "        }\n",
    "\n",
    "    def test_step(self, batch, batch_idx):\n",
    "        x, y, _ = batch\n",
    "        loss, out = self(x, y)\n",
    "\n",
    "        y = y.squeeze().long()\n",
    "        preds = torch.argmax(out, dim=1)\n",
    "        acc = self.test_accuracy(preds, y)\n",
    "\n",
    "        self.log('test_loss', loss, prog_bar=True, logger=True)\n",
    "        self.log('test_acc', acc, prog_bar=True, logger=True)\n",
    "        return {'loss': loss, 'acc': acc}\n",
    "\n",
    "    def configure_optimizers(self):\n",
    "        optimizer = torch.optim.Adam(self.parameters(), lr=1e-4)\n",
    "        scheduler = torch.optim.lr_scheduler.StepLR(optimizer, step_size=10, gamma=0.1)\n",
    "        return [optimizer], [scheduler]\n"
   ]
  },
  {
   "cell_type": "markdown",
   "id": "2d794773-edea-49cd-afcd-bb072229ac63",
   "metadata": {},
   "source": [
    "Now we've defined all the classes we need for the training.\n",
    "The following steps will use these to train a classification model to predict future movement of USDJPY close price"
   ]
  },
  {
   "cell_type": "code",
   "execution_count": 5,
   "id": "0d6cfdeb-6390-4c01-871f-d0a4cbc02ff6",
   "metadata": {},
   "outputs": [],
   "source": [
    "PKL_PATH = '../data/processed/usdjpy-bar-2020-01-01-2024-12-31_processed.pkl'\n",
    "SEQUENCE_LENGTH=30\n",
    "HORIZON=1 # The next nth timeframe to predict\n",
    "STRIDE=5 # Non-overlapping timeframe\n",
    "FEATURES_COLS = ['close_return']\n",
    "TARGET_COLS = ['label']"
   ]
  },
  {
   "cell_type": "markdown",
   "id": "6fe1d993-f830-4d42-ace9-4a3c4fa75591",
   "metadata": {},
   "source": [
    "## Read data"
   ]
  },
  {
   "cell_type": "code",
   "execution_count": 6,
   "id": "25c72791-c104-4e47-8e46-ae2aeaaf4ad6",
   "metadata": {},
   "outputs": [],
   "source": [
    "import pandas as pd"
   ]
  },
  {
   "cell_type": "code",
   "execution_count": 7,
   "id": "568c5d3a-873c-4a97-9c69-d1023d02e97c",
   "metadata": {},
   "outputs": [
    {
     "data": {
      "text/html": [
       "<div>\n",
       "<style scoped>\n",
       "    .dataframe tbody tr th:only-of-type {\n",
       "        vertical-align: middle;\n",
       "    }\n",
       "\n",
       "    .dataframe tbody tr th {\n",
       "        vertical-align: top;\n",
       "    }\n",
       "\n",
       "    .dataframe thead th {\n",
       "        text-align: right;\n",
       "    }\n",
       "</style>\n",
       "<table border=\"1\" class=\"dataframe\">\n",
       "  <thead>\n",
       "    <tr style=\"text-align: right;\">\n",
       "      <th></th>\n",
       "      <th>timestamp</th>\n",
       "      <th>open</th>\n",
       "      <th>high</th>\n",
       "      <th>low</th>\n",
       "      <th>close</th>\n",
       "      <th>volume</th>\n",
       "      <th>time_group</th>\n",
       "      <th>close_delta</th>\n",
       "      <th>close_return</th>\n",
       "      <th>close_direction</th>\n",
       "      <th>prob_down</th>\n",
       "      <th>prob_flat</th>\n",
       "      <th>prob_up</th>\n",
       "      <th>label</th>\n",
       "    </tr>\n",
       "  </thead>\n",
       "  <tbody>\n",
       "    <tr>\n",
       "      <th>1</th>\n",
       "      <td>2020-01-01 22:01:00</td>\n",
       "      <td>108.7570</td>\n",
       "      <td>108.7590</td>\n",
       "      <td>108.7495</td>\n",
       "      <td>108.7495</td>\n",
       "      <td>13300.000012</td>\n",
       "      <td>1</td>\n",
       "      <td>-0.0095</td>\n",
       "      <td>-0.000087</td>\n",
       "      <td>down</td>\n",
       "      <td>1.0</td>\n",
       "      <td>0.0</td>\n",
       "      <td>0.0</td>\n",
       "      <td>0</td>\n",
       "    </tr>\n",
       "    <tr>\n",
       "      <th>2</th>\n",
       "      <td>2020-01-01 22:02:00</td>\n",
       "      <td>108.7495</td>\n",
       "      <td>108.7535</td>\n",
       "      <td>108.7495</td>\n",
       "      <td>108.7535</td>\n",
       "      <td>4500.000000</td>\n",
       "      <td>1</td>\n",
       "      <td>0.0040</td>\n",
       "      <td>0.000037</td>\n",
       "      <td>up</td>\n",
       "      <td>0.0</td>\n",
       "      <td>0.0</td>\n",
       "      <td>1.0</td>\n",
       "      <td>2</td>\n",
       "    </tr>\n",
       "    <tr>\n",
       "      <th>3</th>\n",
       "      <td>2020-01-01 22:03:00</td>\n",
       "      <td>108.7540</td>\n",
       "      <td>108.7555</td>\n",
       "      <td>108.7535</td>\n",
       "      <td>108.7555</td>\n",
       "      <td>10490.000010</td>\n",
       "      <td>1</td>\n",
       "      <td>0.0020</td>\n",
       "      <td>0.000018</td>\n",
       "      <td>flat</td>\n",
       "      <td>0.0</td>\n",
       "      <td>1.0</td>\n",
       "      <td>0.0</td>\n",
       "      <td>1</td>\n",
       "    </tr>\n",
       "    <tr>\n",
       "      <th>4</th>\n",
       "      <td>2020-01-01 22:04:00</td>\n",
       "      <td>108.7575</td>\n",
       "      <td>108.7650</td>\n",
       "      <td>108.7555</td>\n",
       "      <td>108.7650</td>\n",
       "      <td>11600.000024</td>\n",
       "      <td>1</td>\n",
       "      <td>0.0095</td>\n",
       "      <td>0.000087</td>\n",
       "      <td>up</td>\n",
       "      <td>0.0</td>\n",
       "      <td>0.0</td>\n",
       "      <td>1.0</td>\n",
       "      <td>2</td>\n",
       "    </tr>\n",
       "    <tr>\n",
       "      <th>5</th>\n",
       "      <td>2020-01-01 22:05:00</td>\n",
       "      <td>108.7700</td>\n",
       "      <td>108.7700</td>\n",
       "      <td>108.7690</td>\n",
       "      <td>108.7700</td>\n",
       "      <td>1059.999987</td>\n",
       "      <td>1</td>\n",
       "      <td>0.0050</td>\n",
       "      <td>0.000046</td>\n",
       "      <td>up</td>\n",
       "      <td>0.0</td>\n",
       "      <td>0.0</td>\n",
       "      <td>1.0</td>\n",
       "      <td>2</td>\n",
       "    </tr>\n",
       "  </tbody>\n",
       "</table>\n",
       "</div>"
      ],
      "text/plain": [
       "            timestamp      open      high       low     close        volume  \\\n",
       "1 2020-01-01 22:01:00  108.7570  108.7590  108.7495  108.7495  13300.000012   \n",
       "2 2020-01-01 22:02:00  108.7495  108.7535  108.7495  108.7535   4500.000000   \n",
       "3 2020-01-01 22:03:00  108.7540  108.7555  108.7535  108.7555  10490.000010   \n",
       "4 2020-01-01 22:04:00  108.7575  108.7650  108.7555  108.7650  11600.000024   \n",
       "5 2020-01-01 22:05:00  108.7700  108.7700  108.7690  108.7700   1059.999987   \n",
       "\n",
       "   time_group  close_delta  close_return close_direction  prob_down  \\\n",
       "1           1      -0.0095     -0.000087            down        1.0   \n",
       "2           1       0.0040      0.000037              up        0.0   \n",
       "3           1       0.0020      0.000018            flat        0.0   \n",
       "4           1       0.0095      0.000087              up        0.0   \n",
       "5           1       0.0050      0.000046              up        0.0   \n",
       "\n",
       "   prob_flat  prob_up  label  \n",
       "1        0.0      0.0      0  \n",
       "2        0.0      1.0      2  \n",
       "3        1.0      0.0      1  \n",
       "4        0.0      1.0      2  \n",
       "5        0.0      1.0      2  "
      ]
     },
     "execution_count": 7,
     "metadata": {},
     "output_type": "execute_result"
    }
   ],
   "source": [
    "df = pd.read_pickle(PKL_PATH)\n",
    "df.head()"
   ]
  },
  {
   "cell_type": "markdown",
   "id": "aa1afda6-b0fa-490c-a303-10fbf2b12162",
   "metadata": {},
   "source": [
    "## Create Datamodule"
   ]
  },
  {
   "cell_type": "code",
   "execution_count": 8,
   "id": "e3a5af5d-47df-4a22-8f5f-36233abe2010",
   "metadata": {},
   "outputs": [],
   "source": [
    "from utils import get_sequence_start_indices"
   ]
  },
  {
   "cell_type": "code",
   "execution_count": 9,
   "id": "a1f6e4b8-512a-4b41-9b01-2e87405f58ff",
   "metadata": {},
   "outputs": [],
   "source": [
    "## get valid indices that wont create sequences crossing time gaps\n",
    "IDs = get_sequence_start_indices(\n",
    "    df,\n",
    "    sequence_length=SEQUENCE_LENGTH,\n",
    "    horizon=HORIZON,\n",
    "    stride=STRIDE,\n",
    "    group_col='time_group',\n",
    ")\n",
    "# Initialize Data Module\n",
    "dm = ForexDataModule(\n",
    "    data=df,\n",
    "    IDs=IDs,\n",
    "    sequence_length=SEQUENCE_LENGTH,\n",
    "    target=TARGET_COLS,\n",
    "    features=FEATURES_COLS,\n",
    "    horizon=HORIZON,\n",
    "    batch_size=64,\n",
    "    val_split=0.2,\n",
    "    num_workers=0,\n",
    ")"
   ]
  },
  {
   "cell_type": "code",
   "execution_count": 10,
   "id": "6814c3e7-8895-4797-a4bb-ba690afe1850",
   "metadata": {},
   "outputs": [],
   "source": [
    "model = GRUModule(\n",
    "    n_features=len(FEATURES_COLS),\n",
    "    output_size=3,\n",
    "    n_hidden=256,\n",
    "    n_layers=3,\n",
    "    dropout=0.3,\n",
    ")"
   ]
  },
  {
   "cell_type": "markdown",
   "id": "649ae8aa-7cdd-4de0-879e-bb0ff2c83463",
   "metadata": {},
   "source": [
    "# Training Script"
   ]
  },
  {
   "cell_type": "code",
   "execution_count": 11,
   "id": "02ad62b8-148d-44f4-b85c-28371fe6fd2d",
   "metadata": {},
   "outputs": [],
   "source": [
    "from lightning.pytorch import Trainer\n",
    "from lightning.pytorch.callbacks import EarlyStopping\n",
    "from lightning.pytorch.callbacks.model_checkpoint import ModelCheckpoint\n",
    "from lightning.pytorch.loggers import TensorBoardLogger\n",
    "from lightning.pytorch.profilers import SimpleProfiler"
   ]
  },
  {
   "cell_type": "markdown",
   "id": "8f564291-d188-4a82-9ee7-f410cf7ebbc9",
   "metadata": {},
   "source": [
    "### Logging"
   ]
  },
  {
   "cell_type": "code",
   "execution_count": 12,
   "id": "19a7ebf8-027b-49d9-b832-1faeb7e8554b",
   "metadata": {},
   "outputs": [],
   "source": [
    "logger = TensorBoardLogger(\"lightning_logs\", name=\"prob_gru\")"
   ]
  },
  {
   "cell_type": "code",
   "execution_count": 13,
   "id": "b0532979-2b4d-4e4b-b749-64b8d970f485",
   "metadata": {},
   "outputs": [],
   "source": [
    "profiler = SimpleProfiler(filename='profiler')"
   ]
  },
  {
   "cell_type": "markdown",
   "id": "c875bac5-bf76-47f1-9747-db83ee2e8c85",
   "metadata": {},
   "source": [
    "### Earlystopping"
   ]
  },
  {
   "cell_type": "code",
   "execution_count": 14,
   "id": "53b0a7f4-2390-4a73-87b2-b5fba3544d60",
   "metadata": {},
   "outputs": [],
   "source": [
    "early_stopping = EarlyStopping(\n",
    "    monitor='val_loss',\n",
    "    mode='min',\n",
    "    patience=5,\n",
    "    verbose=True\n",
    ")"
   ]
  },
  {
   "cell_type": "markdown",
   "id": "396d16e5-6736-436f-bce5-208ff3312c8e",
   "metadata": {},
   "source": [
    "### Checkpoint"
   ]
  },
  {
   "cell_type": "code",
   "execution_count": 15,
   "id": "975aad1e-8076-4729-9408-57a099ff8616",
   "metadata": {},
   "outputs": [],
   "source": [
    "checkpoint_callback = ModelCheckpoint(\n",
    "    filename='best_checkpoint',\n",
    "    save_top_k=1,\n",
    "    save_last=True,\n",
    "    verbose=True,\n",
    "    monitor='val_loss',\n",
    "    mode='min'\n",
    ")"
   ]
  },
  {
   "cell_type": "markdown",
   "id": "0c7699cd-305d-4561-bd2d-d24e937448ef",
   "metadata": {},
   "source": [
    "### Trainer"
   ]
  },
  {
   "cell_type": "code",
   "execution_count": 16,
   "id": "c97795a9-791e-4255-9a19-8ddeba6ea771",
   "metadata": {},
   "outputs": [
    {
     "name": "stderr",
     "output_type": "stream",
     "text": [
      "GPU available: True (cuda), used: True\n",
      "TPU available: False, using: 0 TPU cores\n",
      "HPU available: False, using: 0 HPUs\n"
     ]
    }
   ],
   "source": [
    "trainer = Trainer(\n",
    "    # accelerator=\"gpu\",\n",
    "    # precision='16-mixed',\n",
    "    profiler=profiler,\n",
    "    callbacks=[checkpoint_callback, early_stopping],\n",
    "    max_epochs=200,\n",
    "    logger=logger,\n",
    "    gradient_clip_val=1.0\n",
    "    # num_sanity_val_steps=0,\n",
    ")"
   ]
  },
  {
   "cell_type": "code",
   "execution_count": 17,
   "id": "512481df-990b-4c2e-905b-4c8cab59a7bb",
   "metadata": {},
   "outputs": [
    {
     "name": "stderr",
     "output_type": "stream",
     "text": [
      "You are using a CUDA device ('NVIDIA GeForce RTX 4060 Ti') that has Tensor Cores. To properly utilize them, you should set `torch.set_float32_matmul_precision('medium' | 'high')` which will trade-off precision for performance. For more details, read https://pytorch.org/docs/stable/generated/torch.set_float32_matmul_precision.html#torch.set_float32_matmul_precision\n",
      "LOCAL_RANK: 0 - CUDA_VISIBLE_DEVICES: [0]\n",
      "\n",
      "  | Name          | Type               | Params | Mode \n",
      "-------------------------------------------------------------\n",
      "0 | model         | GRUModel           | 989 K  | train\n",
      "1 | criterion     | CrossEntropyLoss   | 0      | train\n",
      "2 | test_accuracy | MulticlassAccuracy | 0      | train\n",
      "-------------------------------------------------------------\n",
      "989 K     Trainable params\n",
      "0         Non-trainable params\n",
      "989 K     Total params\n",
      "3.957     Total estimated model params size (MB)\n",
      "6         Modules in train mode\n",
      "0         Modules in eval mode\n"
     ]
    },
    {
     "data": {
      "application/vnd.jupyter.widget-view+json": {
       "model_id": "45c0046fe8df408ca7d29cbf4f782025",
       "version_major": 2,
       "version_minor": 0
      },
      "text/plain": [
       "Sanity Checking: |                                                         | 0/? [00:00<?, ?it/s]"
      ]
     },
     "metadata": {},
     "output_type": "display_data"
    },
    {
     "name": "stderr",
     "output_type": "stream",
     "text": [
      "C:\\Users\\yoyo\\miniconda3\\envs\\fxml\\Lib\\site-packages\\lightning\\pytorch\\trainer\\connectors\\data_connector.py:425: The 'val_dataloader' does not have many workers which may be a bottleneck. Consider increasing the value of the `num_workers` argument` to `num_workers=19` in the `DataLoader` to improve performance.\n",
      "C:\\Users\\yoyo\\miniconda3\\envs\\fxml\\Lib\\site-packages\\lightning\\pytorch\\trainer\\connectors\\data_connector.py:425: The 'train_dataloader' does not have many workers which may be a bottleneck. Consider increasing the value of the `num_workers` argument` to `num_workers=19` in the `DataLoader` to improve performance.\n"
     ]
    },
    {
     "data": {
      "application/vnd.jupyter.widget-view+json": {
       "model_id": "0524a18f01d24ebb998c351f0cc556e8",
       "version_major": 2,
       "version_minor": 0
      },
      "text/plain": [
       "Training: |                                                                | 0/? [00:00<?, ?it/s]"
      ]
     },
     "metadata": {},
     "output_type": "display_data"
    },
    {
     "data": {
      "application/vnd.jupyter.widget-view+json": {
       "model_id": "fe94f67ef7f943928db61725f0138af4",
       "version_major": 2,
       "version_minor": 0
      },
      "text/plain": [
       "Validation: |                                                              | 0/? [00:00<?, ?it/s]"
      ]
     },
     "metadata": {},
     "output_type": "display_data"
    },
    {
     "name": "stderr",
     "output_type": "stream",
     "text": [
      "Metric val_loss improved. New best score: 1.097\n",
      "Epoch 0, global step 4345: 'val_loss' reached 1.09682 (best 1.09682), saving model to 'lightning_logs\\\\prob_gru\\\\version_3\\\\checkpoints\\\\best_checkpoint.ckpt' as top 1\n"
     ]
    },
    {
     "data": {
      "application/vnd.jupyter.widget-view+json": {
       "model_id": "6015d9462c0145228efb45ff78feeb9e",
       "version_major": 2,
       "version_minor": 0
      },
      "text/plain": [
       "Validation: |                                                              | 0/? [00:00<?, ?it/s]"
      ]
     },
     "metadata": {},
     "output_type": "display_data"
    },
    {
     "name": "stderr",
     "output_type": "stream",
     "text": [
      "Epoch 1, global step 8690: 'val_loss' was not in top 1\n"
     ]
    },
    {
     "data": {
      "application/vnd.jupyter.widget-view+json": {
       "model_id": "61a6df2e599d431c9871ce38164cdb70",
       "version_major": 2,
       "version_minor": 0
      },
      "text/plain": [
       "Validation: |                                                              | 0/? [00:00<?, ?it/s]"
      ]
     },
     "metadata": {},
     "output_type": "display_data"
    },
    {
     "name": "stderr",
     "output_type": "stream",
     "text": [
      "Metric val_loss improved by 0.008 >= min_delta = 0.0. New best score: 1.089\n",
      "Epoch 2, global step 13035: 'val_loss' reached 1.08859 (best 1.08859), saving model to 'lightning_logs\\\\prob_gru\\\\version_3\\\\checkpoints\\\\best_checkpoint.ckpt' as top 1\n"
     ]
    },
    {
     "data": {
      "application/vnd.jupyter.widget-view+json": {
       "model_id": "73bbfb31150842349e7e8c2aa0cf2afd",
       "version_major": 2,
       "version_minor": 0
      },
      "text/plain": [
       "Validation: |                                                              | 0/? [00:00<?, ?it/s]"
      ]
     },
     "metadata": {},
     "output_type": "display_data"
    },
    {
     "name": "stderr",
     "output_type": "stream",
     "text": [
      "Metric val_loss improved by 0.578 >= min_delta = 0.0. New best score: 0.511\n",
      "Epoch 3, global step 17380: 'val_loss' reached 0.51069 (best 0.51069), saving model to 'lightning_logs\\\\prob_gru\\\\version_3\\\\checkpoints\\\\best_checkpoint.ckpt' as top 1\n"
     ]
    },
    {
     "data": {
      "application/vnd.jupyter.widget-view+json": {
       "model_id": "57c0d6c44d6c4d2abd832d6f10f46dd0",
       "version_major": 2,
       "version_minor": 0
      },
      "text/plain": [
       "Validation: |                                                              | 0/? [00:00<?, ?it/s]"
      ]
     },
     "metadata": {},
     "output_type": "display_data"
    },
    {
     "name": "stderr",
     "output_type": "stream",
     "text": [
      "Metric val_loss improved by 0.293 >= min_delta = 0.0. New best score: 0.218\n",
      "Epoch 4, global step 21725: 'val_loss' reached 0.21796 (best 0.21796), saving model to 'lightning_logs\\\\prob_gru\\\\version_3\\\\checkpoints\\\\best_checkpoint.ckpt' as top 1\n"
     ]
    },
    {
     "data": {
      "application/vnd.jupyter.widget-view+json": {
       "model_id": "441f69de99e74de3adbe766ee3df55fb",
       "version_major": 2,
       "version_minor": 0
      },
      "text/plain": [
       "Validation: |                                                              | 0/? [00:00<?, ?it/s]"
      ]
     },
     "metadata": {},
     "output_type": "display_data"
    },
    {
     "name": "stderr",
     "output_type": "stream",
     "text": [
      "Metric val_loss improved by 0.095 >= min_delta = 0.0. New best score: 0.123\n",
      "Epoch 5, global step 26070: 'val_loss' reached 0.12309 (best 0.12309), saving model to 'lightning_logs\\\\prob_gru\\\\version_3\\\\checkpoints\\\\best_checkpoint.ckpt' as top 1\n"
     ]
    },
    {
     "data": {
      "application/vnd.jupyter.widget-view+json": {
       "model_id": "cce22df7237f4f09bf20e8eb117394f7",
       "version_major": 2,
       "version_minor": 0
      },
      "text/plain": [
       "Validation: |                                                              | 0/? [00:00<?, ?it/s]"
      ]
     },
     "metadata": {},
     "output_type": "display_data"
    },
    {
     "name": "stderr",
     "output_type": "stream",
     "text": [
      "Epoch 6, global step 30415: 'val_loss' was not in top 1\n"
     ]
    },
    {
     "data": {
      "application/vnd.jupyter.widget-view+json": {
       "model_id": "ecbdc4a1f0d042968cb7978b2532d693",
       "version_major": 2,
       "version_minor": 0
      },
      "text/plain": [
       "Validation: |                                                              | 0/? [00:00<?, ?it/s]"
      ]
     },
     "metadata": {},
     "output_type": "display_data"
    },
    {
     "name": "stderr",
     "output_type": "stream",
     "text": [
      "Epoch 7, global step 34760: 'val_loss' was not in top 1\n"
     ]
    },
    {
     "data": {
      "application/vnd.jupyter.widget-view+json": {
       "model_id": "45a9322c7b224e4392904f44643bce97",
       "version_major": 2,
       "version_minor": 0
      },
      "text/plain": [
       "Validation: |                                                              | 0/? [00:00<?, ?it/s]"
      ]
     },
     "metadata": {},
     "output_type": "display_data"
    },
    {
     "name": "stderr",
     "output_type": "stream",
     "text": [
      "Epoch 8, global step 39105: 'val_loss' was not in top 1\n"
     ]
    },
    {
     "data": {
      "application/vnd.jupyter.widget-view+json": {
       "model_id": "e4ca376ad3b74bbe8f9bb2af69d3e6d1",
       "version_major": 2,
       "version_minor": 0
      },
      "text/plain": [
       "Validation: |                                                              | 0/? [00:00<?, ?it/s]"
      ]
     },
     "metadata": {},
     "output_type": "display_data"
    },
    {
     "name": "stderr",
     "output_type": "stream",
     "text": [
      "Metric val_loss improved by 0.005 >= min_delta = 0.0. New best score: 0.118\n",
      "Epoch 9, global step 43450: 'val_loss' reached 0.11817 (best 0.11817), saving model to 'lightning_logs\\\\prob_gru\\\\version_3\\\\checkpoints\\\\best_checkpoint.ckpt' as top 1\n"
     ]
    },
    {
     "data": {
      "application/vnd.jupyter.widget-view+json": {
       "model_id": "a4a180d0c6574575ab156a44fedc3cbb",
       "version_major": 2,
       "version_minor": 0
      },
      "text/plain": [
       "Validation: |                                                              | 0/? [00:00<?, ?it/s]"
      ]
     },
     "metadata": {},
     "output_type": "display_data"
    },
    {
     "name": "stderr",
     "output_type": "stream",
     "text": [
      "Metric val_loss improved by 0.072 >= min_delta = 0.0. New best score: 0.046\n",
      "Epoch 10, global step 47795: 'val_loss' reached 0.04648 (best 0.04648), saving model to 'lightning_logs\\\\prob_gru\\\\version_3\\\\checkpoints\\\\best_checkpoint.ckpt' as top 1\n"
     ]
    },
    {
     "data": {
      "application/vnd.jupyter.widget-view+json": {
       "model_id": "755f31e619e949fab8f70a6d1612133c",
       "version_major": 2,
       "version_minor": 0
      },
      "text/plain": [
       "Validation: |                                                              | 0/? [00:00<?, ?it/s]"
      ]
     },
     "metadata": {},
     "output_type": "display_data"
    },
    {
     "name": "stderr",
     "output_type": "stream",
     "text": [
      "Metric val_loss improved by 0.003 >= min_delta = 0.0. New best score: 0.043\n",
      "Epoch 11, global step 52140: 'val_loss' reached 0.04303 (best 0.04303), saving model to 'lightning_logs\\\\prob_gru\\\\version_3\\\\checkpoints\\\\best_checkpoint.ckpt' as top 1\n"
     ]
    },
    {
     "data": {
      "application/vnd.jupyter.widget-view+json": {
       "model_id": "43651bb401d54fd2b3f7fc3c24ca73cf",
       "version_major": 2,
       "version_minor": 0
      },
      "text/plain": [
       "Validation: |                                                              | 0/? [00:00<?, ?it/s]"
      ]
     },
     "metadata": {},
     "output_type": "display_data"
    },
    {
     "name": "stderr",
     "output_type": "stream",
     "text": [
      "Epoch 12, global step 56485: 'val_loss' was not in top 1\n"
     ]
    },
    {
     "data": {
      "application/vnd.jupyter.widget-view+json": {
       "model_id": "6ad0d8ef7c794b57aa78bf9ea64fd268",
       "version_major": 2,
       "version_minor": 0
      },
      "text/plain": [
       "Validation: |                                                              | 0/? [00:00<?, ?it/s]"
      ]
     },
     "metadata": {},
     "output_type": "display_data"
    },
    {
     "name": "stderr",
     "output_type": "stream",
     "text": [
      "Metric val_loss improved by 0.001 >= min_delta = 0.0. New best score: 0.042\n",
      "Epoch 13, global step 60830: 'val_loss' reached 0.04192 (best 0.04192), saving model to 'lightning_logs\\\\prob_gru\\\\version_3\\\\checkpoints\\\\best_checkpoint.ckpt' as top 1\n"
     ]
    },
    {
     "data": {
      "application/vnd.jupyter.widget-view+json": {
       "model_id": "f503974900a84521bde4e028a3198b69",
       "version_major": 2,
       "version_minor": 0
      },
      "text/plain": [
       "Validation: |                                                              | 0/? [00:00<?, ?it/s]"
      ]
     },
     "metadata": {},
     "output_type": "display_data"
    },
    {
     "name": "stderr",
     "output_type": "stream",
     "text": [
      "Metric val_loss improved by 0.002 >= min_delta = 0.0. New best score: 0.040\n",
      "Epoch 14, global step 65175: 'val_loss' reached 0.04037 (best 0.04037), saving model to 'lightning_logs\\\\prob_gru\\\\version_3\\\\checkpoints\\\\best_checkpoint.ckpt' as top 1\n"
     ]
    },
    {
     "data": {
      "application/vnd.jupyter.widget-view+json": {
       "model_id": "fa5221d069f34fa1b3e9fa359df2d9ff",
       "version_major": 2,
       "version_minor": 0
      },
      "text/plain": [
       "Validation: |                                                              | 0/? [00:00<?, ?it/s]"
      ]
     },
     "metadata": {},
     "output_type": "display_data"
    },
    {
     "name": "stderr",
     "output_type": "stream",
     "text": [
      "Metric val_loss improved by 0.001 >= min_delta = 0.0. New best score: 0.040\n",
      "Epoch 15, global step 69520: 'val_loss' reached 0.03973 (best 0.03973), saving model to 'lightning_logs\\\\prob_gru\\\\version_3\\\\checkpoints\\\\best_checkpoint.ckpt' as top 1\n"
     ]
    },
    {
     "data": {
      "application/vnd.jupyter.widget-view+json": {
       "model_id": "80de89e2c0d0484ca99c4359b7ec23c3",
       "version_major": 2,
       "version_minor": 0
      },
      "text/plain": [
       "Validation: |                                                              | 0/? [00:00<?, ?it/s]"
      ]
     },
     "metadata": {},
     "output_type": "display_data"
    },
    {
     "name": "stderr",
     "output_type": "stream",
     "text": [
      "Epoch 16, global step 73865: 'val_loss' was not in top 1\n"
     ]
    },
    {
     "data": {
      "application/vnd.jupyter.widget-view+json": {
       "model_id": "81cd5139a5ab4dc1945eda75bd52e548",
       "version_major": 2,
       "version_minor": 0
      },
      "text/plain": [
       "Validation: |                                                              | 0/? [00:00<?, ?it/s]"
      ]
     },
     "metadata": {},
     "output_type": "display_data"
    },
    {
     "name": "stderr",
     "output_type": "stream",
     "text": [
      "Epoch 17, global step 78210: 'val_loss' was not in top 1\n"
     ]
    },
    {
     "data": {
      "application/vnd.jupyter.widget-view+json": {
       "model_id": "8c5a71772fbb453585e4383a477f97c1",
       "version_major": 2,
       "version_minor": 0
      },
      "text/plain": [
       "Validation: |                                                              | 0/? [00:00<?, ?it/s]"
      ]
     },
     "metadata": {},
     "output_type": "display_data"
    },
    {
     "name": "stderr",
     "output_type": "stream",
     "text": [
      "Metric val_loss improved by 0.007 >= min_delta = 0.0. New best score: 0.032\n",
      "Epoch 18, global step 82555: 'val_loss' reached 0.03247 (best 0.03247), saving model to 'lightning_logs\\\\prob_gru\\\\version_3\\\\checkpoints\\\\best_checkpoint.ckpt' as top 1\n"
     ]
    },
    {
     "data": {
      "application/vnd.jupyter.widget-view+json": {
       "model_id": "c138f00d5b194917bbc0f9387a531c45",
       "version_major": 2,
       "version_minor": 0
      },
      "text/plain": [
       "Validation: |                                                              | 0/? [00:00<?, ?it/s]"
      ]
     },
     "metadata": {},
     "output_type": "display_data"
    },
    {
     "name": "stderr",
     "output_type": "stream",
     "text": [
      "Epoch 19, global step 86900: 'val_loss' was not in top 1\n"
     ]
    },
    {
     "data": {
      "application/vnd.jupyter.widget-view+json": {
       "model_id": "28e243cfe19b42c586f84df0c2d048fc",
       "version_major": 2,
       "version_minor": 0
      },
      "text/plain": [
       "Validation: |                                                              | 0/? [00:00<?, ?it/s]"
      ]
     },
     "metadata": {},
     "output_type": "display_data"
    },
    {
     "name": "stderr",
     "output_type": "stream",
     "text": [
      "Metric val_loss improved by 0.001 >= min_delta = 0.0. New best score: 0.031\n",
      "Epoch 20, global step 91245: 'val_loss' reached 0.03106 (best 0.03106), saving model to 'lightning_logs\\\\prob_gru\\\\version_3\\\\checkpoints\\\\best_checkpoint.ckpt' as top 1\n"
     ]
    },
    {
     "data": {
      "application/vnd.jupyter.widget-view+json": {
       "model_id": "a25b6fbd4f0b41a8b766191eff3fac3c",
       "version_major": 2,
       "version_minor": 0
      },
      "text/plain": [
       "Validation: |                                                              | 0/? [00:00<?, ?it/s]"
      ]
     },
     "metadata": {},
     "output_type": "display_data"
    },
    {
     "name": "stderr",
     "output_type": "stream",
     "text": [
      "Metric val_loss improved by 0.001 >= min_delta = 0.0. New best score: 0.030\n",
      "Epoch 21, global step 95590: 'val_loss' reached 0.03026 (best 0.03026), saving model to 'lightning_logs\\\\prob_gru\\\\version_3\\\\checkpoints\\\\best_checkpoint.ckpt' as top 1\n"
     ]
    },
    {
     "data": {
      "application/vnd.jupyter.widget-view+json": {
       "model_id": "004fe9e284b04fd2b8893936a64f6c24",
       "version_major": 2,
       "version_minor": 0
      },
      "text/plain": [
       "Validation: |                                                              | 0/? [00:00<?, ?it/s]"
      ]
     },
     "metadata": {},
     "output_type": "display_data"
    },
    {
     "name": "stderr",
     "output_type": "stream",
     "text": [
      "Epoch 22, global step 99935: 'val_loss' was not in top 1\n"
     ]
    },
    {
     "data": {
      "application/vnd.jupyter.widget-view+json": {
       "model_id": "15dce517602a4ca6ad73061eaff3e183",
       "version_major": 2,
       "version_minor": 0
      },
      "text/plain": [
       "Validation: |                                                              | 0/? [00:00<?, ?it/s]"
      ]
     },
     "metadata": {},
     "output_type": "display_data"
    },
    {
     "name": "stderr",
     "output_type": "stream",
     "text": [
      "Metric val_loss improved by 0.001 >= min_delta = 0.0. New best score: 0.030\n",
      "Epoch 23, global step 104280: 'val_loss' reached 0.02972 (best 0.02972), saving model to 'lightning_logs\\\\prob_gru\\\\version_3\\\\checkpoints\\\\best_checkpoint.ckpt' as top 1\n"
     ]
    },
    {
     "data": {
      "application/vnd.jupyter.widget-view+json": {
       "model_id": "a903d8fca0bc40748cbdbf0e2e776e00",
       "version_major": 2,
       "version_minor": 0
      },
      "text/plain": [
       "Validation: |                                                              | 0/? [00:00<?, ?it/s]"
      ]
     },
     "metadata": {},
     "output_type": "display_data"
    },
    {
     "name": "stderr",
     "output_type": "stream",
     "text": [
      "Epoch 24, global step 108625: 'val_loss' was not in top 1\n"
     ]
    },
    {
     "data": {
      "application/vnd.jupyter.widget-view+json": {
       "model_id": "d8206510f54345d4ae2662e7e3337373",
       "version_major": 2,
       "version_minor": 0
      },
      "text/plain": [
       "Validation: |                                                              | 0/? [00:00<?, ?it/s]"
      ]
     },
     "metadata": {},
     "output_type": "display_data"
    },
    {
     "name": "stderr",
     "output_type": "stream",
     "text": [
      "Epoch 25, global step 112970: 'val_loss' was not in top 1\n"
     ]
    },
    {
     "data": {
      "application/vnd.jupyter.widget-view+json": {
       "model_id": "c676536a20a94473b82312e7da1536dd",
       "version_major": 2,
       "version_minor": 0
      },
      "text/plain": [
       "Validation: |                                                              | 0/? [00:00<?, ?it/s]"
      ]
     },
     "metadata": {},
     "output_type": "display_data"
    },
    {
     "name": "stderr",
     "output_type": "stream",
     "text": [
      "Epoch 26, global step 117315: 'val_loss' was not in top 1\n"
     ]
    },
    {
     "data": {
      "application/vnd.jupyter.widget-view+json": {
       "model_id": "322e1fa2a6794a18bc81f192726d82b4",
       "version_major": 2,
       "version_minor": 0
      },
      "text/plain": [
       "Validation: |                                                              | 0/? [00:00<?, ?it/s]"
      ]
     },
     "metadata": {},
     "output_type": "display_data"
    },
    {
     "name": "stderr",
     "output_type": "stream",
     "text": [
      "Metric val_loss improved by 0.000 >= min_delta = 0.0. New best score: 0.030\n",
      "Epoch 27, global step 121660: 'val_loss' reached 0.02951 (best 0.02951), saving model to 'lightning_logs\\\\prob_gru\\\\version_3\\\\checkpoints\\\\best_checkpoint.ckpt' as top 1\n"
     ]
    },
    {
     "data": {
      "application/vnd.jupyter.widget-view+json": {
       "model_id": "57a27cdc68294e01bc25996af9a172f1",
       "version_major": 2,
       "version_minor": 0
      },
      "text/plain": [
       "Validation: |                                                              | 0/? [00:00<?, ?it/s]"
      ]
     },
     "metadata": {},
     "output_type": "display_data"
    },
    {
     "name": "stderr",
     "output_type": "stream",
     "text": [
      "Epoch 28, global step 126005: 'val_loss' was not in top 1\n"
     ]
    },
    {
     "data": {
      "application/vnd.jupyter.widget-view+json": {
       "model_id": "26d370d9a11744acab909b45db7839a3",
       "version_major": 2,
       "version_minor": 0
      },
      "text/plain": [
       "Validation: |                                                              | 0/? [00:00<?, ?it/s]"
      ]
     },
     "metadata": {},
     "output_type": "display_data"
    },
    {
     "name": "stderr",
     "output_type": "stream",
     "text": [
      "Metric val_loss improved by 0.000 >= min_delta = 0.0. New best score: 0.029\n",
      "Epoch 29, global step 130350: 'val_loss' reached 0.02949 (best 0.02949), saving model to 'lightning_logs\\\\prob_gru\\\\version_3\\\\checkpoints\\\\best_checkpoint.ckpt' as top 1\n"
     ]
    },
    {
     "data": {
      "application/vnd.jupyter.widget-view+json": {
       "model_id": "1ff94ab3c66f43809b0d049af84b0e0e",
       "version_major": 2,
       "version_minor": 0
      },
      "text/plain": [
       "Validation: |                                                              | 0/? [00:00<?, ?it/s]"
      ]
     },
     "metadata": {},
     "output_type": "display_data"
    },
    {
     "name": "stderr",
     "output_type": "stream",
     "text": [
      "Metric val_loss improved by 0.000 >= min_delta = 0.0. New best score: 0.029\n",
      "Epoch 30, global step 134695: 'val_loss' reached 0.02931 (best 0.02931), saving model to 'lightning_logs\\\\prob_gru\\\\version_3\\\\checkpoints\\\\best_checkpoint.ckpt' as top 1\n"
     ]
    },
    {
     "data": {
      "application/vnd.jupyter.widget-view+json": {
       "model_id": "ef307d1440f94add990f808458aa708e",
       "version_major": 2,
       "version_minor": 0
      },
      "text/plain": [
       "Validation: |                                                              | 0/? [00:00<?, ?it/s]"
      ]
     },
     "metadata": {},
     "output_type": "display_data"
    },
    {
     "name": "stderr",
     "output_type": "stream",
     "text": [
      "Epoch 31, global step 139040: 'val_loss' was not in top 1\n"
     ]
    },
    {
     "data": {
      "application/vnd.jupyter.widget-view+json": {
       "model_id": "de91d3cfb9744e7db3ae0737cf83bf4c",
       "version_major": 2,
       "version_minor": 0
      },
      "text/plain": [
       "Validation: |                                                              | 0/? [00:00<?, ?it/s]"
      ]
     },
     "metadata": {},
     "output_type": "display_data"
    },
    {
     "name": "stderr",
     "output_type": "stream",
     "text": [
      "Metric val_loss improved by 0.000 >= min_delta = 0.0. New best score: 0.029\n",
      "Epoch 32, global step 143385: 'val_loss' reached 0.02927 (best 0.02927), saving model to 'lightning_logs\\\\prob_gru\\\\version_3\\\\checkpoints\\\\best_checkpoint.ckpt' as top 1\n"
     ]
    },
    {
     "data": {
      "application/vnd.jupyter.widget-view+json": {
       "model_id": "72da778f13114edf973560a64a2fa1ac",
       "version_major": 2,
       "version_minor": 0
      },
      "text/plain": [
       "Validation: |                                                              | 0/? [00:00<?, ?it/s]"
      ]
     },
     "metadata": {},
     "output_type": "display_data"
    },
    {
     "name": "stderr",
     "output_type": "stream",
     "text": [
      "Metric val_loss improved by 0.000 >= min_delta = 0.0. New best score: 0.029\n",
      "Epoch 33, global step 147730: 'val_loss' reached 0.02921 (best 0.02921), saving model to 'lightning_logs\\\\prob_gru\\\\version_3\\\\checkpoints\\\\best_checkpoint.ckpt' as top 1\n"
     ]
    },
    {
     "data": {
      "application/vnd.jupyter.widget-view+json": {
       "model_id": "31badd6862104edea569f219a5819cac",
       "version_major": 2,
       "version_minor": 0
      },
      "text/plain": [
       "Validation: |                                                              | 0/? [00:00<?, ?it/s]"
      ]
     },
     "metadata": {},
     "output_type": "display_data"
    },
    {
     "name": "stderr",
     "output_type": "stream",
     "text": [
      "Epoch 34, global step 152075: 'val_loss' was not in top 1\n"
     ]
    },
    {
     "data": {
      "application/vnd.jupyter.widget-view+json": {
       "model_id": "b5e6042baef94cdc8f87692841790aba",
       "version_major": 2,
       "version_minor": 0
      },
      "text/plain": [
       "Validation: |                                                              | 0/? [00:00<?, ?it/s]"
      ]
     },
     "metadata": {},
     "output_type": "display_data"
    },
    {
     "name": "stderr",
     "output_type": "stream",
     "text": [
      "Metric val_loss improved by 0.000 >= min_delta = 0.0. New best score: 0.029\n",
      "Epoch 35, global step 156420: 'val_loss' reached 0.02919 (best 0.02919), saving model to 'lightning_logs\\\\prob_gru\\\\version_3\\\\checkpoints\\\\best_checkpoint.ckpt' as top 1\n"
     ]
    },
    {
     "data": {
      "application/vnd.jupyter.widget-view+json": {
       "model_id": "28acf78d20074b14bd7400b2b715481c",
       "version_major": 2,
       "version_minor": 0
      },
      "text/plain": [
       "Validation: |                                                              | 0/? [00:00<?, ?it/s]"
      ]
     },
     "metadata": {},
     "output_type": "display_data"
    },
    {
     "name": "stderr",
     "output_type": "stream",
     "text": [
      "Epoch 36, global step 160765: 'val_loss' was not in top 1\n"
     ]
    },
    {
     "data": {
      "application/vnd.jupyter.widget-view+json": {
       "model_id": "7be83f75d24e484e8b8c50fd2c4ec2f9",
       "version_major": 2,
       "version_minor": 0
      },
      "text/plain": [
       "Validation: |                                                              | 0/? [00:00<?, ?it/s]"
      ]
     },
     "metadata": {},
     "output_type": "display_data"
    },
    {
     "name": "stderr",
     "output_type": "stream",
     "text": [
      "Epoch 37, global step 165110: 'val_loss' was not in top 1\n"
     ]
    },
    {
     "data": {
      "application/vnd.jupyter.widget-view+json": {
       "model_id": "db623ee392d74da7a21e6bf4b45907e7",
       "version_major": 2,
       "version_minor": 0
      },
      "text/plain": [
       "Validation: |                                                              | 0/? [00:00<?, ?it/s]"
      ]
     },
     "metadata": {},
     "output_type": "display_data"
    },
    {
     "name": "stderr",
     "output_type": "stream",
     "text": [
      "Metric val_loss improved by 0.000 >= min_delta = 0.0. New best score: 0.029\n",
      "Epoch 38, global step 169455: 'val_loss' reached 0.02911 (best 0.02911), saving model to 'lightning_logs\\\\prob_gru\\\\version_3\\\\checkpoints\\\\best_checkpoint.ckpt' as top 1\n"
     ]
    },
    {
     "data": {
      "application/vnd.jupyter.widget-view+json": {
       "model_id": "c87609e6b42f4bc59fb7813170bb43d6",
       "version_major": 2,
       "version_minor": 0
      },
      "text/plain": [
       "Validation: |                                                              | 0/? [00:00<?, ?it/s]"
      ]
     },
     "metadata": {},
     "output_type": "display_data"
    },
    {
     "name": "stderr",
     "output_type": "stream",
     "text": [
      "Epoch 39, global step 173800: 'val_loss' was not in top 1\n"
     ]
    },
    {
     "data": {
      "application/vnd.jupyter.widget-view+json": {
       "model_id": "e9fcdf64f35a411e87fe9757da4f0a75",
       "version_major": 2,
       "version_minor": 0
      },
      "text/plain": [
       "Validation: |                                                              | 0/? [00:00<?, ?it/s]"
      ]
     },
     "metadata": {},
     "output_type": "display_data"
    },
    {
     "name": "stderr",
     "output_type": "stream",
     "text": [
      "Epoch 40, global step 178145: 'val_loss' was not in top 1\n"
     ]
    },
    {
     "data": {
      "application/vnd.jupyter.widget-view+json": {
       "model_id": "e247c011438144bf8972e73442f13aeb",
       "version_major": 2,
       "version_minor": 0
      },
      "text/plain": [
       "Validation: |                                                              | 0/? [00:00<?, ?it/s]"
      ]
     },
     "metadata": {},
     "output_type": "display_data"
    },
    {
     "name": "stderr",
     "output_type": "stream",
     "text": [
      "Epoch 41, global step 182490: 'val_loss' was not in top 1\n"
     ]
    },
    {
     "data": {
      "application/vnd.jupyter.widget-view+json": {
       "model_id": "51ce224509094899b4073097b922dbc1",
       "version_major": 2,
       "version_minor": 0
      },
      "text/plain": [
       "Validation: |                                                              | 0/? [00:00<?, ?it/s]"
      ]
     },
     "metadata": {},
     "output_type": "display_data"
    },
    {
     "name": "stderr",
     "output_type": "stream",
     "text": [
      "Epoch 42, global step 186835: 'val_loss' was not in top 1\n"
     ]
    },
    {
     "data": {
      "application/vnd.jupyter.widget-view+json": {
       "model_id": "9be51fd1b7ba476c902a6cf499c8abe3",
       "version_major": 2,
       "version_minor": 0
      },
      "text/plain": [
       "Validation: |                                                              | 0/? [00:00<?, ?it/s]"
      ]
     },
     "metadata": {},
     "output_type": "display_data"
    },
    {
     "name": "stderr",
     "output_type": "stream",
     "text": [
      "Monitored metric val_loss did not improve in the last 5 records. Best score: 0.029. Signaling Trainer to stop.\n",
      "Epoch 43, global step 191180: 'val_loss' was not in top 1\n"
     ]
    }
   ],
   "source": [
    "trainer.fit(model, datamodule=dm)"
   ]
  },
  {
   "cell_type": "code",
   "execution_count": 18,
   "id": "638751b6-d431-4396-8030-0c98aba2faed",
   "metadata": {
    "scrolled": true
   },
   "outputs": [
    {
     "name": "stderr",
     "output_type": "stream",
     "text": [
      "LOCAL_RANK: 0 - CUDA_VISIBLE_DEVICES: [0]\n",
      "C:\\Users\\yoyo\\miniconda3\\envs\\fxml\\Lib\\site-packages\\lightning\\pytorch\\trainer\\connectors\\data_connector.py:425: The 'test_dataloader' does not have many workers which may be a bottleneck. Consider increasing the value of the `num_workers` argument` to `num_workers=19` in the `DataLoader` to improve performance.\n"
     ]
    },
    {
     "data": {
      "application/vnd.jupyter.widget-view+json": {
       "model_id": "8a6b50e8a3cb491199c507e18bbae430",
       "version_major": 2,
       "version_minor": 0
      },
      "text/plain": [
       "Testing: |                                                                 | 0/? [00:00<?, ?it/s]"
      ]
     },
     "metadata": {},
     "output_type": "display_data"
    },
    {
     "name": "stdout",
     "output_type": "stream",
     "text": [
      "──────────────────────────────────────────────────────────────────────────────────────────────────\n",
      "       Test metric             DataLoader 0\n",
      "──────────────────────────────────────────────────────────────────────────────────────────────────\n",
      "        test_acc            0.9914924502372742\n",
      "        test_loss          0.029169786721467972\n",
      "──────────────────────────────────────────────────────────────────────────────────────────────────\n"
     ]
    },
    {
     "data": {
      "text/plain": [
       "[{'test_loss': 0.029169786721467972, 'test_acc': 0.9914924502372742}]"
      ]
     },
     "execution_count": 18,
     "metadata": {},
     "output_type": "execute_result"
    }
   ],
   "source": [
    "trainer.test(model, datamodule=dm)"
   ]
  }
 ],
 "metadata": {
  "kernelspec": {
   "display_name": "Python 3 (ipykernel)",
   "language": "python",
   "name": "python3"
  },
  "language_info": {
   "codemirror_mode": {
    "name": "ipython",
    "version": 3
   },
   "file_extension": ".py",
   "mimetype": "text/x-python",
   "name": "python",
   "nbconvert_exporter": "python",
   "pygments_lexer": "ipython3",
   "version": "3.11.12"
  },
  "widgets": {
   "application/vnd.jupyter.widget-state+json": {
    "state": {},
    "version_major": 2,
    "version_minor": 0
   }
  }
 },
 "nbformat": 4,
 "nbformat_minor": 5
}
