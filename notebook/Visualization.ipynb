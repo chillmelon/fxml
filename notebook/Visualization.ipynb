{
 "cells": [
  {
   "cell_type": "code",
   "execution_count": 1,
   "id": "601263f8-a7e1-47b2-9b5f-ad9ccc8e4bc7",
   "metadata": {},
   "outputs": [],
   "source": [
    "import pandas as pd\n",
    "import matplotlib.pyplot as plt\n",
    "from matplotlib.ticker import FormatStrFormatter\n",
    "\n",
    "import os\n",
    "import sys\n",
    "module_path = os.path.abspath(os.path.join('..'))\n",
    "if module_path not in sys.path:\n",
    "    sys.path.append(module_path)"
   ]
  },
  {
   "cell_type": "code",
   "execution_count": 2,
   "id": "9504524c-b25f-42e5-b93b-64b4ecf9ad49",
   "metadata": {},
   "outputs": [],
   "source": [
    "MODEL_NAME = \"t2v+transformer\"\n",
    "V_NUM = 22\n",
    "SOURCE = \"dukascopy\"\n",
    "SYMBOL = \"usdjpy\"\n",
    "MINUTES = 1\n",
    "EVENT = '58m-dollar'\n",
    "START_DATE = \"2020-01-01\"\n",
    "END_DATE = \"2024-12-31\"\n",
    "EVENT_NAME = \"cusum_filter\"\n",
    "SEQUENCE_LENGTH = 120\n",
    "TIME_COLS = [\n",
    "    # 'timestamp',\n",
    "    \"hour\",\n",
    "    \"dow\",\n",
    "    \"dom\",\n",
    "    \"month\",\n",
    "    # \"open\",\n",
    "    # \"high\",\n",
    "    # \"low\",\n",
    "    # \"close\",\n",
    "]\n",
    "FEATURES_COLS = [\n",
    "    # Basic Data\n",
    "    \"close_log_return\",\n",
    "    \"ret_mean_5\",\n",
    "    \"ret_mean_10\",\n",
    "    \"log_volume\",\n",
    "    \"ema5_slope\",\n",
    "    \"ema20_slope\",\n",
    "    \"atr20\",\n",
    "    \"vol_adj_return\",\n",
    "    \"close_to_atr\",\n",
    "    \"macd_diff\",\n",
    "    \"bb_width\",\n",
    "    \"bb_position\",\n",
    "    \"donchian_width\"\n",
    "]\n",
    "TARGET_COL = \"bin_class\""
   ]
  },
  {
   "cell_type": "code",
   "execution_count": 3,
   "id": "8a3a96c4-ffb8-4a68-9adc-a340fe3ab49b",
   "metadata": {},
   "outputs": [],
   "source": [
    "from pathlib import Path\n",
    "\n",
    "# Build base name\n",
    "BASE_NAME = f\"{SOURCE}-{SYMBOL}-tick-{START_DATE}-{END_DATE}\"\n",
    "RESAMPLED_NAME = f\"{SOURCE}-{SYMBOL}-{MINUTES}m-{START_DATE}-{END_DATE}\"\n",
    "RESAMPLED_NAME = f\"{SOURCE}-{SYMBOL}-{EVENT}-{START_DATE}-{END_DATE}\"\n",
    "LABEL_NAME = f\"{RESAMPLED_NAME}-{EVENT_NAME}\"\n",
    "# Base directories\n",
    "BASE_DIR = Path(\"../data\")\n",
    "RESAMPLED_DIR = BASE_DIR / \"resampled\"\n",
    "LABEL_DIR = BASE_DIR / \"labels\"\n",
    "PROCESSED_DIR = BASE_DIR / \"processed\"\n",
    "NORMALIZED_DIR = BASE_DIR / \"normalized\"\n",
    "DIRECTION_LABEL_DIR = BASE_DIR / \"direction_labels\"\n",
    "\n",
    "# Final paths\n",
    "PROCESSED_FILE_PATH = PROCESSED_DIR / f\"{RESAMPLED_NAME}_processed.pkl\"\n",
    "NORMALIZED_FILE_PATH = NORMALIZED_DIR / f\"{RESAMPLED_NAME}_normalized.pkl\"\n",
    "DIRECTION_LABEL_FILE_PATH = DIRECTION_LABEL_DIR / f\"{RESAMPLED_NAME}-{EVENT_NAME}.pkl\""
   ]
  },
  {
   "cell_type": "code",
   "execution_count": 4,
   "id": "1a8b032d-ffc4-40ce-8ed0-30b6276a7196",
   "metadata": {},
   "outputs": [],
   "source": [
    "MODEL_PATH = f'../lightning_logs/{MODEL_NAME}-{EVENT}-{EVENT_NAME}/version_{V_NUM}/checkpoints/best_checkpoint.ckpt'"
   ]
  },
  {
   "cell_type": "code",
   "execution_count": 5,
   "id": "9b841255-94fc-480f-8ca3-bdfbf2a13e00",
   "metadata": {},
   "outputs": [],
   "source": [
    "SIDE_NAME = 'transformer_sides'\n",
    "\n",
    "META_LABEL_DIR = BASE_DIR / \"meta_labels\"\n",
    "META_LABEL_DIR.mkdir(parents=True, exist_ok=True)\n",
    "META_LABEL_FILE_PATH = META_LABEL_DIR / f\"{RESAMPLED_NAME}-{EVENT_NAME}-{SIDE_NAME}.pkl\""
   ]
  },
  {
   "cell_type": "code",
   "execution_count": 6,
   "id": "58f0f35f-e374-403b-896a-bd180e81d411",
   "metadata": {
    "scrolled": true
   },
   "outputs": [
    {
     "name": "stdout",
     "output_type": "stream",
     "text": [
      "CPU times: user 1.31 ms, sys: 67.8 ms, total: 69.1 ms\n",
      "Wall time: 68.7 ms\n"
     ]
    }
   ],
   "source": [
    "%%time\n",
    "df = pd.read_pickle(NORMALIZED_FILE_PATH)\n",
    "labels_df = pd.read_pickle(DIRECTION_LABEL_FILE_PATH)"
   ]
  },
  {
   "cell_type": "code",
   "execution_count": 7,
   "id": "d5dc1ece-8bdf-4557-b2eb-51bcf4023553",
   "metadata": {},
   "outputs": [
    {
     "data": {
      "text/plain": [
       "DatetimeIndex([], dtype='datetime64[ns]', name='timestamp', freq=None)"
      ]
     },
     "execution_count": 7,
     "metadata": {},
     "output_type": "execute_result"
    }
   ],
   "source": [
    "missing = labels_df.index.difference(df.index)\n",
    "missing"
   ]
  },
  {
   "cell_type": "code",
   "execution_count": null,
   "id": "1c57f9b6-8beb-441b-b5a9-b010a87dcae7",
   "metadata": {},
   "outputs": [],
   "source": [
    "### Load Model"
   ]
  },
  {
   "cell_type": "code",
   "execution_count": 8,
   "id": "6bfb86dd-b268-4f44-ab32-4c5a807379f3",
   "metadata": {},
   "outputs": [],
   "source": [
    "from models.classification.t2v_transformer_model import T2VTransformerModule"
   ]
  },
  {
   "cell_type": "code",
   "execution_count": 9,
   "id": "2d363202-730c-4f75-b63e-3fec9698ce43",
   "metadata": {
    "scrolled": true
   },
   "outputs": [],
   "source": [
    "model = T2VTransformerModule.load_from_checkpoint(MODEL_PATH)"
   ]
  },
  {
   "cell_type": "markdown",
   "id": "c86a700d-a3b9-4e20-a321-3853d0b82e3f",
   "metadata": {},
   "source": [
    "## Get Side from Trained Model"
   ]
  },
  {
   "cell_type": "code",
   "execution_count": 10,
   "id": "d4dffa4b-b572-4bfb-9b3e-4abb398afc8b",
   "metadata": {
    "scrolled": true
   },
   "outputs": [],
   "source": [
    "features = df[TIME_COLS + FEATURES_COLS]"
   ]
  },
  {
   "cell_type": "code",
   "execution_count": 11,
   "id": "125998d5-a7cf-447a-a5e5-aade6aa58300",
   "metadata": {},
   "outputs": [],
   "source": [
    "from sklearn.linear_model import LinearRegression\n",
    "import pandas as pd\n",
    "import numpy as np\n",
    "import torch\n",
    "\n",
    "def get_side_from_model(model, data: pd.DataFrame, labels: pd.DataFrame, lookback: int = 24, device: str = 'cpu'):\n",
    "    \"\"\"\n",
    "    Create a 'side' signal using linear regression trendline logic.\n",
    "    \n",
    "    Args:\n",
    "        close (pd.Series): Close price series (indexed by datetime)\n",
    "        t_events (pd.Index): Event timestamps (e.g., from MACD or CUSUM)\n",
    "        lookback (int): Number of past bars to fit linear trend\n",
    "    \n",
    "    Returns:\n",
    "        pd.Series: side signal indexed by t_events (1 = long, -1 = short)\n",
    "    \"\"\"\n",
    "    \n",
    "    model.eval()\n",
    "    model.to(device)\n",
    "    t_events = labels.index\n",
    "    side = pd.Series(index=t_events, dtype='float32')\n",
    "\n",
    "    for t in t_events:\n",
    "        if t not in data.index:\n",
    "            print(f\"{t} is not in data index\")\n",
    "            continue\n",
    "        try:\n",
    "            end_loc = data.index.get_loc(t)\n",
    "            start_loc = end_loc - lookback\n",
    "            if start_loc < 0:\n",
    "                continue  # not enough lookback\n",
    "            seq = data.iloc[start_loc:end_loc].values.astype(np.float32)\n",
    "            if seq.shape[0] != lookback:\n",
    "                print('sequence length wrong')\n",
    "                continue\n",
    "            x_tensor = torch.tensor(seq).unsqueeze(0).to(device)\n",
    "            with torch.no_grad():\n",
    "                logits = model(x_tensor)\n",
    "                \n",
    "                pred_class = int(torch.argmax(logits, dim=1).cpu().item())\n",
    "                probs = torch.softmax(logits, dim=1).cpu().numpy()[0]\n",
    "                # print(f\"Probabilities: {probs} → Predicted class: {pred_class}\")\n",
    "\n",
    "            side[t] = pred_class\n",
    "\n",
    "        except Exception as e:\n",
    "            print(e)\n",
    "            continue\n",
    "        \n",
    "\n",
    "    return side.dropna()\n"
   ]
  },
  {
   "cell_type": "code",
   "execution_count": 12,
   "id": "44f699e2-9f37-4fd0-883f-b60dd1641794",
   "metadata": {
    "scrolled": true
   },
   "outputs": [
    {
     "name": "stdout",
     "output_type": "stream",
     "text": [
      "CPU times: user 1min 13s, sys: 59.8 s, total: 2min 13s\n",
      "Wall time: 58.8 s\n"
     ]
    },
    {
     "data": {
      "text/plain": [
       "(2.0    24918\n",
       " 1.0    14246\n",
       " 0.0    12662\n",
       " Name: count, dtype: int64,\n",
       " np.int64(0))"
      ]
     },
     "execution_count": 12,
     "metadata": {},
     "output_type": "execute_result"
    }
   ],
   "source": [
    "%%time\n",
    "predicted_sides = get_side_from_model(model=model, data=features,labels=labels_df, lookback=SEQUENCE_LENGTH, device='cpu')\n",
    "predicted_sides.value_counts(), predicted_sides.isna().sum()"
   ]
  },
  {
   "cell_type": "code",
   "execution_count": 13,
   "id": "8f40ebbb-df85-45f6-bafd-6d7ad54f3a5d",
   "metadata": {},
   "outputs": [],
   "source": [
    "labels_df = labels_df.join(predicted_sides.rename(\"pred_class\"))"
   ]
  },
  {
   "cell_type": "code",
   "execution_count": 14,
   "id": "007854ed-31f6-4a5a-ab70-a0ba9587d654",
   "metadata": {},
   "outputs": [
    {
     "data": {
      "text/plain": [
       "(51828, 7)"
      ]
     },
     "execution_count": 14,
     "metadata": {},
     "output_type": "execute_result"
    }
   ],
   "source": [
    "labels_df.shape"
   ]
  },
  {
   "cell_type": "code",
   "execution_count": 15,
   "id": "af726a7d-6d65-4394-8ec8-6a16c59641cb",
   "metadata": {},
   "outputs": [],
   "source": [
    "labels_df = labels_df.dropna()"
   ]
  },
  {
   "cell_type": "code",
   "execution_count": 16,
   "id": "67240b2c-e04a-4394-aec2-bc3d3c287f03",
   "metadata": {},
   "outputs": [
    {
     "data": {
      "image/png": "[encoded data removed]",
      "text/plain": [
       "<Figure size 600x500 with 2 Axes>"
      ]
     },
     "metadata": {},
     "output_type": "display_data"
    }
   ],
   "source": [
    "import pandas as pd\n",
    "import matplotlib.pyplot as plt\n",
    "import seaborn as sns\n",
    "from sklearn.metrics import confusion_matrix\n",
    "\n",
    "# 將類別轉為整數型別\n",
    "y_true = labels_df[\"bin_class\"].astype(int)\n",
    "y_pred = labels_df[\"pred_class\"].astype(int)\n",
    "\n",
    "# 計算混淆矩陣\n",
    "cm = confusion_matrix(y_true, y_pred, labels=[0, 1, 2])\n",
    "labels = [\"Class 0\", \"Class 1\", \"Class 2\"]\n",
    "\n",
    "# 繪圖\n",
    "plt.figure(figsize=(6, 5))\n",
    "sns.heatmap(cm, annot=True, fmt=\"d\", cmap=\"Blues\", xticklabels=labels, yticklabels=labels)\n",
    "plt.xlabel(\"Predicted\")\n",
    "plt.ylabel(\"True\")\n",
    "plt.title(\"Confusion Matrix: bin_class vs pred_side\")\n",
    "plt.tight_layout()\n",
    "plt.show()\n"
   ]
  }
 ],
 "metadata": {
  "kernelspec": {
   "display_name": "Python 3 (ipykernel)",
   "language": "python",
   "name": "python3"
  },
  "language_info": {
   "codemirror_mode": {
    "name": "ipython",
    "version": 3
   },
   "file_extension": ".py",
   "mimetype": "text/x-python",
   "name": "python",
   "nbconvert_exporter": "python",
   "pygments_lexer": "ipython3",
   "version": "3.11.13"
  }
 },
 "nbformat": 4,
 "nbformat_minor": 5
}
