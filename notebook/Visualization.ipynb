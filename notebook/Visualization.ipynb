{
 "cells": [
  {
   "cell_type": "code",
   "execution_count": 1,
   "id": "601263f8-a7e1-47b2-9b5f-ad9ccc8e4bc7",
   "metadata": {},
   "outputs": [],
   "source": [
    "import pandas as pd\n",
    "import matplotlib.pyplot as plt\n",
    "from matplotlib.ticker import FormatStrFormatter\n",
    "\n",
    "import os\n",
    "import sys\n",
    "module_path = os.path.abspath(os.path.join('..'))\n",
    "if module_path not in sys.path:\n",
    "    sys.path.append(module_path)"
   ]
  },
  {
   "cell_type": "code",
   "execution_count": 2,
   "id": "d9bfe9a1-b8b5-42f3-b199-8fc82f0574e2",
   "metadata": {},
   "outputs": [],
   "source": [
    "from pathlib import Path\n",
    "\n",
    "\n",
    "# Configurable parts\n",
    "SYMBOL = \"USDJPY\"\n",
    "SAMPLE_TYPE = \"time\"\n",
    "MINUTES = 1\n",
    "DOLLAR_THRESHOLD = \"115009542m\"\n",
    "EVENT_NAME = \"CUSUM\"\n",
    "EVENT_THRESHOLD = 2.52e-04\n",
    "\n",
    "START_DATE = \"20210101\"\n",
    "END_DATE = \"20241231\"\n",
    "\n",
    "# Build base name\n",
    "if SAMPLE_TYPE == \"dollar\":\n",
    "    SAMPLE_EVENT = f\"{DOLLAR_THRESHOLD}-dollar\"\n",
    "    RESAMPLED_NAME = f\"{SYMBOL}-{DOLLAR_THRESHOLD}-dollar-{START_DATE}-{END_DATE}\"\n",
    "else:\n",
    "    SAMPLE_EVENT = f\"{MINUTES}m\"\n",
    "    RESAMPLED_NAME = f\"{SYMBOL}-{MINUTES}m-{START_DATE}-{END_DATE}\"\n",
    "\n",
    "LABEL_NAME = f\"{RESAMPLED_NAME}-{EVENT_NAME}\"\n",
    "# Base directories\n",
    "BASE_DIR = Path(\"../data\")\n",
    "RESAMPLED_DIR = BASE_DIR / \"resampled\"\n",
    "LABEL_DIR = BASE_DIR / \"labels\"\n",
    "PROCESSED_DIR = BASE_DIR / \"processed\"\n",
    "NORMALIZED_DIR = BASE_DIR / \"normalized\"\n",
    "DIRECTION_LABEL_DIR = BASE_DIR / \"direction_labels\"\n",
    "PREDICTION_DIR = BASE_DIR / \"predictions\"\n",
    "\n",
    "# Final paths\n",
    "PROCESSED_FILE_PATH = PROCESSED_DIR / f\"{RESAMPLED_NAME}-processed.pkl\"\n",
    "NORMALIZED_FILE_PATH = NORMALIZED_DIR / f\"{RESAMPLED_NAME}-normalized.pkl\"\n",
    "DIRECTION_LABEL_FILE_PATH = DIRECTION_LABEL_DIR / f\"{RESAMPLED_NAME}-{EVENT_NAME}.pkl\"\n",
    "PREDICTION_FILE_PATH = PREDICTION_DIR / f\"{RESAMPLED_NAME}-{EVENT_NAME}.pkl\""
   ]
  },
  {
   "cell_type": "code",
   "execution_count": 3,
   "id": "99c5347b-167c-453a-830f-8155c4b4e3b6",
   "metadata": {},
   "outputs": [],
   "source": [
    "SEQUENCE_LENGTH = 120\n",
    "TIME_COLS = [\n",
    "    # 'timestamp',\n",
    "    \"hour\",\n",
    "    \"dow\",\n",
    "    \"dom\",\n",
    "    \"month\",\n",
    "    # \"open\",\n",
    "    # \"high\",\n",
    "    # \"low\",\n",
    "    # \"close\",\n",
    "]\n",
    "FEATURES_COLS = [\n",
    "    \"hour_cos\",\n",
    "    \"dow_cos\",\n",
    "    \"dom_cos\",\n",
    "    \"month_cos\",\n",
    "    \"close_log_return\",\n",
    "    \"ret_mean_5\",\n",
    "    \"ret_mean_10\",\n",
    "    # \"log_volume\",\n",
    "    \"ema5_slope\",\n",
    "    \"ema20_slope\",\n",
    "    \"ema100_slope\",\n",
    "    \"atr14\",\n",
    "    \"atr20\",\n",
    "    \"atr50\",\n",
    "    \"adx14\",\n",
    "    # \"vol_adj_return\",\n",
    "    \"close_to_atr\",\n",
    "    \"macd_diff\",\n",
    "    \"bb_width\",\n",
    "    \"bb_position\",\n",
    "    \"donchian_width\",\n",
    "]\n",
    "\n",
    "\n",
    "TARGET_COL = \"bin_class\""
   ]
  },
  {
   "cell_type": "code",
   "execution_count": 4,
   "id": "1a8b032d-ffc4-40ce-8ed0-30b6276a7196",
   "metadata": {},
   "outputs": [],
   "source": [
    "MODEL_NAME = \"simple_transformer\"\n",
    "V_NUM = 9\n",
    "MODEL_PATH = f'../lightning_logs/{MODEL_NAME}-{SAMPLE_EVENT}-{EVENT_NAME}/version_{V_NUM}/checkpoints/best_checkpoint.ckpt'"
   ]
  },
  {
   "cell_type": "code",
   "execution_count": 5,
   "id": "9b841255-94fc-480f-8ca3-bdfbf2a13e00",
   "metadata": {},
   "outputs": [],
   "source": [
    "SIDE_NAME = 'transformer_sides'\n",
    "\n",
    "META_LABEL_DIR = BASE_DIR / \"meta_labels\"\n",
    "META_LABEL_DIR.mkdir(parents=True, exist_ok=True)\n",
    "META_LABEL_FILE_PATH = META_LABEL_DIR / f\"{RESAMPLED_NAME}-{EVENT_NAME}-{SIDE_NAME}.pkl\""
   ]
  },
  {
   "cell_type": "code",
   "execution_count": 6,
   "id": "58f0f35f-e374-403b-896a-bd180e81d411",
   "metadata": {
    "scrolled": true
   },
   "outputs": [
    {
     "name": "stdout",
     "output_type": "stream",
     "text": [
      "CPU times: user 722 μs, sys: 54.8 ms, total: 55.5 ms\n",
      "Wall time: 55.2 ms\n"
     ]
    }
   ],
   "source": [
    "%%time\n",
    "df = pd.read_pickle(NORMALIZED_FILE_PATH)\n",
    "labels_df = pd.read_pickle(DIRECTION_LABEL_FILE_PATH)"
   ]
  },
  {
   "cell_type": "code",
   "execution_count": 7,
   "id": "d5dc1ece-8bdf-4557-b2eb-51bcf4023553",
   "metadata": {},
   "outputs": [
    {
     "data": {
      "text/plain": [
       "DatetimeIndex([], dtype='datetime64[ns]', name='timestamp', freq=None)"
      ]
     },
     "execution_count": 7,
     "metadata": {},
     "output_type": "execute_result"
    }
   ],
   "source": [
    "missing = labels_df.index.difference(df.index)\n",
    "missing"
   ]
  },
  {
   "cell_type": "markdown",
   "id": "ebf20bf4-ee54-43aa-8a24-6013ab52f787",
   "metadata": {},
   "source": [
    "### Load Model"
   ]
  },
  {
   "cell_type": "code",
   "execution_count": 8,
   "id": "6bfb86dd-b268-4f44-ab32-4c5a807379f3",
   "metadata": {},
   "outputs": [],
   "source": [
    "from models.classification.t2v_transformer_model import T2VTransformerModule\n",
    "from models.classification.simple_transformer_model import SimpleTransformerModule"
   ]
  },
  {
   "cell_type": "code",
   "execution_count": 9,
   "id": "2d363202-730c-4f75-b63e-3fec9698ce43",
   "metadata": {
    "scrolled": true
   },
   "outputs": [],
   "source": [
    "model = SimpleTransformerModule.load_from_checkpoint(MODEL_PATH)\n"
   ]
  },
  {
   "cell_type": "markdown",
   "id": "c86a700d-a3b9-4e20-a321-3853d0b82e3f",
   "metadata": {},
   "source": [
    "## Get Side from Trained Model"
   ]
  },
  {
   "cell_type": "code",
   "execution_count": 10,
   "id": "d4dffa4b-b572-4bfb-9b3e-4abb398afc8b",
   "metadata": {
    "scrolled": true
   },
   "outputs": [],
   "source": [
    "# features = df[TIME_COLS + FEATURES_COLS]\n",
    "features = df[FEATURES_COLS]"
   ]
  },
  {
   "cell_type": "code",
   "execution_count": 11,
   "id": "44495e15-afd0-4c4b-8d62-ec84ec61a125",
   "metadata": {},
   "outputs": [
    {
     "data": {
      "text/plain": [
       "(1487207, 19)"
      ]
     },
     "execution_count": 11,
     "metadata": {},
     "output_type": "execute_result"
    }
   ],
   "source": [
    "features.shape"
   ]
  },
  {
   "cell_type": "code",
   "execution_count": 12,
   "id": "125998d5-a7cf-447a-a5e5-aade6aa58300",
   "metadata": {},
   "outputs": [],
   "source": [
    "import pandas as pd\n",
    "import numpy as np\n",
    "import torch\n",
    "from tqdm import tqdm\n",
    "\n",
    "\n",
    "def extract_sequences(data: pd.DataFrame, t_events, lookback: int):\n",
    "    \"\"\"Extract valid sequences and events for batch processing.\"\"\"\n",
    "    sequences, valid_events = [], []\n",
    "    data_values, data_index = data.values.astype(np.float32), data.index\n",
    "    \n",
    "    for t in t_events:\n",
    "        try:\n",
    "            if t in data_index:\n",
    "                end_loc = data_index.get_loc(t)\n",
    "                start_loc = end_loc - lookback\n",
    "                if start_loc >= 0:\n",
    "                    seq = data_values[start_loc:end_loc]\n",
    "                    if len(seq) == lookback:\n",
    "                        sequences.append(seq)\n",
    "                        valid_events.append(t)\n",
    "        except:\n",
    "            continue\n",
    "    \n",
    "    return (np.stack(sequences), valid_events) if sequences else (None, [])\n",
    "\n",
    "def get_side_from_model_batch(model, data: pd.DataFrame, labels: pd.DataFrame, \n",
    "                             lookback: int = 24, device: str = 'cpu', batch_size: int = 64):\n",
    "    \"\"\"Batch process model predictions for time series events.\"\"\"\n",
    "    model.eval().to(device)\n",
    "    \n",
    "    sequences, valid_events = extract_sequences(data, labels.index, lookback)\n",
    "    if sequences is None:\n",
    "        return pd.DataFrame()\n",
    "    \n",
    "    predictions, probabilities = [], []\n",
    "    n_batches = (len(sequences) + batch_size - 1) // batch_size\n",
    "    \n",
    "    for i in tqdm(range(0, len(sequences), batch_size), total=n_batches, desc=\"Processing batches\"):\n",
    "        batch = sequences[i:i + batch_size]\n",
    "        x_tensor = torch.tensor(batch, device=device)\n",
    "        with torch.no_grad():\n",
    "            logits = model(x_tensor)\n",
    "            probs = torch.softmax(logits, dim=1)\n",
    "            predictions.extend(torch.argmax(logits, dim=1).cpu().numpy())\n",
    "            probabilities.extend(probs.cpu().numpy())\n",
    "\n",
    "    result_df = pd.DataFrame(probabilities, index=valid_events)\n",
    "    result_df.columns = [f'prob_{i}' for i in range(len(result_df.columns))]\n",
    "    result_df['prediction'] = predictions\n",
    "    result_df['side'] = result_df['prediction'] - 1\n",
    "    \n",
    "    return result_df"
   ]
  },
  {
   "cell_type": "code",
   "execution_count": 13,
   "id": "44f699e2-9f37-4fd0-883f-b60dd1641794",
   "metadata": {
    "scrolled": true
   },
   "outputs": [
    {
     "name": "stderr",
     "output_type": "stream",
     "text": [
      "Processing batches: 100%|███████████████████████████████████████████████████████████████████████████████████████████████████████████████| 231/231 [00:08<00:00, 27.85it/s]\n"
     ]
    },
    {
     "name": "stdout",
     "output_type": "stream",
     "text": [
      "side\n",
      " 1    85988\n",
      "-1    82069\n",
      " 0    67854\n",
      "Name: count, dtype: int64\n",
      "prob_0        0\n",
      "prob_1        0\n",
      "prob_2        0\n",
      "prediction    0\n",
      "side          0\n",
      "dtype: int64\n",
      "CPU times: user 1.54 s, sys: 468 ms, total: 2.01 s\n",
      "Wall time: 9.52 s\n"
     ]
    }
   ],
   "source": [
    "%%time\n",
    "predictions = get_side_from_model_batch(model=model, data=features,labels=labels_df, lookback=SEQUENCE_LENGTH, device='mps', batch_size=1024)\n",
    "print(predictions.side.value_counts())\n",
    "print(predictions.isna().sum())"
   ]
  },
  {
   "cell_type": "code",
   "execution_count": 14,
   "id": "8f40ebbb-df85-45f6-bafd-6d7ad54f3a5d",
   "metadata": {},
   "outputs": [],
   "source": [
    "labels_df = labels_df.join(predictions)"
   ]
  },
  {
   "cell_type": "code",
   "execution_count": 15,
   "id": "007854ed-31f6-4a5a-ab70-a0ba9587d654",
   "metadata": {},
   "outputs": [
    {
     "data": {
      "text/plain": [
       "(235929, 11)"
      ]
     },
     "execution_count": 15,
     "metadata": {},
     "output_type": "execute_result"
    }
   ],
   "source": [
    "labels_df.shape"
   ]
  },
  {
   "cell_type": "code",
   "execution_count": 16,
   "id": "b9ca686d-b8ca-4485-ae97-708fc18be9d7",
   "metadata": {},
   "outputs": [
    {
     "data": {
      "text/plain": [
       "t1             0\n",
       "trgt           0\n",
       "duration       0\n",
       "ret            0\n",
       "bin            0\n",
       "bin_class      0\n",
       "prob_0        18\n",
       "prob_1        18\n",
       "prob_2        18\n",
       "prediction    18\n",
       "side          18\n",
       "dtype: int64"
      ]
     },
     "execution_count": 16,
     "metadata": {},
     "output_type": "execute_result"
    }
   ],
   "source": [
    "labels_df.isna().sum()"
   ]
  },
  {
   "cell_type": "code",
   "execution_count": 17,
   "id": "7c237e18-0a64-42d0-9775-dc180dbd3d9b",
   "metadata": {},
   "outputs": [
    {
     "data": {
      "text/html": [
       "<div>\n",
       "<style scoped>\n",
       "    .dataframe tbody tr th:only-of-type {\n",
       "        vertical-align: middle;\n",
       "    }\n",
       "\n",
       "    .dataframe tbody tr th {\n",
       "        vertical-align: top;\n",
       "    }\n",
       "\n",
       "    .dataframe thead th {\n",
       "        text-align: right;\n",
       "    }\n",
       "</style>\n",
       "<table border=\"1\" class=\"dataframe\">\n",
       "  <thead>\n",
       "    <tr style=\"text-align: right;\">\n",
       "      <th></th>\n",
       "      <th>t1</th>\n",
       "      <th>trgt</th>\n",
       "      <th>duration</th>\n",
       "      <th>ret</th>\n",
       "      <th>bin</th>\n",
       "      <th>bin_class</th>\n",
       "      <th>prob_0</th>\n",
       "      <th>prob_1</th>\n",
       "      <th>prob_2</th>\n",
       "      <th>prediction</th>\n",
       "      <th>side</th>\n",
       "    </tr>\n",
       "    <tr>\n",
       "      <th>timestamp</th>\n",
       "      <th></th>\n",
       "      <th></th>\n",
       "      <th></th>\n",
       "      <th></th>\n",
       "      <th></th>\n",
       "      <th></th>\n",
       "      <th></th>\n",
       "      <th></th>\n",
       "      <th></th>\n",
       "      <th></th>\n",
       "      <th></th>\n",
       "    </tr>\n",
       "  </thead>\n",
       "  <tbody>\n",
       "    <tr>\n",
       "      <th>2021-01-04 01:45:00</th>\n",
       "      <td>2021-01-04 01:46:00</td>\n",
       "      <td>0.000128</td>\n",
       "      <td>0 days 00:01:00</td>\n",
       "      <td>0.000107</td>\n",
       "      <td>1.0</td>\n",
       "      <td>2.0</td>\n",
       "      <td>0.488415</td>\n",
       "      <td>0.043664</td>\n",
       "      <td>0.467921</td>\n",
       "      <td>0.0</td>\n",
       "      <td>-1.0</td>\n",
       "    </tr>\n",
       "    <tr>\n",
       "      <th>2021-01-04 01:50:00</th>\n",
       "      <td>2021-01-04 01:51:00</td>\n",
       "      <td>0.000131</td>\n",
       "      <td>0 days 00:01:00</td>\n",
       "      <td>0.000116</td>\n",
       "      <td>1.0</td>\n",
       "      <td>2.0</td>\n",
       "      <td>0.368446</td>\n",
       "      <td>0.276458</td>\n",
       "      <td>0.355096</td>\n",
       "      <td>0.0</td>\n",
       "      <td>-1.0</td>\n",
       "    </tr>\n",
       "    <tr>\n",
       "      <th>2021-01-04 02:01:00</th>\n",
       "      <td>2021-01-04 02:02:00</td>\n",
       "      <td>0.000121</td>\n",
       "      <td>0 days 00:01:00</td>\n",
       "      <td>0.000170</td>\n",
       "      <td>1.0</td>\n",
       "      <td>2.0</td>\n",
       "      <td>0.492392</td>\n",
       "      <td>0.017204</td>\n",
       "      <td>0.490404</td>\n",
       "      <td>0.0</td>\n",
       "      <td>-1.0</td>\n",
       "    </tr>\n",
       "    <tr>\n",
       "      <th>2021-01-04 02:23:00</th>\n",
       "      <td>2021-01-04 02:24:00</td>\n",
       "      <td>0.000108</td>\n",
       "      <td>0 days 00:01:00</td>\n",
       "      <td>-0.000150</td>\n",
       "      <td>-1.0</td>\n",
       "      <td>0.0</td>\n",
       "      <td>0.455966</td>\n",
       "      <td>0.096449</td>\n",
       "      <td>0.447585</td>\n",
       "      <td>0.0</td>\n",
       "      <td>-1.0</td>\n",
       "    </tr>\n",
       "    <tr>\n",
       "      <th>2021-01-04 02:41:00</th>\n",
       "      <td>2021-01-04 02:42:00</td>\n",
       "      <td>0.000115</td>\n",
       "      <td>0 days 00:01:00</td>\n",
       "      <td>0.000117</td>\n",
       "      <td>1.0</td>\n",
       "      <td>2.0</td>\n",
       "      <td>0.467906</td>\n",
       "      <td>0.073297</td>\n",
       "      <td>0.458797</td>\n",
       "      <td>0.0</td>\n",
       "      <td>-1.0</td>\n",
       "    </tr>\n",
       "  </tbody>\n",
       "</table>\n",
       "</div>"
      ],
      "text/plain": [
       "                                     t1      trgt        duration       ret  \\\n",
       "timestamp                                                                     \n",
       "2021-01-04 01:45:00 2021-01-04 01:46:00  0.000128 0 days 00:01:00  0.000107   \n",
       "2021-01-04 01:50:00 2021-01-04 01:51:00  0.000131 0 days 00:01:00  0.000116   \n",
       "2021-01-04 02:01:00 2021-01-04 02:02:00  0.000121 0 days 00:01:00  0.000170   \n",
       "2021-01-04 02:23:00 2021-01-04 02:24:00  0.000108 0 days 00:01:00 -0.000150   \n",
       "2021-01-04 02:41:00 2021-01-04 02:42:00  0.000115 0 days 00:01:00  0.000117   \n",
       "\n",
       "                     bin  bin_class    prob_0    prob_1    prob_2  prediction  \\\n",
       "timestamp                                                                       \n",
       "2021-01-04 01:45:00  1.0        2.0  0.488415  0.043664  0.467921         0.0   \n",
       "2021-01-04 01:50:00  1.0        2.0  0.368446  0.276458  0.355096         0.0   \n",
       "2021-01-04 02:01:00  1.0        2.0  0.492392  0.017204  0.490404         0.0   \n",
       "2021-01-04 02:23:00 -1.0        0.0  0.455966  0.096449  0.447585         0.0   \n",
       "2021-01-04 02:41:00  1.0        2.0  0.467906  0.073297  0.458797         0.0   \n",
       "\n",
       "                     side  \n",
       "timestamp                  \n",
       "2021-01-04 01:45:00  -1.0  \n",
       "2021-01-04 01:50:00  -1.0  \n",
       "2021-01-04 02:01:00  -1.0  \n",
       "2021-01-04 02:23:00  -1.0  \n",
       "2021-01-04 02:41:00  -1.0  "
      ]
     },
     "execution_count": 17,
     "metadata": {},
     "output_type": "execute_result"
    }
   ],
   "source": [
    "labels_df = labels_df.dropna().copy()\n",
    "labels_df.head()"
   ]
  },
  {
   "cell_type": "code",
   "execution_count": 18,
   "id": "b7a190f1-1a32-49c2-92e0-abf8e995f781",
   "metadata": {},
   "outputs": [],
   "source": [
    "labels_df['confidence'] = labels_df.apply(\n",
    "    lambda x: x[f\"prob_{int(x['prediction'])}\"], axis=1\n",
    ")\n"
   ]
  },
  {
   "cell_type": "code",
   "execution_count": 19,
   "id": "a318c052-c028-41d1-9a58-421e06d60d87",
   "metadata": {},
   "outputs": [
    {
     "data": {
      "image/png": "[encoded data removed]",
      "text/plain": [
       "<Figure size 800x400 with 1 Axes>"
      ]
     },
     "metadata": {},
     "output_type": "display_data"
    }
   ],
   "source": [
    "labels_df['confidence'].hist(bins=30, figsize=(8,4))\n",
    "plt.xlabel(\"Confidence\")\n",
    "plt.ylabel(\"Frequency\")\n",
    "plt.title(\"Distribution of Confidence\")\n",
    "plt.show()\n"
   ]
  },
  {
   "cell_type": "code",
   "execution_count": 20,
   "id": "b809810a-f273-48fe-aa43-910b52a1d7b3",
   "metadata": {
    "scrolled": true
   },
   "outputs": [
    {
     "data": {
      "image/png": "[encoded data removed]",
      "text/plain": [
       "<Figure size 800x500 with 1 Axes>"
      ]
     },
     "metadata": {},
     "output_type": "display_data"
    }
   ],
   "source": [
    "import seaborn as sns\n",
    "\n",
    "plt.figure(figsize=(8,5))\n",
    "sns.boxplot(x=\"prediction\", y=\"confidence\", data=labels_df)\n",
    "plt.title(\"Confidence by Predicted Class\")\n",
    "plt.show()\n"
   ]
  },
  {
   "cell_type": "code",
   "execution_count": 21,
   "id": "6ecc065a-736a-4d4f-a209-1cdd7c27af5b",
   "metadata": {},
   "outputs": [
    {
     "data": {
      "text/plain": [
       "bin_class\n",
       "2.0    0.381110\n",
       "0.0    0.371076\n",
       "1.0    0.247814\n",
       "Name: proportion, dtype: float64"
      ]
     },
     "execution_count": 21,
     "metadata": {},
     "output_type": "execute_result"
    }
   ],
   "source": [
    "labels_df['bin_class'].value_counts(normalize=True)\n"
   ]
  },
  {
   "cell_type": "code",
   "execution_count": 22,
   "id": "af726a7d-6d65-4394-8ec8-6a16c59641cb",
   "metadata": {},
   "outputs": [],
   "source": [
    "labels_df = labels_df.dropna()"
   ]
  },
  {
   "cell_type": "code",
   "execution_count": 23,
   "id": "67240b2c-e04a-4394-aec2-bc3d3c287f03",
   "metadata": {},
   "outputs": [
    {
     "data": {
      "image/png": "[encoded data removed]",
      "text/plain": [
       "<Figure size 600x500 with 2 Axes>"
      ]
     },
     "metadata": {},
     "output_type": "display_data"
    }
   ],
   "source": [
    "import pandas as pd\n",
    "import matplotlib.pyplot as plt\n",
    "import seaborn as sns\n",
    "from sklearn.metrics import confusion_matrix\n",
    "\n",
    "# 將類別轉為整數型別\n",
    "y_true = labels_df[\"bin_class\"].astype(int)\n",
    "y_pred = labels_df[\"prediction\"].astype(int)\n",
    "\n",
    "# 計算混淆矩陣\n",
    "cm = confusion_matrix(y_true, y_pred, labels=[0, 1, 2])\n",
    "labels = [\"Class 0\", \"Class 1\", \"Class 2\"]\n",
    "\n",
    "# 繪圖\n",
    "plt.figure(figsize=(6, 5))\n",
    "sns.heatmap(cm, annot=True, fmt=\"d\", cmap=\"Blues\", xticklabels=labels, yticklabels=labels)\n",
    "plt.xlabel(\"Predicted\")\n",
    "plt.ylabel(\"True\")\n",
    "plt.title(\"Confusion Matrix: bin_class vs pred_side\")\n",
    "plt.tight_layout()\n",
    "plt.show()\n"
   ]
  },
  {
   "cell_type": "code",
   "execution_count": 24,
   "id": "49e7aa91-938e-4c33-896e-6dcaeac97d54",
   "metadata": {},
   "outputs": [],
   "source": [
    "labels_df.to_pickle(PREDICTION_FILE_PATH)"
   ]
  },
  {
   "cell_type": "code",
   "execution_count": 25,
   "id": "093bf7c9-23f5-4d6d-8ecd-599acc8b1207",
   "metadata": {
    "jp-MarkdownHeadingCollapsed": true
   },
   "outputs": [
    {
     "data": {
      "text/plain": [
       "Index(['t1', 'trgt', 'duration', 'ret', 'bin', 'bin_class', 'prob_0', 'prob_1',\n",
       "       'prob_2', 'prediction', 'side', 'confidence'],\n",
       "      dtype='object')"
      ]
     },
     "execution_count": 25,
     "metadata": {},
     "output_type": "execute_result"
    }
   ],
   "source": [
    "labels_df.columns"
   ]
  }
 ],
 "metadata": {
  "kernelspec": {
   "display_name": "Python 3 (ipykernel)",
   "language": "python",
   "name": "python3"
  },
  "language_info": {
   "codemirror_mode": {
    "name": "ipython",
    "version": 3
   },
   "file_extension": ".py",
   "mimetype": "text/x-python",
   "name": "python",
   "nbconvert_exporter": "python",
   "pygments_lexer": "ipython3",
   "version": "3.11.13"
  }
 },
 "nbformat": 4,
 "nbformat_minor": 5
}
